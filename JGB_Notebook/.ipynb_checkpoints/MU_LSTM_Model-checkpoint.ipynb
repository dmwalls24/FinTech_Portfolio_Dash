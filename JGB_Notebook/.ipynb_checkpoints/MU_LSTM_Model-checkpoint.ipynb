{
 "cells": [
  {
   "cell_type": "markdown",
   "id": "20e1cc7e-eb66-4644-994c-d2c3d987a806",
   "metadata": {},
   "source": [
    "window = 100\n",
    "epoch = 20\n",
    "batch = 100\n",
    "dropout = .02"
   ]
  },
  {
   "cell_type": "code",
   "execution_count": 1,
   "id": "9bd3e200-7872-44f6-9253-2bf18300aea5",
   "metadata": {},
   "outputs": [],
   "source": [
    "import os\n",
    "import numpy as np\n",
    "import pandas as pd\n",
    "import matplotlib.pyplot as plt\n",
    "import alpaca_trade_api as tradeapi\n",
    "from pathlib import Path\n",
    "import requests\n",
    "\n",
    "%matplotlib inline"
   ]
  },
  {
   "cell_type": "code",
   "execution_count": 2,
   "id": "1b011e02-1faf-4f8e-b5a5-df3ad579cb03",
   "metadata": {},
   "outputs": [
    {
     "name": "stdout",
     "output_type": "stream",
     "text": [
      "/Users/josephbarry/Desktop/FinTech_Class/3rd_Project/FinTech_Portfolio_Dash/JGB_Notebook\n"
     ]
    }
   ],
   "source": [
    "!pwd"
   ]
  },
  {
   "cell_type": "code",
   "execution_count": 3,
   "id": "b4c95e9c-54f0-4fb0-aebd-557ded9b6c72",
   "metadata": {},
   "outputs": [
    {
     "data": {
      "text/html": [
       "<div>\n",
       "<style scoped>\n",
       "    .dataframe tbody tr th:only-of-type {\n",
       "        vertical-align: middle;\n",
       "    }\n",
       "\n",
       "    .dataframe tbody tr th {\n",
       "        vertical-align: top;\n",
       "    }\n",
       "\n",
       "    .dataframe thead th {\n",
       "        text-align: right;\n",
       "    }\n",
       "</style>\n",
       "<table border=\"1\" class=\"dataframe\">\n",
       "  <thead>\n",
       "    <tr style=\"text-align: right;\">\n",
       "      <th></th>\n",
       "      <th>Open</th>\n",
       "      <th>High</th>\n",
       "      <th>Low</th>\n",
       "      <th>Close</th>\n",
       "      <th>Adj Close</th>\n",
       "      <th>Volume</th>\n",
       "    </tr>\n",
       "    <tr>\n",
       "      <th>Date</th>\n",
       "      <th></th>\n",
       "      <th></th>\n",
       "      <th></th>\n",
       "      <th></th>\n",
       "      <th></th>\n",
       "      <th></th>\n",
       "    </tr>\n",
       "  </thead>\n",
       "  <tbody>\n",
       "    <tr>\n",
       "      <th>2011-08-16</th>\n",
       "      <td>6.41</td>\n",
       "      <td>6.47</td>\n",
       "      <td>6.19</td>\n",
       "      <td>6.29</td>\n",
       "      <td>6.29</td>\n",
       "      <td>20070200</td>\n",
       "    </tr>\n",
       "    <tr>\n",
       "      <th>2011-08-17</th>\n",
       "      <td>6.35</td>\n",
       "      <td>6.41</td>\n",
       "      <td>6.07</td>\n",
       "      <td>6.11</td>\n",
       "      <td>6.11</td>\n",
       "      <td>29669900</td>\n",
       "    </tr>\n",
       "    <tr>\n",
       "      <th>2011-08-18</th>\n",
       "      <td>5.88</td>\n",
       "      <td>5.89</td>\n",
       "      <td>5.60</td>\n",
       "      <td>5.64</td>\n",
       "      <td>5.64</td>\n",
       "      <td>45540000</td>\n",
       "    </tr>\n",
       "    <tr>\n",
       "      <th>2011-08-19</th>\n",
       "      <td>5.50</td>\n",
       "      <td>5.66</td>\n",
       "      <td>5.20</td>\n",
       "      <td>5.25</td>\n",
       "      <td>5.25</td>\n",
       "      <td>49901300</td>\n",
       "    </tr>\n",
       "    <tr>\n",
       "      <th>2011-08-22</th>\n",
       "      <td>5.41</td>\n",
       "      <td>5.52</td>\n",
       "      <td>5.22</td>\n",
       "      <td>5.26</td>\n",
       "      <td>5.26</td>\n",
       "      <td>35010000</td>\n",
       "    </tr>\n",
       "  </tbody>\n",
       "</table>\n",
       "</div>"
      ],
      "text/plain": [
       "            Open  High   Low  Close  Adj Close    Volume\n",
       "Date                                                    \n",
       "2011-08-16  6.41  6.47  6.19   6.29       6.29  20070200\n",
       "2011-08-17  6.35  6.41  6.07   6.11       6.11  29669900\n",
       "2011-08-18  5.88  5.89  5.60   5.64       5.64  45540000\n",
       "2011-08-19  5.50  5.66  5.20   5.25       5.25  49901300\n",
       "2011-08-22  5.41  5.52  5.22   5.26       5.26  35010000"
      ]
     },
     "execution_count": 3,
     "metadata": {},
     "output_type": "execute_result"
    }
   ],
   "source": [
    "csvpath = Path(\"MU.csv\")\n",
    "\n",
    "df = pd.read_csv(csvpath, index_col='Date', infer_datetime_format=True, parse_dates=True)\n",
    "df.head()"
   ]
  },
  {
   "cell_type": "code",
   "execution_count": 4,
   "id": "1e157221-4c40-49ed-b20b-8b837ea84679",
   "metadata": {},
   "outputs": [
    {
     "data": {
      "text/html": [
       "<div>\n",
       "<style scoped>\n",
       "    .dataframe tbody tr th:only-of-type {\n",
       "        vertical-align: middle;\n",
       "    }\n",
       "\n",
       "    .dataframe tbody tr th {\n",
       "        vertical-align: top;\n",
       "    }\n",
       "\n",
       "    .dataframe thead th {\n",
       "        text-align: right;\n",
       "    }\n",
       "</style>\n",
       "<table border=\"1\" class=\"dataframe\">\n",
       "  <thead>\n",
       "    <tr style=\"text-align: right;\">\n",
       "      <th></th>\n",
       "      <th>Close</th>\n",
       "    </tr>\n",
       "    <tr>\n",
       "      <th>Date</th>\n",
       "      <th></th>\n",
       "    </tr>\n",
       "  </thead>\n",
       "  <tbody>\n",
       "    <tr>\n",
       "      <th>2011-08-16</th>\n",
       "      <td>6.290000</td>\n",
       "    </tr>\n",
       "    <tr>\n",
       "      <th>2011-08-17</th>\n",
       "      <td>6.110000</td>\n",
       "    </tr>\n",
       "    <tr>\n",
       "      <th>2011-08-18</th>\n",
       "      <td>5.640000</td>\n",
       "    </tr>\n",
       "    <tr>\n",
       "      <th>2011-08-19</th>\n",
       "      <td>5.250000</td>\n",
       "    </tr>\n",
       "    <tr>\n",
       "      <th>2011-08-22</th>\n",
       "      <td>5.260000</td>\n",
       "    </tr>\n",
       "    <tr>\n",
       "      <th>...</th>\n",
       "      <td>...</td>\n",
       "    </tr>\n",
       "    <tr>\n",
       "      <th>2021-08-09</th>\n",
       "      <td>80.209999</td>\n",
       "    </tr>\n",
       "    <tr>\n",
       "      <th>2021-08-10</th>\n",
       "      <td>75.910004</td>\n",
       "    </tr>\n",
       "    <tr>\n",
       "      <th>2021-08-11</th>\n",
       "      <td>75.029999</td>\n",
       "    </tr>\n",
       "    <tr>\n",
       "      <th>2021-08-12</th>\n",
       "      <td>70.250000</td>\n",
       "    </tr>\n",
       "    <tr>\n",
       "      <th>2021-08-13</th>\n",
       "      <td>70.919998</td>\n",
       "    </tr>\n",
       "  </tbody>\n",
       "</table>\n",
       "<p>2516 rows × 1 columns</p>\n",
       "</div>"
      ],
      "text/plain": [
       "                Close\n",
       "Date                 \n",
       "2011-08-16   6.290000\n",
       "2011-08-17   6.110000\n",
       "2011-08-18   5.640000\n",
       "2011-08-19   5.250000\n",
       "2011-08-22   5.260000\n",
       "...               ...\n",
       "2021-08-09  80.209999\n",
       "2021-08-10  75.910004\n",
       "2021-08-11  75.029999\n",
       "2021-08-12  70.250000\n",
       "2021-08-13  70.919998\n",
       "\n",
       "[2516 rows x 1 columns]"
      ]
     },
     "execution_count": 4,
     "metadata": {},
     "output_type": "execute_result"
    }
   ],
   "source": [
    "df = df[['Close']]\n",
    "df"
   ]
  },
  {
   "cell_type": "code",
   "execution_count": 5,
   "id": "ab040008-7f46-4dd5-9f3e-be5a1fb4ed78",
   "metadata": {},
   "outputs": [],
   "source": [
    "def window_data(df, window, feature_col_number, target_col_number):\n",
    "    X = []\n",
    "    y = []\n",
    "    for i in range(len(df) - window- 1):\n",
    "        features = df.iloc[i : (i + window), feature_col_number]\n",
    "        target = df.iloc[(i + window), target_col_number]\n",
    "        X.append(features)\n",
    "        y.append(target)\n",
    "    return np.array(X), np.array(y).reshape(-1, 1)"
   ]
  },
  {
   "cell_type": "code",
   "execution_count": 6,
   "id": "5ba0b2c2-ae73-43ea-864b-4836c6aa1e25",
   "metadata": {},
   "outputs": [
    {
     "name": "stdout",
     "output_type": "stream",
     "text": [
      "X sample values:\n",
      "[[6.29 6.11 5.64 5.25 5.26 5.66 5.3  5.38 5.66 6.15 5.95 5.91 5.74 5.5\n",
      "  5.67 6.06 6.25 6.35 6.69 6.86 7.2  7.04 7.03 6.88 6.85 6.61 6.43 6.65\n",
      "  6.58 6.46 6.12 5.87 5.04 4.33 4.52 4.95 4.96 4.95 5.16 5.2  5.2  5.52\n",
      "  5.7  5.44 5.77 5.53 5.59 5.46 5.66 5.49 5.47 5.7  5.88 5.59 5.29 5.43\n",
      "  5.84 5.89 5.85 5.91 5.35 5.18 5.43 5.35 5.46 6.74 6.33 6.29 6.09 6.1\n",
      "  5.71 5.5  5.62 5.64 5.99 5.89 5.8  5.73 5.65 6.06 5.82 5.89 5.82 5.61\n",
      "  5.45 5.55 5.68 5.45 5.79 5.54 6.41 6.4  6.25 6.17 6.27 6.29 6.76 6.99\n",
      "  7.16 7.2 ]\n",
      " [6.11 5.64 5.25 5.26 5.66 5.3  5.38 5.66 6.15 5.95 5.91 5.74 5.5  5.67\n",
      "  6.06 6.25 6.35 6.69 6.86 7.2  7.04 7.03 6.88 6.85 6.61 6.43 6.65 6.58\n",
      "  6.46 6.12 5.87 5.04 4.33 4.52 4.95 4.96 4.95 5.16 5.2  5.2  5.52 5.7\n",
      "  5.44 5.77 5.53 5.59 5.46 5.66 5.49 5.47 5.7  5.88 5.59 5.29 5.43 5.84\n",
      "  5.89 5.85 5.91 5.35 5.18 5.43 5.35 5.46 6.74 6.33 6.29 6.09 6.1  5.71\n",
      "  5.5  5.62 5.64 5.99 5.89 5.8  5.73 5.65 6.06 5.82 5.89 5.82 5.61 5.45\n",
      "  5.55 5.68 5.45 5.79 5.54 6.41 6.4  6.25 6.17 6.27 6.29 6.76 6.99 7.16\n",
      "  7.2  7.29]\n",
      " [5.64 5.25 5.26 5.66 5.3  5.38 5.66 6.15 5.95 5.91 5.74 5.5  5.67 6.06\n",
      "  6.25 6.35 6.69 6.86 7.2  7.04 7.03 6.88 6.85 6.61 6.43 6.65 6.58 6.46\n",
      "  6.12 5.87 5.04 4.33 4.52 4.95 4.96 4.95 5.16 5.2  5.2  5.52 5.7  5.44\n",
      "  5.77 5.53 5.59 5.46 5.66 5.49 5.47 5.7  5.88 5.59 5.29 5.43 5.84 5.89\n",
      "  5.85 5.91 5.35 5.18 5.43 5.35 5.46 6.74 6.33 6.29 6.09 6.1  5.71 5.5\n",
      "  5.62 5.64 5.99 5.89 5.8  5.73 5.65 6.06 5.82 5.89 5.82 5.61 5.45 5.55\n",
      "  5.68 5.45 5.79 5.54 6.41 6.4  6.25 6.17 6.27 6.29 6.76 6.99 7.16 7.2\n",
      "  7.29 7.25]] \n",
      "\n",
      "y sample values:\n",
      "[[7.29]\n",
      " [7.25]\n",
      " [7.22]]\n"
     ]
    }
   ],
   "source": [
    "window_size = 100\n",
    "feature_column = 0 # why 0?\n",
    "target_column = 0 # Why 0?\n",
    "\n",
    "X, y = window_data(df, window_size, feature_column, target_column)\n",
    "\n",
    "print (f\"X sample values:\\n{X[:3]} \\n\")\n",
    "print (f\"y sample values:\\n{y[:3]}\")"
   ]
  },
  {
   "cell_type": "code",
   "execution_count": 7,
   "id": "436bb165-bc49-4601-bc70-9707571ee576",
   "metadata": {},
   "outputs": [],
   "source": [
    "split = int(0.6 * len(X))\n",
    "\n",
    "X_train = X[: split]\n",
    "X_test = X[split:]\n",
    "\n",
    "y_train = y[: split]\n",
    "y_test = y[split:]"
   ]
  },
  {
   "cell_type": "code",
   "execution_count": 8,
   "id": "53348636-b9fe-428d-a8ec-158ac0601c29",
   "metadata": {},
   "outputs": [],
   "source": [
    "# Importing the MinMaxScaler from sklearn\n",
    "from sklearn.preprocessing import MinMaxScaler\n",
    "\n",
    "x_train_scaler = MinMaxScaler()\n",
    "#x_test_scaler = MinMaxScaler()\n",
    "y_train_scaler = MinMaxScaler()\n",
    "#y_test_scaler = MinMaxScaler()\n",
    "\n",
    "# Fit the scaler for the training Data\n",
    "x_train_scaler.fit(X_train)\n",
    "y_train_scaler.fit(y_train)\n",
    "\n",
    "# Scale the training data\n",
    "X_train = x_train_scaler.transform(X_train)\n",
    "y_train = y_train_scaler.transform(y_train)\n",
    "\n",
    "# Fit the scaler for the testing Data\n",
    "#x_test_scaler.fit(X_test)\n",
    "#y_test_scaler.fit(y_test)\n",
    "\n",
    "# Scale the y_test data\n",
    "X_test = x_train_scaler.transform(X_test)\n",
    "y_test = y_train_scaler.transform(y_test)"
   ]
  },
  {
   "cell_type": "code",
   "execution_count": 9,
   "id": "b63375fa-983c-402c-915a-942f4319c1d9",
   "metadata": {},
   "outputs": [],
   "source": [
    "# Reshape the features data\n",
    "X_train = X_train.reshape((X_train.shape[0], X_train.shape[1], 1))\n",
    "X_test = X_test.reshape((X_test.shape[0], X_test.shape[1], 1))"
   ]
  },
  {
   "cell_type": "code",
   "execution_count": 10,
   "id": "ee1e6032-99d2-4b08-ac4e-27c3bbb6fe42",
   "metadata": {},
   "outputs": [],
   "source": [
    "# Importing required Keras modules\n",
    "from tensorflow.keras.models import Sequential\n",
    "from tensorflow.keras.layers import LSTM, Dense, Dropout"
   ]
  },
  {
   "cell_type": "code",
   "execution_count": 11,
   "id": "14c509a8-8c48-4672-8d0d-e31f2340496d",
   "metadata": {},
   "outputs": [],
   "source": [
    "# Define the LSTM RNN model.\n",
    "model = Sequential()\n",
    "\n",
    "# Initial model setup\n",
    "number_units = window_size\n",
    "# 20% of neurons to be dropped out\n",
    "dropout_fraction = 0.2\n",
    "\n",
    "# Layer 1\n",
    "model.add(LSTM(\n",
    "    units=number_units,\n",
    "    return_sequences=True,\n",
    "    input_shape=(X_train.shape[1], 1))\n",
    "    )\n",
    "model.add(Dropout(dropout_fraction))\n",
    "\n",
    "# Layer 2\n",
    "model.add(LSTM(units=number_units, return_sequences=True))\n",
    "model.add(Dropout(dropout_fraction))\n",
    "\n",
    "# Layer 3\n",
    "model.add(LSTM(units=number_units))\n",
    "model.add(Dropout(dropout_fraction))\n",
    "\n",
    "# Output layer\n",
    "model.add(Dense(1))"
   ]
  },
  {
   "cell_type": "code",
   "execution_count": 12,
   "id": "ca3ad31e-350c-4509-9079-ab40c7c47e1b",
   "metadata": {},
   "outputs": [
    {
     "name": "stdout",
     "output_type": "stream",
     "text": [
      "Model: \"sequential\"\n",
      "_________________________________________________________________\n",
      "Layer (type)                 Output Shape              Param #   \n",
      "=================================================================\n",
      "lstm (LSTM)                  (None, 100, 100)          40800     \n",
      "_________________________________________________________________\n",
      "dropout (Dropout)            (None, 100, 100)          0         \n",
      "_________________________________________________________________\n",
      "lstm_1 (LSTM)                (None, 100, 100)          80400     \n",
      "_________________________________________________________________\n",
      "dropout_1 (Dropout)          (None, 100, 100)          0         \n",
      "_________________________________________________________________\n",
      "lstm_2 (LSTM)                (None, 100)               80400     \n",
      "_________________________________________________________________\n",
      "dropout_2 (Dropout)          (None, 100)               0         \n",
      "_________________________________________________________________\n",
      "dense (Dense)                (None, 1)                 101       \n",
      "=================================================================\n",
      "Total params: 201,701\n",
      "Trainable params: 201,701\n",
      "Non-trainable params: 0\n",
      "_________________________________________________________________\n"
     ]
    }
   ],
   "source": [
    "model.compile(optimizer=\"adam\", loss=\"mean_squared_error\")\n",
    "model.summary()"
   ]
  },
  {
   "cell_type": "code",
   "execution_count": 13,
   "id": "98d4d8b6-5051-4f5c-a404-9411c3990ee5",
   "metadata": {},
   "outputs": [
    {
     "name": "stdout",
     "output_type": "stream",
     "text": [
      "Epoch 1/20\n",
      "15/15 [==============================] - 1s 81ms/step - loss: 0.0082\n",
      "Epoch 2/20\n",
      "15/15 [==============================] - 1s 77ms/step - loss: 0.0188\n",
      "Epoch 3/20\n",
      "15/15 [==============================] - 1s 78ms/step - loss: 0.0287\n",
      "Epoch 4/20\n",
      "15/15 [==============================] - 1s 78ms/step - loss: 0.0054\n",
      "Epoch 5/20\n",
      "15/15 [==============================] - 1s 77ms/step - loss: 0.0035\n",
      "Epoch 6/20\n",
      "15/15 [==============================] - 1s 74ms/step - loss: 0.0047\n",
      "Epoch 7/20\n",
      "15/15 [==============================] - 1s 83ms/step - loss: 0.0026\n",
      "Epoch 8/20\n",
      "15/15 [==============================] - 1s 95ms/step - loss: 0.0022\n",
      "Epoch 9/20\n",
      "15/15 [==============================] - 1s 79ms/step - loss: 0.0023\n",
      "Epoch 10/20\n",
      "15/15 [==============================] - 1s 77ms/step - loss: 0.0029\n",
      "Epoch 11/20\n",
      "15/15 [==============================] - 1s 75ms/step - loss: 0.0027\n",
      "Epoch 12/20\n",
      "15/15 [==============================] - 1s 77ms/step - loss: 0.0022\n",
      "Epoch 13/20\n",
      "15/15 [==============================] - 1s 80ms/step - loss: 0.0029\n",
      "Epoch 14/20\n",
      "15/15 [==============================] - 1s 75ms/step - loss: 0.0032\n",
      "Epoch 15/20\n",
      "15/15 [==============================] - 1s 83ms/step - loss: 0.0022\n",
      "Epoch 16/20\n",
      "15/15 [==============================] - 1s 83ms/step - loss: 0.0022\n",
      "Epoch 17/20\n",
      "15/15 [==============================] - 1s 91ms/step - loss: 0.0024\n",
      "Epoch 18/20\n",
      "15/15 [==============================] - 1s 77ms/step - loss: 0.0028\n",
      "Epoch 19/20\n",
      "15/15 [==============================] - 1s 75ms/step - loss: 0.0027\n",
      "Epoch 20/20\n",
      "15/15 [==============================] - 1s 73ms/step - loss: 0.0026\n"
     ]
    },
    {
     "data": {
      "text/plain": [
       "<tensorflow.python.keras.callbacks.History at 0x16d143d90>"
      ]
     },
     "execution_count": 13,
     "metadata": {},
     "output_type": "execute_result"
    }
   ],
   "source": [
    "model.fit(X_train, y_train, epochs=20, shuffle=False, batch_size=100, verbose=1)"
   ]
  },
  {
   "cell_type": "code",
   "execution_count": 14,
   "id": "77811ad8-d192-4377-806b-50c93b926e23",
   "metadata": {},
   "outputs": [
    {
     "data": {
      "text/plain": [
       "0.16743412613868713"
      ]
     },
     "execution_count": 14,
     "metadata": {},
     "output_type": "execute_result"
    }
   ],
   "source": [
    "model.evaluate(X_test, y_test, verbose=0)"
   ]
  },
  {
   "cell_type": "code",
   "execution_count": 15,
   "id": "1e19dbdb-be46-4de7-9990-81817a2d20ec",
   "metadata": {},
   "outputs": [],
   "source": [
    "predicted = model.predict(X_test)"
   ]
  },
  {
   "cell_type": "code",
   "execution_count": 16,
   "id": "0352cee8-4b2e-472e-901a-4ccbe0dde4a1",
   "metadata": {},
   "outputs": [],
   "source": [
    "predicted_prices = y_train_scaler.inverse_transform(predicted)"
   ]
  },
  {
   "cell_type": "code",
   "execution_count": 17,
   "id": "0efe296d-4fdc-473e-9cfd-4009b7deb178",
   "metadata": {},
   "outputs": [],
   "source": [
    "real_prices = y_train_scaler.inverse_transform(y_test.reshape(-1,1))"
   ]
  },
  {
   "cell_type": "code",
   "execution_count": 18,
   "id": "ca32f9db-ed61-45f8-bb0c-060c825f762e",
   "metadata": {},
   "outputs": [
    {
     "data": {
      "text/html": [
       "<div>\n",
       "<style scoped>\n",
       "    .dataframe tbody tr th:only-of-type {\n",
       "        vertical-align: middle;\n",
       "    }\n",
       "\n",
       "    .dataframe tbody tr th {\n",
       "        vertical-align: top;\n",
       "    }\n",
       "\n",
       "    .dataframe thead th {\n",
       "        text-align: right;\n",
       "    }\n",
       "</style>\n",
       "<table border=\"1\" class=\"dataframe\">\n",
       "  <thead>\n",
       "    <tr style=\"text-align: right;\">\n",
       "      <th></th>\n",
       "      <th>Actual</th>\n",
       "      <th>Predicted</th>\n",
       "    </tr>\n",
       "    <tr>\n",
       "      <th>Date</th>\n",
       "      <th></th>\n",
       "      <th></th>\n",
       "    </tr>\n",
       "  </thead>\n",
       "  <tbody>\n",
       "    <tr>\n",
       "      <th>2017-10-12</th>\n",
       "      <td>41.610001</td>\n",
       "      <td>33.828270</td>\n",
       "    </tr>\n",
       "    <tr>\n",
       "      <th>2017-10-13</th>\n",
       "      <td>40.580002</td>\n",
       "      <td>34.122353</td>\n",
       "    </tr>\n",
       "    <tr>\n",
       "      <th>2017-10-16</th>\n",
       "      <td>40.400002</td>\n",
       "      <td>34.388111</td>\n",
       "    </tr>\n",
       "    <tr>\n",
       "      <th>2017-10-17</th>\n",
       "      <td>41.490002</td>\n",
       "      <td>34.610458</td>\n",
       "    </tr>\n",
       "    <tr>\n",
       "      <th>2017-10-18</th>\n",
       "      <td>40.389999</td>\n",
       "      <td>34.804520</td>\n",
       "    </tr>\n",
       "  </tbody>\n",
       "</table>\n",
       "</div>"
      ],
      "text/plain": [
       "               Actual  Predicted\n",
       "Date                            \n",
       "2017-10-12  41.610001  33.828270\n",
       "2017-10-13  40.580002  34.122353\n",
       "2017-10-16  40.400002  34.388111\n",
       "2017-10-17  41.490002  34.610458\n",
       "2017-10-18  40.389999  34.804520"
      ]
     },
     "execution_count": 18,
     "metadata": {},
     "output_type": "execute_result"
    }
   ],
   "source": [
    "actual_predicted = pd.DataFrame({\n",
    "    \"Actual\": real_prices.ravel(),\n",
    "    \"Predicted\": predicted_prices.ravel()\n",
    "}, index = df.index[-len(real_prices): ]) \n",
    "\n",
    "# Show the DataFrame's head\n",
    "actual_predicted.head()"
   ]
  },
  {
   "cell_type": "code",
   "execution_count": 19,
   "id": "6cd66749-d0bf-4790-b7ae-b96c207c3ecd",
   "metadata": {},
   "outputs": [
    {
     "data": {
      "text/html": [
       "<div>\n",
       "<style scoped>\n",
       "    .dataframe tbody tr th:only-of-type {\n",
       "        vertical-align: middle;\n",
       "    }\n",
       "\n",
       "    .dataframe tbody tr th {\n",
       "        vertical-align: top;\n",
       "    }\n",
       "\n",
       "    .dataframe thead th {\n",
       "        text-align: right;\n",
       "    }\n",
       "</style>\n",
       "<table border=\"1\" class=\"dataframe\">\n",
       "  <thead>\n",
       "    <tr style=\"text-align: right;\">\n",
       "      <th></th>\n",
       "      <th>Actual</th>\n",
       "      <th>Predicted</th>\n",
       "    </tr>\n",
       "    <tr>\n",
       "      <th>Date</th>\n",
       "      <th></th>\n",
       "      <th></th>\n",
       "    </tr>\n",
       "  </thead>\n",
       "  <tbody>\n",
       "    <tr>\n",
       "      <th>2021-08-09</th>\n",
       "      <td>82.000000</td>\n",
       "      <td>51.544605</td>\n",
       "    </tr>\n",
       "    <tr>\n",
       "      <th>2021-08-10</th>\n",
       "      <td>80.209999</td>\n",
       "      <td>51.696751</td>\n",
       "    </tr>\n",
       "    <tr>\n",
       "      <th>2021-08-11</th>\n",
       "      <td>75.910004</td>\n",
       "      <td>51.838814</td>\n",
       "    </tr>\n",
       "    <tr>\n",
       "      <th>2021-08-12</th>\n",
       "      <td>75.029999</td>\n",
       "      <td>51.922932</td>\n",
       "    </tr>\n",
       "    <tr>\n",
       "      <th>2021-08-13</th>\n",
       "      <td>70.250000</td>\n",
       "      <td>51.941837</td>\n",
       "    </tr>\n",
       "  </tbody>\n",
       "</table>\n",
       "</div>"
      ],
      "text/plain": [
       "               Actual  Predicted\n",
       "Date                            \n",
       "2021-08-09  82.000000  51.544605\n",
       "2021-08-10  80.209999  51.696751\n",
       "2021-08-11  75.910004  51.838814\n",
       "2021-08-12  75.029999  51.922932\n",
       "2021-08-13  70.250000  51.941837"
      ]
     },
     "execution_count": 19,
     "metadata": {},
     "output_type": "execute_result"
    }
   ],
   "source": [
    "actual_predicted.tail()"
   ]
  },
  {
   "cell_type": "code",
   "execution_count": 20,
   "id": "59043743-2a57-4c2c-aed1-2456d772d312",
   "metadata": {},
   "outputs": [
    {
     "data": {
      "image/png": "[encoded data removed]",
      "text/plain": [
       "<Figure size 1440x720 with 1 Axes>"
      ]
     },
     "metadata": {
      "needs_background": "light"
     },
     "output_type": "display_data"
    }
   ],
   "source": [
    "actual_predicted.plot(figsize=(20,10))\n",
    "plt.title('$(Stock) Stock Price Actual and Predicted (10/12/2017 - 08/13/2021)')\n",
    "plt.xlabel('Year')\n",
    "plt.ylabel('Stock Price per Share (in USD)')\n",
    "plt.legend(loc=\"best\")\n",
    "plt.show()"
   ]
  },
  {
   "cell_type": "code",
   "execution_count": null,
   "id": "c9f3b869-bc70-4bb1-a214-cca9a5aefaf9",
   "metadata": {},
   "outputs": [],
   "source": []
  }
 ],
 "metadata": {
  "kernelspec": {
   "display_name": "Python 3",
   "language": "python",
   "name": "python3"
  },
  "language_info": {
   "codemirror_mode": {
    "name": "ipython",
    "version": 3
   },
   "file_extension": ".py",
   "mimetype": "text/x-python",
   "name": "python",
   "nbconvert_exporter": "python",
   "pygments_lexer": "ipython3",
   "version": "3.8.10"
  }
 },
 "nbformat": 4,
 "nbformat_minor": 5
}
