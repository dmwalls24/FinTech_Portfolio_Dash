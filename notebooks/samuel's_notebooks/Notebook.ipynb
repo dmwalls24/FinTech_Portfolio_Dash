{
 "cells": [
  {
   "cell_type": "code",
   "execution_count": 93,
   "metadata": {},
   "outputs": [],
   "source": [
    "import os\n",
    "import numpy as np\n",
    "import pandas as pd\n",
    "from pathlib import Path\n",
    "from dotenv import load_dotenv\n",
    "import alpaca_trade_api as tradeapi\n",
    "from newsapi import NewsApiClient\n",
    "from datetime import datetime, timedelta\n",
    "import numpy as np\n",
    "from numpy.random import seed\n",
    "seed(1)\n",
    "import requests\n",
    "from tensorflow import random\n",
    "random.set_seed(2)\n",
    "import hvplot.pandas\n",
    "%matplotlib inline"
   ]
  },
  {
   "cell_type": "code",
   "execution_count": 94,
   "metadata": {},
   "outputs": [
    {
     "data": {
      "text/plain": "True"
     },
     "execution_count": 94,
     "metadata": {},
     "output_type": "execute_result"
    }
   ],
   "source": [
    "load_dotenv()"
   ]
  },
  {
   "cell_type": "code",
   "execution_count": 95,
   "metadata": {},
   "outputs": [],
   "source": [
    "alpaca_api_key = os.getenv(\"ALPACA_API_KEY\")\n",
    "alpaca_secret_key = os.getenv(\"ALPACA_SECRET_KEY\")\n",
    "alpaca = tradeapi.REST(\n",
    "    alpaca_api_key,\n",
    "    alpaca_secret_key,\n",
    "    api_version=\"v2\")\n",
    "#print(alpaca_api_key)"
   ]
  },
  {
   "cell_type": "code",
   "execution_count": 96,
   "metadata": {},
   "outputs": [
    {
     "data": {
      "text/html": "<div>\n<style scoped>\n    .dataframe tbody tr th:only-of-type {\n        vertical-align: middle;\n    }\n\n    .dataframe tbody tr th {\n        vertical-align: top;\n    }\n\n    .dataframe thead tr th {\n        text-align: left;\n    }\n\n    .dataframe thead tr:last-of-type th {\n        text-align: right;\n    }\n</style>\n<table border=\"1\" class=\"dataframe\">\n  <thead>\n    <tr>\n      <th></th>\n      <th colspan=\"5\" halign=\"left\">AFRM</th>\n      <th colspan=\"5\" halign=\"left\">MELI</th>\n      <th colspan=\"5\" halign=\"left\">PYPL</th>\n      <th colspan=\"5\" halign=\"left\">SQ</th>\n    </tr>\n    <tr>\n      <th></th>\n      <th>open</th>\n      <th>high</th>\n      <th>low</th>\n      <th>close</th>\n      <th>volume</th>\n      <th>open</th>\n      <th>high</th>\n      <th>low</th>\n      <th>close</th>\n      <th>volume</th>\n      <th>open</th>\n      <th>high</th>\n      <th>low</th>\n      <th>close</th>\n      <th>volume</th>\n      <th>open</th>\n      <th>high</th>\n      <th>low</th>\n      <th>close</th>\n      <th>volume</th>\n    </tr>\n    <tr>\n      <th>time</th>\n      <th></th>\n      <th></th>\n      <th></th>\n      <th></th>\n      <th></th>\n      <th></th>\n      <th></th>\n      <th></th>\n      <th></th>\n      <th></th>\n      <th></th>\n      <th></th>\n      <th></th>\n      <th></th>\n      <th></th>\n      <th></th>\n      <th></th>\n      <th></th>\n      <th></th>\n      <th></th>\n    </tr>\n  </thead>\n  <tbody>\n    <tr>\n      <th>2021-01-13 00:00:00-05:00</th>\n      <td>90.900</td>\n      <td>103.000</td>\n      <td>90.01</td>\n      <td>97.010</td>\n      <td>24984325.0</td>\n      <td>1823.00</td>\n      <td>1830.0000</td>\n      <td>1766.685</td>\n      <td>1797.165</td>\n      <td>453625.0</td>\n      <td>236.57</td>\n      <td>247.4400</td>\n      <td>236.5400</td>\n      <td>244.90</td>\n      <td>6419870</td>\n      <td>228.95</td>\n      <td>234.8213</td>\n      <td>226.80</td>\n      <td>230.94</td>\n      <td>14553101</td>\n    </tr>\n    <tr>\n      <th>2021-01-14 00:00:00-05:00</th>\n      <td>103.500</td>\n      <td>137.980</td>\n      <td>101.00</td>\n      <td>114.400</td>\n      <td>20358777.0</td>\n      <td>1814.00</td>\n      <td>1889.6200</td>\n      <td>1814.000</td>\n      <td>1852.520</td>\n      <td>491020.0</td>\n      <td>246.87</td>\n      <td>249.8500</td>\n      <td>241.5400</td>\n      <td>242.01</td>\n      <td>5757075</td>\n      <td>233.90</td>\n      <td>238.7600</td>\n      <td>229.59</td>\n      <td>232.71</td>\n      <td>6502923</td>\n    </tr>\n    <tr>\n      <th>2021-01-15 00:00:00-05:00</th>\n      <td>123.054</td>\n      <td>127.240</td>\n      <td>107.00</td>\n      <td>116.700</td>\n      <td>8033257.0</td>\n      <td>1860.01</td>\n      <td>1877.1091</td>\n      <td>1805.460</td>\n      <td>1856.340</td>\n      <td>478130.0</td>\n      <td>242.25</td>\n      <td>244.5632</td>\n      <td>235.0341</td>\n      <td>239.79</td>\n      <td>6600442</td>\n      <td>233.63</td>\n      <td>236.4300</td>\n      <td>225.58</td>\n      <td>227.65</td>\n      <td>6344926</td>\n    </tr>\n    <tr>\n      <th>2021-01-19 00:00:00-05:00</th>\n      <td>117.000</td>\n      <td>117.675</td>\n      <td>108.00</td>\n      <td>110.875</td>\n      <td>3116358.0</td>\n      <td>1888.17</td>\n      <td>1938.1699</td>\n      <td>1861.000</td>\n      <td>1915.700</td>\n      <td>590186.0</td>\n      <td>243.30</td>\n      <td>248.7400</td>\n      <td>241.0000</td>\n      <td>247.24</td>\n      <td>5690793</td>\n      <td>231.07</td>\n      <td>231.5900</td>\n      <td>223.25</td>\n      <td>227.25</td>\n      <td>6347656</td>\n    </tr>\n    <tr>\n      <th>2021-01-20 00:00:00-05:00</th>\n      <td>110.000</td>\n      <td>112.000</td>\n      <td>103.25</td>\n      <td>107.150</td>\n      <td>3504314.0</td>\n      <td>1960.00</td>\n      <td>1991.8800</td>\n      <td>1929.520</td>\n      <td>1986.000</td>\n      <td>574762.0</td>\n      <td>248.85</td>\n      <td>249.6500</td>\n      <td>244.1400</td>\n      <td>244.19</td>\n      <td>5068278</td>\n      <td>230.12</td>\n      <td>230.8800</td>\n      <td>225.50</td>\n      <td>226.65</td>\n      <td>5379761</td>\n    </tr>\n  </tbody>\n</table>\n</div>",
      "text/plain": "                              AFRM                                        \\\n                              open     high     low    close      volume   \ntime                                                                       \n2021-01-13 00:00:00-05:00   90.900  103.000   90.01   97.010  24984325.0   \n2021-01-14 00:00:00-05:00  103.500  137.980  101.00  114.400  20358777.0   \n2021-01-15 00:00:00-05:00  123.054  127.240  107.00  116.700   8033257.0   \n2021-01-19 00:00:00-05:00  117.000  117.675  108.00  110.875   3116358.0   \n2021-01-20 00:00:00-05:00  110.000  112.000  103.25  107.150   3504314.0   \n\n                              MELI                                           \\\n                              open       high       low     close    volume   \ntime                                                                          \n2021-01-13 00:00:00-05:00  1823.00  1830.0000  1766.685  1797.165  453625.0   \n2021-01-14 00:00:00-05:00  1814.00  1889.6200  1814.000  1852.520  491020.0   \n2021-01-15 00:00:00-05:00  1860.01  1877.1091  1805.460  1856.340  478130.0   \n2021-01-19 00:00:00-05:00  1888.17  1938.1699  1861.000  1915.700  590186.0   \n2021-01-20 00:00:00-05:00  1960.00  1991.8800  1929.520  1986.000  574762.0   \n\n                             PYPL                                       \\\n                             open      high       low   close   volume   \ntime                                                                     \n2021-01-13 00:00:00-05:00  236.57  247.4400  236.5400  244.90  6419870   \n2021-01-14 00:00:00-05:00  246.87  249.8500  241.5400  242.01  5757075   \n2021-01-15 00:00:00-05:00  242.25  244.5632  235.0341  239.79  6600442   \n2021-01-19 00:00:00-05:00  243.30  248.7400  241.0000  247.24  5690793   \n2021-01-20 00:00:00-05:00  248.85  249.6500  244.1400  244.19  5068278   \n\n                               SQ                                      \n                             open      high     low   close    volume  \ntime                                                                   \n2021-01-13 00:00:00-05:00  228.95  234.8213  226.80  230.94  14553101  \n2021-01-14 00:00:00-05:00  233.90  238.7600  229.59  232.71   6502923  \n2021-01-15 00:00:00-05:00  233.63  236.4300  225.58  227.65   6344926  \n2021-01-19 00:00:00-05:00  231.07  231.5900  223.25  227.25   6347656  \n2021-01-20 00:00:00-05:00  230.12  230.8800  225.50  226.65   5379761  "
     },
     "execution_count": 96,
     "metadata": {},
     "output_type": "execute_result"
    }
   ],
   "source": [
    "#15Min interval\n",
    "timeframe = \"1D\"\n",
    "start_date = pd.Timestamp(\"2019-01-01\", tz=\"America/New_York\").isoformat()\n",
    "end_date = pd.Timestamp(\"2021-12-31\", tz=\"America/New_York\").isoformat()\n",
    "#today = pd.Timestamp(\"2021-01-02\", tz=\"America/New_York\").isoformat()\n",
    "ticker = [\"PYPL\", \"SQ\", \"AFRM\", \"MELI\"]\n",
    "fintech_ticker = alpaca.get_barset(\n",
    "    ticker,\n",
    "    timeframe,\n",
    "    start=start_date,\n",
    "    end=end_date,\n",
    "    limit=1000,\n",
    ").df\n",
    "fintech_ticker.dropna(inplace=True)\n",
    "fintech_ticker.head(5)\n",
    "#apple_ticker.dropna(inplace=True)"
   ]
  },
  {
   "cell_type": "code",
   "execution_count": 97,
   "metadata": {},
   "outputs": [
    {
     "data": {
      "text/html": "<div>\n<style scoped>\n    .dataframe tbody tr th:only-of-type {\n        vertical-align: middle;\n    }\n\n    .dataframe tbody tr th {\n        vertical-align: top;\n    }\n\n    .dataframe thead th {\n        text-align: right;\n    }\n</style>\n<table border=\"1\" class=\"dataframe\">\n  <thead>\n    <tr style=\"text-align: right;\">\n      <th></th>\n      <th>PayPal</th>\n      <th>Square</th>\n      <th>Affirm</th>\n      <th>Mercalibre</th>\n    </tr>\n  </thead>\n  <tbody>\n    <tr>\n      <th>2021-01-13</th>\n      <td>244.90</td>\n      <td>230.94</td>\n      <td>97.010</td>\n      <td>1797.165</td>\n    </tr>\n    <tr>\n      <th>2021-01-14</th>\n      <td>242.01</td>\n      <td>232.71</td>\n      <td>114.400</td>\n      <td>1852.520</td>\n    </tr>\n    <tr>\n      <th>2021-01-15</th>\n      <td>239.79</td>\n      <td>227.65</td>\n      <td>116.700</td>\n      <td>1856.340</td>\n    </tr>\n    <tr>\n      <th>2021-01-19</th>\n      <td>247.24</td>\n      <td>227.25</td>\n      <td>110.875</td>\n      <td>1915.700</td>\n    </tr>\n    <tr>\n      <th>2021-01-20</th>\n      <td>244.19</td>\n      <td>226.65</td>\n      <td>107.150</td>\n      <td>1986.000</td>\n    </tr>\n  </tbody>\n</table>\n</div>",
      "text/plain": "            PayPal  Square   Affirm  Mercalibre\n2021-01-13  244.90  230.94   97.010    1797.165\n2021-01-14  242.01  232.71  114.400    1852.520\n2021-01-15  239.79  227.65  116.700    1856.340\n2021-01-19  247.24  227.25  110.875    1915.700\n2021-01-20  244.19  226.65  107.150    1986.000"
     },
     "execution_count": 97,
     "metadata": {},
     "output_type": "execute_result"
    }
   ],
   "source": [
    "fintech_df = pd.DataFrame()\n",
    "fintech_df[\"PayPal\"] = fintech_ticker[\"PYPL\"][\"close\"]\n",
    "fintech_df[\"Square\"] = fintech_ticker[\"SQ\"][\"close\"]\n",
    "fintech_df[\"Affirm\"] = fintech_ticker[\"AFRM\"][\"close\"]\n",
    "fintech_df[\"Mercalibre\"] = fintech_ticker[\"MELI\"][\"close\"]\n",
    "#fintech_df[\"Johnson&Johnson\"] = nasdaq_ticker[\"JNJ\"][\"close\"]\n",
    "#apple_df = apple_df.pct_change().dropna()\n",
    "fintech_df.index = fintech_df.index.date \n",
    "fintech_df.dropna(inplace=True)\n",
    "fintech_df.head()"
   ]
  },
  {
   "cell_type": "code",
   "execution_count": null,
   "metadata": {},
   "outputs": [],
   "source": []
  },
  {
   "cell_type": "code",
   "execution_count": 98,
   "metadata": {},
   "outputs": [],
   "source": [
    "#fintech_returns = fintech_df.pct_change().dropna()\n",
    "#fintech_returns.head()"
   ]
  },
  {
   "cell_type": "code",
   "execution_count": null,
   "metadata": {},
   "outputs": [],
   "source": []
  },
  {
   "cell_type": "code",
   "execution_count": 99,
   "metadata": {},
   "outputs": [],
   "source": [
    "def window_data(df, window, feature_col_number, target_col_number):\n",
    "    X = []\n",
    "    y = []\n",
    "    for i in range(len(df) - window):\n",
    "        features = df.iloc[i : (i + window), feature_col_number]\n",
    "        target = df.iloc[(i + window), target_col_number]\n",
    "        X.append(features)\n",
    "        y.append(target)\n",
    "    return np.array(X), np.array(y).reshape(-1, 1)"
   ]
  },
  {
   "cell_type": "code",
   "execution_count": 100,
   "metadata": {},
   "outputs": [
    {
     "name": "stdout",
     "output_type": "stream",
     "text": [
      "X sample values:\n",
      "[[230.94 232.71 227.65 227.25 226.65 219.62 222.88 216.63 209.49 202.3 ]\n",
      " [232.71 227.65 227.25 226.65 219.62 222.88 216.63 209.49 202.3  219.91]\n",
      " [227.65 227.25 226.65 219.62 222.88 216.63 209.49 202.3  219.91 215.92]\n",
      " [227.25 226.65 219.62 222.88 216.63 209.49 202.3  219.91 215.92 221.94]\n",
      " [226.65 219.62 222.88 216.63 209.49 202.3  219.91 215.92 221.94 227.63]] \n",
      "\n",
      "y sample values:\n",
      "[[219.91]\n",
      " [215.92]\n",
      " [221.94]\n",
      " [227.63]\n",
      " [227.76]]\n"
     ]
    }
   ],
   "source": [
    "window_size = 10\n",
    "feature_column = 1\n",
    "target_column = 1\n",
    "X, y = window_data(fintech_df, window_size, feature_column, target_column)\n",
    "print (f\"X sample values:\\n{X[:5]} \\n\")\n",
    "print (f\"y sample values:\\n{y[:5]}\")"
   ]
  },
  {
   "cell_type": "code",
   "execution_count": 101,
   "metadata": {},
   "outputs": [
    {
     "name": "stdout",
     "output_type": "stream",
     "text": [
      "[[230.94 232.71 227.65 ... 216.63 209.49 202.3 ]\n",
      " [232.71 227.65 227.25 ... 209.49 202.3  219.91]\n",
      " [227.65 227.25 226.65 ... 202.3  219.91 215.92]\n",
      " ...\n",
      " [247.12 272.4  269.5  ... 272.93 271.01 268.57]\n",
      " [272.4  269.5  266.45 ... 271.01 268.57 267.94]\n",
      " [269.5  266.45 281.8  ... 268.57 267.94 263.48]]\n"
     ]
    }
   ],
   "source": [
    "print(X)"
   ]
  },
  {
   "cell_type": "code",
   "execution_count": 102,
   "metadata": {},
   "outputs": [],
   "source": [
    "split = int(0.7 * len(X))\n",
    "X_train = X[: split]\n",
    "X_test = X[split :]\n",
    "y_train = y[: split]\n",
    "y_test = y[split :]"
   ]
  },
  {
   "cell_type": "code",
   "execution_count": 103,
   "metadata": {},
   "outputs": [],
   "source": [
    "from sklearn.preprocessing import MinMaxScaler\n",
    "\n",
    "scaler = MinMaxScaler()\n",
    "scaler.fit(X)\n",
    "X_train = scaler.transform(X_train)\n",
    "X_test = scaler.transform(X_test)\n",
    "scaler.fit(y)\n",
    "y_train = scaler.transform(y_train)\n",
    "y_test = scaler.transform(y_test)"
   ]
  },
  {
   "cell_type": "code",
   "execution_count": 104,
   "metadata": {},
   "outputs": [
    {
     "name": "stdout",
     "output_type": "stream",
     "text": [
      "X_train sample values:\n",
      "[[[0.42520627]\n",
      "  [0.44750268]\n",
      "  [0.36004255]\n",
      "  [0.35531525]\n",
      "  [0.34822431]\n",
      "  [0.26514211]\n",
      "  [0.30366956]\n",
      "  [0.22980559]\n",
      "  [0.14542339]\n",
      "  [0.06045027]]\n",
      "\n",
      " [[0.44750268]\n",
      "  [0.38376268]\n",
      "  [0.35531525]\n",
      "  [0.34822431]\n",
      "  [0.26514211]\n",
      "  [0.30366956]\n",
      "  [0.22980559]\n",
      "  [0.14542339]\n",
      "  [0.06045027]\n",
      "  [0.2685694 ]]\n",
      "\n",
      " [[0.38376268]\n",
      "  [0.37872394]\n",
      "  [0.34822431]\n",
      "  [0.26514211]\n",
      "  [0.30366956]\n",
      "  [0.22980559]\n",
      "  [0.14542339]\n",
      "  [0.06045027]\n",
      "  [0.2685694 ]\n",
      "  [0.22141464]]\n",
      "\n",
      " [[0.37872394]\n",
      "  [0.37116584]\n",
      "  [0.26514211]\n",
      "  [0.30366956]\n",
      "  [0.22980559]\n",
      "  [0.14542339]\n",
      "  [0.06045027]\n",
      "  [0.2685694 ]\n",
      "  [0.22141464]\n",
      "  [0.29256042]]\n",
      "\n",
      " [[0.37116584]\n",
      "  [0.28261006]\n",
      "  [0.30366956]\n",
      "  [0.22980559]\n",
      "  [0.14542339]\n",
      "  [0.06045027]\n",
      "  [0.2685694 ]\n",
      "  [0.22141464]\n",
      "  [0.29256042]\n",
      "  [0.35980618]]] \n",
      "\n",
      "X_test sample values:\n",
      "[[[0.20791081]\n",
      "  [0.24885054]\n",
      "  [0.20053773]\n",
      "  [0.15393252]\n",
      "  [0.23559653]\n",
      "  [0.26183301]\n",
      "  [0.39904272]\n",
      "  [0.36051528]\n",
      "  [0.33049696]\n",
      "  [0.46167937]]\n",
      "\n",
      " [[0.24885054]\n",
      "  [0.21374945]\n",
      "  [0.15393252]\n",
      "  [0.23559653]\n",
      "  [0.26183301]\n",
      "  [0.39904272]\n",
      "  [0.36051528]\n",
      "  [0.33049696]\n",
      "  [0.46167937]\n",
      "  [0.47255215]]\n",
      "\n",
      " [[0.21374945]\n",
      "  [0.16407382]\n",
      "  [0.23559653]\n",
      "  [0.26183301]\n",
      "  [0.39904272]\n",
      "  [0.36051528]\n",
      "  [0.33049696]\n",
      "  [0.46167937]\n",
      "  [0.47255215]\n",
      "  [0.4340247 ]]\n",
      "\n",
      " [[0.16407382]\n",
      "  [0.25111797]\n",
      "  [0.26183301]\n",
      "  [0.39904272]\n",
      "  [0.36051528]\n",
      "  [0.33049696]\n",
      "  [0.46167937]\n",
      "  [0.47255215]\n",
      "  [0.4340247 ]\n",
      "  [0.45848845]]\n",
      "\n",
      " [[0.25111797]\n",
      "  [0.27908295]\n",
      "  [0.39904272]\n",
      "  [0.36051528]\n",
      "  [0.33049696]\n",
      "  [0.46167937]\n",
      "  [0.47255215]\n",
      "  [0.4340247 ]\n",
      "  [0.45848845]\n",
      "  [0.49051587]]]\n"
     ]
    }
   ],
   "source": [
    "X_train = X_train.reshape((X_train.shape[0], X_train.shape[1], 1))\n",
    "X_test = X_test.reshape((X_test.shape[0], X_test.shape[1], 1))\n",
    "print (f\"X_train sample values:\\n{X_train[:5]} \\n\")\n",
    "print (f\"X_test sample values:\\n{X_test[:5]}\")"
   ]
  },
  {
   "cell_type": "code",
   "execution_count": 105,
   "metadata": {},
   "outputs": [],
   "source": [
    "from tensorflow.keras.models import Sequential\n",
    "from tensorflow.keras.layers import LSTM, Dense, Dropout"
   ]
  },
  {
   "cell_type": "code",
   "execution_count": 106,
   "metadata": {},
   "outputs": [],
   "source": [
    "model = Sequential()\n",
    "\n",
    "number_units = 20\n",
    "dropout_fraction = 0.2\n",
    "\n",
    "# Layer 1\n",
    "model.add(LSTM(units=number_units, return_sequences=True, input_shape=(X_train.shape[1], 1)))\n",
    "model.add(Dropout(dropout_fraction))\n",
    "# Layer 2\n",
    "model.add(LSTM(units=number_units, return_sequences=True))\n",
    "model.add(Dropout(dropout_fraction))\n",
    "# Layer 3\n",
    "model.add(LSTM(units=number_units))\n",
    "model.add(Dropout(dropout_fraction))\n",
    "# Output layer\n",
    "model.add(Dense(1))"
   ]
  },
  {
   "cell_type": "code",
   "execution_count": 107,
   "metadata": {},
   "outputs": [],
   "source": [
    "model.compile(optimizer=\"adam\", loss=\"mean_squared_error\")"
   ]
  },
  {
   "cell_type": "code",
   "execution_count": 108,
   "metadata": {},
   "outputs": [
    {
     "name": "stdout",
     "output_type": "stream",
     "text": [
      "Model: \"sequential_4\"\n",
      "_________________________________________________________________\n",
      "Layer (type)                 Output Shape              Param #   \n",
      "=================================================================\n",
      "lstm_12 (LSTM)               (None, 10, 20)            1760      \n",
      "_________________________________________________________________\n",
      "dropout_12 (Dropout)         (None, 10, 20)            0         \n",
      "_________________________________________________________________\n",
      "lstm_13 (LSTM)               (None, 10, 20)            3280      \n",
      "_________________________________________________________________\n",
      "dropout_13 (Dropout)         (None, 10, 20)            0         \n",
      "_________________________________________________________________\n",
      "lstm_14 (LSTM)               (None, 20)                3280      \n",
      "_________________________________________________________________\n",
      "dropout_14 (Dropout)         (None, 20)                0         \n",
      "_________________________________________________________________\n",
      "dense_4 (Dense)              (None, 1)                 21        \n",
      "=================================================================\n",
      "Total params: 8,341\n",
      "Trainable params: 8,341\n",
      "Non-trainable params: 0\n",
      "_________________________________________________________________\n"
     ]
    }
   ],
   "source": [
    "model.summary()"
   ]
  },
  {
   "cell_type": "code",
   "execution_count": 109,
   "metadata": {},
   "outputs": [
    {
     "name": "stdout",
     "output_type": "stream",
     "text": [
      "Epoch 1/20\n",
      "98/98 [==============================] - 4s 6ms/step - loss: 0.0920\n",
      "Epoch 2/20\n",
      "98/98 [==============================] - 1s 5ms/step - loss: 0.0805\n",
      "Epoch 3/20\n",
      "98/98 [==============================] - 1s 5ms/step - loss: 0.0699\n",
      "Epoch 4/20\n",
      "98/98 [==============================] - 1s 6ms/step - loss: 0.0599\n",
      "Epoch 5/20\n",
      "98/98 [==============================] - 1s 6ms/step - loss: 0.0635\n",
      "Epoch 6/20\n",
      "98/98 [==============================] - 1s 5ms/step - loss: 0.0648\n",
      "Epoch 7/20\n",
      "98/98 [==============================] - 1s 6ms/step - loss: 0.0613\n",
      "Epoch 8/20\n",
      "98/98 [==============================] - 1s 6ms/step - loss: 0.0549\n",
      "Epoch 9/20\n",
      "98/98 [==============================] - 1s 6ms/step - loss: 0.0604\n",
      "Epoch 10/20\n",
      "98/98 [==============================] - 1s 6ms/step - loss: 0.0508\n",
      "Epoch 11/20\n",
      "98/98 [==============================] - 1s 6ms/step - loss: 0.0463\n",
      "Epoch 12/20\n",
      "98/98 [==============================] - 1s 6ms/step - loss: 0.0316\n",
      "Epoch 13/20\n",
      "98/98 [==============================] - 1s 6ms/step - loss: 0.0335\n",
      "Epoch 14/20\n",
      "98/98 [==============================] - 1s 6ms/step - loss: 0.0380\n",
      "Epoch 15/20\n",
      "98/98 [==============================] - 1s 6ms/step - loss: 0.0278\n",
      "Epoch 16/20\n",
      "98/98 [==============================] - 1s 6ms/step - loss: 0.0280\n",
      "Epoch 17/20\n",
      "98/98 [==============================] - 1s 6ms/step - loss: 0.0192\n",
      "Epoch 18/20\n",
      "98/98 [==============================] - 1s 6ms/step - loss: 0.0293\n",
      "Epoch 19/20\n",
      "98/98 [==============================] - 1s 6ms/step - loss: 0.0239\n",
      "Epoch 20/20\n",
      "98/98 [==============================] - 1s 6ms/step - loss: 0.0244\n"
     ]
    },
    {
     "data": {
      "text/plain": "<tensorflow.python.keras.callbacks.History at 0x7fbe4b0a5430>"
     },
     "execution_count": 109,
     "metadata": {},
     "output_type": "execute_result"
    }
   ],
   "source": [
    "model.fit(X_train, y_train, epochs=20, shuffle=False, batch_size=1, verbose=1)"
   ]
  },
  {
   "cell_type": "code",
   "execution_count": 110,
   "metadata": {},
   "outputs": [
    {
     "name": "stdout",
     "output_type": "stream",
     "text": [
      "WARNING:tensorflow:5 out of the last 9 calls to <function Model.make_test_function.<locals>.test_function at 0x7fbe4b938c10> triggered tf.function retracing. Tracing is expensive and the excessive number of tracings could be due to (1) creating @tf.function repeatedly in a loop, (2) passing tensors with different shapes, (3) passing Python objects instead of tensors. For (1), please define your @tf.function outside of the loop. For (2), @tf.function has experimental_relax_shapes=True option that relaxes argument shapes that can avoid unnecessary retracing. For (3), please refer to https://www.tensorflow.org/guide/function#controlling_retracing and https://www.tensorflow.org/api_docs/python/tf/function for  more details.\n",
      "2/2 [==============================] - 1s 5ms/step - loss: 0.0381\n"
     ]
    },
    {
     "data": {
      "text/plain": "0.038085922598838806"
     },
     "execution_count": 110,
     "metadata": {},
     "output_type": "execute_result"
    }
   ],
   "source": [
    "model.evaluate(X_test, y_test)"
   ]
  },
  {
   "cell_type": "code",
   "execution_count": 111,
   "metadata": {},
   "outputs": [
    {
     "name": "stdout",
     "output_type": "stream",
     "text": [
      "WARNING:tensorflow:5 out of the last 9 calls to <function Model.make_predict_function.<locals>.predict_function at 0x7fbe4f110790> triggered tf.function retracing. Tracing is expensive and the excessive number of tracings could be due to (1) creating @tf.function repeatedly in a loop, (2) passing tensors with different shapes, (3) passing Python objects instead of tensors. For (1), please define your @tf.function outside of the loop. For (2), @tf.function has experimental_relax_shapes=True option that relaxes argument shapes that can avoid unnecessary retracing. For (3), please refer to https://www.tensorflow.org/guide/function#controlling_retracing and https://www.tensorflow.org/api_docs/python/tf/function for  more details.\n"
     ]
    }
   ],
   "source": [
    "predicted = model.predict(X_test)"
   ]
  },
  {
   "cell_type": "code",
   "execution_count": 112,
   "metadata": {},
   "outputs": [],
   "source": [
    "predicted_prices = scaler.inverse_transform(predicted)\n",
    "real_prices = scaler.inverse_transform(y_test.reshape(-1, 1))"
   ]
  },
  {
   "cell_type": "code",
   "execution_count": 113,
   "metadata": {},
   "outputs": [
    {
     "data": {
      "text/html": "<div>\n<style scoped>\n    .dataframe tbody tr th:only-of-type {\n        vertical-align: middle;\n    }\n\n    .dataframe tbody tr th {\n        vertical-align: top;\n    }\n\n    .dataframe thead th {\n        text-align: right;\n    }\n</style>\n<table border=\"1\" class=\"dataframe\">\n  <thead>\n    <tr style=\"text-align: right;\">\n      <th></th>\n      <th>Real</th>\n      <th>Predicted</th>\n    </tr>\n  </thead>\n  <tbody>\n    <tr>\n      <th>2021-06-18</th>\n      <td>237.17</td>\n      <td>230.184097</td>\n    </tr>\n    <tr>\n      <th>2021-06-21</th>\n      <td>233.91</td>\n      <td>232.831329</td>\n    </tr>\n    <tr>\n      <th>2021-06-22</th>\n      <td>235.98</td>\n      <td>233.479675</td>\n    </tr>\n    <tr>\n      <th>2021-06-23</th>\n      <td>238.69</td>\n      <td>232.928085</td>\n    </tr>\n    <tr>\n      <th>2021-06-24</th>\n      <td>244.28</td>\n      <td>232.525024</td>\n    </tr>\n    <tr>\n      <th>2021-06-25</th>\n      <td>240.24</td>\n      <td>233.875687</td>\n    </tr>\n    <tr>\n      <th>2021-06-28</th>\n      <td>246.60</td>\n      <td>234.297363</td>\n    </tr>\n    <tr>\n      <th>2021-06-29</th>\n      <td>248.88</td>\n      <td>235.697220</td>\n    </tr>\n    <tr>\n      <th>2021-06-30</th>\n      <td>243.74</td>\n      <td>237.416397</td>\n    </tr>\n    <tr>\n      <th>2021-07-01</th>\n      <td>241.96</td>\n      <td>236.949936</td>\n    </tr>\n  </tbody>\n</table>\n</div>",
      "text/plain": "              Real   Predicted\n2021-06-18  237.17  230.184097\n2021-06-21  233.91  232.831329\n2021-06-22  235.98  233.479675\n2021-06-23  238.69  232.928085\n2021-06-24  244.28  232.525024\n2021-06-25  240.24  233.875687\n2021-06-28  246.60  234.297363\n2021-06-29  248.88  235.697220\n2021-06-30  243.74  237.416397\n2021-07-01  241.96  236.949936"
     },
     "execution_count": 113,
     "metadata": {},
     "output_type": "execute_result"
    }
   ],
   "source": [
    "stocks = pd.DataFrame({\n",
    "    \"Real\": real_prices.ravel(),\n",
    "    \"Predicted\": predicted_prices.ravel()\n",
    "    }, index = fintech_df.index[-len(real_prices): ])\n",
    "stocks.head(10)"
   ]
  },
  {
   "cell_type": "code",
   "execution_count": 114,
   "metadata": {},
   "outputs": [
    {
     "data": {},
     "metadata": {},
     "output_type": "display_data"
    },
    {
     "data": {
      "application/vnd.holoviews_exec.v0+json": "",
      "text/html": "<div id='3311'>\n\n\n\n\n\n  <div class=\"bk-root\" id=\"fda08e43-d48a-4bb6-b55a-bec1c342c59f\" data-root-id=\"3311\"></div>\n</div>\n<script type=\"application/javascript\">(function(root) {\n  function embed_document(root) {\n  var docs_json = {\"de215b5e-74d2-40c6-b560-e8b28a89c457\":{\"roots\":{\"references\":[{\"attributes\":{\"days\":[1,8,15,22]},\"id\":\"3369\",\"type\":\"DaysTicker\"},{\"attributes\":{},\"id\":\"3375\",\"type\":\"YearsTicker\"},{\"attributes\":{},\"id\":\"3347\",\"type\":\"DatetimeTickFormatter\"},{\"attributes\":{\"line_color\":\"#ff7e0e\",\"line_width\":2,\"x\":{\"field\":\"index\"},\"y\":{\"field\":\"value\"}},\"id\":\"3382\",\"type\":\"Line\"},{\"attributes\":{\"line_color\":\"#1f77b3\",\"line_width\":2,\"x\":{\"field\":\"index\"},\"y\":{\"field\":\"value\"}},\"id\":\"3354\",\"type\":\"Line\"},{\"attributes\":{\"months\":[0,4,8]},\"id\":\"3373\",\"type\":\"MonthsTicker\"},{\"attributes\":{},\"id\":\"3349\",\"type\":\"BasicTickFormatter\"},{\"attributes\":{},\"id\":\"3352\",\"type\":\"Selection\"},{\"attributes\":{\"line_alpha\":0.2,\"line_color\":\"#ff7e0e\",\"line_width\":2,\"x\":{\"field\":\"index\"},\"y\":{\"field\":\"value\"}},\"id\":\"3384\",\"type\":\"Line\"},{\"attributes\":{\"data_source\":{\"id\":\"3351\"},\"glyph\":{\"id\":\"3354\"},\"hover_glyph\":null,\"muted_glyph\":{\"id\":\"3356\"},\"nonselection_glyph\":{\"id\":\"3355\"},\"selection_glyph\":null,\"view\":{\"id\":\"3358\"}},\"id\":\"3357\",\"type\":\"GlyphRenderer\"},{\"attributes\":{\"days\":[1,4,7,10,13,16,19,22,25,28]},\"id\":\"3368\",\"type\":\"DaysTicker\"},{\"attributes\":{\"line_alpha\":0.1,\"line_color\":\"#ff7e0e\",\"line_width\":2,\"x\":{\"field\":\"index\"},\"y\":{\"field\":\"value\"}},\"id\":\"3383\",\"type\":\"Line\"},{\"attributes\":{\"margin\":[5,5,5,5],\"name\":\"HSpacer04218\",\"sizing_mode\":\"stretch_width\"},\"id\":\"3584\",\"type\":\"Spacer\"},{\"attributes\":{\"click_policy\":\"mute\",\"items\":[{\"id\":\"3378\"},{\"id\":\"3407\"}],\"location\":[0,0],\"title\":\"Variable\"},\"id\":\"3377\",\"type\":\"Legend\"},{\"attributes\":{\"margin\":[5,5,5,5],\"name\":\"HSpacer04217\",\"sizing_mode\":\"stretch_width\"},\"id\":\"3312\",\"type\":\"Spacer\"},{\"attributes\":{\"label\":{\"value\":\"Real\"},\"renderers\":[{\"id\":\"3357\"}]},\"id\":\"3378\",\"type\":\"LegendItem\"},{\"attributes\":{\"source\":{\"id\":\"3379\"}},\"id\":\"3386\",\"type\":\"CDSView\"},{\"attributes\":{},\"id\":\"3380\",\"type\":\"Selection\"},{\"attributes\":{\"days\":[1,15]},\"id\":\"3370\",\"type\":\"DaysTicker\"},{\"attributes\":{\"label\":{\"value\":\"Predicted\"},\"renderers\":[{\"id\":\"3385\"}]},\"id\":\"3407\",\"type\":\"LegendItem\"},{\"attributes\":{\"source\":{\"id\":\"3351\"}},\"id\":\"3358\",\"type\":\"CDSView\"},{\"attributes\":{\"axis\":{\"id\":\"3326\"},\"grid_line_color\":null,\"ticker\":null},\"id\":\"3329\",\"type\":\"Grid\"},{\"attributes\":{\"months\":[0,6]},\"id\":\"3374\",\"type\":\"MonthsTicker\"},{\"attributes\":{\"bottom_units\":\"screen\",\"fill_alpha\":0.5,\"fill_color\":\"lightgrey\",\"left_units\":\"screen\",\"level\":\"overlay\",\"line_alpha\":1.0,\"line_color\":\"black\",\"line_dash\":[4,4],\"line_width\":2,\"render_mode\":\"css\",\"right_units\":\"screen\",\"top_units\":\"screen\"},\"id\":\"3339\",\"type\":\"BoxAnnotation\"},{\"attributes\":{},\"id\":\"3336\",\"type\":\"WheelZoomTool\"},{\"attributes\":{},\"id\":\"3406\",\"type\":\"UnionRenderers\"},{\"attributes\":{\"data\":{\"Variable\":[\"Predicted\",\"Predicted\",\"Predicted\",\"Predicted\",\"Predicted\",\"Predicted\",\"Predicted\",\"Predicted\",\"Predicted\",\"Predicted\",\"Predicted\",\"Predicted\",\"Predicted\",\"Predicted\",\"Predicted\",\"Predicted\",\"Predicted\",\"Predicted\",\"Predicted\",\"Predicted\",\"Predicted\",\"Predicted\",\"Predicted\",\"Predicted\",\"Predicted\",\"Predicted\",\"Predicted\",\"Predicted\",\"Predicted\",\"Predicted\",\"Predicted\",\"Predicted\",\"Predicted\",\"Predicted\",\"Predicted\",\"Predicted\",\"Predicted\",\"Predicted\",\"Predicted\",\"Predicted\",\"Predicted\",\"Predicted\"],\"index\":{\"__ndarray__\":\"AAAArcahd0IAAEDevaJ3QgAAAEQQo3dCAADAqWKjd0IAAIAPtaN3QgAAQHUHpHdCAACApv6kd0IAAEAMUaV3QgAAAHKjpXdCAADA1/Wld0IAAIA9SKZ3QgAAgNSRp3dCAABAOuSnd0IAAACgNqh3QgAAwAWJqHdCAAAAN4Cpd0IAAMCc0ql3QgAAgAIlqndCAABAaHeqd0IAAADOyap3QgAAQP/Aq3dCAAAAZROsd0IAAMDKZax3QgAAgDC4rHdCAABAlgqtd0IAAIDHAa53QgAAQC1UrndCAAAAk6aud0IAAMD4+K53QgAAgF5Lr3dCAADAj0Kwd0IAAID1lLB3QgAAQFvnsHdCAAAAwTmxd0IAAMAmjLF3QgAAAFiDsndCAADAvdWyd0IAAIAjKLN3QgAAQIl6s3dCAAAA78yzd0IAAEAgxLR3QgAAAIYWtXdC\",\"dtype\":\"float64\",\"shape\":[42]},\"value\":{\"__ndarray__\":\"IS9mQ9LUaEPMemlDl+1oQ2iGaEMt4GlDIExqQ32ya0OZam1DL/NsQ9L+akPYnGhD+EloQ2CXaEPxo2ZDObdlQ2wWZkM6pmZD3mFmQ7PMZEMpvGNDDYBiQ/jVZEN43mtDwip0Q2B7ekMOmHtDMf51Q0v4cUPaEG9D5S9rQ969b0OZjnZD2Z95QyLzfkPY7n9Dbs9/QxmGfEPfk3hDqzx1Q0Voc0MxeHFD\",\"dtype\":\"float32\",\"shape\":[42]}},\"selected\":{\"id\":\"3380\"},\"selection_policy\":{\"id\":\"3429\"}},\"id\":\"3379\",\"type\":\"ColumnDataSource\"},{\"attributes\":{\"overlay\":{\"id\":\"3339\"}},\"id\":\"3337\",\"type\":\"BoxZoomTool\"},{\"attributes\":{\"axis_label\":\"\",\"bounds\":\"auto\",\"formatter\":{\"id\":\"3349\"},\"major_label_orientation\":\"horizontal\",\"ticker\":{\"id\":\"3331\"}},\"id\":\"3330\",\"type\":\"LinearAxis\"},{\"attributes\":{},\"id\":\"3324\",\"type\":\"LinearScale\"},{\"attributes\":{},\"id\":\"3322\",\"type\":\"LinearScale\"},{\"attributes\":{\"end\":1629158400000.0,\"reset_end\":1629158400000.0,\"reset_start\":1623974400000.0,\"start\":1623974400000.0,\"tags\":[[[\"index\",\"index\",null]]]},\"id\":\"3313\",\"type\":\"Range1d\"},{\"attributes\":{\"callback\":null,\"formatters\":{\"@{index}\":\"datetime\"},\"renderers\":[{\"id\":\"3357\"},{\"id\":\"3385\"}],\"tags\":[\"hv_created\"],\"tooltips\":[[\"Variable\",\"@{Variable}\"],[\"index\",\"@{index}{%F %T}\"],[\"value\",\"@{value}\"]]},\"id\":\"3315\",\"type\":\"HoverTool\"},{\"attributes\":{\"children\":[{\"id\":\"3312\"},{\"id\":\"3317\"},{\"id\":\"3584\"}],\"margin\":[0,0,0,0],\"name\":\"Row04213\",\"tags\":[\"embedded\"]},\"id\":\"3311\",\"type\":\"Row\"},{\"attributes\":{\"end\":287.32998016357425,\"reset_end\":287.32998016357425,\"reset_start\":220.9702182006836,\"start\":220.9702182006836,\"tags\":[[[\"value\",\"value\",null]]]},\"id\":\"3314\",\"type\":\"Range1d\"},{\"attributes\":{},\"id\":\"3334\",\"type\":\"SaveTool\"},{\"attributes\":{\"text\":\"\",\"text_color\":{\"value\":\"black\"},\"text_font_size\":{\"value\":\"12pt\"}},\"id\":\"3318\",\"type\":\"Title\"},{\"attributes\":{},\"id\":\"3335\",\"type\":\"PanTool\"},{\"attributes\":{\"mantissas\":[1,2,5],\"max_interval\":500.0,\"num_minor_ticks\":0},\"id\":\"3364\",\"type\":\"AdaptiveTicker\"},{\"attributes\":{},\"id\":\"3331\",\"type\":\"BasicTicker\"},{\"attributes\":{\"base\":60,\"mantissas\":[1,2,5,10,15,20,30],\"max_interval\":1800000.0,\"min_interval\":1000.0,\"num_minor_ticks\":0},\"id\":\"3365\",\"type\":\"AdaptiveTicker\"},{\"attributes\":{},\"id\":\"3338\",\"type\":\"ResetTool\"},{\"attributes\":{\"data\":{\"Variable\":[\"Real\",\"Real\",\"Real\",\"Real\",\"Real\",\"Real\",\"Real\",\"Real\",\"Real\",\"Real\",\"Real\",\"Real\",\"Real\",\"Real\",\"Real\",\"Real\",\"Real\",\"Real\",\"Real\",\"Real\",\"Real\",\"Real\",\"Real\",\"Real\",\"Real\",\"Real\",\"Real\",\"Real\",\"Real\",\"Real\",\"Real\",\"Real\",\"Real\",\"Real\",\"Real\",\"Real\",\"Real\",\"Real\",\"Real\",\"Real\",\"Real\",\"Real\"],\"index\":{\"__ndarray__\":\"AAAArcahd0IAAEDevaJ3QgAAAEQQo3dCAADAqWKjd0IAAIAPtaN3QgAAQHUHpHdCAACApv6kd0IAAEAMUaV3QgAAAHKjpXdCAADA1/Wld0IAAIA9SKZ3QgAAgNSRp3dCAABAOuSnd0IAAACgNqh3QgAAwAWJqHdCAAAAN4Cpd0IAAMCc0ql3QgAAgAIlqndCAABAaHeqd0IAAADOyap3QgAAQP/Aq3dCAAAAZROsd0IAAMDKZax3QgAAgDC4rHdCAABAlgqtd0IAAIDHAa53QgAAQC1UrndCAAAAk6aud0IAAMD4+K53QgAAgF5Lr3dCAADAj0Kwd0IAAID1lLB3QgAAQFvnsHdCAAAAwTmxd0IAAMAmjLF3QgAAAFiDsndCAADAvdWyd0IAAIAjKLN3QgAAQIl6s3dCAAAA78yzd0IAAEAgxLR3QgAAAIYWtXdC\",\"dtype\":\"float64\",\"shape\":[42]},\"value\":{\"__ndarray__\":\"PQrXo3ClbUCF61G4Hj1tQI/C9Shcf21ArkfhehTWbUApXI/C9YhuQEjhehSuB25AMzMzMzPTbkBcj8L1KBxvQEnhehSud25AH4XrUbg+bkAyMzMzMyNuQOF6FK5H2W5AFa5H4XqUbkB7FK5H4XptQM3MzMzMPG5AKVyPwvVobkD2KFyPwi1uQNejcD0K321AhOtRuB5lbUBRuB6F67FtQK5H4XoUNm1A4XoUrkfRbkAAAAAAABRwQJqZmZmZSXBAhetRuB6BcEDNzMzMzGBwQI/C9Shcd29A7FG4HoUncEBxPQrXo+hvQKNwPQrX425AZmZmZmYGcUAAAAAAANhwQDMzMzMzp3BAzczMzMyccUDXo3A9CjFxQI/C9Shce3FAexSuR+EOcUBcj8L1KPBwQIXrUbgeyXBA16NwPQq/cEBI4XoUrndwQArXo3A9TnBA\",\"dtype\":\"float64\",\"shape\":[42]}},\"selected\":{\"id\":\"3352\"},\"selection_policy\":{\"id\":\"3406\"}},\"id\":\"3351\",\"type\":\"ColumnDataSource\"},{\"attributes\":{\"days\":[1,2,3,4,5,6,7,8,9,10,11,12,13,14,15,16,17,18,19,20,21,22,23,24,25,26,27,28,29,30,31]},\"id\":\"3367\",\"type\":\"DaysTicker\"},{\"attributes\":{\"base\":24,\"mantissas\":[1,2,4,6,8,12],\"max_interval\":43200000.0,\"min_interval\":3600000.0,\"num_minor_ticks\":0},\"id\":\"3366\",\"type\":\"AdaptiveTicker\"},{\"attributes\":{\"active_drag\":\"auto\",\"active_inspect\":\"auto\",\"active_multi\":null,\"active_scroll\":\"auto\",\"active_tap\":\"auto\",\"tools\":[{\"id\":\"3315\"},{\"id\":\"3334\"},{\"id\":\"3335\"},{\"id\":\"3336\"},{\"id\":\"3337\"},{\"id\":\"3338\"}]},\"id\":\"3340\",\"type\":\"Toolbar\"},{\"attributes\":{\"line_alpha\":0.2,\"line_color\":\"#1f77b3\",\"line_width\":2,\"x\":{\"field\":\"index\"},\"y\":{\"field\":\"value\"}},\"id\":\"3356\",\"type\":\"Line\"},{\"attributes\":{\"axis_label\":\"\",\"bounds\":\"auto\",\"formatter\":{\"id\":\"3347\"},\"major_label_orientation\":\"horizontal\",\"ticker\":{\"id\":\"3327\"}},\"id\":\"3326\",\"type\":\"DatetimeAxis\"},{\"attributes\":{\"months\":[0,1,2,3,4,5,6,7,8,9,10,11]},\"id\":\"3371\",\"type\":\"MonthsTicker\"},{\"attributes\":{\"months\":[0,2,4,6,8,10]},\"id\":\"3372\",\"type\":\"MonthsTicker\"},{\"attributes\":{\"num_minor_ticks\":5,\"tickers\":[{\"id\":\"3364\"},{\"id\":\"3365\"},{\"id\":\"3366\"},{\"id\":\"3367\"},{\"id\":\"3368\"},{\"id\":\"3369\"},{\"id\":\"3370\"},{\"id\":\"3371\"},{\"id\":\"3372\"},{\"id\":\"3373\"},{\"id\":\"3374\"},{\"id\":\"3375\"}]},\"id\":\"3327\",\"type\":\"DatetimeTicker\"},{\"attributes\":{},\"id\":\"3429\",\"type\":\"UnionRenderers\"},{\"attributes\":{\"axis\":{\"id\":\"3330\"},\"dimension\":1,\"grid_line_color\":null,\"ticker\":null},\"id\":\"3333\",\"type\":\"Grid\"},{\"attributes\":{\"below\":[{\"id\":\"3326\"}],\"center\":[{\"id\":\"3329\"},{\"id\":\"3333\"}],\"left\":[{\"id\":\"3330\"}],\"margin\":null,\"min_border_bottom\":10,\"min_border_left\":10,\"min_border_right\":10,\"min_border_top\":10,\"plot_height\":300,\"plot_width\":700,\"renderers\":[{\"id\":\"3357\"},{\"id\":\"3385\"}],\"right\":[{\"id\":\"3377\"}],\"sizing_mode\":\"fixed\",\"title\":{\"id\":\"3318\"},\"toolbar\":{\"id\":\"3340\"},\"x_range\":{\"id\":\"3313\"},\"x_scale\":{\"id\":\"3322\"},\"y_range\":{\"id\":\"3314\"},\"y_scale\":{\"id\":\"3324\"}},\"id\":\"3317\",\"subtype\":\"Figure\",\"type\":\"Plot\"},{\"attributes\":{\"data_source\":{\"id\":\"3379\"},\"glyph\":{\"id\":\"3382\"},\"hover_glyph\":null,\"muted_glyph\":{\"id\":\"3384\"},\"nonselection_glyph\":{\"id\":\"3383\"},\"selection_glyph\":null,\"view\":{\"id\":\"3386\"}},\"id\":\"3385\",\"type\":\"GlyphRenderer\"},{\"attributes\":{\"line_alpha\":0.1,\"line_color\":\"#1f77b3\",\"line_width\":2,\"x\":{\"field\":\"index\"},\"y\":{\"field\":\"value\"}},\"id\":\"3355\",\"type\":\"Line\"}],\"root_ids\":[\"3311\"]},\"title\":\"Bokeh Application\",\"version\":\"2.0.2\"}};\n  var render_items = [{\"docid\":\"de215b5e-74d2-40c6-b560-e8b28a89c457\",\"root_ids\":[\"3311\"],\"roots\":{\"3311\":\"fda08e43-d48a-4bb6-b55a-bec1c342c59f\"}}];\n  root.Bokeh.embed.embed_items_notebook(docs_json, render_items);\n  }\nif (root.Bokeh !== undefined) {\n    embed_document(root);\n  } else {\n    var attempts = 0;\n    var timer = setInterval(function(root) {\n      if (root.Bokeh !== undefined) {\n        clearInterval(timer);\n        embed_document(root);\n      } else if (document.readyState == \"complete\") {\n        attempts++;\n        if (attempts > 100) {\n          clearInterval(timer);\n          console.log(\"Bokeh: ERROR: Unable to run BokehJS code because BokehJS library is missing\");\n        }\n      }\n    }, 10, root)\n  }\n})(window);</script>",
      "text/plain": ":NdOverlay   [Variable]\n   :Curve   [index]   (value)"
     },
     "execution_count": 114,
     "metadata": {
      "application/vnd.holoviews_exec.v0+json": {
       "id": "3311"
      }
     },
     "output_type": "execute_result"
    }
   ],
   "source": [
    "stocks.hvplot.line()#(label = \"Predicting Apple's Close with the S&P500 Close - (6Day Window)\", xlabel=\"Date\", ylabel=\"Price\")"
   ]
  },
  {
   "cell_type": "code",
   "execution_count": null,
   "metadata": {},
   "outputs": [],
   "source": []
  }
 ],
 "metadata": {
  "kernelspec": {
   "display_name": "Python 3.8.5 64-bit ('base': conda)",
   "metadata": {
    "interpreter": {
     "hash": "11ef2bb442b8455a3e6b82f3202efe5c7a01a00a0939705f79f87b65f8f45715"
    }
   },
   "name": "python3"
  },
  "language_info": {
   "codemirror_mode": {
    "name": "ipython",
    "version": 3
   },
   "file_extension": ".py",
   "mimetype": "text/x-python",
   "name": "python",
   "nbconvert_exporter": "python",
   "pygments_lexer": "ipython3",
   "version": "3.8.5"
  },
  "orig_nbformat": 2
 },
 "nbformat": 4,
 "nbformat_minor": 2
}