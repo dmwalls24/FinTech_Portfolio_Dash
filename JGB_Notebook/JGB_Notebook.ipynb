{
 "cells": [
  {
   "cell_type": "code",
   "execution_count": 3,
   "metadata": {},
   "outputs": [
    {
     "name": "stdout",
     "output_type": "stream",
     "text": [
      "Requirement already satisfied: plotly in /Users/josephbarry/miniforge3/envs/alpacaenv/lib/python3.9/site-packages (5.2.1)\n",
      "Requirement already satisfied: six in /Users/josephbarry/miniforge3/envs/alpacaenv/lib/python3.9/site-packages (from plotly) (1.16.0)\n",
      "Requirement already satisfied: tenacity>=6.2.0 in /Users/josephbarry/miniforge3/envs/alpacaenv/lib/python3.9/site-packages (from plotly) (8.0.1)\n"
     ]
    }
   ],
   "source": [
    "!pip install plotly"
   ]
  },
  {
   "cell_type": "code",
   "execution_count": 4,
   "metadata": {},
   "outputs": [],
   "source": [
    "import pandas as pd\n",
    "import numpy as np\n",
    "import datetime\n",
    "import matplotlib.pyplot as plt\n",
    "import plotly.graph_objs as go\n",
    "%matplotlib inline"
   ]
  },
  {
   "cell_type": "code",
   "execution_count": 5,
   "metadata": {},
   "outputs": [],
   "source": [
    "from plotly import __version__\n",
    "from plotly.offline import download_plotlyjs, init_notebook_mode, plot, iplot"
   ]
  },
  {
   "cell_type": "code",
   "execution_count": 6,
   "metadata": {},
   "outputs": [
    {
     "name": "stdout",
     "output_type": "stream",
     "text": [
      "5.2.1\n"
     ]
    },
    {
     "data": {
      "text/html": "        <script type=\"text/javascript\">\n        window.PlotlyConfig = {MathJaxConfig: 'local'};\n        if (window.MathJax) {MathJax.Hub.Config({SVG: {font: \"STIX-Web\"}});}\n        if (typeof require !== 'undefined') {\n        require.undef(\"plotly\");\n        requirejs.config({\n            paths: {\n                'plotly': ['https://cdn.plot.ly/plotly-2.3.1.min']\n            }\n        });\n        require(['plotly'], function(Plotly) {\n            window._Plotly = Plotly;\n        });\n        }\n        </script>\n        "
     },
     "metadata": {},
     "output_type": "display_data"
    }
   ],
   "source": [
    "print(__version__) # requires version >= 1.9.0\n",
    "init_notebook_mode(connected=True)"
   ]
  },
  {
   "cell_type": "code",
   "execution_count": null,
   "metadata": {},
   "outputs": [],
   "source": [
    "# SemiConductors: TSM, NVDA, AMD, MU"
   ]
  },
  {
   "cell_type": "code",
   "execution_count": 8,
   "metadata": {},
   "outputs": [
    {
     "data": {
      "text/html": "<div>\n<style scoped>\n    .dataframe tbody tr th:only-of-type {\n        vertical-align: middle;\n    }\n\n    .dataframe tbody tr th {\n        vertical-align: top;\n    }\n\n    .dataframe thead th {\n        text-align: right;\n    }\n</style>\n<table border=\"1\" class=\"dataframe\">\n  <thead>\n    <tr style=\"text-align: right;\">\n      <th></th>\n      <th>Date</th>\n      <th>Open</th>\n      <th>High</th>\n      <th>Low</th>\n      <th>Close</th>\n      <th>Adj Close</th>\n      <th>Volume</th>\n    </tr>\n  </thead>\n  <tbody>\n    <tr>\n      <th>0</th>\n      <td>2011-08-16</td>\n      <td>11.49</td>\n      <td>11.68</td>\n      <td>11.40</td>\n      <td>11.52</td>\n      <td>8.523615</td>\n      <td>11531700</td>\n    </tr>\n    <tr>\n      <th>1</th>\n      <td>2011-08-17</td>\n      <td>11.54</td>\n      <td>11.59</td>\n      <td>11.35</td>\n      <td>11.51</td>\n      <td>8.516215</td>\n      <td>10491600</td>\n    </tr>\n    <tr>\n      <th>2</th>\n      <td>2011-08-18</td>\n      <td>11.15</td>\n      <td>11.21</td>\n      <td>10.75</td>\n      <td>11.05</td>\n      <td>8.175861</td>\n      <td>21118100</td>\n    </tr>\n    <tr>\n      <th>3</th>\n      <td>2011-08-19</td>\n      <td>10.94</td>\n      <td>11.22</td>\n      <td>10.90</td>\n      <td>10.94</td>\n      <td>8.094472</td>\n      <td>11898100</td>\n    </tr>\n    <tr>\n      <th>4</th>\n      <td>2011-08-22</td>\n      <td>11.21</td>\n      <td>11.31</td>\n      <td>11.04</td>\n      <td>11.24</td>\n      <td>8.316442</td>\n      <td>17618100</td>\n    </tr>\n  </tbody>\n</table>\n</div>",
      "text/plain": "         Date   Open   High    Low  Close  Adj Close    Volume\n0  2011-08-16  11.49  11.68  11.40  11.52   8.523615  11531700\n1  2011-08-17  11.54  11.59  11.35  11.51   8.516215  10491600\n2  2011-08-18  11.15  11.21  10.75  11.05   8.175861  21118100\n3  2011-08-19  10.94  11.22  10.90  10.94   8.094472  11898100\n4  2011-08-22  11.21  11.31  11.04  11.24   8.316442  17618100"
     },
     "execution_count": 8,
     "metadata": {},
     "output_type": "execute_result"
    }
   ],
   "source": [
    "tsm_data = pd.read_csv(\"TSM.csv\")\n",
    "tsm_data.head()"
   ]
  },
  {
   "cell_type": "code",
   "execution_count": 9,
   "metadata": {},
   "outputs": [],
   "source": [
    "amd_data = pd.read_csv(\"AMD.csv\")\n",
    "mu_data = pd.read_csv(\"MU.csv\")\n",
    "nvda_data = pd.read_csv(\"NVDA.csv\")"
   ]
  },
  {
   "cell_type": "code",
   "execution_count": null,
   "metadata": {},
   "outputs": [],
   "source": []
  }
 ],
 "metadata": {
  "kernelspec": {
   "display_name": "Python 3 (ipykernel)",
   "language": "python",
   "name": "python3"
  },
  "language_info": {
   "codemirror_mode": {
    "name": "ipython",
    "version": 3
   },
   "file_extension": ".py",
   "mimetype": "text/x-python",
   "name": "python",
   "nbconvert_exporter": "python",
   "pygments_lexer": "ipython3",
   "version": "3.9.5"
  },
  "orig_nbformat": 2
 },
 "nbformat": 4,
 "nbformat_minor": 2
}