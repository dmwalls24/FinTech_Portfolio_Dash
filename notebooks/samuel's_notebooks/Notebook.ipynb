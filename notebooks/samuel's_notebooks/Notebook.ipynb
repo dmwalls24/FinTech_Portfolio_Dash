{
 "metadata": {
  "language_info": {
   "codemirror_mode": {
    "name": "ipython",
    "version": 3
   },
   "file_extension": ".py",
   "mimetype": "text/x-python",
   "name": "python",
   "nbconvert_exporter": "python",
   "pygments_lexer": "ipython3",
   "version": "3.8.5"
  },
  "orig_nbformat": 2,
  "kernelspec": {
   "name": "python3",
   "display_name": "Python 3.8.5 64-bit ('base': conda)",
   "metadata": {
    "interpreter": {
     "hash": "11ef2bb442b8455a3e6b82f3202efe5c7a01a00a0939705f79f87b65f8f45715"
    }
   }
  }
 },
 "nbformat": 4,
 "nbformat_minor": 2,
 "cells": [
  {
   "cell_type": "code",
   "execution_count": 37,
   "metadata": {},
   "outputs": [],
   "source": [
    "import os\n",
    "import numpy as np\n",
    "import pandas as pd\n",
    "from pathlib import Path\n",
    "from dotenv import load_dotenv\n",
    "import alpaca_trade_api as tradeapi\n",
    "from newsapi import NewsApiClient\n",
    "from datetime import datetime, timedelta\n",
    "import numpy as np\n",
    "from numpy.random import seed\n",
    "seed(1)\n",
    "import requests\n",
    "from tensorflow import random\n",
    "random.set_seed(2)\n",
    "#import nltk as nltk\n",
    "#nltk.download('vader_lexicon')\n",
    "#from nltk.sentiment.vader import SentimentIntensityAnalyzer\n",
    "#analyzer = SentimentIntensityAnalyzer()\n",
    "#from nltk.corpus import stopwords, reuters\n",
    "import hvplot.pandas\n",
    "%matplotlib inline"
   ]
  },
  {
   "cell_type": "code",
   "execution_count": 38,
   "metadata": {},
   "outputs": [
    {
     "output_type": "execute_result",
     "data": {
      "text/plain": [
       "True"
      ]
     },
     "metadata": {},
     "execution_count": 38
    }
   ],
   "source": [
    "load_dotenv()"
   ]
  },
  {
   "cell_type": "code",
   "execution_count": 39,
   "metadata": {},
   "outputs": [],
   "source": [
    "alpaca_api_key = os.getenv(\"ALPACA_API_KEY\")\n",
    "alpaca_secret_key = os.getenv(\"ALPACA_SECRET_KEY\")\n",
    "alpaca = tradeapi.REST(\n",
    "    alpaca_api_key,\n",
    "    alpaca_secret_key,\n",
    "    api_version=\"v2\")\n",
    "#print(alpaca_api_key)"
   ]
  },
  {
   "cell_type": "code",
   "execution_count": 40,
   "metadata": {},
   "outputs": [],
   "source": [
    "api_key = os.getenv(\"news_api\")\n",
    "#print(api_key)"
   ]
  },
  {
   "cell_type": "code",
   "execution_count": 41,
   "metadata": {},
   "outputs": [],
   "source": [
    "newsapi = NewsApiClient(api_key=api_key)"
   ]
  },
  {
   "cell_type": "code",
   "execution_count": 42,
   "metadata": {},
   "outputs": [
    {
     "output_type": "execute_result",
     "data": {
      "text/plain": [
       "                             AAPL                                        \\\n",
       "                             open      high     low     close    volume   \n",
       "time                                                                      \n",
       "2019-01-02 00:00:00-05:00  154.89  158.8500  154.23  157.5225  27803621   \n",
       "2019-01-03 00:00:00-05:00  143.98  145.7200  142.00  142.2900  82418448   \n",
       "2019-01-04 00:00:00-05:00  144.53  148.5499  143.80  148.1200  51267225   \n",
       "2019-01-07 00:00:00-05:00  148.70  148.8300  145.90  147.9100  49982480   \n",
       "2019-01-08 00:00:00-05:00  149.56  151.8200  148.52  150.6300  36592406   \n",
       "\n",
       "                              DIA                                      ...  \\\n",
       "                             open    high      low     close   volume  ...   \n",
       "time                                                                   ...   \n",
       "2019-01-02 00:00:00-05:00  229.27  234.00  229.140  232.9800  4949729  ...   \n",
       "2019-01-03 00:00:00-05:00  231.25  231.42  226.621  227.1900  6864028  ...   \n",
       "2019-01-04 00:00:00-05:00  230.00  235.18  229.730  234.2401  6976907  ...   \n",
       "2019-01-07 00:00:00-05:00  234.84  236.88  232.951  235.3900  3873356  ...   \n",
       "2019-01-08 00:00:00-05:00  237.94  238.66  235.790  237.8300  4074132  ...   \n",
       "\n",
       "                              QQQ                                         SPY  \\\n",
       "                             open    high     low     close    volume    open   \n",
       "time                                                                            \n",
       "2019-01-02 00:00:00-05:00  150.99  155.75  150.88  154.6799  48312136  245.98   \n",
       "2019-01-03 00:00:00-05:00  152.60  153.26  149.73  149.9100  65578032  248.23   \n",
       "2019-01-04 00:00:00-05:00  152.18  157.00  151.74  156.3114  61765071  247.59   \n",
       "2019-01-07 00:00:00-05:00  156.54  158.86  156.11  158.1300  45376168  252.69   \n",
       "2019-01-08 00:00:00-05:00  159.56  160.11  157.20  159.5200  44064960  256.82   \n",
       "\n",
       "                                                              \n",
       "                             high     low   close     volume  \n",
       "time                                                          \n",
       "2019-01-02 00:00:00-05:00  251.21  245.95  249.89  107236613  \n",
       "2019-01-03 00:00:00-05:00  248.57  244.03  244.46  113782919  \n",
       "2019-01-04 00:00:00-05:00  253.11  247.17  252.41  122528832  \n",
       "2019-01-07 00:00:00-05:00  255.95  251.69  254.40   88317608  \n",
       "2019-01-08 00:00:00-05:00  257.31  254.00  256.65   88864452  \n",
       "\n",
       "[5 rows x 30 columns]"
      ],
      "text/html": "<div>\n<style scoped>\n    .dataframe tbody tr th:only-of-type {\n        vertical-align: middle;\n    }\n\n    .dataframe tbody tr th {\n        vertical-align: top;\n    }\n\n    .dataframe thead tr th {\n        text-align: left;\n    }\n\n    .dataframe thead tr:last-of-type th {\n        text-align: right;\n    }\n</style>\n<table border=\"1\" class=\"dataframe\">\n  <thead>\n    <tr>\n      <th></th>\n      <th colspan=\"5\" halign=\"left\">AAPL</th>\n      <th colspan=\"5\" halign=\"left\">DIA</th>\n      <th>...</th>\n      <th colspan=\"5\" halign=\"left\">QQQ</th>\n      <th colspan=\"5\" halign=\"left\">SPY</th>\n    </tr>\n    <tr>\n      <th></th>\n      <th>open</th>\n      <th>high</th>\n      <th>low</th>\n      <th>close</th>\n      <th>volume</th>\n      <th>open</th>\n      <th>high</th>\n      <th>low</th>\n      <th>close</th>\n      <th>volume</th>\n      <th>...</th>\n      <th>open</th>\n      <th>high</th>\n      <th>low</th>\n      <th>close</th>\n      <th>volume</th>\n      <th>open</th>\n      <th>high</th>\n      <th>low</th>\n      <th>close</th>\n      <th>volume</th>\n    </tr>\n    <tr>\n      <th>time</th>\n      <th></th>\n      <th></th>\n      <th></th>\n      <th></th>\n      <th></th>\n      <th></th>\n      <th></th>\n      <th></th>\n      <th></th>\n      <th></th>\n      <th></th>\n      <th></th>\n      <th></th>\n      <th></th>\n      <th></th>\n      <th></th>\n      <th></th>\n      <th></th>\n      <th></th>\n      <th></th>\n      <th></th>\n    </tr>\n  </thead>\n  <tbody>\n    <tr>\n      <th>2019-01-02 00:00:00-05:00</th>\n      <td>154.89</td>\n      <td>158.8500</td>\n      <td>154.23</td>\n      <td>157.5225</td>\n      <td>27803621</td>\n      <td>229.27</td>\n      <td>234.00</td>\n      <td>229.140</td>\n      <td>232.9800</td>\n      <td>4949729</td>\n      <td>...</td>\n      <td>150.99</td>\n      <td>155.75</td>\n      <td>150.88</td>\n      <td>154.6799</td>\n      <td>48312136</td>\n      <td>245.98</td>\n      <td>251.21</td>\n      <td>245.95</td>\n      <td>249.89</td>\n      <td>107236613</td>\n    </tr>\n    <tr>\n      <th>2019-01-03 00:00:00-05:00</th>\n      <td>143.98</td>\n      <td>145.7200</td>\n      <td>142.00</td>\n      <td>142.2900</td>\n      <td>82418448</td>\n      <td>231.25</td>\n      <td>231.42</td>\n      <td>226.621</td>\n      <td>227.1900</td>\n      <td>6864028</td>\n      <td>...</td>\n      <td>152.60</td>\n      <td>153.26</td>\n      <td>149.73</td>\n      <td>149.9100</td>\n      <td>65578032</td>\n      <td>248.23</td>\n      <td>248.57</td>\n      <td>244.03</td>\n      <td>244.46</td>\n      <td>113782919</td>\n    </tr>\n    <tr>\n      <th>2019-01-04 00:00:00-05:00</th>\n      <td>144.53</td>\n      <td>148.5499</td>\n      <td>143.80</td>\n      <td>148.1200</td>\n      <td>51267225</td>\n      <td>230.00</td>\n      <td>235.18</td>\n      <td>229.730</td>\n      <td>234.2401</td>\n      <td>6976907</td>\n      <td>...</td>\n      <td>152.18</td>\n      <td>157.00</td>\n      <td>151.74</td>\n      <td>156.3114</td>\n      <td>61765071</td>\n      <td>247.59</td>\n      <td>253.11</td>\n      <td>247.17</td>\n      <td>252.41</td>\n      <td>122528832</td>\n    </tr>\n    <tr>\n      <th>2019-01-07 00:00:00-05:00</th>\n      <td>148.70</td>\n      <td>148.8300</td>\n      <td>145.90</td>\n      <td>147.9100</td>\n      <td>49982480</td>\n      <td>234.84</td>\n      <td>236.88</td>\n      <td>232.951</td>\n      <td>235.3900</td>\n      <td>3873356</td>\n      <td>...</td>\n      <td>156.54</td>\n      <td>158.86</td>\n      <td>156.11</td>\n      <td>158.1300</td>\n      <td>45376168</td>\n      <td>252.69</td>\n      <td>255.95</td>\n      <td>251.69</td>\n      <td>254.40</td>\n      <td>88317608</td>\n    </tr>\n    <tr>\n      <th>2019-01-08 00:00:00-05:00</th>\n      <td>149.56</td>\n      <td>151.8200</td>\n      <td>148.52</td>\n      <td>150.6300</td>\n      <td>36592406</td>\n      <td>237.94</td>\n      <td>238.66</td>\n      <td>235.790</td>\n      <td>237.8300</td>\n      <td>4074132</td>\n      <td>...</td>\n      <td>159.56</td>\n      <td>160.11</td>\n      <td>157.20</td>\n      <td>159.5200</td>\n      <td>44064960</td>\n      <td>256.82</td>\n      <td>257.31</td>\n      <td>254.00</td>\n      <td>256.65</td>\n      <td>88864452</td>\n    </tr>\n  </tbody>\n</table>\n<p>5 rows × 30 columns</p>\n</div>"
     },
     "metadata": {},
     "execution_count": 42
    }
   ],
   "source": [
    "#15Min interval\n",
    "timeframe = \"1D\"\n",
    "start_date = pd.Timestamp(\"2019-01-01\", tz=\"America/New_York\").isoformat()\n",
    "end_date = pd.Timestamp(\"2021-12-31\", tz=\"America/New_York\").isoformat()\n",
    "#today = pd.Timestamp(\"2021-01-02\", tz=\"America/New_York\").isoformat()\n",
    "ticker = [\"SPY\", \"DIA\", \"QQQ\", \"AAPL\", \"GOOGL\", \"JNJ\"]\n",
    "nasdaq_ticker = alpaca.get_barset(\n",
    "    ticker,\n",
    "    timeframe,\n",
    "    start=start_date,\n",
    "    end=end_date,\n",
    "    limit=1000,\n",
    ").df\n",
    "nasdaq_ticker.dropna(inplace=True)\n",
    "nasdaq_ticker.head(5)\n",
    "#apple_ticker.dropna(inplace=True)"
   ]
  },
  {
   "cell_type": "code",
   "execution_count": 43,
   "metadata": {},
   "outputs": [
    {
     "output_type": "execute_result",
     "data": {
      "text/plain": [
       "            S&P500       DOW    NASDAQ     Apple    Google  Johnson&Johnson\n",
       "2019-01-02  249.89  232.9800  154.6799  157.5225  1053.240          127.680\n",
       "2019-01-03  244.46  227.1900  149.9100  142.2900  1026.505          126.214\n",
       "2019-01-04  252.41  234.2401  156.3114  148.1200  1076.550          127.830\n",
       "2019-01-07  254.40  235.3900  158.1300  147.9100  1076.010          127.140\n",
       "2019-01-08  256.65  237.8300  159.5200  150.6300  1085.510          129.850"
      ],
      "text/html": "<div>\n<style scoped>\n    .dataframe tbody tr th:only-of-type {\n        vertical-align: middle;\n    }\n\n    .dataframe tbody tr th {\n        vertical-align: top;\n    }\n\n    .dataframe thead th {\n        text-align: right;\n    }\n</style>\n<table border=\"1\" class=\"dataframe\">\n  <thead>\n    <tr style=\"text-align: right;\">\n      <th></th>\n      <th>S&amp;P500</th>\n      <th>DOW</th>\n      <th>NASDAQ</th>\n      <th>Apple</th>\n      <th>Google</th>\n      <th>Johnson&amp;Johnson</th>\n    </tr>\n  </thead>\n  <tbody>\n    <tr>\n      <th>2019-01-02</th>\n      <td>249.89</td>\n      <td>232.9800</td>\n      <td>154.6799</td>\n      <td>157.5225</td>\n      <td>1053.240</td>\n      <td>127.680</td>\n    </tr>\n    <tr>\n      <th>2019-01-03</th>\n      <td>244.46</td>\n      <td>227.1900</td>\n      <td>149.9100</td>\n      <td>142.2900</td>\n      <td>1026.505</td>\n      <td>126.214</td>\n    </tr>\n    <tr>\n      <th>2019-01-04</th>\n      <td>252.41</td>\n      <td>234.2401</td>\n      <td>156.3114</td>\n      <td>148.1200</td>\n      <td>1076.550</td>\n      <td>127.830</td>\n    </tr>\n    <tr>\n      <th>2019-01-07</th>\n      <td>254.40</td>\n      <td>235.3900</td>\n      <td>158.1300</td>\n      <td>147.9100</td>\n      <td>1076.010</td>\n      <td>127.140</td>\n    </tr>\n    <tr>\n      <th>2019-01-08</th>\n      <td>256.65</td>\n      <td>237.8300</td>\n      <td>159.5200</td>\n      <td>150.6300</td>\n      <td>1085.510</td>\n      <td>129.850</td>\n    </tr>\n  </tbody>\n</table>\n</div>"
     },
     "metadata": {},
     "execution_count": 43
    }
   ],
   "source": [
    "tech_df = pd.DataFrame()\n",
    "tech_df[\"S&P500\"] = nasdaq_ticker[\"SPY\"][\"close\"]\n",
    "tech_df[\"DOW\"] = nasdaq_ticker[\"DIA\"][\"close\"]\n",
    "tech_df[\"NASDAQ\"] = nasdaq_ticker[\"QQQ\"][\"close\"]\n",
    "tech_df[\"Apple\"] = nasdaq_ticker[\"AAPL\"][\"close\"]\n",
    "tech_df[\"Google\"] = nasdaq_ticker[\"GOOGL\"][\"close\"]\n",
    "tech_df[\"Johnson&Johnson\"] = nasdaq_ticker[\"JNJ\"][\"close\"]\n",
    "#apple_df = apple_df.pct_change().dropna()\n",
    "tech_df.index = tech_df.index.date \n",
    "tech_df.dropna(inplace=True)\n",
    "tech_df.head()"
   ]
  },
  {
   "cell_type": "code",
   "execution_count": 44,
   "metadata": {},
   "outputs": [
    {
     "output_type": "execute_result",
     "data": {
      "text/plain": [
       "              S&P500       DOW    NASDAQ     Apple    Google  Johnson&Johnson\n",
       "2019-01-03 -0.021730 -0.024852 -0.030837 -0.096700 -0.025384        -0.011482\n",
       "2019-01-04  0.032521  0.031032  0.042702  0.040973  0.048753         0.012804\n",
       "2019-01-07  0.007884  0.004909  0.011634 -0.001418 -0.000502        -0.005398\n",
       "2019-01-08  0.008844  0.010366  0.008790  0.018390  0.008829         0.021315\n",
       "2019-01-09  0.004130  0.003574  0.007397  0.018190 -0.002110        -0.007470"
      ],
      "text/html": "<div>\n<style scoped>\n    .dataframe tbody tr th:only-of-type {\n        vertical-align: middle;\n    }\n\n    .dataframe tbody tr th {\n        vertical-align: top;\n    }\n\n    .dataframe thead th {\n        text-align: right;\n    }\n</style>\n<table border=\"1\" class=\"dataframe\">\n  <thead>\n    <tr style=\"text-align: right;\">\n      <th></th>\n      <th>S&amp;P500</th>\n      <th>DOW</th>\n      <th>NASDAQ</th>\n      <th>Apple</th>\n      <th>Google</th>\n      <th>Johnson&amp;Johnson</th>\n    </tr>\n  </thead>\n  <tbody>\n    <tr>\n      <th>2019-01-03</th>\n      <td>-0.021730</td>\n      <td>-0.024852</td>\n      <td>-0.030837</td>\n      <td>-0.096700</td>\n      <td>-0.025384</td>\n      <td>-0.011482</td>\n    </tr>\n    <tr>\n      <th>2019-01-04</th>\n      <td>0.032521</td>\n      <td>0.031032</td>\n      <td>0.042702</td>\n      <td>0.040973</td>\n      <td>0.048753</td>\n      <td>0.012804</td>\n    </tr>\n    <tr>\n      <th>2019-01-07</th>\n      <td>0.007884</td>\n      <td>0.004909</td>\n      <td>0.011634</td>\n      <td>-0.001418</td>\n      <td>-0.000502</td>\n      <td>-0.005398</td>\n    </tr>\n    <tr>\n      <th>2019-01-08</th>\n      <td>0.008844</td>\n      <td>0.010366</td>\n      <td>0.008790</td>\n      <td>0.018390</td>\n      <td>0.008829</td>\n      <td>0.021315</td>\n    </tr>\n    <tr>\n      <th>2019-01-09</th>\n      <td>0.004130</td>\n      <td>0.003574</td>\n      <td>0.007397</td>\n      <td>0.018190</td>\n      <td>-0.002110</td>\n      <td>-0.007470</td>\n    </tr>\n  </tbody>\n</table>\n</div>"
     },
     "metadata": {},
     "execution_count": 44
    }
   ],
   "source": [
    "tech_returns = tech_df.pct_change().dropna()\n",
    "tech_returns.head()"
   ]
  },
  {
   "cell_type": "code",
   "execution_count": 45,
   "metadata": {},
   "outputs": [
    {
     "output_type": "execute_result",
     "data": {
      "text/plain": [
       "            Cushing, OK WTI Spot Price FOB (Dollars per Barrel)\n",
       "Date                                                           \n",
       "1986-01-02                                              25.56  \n",
       "1986-01-03                                              26.00  \n",
       "1986-01-06                                              26.53  \n",
       "1986-01-07                                              25.85  \n",
       "1986-01-08                                              25.87  "
      ],
      "text/html": "<div>\n<style scoped>\n    .dataframe tbody tr th:only-of-type {\n        vertical-align: middle;\n    }\n\n    .dataframe tbody tr th {\n        vertical-align: top;\n    }\n\n    .dataframe thead th {\n        text-align: right;\n    }\n</style>\n<table border=\"1\" class=\"dataframe\">\n  <thead>\n    <tr style=\"text-align: right;\">\n      <th></th>\n      <th>Cushing, OK WTI Spot Price FOB (Dollars per Barrel)</th>\n    </tr>\n    <tr>\n      <th>Date</th>\n      <th></th>\n    </tr>\n  </thead>\n  <tbody>\n    <tr>\n      <th>1986-01-02</th>\n      <td>25.56</td>\n    </tr>\n    <tr>\n      <th>1986-01-03</th>\n      <td>26.00</td>\n    </tr>\n    <tr>\n      <th>1986-01-06</th>\n      <td>26.53</td>\n    </tr>\n    <tr>\n      <th>1986-01-07</th>\n      <td>25.85</td>\n    </tr>\n    <tr>\n      <th>1986-01-08</th>\n      <td>25.87</td>\n    </tr>\n  </tbody>\n</table>\n</div>"
     },
     "metadata": {},
     "execution_count": 45
    }
   ],
   "source": [
    "csv_path = Path(\"../csvs/Book1.csv/\")\n",
    "oil_data = pd.read_csv(csv_path, index_col=\"Date\", parse_dates=True, infer_datetime_format=True)\n",
    "oil_data.sort_index(ascending = True, inplace = True)\n",
    "oil_data.head()"
   ]
  },
  {
   "cell_type": "code",
   "execution_count": 46,
   "metadata": {},
   "outputs": [],
   "source": [
    "oil = pd.DataFrame()\n",
    "oil[\"DPB\"] = oil_data[\"Cushing, OK WTI Spot Price FOB (Dollars per Barrel)\"]"
   ]
  },
  {
   "cell_type": "code",
   "execution_count": 47,
   "metadata": {},
   "outputs": [
    {
     "output_type": "execute_result",
     "data": {
      "text/plain": [
       "              DPB\n",
       "Date             \n",
       "1986-01-02  25.56\n",
       "1986-01-03  26.00\n",
       "1986-01-06  26.53\n",
       "1986-01-07  25.85\n",
       "1986-01-08  25.87"
      ],
      "text/html": "<div>\n<style scoped>\n    .dataframe tbody tr th:only-of-type {\n        vertical-align: middle;\n    }\n\n    .dataframe tbody tr th {\n        vertical-align: top;\n    }\n\n    .dataframe thead th {\n        text-align: right;\n    }\n</style>\n<table border=\"1\" class=\"dataframe\">\n  <thead>\n    <tr style=\"text-align: right;\">\n      <th></th>\n      <th>DPB</th>\n    </tr>\n    <tr>\n      <th>Date</th>\n      <th></th>\n    </tr>\n  </thead>\n  <tbody>\n    <tr>\n      <th>1986-01-02</th>\n      <td>25.56</td>\n    </tr>\n    <tr>\n      <th>1986-01-03</th>\n      <td>26.00</td>\n    </tr>\n    <tr>\n      <th>1986-01-06</th>\n      <td>26.53</td>\n    </tr>\n    <tr>\n      <th>1986-01-07</th>\n      <td>25.85</td>\n    </tr>\n    <tr>\n      <th>1986-01-08</th>\n      <td>25.87</td>\n    </tr>\n  </tbody>\n</table>\n</div>"
     },
     "metadata": {},
     "execution_count": 47
    }
   ],
   "source": [
    "oil.head()"
   ]
  },
  {
   "cell_type": "code",
   "execution_count": 48,
   "metadata": {},
   "outputs": [
    {
     "output_type": "execute_result",
     "data": {
      "text/plain": [
       "            New Cases  7-Day Moving Avg  Historic Cases\n",
       "Date                                                   \n",
       "2021-06-28       8669             12295              44\n",
       "2021-06-29      14823             12504             122\n",
       "2021-06-30      14353             12528             810\n",
       "2021-07-01      17911             12914             472\n",
       "2021-07-02      15555             13241             391"
      ],
      "text/html": "<div>\n<style scoped>\n    .dataframe tbody tr th:only-of-type {\n        vertical-align: middle;\n    }\n\n    .dataframe tbody tr th {\n        vertical-align: top;\n    }\n\n    .dataframe thead th {\n        text-align: right;\n    }\n</style>\n<table border=\"1\" class=\"dataframe\">\n  <thead>\n    <tr style=\"text-align: right;\">\n      <th></th>\n      <th>New Cases</th>\n      <th>7-Day Moving Avg</th>\n      <th>Historic Cases</th>\n    </tr>\n    <tr>\n      <th>Date</th>\n      <th></th>\n      <th></th>\n      <th></th>\n    </tr>\n  </thead>\n  <tbody>\n    <tr>\n      <th>2021-06-28</th>\n      <td>8669</td>\n      <td>12295</td>\n      <td>44</td>\n    </tr>\n    <tr>\n      <th>2021-06-29</th>\n      <td>14823</td>\n      <td>12504</td>\n      <td>122</td>\n    </tr>\n    <tr>\n      <th>2021-06-30</th>\n      <td>14353</td>\n      <td>12528</td>\n      <td>810</td>\n    </tr>\n    <tr>\n      <th>2021-07-01</th>\n      <td>17911</td>\n      <td>12914</td>\n      <td>472</td>\n    </tr>\n    <tr>\n      <th>2021-07-02</th>\n      <td>15555</td>\n      <td>13241</td>\n      <td>391</td>\n    </tr>\n  </tbody>\n</table>\n</div>"
     },
     "metadata": {},
     "execution_count": 48
    }
   ],
   "source": [
    "csv_path = Path(\"../csvs/covid_cases.csv/\")\n",
    "covid_data = pd.read_csv(csv_path, index_col=\"Date\", parse_dates=True, infer_datetime_format=True)\n",
    "covid_data.sort_index(ascending = True, inplace = True)\n",
    "covid_data.tail()"
   ]
  },
  {
   "cell_type": "code",
   "execution_count": 49,
   "metadata": {},
   "outputs": [
    {
     "output_type": "execute_result",
     "data": {
      "text/plain": [
       "<matplotlib.axes._subplots.AxesSubplot at 0x7ffa9e3c5cd0>"
      ]
     },
     "metadata": {},
     "execution_count": 49
    },
    {
     "output_type": "display_data",
     "data": {
      "text/plain": "<Figure size 432x288 with 1 Axes>",
      "image/svg+xml": "<?xml version=\"1.0\" encoding=\"utf-8\" standalone=\"no\"?>\n<!DOCTYPE svg PUBLIC \"-//W3C//DTD SVG 1.1//EN\"\n  \"http://www.w3.org/Graphics/SVG/1.1/DTD/svg11.dtd\">\n<!-- Created with matplotlib (https://matplotlib.org/) -->\n<svg height=\"273.394063pt\" version=\"1.1\" viewBox=\"0 0 399.772518 273.394063\" width=\"399.772518pt\" xmlns=\"http://www.w3.org/2000/svg\" xmlns:xlink=\"http://www.w3.org/1999/xlink\">\n <defs>\n  <style type=\"text/css\">\n*{stroke-linecap:butt;stroke-linejoin:round;}\n  </style>\n </defs>\n <g id=\"figure_1\">\n  <g id=\"patch_1\">\n   <path d=\"M 0 273.394063 \nL 399.772518 273.394063 \nL 399.772518 0 \nL 0 0 \nz\n\" style=\"fill:none;\"/>\n  </g>\n  <g id=\"axes_1\">\n   <g id=\"patch_2\">\n    <path d=\"M 52.375 224.64 \nL 387.175 224.64 \nL 387.175 7.2 \nL 52.375 7.2 \nz\n\" style=\"fill:#ffffff;\"/>\n   </g>\n   <g id=\"matplotlib.axis_1\">\n    <g id=\"xtick_1\">\n     <g id=\"line2d_1\">\n      <defs>\n       <path d=\"M 0 0 \nL 0 3.5 \n\" id=\"m3f6f46d5c9\" style=\"stroke:#000000;stroke-width:0.8;\"/>\n      </defs>\n      <g>\n       <use style=\"stroke:#000000;stroke-width:0.8;\" x=\"52.375\" xlink:href=\"#m3f6f46d5c9\" y=\"224.64\"/>\n      </g>\n     </g>\n    </g>\n    <g id=\"xtick_2\">\n     <g id=\"line2d_2\">\n      <g>\n       <use style=\"stroke:#000000;stroke-width:0.8;\" x=\"96.845588\" xlink:href=\"#m3f6f46d5c9\" y=\"224.64\"/>\n      </g>\n     </g>\n     <g id=\"text_1\">\n      <!-- Apr -->\n      <defs>\n       <path d=\"M 34.1875 63.1875 \nL 20.796875 26.90625 \nL 47.609375 26.90625 \nz\nM 28.609375 72.90625 \nL 39.796875 72.90625 \nL 67.578125 0 \nL 57.328125 0 \nL 50.6875 18.703125 \nL 17.828125 18.703125 \nL 11.1875 0 \nL 0.78125 0 \nz\n\" id=\"DejaVuSans-65\"/>\n       <path d=\"M 18.109375 8.203125 \nL 18.109375 -20.796875 \nL 9.078125 -20.796875 \nL 9.078125 54.6875 \nL 18.109375 54.6875 \nL 18.109375 46.390625 \nQ 20.953125 51.265625 25.265625 53.625 \nQ 29.59375 56 35.59375 56 \nQ 45.5625 56 51.78125 48.09375 \nQ 58.015625 40.1875 58.015625 27.296875 \nQ 58.015625 14.40625 51.78125 6.484375 \nQ 45.5625 -1.421875 35.59375 -1.421875 \nQ 29.59375 -1.421875 25.265625 0.953125 \nQ 20.953125 3.328125 18.109375 8.203125 \nz\nM 48.6875 27.296875 \nQ 48.6875 37.203125 44.609375 42.84375 \nQ 40.53125 48.484375 33.40625 48.484375 \nQ 26.265625 48.484375 22.1875 42.84375 \nQ 18.109375 37.203125 18.109375 27.296875 \nQ 18.109375 17.390625 22.1875 11.75 \nQ 26.265625 6.109375 33.40625 6.109375 \nQ 40.53125 6.109375 44.609375 11.75 \nQ 48.6875 17.390625 48.6875 27.296875 \nz\n\" id=\"DejaVuSans-112\"/>\n       <path d=\"M 41.109375 46.296875 \nQ 39.59375 47.171875 37.8125 47.578125 \nQ 36.03125 48 33.890625 48 \nQ 26.265625 48 22.1875 43.046875 \nQ 18.109375 38.09375 18.109375 28.8125 \nL 18.109375 0 \nL 9.078125 0 \nL 9.078125 54.6875 \nL 18.109375 54.6875 \nL 18.109375 46.1875 \nQ 20.953125 51.171875 25.484375 53.578125 \nQ 30.03125 56 36.53125 56 \nQ 37.453125 56 38.578125 55.875 \nQ 39.703125 55.765625 41.0625 55.515625 \nz\n\" id=\"DejaVuSans-114\"/>\n      </defs>\n      <g transform=\"translate(88.195588 239.238438)scale(0.1 -0.1)\">\n       <use xlink:href=\"#DejaVuSans-65\"/>\n       <use x=\"68.408203\" xlink:href=\"#DejaVuSans-112\"/>\n       <use x=\"131.884766\" xlink:href=\"#DejaVuSans-114\"/>\n      </g>\n     </g>\n    </g>\n    <g id=\"xtick_3\">\n     <g id=\"line2d_3\">\n      <g>\n       <use style=\"stroke:#000000;stroke-width:0.8;\" x=\"154.657353\" xlink:href=\"#m3f6f46d5c9\" y=\"224.64\"/>\n      </g>\n     </g>\n     <g id=\"text_2\">\n      <!-- Jul -->\n      <defs>\n       <path d=\"M 9.8125 72.90625 \nL 19.671875 72.90625 \nL 19.671875 5.078125 \nQ 19.671875 -8.109375 14.671875 -14.0625 \nQ 9.671875 -20.015625 -1.421875 -20.015625 \nL -5.171875 -20.015625 \nL -5.171875 -11.71875 \nL -2.09375 -11.71875 \nQ 4.4375 -11.71875 7.125 -8.046875 \nQ 9.8125 -4.390625 9.8125 5.078125 \nz\n\" id=\"DejaVuSans-74\"/>\n       <path d=\"M 8.5 21.578125 \nL 8.5 54.6875 \nL 17.484375 54.6875 \nL 17.484375 21.921875 \nQ 17.484375 14.15625 20.5 10.265625 \nQ 23.53125 6.390625 29.59375 6.390625 \nQ 36.859375 6.390625 41.078125 11.03125 \nQ 45.3125 15.671875 45.3125 23.6875 \nL 45.3125 54.6875 \nL 54.296875 54.6875 \nL 54.296875 0 \nL 45.3125 0 \nL 45.3125 8.40625 \nQ 42.046875 3.421875 37.71875 1 \nQ 33.40625 -1.421875 27.6875 -1.421875 \nQ 18.265625 -1.421875 13.375 4.4375 \nQ 8.5 10.296875 8.5 21.578125 \nz\nM 31.109375 56 \nz\n\" id=\"DejaVuSans-117\"/>\n       <path d=\"M 9.421875 75.984375 \nL 18.40625 75.984375 \nL 18.40625 0 \nL 9.421875 0 \nz\n\" id=\"DejaVuSans-108\"/>\n      </defs>\n      <g transform=\"translate(148.62454 239.238438)scale(0.1 -0.1)\">\n       <use xlink:href=\"#DejaVuSans-74\"/>\n       <use x=\"29.492188\" xlink:href=\"#DejaVuSans-117\"/>\n       <use x=\"92.871094\" xlink:href=\"#DejaVuSans-108\"/>\n      </g>\n     </g>\n    </g>\n    <g id=\"xtick_4\">\n     <g id=\"line2d_4\">\n      <g>\n       <use style=\"stroke:#000000;stroke-width:0.8;\" x=\"213.104412\" xlink:href=\"#m3f6f46d5c9\" y=\"224.64\"/>\n      </g>\n     </g>\n     <g id=\"text_3\">\n      <!-- Oct -->\n      <defs>\n       <path d=\"M 39.40625 66.21875 \nQ 28.65625 66.21875 22.328125 58.203125 \nQ 16.015625 50.203125 16.015625 36.375 \nQ 16.015625 22.609375 22.328125 14.59375 \nQ 28.65625 6.59375 39.40625 6.59375 \nQ 50.140625 6.59375 56.421875 14.59375 \nQ 62.703125 22.609375 62.703125 36.375 \nQ 62.703125 50.203125 56.421875 58.203125 \nQ 50.140625 66.21875 39.40625 66.21875 \nz\nM 39.40625 74.21875 \nQ 54.734375 74.21875 63.90625 63.9375 \nQ 73.09375 53.65625 73.09375 36.375 \nQ 73.09375 19.140625 63.90625 8.859375 \nQ 54.734375 -1.421875 39.40625 -1.421875 \nQ 24.03125 -1.421875 14.8125 8.828125 \nQ 5.609375 19.09375 5.609375 36.375 \nQ 5.609375 53.65625 14.8125 63.9375 \nQ 24.03125 74.21875 39.40625 74.21875 \nz\n\" id=\"DejaVuSans-79\"/>\n       <path d=\"M 48.78125 52.59375 \nL 48.78125 44.1875 \nQ 44.96875 46.296875 41.140625 47.34375 \nQ 37.3125 48.390625 33.40625 48.390625 \nQ 24.65625 48.390625 19.8125 42.84375 \nQ 14.984375 37.3125 14.984375 27.296875 \nQ 14.984375 17.28125 19.8125 11.734375 \nQ 24.65625 6.203125 33.40625 6.203125 \nQ 37.3125 6.203125 41.140625 7.25 \nQ 44.96875 8.296875 48.78125 10.40625 \nL 48.78125 2.09375 \nQ 45.015625 0.34375 40.984375 -0.53125 \nQ 36.96875 -1.421875 32.421875 -1.421875 \nQ 20.0625 -1.421875 12.78125 6.34375 \nQ 5.515625 14.109375 5.515625 27.296875 \nQ 5.515625 40.671875 12.859375 48.328125 \nQ 20.21875 56 33.015625 56 \nQ 37.15625 56 41.109375 55.140625 \nQ 45.0625 54.296875 48.78125 52.59375 \nz\n\" id=\"DejaVuSans-99\"/>\n       <path d=\"M 18.3125 70.21875 \nL 18.3125 54.6875 \nL 36.8125 54.6875 \nL 36.8125 47.703125 \nL 18.3125 47.703125 \nL 18.3125 18.015625 \nQ 18.3125 11.328125 20.140625 9.421875 \nQ 21.96875 7.515625 27.59375 7.515625 \nL 36.8125 7.515625 \nL 36.8125 0 \nL 27.59375 0 \nQ 17.1875 0 13.234375 3.875 \nQ 9.28125 7.765625 9.28125 18.015625 \nL 9.28125 47.703125 \nL 2.6875 47.703125 \nL 2.6875 54.6875 \nL 9.28125 54.6875 \nL 9.28125 70.21875 \nz\n\" id=\"DejaVuSans-116\"/>\n      </defs>\n      <g transform=\"translate(204.459099 239.238438)scale(0.1 -0.1)\">\n       <use xlink:href=\"#DejaVuSans-79\"/>\n       <use x=\"78.710938\" xlink:href=\"#DejaVuSans-99\"/>\n       <use x=\"133.691406\" xlink:href=\"#DejaVuSans-116\"/>\n      </g>\n     </g>\n    </g>\n    <g id=\"xtick_5\">\n     <g id=\"line2d_5\">\n      <g>\n       <use style=\"stroke:#000000;stroke-width:0.8;\" x=\"271.551471\" xlink:href=\"#m3f6f46d5c9\" y=\"224.64\"/>\n      </g>\n     </g>\n     <g id=\"text_4\">\n      <!-- Jan -->\n      <defs>\n       <path d=\"M 34.28125 27.484375 \nQ 23.390625 27.484375 19.1875 25 \nQ 14.984375 22.515625 14.984375 16.5 \nQ 14.984375 11.71875 18.140625 8.90625 \nQ 21.296875 6.109375 26.703125 6.109375 \nQ 34.1875 6.109375 38.703125 11.40625 \nQ 43.21875 16.703125 43.21875 25.484375 \nL 43.21875 27.484375 \nz\nM 52.203125 31.203125 \nL 52.203125 0 \nL 43.21875 0 \nL 43.21875 8.296875 \nQ 40.140625 3.328125 35.546875 0.953125 \nQ 30.953125 -1.421875 24.3125 -1.421875 \nQ 15.921875 -1.421875 10.953125 3.296875 \nQ 6 8.015625 6 15.921875 \nQ 6 25.140625 12.171875 29.828125 \nQ 18.359375 34.515625 30.609375 34.515625 \nL 43.21875 34.515625 \nL 43.21875 35.40625 \nQ 43.21875 41.609375 39.140625 45 \nQ 35.0625 48.390625 27.6875 48.390625 \nQ 23 48.390625 18.546875 47.265625 \nQ 14.109375 46.140625 10.015625 43.890625 \nL 10.015625 52.203125 \nQ 14.9375 54.109375 19.578125 55.046875 \nQ 24.21875 56 28.609375 56 \nQ 40.484375 56 46.34375 49.84375 \nQ 52.203125 43.703125 52.203125 31.203125 \nz\n\" id=\"DejaVuSans-97\"/>\n       <path d=\"M 54.890625 33.015625 \nL 54.890625 0 \nL 45.90625 0 \nL 45.90625 32.71875 \nQ 45.90625 40.484375 42.875 44.328125 \nQ 39.84375 48.1875 33.796875 48.1875 \nQ 26.515625 48.1875 22.3125 43.546875 \nQ 18.109375 38.921875 18.109375 30.90625 \nL 18.109375 0 \nL 9.078125 0 \nL 9.078125 54.6875 \nL 18.109375 54.6875 \nL 18.109375 46.1875 \nQ 21.34375 51.125 25.703125 53.5625 \nQ 30.078125 56 35.796875 56 \nQ 45.21875 56 50.046875 50.171875 \nQ 54.890625 44.34375 54.890625 33.015625 \nz\n\" id=\"DejaVuSans-110\"/>\n      </defs>\n      <g transform=\"translate(263.843658 239.238438)scale(0.1 -0.1)\">\n       <use xlink:href=\"#DejaVuSans-74\"/>\n       <use x=\"29.492188\" xlink:href=\"#DejaVuSans-97\"/>\n       <use x=\"90.771484\" xlink:href=\"#DejaVuSans-110\"/>\n      </g>\n      <!-- 2021 -->\n      <defs>\n       <path d=\"M 19.1875 8.296875 \nL 53.609375 8.296875 \nL 53.609375 0 \nL 7.328125 0 \nL 7.328125 8.296875 \nQ 12.9375 14.109375 22.625 23.890625 \nQ 32.328125 33.6875 34.8125 36.53125 \nQ 39.546875 41.84375 41.421875 45.53125 \nQ 43.3125 49.21875 43.3125 52.78125 \nQ 43.3125 58.59375 39.234375 62.25 \nQ 35.15625 65.921875 28.609375 65.921875 \nQ 23.96875 65.921875 18.8125 64.3125 \nQ 13.671875 62.703125 7.8125 59.421875 \nL 7.8125 69.390625 \nQ 13.765625 71.78125 18.9375 73 \nQ 24.125 74.21875 28.421875 74.21875 \nQ 39.75 74.21875 46.484375 68.546875 \nQ 53.21875 62.890625 53.21875 53.421875 \nQ 53.21875 48.921875 51.53125 44.890625 \nQ 49.859375 40.875 45.40625 35.40625 \nQ 44.1875 33.984375 37.640625 27.21875 \nQ 31.109375 20.453125 19.1875 8.296875 \nz\n\" id=\"DejaVuSans-50\"/>\n       <path d=\"M 31.78125 66.40625 \nQ 24.171875 66.40625 20.328125 58.90625 \nQ 16.5 51.421875 16.5 36.375 \nQ 16.5 21.390625 20.328125 13.890625 \nQ 24.171875 6.390625 31.78125 6.390625 \nQ 39.453125 6.390625 43.28125 13.890625 \nQ 47.125 21.390625 47.125 36.375 \nQ 47.125 51.421875 43.28125 58.90625 \nQ 39.453125 66.40625 31.78125 66.40625 \nz\nM 31.78125 74.21875 \nQ 44.046875 74.21875 50.515625 64.515625 \nQ 56.984375 54.828125 56.984375 36.375 \nQ 56.984375 17.96875 50.515625 8.265625 \nQ 44.046875 -1.421875 31.78125 -1.421875 \nQ 19.53125 -1.421875 13.0625 8.265625 \nQ 6.59375 17.96875 6.59375 36.375 \nQ 6.59375 54.828125 13.0625 64.515625 \nQ 19.53125 74.21875 31.78125 74.21875 \nz\n\" id=\"DejaVuSans-48\"/>\n       <path d=\"M 12.40625 8.296875 \nL 28.515625 8.296875 \nL 28.515625 63.921875 \nL 10.984375 60.40625 \nL 10.984375 69.390625 \nL 28.421875 72.90625 \nL 38.28125 72.90625 \nL 38.28125 8.296875 \nL 54.390625 8.296875 \nL 54.390625 0 \nL 12.40625 0 \nz\n\" id=\"DejaVuSans-49\"/>\n      </defs>\n      <g transform=\"translate(258.826471 250.43625)scale(0.1 -0.1)\">\n       <use xlink:href=\"#DejaVuSans-50\"/>\n       <use x=\"63.623047\" xlink:href=\"#DejaVuSans-48\"/>\n       <use x=\"127.246094\" xlink:href=\"#DejaVuSans-50\"/>\n       <use x=\"190.869141\" xlink:href=\"#DejaVuSans-49\"/>\n      </g>\n     </g>\n    </g>\n    <g id=\"xtick_6\">\n     <g id=\"line2d_6\">\n      <g>\n       <use style=\"stroke:#000000;stroke-width:0.8;\" x=\"328.727941\" xlink:href=\"#m3f6f46d5c9\" y=\"224.64\"/>\n      </g>\n     </g>\n     <g id=\"text_5\">\n      <!-- Apr -->\n      <g transform=\"translate(320.077941 239.238438)scale(0.1 -0.1)\">\n       <use xlink:href=\"#DejaVuSans-65\"/>\n       <use x=\"68.408203\" xlink:href=\"#DejaVuSans-112\"/>\n       <use x=\"131.884766\" xlink:href=\"#DejaVuSans-114\"/>\n      </g>\n     </g>\n    </g>\n    <g id=\"xtick_7\">\n     <g id=\"line2d_7\">\n      <g>\n       <use style=\"stroke:#000000;stroke-width:0.8;\" x=\"386.539706\" xlink:href=\"#m3f6f46d5c9\" y=\"224.64\"/>\n      </g>\n     </g>\n     <g id=\"text_6\">\n      <!-- Jul -->\n      <g transform=\"translate(380.506893 239.238438)scale(0.1 -0.1)\">\n       <use xlink:href=\"#DejaVuSans-74\"/>\n       <use x=\"29.492188\" xlink:href=\"#DejaVuSans-117\"/>\n       <use x=\"92.871094\" xlink:href=\"#DejaVuSans-108\"/>\n      </g>\n     </g>\n    </g>\n    <g id=\"xtick_8\">\n     <g id=\"line2d_8\">\n      <g>\n       <use style=\"stroke:#000000;stroke-width:0.8;\" x=\"387.175\" xlink:href=\"#m3f6f46d5c9\" y=\"224.64\"/>\n      </g>\n     </g>\n    </g>\n    <g id=\"xtick_9\">\n     <g id=\"line2d_9\">\n      <defs>\n       <path d=\"M 0 0 \nL 0 2 \n\" id=\"m75ba60e1e7\" style=\"stroke:#000000;stroke-width:0.6;\"/>\n      </defs>\n      <g>\n       <use style=\"stroke:#000000;stroke-width:0.6;\" x=\"58.727941\" xlink:href=\"#m75ba60e1e7\" y=\"224.64\"/>\n      </g>\n     </g>\n    </g>\n    <g id=\"xtick_10\">\n     <g id=\"line2d_10\">\n      <g>\n       <use style=\"stroke:#000000;stroke-width:0.6;\" x=\"77.151471\" xlink:href=\"#m75ba60e1e7\" y=\"224.64\"/>\n      </g>\n     </g>\n    </g>\n    <g id=\"xtick_11\">\n     <g id=\"line2d_11\">\n      <g>\n       <use style=\"stroke:#000000;stroke-width:0.6;\" x=\"115.904412\" xlink:href=\"#m75ba60e1e7\" y=\"224.64\"/>\n      </g>\n     </g>\n    </g>\n    <g id=\"xtick_12\">\n     <g id=\"line2d_12\">\n      <g>\n       <use style=\"stroke:#000000;stroke-width:0.6;\" x=\"135.598529\" xlink:href=\"#m75ba60e1e7\" y=\"224.64\"/>\n      </g>\n     </g>\n    </g>\n    <g id=\"xtick_13\">\n     <g id=\"line2d_13\">\n      <g>\n       <use style=\"stroke:#000000;stroke-width:0.6;\" x=\"174.351471\" xlink:href=\"#m75ba60e1e7\" y=\"224.64\"/>\n      </g>\n     </g>\n    </g>\n    <g id=\"xtick_14\">\n     <g id=\"line2d_14\">\n      <g>\n       <use style=\"stroke:#000000;stroke-width:0.6;\" x=\"194.045588\" xlink:href=\"#m75ba60e1e7\" y=\"224.64\"/>\n      </g>\n     </g>\n    </g>\n    <g id=\"xtick_15\">\n     <g id=\"line2d_15\">\n      <g>\n       <use style=\"stroke:#000000;stroke-width:0.6;\" x=\"232.798529\" xlink:href=\"#m75ba60e1e7\" y=\"224.64\"/>\n      </g>\n     </g>\n    </g>\n    <g id=\"xtick_16\">\n     <g id=\"line2d_16\">\n      <g>\n       <use style=\"stroke:#000000;stroke-width:0.6;\" x=\"251.857353\" xlink:href=\"#m75ba60e1e7\" y=\"224.64\"/>\n      </g>\n     </g>\n    </g>\n    <g id=\"xtick_17\">\n     <g id=\"line2d_17\">\n      <g>\n       <use style=\"stroke:#000000;stroke-width:0.6;\" x=\"291.245588\" xlink:href=\"#m75ba60e1e7\" y=\"224.64\"/>\n      </g>\n     </g>\n    </g>\n    <g id=\"xtick_18\">\n     <g id=\"line2d_18\">\n      <g>\n       <use style=\"stroke:#000000;stroke-width:0.6;\" x=\"309.033824\" xlink:href=\"#m75ba60e1e7\" y=\"224.64\"/>\n      </g>\n     </g>\n    </g>\n    <g id=\"xtick_19\">\n     <g id=\"line2d_19\">\n      <g>\n       <use style=\"stroke:#000000;stroke-width:0.6;\" x=\"347.786765\" xlink:href=\"#m75ba60e1e7\" y=\"224.64\"/>\n      </g>\n     </g>\n    </g>\n    <g id=\"xtick_20\">\n     <g id=\"line2d_20\">\n      <g>\n       <use style=\"stroke:#000000;stroke-width:0.6;\" x=\"367.480882\" xlink:href=\"#m75ba60e1e7\" y=\"224.64\"/>\n      </g>\n     </g>\n    </g>\n    <g id=\"text_7\">\n     <!-- Date -->\n     <defs>\n      <path d=\"M 19.671875 64.796875 \nL 19.671875 8.109375 \nL 31.59375 8.109375 \nQ 46.6875 8.109375 53.6875 14.9375 \nQ 60.6875 21.78125 60.6875 36.53125 \nQ 60.6875 51.171875 53.6875 57.984375 \nQ 46.6875 64.796875 31.59375 64.796875 \nz\nM 9.8125 72.90625 \nL 30.078125 72.90625 \nQ 51.265625 72.90625 61.171875 64.09375 \nQ 71.09375 55.28125 71.09375 36.53125 \nQ 71.09375 17.671875 61.125 8.828125 \nQ 51.171875 0 30.078125 0 \nL 9.8125 0 \nz\n\" id=\"DejaVuSans-68\"/>\n      <path d=\"M 56.203125 29.59375 \nL 56.203125 25.203125 \nL 14.890625 25.203125 \nQ 15.484375 15.921875 20.484375 11.0625 \nQ 25.484375 6.203125 34.421875 6.203125 \nQ 39.59375 6.203125 44.453125 7.46875 \nQ 49.3125 8.734375 54.109375 11.28125 \nL 54.109375 2.78125 \nQ 49.265625 0.734375 44.1875 -0.34375 \nQ 39.109375 -1.421875 33.890625 -1.421875 \nQ 20.796875 -1.421875 13.15625 6.1875 \nQ 5.515625 13.8125 5.515625 26.8125 \nQ 5.515625 40.234375 12.765625 48.109375 \nQ 20.015625 56 32.328125 56 \nQ 43.359375 56 49.78125 48.890625 \nQ 56.203125 41.796875 56.203125 29.59375 \nz\nM 47.21875 32.234375 \nQ 47.125 39.59375 43.09375 43.984375 \nQ 39.0625 48.390625 32.421875 48.390625 \nQ 24.90625 48.390625 20.390625 44.140625 \nQ 15.875 39.890625 15.1875 32.171875 \nz\n\" id=\"DejaVuSans-101\"/>\n     </defs>\n     <g transform=\"translate(207.824219 264.114375)scale(0.1 -0.1)\">\n      <use xlink:href=\"#DejaVuSans-68\"/>\n      <use x=\"77.001953\" xlink:href=\"#DejaVuSans-97\"/>\n      <use x=\"138.28125\" xlink:href=\"#DejaVuSans-116\"/>\n      <use x=\"177.490234\" xlink:href=\"#DejaVuSans-101\"/>\n     </g>\n    </g>\n   </g>\n   <g id=\"matplotlib.axis_2\">\n    <g id=\"ytick_1\">\n     <g id=\"line2d_21\">\n      <defs>\n       <path d=\"M 0 0 \nL -3.5 0 \n\" id=\"m50197d6af7\" style=\"stroke:#000000;stroke-width:0.8;\"/>\n      </defs>\n      <g>\n       <use style=\"stroke:#000000;stroke-width:0.8;\" x=\"52.375\" xlink:href=\"#m50197d6af7\" y=\"214.756996\"/>\n      </g>\n     </g>\n     <g id=\"text_8\">\n      <!-- 0 -->\n      <g transform=\"translate(39.0125 218.556215)scale(0.1 -0.1)\">\n       <use xlink:href=\"#DejaVuSans-48\"/>\n      </g>\n     </g>\n    </g>\n    <g id=\"ytick_2\">\n     <g id=\"line2d_22\">\n      <g>\n       <use style=\"stroke:#000000;stroke-width:0.8;\" x=\"52.375\" xlink:href=\"#m50197d6af7\" y=\"183.114779\"/>\n      </g>\n     </g>\n     <g id=\"text_9\">\n      <!-- 50000 -->\n      <defs>\n       <path d=\"M 10.796875 72.90625 \nL 49.515625 72.90625 \nL 49.515625 64.59375 \nL 19.828125 64.59375 \nL 19.828125 46.734375 \nQ 21.96875 47.46875 24.109375 47.828125 \nQ 26.265625 48.1875 28.421875 48.1875 \nQ 40.625 48.1875 47.75 41.5 \nQ 54.890625 34.8125 54.890625 23.390625 \nQ 54.890625 11.625 47.5625 5.09375 \nQ 40.234375 -1.421875 26.90625 -1.421875 \nQ 22.3125 -1.421875 17.546875 -0.640625 \nQ 12.796875 0.140625 7.71875 1.703125 \nL 7.71875 11.625 \nQ 12.109375 9.234375 16.796875 8.0625 \nQ 21.484375 6.890625 26.703125 6.890625 \nQ 35.15625 6.890625 40.078125 11.328125 \nQ 45.015625 15.765625 45.015625 23.390625 \nQ 45.015625 31 40.078125 35.4375 \nQ 35.15625 39.890625 26.703125 39.890625 \nQ 22.75 39.890625 18.8125 39.015625 \nQ 14.890625 38.140625 10.796875 36.28125 \nz\n\" id=\"DejaVuSans-53\"/>\n      </defs>\n      <g transform=\"translate(13.5625 186.913998)scale(0.1 -0.1)\">\n       <use xlink:href=\"#DejaVuSans-53\"/>\n       <use x=\"63.623047\" xlink:href=\"#DejaVuSans-48\"/>\n       <use x=\"127.246094\" xlink:href=\"#DejaVuSans-48\"/>\n       <use x=\"190.869141\" xlink:href=\"#DejaVuSans-48\"/>\n       <use x=\"254.492188\" xlink:href=\"#DejaVuSans-48\"/>\n      </g>\n     </g>\n    </g>\n    <g id=\"ytick_3\">\n     <g id=\"line2d_23\">\n      <g>\n       <use style=\"stroke:#000000;stroke-width:0.8;\" x=\"52.375\" xlink:href=\"#m50197d6af7\" y=\"151.472562\"/>\n      </g>\n     </g>\n     <g id=\"text_10\">\n      <!-- 100000 -->\n      <g transform=\"translate(7.2 155.271781)scale(0.1 -0.1)\">\n       <use xlink:href=\"#DejaVuSans-49\"/>\n       <use x=\"63.623047\" xlink:href=\"#DejaVuSans-48\"/>\n       <use x=\"127.246094\" xlink:href=\"#DejaVuSans-48\"/>\n       <use x=\"190.869141\" xlink:href=\"#DejaVuSans-48\"/>\n       <use x=\"254.492188\" xlink:href=\"#DejaVuSans-48\"/>\n       <use x=\"318.115234\" xlink:href=\"#DejaVuSans-48\"/>\n      </g>\n     </g>\n    </g>\n    <g id=\"ytick_4\">\n     <g id=\"line2d_24\">\n      <g>\n       <use style=\"stroke:#000000;stroke-width:0.8;\" x=\"52.375\" xlink:href=\"#m50197d6af7\" y=\"119.830345\"/>\n      </g>\n     </g>\n     <g id=\"text_11\">\n      <!-- 150000 -->\n      <g transform=\"translate(7.2 123.629564)scale(0.1 -0.1)\">\n       <use xlink:href=\"#DejaVuSans-49\"/>\n       <use x=\"63.623047\" xlink:href=\"#DejaVuSans-53\"/>\n       <use x=\"127.246094\" xlink:href=\"#DejaVuSans-48\"/>\n       <use x=\"190.869141\" xlink:href=\"#DejaVuSans-48\"/>\n       <use x=\"254.492188\" xlink:href=\"#DejaVuSans-48\"/>\n       <use x=\"318.115234\" xlink:href=\"#DejaVuSans-48\"/>\n      </g>\n     </g>\n    </g>\n    <g id=\"ytick_5\">\n     <g id=\"line2d_25\">\n      <g>\n       <use style=\"stroke:#000000;stroke-width:0.8;\" x=\"52.375\" xlink:href=\"#m50197d6af7\" y=\"88.188128\"/>\n      </g>\n     </g>\n     <g id=\"text_12\">\n      <!-- 200000 -->\n      <g transform=\"translate(7.2 91.987347)scale(0.1 -0.1)\">\n       <use xlink:href=\"#DejaVuSans-50\"/>\n       <use x=\"63.623047\" xlink:href=\"#DejaVuSans-48\"/>\n       <use x=\"127.246094\" xlink:href=\"#DejaVuSans-48\"/>\n       <use x=\"190.869141\" xlink:href=\"#DejaVuSans-48\"/>\n       <use x=\"254.492188\" xlink:href=\"#DejaVuSans-48\"/>\n       <use x=\"318.115234\" xlink:href=\"#DejaVuSans-48\"/>\n      </g>\n     </g>\n    </g>\n    <g id=\"ytick_6\">\n     <g id=\"line2d_26\">\n      <g>\n       <use style=\"stroke:#000000;stroke-width:0.8;\" x=\"52.375\" xlink:href=\"#m50197d6af7\" y=\"56.545911\"/>\n      </g>\n     </g>\n     <g id=\"text_13\">\n      <!-- 250000 -->\n      <g transform=\"translate(7.2 60.34513)scale(0.1 -0.1)\">\n       <use xlink:href=\"#DejaVuSans-50\"/>\n       <use x=\"63.623047\" xlink:href=\"#DejaVuSans-53\"/>\n       <use x=\"127.246094\" xlink:href=\"#DejaVuSans-48\"/>\n       <use x=\"190.869141\" xlink:href=\"#DejaVuSans-48\"/>\n       <use x=\"254.492188\" xlink:href=\"#DejaVuSans-48\"/>\n       <use x=\"318.115234\" xlink:href=\"#DejaVuSans-48\"/>\n      </g>\n     </g>\n    </g>\n    <g id=\"ytick_7\">\n     <g id=\"line2d_27\">\n      <g>\n       <use style=\"stroke:#000000;stroke-width:0.8;\" x=\"52.375\" xlink:href=\"#m50197d6af7\" y=\"24.903694\"/>\n      </g>\n     </g>\n     <g id=\"text_14\">\n      <!-- 300000 -->\n      <defs>\n       <path d=\"M 40.578125 39.3125 \nQ 47.65625 37.796875 51.625 33 \nQ 55.609375 28.21875 55.609375 21.1875 \nQ 55.609375 10.40625 48.1875 4.484375 \nQ 40.765625 -1.421875 27.09375 -1.421875 \nQ 22.515625 -1.421875 17.65625 -0.515625 \nQ 12.796875 0.390625 7.625 2.203125 \nL 7.625 11.71875 \nQ 11.71875 9.328125 16.59375 8.109375 \nQ 21.484375 6.890625 26.8125 6.890625 \nQ 36.078125 6.890625 40.9375 10.546875 \nQ 45.796875 14.203125 45.796875 21.1875 \nQ 45.796875 27.640625 41.28125 31.265625 \nQ 36.765625 34.90625 28.71875 34.90625 \nL 20.21875 34.90625 \nL 20.21875 43.015625 \nL 29.109375 43.015625 \nQ 36.375 43.015625 40.234375 45.921875 \nQ 44.09375 48.828125 44.09375 54.296875 \nQ 44.09375 59.90625 40.109375 62.90625 \nQ 36.140625 65.921875 28.71875 65.921875 \nQ 24.65625 65.921875 20.015625 65.03125 \nQ 15.375 64.15625 9.8125 62.3125 \nL 9.8125 71.09375 \nQ 15.4375 72.65625 20.34375 73.4375 \nQ 25.25 74.21875 29.59375 74.21875 \nQ 40.828125 74.21875 47.359375 69.109375 \nQ 53.90625 64.015625 53.90625 55.328125 \nQ 53.90625 49.265625 50.4375 45.09375 \nQ 46.96875 40.921875 40.578125 39.3125 \nz\n\" id=\"DejaVuSans-51\"/>\n      </defs>\n      <g transform=\"translate(7.2 28.702913)scale(0.1 -0.1)\">\n       <use xlink:href=\"#DejaVuSans-51\"/>\n       <use x=\"63.623047\" xlink:href=\"#DejaVuSans-48\"/>\n       <use x=\"127.246094\" xlink:href=\"#DejaVuSans-48\"/>\n       <use x=\"190.869141\" xlink:href=\"#DejaVuSans-48\"/>\n       <use x=\"254.492188\" xlink:href=\"#DejaVuSans-48\"/>\n       <use x=\"318.115234\" xlink:href=\"#DejaVuSans-48\"/>\n      </g>\n     </g>\n    </g>\n   </g>\n   <g id=\"line2d_28\">\n    <path clip-path=\"url(#p031d737c7c)\" d=\"M 52.375 214.736113 \nL 56.186765 214.756364 \nL 58.727941 214.754465 \nL 59.363235 214.401338 \nL 59.998529 214.736745 \nL 65.080882 214.751934 \nL 80.327941 214.619669 \nL 81.598529 214.537399 \nL 82.233824 214.371594 \nL 83.504412 214.205156 \nL 85.410294 213.613447 \nL 86.045588 212.902763 \nL 86.680882 212.920482 \nL 87.316176 212.206001 \nL 87.951471 210.88652 \nL 89.222059 209.533499 \nL 90.492647 207.409674 \nL 91.127941 207.503967 \nL 91.763235 207.069836 \nL 92.398529 205.380775 \nL 93.033824 202.493106 \nL 93.669118 201.598264 \nL 94.304412 201.502705 \nL 94.939706 201.168563 \nL 95.575 201.036298 \nL 96.210294 200.035139 \nL 96.845588 196.579808 \nL 97.480882 195.755212 \nL 98.116176 194.688237 \nL 98.751471 194.149053 \nL 99.386765 197.404405 \nL 100.657353 195.621049 \nL 101.292647 193.60101 \nL 101.927941 192.556184 \nL 102.563235 194.513572 \nL 103.198529 194.407254 \nL 103.833824 197.215817 \nL 104.469118 198.757426 \nL 105.739706 198.385946 \nL 106.375 194.948969 \nL 107.010294 195.519794 \nL 107.645588 197.325299 \nL 108.280882 197.031026 \nL 108.916176 198.097369 \nL 109.551471 198.867541 \nL 110.186765 195.043262 \nL 110.822059 194.411051 \nL 111.457353 193.266235 \nL 112.092647 194.021852 \nL 112.727941 197.206957 \nL 113.363235 199.627587 \nL 113.998529 199.643408 \nL 114.633824 196.546901 \nL 115.269118 194.217401 \nL 116.539706 196.924709 \nL 117.175 197.131649 \nL 117.810294 201.097051 \nL 118.445588 199.847817 \nL 119.080882 199.245349 \nL 119.716176 194.313593 \nL 120.351471 196.667774 \nL 120.986765 198.141668 \nL 121.622059 201.77989 \nL 122.257353 202.139346 \nL 122.892647 199.031447 \nL 123.527941 199.995269 \nL 124.163235 195.729266 \nL 124.798529 197.518317 \nL 125.433824 197.913211 \nL 126.069118 202.591197 \nL 126.704412 198.64478 \nL 127.339706 201.091989 \nL 128.610294 197.127852 \nL 129.245588 197.91954 \nL 129.880882 201.379933 \nL 130.516176 201.496376 \nL 131.786765 204.473276 \nL 132.422059 201.097684 \nL 133.057353 199.474438 \nL 133.692647 198.486568 \nL 134.327941 199.485197 \nL 134.963235 201.948227 \nL 135.598529 203.949281 \nL 136.233824 201.638133 \nL 136.869118 200.047163 \nL 137.504412 199.359261 \nL 138.139706 198.435308 \nL 138.775 199.869966 \nL 139.410294 203.237964 \nL 140.045588 203.436677 \nL 140.680882 202.397546 \nL 141.316176 199.111819 \nL 141.951471 198.946646 \nL 142.586765 196.248831 \nL 143.857353 201.260325 \nL 144.492647 201.847605 \nL 145.127941 197.37213 \nL 146.398529 194.042735 \nL 147.033824 191.821452 \nL 147.669118 191.951185 \nL 148.304412 195.767236 \nL 148.939706 196.540572 \nL 149.575 190.764602 \nL 150.210294 188.29461 \nL 150.845588 183.683706 \nL 151.480882 181.623798 \nL 152.116176 183.477399 \nL 152.751471 186.133447 \nL 153.386765 189.920387 \nL 154.022059 184.595002 \nL 154.657353 177.036309 \nL 155.292647 176.743935 \nL 155.927941 176.062362 \nL 156.563235 180.320139 \nL 157.198529 186.017004 \nL 157.833824 186.237866 \nL 159.104412 170.385115 \nL 159.739706 171.119215 \nL 160.375 166.641208 \nL 161.010294 173.066477 \nL 162.280882 177.362857 \nL 162.916176 175.635825 \nL 163.551471 167.966384 \nL 164.186765 165.691309 \nL 164.822059 164.950881 \nL 165.457353 172.2596 \nL 166.092647 176.656603 \nL 166.727941 176.228167 \nL 167.363235 175.290925 \nL 167.998529 170.262344 \nL 168.633824 170.01237 \nL 169.269118 168.643528 \nL 169.904412 176.51358 \nL 170.539706 180.073329 \nL 171.175 181.954143 \nL 172.445588 172.962058 \nL 173.716176 172.686137 \nL 174.986765 183.619156 \nL 175.622059 186.162558 \nL 176.257353 181.237763 \nL 176.892647 178.635507 \nL 177.527941 178.141256 \nL 178.163235 177.885587 \nL 178.798529 181.644049 \nL 179.433824 187.345344 \nL 180.069118 189.65396 \nL 180.704412 182.959733 \nL 181.339706 180.939693 \nL 181.975 181.339651 \nL 182.610294 181.037151 \nL 183.880882 190.802572 \nL 184.516176 190.770297 \nL 185.151471 188.497753 \nL 185.786765 184.969646 \nL 186.422059 185.094949 \nL 187.057353 185.35758 \nL 187.692647 188.517372 \nL 188.327941 193.472543 \nL 188.963235 192.706801 \nL 189.598529 189.4293 \nL 190.233824 184.56336 \nL 190.869118 184.141886 \nL 191.504412 185.627804 \nL 192.139706 189.072376 \nL 192.775 193.831365 \nL 193.410294 194.787593 \nL 194.045588 186.574539 \nL 194.680882 187.440903 \nL 195.316176 185.405676 \nL 195.951471 183.893178 \nL 196.586765 189.134395 \nL 197.222059 195.338168 \nL 197.857353 199.980081 \nL 198.492647 197.44111 \nL 199.127941 189.72737 \nL 199.763235 189.14452 \nL 200.398529 186.160659 \nL 201.033824 189.999493 \nL 201.669118 195.438157 \nL 202.304412 193.613667 \nL 202.939706 190.303891 \nL 203.575 186.157495 \nL 204.845588 184.351357 \nL 205.480882 188.278156 \nL 206.116176 194.322453 \nL 206.751471 189.348296 \nL 207.386765 182.030717 \nL 208.022059 186.634027 \nL 208.657353 185.320242 \nL 209.292647 182.817343 \nL 209.927941 188.462947 \nL 210.563235 192.89792 \nL 211.198529 190.990527 \nL 212.469118 184.743088 \nL 213.104412 183.88242 \nL 213.739706 182.07818 \nL 214.375 184.305792 \nL 215.010294 191.787278 \nL 216.280882 186.75933 \nL 216.916176 178.734231 \nL 217.551471 178.726637 \nL 218.186765 177.370451 \nL 218.822059 182.946443 \nL 219.457353 184.617785 \nL 220.092647 185.610717 \nL 220.727941 179.608189 \nL 221.363235 175.775684 \nL 221.998529 174.265717 \nL 222.633824 170.335754 \nL 223.269118 178.92978 \nL 223.904412 184.595002 \nL 225.175 173.091158 \nL 225.810294 170.650277 \nL 226.445588 164.437644 \nL 227.080882 165.031885 \nL 227.716176 166.311496 \nL 228.351471 176.181337 \nL 228.986765 171.405261 \nL 229.622059 164.263612 \nL 230.257353 159.127447 \nL 230.892647 156.427101 \nL 231.527941 150.800482 \nL 232.798529 167.00636 \nL 234.704412 140.019978 \nL 235.975 125.061437 \nL 236.610294 155.1766 \nL 237.880882 135.811563 \nL 238.516176 117.305929 \nL 239.151471 112.302662 \nL 239.786765 109.024528 \nL 240.422059 96.979602 \nL 241.057353 114.059438 \nL 241.692647 124.931071 \nL 242.327941 120.013237 \nL 242.963235 105.080642 \nL 243.598529 99.291382 \nL 244.233824 90.070207 \nL 244.869118 88.160283 \nL 246.139706 118.557062 \nL 246.775 113.291165 \nL 248.045588 88.157752 \nL 248.680882 110.68258 \nL 249.316176 113.252561 \nL 249.951471 127.040974 \nL 250.586765 124.682996 \nL 251.222059 115.179572 \nL 251.857353 85.082761 \nL 252.492647 72.197417 \nL 253.127941 62.219993 \nL 253.763235 64.691883 \nL 254.398529 78.769506 \nL 255.033824 102.893532 \nL 255.669118 98.428182 \nL 256.304412 71.01653 \nL 256.939706 68.586407 \nL 257.575 72.849247 \nL 258.210294 54.511316 \nL 258.845588 74.573748 \nL 259.480882 98.935091 \nL 260.116176 95.003862 \nL 260.751471 91.83521 \nL 261.386765 65.406997 \nL 262.022059 61.699162 \nL 262.657353 63.272414 \nL 263.927941 104.250983 \nL 264.563235 105.213539 \nL 265.198529 91.533976 \nL 265.833824 63.370504 \nL 267.104412 119.063971 \nL 267.739706 107.591768 \nL 268.375 141.551462 \nL 269.010294 97.397279 \nL 269.645588 75.129385 \nL 270.280882 41.991757 \nL 270.916176 41.532312 \nL 271.551471 85.447279 \nL 272.186765 75.165457 \nL 272.822059 104.029488 \nL 273.457353 92.559184 \nL 274.092647 57.915386 \nL 274.727941 31.809291 \nL 275.363235 29.856334 \nL 275.998529 17.083636 \nL 276.633824 71.446231 \nL 277.269118 86.711069 \nL 277.904412 95.567726 \nL 278.539706 81.638822 \nL 279.175 65.20955 \nL 279.810294 71.603809 \nL 280.445588 66.244883 \nL 281.080882 86.767393 \nL 281.716176 111.924221 \nL 282.351471 146.636999 \nL 282.986765 103.199196 \nL 283.622059 93.066092 \nL 284.257353 91.43462 \nL 284.892647 94.010296 \nL 285.527941 110.672455 \nL 286.163235 131.125351 \nL 286.798529 138.007533 \nL 287.433824 120.656207 \nL 288.069118 112.982337 \nL 288.704412 116.356663 \nL 289.339706 126.344845 \nL 289.975 119.319007 \nL 290.610294 151.051088 \nL 291.245588 138.720749 \nL 291.880882 138.618861 \nL 292.516176 141.49767 \nL 293.151471 138.735304 \nL 293.786765 136.498832 \nL 294.422059 148.296317 \nL 295.057353 163.272578 \nL 295.692647 165.175541 \nL 296.327941 156.714412 \nL 296.963235 152.209193 \nL 297.598529 152.58447 \nL 298.233824 154.306439 \nL 298.869118 162.177124 \nL 299.504412 175.884533 \nL 300.139706 181.688348 \nL 300.775 179.167096 \nL 301.410294 170.872406 \nL 302.045588 172.076076 \nL 302.680882 171.180601 \nL 303.316176 173.622747 \nL 303.951471 182.054132 \nL 304.586765 180.567581 \nL 305.222059 170.534467 \nL 305.857353 168.739087 \nL 306.492647 170.408531 \nL 307.127941 169.740247 \nL 307.763235 173.198741 \nL 308.398529 182.339545 \nL 309.033824 185.577177 \nL 309.669118 178.547542 \nL 310.304412 173.341764 \nL 310.939706 174.260021 \nL 311.575 174.90932 \nL 312.210294 179.730961 \nL 312.845588 188.088936 \nL 313.480882 188.747094 \nL 314.116176 180.670102 \nL 314.751471 177.684975 \nL 315.386765 177.603971 \nL 316.022059 176.105395 \nL 316.657353 180.910583 \nL 317.292647 187.997806 \nL 317.927941 188.10539 \nL 318.563235 180.039789 \nL 319.198529 176.902146 \nL 319.833824 175.418126 \nL 320.469118 176.290186 \nL 321.104412 178.583614 \nL 321.739706 186.981458 \nL 322.375 185.065838 \nL 323.010294 177.278056 \nL 323.645588 172.174799 \nL 324.280882 172.738664 \nL 324.916176 166.746893 \nL 325.551471 175.036521 \nL 326.186765 181.623165 \nL 326.822059 179.186715 \nL 328.092647 170.148432 \nL 328.727941 168.133455 \nL 329.363235 169.925038 \nL 329.998529 174.937165 \nL 330.633824 186.311909 \nL 331.904412 173.633505 \nL 332.539706 166.547547 \nL 333.175 166.071016 \nL 333.810294 165.00847 \nL 335.080882 181.170682 \nL 335.716176 180.017006 \nL 336.351471 166.697531 \nL 336.986765 168.526452 \nL 337.622059 168.12776 \nL 338.257353 169.755435 \nL 338.892647 168.168895 \nL 339.527941 182.314864 \nL 340.163235 193.47191 \nL 340.798529 176.485102 \nL 341.433824 175.020067 \nL 342.704412 175.744041 \nL 343.339706 180.12902 \nL 343.975 188.95973 \nL 344.610294 190.27921 \nL 345.245588 181.685817 \nL 346.516176 178.605763 \nL 347.151471 180.369501 \nL 347.786765 184.158973 \nL 348.422059 191.053812 \nL 349.057353 194.758482 \nL 349.692647 187.258644 \nL 350.327941 186.322035 \nL 350.963235 187.340281 \nL 351.598529 186.97956 \nL 352.233824 191.519585 \nL 352.869118 198.206218 \nL 353.504412 199.201683 \nL 354.139706 193.368123 \nL 354.775 192.609976 \nL 355.410294 192.169516 \nL 356.045588 193.368123 \nL 356.680882 196.276676 \nL 357.316176 201.313484 \nL 357.951471 203.000014 \nL 358.586765 196.288067 \nL 359.222059 197.210121 \nL 359.857353 197.184808 \nL 360.492647 197.904984 \nL 361.127941 200.069945 \nL 361.763235 204.670723 \nL 362.398529 205.374446 \nL 363.033824 199.621891 \nL 363.669118 199.803518 \nL 364.304412 201.169828 \nL 364.939706 201.765335 \nL 365.575 204.854881 \nL 366.210294 207.1173 \nL 366.845588 208.617141 \nL 367.480882 209.350607 \nL 368.116176 204.108758 \nL 369.386765 202.861421 \nL 370.022059 204.514411 \nL 370.657353 207.609652 \nL 371.292647 208.024166 \nL 372.563235 201.140085 \nL 373.198529 206.941369 \nL 373.833824 205.668086 \nL 374.469118 207.335631 \nL 375.104412 209.360733 \nL 375.739706 209.799927 \nL 376.375 206.599 \nL 377.010294 206.161072 \nL 377.645588 206.288906 \nL 378.280882 207.407775 \nL 378.916176 207.232477 \nL 379.551471 209.833468 \nL 380.186765 209.63602 \nL 380.822059 206.301563 \nL 382.092647 205.1327 \nL 382.727941 206.362316 \nL 383.363235 206.895171 \nL 383.998529 209.08861 \nL 384.633824 209.270869 \nL 385.269118 205.376345 \nL 385.904412 205.673782 \nL 386.539706 203.422121 \nL 387.175 204.913103 \nL 387.175 204.913103 \n\" style=\"fill:none;stroke:#1f77b4;stroke-linecap:square;stroke-width:1.5;\"/>\n   </g>\n   <g id=\"patch_3\">\n    <path d=\"M 52.375 224.64 \nL 52.375 7.2 \n\" style=\"fill:none;stroke:#000000;stroke-linecap:square;stroke-linejoin:miter;stroke-width:0.8;\"/>\n   </g>\n   <g id=\"patch_4\">\n    <path d=\"M 387.175 224.64 \nL 387.175 7.2 \n\" style=\"fill:none;stroke:#000000;stroke-linecap:square;stroke-linejoin:miter;stroke-width:0.8;\"/>\n   </g>\n   <g id=\"patch_5\">\n    <path d=\"M 52.375 224.64 \nL 387.175 224.64 \n\" style=\"fill:none;stroke:#000000;stroke-linecap:square;stroke-linejoin:miter;stroke-width:0.8;\"/>\n   </g>\n   <g id=\"patch_6\">\n    <path d=\"M 52.375 7.2 \nL 387.175 7.2 \n\" style=\"fill:none;stroke:#000000;stroke-linecap:square;stroke-linejoin:miter;stroke-width:0.8;\"/>\n   </g>\n   <g id=\"legend_1\">\n    <g id=\"patch_7\">\n     <path d=\"M 59.375 30.15625 \nL 172.871875 30.15625 \nQ 174.871875 30.15625 174.871875 28.15625 \nL 174.871875 14.2 \nQ 174.871875 12.2 172.871875 12.2 \nL 59.375 12.2 \nQ 57.375 12.2 57.375 14.2 \nL 57.375 28.15625 \nQ 57.375 30.15625 59.375 30.15625 \nz\n\" style=\"fill:#ffffff;opacity:0.8;stroke:#cccccc;stroke-linejoin:miter;\"/>\n    </g>\n    <g id=\"line2d_29\">\n     <path d=\"M 61.375 20.298438 \nL 81.375 20.298438 \n\" style=\"fill:none;stroke:#1f77b4;stroke-linecap:square;stroke-width:1.5;\"/>\n    </g>\n    <g id=\"line2d_30\"/>\n    <g id=\"text_15\">\n     <!-- US_Covid_Cases -->\n     <defs>\n      <path d=\"M 8.6875 72.90625 \nL 18.609375 72.90625 \nL 18.609375 28.609375 \nQ 18.609375 16.890625 22.84375 11.734375 \nQ 27.09375 6.59375 36.625 6.59375 \nQ 46.09375 6.59375 50.34375 11.734375 \nQ 54.59375 16.890625 54.59375 28.609375 \nL 54.59375 72.90625 \nL 64.5 72.90625 \nL 64.5 27.390625 \nQ 64.5 13.140625 57.4375 5.859375 \nQ 50.390625 -1.421875 36.625 -1.421875 \nQ 22.796875 -1.421875 15.734375 5.859375 \nQ 8.6875 13.140625 8.6875 27.390625 \nz\n\" id=\"DejaVuSans-85\"/>\n      <path d=\"M 53.515625 70.515625 \nL 53.515625 60.890625 \nQ 47.90625 63.578125 42.921875 64.890625 \nQ 37.9375 66.21875 33.296875 66.21875 \nQ 25.25 66.21875 20.875 63.09375 \nQ 16.5 59.96875 16.5 54.203125 \nQ 16.5 49.359375 19.40625 46.890625 \nQ 22.3125 44.4375 30.421875 42.921875 \nL 36.375 41.703125 \nQ 47.40625 39.59375 52.65625 34.296875 \nQ 57.90625 29 57.90625 20.125 \nQ 57.90625 9.515625 50.796875 4.046875 \nQ 43.703125 -1.421875 29.984375 -1.421875 \nQ 24.8125 -1.421875 18.96875 -0.25 \nQ 13.140625 0.921875 6.890625 3.21875 \nL 6.890625 13.375 \nQ 12.890625 10.015625 18.65625 8.296875 \nQ 24.421875 6.59375 29.984375 6.59375 \nQ 38.421875 6.59375 43.015625 9.90625 \nQ 47.609375 13.234375 47.609375 19.390625 \nQ 47.609375 24.75 44.3125 27.78125 \nQ 41.015625 30.8125 33.5 32.328125 \nL 27.484375 33.5 \nQ 16.453125 35.6875 11.515625 40.375 \nQ 6.59375 45.0625 6.59375 53.421875 \nQ 6.59375 63.09375 13.40625 68.65625 \nQ 20.21875 74.21875 32.171875 74.21875 \nQ 37.3125 74.21875 42.625 73.28125 \nQ 47.953125 72.359375 53.515625 70.515625 \nz\n\" id=\"DejaVuSans-83\"/>\n      <path d=\"M 50.984375 -16.609375 \nL 50.984375 -23.578125 \nL -0.984375 -23.578125 \nL -0.984375 -16.609375 \nz\n\" id=\"DejaVuSans-95\"/>\n      <path d=\"M 64.40625 67.28125 \nL 64.40625 56.890625 \nQ 59.421875 61.53125 53.78125 63.8125 \nQ 48.140625 66.109375 41.796875 66.109375 \nQ 29.296875 66.109375 22.65625 58.46875 \nQ 16.015625 50.828125 16.015625 36.375 \nQ 16.015625 21.96875 22.65625 14.328125 \nQ 29.296875 6.6875 41.796875 6.6875 \nQ 48.140625 6.6875 53.78125 8.984375 \nQ 59.421875 11.28125 64.40625 15.921875 \nL 64.40625 5.609375 \nQ 59.234375 2.09375 53.4375 0.328125 \nQ 47.65625 -1.421875 41.21875 -1.421875 \nQ 24.65625 -1.421875 15.125 8.703125 \nQ 5.609375 18.84375 5.609375 36.375 \nQ 5.609375 53.953125 15.125 64.078125 \nQ 24.65625 74.21875 41.21875 74.21875 \nQ 47.75 74.21875 53.53125 72.484375 \nQ 59.328125 70.75 64.40625 67.28125 \nz\n\" id=\"DejaVuSans-67\"/>\n      <path d=\"M 30.609375 48.390625 \nQ 23.390625 48.390625 19.1875 42.75 \nQ 14.984375 37.109375 14.984375 27.296875 \nQ 14.984375 17.484375 19.15625 11.84375 \nQ 23.34375 6.203125 30.609375 6.203125 \nQ 37.796875 6.203125 41.984375 11.859375 \nQ 46.1875 17.53125 46.1875 27.296875 \nQ 46.1875 37.015625 41.984375 42.703125 \nQ 37.796875 48.390625 30.609375 48.390625 \nz\nM 30.609375 56 \nQ 42.328125 56 49.015625 48.375 \nQ 55.71875 40.765625 55.71875 27.296875 \nQ 55.71875 13.875 49.015625 6.21875 \nQ 42.328125 -1.421875 30.609375 -1.421875 \nQ 18.84375 -1.421875 12.171875 6.21875 \nQ 5.515625 13.875 5.515625 27.296875 \nQ 5.515625 40.765625 12.171875 48.375 \nQ 18.84375 56 30.609375 56 \nz\n\" id=\"DejaVuSans-111\"/>\n      <path d=\"M 2.984375 54.6875 \nL 12.5 54.6875 \nL 29.59375 8.796875 \nL 46.6875 54.6875 \nL 56.203125 54.6875 \nL 35.6875 0 \nL 23.484375 0 \nz\n\" id=\"DejaVuSans-118\"/>\n      <path d=\"M 9.421875 54.6875 \nL 18.40625 54.6875 \nL 18.40625 0 \nL 9.421875 0 \nz\nM 9.421875 75.984375 \nL 18.40625 75.984375 \nL 18.40625 64.59375 \nL 9.421875 64.59375 \nz\n\" id=\"DejaVuSans-105\"/>\n      <path d=\"M 45.40625 46.390625 \nL 45.40625 75.984375 \nL 54.390625 75.984375 \nL 54.390625 0 \nL 45.40625 0 \nL 45.40625 8.203125 \nQ 42.578125 3.328125 38.25 0.953125 \nQ 33.9375 -1.421875 27.875 -1.421875 \nQ 17.96875 -1.421875 11.734375 6.484375 \nQ 5.515625 14.40625 5.515625 27.296875 \nQ 5.515625 40.1875 11.734375 48.09375 \nQ 17.96875 56 27.875 56 \nQ 33.9375 56 38.25 53.625 \nQ 42.578125 51.265625 45.40625 46.390625 \nz\nM 14.796875 27.296875 \nQ 14.796875 17.390625 18.875 11.75 \nQ 22.953125 6.109375 30.078125 6.109375 \nQ 37.203125 6.109375 41.296875 11.75 \nQ 45.40625 17.390625 45.40625 27.296875 \nQ 45.40625 37.203125 41.296875 42.84375 \nQ 37.203125 48.484375 30.078125 48.484375 \nQ 22.953125 48.484375 18.875 42.84375 \nQ 14.796875 37.203125 14.796875 27.296875 \nz\n\" id=\"DejaVuSans-100\"/>\n      <path d=\"M 44.28125 53.078125 \nL 44.28125 44.578125 \nQ 40.484375 46.53125 36.375 47.5 \nQ 32.28125 48.484375 27.875 48.484375 \nQ 21.1875 48.484375 17.84375 46.4375 \nQ 14.5 44.390625 14.5 40.28125 \nQ 14.5 37.15625 16.890625 35.375 \nQ 19.28125 33.59375 26.515625 31.984375 \nL 29.59375 31.296875 \nQ 39.15625 29.25 43.1875 25.515625 \nQ 47.21875 21.78125 47.21875 15.09375 \nQ 47.21875 7.46875 41.1875 3.015625 \nQ 35.15625 -1.421875 24.609375 -1.421875 \nQ 20.21875 -1.421875 15.453125 -0.5625 \nQ 10.6875 0.296875 5.421875 2 \nL 5.421875 11.28125 \nQ 10.40625 8.6875 15.234375 7.390625 \nQ 20.0625 6.109375 24.8125 6.109375 \nQ 31.15625 6.109375 34.5625 8.28125 \nQ 37.984375 10.453125 37.984375 14.40625 \nQ 37.984375 18.0625 35.515625 20.015625 \nQ 33.0625 21.96875 24.703125 23.78125 \nL 21.578125 24.515625 \nQ 13.234375 26.265625 9.515625 29.90625 \nQ 5.8125 33.546875 5.8125 39.890625 \nQ 5.8125 47.609375 11.28125 51.796875 \nQ 16.75 56 26.8125 56 \nQ 31.78125 56 36.171875 55.265625 \nQ 40.578125 54.546875 44.28125 53.078125 \nz\n\" id=\"DejaVuSans-115\"/>\n     </defs>\n     <g transform=\"translate(89.375 23.798438)scale(0.1 -0.1)\">\n      <use xlink:href=\"#DejaVuSans-85\"/>\n      <use x=\"73.193359\" xlink:href=\"#DejaVuSans-83\"/>\n      <use x=\"136.669922\" xlink:href=\"#DejaVuSans-95\"/>\n      <use x=\"186.669922\" xlink:href=\"#DejaVuSans-67\"/>\n      <use x=\"256.494141\" xlink:href=\"#DejaVuSans-111\"/>\n      <use x=\"317.675781\" xlink:href=\"#DejaVuSans-118\"/>\n      <use x=\"376.855469\" xlink:href=\"#DejaVuSans-105\"/>\n      <use x=\"404.638672\" xlink:href=\"#DejaVuSans-100\"/>\n      <use x=\"468.115234\" xlink:href=\"#DejaVuSans-95\"/>\n      <use x=\"518.115234\" xlink:href=\"#DejaVuSans-67\"/>\n      <use x=\"587.939453\" xlink:href=\"#DejaVuSans-97\"/>\n      <use x=\"649.21875\" xlink:href=\"#DejaVuSans-115\"/>\n      <use x=\"701.318359\" xlink:href=\"#DejaVuSans-101\"/>\n      <use x=\"762.841797\" xlink:href=\"#DejaVuSans-115\"/>\n     </g>\n    </g>\n   </g>\n  </g>\n </g>\n <defs>\n  <clipPath id=\"p031d737c7c\">\n   <rect height=\"217.44\" width=\"334.8\" x=\"52.375\" y=\"7.2\"/>\n  </clipPath>\n </defs>\n</svg>\n",
      "image/png": "[encoded data removed]"
     },
     "metadata": {
      "needs_background": "light"
     }
    }
   ],
   "source": [
    "covid_df = pd.DataFrame()\n",
    "covid_df[\"US_Covid_Cases\"] = covid_data[\"New Cases\"]\n",
    "#covid_df[\"Date\"] = covid_data[\"Date\"]\n",
    "covid_df.plot()"
   ]
  },
  {
   "cell_type": "code",
   "execution_count": 50,
   "metadata": {},
   "outputs": [
    {
     "output_type": "execute_result",
     "data": {
      "text/plain": [
       "            S&P500       DOW    NASDAQ     Apple    Google  Johnson&Johnson  \\\n",
       "2019-01-02  249.89  232.9800  154.6799  157.5225  1053.240          127.680   \n",
       "2019-01-03  244.46  227.1900  149.9100  142.2900  1026.505          126.214   \n",
       "2019-01-04  252.41  234.2401  156.3114  148.1200  1076.550          127.830   \n",
       "2019-01-07  254.40  235.3900  158.1300  147.9100  1076.010          127.140   \n",
       "2019-01-08  256.65  237.8300  159.5200  150.6300  1085.510          129.850   \n",
       "\n",
       "              DPB  \n",
       "2019-01-02  46.31  \n",
       "2019-01-03  46.92  \n",
       "2019-01-04  47.76  \n",
       "2019-01-07  48.27  \n",
       "2019-01-08  49.58  "
      ],
      "text/html": "<div>\n<style scoped>\n    .dataframe tbody tr th:only-of-type {\n        vertical-align: middle;\n    }\n\n    .dataframe tbody tr th {\n        vertical-align: top;\n    }\n\n    .dataframe thead th {\n        text-align: right;\n    }\n</style>\n<table border=\"1\" class=\"dataframe\">\n  <thead>\n    <tr style=\"text-align: right;\">\n      <th></th>\n      <th>S&amp;P500</th>\n      <th>DOW</th>\n      <th>NASDAQ</th>\n      <th>Apple</th>\n      <th>Google</th>\n      <th>Johnson&amp;Johnson</th>\n      <th>DPB</th>\n    </tr>\n  </thead>\n  <tbody>\n    <tr>\n      <th>2019-01-02</th>\n      <td>249.89</td>\n      <td>232.9800</td>\n      <td>154.6799</td>\n      <td>157.5225</td>\n      <td>1053.240</td>\n      <td>127.680</td>\n      <td>46.31</td>\n    </tr>\n    <tr>\n      <th>2019-01-03</th>\n      <td>244.46</td>\n      <td>227.1900</td>\n      <td>149.9100</td>\n      <td>142.2900</td>\n      <td>1026.505</td>\n      <td>126.214</td>\n      <td>46.92</td>\n    </tr>\n    <tr>\n      <th>2019-01-04</th>\n      <td>252.41</td>\n      <td>234.2401</td>\n      <td>156.3114</td>\n      <td>148.1200</td>\n      <td>1076.550</td>\n      <td>127.830</td>\n      <td>47.76</td>\n    </tr>\n    <tr>\n      <th>2019-01-07</th>\n      <td>254.40</td>\n      <td>235.3900</td>\n      <td>158.1300</td>\n      <td>147.9100</td>\n      <td>1076.010</td>\n      <td>127.140</td>\n      <td>48.27</td>\n    </tr>\n    <tr>\n      <th>2019-01-08</th>\n      <td>256.65</td>\n      <td>237.8300</td>\n      <td>159.5200</td>\n      <td>150.6300</td>\n      <td>1085.510</td>\n      <td>129.850</td>\n      <td>49.58</td>\n    </tr>\n  </tbody>\n</table>\n</div>"
     },
     "metadata": {},
     "execution_count": 50
    }
   ],
   "source": [
    "df = tech_df.join(oil, how=\"inner\")\n",
    "df.head()"
   ]
  },
  {
   "cell_type": "code",
   "execution_count": 51,
   "metadata": {},
   "outputs": [
    {
     "output_type": "execute_result",
     "data": {
      "text/plain": [
       "           Date Type Program  Total Doses Administered Daily  \\\n",
       "Date                                                           \n",
       "2020-12-13     Admin      US                           13564   \n",
       "2020-12-14     Admin      US                            4008   \n",
       "2020-12-15     Admin      US                           50362   \n",
       "2020-12-16     Admin      US                          160987   \n",
       "2020-12-17     Admin      US                          275939   \n",
       "\n",
       "            Daily Count People Receiving Dose 1  \\\n",
       "Date                                              \n",
       "2020-12-13                                12038   \n",
       "2020-12-14                                 3874   \n",
       "2020-12-15                                46873   \n",
       "2020-12-16                               153951   \n",
       "2020-12-17                               264464   \n",
       "\n",
       "            Daily Count People Receiving Dose 2  \\\n",
       "Date                                              \n",
       "2020-12-13                                 1355   \n",
       "2020-12-14                                    7   \n",
       "2020-12-15                                   32   \n",
       "2020-12-16                                  220   \n",
       "2020-12-17                                  570   \n",
       "\n",
       "            Total Doses Administered Cumulative  \\\n",
       "Date                                              \n",
       "2020-12-13                                13564   \n",
       "2020-12-14                                17572   \n",
       "2020-12-15                                67934   \n",
       "2020-12-16                               228921   \n",
       "2020-12-17                               504860   \n",
       "\n",
       "            People Receiving 1 or More Doses Cumulative  \\\n",
       "Date                                                      \n",
       "2020-12-13                                        12038   \n",
       "2020-12-14                                        15912   \n",
       "2020-12-15                                        62785   \n",
       "2020-12-16                                       216736   \n",
       "2020-12-17                                       481200   \n",
       "\n",
       "            People Receiving 2 Doses Cumulative  7-Day Avg Daily Count Dose 1  \\\n",
       "Date                                                                            \n",
       "2020-12-13                                 1355                         12038   \n",
       "2020-12-14                                 1362                          7956   \n",
       "2020-12-15                                 1394                         20928   \n",
       "2020-12-16                                 1614                         54184   \n",
       "2020-12-17                                 2184                         96240   \n",
       "\n",
       "            7-Day Avg Total Doses Daily  7-Day Avg Daily Count Dose 2  \\\n",
       "Date                                                                    \n",
       "2020-12-13                        13564                          1355   \n",
       "2020-12-14                         8786                           681   \n",
       "2020-12-15                        22644                           465   \n",
       "2020-12-16                        57230                           404   \n",
       "2020-12-17                       100972                           437   \n",
       "\n",
       "            Daily Count of People Fully Vaccinated  \\\n",
       "Date                                                 \n",
       "2020-12-13                                    1543   \n",
       "2020-12-14                                      39   \n",
       "2020-12-15                                      93   \n",
       "2020-12-16                                     280   \n",
       "2020-12-17                                     615   \n",
       "\n",
       "            People with at least One Dose Cumulative  \\\n",
       "Date                                                   \n",
       "2020-12-13                                     12038   \n",
       "2020-12-14                                     15912   \n",
       "2020-12-15                                     62785   \n",
       "2020-12-16                                    216736   \n",
       "2020-12-17                                    481200   \n",
       "\n",
       "            People Fully Vaccinated Cumulative  \\\n",
       "Date                                             \n",
       "2020-12-13                                1543   \n",
       "2020-12-14                                1582   \n",
       "2020-12-15                                1675   \n",
       "2020-12-16                                1955   \n",
       "2020-12-17                                2570   \n",
       "\n",
       "            7-Day Avg Daily Count of People Fully Vaccinated  \n",
       "Date                                                          \n",
       "2020-12-13                                              1543  \n",
       "2020-12-14                                               791  \n",
       "2020-12-15                                               558  \n",
       "2020-12-16                                               488  \n",
       "2020-12-17                                               514  "
      ],
      "text/html": "<div>\n<style scoped>\n    .dataframe tbody tr th:only-of-type {\n        vertical-align: middle;\n    }\n\n    .dataframe tbody tr th {\n        vertical-align: top;\n    }\n\n    .dataframe thead th {\n        text-align: right;\n    }\n</style>\n<table border=\"1\" class=\"dataframe\">\n  <thead>\n    <tr style=\"text-align: right;\">\n      <th></th>\n      <th>Date Type</th>\n      <th>Program</th>\n      <th>Total Doses Administered Daily</th>\n      <th>Daily Count People Receiving Dose 1</th>\n      <th>Daily Count People Receiving Dose 2</th>\n      <th>Total Doses Administered Cumulative</th>\n      <th>People Receiving 1 or More Doses Cumulative</th>\n      <th>People Receiving 2 Doses Cumulative</th>\n      <th>7-Day Avg Daily Count Dose 1</th>\n      <th>7-Day Avg Total Doses Daily</th>\n      <th>7-Day Avg Daily Count Dose 2</th>\n      <th>Daily Count of People Fully Vaccinated</th>\n      <th>People with at least One Dose Cumulative</th>\n      <th>People Fully Vaccinated Cumulative</th>\n      <th>7-Day Avg Daily Count of People Fully Vaccinated</th>\n    </tr>\n    <tr>\n      <th>Date</th>\n      <th></th>\n      <th></th>\n      <th></th>\n      <th></th>\n      <th></th>\n      <th></th>\n      <th></th>\n      <th></th>\n      <th></th>\n      <th></th>\n      <th></th>\n      <th></th>\n      <th></th>\n      <th></th>\n      <th></th>\n    </tr>\n  </thead>\n  <tbody>\n    <tr>\n      <th>2020-12-13</th>\n      <td>Admin</td>\n      <td>US</td>\n      <td>13564</td>\n      <td>12038</td>\n      <td>1355</td>\n      <td>13564</td>\n      <td>12038</td>\n      <td>1355</td>\n      <td>12038</td>\n      <td>13564</td>\n      <td>1355</td>\n      <td>1543</td>\n      <td>12038</td>\n      <td>1543</td>\n      <td>1543</td>\n    </tr>\n    <tr>\n      <th>2020-12-14</th>\n      <td>Admin</td>\n      <td>US</td>\n      <td>4008</td>\n      <td>3874</td>\n      <td>7</td>\n      <td>17572</td>\n      <td>15912</td>\n      <td>1362</td>\n      <td>7956</td>\n      <td>8786</td>\n      <td>681</td>\n      <td>39</td>\n      <td>15912</td>\n      <td>1582</td>\n      <td>791</td>\n    </tr>\n    <tr>\n      <th>2020-12-15</th>\n      <td>Admin</td>\n      <td>US</td>\n      <td>50362</td>\n      <td>46873</td>\n      <td>32</td>\n      <td>67934</td>\n      <td>62785</td>\n      <td>1394</td>\n      <td>20928</td>\n      <td>22644</td>\n      <td>465</td>\n      <td>93</td>\n      <td>62785</td>\n      <td>1675</td>\n      <td>558</td>\n    </tr>\n    <tr>\n      <th>2020-12-16</th>\n      <td>Admin</td>\n      <td>US</td>\n      <td>160987</td>\n      <td>153951</td>\n      <td>220</td>\n      <td>228921</td>\n      <td>216736</td>\n      <td>1614</td>\n      <td>54184</td>\n      <td>57230</td>\n      <td>404</td>\n      <td>280</td>\n      <td>216736</td>\n      <td>1955</td>\n      <td>488</td>\n    </tr>\n    <tr>\n      <th>2020-12-17</th>\n      <td>Admin</td>\n      <td>US</td>\n      <td>275939</td>\n      <td>264464</td>\n      <td>570</td>\n      <td>504860</td>\n      <td>481200</td>\n      <td>2184</td>\n      <td>96240</td>\n      <td>100972</td>\n      <td>437</td>\n      <td>615</td>\n      <td>481200</td>\n      <td>2570</td>\n      <td>514</td>\n    </tr>\n  </tbody>\n</table>\n</div>"
     },
     "metadata": {},
     "execution_count": 51
    }
   ],
   "source": [
    "csv_path = Path(\"../csvs/vaccines.csv/\")\n",
    "vaccine_data = pd.read_csv(csv_path, index_col=\"Date\", parse_dates=True, infer_datetime_format=True)\n",
    "vaccine_data.sort_index(ascending = True, inplace = True)\n",
    "vaccine_data.head()"
   ]
  },
  {
   "cell_type": "code",
   "execution_count": 52,
   "metadata": {},
   "outputs": [],
   "source": [
    "#vaccine_df = pd.DataFrame()\n",
    "##accine_df[\"Daily_Dose\"] = vaccine_data[\"Total Doses Administered Daily\"]\n",
    "#covid_df[\"Date\"] = covid_data[\"Date\"]\n",
    "#vaccine_df.plot()"
   ]
  },
  {
   "cell_type": "code",
   "execution_count": 53,
   "metadata": {},
   "outputs": [
    {
     "output_type": "execute_result",
     "data": {
      "text/plain": [
       "            US_Covid_Cases  S&P500       DOW  NASDAQ     Apple   Google  \\\n",
       "2021-02-04          120127  386.17  310.6499  330.30  137.4000  2055.27   \n",
       "2021-02-05          123661  387.68  311.5000  331.40  136.7700  2089.50   \n",
       "2021-02-08           78347  390.53  313.8200  333.59  136.9007  2084.52   \n",
       "2021-02-09           91717  390.25  313.9100  333.48  136.0000  2073.90   \n",
       "2021-02-10           98836  390.10  314.5500  332.73  135.3600  2086.53   \n",
       "...                    ...     ...       ...     ...       ...      ...   \n",
       "2021-06-22           13361  423.06  339.4900  347.52  133.9700  2446.61   \n",
       "2021-06-23           14188  422.60  338.7400  347.66  133.7000  2442.55   \n",
       "2021-06-24           15208  425.09  341.9900  349.85  133.4000  2450.00   \n",
       "2021-06-25           13265  426.57  344.4100  349.47  133.1100  2450.18   \n",
       "2021-06-28            8669  427.48  342.8200  353.68  134.7500  2451.55   \n",
       "\n",
       "            Johnson&Johnson    DPB  \n",
       "2021-02-04          161.990  56.19  \n",
       "2021-02-05          164.480  56.80  \n",
       "2021-02-08          164.910  57.95  \n",
       "2021-02-09          166.210  58.34  \n",
       "2021-02-10          166.840  58.69  \n",
       "...                     ...    ...  \n",
       "2021-06-22          163.675  73.15  \n",
       "2021-06-23          162.630  73.11  \n",
       "2021-06-24          163.370  73.31  \n",
       "2021-06-25          164.210  74.21  \n",
       "2021-06-28          164.060  72.98  \n",
       "\n",
       "[100 rows x 8 columns]"
      ],
      "text/html": "<div>\n<style scoped>\n    .dataframe tbody tr th:only-of-type {\n        vertical-align: middle;\n    }\n\n    .dataframe tbody tr th {\n        vertical-align: top;\n    }\n\n    .dataframe thead th {\n        text-align: right;\n    }\n</style>\n<table border=\"1\" class=\"dataframe\">\n  <thead>\n    <tr style=\"text-align: right;\">\n      <th></th>\n      <th>US_Covid_Cases</th>\n      <th>S&amp;P500</th>\n      <th>DOW</th>\n      <th>NASDAQ</th>\n      <th>Apple</th>\n      <th>Google</th>\n      <th>Johnson&amp;Johnson</th>\n      <th>DPB</th>\n    </tr>\n  </thead>\n  <tbody>\n    <tr>\n      <th>2021-02-04</th>\n      <td>120127</td>\n      <td>386.17</td>\n      <td>310.6499</td>\n      <td>330.30</td>\n      <td>137.4000</td>\n      <td>2055.27</td>\n      <td>161.990</td>\n      <td>56.19</td>\n    </tr>\n    <tr>\n      <th>2021-02-05</th>\n      <td>123661</td>\n      <td>387.68</td>\n      <td>311.5000</td>\n      <td>331.40</td>\n      <td>136.7700</td>\n      <td>2089.50</td>\n      <td>164.480</td>\n      <td>56.80</td>\n    </tr>\n    <tr>\n      <th>2021-02-08</th>\n      <td>78347</td>\n      <td>390.53</td>\n      <td>313.8200</td>\n      <td>333.59</td>\n      <td>136.9007</td>\n      <td>2084.52</td>\n      <td>164.910</td>\n      <td>57.95</td>\n    </tr>\n    <tr>\n      <th>2021-02-09</th>\n      <td>91717</td>\n      <td>390.25</td>\n      <td>313.9100</td>\n      <td>333.48</td>\n      <td>136.0000</td>\n      <td>2073.90</td>\n      <td>166.210</td>\n      <td>58.34</td>\n    </tr>\n    <tr>\n      <th>2021-02-10</th>\n      <td>98836</td>\n      <td>390.10</td>\n      <td>314.5500</td>\n      <td>332.73</td>\n      <td>135.3600</td>\n      <td>2086.53</td>\n      <td>166.840</td>\n      <td>58.69</td>\n    </tr>\n    <tr>\n      <th>...</th>\n      <td>...</td>\n      <td>...</td>\n      <td>...</td>\n      <td>...</td>\n      <td>...</td>\n      <td>...</td>\n      <td>...</td>\n      <td>...</td>\n    </tr>\n    <tr>\n      <th>2021-06-22</th>\n      <td>13361</td>\n      <td>423.06</td>\n      <td>339.4900</td>\n      <td>347.52</td>\n      <td>133.9700</td>\n      <td>2446.61</td>\n      <td>163.675</td>\n      <td>73.15</td>\n    </tr>\n    <tr>\n      <th>2021-06-23</th>\n      <td>14188</td>\n      <td>422.60</td>\n      <td>338.7400</td>\n      <td>347.66</td>\n      <td>133.7000</td>\n      <td>2442.55</td>\n      <td>162.630</td>\n      <td>73.11</td>\n    </tr>\n    <tr>\n      <th>2021-06-24</th>\n      <td>15208</td>\n      <td>425.09</td>\n      <td>341.9900</td>\n      <td>349.85</td>\n      <td>133.4000</td>\n      <td>2450.00</td>\n      <td>163.370</td>\n      <td>73.31</td>\n    </tr>\n    <tr>\n      <th>2021-06-25</th>\n      <td>13265</td>\n      <td>426.57</td>\n      <td>344.4100</td>\n      <td>349.47</td>\n      <td>133.1100</td>\n      <td>2450.18</td>\n      <td>164.210</td>\n      <td>74.21</td>\n    </tr>\n    <tr>\n      <th>2021-06-28</th>\n      <td>8669</td>\n      <td>427.48</td>\n      <td>342.8200</td>\n      <td>353.68</td>\n      <td>134.7500</td>\n      <td>2451.55</td>\n      <td>164.060</td>\n      <td>72.98</td>\n    </tr>\n  </tbody>\n</table>\n<p>100 rows × 8 columns</p>\n</div>"
     },
     "metadata": {},
     "execution_count": 53
    }
   ],
   "source": [
    "data = covid_df.join(df, how=\"inner\")\n",
    "#data = vaccine_df.join(data, how=\"inner\")\n",
    "#data = data.join(vaccine_df, how=\"inner\")\n",
    "data.sort_index(inplace=True)\n",
    "data.tail(100)"
   ]
  },
  {
   "cell_type": "code",
   "execution_count": 54,
   "metadata": {},
   "outputs": [
    {
     "output_type": "execute_result",
     "data": {
      "text/plain": [
       "252.7"
      ]
     },
     "metadata": {},
     "execution_count": 54
    }
   ],
   "source": [
    "data.shape[0]*.7"
   ]
  },
  {
   "cell_type": "code",
   "execution_count": 55,
   "metadata": {},
   "outputs": [
    {
     "output_type": "execute_result",
     "data": {
      "text/plain": [
       "US_Covid_Cases     121277.00\n",
       "S&P500                384.40\n",
       "DOW                   309.66\n",
       "NASDAQ                328.35\n",
       "Apple                 142.90\n",
       "Google               1894.28\n",
       "Johnson&Johnson       165.87\n",
       "DPB                    52.78\n",
       "Name: 2021-01-25 00:00:00, dtype: float64"
      ]
     },
     "metadata": {},
     "execution_count": 55
    }
   ],
   "source": [
    "data.iloc[253]"
   ]
  },
  {
   "cell_type": "code",
   "execution_count": 56,
   "metadata": {},
   "outputs": [],
   "source": [
    "def window_data(df, window, feature_col_number, target_col_number):\n",
    "    X = []\n",
    "    y = []\n",
    "    for i in range(len(df) - window):\n",
    "        features = df.iloc[i : (i + window), feature_col_number]\n",
    "        target = df.iloc[(i + window), target_col_number]\n",
    "        X.append(features)\n",
    "        y.append(target)\n",
    "    return np.array(X), np.array(y).reshape(-1, 1)"
   ]
  },
  {
   "cell_type": "code",
   "execution_count": 57,
   "metadata": {},
   "outputs": [
    {
     "output_type": "stream",
     "name": "stdout",
     "text": [
      "X sample values:\n[[331.39 331.74 328.75 323.52 326.89 326.62]\n [331.74 328.75 323.52 326.89 326.62 327.66]\n [328.75 323.52 326.89 326.62 327.66 321.74]\n [323.52 326.89 326.62 327.66 321.74 324.14]\n [326.89 326.62 327.66 321.74 324.14 329.08]] \n\ny sample values:\n[[323.8762]\n [309.33  ]\n [308.71  ]\n [318.86  ]\n [321.58  ]]\n"
     ]
    }
   ],
   "source": [
    "window_size = 6\n",
    "feature_column = 1\n",
    "target_column = 4\n",
    "X, y = window_data(data, window_size, feature_column, target_column)\n",
    "print (f\"X sample values:\\n{X[:5]} \\n\")\n",
    "print (f\"y sample values:\\n{y[:5]}\")"
   ]
  },
  {
   "cell_type": "code",
   "execution_count": 58,
   "metadata": {},
   "outputs": [
    {
     "output_type": "stream",
     "name": "stdout",
     "text": [
      "[[331.39 331.74 328.75 323.52 326.89 326.62]\n [331.74 328.75 323.52 326.89 326.62 327.66]\n [328.75 323.52 326.89 326.62 327.66 321.74]\n ...\n [422.12 421.97 415.01 420.85 423.06 422.6 ]\n [421.97 415.01 420.85 423.06 422.6  425.09]\n [415.01 420.85 423.06 422.6  425.09 426.57]]\n"
     ]
    }
   ],
   "source": [
    "print(X)"
   ]
  },
  {
   "cell_type": "code",
   "execution_count": 59,
   "metadata": {},
   "outputs": [],
   "source": [
    "split = int(0.7 * len(X))\n",
    "X_train = X[: split]\n",
    "X_test = X[split :]\n",
    "y_train = y[: split]\n",
    "y_test = y[split :]"
   ]
  },
  {
   "cell_type": "code",
   "execution_count": 60,
   "metadata": {},
   "outputs": [],
   "source": [
    "from sklearn.preprocessing import MinMaxScaler\n",
    "\n",
    "scaler = MinMaxScaler()\n",
    "scaler.fit(X)\n",
    "X_train = scaler.transform(X_train)\n",
    "X_test = scaler.transform(X_test)\n",
    "scaler.fit(y)\n",
    "y_train = scaler.transform(y_train)\n",
    "y_test = scaler.transform(y_test)"
   ]
  },
  {
   "cell_type": "code",
   "execution_count": 61,
   "metadata": {},
   "outputs": [
    {
     "output_type": "stream",
     "name": "stdout",
     "text": [
      "X_train sample values:\n[[[0.53693658]\n  [0.53866259]\n  [0.52391755]\n  [0.49812605]\n  [0.51474504]\n  [0.51019308]]\n\n [[0.53866259]\n  [0.52391755]\n  [0.49812605]\n  [0.51474504]\n  [0.51341355]\n  [0.51528962]]\n\n [[0.52391755]\n  [0.49812605]\n  [0.51474504]\n  [0.51341355]\n  [0.51854226]\n  [0.48627855]]\n\n [[0.49812605]\n  [0.51474504]\n  [0.51341355]\n  [0.51854226]\n  [0.48934806]\n  [0.49803979]]\n\n [[0.51474504]\n  [0.51341355]\n  [0.51854226]\n  [0.48934806]\n  [0.50118355]\n  [0.52224836]]] \n\nX_test sample values:\n[[[0.75535063]\n  [0.76989841]\n  [0.79568991]\n  [0.7973666 ]\n  [0.79075846]\n  [0.79334509]]\n\n [[0.76989841]\n  [0.79568991]\n  [0.7973666 ]\n  [0.79075846]\n  [0.79835289]\n  [0.7905518 ]]\n\n [[0.79568991]\n  [0.7973666 ]\n  [0.79075846]\n  [0.79835289]\n  [0.79554197]\n  [0.74453592]]\n\n [[0.7973666 ]\n  [0.79075846]\n  [0.79835289]\n  [0.79554197]\n  [0.74923562]\n  [0.76002156]]\n\n [[0.79075846]\n  [0.79835289]\n  [0.79554197]\n  [0.74923562]\n  [0.76481902]\n  [0.72370871]]]\n"
     ]
    }
   ],
   "source": [
    "X_train = X_train.reshape((X_train.shape[0], X_train.shape[1], 1))\n",
    "X_test = X_test.reshape((X_test.shape[0], X_test.shape[1], 1))\n",
    "print (f\"X_train sample values:\\n{X_train[:5]} \\n\")\n",
    "print (f\"X_test sample values:\\n{X_test[:5]}\")"
   ]
  },
  {
   "cell_type": "code",
   "execution_count": 62,
   "metadata": {},
   "outputs": [],
   "source": [
    "from tensorflow.keras.models import Sequential\n",
    "from tensorflow.keras.layers import LSTM, Dense, Dropout"
   ]
  },
  {
   "cell_type": "code",
   "execution_count": 63,
   "metadata": {},
   "outputs": [],
   "source": [
    "model = Sequential()\n",
    "\n",
    "number_units = 5\n",
    "dropout_fraction = 0.2\n",
    "\n",
    "# Layer 1\n",
    "model.add(LSTM(units=number_units, return_sequences=True, input_shape=(X_train.shape[1], 1)))\n",
    "model.add(Dropout(dropout_fraction))\n",
    "# Layer 2\n",
    "model.add(LSTM(units=number_units, return_sequences=True))\n",
    "model.add(Dropout(dropout_fraction))\n",
    "# Layer 3\n",
    "model.add(LSTM(units=number_units))\n",
    "model.add(Dropout(dropout_fraction))\n",
    "# Output layer\n",
    "model.add(Dense(1))"
   ]
  },
  {
   "cell_type": "code",
   "execution_count": 64,
   "metadata": {},
   "outputs": [],
   "source": [
    "model.compile(optimizer=\"adam\", loss=\"mean_squared_error\")"
   ]
  },
  {
   "cell_type": "code",
   "execution_count": 65,
   "metadata": {},
   "outputs": [
    {
     "output_type": "stream",
     "name": "stdout",
     "text": [
      "Model: \"sequential_1\"\n_________________________________________________________________\nLayer (type)                 Output Shape              Param #   \n=================================================================\nlstm_3 (LSTM)                (None, 6, 5)              140       \n_________________________________________________________________\ndropout_3 (Dropout)          (None, 6, 5)              0         \n_________________________________________________________________\nlstm_4 (LSTM)                (None, 6, 5)              220       \n_________________________________________________________________\ndropout_4 (Dropout)          (None, 6, 5)              0         \n_________________________________________________________________\nlstm_5 (LSTM)                (None, 5)                 220       \n_________________________________________________________________\ndropout_5 (Dropout)          (None, 5)                 0         \n_________________________________________________________________\ndense_1 (Dense)              (None, 1)                 6         \n=================================================================\nTotal params: 586\nTrainable params: 586\nNon-trainable params: 0\n_________________________________________________________________\n"
     ]
    }
   ],
   "source": [
    "model.summary()"
   ]
  },
  {
   "cell_type": "code",
   "execution_count": 66,
   "metadata": {},
   "outputs": [
    {
     "output_type": "stream",
     "name": "stdout",
     "text": [
      "Epoch 1/10\n",
      "248/248 [==============================] - 4s 4ms/step - loss: 0.0869\n",
      "Epoch 2/10\n",
      "248/248 [==============================] - 1s 4ms/step - loss: 0.0736\n",
      "Epoch 3/10\n",
      "248/248 [==============================] - 1s 4ms/step - loss: 0.0830\n",
      "Epoch 4/10\n",
      "248/248 [==============================] - 1s 4ms/step - loss: 0.0839\n",
      "Epoch 5/10\n",
      "248/248 [==============================] - 1s 4ms/step - loss: 0.0865\n",
      "Epoch 6/10\n",
      "248/248 [==============================] - 1s 4ms/step - loss: 0.0838\n",
      "Epoch 7/10\n",
      "248/248 [==============================] - 1s 4ms/step - loss: 0.0877\n",
      "Epoch 8/10\n",
      "248/248 [==============================] - 1s 5ms/step - loss: 0.0872\n",
      "Epoch 9/10\n",
      "248/248 [==============================] - 1s 4ms/step - loss: 0.0826\n",
      "Epoch 10/10\n",
      "248/248 [==============================] - 1s 5ms/step - loss: 0.0837\n"
     ]
    },
    {
     "output_type": "execute_result",
     "data": {
      "text/plain": [
       "<tensorflow.python.keras.callbacks.History at 0x7ffa9e6f48b0>"
      ]
     },
     "metadata": {},
     "execution_count": 66
    }
   ],
   "source": [
    "model.fit(X_train, y_train, epochs=10, shuffle=False, batch_size=1, verbose=1)"
   ]
  },
  {
   "cell_type": "code",
   "execution_count": 67,
   "metadata": {},
   "outputs": [
    {
     "output_type": "stream",
     "name": "stdout",
     "text": [
      "4/4 [==============================] - 1s 3ms/step - loss: 0.0016\n"
     ]
    },
    {
     "output_type": "execute_result",
     "data": {
      "text/plain": [
       "0.0016497551696375012"
      ]
     },
     "metadata": {},
     "execution_count": 67
    }
   ],
   "source": [
    "model.evaluate(X_test, y_test)"
   ]
  },
  {
   "cell_type": "code",
   "execution_count": 68,
   "metadata": {},
   "outputs": [],
   "source": [
    "predicted = model.predict(X_test)"
   ]
  },
  {
   "cell_type": "code",
   "execution_count": 69,
   "metadata": {},
   "outputs": [],
   "source": [
    "predicted_prices = scaler.inverse_transform(predicted)\n",
    "real_prices = scaler.inverse_transform(y_test.reshape(-1, 1))"
   ]
  },
  {
   "cell_type": "code",
   "execution_count": 70,
   "metadata": {},
   "outputs": [
    {
     "output_type": "execute_result",
     "data": {
      "text/plain": [
       "                Real   Predicted\n",
       "2021-01-26  143.1850  130.916702\n",
       "2021-01-27  142.5300  129.516098\n",
       "2021-01-28  137.0400  128.820572\n",
       "2021-01-29  131.8300  129.358597\n",
       "2021-02-01  134.1000  130.415253\n",
       "...              ...         ...\n",
       "2021-06-11  127.3521  105.615608\n",
       "2021-06-14  130.4900  105.041779\n",
       "2021-06-15  129.7400  104.960800\n",
       "2021-06-16  130.1400  104.740585\n",
       "2021-06-17  131.7800  104.488060\n",
       "\n",
       "[100 rows x 2 columns]"
      ],
      "text/html": "<div>\n<style scoped>\n    .dataframe tbody tr th:only-of-type {\n        vertical-align: middle;\n    }\n\n    .dataframe tbody tr th {\n        vertical-align: top;\n    }\n\n    .dataframe thead th {\n        text-align: right;\n    }\n</style>\n<table border=\"1\" class=\"dataframe\">\n  <thead>\n    <tr style=\"text-align: right;\">\n      <th></th>\n      <th>Real</th>\n      <th>Predicted</th>\n    </tr>\n  </thead>\n  <tbody>\n    <tr>\n      <th>2021-01-26</th>\n      <td>143.1850</td>\n      <td>130.916702</td>\n    </tr>\n    <tr>\n      <th>2021-01-27</th>\n      <td>142.5300</td>\n      <td>129.516098</td>\n    </tr>\n    <tr>\n      <th>2021-01-28</th>\n      <td>137.0400</td>\n      <td>128.820572</td>\n    </tr>\n    <tr>\n      <th>2021-01-29</th>\n      <td>131.8300</td>\n      <td>129.358597</td>\n    </tr>\n    <tr>\n      <th>2021-02-01</th>\n      <td>134.1000</td>\n      <td>130.415253</td>\n    </tr>\n    <tr>\n      <th>...</th>\n      <td>...</td>\n      <td>...</td>\n    </tr>\n    <tr>\n      <th>2021-06-11</th>\n      <td>127.3521</td>\n      <td>105.615608</td>\n    </tr>\n    <tr>\n      <th>2021-06-14</th>\n      <td>130.4900</td>\n      <td>105.041779</td>\n    </tr>\n    <tr>\n      <th>2021-06-15</th>\n      <td>129.7400</td>\n      <td>104.960800</td>\n    </tr>\n    <tr>\n      <th>2021-06-16</th>\n      <td>130.1400</td>\n      <td>104.740585</td>\n    </tr>\n    <tr>\n      <th>2021-06-17</th>\n      <td>131.7800</td>\n      <td>104.488060</td>\n    </tr>\n  </tbody>\n</table>\n<p>100 rows × 2 columns</p>\n</div>"
     },
     "metadata": {},
     "execution_count": 70
    }
   ],
   "source": [
    "stocks = pd.DataFrame({\n",
    "    \"Real\": real_prices.ravel(),\n",
    "    \"Predicted\": predicted_prices.ravel()\n",
    "    }, index = data.index[-len(real_prices): ])\n",
    "stocks.head(100)"
   ]
  },
  {
   "cell_type": "code",
   "execution_count": 72,
   "metadata": {},
   "outputs": [
    {
     "output_type": "display_data",
     "data": {},
     "metadata": {}
    },
    {
     "output_type": "execute_result",
     "data": {
      "text/html": "<div id='1771'>\n\n\n\n\n\n  <div class=\"bk-root\" id=\"d22b76ec-db2f-415c-8215-37904fccdedd\" data-root-id=\"1771\"></div>\n</div>\n<script type=\"application/javascript\">(function(root) {\n  function embed_document(root) {\n  var docs_json = {\"2a097767-563e-4f98-a3e1-e8e989e78b67\":{\"roots\":{\"references\":[{\"attributes\":{},\"id\":\"1810\",\"type\":\"BasicTickFormatter\"},{\"attributes\":{\"base\":60,\"mantissas\":[1,2,5,10,15,20,30],\"max_interval\":1800000.0,\"min_interval\":1000.0,\"num_minor_ticks\":0},\"id\":\"1825\",\"type\":\"AdaptiveTicker\"},{\"attributes\":{\"days\":[1,2,3,4,5,6,7,8,9,10,11,12,13,14,15,16,17,18,19,20,21,22,23,24,25,26,27,28,29,30,31]},\"id\":\"1827\",\"type\":\"DaysTicker\"},{\"attributes\":{\"base\":24,\"mantissas\":[1,2,4,6,8,12],\"max_interval\":43200000.0,\"min_interval\":3600000.0,\"num_minor_ticks\":0},\"id\":\"1826\",\"type\":\"AdaptiveTicker\"},{\"attributes\":{\"line_color\":\"#1f77b3\",\"line_width\":2,\"x\":{\"field\":\"index\"},\"y\":{\"field\":\"value\"}},\"id\":\"1814\",\"type\":\"Line\"},{\"attributes\":{\"source\":{\"id\":\"1839\"}},\"id\":\"1846\",\"type\":\"CDSView\"},{\"attributes\":{\"months\":[0,1,2,3,4,5,6,7,8,9,10,11]},\"id\":\"1831\",\"type\":\"MonthsTicker\"},{\"attributes\":{\"months\":[0,2,4,6,8,10]},\"id\":\"1832\",\"type\":\"MonthsTicker\"},{\"attributes\":{\"data_source\":{\"id\":\"1839\"},\"glyph\":{\"id\":\"1842\"},\"hover_glyph\":null,\"muted_glyph\":{\"id\":\"1844\"},\"nonselection_glyph\":{\"id\":\"1843\"},\"selection_glyph\":null,\"view\":{\"id\":\"1846\"}},\"id\":\"1845\",\"type\":\"GlyphRenderer\"},{\"attributes\":{\"days\":[1,4,7,10,13,16,19,22,25,28]},\"id\":\"1828\",\"type\":\"DaysTicker\"},{\"attributes\":{\"end\":147.0882625732422,\"reset_end\":147.0882625732422,\"reset_start\":100.24911169433594,\"start\":100.24911169433594,\"tags\":[[[\"value\",\"value\",null]]]},\"id\":\"1774\",\"type\":\"Range1d\"},{\"attributes\":{\"data_source\":{\"id\":\"1811\"},\"glyph\":{\"id\":\"1814\"},\"hover_glyph\":null,\"muted_glyph\":{\"id\":\"1816\"},\"nonselection_glyph\":{\"id\":\"1815\"},\"selection_glyph\":null,\"view\":{\"id\":\"1818\"}},\"id\":\"1817\",\"type\":\"GlyphRenderer\"},{\"attributes\":{\"days\":[1,15]},\"id\":\"1830\",\"type\":\"DaysTicker\"},{\"attributes\":{\"line_alpha\":0.1,\"line_color\":\"#ff7e0e\",\"line_width\":2,\"x\":{\"field\":\"index\"},\"y\":{\"field\":\"value\"}},\"id\":\"1843\",\"type\":\"Line\"},{\"attributes\":{\"callback\":null,\"formatters\":{\"@{index}\":\"datetime\"},\"renderers\":[{\"id\":\"1817\"},{\"id\":\"1845\"}],\"tags\":[\"hv_created\"],\"tooltips\":[[\"Variable\",\"@{Variable}\"],[\"index\",\"@{index}{%F %T}\"],[\"value\",\"@{value}\"]]},\"id\":\"1775\",\"type\":\"HoverTool\"},{\"attributes\":{\"months\":[0,6]},\"id\":\"1834\",\"type\":\"MonthsTicker\"},{\"attributes\":{\"line_color\":\"#ff7e0e\",\"line_width\":2,\"x\":{\"field\":\"index\"},\"y\":{\"field\":\"value\"}},\"id\":\"1842\",\"type\":\"Line\"},{\"attributes\":{\"data\":{\"Variable\":[\"Predicted\",\"Predicted\",\"Predicted\",\"Predicted\",\"Predicted\",\"Predicted\",\"Predicted\",\"Predicted\",\"Predicted\",\"Predicted\",\"Predicted\",\"Predicted\",\"Predicted\",\"Predicted\",\"Predicted\",\"Predicted\",\"Predicted\",\"Predicted\",\"Predicted\",\"Predicted\",\"Predicted\",\"Predicted\",\"Predicted\",\"Predicted\",\"Predicted\",\"Predicted\",\"Predicted\",\"Predicted\",\"Predicted\",\"Predicted\",\"Predicted\",\"Predicted\",\"Predicted\",\"Predicted\",\"Predicted\",\"Predicted\",\"Predicted\",\"Predicted\",\"Predicted\",\"Predicted\",\"Predicted\",\"Predicted\",\"Predicted\",\"Predicted\",\"Predicted\",\"Predicted\",\"Predicted\",\"Predicted\",\"Predicted\",\"Predicted\",\"Predicted\",\"Predicted\",\"Predicted\",\"Predicted\",\"Predicted\",\"Predicted\",\"Predicted\",\"Predicted\",\"Predicted\",\"Predicted\",\"Predicted\",\"Predicted\",\"Predicted\",\"Predicted\",\"Predicted\",\"Predicted\",\"Predicted\",\"Predicted\",\"Predicted\",\"Predicted\",\"Predicted\",\"Predicted\",\"Predicted\",\"Predicted\",\"Predicted\",\"Predicted\",\"Predicted\",\"Predicted\",\"Predicted\",\"Predicted\",\"Predicted\",\"Predicted\",\"Predicted\",\"Predicted\",\"Predicted\",\"Predicted\",\"Predicted\",\"Predicted\",\"Predicted\",\"Predicted\",\"Predicted\",\"Predicted\",\"Predicted\",\"Predicted\",\"Predicted\",\"Predicted\",\"Predicted\",\"Predicted\",\"Predicted\",\"Predicted\",\"Predicted\",\"Predicted\",\"Predicted\",\"Predicted\",\"Predicted\",\"Predicted\",\"Predicted\"],\"index\":{\"__ndarray__\":\"AADA1r9zd0IAAIA8EnR3QgAAQKJkdHdCAAAACLd0d0IAAEA5rnV3QgAAAJ8AdndCAADABFN2d0IAAIBqpXZ3QgAAQND3dndCAACAAe93d0IAAEBnQXh3QgAAAM2TeHdCAADAMuZ4d0IAAICYOHl3QgAAgC+CendCAABAldR6d0IAAAD7Jnt3QgAAwGB5e3dCAAAAknB8d0IAAMD3wnx3QgAAgF0VfXdCAABAw2d9d0IAAAApun13QgAAQFqxfndCAAAAwAN/d0IAAMAlVn93QgAAgIuof3dCAABA8fp/d0IAAIAi8oB3QgAAQIhEgXdCAAAA7paBd0IAAMBT6YF3QgAAgLk7gndCAADA6jKDd0IAAIBQhYN3QgAAQLbXg3dCAAAAHCqEd0IAAMCBfIR3QgAAALNzhXdCAADAGMaFd0IAAIB+GIZ3QgAAQORqhndCAAAASr2Gd0IAAEB7tId3QgAAAOEGiHdCAADARlmId0IAAICsq4h3QgAAgEP1iXdCAABAqUeKd0IAAAAPmop3QgAAwHTsindCAACA2j6Ld0IAAMALNox3QgAAgHGIjHdCAABA19qMd0IAAAA9LY13QgAAwKJ/jXdCAAAA1HaOd0IAAMA5yY53QgAAgJ8bj3dCAABABW6Pd0IAAABrwI93QgAAQJy3kHdCAAAAAgqRd0IAAMBnXJF3QgAAgM2ukXdCAABAMwGSd0IAAIBk+JJ3QgAAQMpKk3dCAAAAMJ2Td0IAAMCV75N3QgAAgPtBlHdCAADALDmVd0IAAICSi5V3QgAAQPjdlXdCAAAAXjCWd0IAAMDDgpZ3QgAAAPV5l3dCAADAWsyXd0IAAIDAHph3QgAAQCZxmHdCAAAAjMOYd0IAAEC9upl3QgAAACMNmndCAADAiF+ad0IAAIDusZp3QgAAQFQEm3dCAABA602cd0IAAABRoJx3QgAAwLbynHdCAACAHEWdd0IAAMBNPJ53QgAAgLOOnndCAABAGeGed0IAAAB/M593QgAAwOSFn3dCAAAAFn2gd0IAAMB7z6B3QgAAgOEhoXdCAABAR3Shd0IAAACtxqF3QgAAQN69ondCAAAARBCjd0IAAMCpYqN3QgAAgA+1o3dCAABAdQekd0IAAICm/qR3Qg==\",\"dtype\":\"float64\",\"shape\":[107]},\"value\":{\"__ndarray__\":\"reoCQx+EAUMR0gBDzVsBQ05qAkOdkwND+RMFQ61NBkPdZgVD9ZsEQybzAUN///9C8oD9QpC++kJYOflCUwH4Qr6g90LDFfdC74v2QvyB9kLDifdCcpb4QmcN+kLhjftCxwb9Qq9//ULIXf5C+6oAQ5+YAEMiQQBD/I8BQzYWAkMRPQFDfh3+Qgpe+0JSPfdCSYH0QniE8kLZN/JCSXPyQuXr80KOsfVCNkL4Qvqb+ELm4vdCmtf3QmVM9kIOdfNChpbwQqAj70L0v+xCW2TpQsze5UIFQuNCzyPiQoyX4ELb1t5CK03dQgFo3EKgcttCqMraQnS62UJsH9pCVOraQijV2kLxh9lC9DXZQnZ110KqCtdCw/bWQjb41kLu/tZC473XQvV310LgfddC2yXXQjZ710LzWNlCd2TcQrom3kIGqd5CChfcQrf52kJDudtCmtTbQuNe2kLdK9hC/hbXQj271UI+mNVC3SLVQsrV1EJ+ltRCh0jUQiu300IxO9NCZBXSQu7r0UIue9FC4/nQQgRO0EJ4lNBCw3zRQtbp0kLlINRCBmnUQtpB1EI=\",\"dtype\":\"float32\",\"shape\":[107]}},\"selected\":{\"id\":\"1840\"},\"selection_policy\":{\"id\":\"1887\"}},\"id\":\"1839\",\"type\":\"ColumnDataSource\"},{\"attributes\":{\"days\":[1,8,15,22]},\"id\":\"1829\",\"type\":\"DaysTicker\"},{\"attributes\":{},\"id\":\"1812\",\"type\":\"Selection\"},{\"attributes\":{},\"id\":\"1835\",\"type\":\"YearsTicker\"},{\"attributes\":{\"text\":\"Predicting Appl's Close with the S&P500 Close - (6Day Window)\",\"text_color\":{\"value\":\"black\"},\"text_font_size\":{\"value\":\"12pt\"}},\"id\":\"1778\",\"type\":\"Title\"},{\"attributes\":{\"bottom_units\":\"screen\",\"fill_alpha\":0.5,\"fill_color\":\"lightgrey\",\"left_units\":\"screen\",\"level\":\"overlay\",\"line_alpha\":1.0,\"line_color\":\"black\",\"line_dash\":[4,4],\"line_width\":2,\"render_mode\":\"css\",\"right_units\":\"screen\",\"top_units\":\"screen\"},\"id\":\"1799\",\"type\":\"BoxAnnotation\"},{\"attributes\":{\"mantissas\":[1,2,5],\"max_interval\":500.0,\"num_minor_ticks\":0},\"id\":\"1824\",\"type\":\"AdaptiveTicker\"},{\"attributes\":{\"line_alpha\":0.2,\"line_color\":\"#ff7e0e\",\"line_width\":2,\"x\":{\"field\":\"index\"},\"y\":{\"field\":\"value\"}},\"id\":\"1844\",\"type\":\"Line\"},{\"attributes\":{},\"id\":\"1840\",\"type\":\"Selection\"},{\"attributes\":{\"months\":[0,4,8]},\"id\":\"1833\",\"type\":\"MonthsTicker\"},{\"attributes\":{\"num_minor_ticks\":5,\"tickers\":[{\"id\":\"1824\"},{\"id\":\"1825\"},{\"id\":\"1826\"},{\"id\":\"1827\"},{\"id\":\"1828\"},{\"id\":\"1829\"},{\"id\":\"1830\"},{\"id\":\"1831\"},{\"id\":\"1832\"},{\"id\":\"1833\"},{\"id\":\"1834\"},{\"id\":\"1835\"}]},\"id\":\"1787\",\"type\":\"DatetimeTicker\"},{\"attributes\":{\"below\":[{\"id\":\"1786\"}],\"center\":[{\"id\":\"1789\"},{\"id\":\"1793\"}],\"left\":[{\"id\":\"1790\"}],\"margin\":null,\"min_border_bottom\":10,\"min_border_left\":10,\"min_border_right\":10,\"min_border_top\":10,\"plot_height\":300,\"plot_width\":700,\"renderers\":[{\"id\":\"1817\"},{\"id\":\"1845\"}],\"right\":[{\"id\":\"1837\"}],\"sizing_mode\":\"fixed\",\"title\":{\"id\":\"1778\"},\"toolbar\":{\"id\":\"1800\"},\"x_range\":{\"id\":\"1773\"},\"x_scale\":{\"id\":\"1782\"},\"y_range\":{\"id\":\"1774\"},\"y_scale\":{\"id\":\"1784\"}},\"id\":\"1777\",\"subtype\":\"Figure\",\"type\":\"Plot\"},{\"attributes\":{\"source\":{\"id\":\"1811\"}},\"id\":\"1818\",\"type\":\"CDSView\"},{\"attributes\":{\"line_alpha\":0.1,\"line_color\":\"#1f77b3\",\"line_width\":2,\"x\":{\"field\":\"index\"},\"y\":{\"field\":\"value\"}},\"id\":\"1815\",\"type\":\"Line\"},{\"attributes\":{\"label\":{\"value\":\"Predicted\"},\"renderers\":[{\"id\":\"1845\"}]},\"id\":\"1867\",\"type\":\"LegendItem\"},{\"attributes\":{\"line_alpha\":0.2,\"line_color\":\"#1f77b3\",\"line_width\":2,\"x\":{\"field\":\"index\"},\"y\":{\"field\":\"value\"}},\"id\":\"1816\",\"type\":\"Line\"},{\"attributes\":{\"end\":1624838400000.0,\"reset_end\":1624838400000.0,\"reset_start\":1611619200000.0,\"start\":1611619200000.0,\"tags\":[[[\"index\",\"index\",null]]]},\"id\":\"1773\",\"type\":\"Range1d\"},{\"attributes\":{\"margin\":[5,5,5,5],\"name\":\"HSpacer02438\",\"sizing_mode\":\"stretch_width\"},\"id\":\"2044\",\"type\":\"Spacer\"},{\"attributes\":{},\"id\":\"1784\",\"type\":\"LinearScale\"},{\"attributes\":{},\"id\":\"1864\",\"type\":\"UnionRenderers\"},{\"attributes\":{\"margin\":[5,5,5,5],\"name\":\"HSpacer02437\",\"sizing_mode\":\"stretch_width\"},\"id\":\"1772\",\"type\":\"Spacer\"},{\"attributes\":{\"click_policy\":\"mute\",\"items\":[{\"id\":\"1838\"},{\"id\":\"1867\"}],\"location\":[0,0],\"title\":\"Variable\"},\"id\":\"1837\",\"type\":\"Legend\"},{\"attributes\":{},\"id\":\"1796\",\"type\":\"WheelZoomTool\"},{\"attributes\":{},\"id\":\"1782\",\"type\":\"LinearScale\"},{\"attributes\":{\"children\":[{\"id\":\"1772\"},{\"id\":\"1777\"},{\"id\":\"2044\"}],\"margin\":[0,0,0,0],\"name\":\"Row02433\",\"tags\":[\"embedded\"]},\"id\":\"1771\",\"type\":\"Row\"},{\"attributes\":{},\"id\":\"1795\",\"type\":\"PanTool\"},{\"attributes\":{\"axis\":{\"id\":\"1786\"},\"grid_line_color\":null,\"ticker\":null},\"id\":\"1789\",\"type\":\"Grid\"},{\"attributes\":{\"axis\":{\"id\":\"1790\"},\"dimension\":1,\"grid_line_color\":null,\"ticker\":null},\"id\":\"1793\",\"type\":\"Grid\"},{\"attributes\":{},\"id\":\"1791\",\"type\":\"BasicTicker\"},{\"attributes\":{},\"id\":\"1794\",\"type\":\"SaveTool\"},{\"attributes\":{\"axis_label\":\"Date\",\"bounds\":\"auto\",\"formatter\":{\"id\":\"1808\"},\"major_label_orientation\":\"horizontal\",\"ticker\":{\"id\":\"1787\"}},\"id\":\"1786\",\"type\":\"DatetimeAxis\"},{\"attributes\":{\"label\":{\"value\":\"Real\"},\"renderers\":[{\"id\":\"1817\"}]},\"id\":\"1838\",\"type\":\"LegendItem\"},{\"attributes\":{\"data\":{\"Variable\":[\"Real\",\"Real\",\"Real\",\"Real\",\"Real\",\"Real\",\"Real\",\"Real\",\"Real\",\"Real\",\"Real\",\"Real\",\"Real\",\"Real\",\"Real\",\"Real\",\"Real\",\"Real\",\"Real\",\"Real\",\"Real\",\"Real\",\"Real\",\"Real\",\"Real\",\"Real\",\"Real\",\"Real\",\"Real\",\"Real\",\"Real\",\"Real\",\"Real\",\"Real\",\"Real\",\"Real\",\"Real\",\"Real\",\"Real\",\"Real\",\"Real\",\"Real\",\"Real\",\"Real\",\"Real\",\"Real\",\"Real\",\"Real\",\"Real\",\"Real\",\"Real\",\"Real\",\"Real\",\"Real\",\"Real\",\"Real\",\"Real\",\"Real\",\"Real\",\"Real\",\"Real\",\"Real\",\"Real\",\"Real\",\"Real\",\"Real\",\"Real\",\"Real\",\"Real\",\"Real\",\"Real\",\"Real\",\"Real\",\"Real\",\"Real\",\"Real\",\"Real\",\"Real\",\"Real\",\"Real\",\"Real\",\"Real\",\"Real\",\"Real\",\"Real\",\"Real\",\"Real\",\"Real\",\"Real\",\"Real\",\"Real\",\"Real\",\"Real\",\"Real\",\"Real\",\"Real\",\"Real\",\"Real\",\"Real\",\"Real\",\"Real\",\"Real\",\"Real\",\"Real\",\"Real\",\"Real\",\"Real\"],\"index\":{\"__ndarray__\":\"AADA1r9zd0IAAIA8EnR3QgAAQKJkdHdCAAAACLd0d0IAAEA5rnV3QgAAAJ8AdndCAADABFN2d0IAAIBqpXZ3QgAAQND3dndCAACAAe93d0IAAEBnQXh3QgAAAM2TeHdCAADAMuZ4d0IAAICYOHl3QgAAgC+CendCAABAldR6d0IAAAD7Jnt3QgAAwGB5e3dCAAAAknB8d0IAAMD3wnx3QgAAgF0VfXdCAABAw2d9d0IAAAApun13QgAAQFqxfndCAAAAwAN/d0IAAMAlVn93QgAAgIuof3dCAABA8fp/d0IAAIAi8oB3QgAAQIhEgXdCAAAA7paBd0IAAMBT6YF3QgAAgLk7gndCAADA6jKDd0IAAIBQhYN3QgAAQLbXg3dCAAAAHCqEd0IAAMCBfIR3QgAAALNzhXdCAADAGMaFd0IAAIB+GIZ3QgAAQORqhndCAAAASr2Gd0IAAEB7tId3QgAAAOEGiHdCAADARlmId0IAAICsq4h3QgAAgEP1iXdCAABAqUeKd0IAAAAPmop3QgAAwHTsindCAACA2j6Ld0IAAMALNox3QgAAgHGIjHdCAABA19qMd0IAAAA9LY13QgAAwKJ/jXdCAAAA1HaOd0IAAMA5yY53QgAAgJ8bj3dCAABABW6Pd0IAAABrwI93QgAAQJy3kHdCAAAAAgqRd0IAAMBnXJF3QgAAgM2ukXdCAABAMwGSd0IAAIBk+JJ3QgAAQMpKk3dCAAAAMJ2Td0IAAMCV75N3QgAAgPtBlHdCAADALDmVd0IAAICSi5V3QgAAQPjdlXdCAAAAXjCWd0IAAMDDgpZ3QgAAAPV5l3dCAADAWsyXd0IAAIDAHph3QgAAQCZxmHdCAAAAjMOYd0IAAEC9upl3QgAAACMNmndCAADAiF+ad0IAAIDusZp3QgAAQFQEm3dCAABA602cd0IAAABRoJx3QgAAwLbynHdCAACAHEWdd0IAAMBNPJ53QgAAgLOOnndCAABAGeGed0IAAAB/M593QgAAwOSFn3dCAAAAFn2gd0IAAMB7z6B3QgAAgOEhoXdCAABAR3Shd0IAAACtxqF3QgAAQN69ondCAAAARBCjd0IAAMCpYqN3QgAAgA+1o3dCAABAdQekd0IAAICm/qR3Qg==\",\"dtype\":\"float64\",\"shape\":[107]},\"value\":{\"__ndarray__\":\"UrgehevlYUApXI/C9dBhQOF6FK5HIWFAw/UoXI96YEAzMzMzM8NgQI/C9Shc32BAzczMzMy8YEDNzMzMzCxhQHE9CtejGGFAO3DOiNIcYUAAAAAAAABhQOxRuB6F62BApHA9CtfjYEBcj8L1KOxgQIXrUbgepWBAexSuR+FaYEB/+zpwzjZgQDMzMzMzO2BAcj0K16OAX0BmZmZmZnZfQBOuR+F6VF9AAAAAAABAXkDNzMzMzExeQMP1KFyP8l9AvAUSFD9KX0ClcD0K14NeQK1H4XoUDl5AKFyPwvVYXkCamZmZmRldQIXrUbgeRV5ArkfhehT+XUDNzMzMzHxeQDMzMzMzQ15AAAAAAAAAX0AUrkfhemRfQDMzMzMzM19AMzMzMzMjXkBJ4XoUrvddQEfhehSu115Aw/UoXI+iXkAVrkfhegReQGZmZmZmJl5APQrXo3BNXkC3HoXrUVheQB+F61G4/l1AZ0Rpb/CFXkABAAAAAMBeQEvIBz2beV9AIIXrUbiOX0AK16NwPfpfQKRwPQrXS2BAAAAAAACgYEBxPQrXo2hgQIXrUbgezWBAFK5H4XqEYEBI4XoUrs9gQM3MzMzMxGBAtvP91HjdYECkcD0K16NgQEjhehSur2BArkfhehR+YEBSuB6F68lgQI/C9Shc12BAFK5H4XrMYECCc0aU9rhgQI/C9Shcr2BAKVyPwvVwYEB5WKg1zZFgQD4K16Nw/V9AhetRuB4FYECPwvUoXDdgQGZmZmZmRmBA1qNwPQq3X0BmZmZmZnZfQBSuR+F6tF5ADr4wmSo8X0AqXI/C9dhfQHE9CtejkF9AZmZmZmY2X0Bcj8L1KCxfQKNwPQrX019A7VG4HoVbX0BmZmZmZsZfQOxRuB6Fu19AZWZmZma2X0DNzMzMzFxfQEnhehSuJ19AMjMzMzMTX0D2KFyPwkVfQOtRuB6F415AuB6F61F4X0AJ16NwPXpfQI/C9Shcr19AC9ejcD3KX0DXo3A9CodfQPo6cM6I1l9ASOF6FK5PYEBI4XoUrjdgQBSuR+F6RGBAKVyPwvV4YEDNzMzMzExgQOF6FK5HiWBA16NwPQq/YEBmZmZmZrZgQM3MzMzMrGBA7FG4HoWjYEAAAAAAANhgQA==\",\"dtype\":\"float64\",\"shape\":[107]}},\"selected\":{\"id\":\"1812\"},\"selection_policy\":{\"id\":\"1864\"}},\"id\":\"1811\",\"type\":\"ColumnDataSource\"},{\"attributes\":{\"overlay\":{\"id\":\"1799\"}},\"id\":\"1797\",\"type\":\"BoxZoomTool\"},{\"attributes\":{},\"id\":\"1798\",\"type\":\"ResetTool\"},{\"attributes\":{\"active_drag\":\"auto\",\"active_inspect\":\"auto\",\"active_multi\":null,\"active_scroll\":\"auto\",\"active_tap\":\"auto\",\"tools\":[{\"id\":\"1775\"},{\"id\":\"1794\"},{\"id\":\"1795\"},{\"id\":\"1796\"},{\"id\":\"1797\"},{\"id\":\"1798\"}]},\"id\":\"1800\",\"type\":\"Toolbar\"},{\"attributes\":{\"axis_label\":\"Price\",\"bounds\":\"auto\",\"formatter\":{\"id\":\"1810\"},\"major_label_orientation\":\"horizontal\",\"ticker\":{\"id\":\"1791\"}},\"id\":\"1790\",\"type\":\"LinearAxis\"},{\"attributes\":{},\"id\":\"1808\",\"type\":\"DatetimeTickFormatter\"},{\"attributes\":{},\"id\":\"1887\",\"type\":\"UnionRenderers\"}],\"root_ids\":[\"1771\"]},\"title\":\"Bokeh Application\",\"version\":\"2.0.2\"}};\n  var render_items = [{\"docid\":\"2a097767-563e-4f98-a3e1-e8e989e78b67\",\"root_ids\":[\"1771\"],\"roots\":{\"1771\":\"d22b76ec-db2f-415c-8215-37904fccdedd\"}}];\n  root.Bokeh.embed.embed_items_notebook(docs_json, render_items);\n  }\nif (root.Bokeh !== undefined) {\n    embed_document(root);\n  } else {\n    var attempts = 0;\n    var timer = setInterval(function(root) {\n      if (root.Bokeh !== undefined) {\n        clearInterval(timer);\n        embed_document(root);\n      } else if (document.readyState == \"complete\") {\n        attempts++;\n        if (attempts > 100) {\n          clearInterval(timer);\n          console.log(\"Bokeh: ERROR: Unable to run BokehJS code because BokehJS library is missing\");\n        }\n      }\n    }, 10, root)\n  }\n})(window);</script>",
      "application/vnd.holoviews_exec.v0+json": "",
      "text/plain": [
       ":NdOverlay   [Variable]\n",
       "   :Curve   [index]   (value)"
      ]
     },
     "metadata": {
      "application/vnd.holoviews_exec.v0+json": {
       "id": "1771"
      }
     },
     "execution_count": 72
    }
   ],
   "source": [
    "stocks.hvplot.line(label = \"Predicting Apple's Close with the S&P500 Close - (6Day Window)\", xlabel=\"Date\", ylabel=\"Price\")"
   ]
  },
  {
   "cell_type": "code",
   "execution_count": null,
   "metadata": {},
   "outputs": [],
   "source": []
  }
 ]
}