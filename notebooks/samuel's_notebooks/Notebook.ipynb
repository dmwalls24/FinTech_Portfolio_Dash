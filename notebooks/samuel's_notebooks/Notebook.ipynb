{
 "cells": [
  {
   "cell_type": "code",
   "execution_count": 17,
   "metadata": {},
   "outputs": [],
   "source": [
    "import os\n",
    "import numpy as np\n",
    "import pandas as pd\n",
    "from pathlib import Path\n",
    "from dotenv import load_dotenv\n",
    "import alpaca_trade_api as tradeapi\n",
    "from newsapi import NewsApiClient\n",
    "from datetime import datetime, timedelta\n",
    "import numpy as np\n",
    "from numpy.random import seed\n",
    "seed(1)\n",
    "import requests\n",
    "from tensorflow import random\n",
    "random.set_seed(2)\n",
    "import hvplot.pandas\n",
    "%matplotlib inline"
   ]
  },
  {
   "cell_type": "code",
   "execution_count": 18,
   "metadata": {},
   "outputs": [
    {
     "data": {
      "text/plain": "True"
     },
     "execution_count": 18,
     "metadata": {},
     "output_type": "execute_result"
    }
   ],
   "source": [
    "load_dotenv()"
   ]
  },
  {
   "cell_type": "code",
   "execution_count": 19,
   "metadata": {},
   "outputs": [],
   "source": [
    "alpaca_api_key = os.getenv(\"ALPACA_API_KEY\")\n",
    "alpaca_secret_key = os.getenv(\"ALPACA_SECRET_KEY\")\n",
    "alpaca = tradeapi.REST(\n",
    "    alpaca_api_key,\n",
    "    alpaca_secret_key,\n",
    "    api_version=\"v2\")\n",
    "#print(alpaca_api_key)"
   ]
  },
  {
   "cell_type": "code",
   "execution_count": 20,
   "metadata": {},
   "outputs": [
    {
     "data": {
      "text/html": "<div>\n<style scoped>\n    .dataframe tbody tr th:only-of-type {\n        vertical-align: middle;\n    }\n\n    .dataframe tbody tr th {\n        vertical-align: top;\n    }\n\n    .dataframe thead tr th {\n        text-align: left;\n    }\n\n    .dataframe thead tr:last-of-type th {\n        text-align: right;\n    }\n</style>\n<table border=\"1\" class=\"dataframe\">\n  <thead>\n    <tr>\n      <th></th>\n      <th colspan=\"5\" halign=\"left\">AFRM</th>\n      <th colspan=\"5\" halign=\"left\">MELI</th>\n      <th colspan=\"5\" halign=\"left\">PYPL</th>\n      <th colspan=\"5\" halign=\"left\">SQ</th>\n    </tr>\n    <tr>\n      <th></th>\n      <th>open</th>\n      <th>high</th>\n      <th>low</th>\n      <th>close</th>\n      <th>volume</th>\n      <th>open</th>\n      <th>high</th>\n      <th>low</th>\n      <th>close</th>\n      <th>volume</th>\n      <th>open</th>\n      <th>high</th>\n      <th>low</th>\n      <th>close</th>\n      <th>volume</th>\n      <th>open</th>\n      <th>high</th>\n      <th>low</th>\n      <th>close</th>\n      <th>volume</th>\n    </tr>\n    <tr>\n      <th>time</th>\n      <th></th>\n      <th></th>\n      <th></th>\n      <th></th>\n      <th></th>\n      <th></th>\n      <th></th>\n      <th></th>\n      <th></th>\n      <th></th>\n      <th></th>\n      <th></th>\n      <th></th>\n      <th></th>\n      <th></th>\n      <th></th>\n      <th></th>\n      <th></th>\n      <th></th>\n      <th></th>\n    </tr>\n  </thead>\n  <tbody>\n    <tr>\n      <th>2021-01-13 00:00:00-05:00</th>\n      <td>90.900</td>\n      <td>103.000</td>\n      <td>90.01</td>\n      <td>97.010</td>\n      <td>24984325.0</td>\n      <td>1823.00</td>\n      <td>1830.0000</td>\n      <td>1766.685</td>\n      <td>1797.165</td>\n      <td>453625.0</td>\n      <td>236.57</td>\n      <td>247.4400</td>\n      <td>236.5400</td>\n      <td>244.90</td>\n      <td>6419870.0</td>\n      <td>228.95</td>\n      <td>234.8213</td>\n      <td>226.80</td>\n      <td>230.94</td>\n      <td>14553101.0</td>\n    </tr>\n    <tr>\n      <th>2021-01-14 00:00:00-05:00</th>\n      <td>103.500</td>\n      <td>137.980</td>\n      <td>101.00</td>\n      <td>114.400</td>\n      <td>20358777.0</td>\n      <td>1814.00</td>\n      <td>1889.6200</td>\n      <td>1814.000</td>\n      <td>1852.520</td>\n      <td>491020.0</td>\n      <td>246.87</td>\n      <td>249.8500</td>\n      <td>241.5400</td>\n      <td>242.01</td>\n      <td>5757075.0</td>\n      <td>233.90</td>\n      <td>238.7600</td>\n      <td>229.59</td>\n      <td>232.71</td>\n      <td>6502923.0</td>\n    </tr>\n    <tr>\n      <th>2021-01-15 00:00:00-05:00</th>\n      <td>123.054</td>\n      <td>127.240</td>\n      <td>107.00</td>\n      <td>116.700</td>\n      <td>8033257.0</td>\n      <td>1860.01</td>\n      <td>1877.1091</td>\n      <td>1805.460</td>\n      <td>1856.340</td>\n      <td>478130.0</td>\n      <td>242.25</td>\n      <td>244.5632</td>\n      <td>235.0341</td>\n      <td>239.79</td>\n      <td>6600442.0</td>\n      <td>233.63</td>\n      <td>236.4300</td>\n      <td>225.58</td>\n      <td>227.65</td>\n      <td>6344926.0</td>\n    </tr>\n    <tr>\n      <th>2021-01-19 00:00:00-05:00</th>\n      <td>117.000</td>\n      <td>117.675</td>\n      <td>108.00</td>\n      <td>110.875</td>\n      <td>3116358.0</td>\n      <td>1888.17</td>\n      <td>1938.1699</td>\n      <td>1861.000</td>\n      <td>1915.700</td>\n      <td>590186.0</td>\n      <td>243.30</td>\n      <td>248.7400</td>\n      <td>241.0000</td>\n      <td>247.24</td>\n      <td>5690793.0</td>\n      <td>231.07</td>\n      <td>231.5900</td>\n      <td>223.25</td>\n      <td>227.25</td>\n      <td>6347656.0</td>\n    </tr>\n    <tr>\n      <th>2021-01-20 00:00:00-05:00</th>\n      <td>110.000</td>\n      <td>112.000</td>\n      <td>103.25</td>\n      <td>107.150</td>\n      <td>3504314.0</td>\n      <td>1960.00</td>\n      <td>1991.8800</td>\n      <td>1929.520</td>\n      <td>1986.000</td>\n      <td>574762.0</td>\n      <td>248.85</td>\n      <td>249.6500</td>\n      <td>244.1400</td>\n      <td>244.19</td>\n      <td>5068278.0</td>\n      <td>230.12</td>\n      <td>230.8800</td>\n      <td>225.50</td>\n      <td>226.65</td>\n      <td>5379761.0</td>\n    </tr>\n  </tbody>\n</table>\n</div>",
      "text/plain": "                              AFRM                                        \\\n                              open     high     low    close      volume   \ntime                                                                       \n2021-01-13 00:00:00-05:00   90.900  103.000   90.01   97.010  24984325.0   \n2021-01-14 00:00:00-05:00  103.500  137.980  101.00  114.400  20358777.0   \n2021-01-15 00:00:00-05:00  123.054  127.240  107.00  116.700   8033257.0   \n2021-01-19 00:00:00-05:00  117.000  117.675  108.00  110.875   3116358.0   \n2021-01-20 00:00:00-05:00  110.000  112.000  103.25  107.150   3504314.0   \n\n                              MELI                                           \\\n                              open       high       low     close    volume   \ntime                                                                          \n2021-01-13 00:00:00-05:00  1823.00  1830.0000  1766.685  1797.165  453625.0   \n2021-01-14 00:00:00-05:00  1814.00  1889.6200  1814.000  1852.520  491020.0   \n2021-01-15 00:00:00-05:00  1860.01  1877.1091  1805.460  1856.340  478130.0   \n2021-01-19 00:00:00-05:00  1888.17  1938.1699  1861.000  1915.700  590186.0   \n2021-01-20 00:00:00-05:00  1960.00  1991.8800  1929.520  1986.000  574762.0   \n\n                             PYPL                                         \\\n                             open      high       low   close     volume   \ntime                                                                       \n2021-01-13 00:00:00-05:00  236.57  247.4400  236.5400  244.90  6419870.0   \n2021-01-14 00:00:00-05:00  246.87  249.8500  241.5400  242.01  5757075.0   \n2021-01-15 00:00:00-05:00  242.25  244.5632  235.0341  239.79  6600442.0   \n2021-01-19 00:00:00-05:00  243.30  248.7400  241.0000  247.24  5690793.0   \n2021-01-20 00:00:00-05:00  248.85  249.6500  244.1400  244.19  5068278.0   \n\n                               SQ                                        \n                             open      high     low   close      volume  \ntime                                                                     \n2021-01-13 00:00:00-05:00  228.95  234.8213  226.80  230.94  14553101.0  \n2021-01-14 00:00:00-05:00  233.90  238.7600  229.59  232.71   6502923.0  \n2021-01-15 00:00:00-05:00  233.63  236.4300  225.58  227.65   6344926.0  \n2021-01-19 00:00:00-05:00  231.07  231.5900  223.25  227.25   6347656.0  \n2021-01-20 00:00:00-05:00  230.12  230.8800  225.50  226.65   5379761.0  "
     },
     "execution_count": 20,
     "metadata": {},
     "output_type": "execute_result"
    }
   ],
   "source": [
    "#15Min interval\n",
    "timeframe = \"1D\"\n",
    "start_date = pd.Timestamp(\"2017-01-01\", tz=\"America/New_York\").isoformat()\n",
    "end_date = pd.Timestamp(\"2021-12-31\", tz=\"America/New_York\").isoformat()\n",
    "#today = pd.Timestamp(\"2021-01-02\", tz=\"America/New_York\").isoformat()\n",
    "ticker = [\"PYPL\", \"SQ\", \"AFRM\", \"MELI\"]\n",
    "fintech_ticker = alpaca.get_barset(\n",
    "    ticker,\n",
    "    timeframe,\n",
    "    start=start_date,\n",
    "    end=end_date,\n",
    "    limit=1000,\n",
    ").df\n",
    "fintech_ticker.dropna(inplace=True)\n",
    "fintech_ticker.head(5)\n",
    "#apple_ticker.dropna(inplace=True)"
   ]
  },
  {
   "cell_type": "code",
   "execution_count": 21,
   "metadata": {},
   "outputs": [
    {
     "data": {
      "text/html": "<div>\n<style scoped>\n    .dataframe tbody tr th:only-of-type {\n        vertical-align: middle;\n    }\n\n    .dataframe tbody tr th {\n        vertical-align: top;\n    }\n\n    .dataframe thead tr th {\n        text-align: left;\n    }\n\n    .dataframe thead tr:last-of-type th {\n        text-align: right;\n    }\n</style>\n<table border=\"1\" class=\"dataframe\">\n  <thead>\n    <tr>\n      <th></th>\n      <th colspan=\"5\" halign=\"left\">BTC</th>\n      <th colspan=\"5\" halign=\"left\">ETH</th>\n      <th colspan=\"5\" halign=\"left\">LINK</th>\n    </tr>\n    <tr>\n      <th></th>\n      <th>open</th>\n      <th>high</th>\n      <th>low</th>\n      <th>close</th>\n      <th>volume</th>\n      <th>open</th>\n      <th>high</th>\n      <th>low</th>\n      <th>close</th>\n      <th>volume</th>\n      <th>open</th>\n      <th>high</th>\n      <th>low</th>\n      <th>close</th>\n      <th>volume</th>\n    </tr>\n    <tr>\n      <th>time</th>\n      <th></th>\n      <th></th>\n      <th></th>\n      <th></th>\n      <th></th>\n      <th></th>\n      <th></th>\n      <th></th>\n      <th></th>\n      <th></th>\n      <th></th>\n      <th></th>\n      <th></th>\n      <th></th>\n      <th></th>\n    </tr>\n  </thead>\n  <tbody>\n    <tr>\n      <th>2021-04-16 00:00:00-04:00</th>\n      <td>100.890</td>\n      <td>100.89</td>\n      <td>98.7700</td>\n      <td>99.2700</td>\n      <td>2795.0</td>\n      <td>28.49</td>\n      <td>29.43</td>\n      <td>28.49</td>\n      <td>29.15</td>\n      <td>475970.0</td>\n      <td>12.29</td>\n      <td>12.6150</td>\n      <td>12.2501</td>\n      <td>12.3600</td>\n      <td>4848.0</td>\n    </tr>\n    <tr>\n      <th>2021-04-19 00:00:00-04:00</th>\n      <td>99.120</td>\n      <td>99.13</td>\n      <td>98.9850</td>\n      <td>99.1012</td>\n      <td>3761.0</td>\n      <td>29.18</td>\n      <td>29.40</td>\n      <td>28.62</td>\n      <td>28.85</td>\n      <td>266218.0</td>\n      <td>12.50</td>\n      <td>12.5500</td>\n      <td>12.3767</td>\n      <td>12.5500</td>\n      <td>4899.0</td>\n    </tr>\n    <tr>\n      <th>2021-04-20 00:00:00-04:00</th>\n      <td>98.790</td>\n      <td>99.30</td>\n      <td>98.7900</td>\n      <td>98.8800</td>\n      <td>3259.0</td>\n      <td>28.95</td>\n      <td>29.17</td>\n      <td>28.02</td>\n      <td>28.28</td>\n      <td>267794.0</td>\n      <td>12.96</td>\n      <td>12.9600</td>\n      <td>12.4001</td>\n      <td>12.6748</td>\n      <td>4419.0</td>\n    </tr>\n    <tr>\n      <th>2021-04-21 00:00:00-04:00</th>\n      <td>99.010</td>\n      <td>99.01</td>\n      <td>98.9000</td>\n      <td>98.9000</td>\n      <td>386.0</td>\n      <td>28.24</td>\n      <td>28.95</td>\n      <td>28.23</td>\n      <td>28.75</td>\n      <td>318757.0</td>\n      <td>12.62</td>\n      <td>12.9699</td>\n      <td>12.5865</td>\n      <td>12.8943</td>\n      <td>12588.0</td>\n    </tr>\n    <tr>\n      <th>2021-04-22 00:00:00-04:00</th>\n      <td>98.925</td>\n      <td>99.04</td>\n      <td>98.8600</td>\n      <td>98.9100</td>\n      <td>1153.0</td>\n      <td>28.77</td>\n      <td>29.06</td>\n      <td>28.53</td>\n      <td>28.60</td>\n      <td>322921.0</td>\n      <td>12.79</td>\n      <td>13.0000</td>\n      <td>12.6500</td>\n      <td>12.9699</td>\n      <td>4226.0</td>\n    </tr>\n    <tr>\n      <th>2021-04-23 00:00:00-04:00</th>\n      <td>99.010</td>\n      <td>99.01</td>\n      <td>98.8801</td>\n      <td>98.9910</td>\n      <td>1425.0</td>\n      <td>28.83</td>\n      <td>29.24</td>\n      <td>28.54</td>\n      <td>28.81</td>\n      <td>335659.0</td>\n      <td>13.19</td>\n      <td>13.4080</td>\n      <td>12.6500</td>\n      <td>13.2315</td>\n      <td>3116.0</td>\n    </tr>\n    <tr>\n      <th>2021-04-26 00:00:00-04:00</th>\n      <td>99.000</td>\n      <td>99.00</td>\n      <td>98.9082</td>\n      <td>98.9100</td>\n      <td>1942.0</td>\n      <td>28.91</td>\n      <td>29.74</td>\n      <td>28.43</td>\n      <td>28.77</td>\n      <td>372335.0</td>\n      <td>13.49</td>\n      <td>13.6000</td>\n      <td>13.2263</td>\n      <td>13.6000</td>\n      <td>15221.0</td>\n    </tr>\n    <tr>\n      <th>2021-04-27 00:00:00-04:00</th>\n      <td>98.950</td>\n      <td>98.95</td>\n      <td>98.8200</td>\n      <td>98.8565</td>\n      <td>1022.0</td>\n      <td>28.76</td>\n      <td>29.12</td>\n      <td>28.67</td>\n      <td>28.93</td>\n      <td>319516.0</td>\n      <td>13.60</td>\n      <td>13.6000</td>\n      <td>13.0000</td>\n      <td>13.0000</td>\n      <td>5032.0</td>\n    </tr>\n    <tr>\n      <th>2021-04-28 00:00:00-04:00</th>\n      <td>98.880</td>\n      <td>98.88</td>\n      <td>98.7600</td>\n      <td>98.8300</td>\n      <td>543.0</td>\n      <td>29.68</td>\n      <td>31.62</td>\n      <td>29.39</td>\n      <td>31.49</td>\n      <td>892692.0</td>\n      <td>12.75</td>\n      <td>12.7500</td>\n      <td>12.3300</td>\n      <td>12.3300</td>\n      <td>2810.0</td>\n    </tr>\n    <tr>\n      <th>2021-04-29 00:00:00-04:00</th>\n      <td>98.810</td>\n      <td>98.90</td>\n      <td>98.8000</td>\n      <td>98.9000</td>\n      <td>1499.0</td>\n      <td>31.52</td>\n      <td>31.90</td>\n      <td>30.70</td>\n      <td>30.96</td>\n      <td>337523.0</td>\n      <td>12.34</td>\n      <td>12.9899</td>\n      <td>12.1696</td>\n      <td>12.7400</td>\n      <td>2573.0</td>\n    </tr>\n  </tbody>\n</table>\n</div>",
      "text/plain": "                               BTC                                      ETH  \\\n                              open    high      low    close  volume   open   \ntime                                                                          \n2021-04-16 00:00:00-04:00  100.890  100.89  98.7700  99.2700  2795.0  28.49   \n2021-04-19 00:00:00-04:00   99.120   99.13  98.9850  99.1012  3761.0  29.18   \n2021-04-20 00:00:00-04:00   98.790   99.30  98.7900  98.8800  3259.0  28.95   \n2021-04-21 00:00:00-04:00   99.010   99.01  98.9000  98.9000   386.0  28.24   \n2021-04-22 00:00:00-04:00   98.925   99.04  98.8600  98.9100  1153.0  28.77   \n2021-04-23 00:00:00-04:00   99.010   99.01  98.8801  98.9910  1425.0  28.83   \n2021-04-26 00:00:00-04:00   99.000   99.00  98.9082  98.9100  1942.0  28.91   \n2021-04-27 00:00:00-04:00   98.950   98.95  98.8200  98.8565  1022.0  28.76   \n2021-04-28 00:00:00-04:00   98.880   98.88  98.7600  98.8300   543.0  29.68   \n2021-04-29 00:00:00-04:00   98.810   98.90  98.8000  98.9000  1499.0  31.52   \n\n                                                           LINK           \\\n                            high    low  close    volume   open     high   \ntime                                                                       \n2021-04-16 00:00:00-04:00  29.43  28.49  29.15  475970.0  12.29  12.6150   \n2021-04-19 00:00:00-04:00  29.40  28.62  28.85  266218.0  12.50  12.5500   \n2021-04-20 00:00:00-04:00  29.17  28.02  28.28  267794.0  12.96  12.9600   \n2021-04-21 00:00:00-04:00  28.95  28.23  28.75  318757.0  12.62  12.9699   \n2021-04-22 00:00:00-04:00  29.06  28.53  28.60  322921.0  12.79  13.0000   \n2021-04-23 00:00:00-04:00  29.24  28.54  28.81  335659.0  13.19  13.4080   \n2021-04-26 00:00:00-04:00  29.74  28.43  28.77  372335.0  13.49  13.6000   \n2021-04-27 00:00:00-04:00  29.12  28.67  28.93  319516.0  13.60  13.6000   \n2021-04-28 00:00:00-04:00  31.62  29.39  31.49  892692.0  12.75  12.7500   \n2021-04-29 00:00:00-04:00  31.90  30.70  30.96  337523.0  12.34  12.9899   \n\n                                                      \n                               low    close   volume  \ntime                                                  \n2021-04-16 00:00:00-04:00  12.2501  12.3600   4848.0  \n2021-04-19 00:00:00-04:00  12.3767  12.5500   4899.0  \n2021-04-20 00:00:00-04:00  12.4001  12.6748   4419.0  \n2021-04-21 00:00:00-04:00  12.5865  12.8943  12588.0  \n2021-04-22 00:00:00-04:00  12.6500  12.9699   4226.0  \n2021-04-23 00:00:00-04:00  12.6500  13.2315   3116.0  \n2021-04-26 00:00:00-04:00  13.2263  13.6000  15221.0  \n2021-04-27 00:00:00-04:00  13.0000  13.0000   5032.0  \n2021-04-28 00:00:00-04:00  12.3300  12.3300   2810.0  \n2021-04-29 00:00:00-04:00  12.1696  12.7400   2573.0  "
     },
     "execution_count": 21,
     "metadata": {},
     "output_type": "execute_result"
    }
   ],
   "source": [
    "#15Min interval\n",
    "timeframe = \"1D\"\n",
    "start_date = pd.Timestamp(\"2017-01-01\", tz=\"America/New_York\").isoformat()\n",
    "end_date = pd.Timestamp(\"2021-12-31\", tz=\"America/New_York\").isoformat()\n",
    "#today = pd.Timestamp(\"2021-01-02\", tz=\"America/New_York\").isoformat()\n",
    "ticker = [\"ETH\", \"BTC\", \"LINK\"]\n",
    "crypto_ticker = alpaca.get_barset(\n",
    "    ticker,\n",
    "    timeframe,\n",
    "    start=start_date,\n",
    "    end=end_date,\n",
    "    limit=1000,\n",
    ").df\n",
    "crypto_ticker.dropna(inplace=True)\n",
    "crypto_ticker.head(10)\n",
    "#apple_ticker.dropna(inplace=True)"
   ]
  },
  {
   "cell_type": "code",
   "execution_count": 22,
   "metadata": {},
   "outputs": [
    {
     "data": {
      "text/html": "<div>\n<style scoped>\n    .dataframe tbody tr th:only-of-type {\n        vertical-align: middle;\n    }\n\n    .dataframe tbody tr th {\n        vertical-align: top;\n    }\n\n    .dataframe thead th {\n        text-align: right;\n    }\n</style>\n<table border=\"1\" class=\"dataframe\">\n  <thead>\n    <tr style=\"text-align: right;\">\n      <th></th>\n      <th>PayPal</th>\n      <th>Square</th>\n      <th>Affirm</th>\n      <th>Mercalibre</th>\n    </tr>\n  </thead>\n  <tbody>\n    <tr>\n      <th>2021-01-13</th>\n      <td>244.90</td>\n      <td>230.94</td>\n      <td>97.010</td>\n      <td>1797.165</td>\n    </tr>\n    <tr>\n      <th>2021-01-14</th>\n      <td>242.01</td>\n      <td>232.71</td>\n      <td>114.400</td>\n      <td>1852.520</td>\n    </tr>\n    <tr>\n      <th>2021-01-15</th>\n      <td>239.79</td>\n      <td>227.65</td>\n      <td>116.700</td>\n      <td>1856.340</td>\n    </tr>\n    <tr>\n      <th>2021-01-19</th>\n      <td>247.24</td>\n      <td>227.25</td>\n      <td>110.875</td>\n      <td>1915.700</td>\n    </tr>\n    <tr>\n      <th>2021-01-20</th>\n      <td>244.19</td>\n      <td>226.65</td>\n      <td>107.150</td>\n      <td>1986.000</td>\n    </tr>\n  </tbody>\n</table>\n</div>",
      "text/plain": "            PayPal  Square   Affirm  Mercalibre\n2021-01-13  244.90  230.94   97.010    1797.165\n2021-01-14  242.01  232.71  114.400    1852.520\n2021-01-15  239.79  227.65  116.700    1856.340\n2021-01-19  247.24  227.25  110.875    1915.700\n2021-01-20  244.19  226.65  107.150    1986.000"
     },
     "execution_count": 22,
     "metadata": {},
     "output_type": "execute_result"
    }
   ],
   "source": [
    "fintech_df = pd.DataFrame()\n",
    "fintech_df[\"PayPal\"] = fintech_ticker[\"PYPL\"][\"close\"]\n",
    "fintech_df[\"Square\"] = fintech_ticker[\"SQ\"][\"close\"]\n",
    "fintech_df[\"Affirm\"] = fintech_ticker[\"AFRM\"][\"close\"]\n",
    "fintech_df[\"Mercalibre\"] = fintech_ticker[\"MELI\"][\"close\"]\n",
    "#fintech_df[\"Johnson&Johnson\"] = nasdaq_ticker[\"JNJ\"][\"close\"]\n",
    "#apple_df = apple_df.pct_change().dropna()\n",
    "fintech_df.index = fintech_df.index.date \n",
    "fintech_df.dropna(inplace=True)\n",
    "fintech_df.head()"
   ]
  },
  {
   "cell_type": "code",
   "execution_count": null,
   "metadata": {},
   "outputs": [],
   "source": []
  },
  {
   "cell_type": "code",
   "execution_count": 23,
   "metadata": {},
   "outputs": [],
   "source": [
    "#fintech_returns = fintech_df.pct_change().dropna()\n",
    "#fintech_returns.head()"
   ]
  },
  {
   "cell_type": "code",
   "execution_count": null,
   "metadata": {},
   "outputs": [],
   "source": []
  },
  {
   "cell_type": "code",
   "execution_count": 24,
   "metadata": {},
   "outputs": [],
   "source": [
    "def window_data(df, window, feature_col_number, target_col_number):\n",
    "    X = []\n",
    "    y = []\n",
    "    for i in range(len(df) - window):\n",
    "        features = df.iloc[i : (i + window), feature_col_number]\n",
    "        target = df.iloc[(i + window), target_col_number]\n",
    "        X.append(features)\n",
    "        y.append(target)\n",
    "    return np.array(X), np.array(y).reshape(-1, 1)"
   ]
  },
  {
   "cell_type": "code",
   "execution_count": 25,
   "metadata": {},
   "outputs": [
    {
     "name": "stdout",
     "output_type": "stream",
     "text": [
      "X sample values:\n",
      "[[ 97.01  114.4   116.7   110.875 107.15  108.99  120.86  112.6   110.\n",
      "  105.29 ]\n",
      " [114.4   116.7   110.875 107.15  108.99  120.86  112.6   110.    105.29\n",
      "   99.44 ]\n",
      " [116.7   110.875 107.15  108.99  120.86  112.6   110.    105.29   99.44\n",
      "   99.59 ]\n",
      " [110.875 107.15  108.99  120.86  112.6   110.    105.29   99.44   99.59\n",
      "  107.6  ]\n",
      " [107.15  108.99  120.86  112.6   110.    105.29   99.44   99.59  107.6\n",
      "  112.95 ]] \n",
      "\n",
      "y sample values:\n",
      "[[ 99.44]\n",
      " [ 99.59]\n",
      " [107.6 ]\n",
      " [112.95]\n",
      " [110.88]]\n"
     ]
    }
   ],
   "source": [
    "window_size = 10\n",
    "feature_column = 2\n",
    "target_column = 2\n",
    "X, y = window_data(fintech_df, window_size, feature_column, target_column)\n",
    "print (f\"X sample values:\\n{X[:5]} \\n\")\n",
    "print (f\"y sample values:\\n{y[:5]}\")"
   ]
  },
  {
   "cell_type": "code",
   "execution_count": 26,
   "metadata": {},
   "outputs": [
    {
     "name": "stdout",
     "output_type": "stream",
     "text": [
      "[[ 97.01  114.4   116.7   ... 112.6   110.    105.29 ]\n",
      " [114.4   116.7   110.875 ... 110.    105.29   99.44 ]\n",
      " [116.7   110.875 107.15  ... 105.29   99.44   99.59 ]\n",
      " ...\n",
      " [ 68.18   67.12   67.205 ...  65.95   63.58   63.5  ]\n",
      " [ 67.12   67.205  65.9   ...  63.58   63.5    64.68 ]\n",
      " [ 67.205  65.9    65.56  ...  63.5    64.68   63.47 ]]\n"
     ]
    }
   ],
   "source": [
    "print(X)"
   ]
  },
  {
   "cell_type": "code",
   "execution_count": 27,
   "metadata": {},
   "outputs": [],
   "source": [
    "split = int(0.7 * len(X))\n",
    "X_train = X[: split]\n",
    "X_test = X[split :]\n",
    "y_train = y[: split]\n",
    "y_test = y[split :]"
   ]
  },
  {
   "cell_type": "code",
   "execution_count": 28,
   "metadata": {},
   "outputs": [],
   "source": [
    "from sklearn.preprocessing import MinMaxScaler\n",
    "\n",
    "scaler = MinMaxScaler()\n",
    "scaler.fit(X)\n",
    "X_train = scaler.transform(X_train)\n",
    "X_test = scaler.transform(X_test)\n",
    "scaler.fit(y)\n",
    "y_train = scaler.transform(y_train)\n",
    "y_test = scaler.transform(y_test)"
   ]
  },
  {
   "cell_type": "code",
   "execution_count": 29,
   "metadata": {},
   "outputs": [
    {
     "name": "stdout",
     "output_type": "stream",
     "text": [
      "X_train sample values:\n",
      "[[[0.5321663 ]\n",
      "  [0.72242888]\n",
      "  [0.747593  ]\n",
      "  [0.68386214]\n",
      "  [0.64310722]\n",
      "  [0.66323851]\n",
      "  [0.79310722]\n",
      "  [0.70273523]\n",
      "  [0.67428884]\n",
      "  [0.62275711]]\n",
      "\n",
      " [[0.72242888]\n",
      "  [0.747593  ]\n",
      "  [0.68386214]\n",
      "  [0.64310722]\n",
      "  [0.66323851]\n",
      "  [0.79310722]\n",
      "  [0.70273523]\n",
      "  [0.67428884]\n",
      "  [0.62275711]\n",
      "  [0.55875274]]\n",
      "\n",
      " [[0.747593  ]\n",
      "  [0.68386214]\n",
      "  [0.64310722]\n",
      "  [0.66323851]\n",
      "  [0.79310722]\n",
      "  [0.70273523]\n",
      "  [0.67428884]\n",
      "  [0.62275711]\n",
      "  [0.55875274]\n",
      "  [0.56039387]]\n",
      "\n",
      " [[0.68386214]\n",
      "  [0.64310722]\n",
      "  [0.66323851]\n",
      "  [0.79310722]\n",
      "  [0.70273523]\n",
      "  [0.67428884]\n",
      "  [0.62275711]\n",
      "  [0.55875274]\n",
      "  [0.56039387]\n",
      "  [0.64803063]]\n",
      "\n",
      " [[0.64310722]\n",
      "  [0.66323851]\n",
      "  [0.79310722]\n",
      "  [0.70273523]\n",
      "  [0.67428884]\n",
      "  [0.62275711]\n",
      "  [0.55875274]\n",
      "  [0.56039387]\n",
      "  [0.64803063]\n",
      "  [0.70656455]]] \n",
      "\n",
      "X_test sample values:\n",
      "[[[0.15459519]\n",
      "  [0.13034902]\n",
      "  [0.1663151 ]\n",
      "  [0.21455142]\n",
      "  [0.22571116]\n",
      "  [0.20667396]\n",
      "  [0.2083151 ]\n",
      "  [0.22954048]\n",
      "  [0.21673961]\n",
      "  [0.16859956]]\n",
      "\n",
      " [[0.13034902]\n",
      "  [0.1663151 ]\n",
      "  [0.21455142]\n",
      "  [0.22571116]\n",
      "  [0.20667396]\n",
      "  [0.2083151 ]\n",
      "  [0.22954048]\n",
      "  [0.21673961]\n",
      "  [0.16859956]\n",
      "  [0.16487965]]\n",
      "\n",
      " [[0.1663151 ]\n",
      "  [0.21455142]\n",
      "  [0.22571116]\n",
      "  [0.20667396]\n",
      "  [0.2083151 ]\n",
      "  [0.22954048]\n",
      "  [0.21673961]\n",
      "  [0.16859956]\n",
      "  [0.16487965]\n",
      "  [0.18369803]]\n",
      "\n",
      " [[0.21455142]\n",
      "  [0.22571116]\n",
      "  [0.20667396]\n",
      "  [0.2083151 ]\n",
      "  [0.22954048]\n",
      "  [0.21673961]\n",
      "  [0.16859956]\n",
      "  [0.16487965]\n",
      "  [0.18369803]\n",
      "  [0.19573304]]\n",
      "\n",
      " [[0.22571116]\n",
      "  [0.20667396]\n",
      "  [0.2083151 ]\n",
      "  [0.22954048]\n",
      "  [0.21673961]\n",
      "  [0.16859956]\n",
      "  [0.16487965]\n",
      "  [0.18369803]\n",
      "  [0.19573304]\n",
      "  [0.17374179]]]\n"
     ]
    }
   ],
   "source": [
    "X_train = X_train.reshape((X_train.shape[0], X_train.shape[1], 1))\n",
    "X_test = X_test.reshape((X_test.shape[0], X_test.shape[1], 1))\n",
    "print (f\"X_train sample values:\\n{X_train[:5]} \\n\")\n",
    "print (f\"X_test sample values:\\n{X_test[:5]}\")"
   ]
  },
  {
   "cell_type": "code",
   "execution_count": 30,
   "metadata": {},
   "outputs": [],
   "source": [
    "from tensorflow.keras.models import Sequential\n",
    "from tensorflow.keras.layers import LSTM, Dense, Dropout"
   ]
  },
  {
   "cell_type": "code",
   "execution_count": 31,
   "metadata": {},
   "outputs": [],
   "source": [
    "model = Sequential()\n",
    "\n",
    "#Adding number_units to the architecture enables the model to far more accurate that with a single digit number\n",
    "number_units = 20\n",
    "dropout_fraction = 0.2\n",
    "\n",
    "\n",
    "# Layer 1\n",
    "model.add(LSTM(units=number_units, return_sequences=True, input_shape=(X_train.shape[1], 1)))\n",
    "model.add(Dropout(dropout_fraction))\n",
    "# Layer 2\n",
    "model.add(LSTM(units=number_units, return_sequences=True))\n",
    "model.add(Dropout(dropout_fraction))\n",
    "# Layer 3\n",
    "model.add(LSTM(units=number_units))\n",
    "model.add(Dropout(dropout_fraction))\n",
    "# Output layer\n",
    "model.add(Dense(1))"
   ]
  },
  {
   "cell_type": "code",
   "execution_count": 32,
   "metadata": {},
   "outputs": [],
   "source": [
    "model.compile(optimizer=\"adam\", loss=\"mean_squared_error\")"
   ]
  },
  {
   "cell_type": "code",
   "execution_count": 33,
   "metadata": {},
   "outputs": [
    {
     "name": "stdout",
     "output_type": "stream",
     "text": [
      "Model: \"sequential\"\n",
      "_________________________________________________________________\n",
      "Layer (type)                 Output Shape              Param #   \n",
      "=================================================================\n",
      "lstm (LSTM)                  (None, 10, 20)            1760      \n",
      "_________________________________________________________________\n",
      "dropout (Dropout)            (None, 10, 20)            0         \n",
      "_________________________________________________________________\n",
      "lstm_1 (LSTM)                (None, 10, 20)            3280      \n",
      "_________________________________________________________________\n",
      "dropout_1 (Dropout)          (None, 10, 20)            0         \n",
      "_________________________________________________________________\n",
      "lstm_2 (LSTM)                (None, 20)                3280      \n",
      "_________________________________________________________________\n",
      "dropout_2 (Dropout)          (None, 20)                0         \n",
      "_________________________________________________________________\n",
      "dense (Dense)                (None, 1)                 21        \n",
      "=================================================================\n",
      "Total params: 8,341\n",
      "Trainable params: 8,341\n",
      "Non-trainable params: 0\n",
      "_________________________________________________________________\n"
     ]
    }
   ],
   "source": [
    "model.summary()"
   ]
  },
  {
   "cell_type": "code",
   "execution_count": 34,
   "metadata": {},
   "outputs": [
    {
     "name": "stdout",
     "output_type": "stream",
     "text": [
      "Epoch 1/20\n",
      "100/100 [==============================] - 4s 5ms/step - loss: 0.0722\n",
      "Epoch 2/20\n",
      "100/100 [==============================] - 0s 5ms/step - loss: 0.0346\n",
      "Epoch 3/20\n",
      "100/100 [==============================] - 1s 6ms/step - loss: 0.0395\n",
      "Epoch 4/20\n",
      "100/100 [==============================] - 1s 6ms/step - loss: 0.0299\n",
      "Epoch 5/20\n",
      "100/100 [==============================] - 1s 6ms/step - loss: 0.0299\n",
      "Epoch 6/20\n",
      "100/100 [==============================] - 1s 5ms/step - loss: 0.0339\n",
      "Epoch 7/20\n",
      "100/100 [==============================] - 0s 5ms/step - loss: 0.0327\n",
      "Epoch 8/20\n",
      "100/100 [==============================] - 0s 5ms/step - loss: 0.0301\n",
      "Epoch 9/20\n",
      "100/100 [==============================] - 1s 6ms/step - loss: 0.0241\n",
      "Epoch 10/20\n",
      "100/100 [==============================] - 1s 6ms/step - loss: 0.0272\n",
      "Epoch 11/20\n",
      "100/100 [==============================] - 1s 6ms/step - loss: 0.0280\n",
      "Epoch 12/20\n",
      "100/100 [==============================] - 1s 6ms/step - loss: 0.0272\n",
      "Epoch 13/20\n",
      "100/100 [==============================] - 1s 6ms/step - loss: 0.0245\n",
      "Epoch 14/20\n",
      "100/100 [==============================] - 1s 7ms/step - loss: 0.0244\n",
      "Epoch 15/20\n",
      "100/100 [==============================] - 1s 6ms/step - loss: 0.0231\n",
      "Epoch 16/20\n",
      "100/100 [==============================] - 1s 6ms/step - loss: 0.0224\n",
      "Epoch 17/20\n",
      "100/100 [==============================] - 1s 7ms/step - loss: 0.0228\n",
      "Epoch 18/20\n",
      "100/100 [==============================] - 1s 7ms/step - loss: 0.0211\n",
      "Epoch 19/20\n",
      "100/100 [==============================] - 1s 6ms/step - loss: 0.0187\n",
      "Epoch 20/20\n",
      "100/100 [==============================] - 1s 8ms/step - loss: 0.0192\n"
     ]
    },
    {
     "data": {
      "text/plain": "<tensorflow.python.keras.callbacks.History at 0x7ffe7e4ebac0>"
     },
     "execution_count": 34,
     "metadata": {},
     "output_type": "execute_result"
    }
   ],
   "source": [
    "model.fit(X_train, y_train, epochs=20, shuffle=False, batch_size=1, verbose=1)"
   ]
  },
  {
   "cell_type": "code",
   "execution_count": 35,
   "metadata": {},
   "outputs": [
    {
     "name": "stdout",
     "output_type": "stream",
     "text": [
      "2/2 [==============================] - 1s 4ms/step - loss: 0.0015\n"
     ]
    },
    {
     "data": {
      "text/plain": "0.0014612189261242747"
     },
     "execution_count": 35,
     "metadata": {},
     "output_type": "execute_result"
    }
   ],
   "source": [
    "model.evaluate(X_test, y_test)"
   ]
  },
  {
   "cell_type": "code",
   "execution_count": 36,
   "metadata": {},
   "outputs": [],
   "source": [
    "predicted = model.predict(X_test)"
   ]
  },
  {
   "cell_type": "code",
   "execution_count": 37,
   "metadata": {},
   "outputs": [],
   "source": [
    "predicted_prices = scaler.inverse_transform(predicted)\n",
    "real_prices = scaler.inverse_transform(y_test.reshape(-1, 1))"
   ]
  },
  {
   "cell_type": "code",
   "execution_count": 38,
   "metadata": {},
   "outputs": [
    {
     "data": {
      "text/html": "<div>\n<style scoped>\n    .dataframe tbody tr th:only-of-type {\n        vertical-align: middle;\n    }\n\n    .dataframe tbody tr th {\n        vertical-align: top;\n    }\n\n    .dataframe thead th {\n        text-align: right;\n    }\n</style>\n<table border=\"1\" class=\"dataframe\">\n  <thead>\n    <tr style=\"text-align: right;\">\n      <th></th>\n      <th>Real</th>\n      <th>Predicted</th>\n    </tr>\n  </thead>\n  <tbody>\n    <tr>\n      <th>2021-06-22</th>\n      <td>63.44</td>\n      <td>64.674545</td>\n    </tr>\n    <tr>\n      <th>2021-06-23</th>\n      <td>65.16</td>\n      <td>64.628754</td>\n    </tr>\n    <tr>\n      <th>2021-06-24</th>\n      <td>66.26</td>\n      <td>64.530983</td>\n    </tr>\n    <tr>\n      <th>2021-06-25</th>\n      <td>64.25</td>\n      <td>64.392792</td>\n    </tr>\n    <tr>\n      <th>2021-06-28</th>\n      <td>64.40</td>\n      <td>64.175156</td>\n    </tr>\n    <tr>\n      <th>2021-06-29</th>\n      <td>66.46</td>\n      <td>63.956551</td>\n    </tr>\n    <tr>\n      <th>2021-06-30</th>\n      <td>67.35</td>\n      <td>63.859581</td>\n    </tr>\n    <tr>\n      <th>2021-07-01</th>\n      <td>68.29</td>\n      <td>63.873493</td>\n    </tr>\n    <tr>\n      <th>2021-07-02</th>\n      <td>68.84</td>\n      <td>63.973995</td>\n    </tr>\n    <tr>\n      <th>2021-07-06</th>\n      <td>68.00</td>\n      <td>64.193016</td>\n    </tr>\n  </tbody>\n</table>\n</div>",
      "text/plain": "             Real  Predicted\n2021-06-22  63.44  64.674545\n2021-06-23  65.16  64.628754\n2021-06-24  66.26  64.530983\n2021-06-25  64.25  64.392792\n2021-06-28  64.40  64.175156\n2021-06-29  66.46  63.956551\n2021-06-30  67.35  63.859581\n2021-07-01  68.29  63.873493\n2021-07-02  68.84  63.973995\n2021-07-06  68.00  64.193016"
     },
     "execution_count": 38,
     "metadata": {},
     "output_type": "execute_result"
    }
   ],
   "source": [
    "stocks = pd.DataFrame({\n",
    "    \"Real\": real_prices.ravel(),\n",
    "    \"Predicted\": predicted_prices.ravel()\n",
    "    }, index = fintech_df.index[-len(real_prices): ])\n",
    "stocks.head(10)"
   ]
  },
  {
   "cell_type": "code",
   "execution_count": 39,
   "metadata": {},
   "outputs": [
    {
     "data": {
      "text/plain": "<matplotlib.axes._subplots.AxesSubplot at 0x7ffe84c536a0>"
     },
     "execution_count": 39,
     "metadata": {},
     "output_type": "execute_result"
    },
    {
     "data": {
      "image/png": "[encoded data removed]",
      "text/plain": "<Figure size 432x288 with 1 Axes>"
     },
     "metadata": {
      "needs_background": "light"
     },
     "output_type": "display_data"
    }
   ],
   "source": [
    "stocks.plot()#(label = \"Predicting Apple's Close with the S&P500 Close - (6Day Window)\", xlabel=\"Date\", ylabel=\"Price\")"
   ]
  },
  {
   "cell_type": "code",
   "execution_count": null,
   "metadata": {},
   "outputs": [],
   "source": []
  }
 ],
 "metadata": {
  "kernelspec": {
   "display_name": "Python 3.8.5 64-bit ('base': conda)",
   "metadata": {
    "interpreter": {
     "hash": "11ef2bb442b8455a3e6b82f3202efe5c7a01a00a0939705f79f87b65f8f45715"
    }
   },
   "name": "python3"
  },
  "language_info": {
   "codemirror_mode": {
    "name": "ipython",
    "version": 3
   },
   "file_extension": ".py",
   "mimetype": "text/x-python",
   "name": "python",
   "nbconvert_exporter": "python",
   "pygments_lexer": "ipython3",
   "version": "3.8.5"
  },
  "orig_nbformat": 2
 },
 "nbformat": 4,
 "nbformat_minor": 2
}