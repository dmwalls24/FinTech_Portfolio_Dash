{
 "cells": [
  {
   "cell_type": "code",
   "execution_count": 49,
   "metadata": {},
   "outputs": [],
   "source": [
    "import os\n",
    "import numpy as np\n",
    "import pandas as pd\n",
    "from pathlib import Path\n",
    "from dotenv import load_dotenv\n",
    "import alpaca_trade_api as tradeapi\n",
    "from newsapi import NewsApiClient\n",
    "from datetime import datetime, timedelta\n",
    "import numpy as np\n",
    "from numpy.random import seed\n",
    "seed(1)\n",
    "import requests\n",
    "from tensorflow import random\n",
    "random.set_seed(2)\n",
    "import hvplot.pandas\n",
    "%matplotlib inline"
   ]
  },
  {
   "cell_type": "code",
   "execution_count": 50,
   "metadata": {},
   "outputs": [
    {
     "data": {
      "text/plain": "True"
     },
     "execution_count": 50,
     "metadata": {},
     "output_type": "execute_result"
    }
   ],
   "source": [
    "load_dotenv()"
   ]
  },
  {
   "cell_type": "code",
   "execution_count": 51,
   "metadata": {},
   "outputs": [],
   "source": [
    "alpaca_api_key = os.getenv(\"ALPACA_API_KEY\")\n",
    "alpaca_secret_key = os.getenv(\"ALPACA_SECRET_KEY\")\n",
    "alpaca = tradeapi.REST(\n",
    "    alpaca_api_key,\n",
    "    alpaca_secret_key,\n",
    "    api_version=\"v2\")\n",
    "#print(alpaca_api_key)"
   ]
  },
  {
   "cell_type": "code",
   "execution_count": 52,
   "metadata": {},
   "outputs": [
    {
     "data": {
      "text/html": "<div>\n<style scoped>\n    .dataframe tbody tr th:only-of-type {\n        vertical-align: middle;\n    }\n\n    .dataframe tbody tr th {\n        vertical-align: top;\n    }\n\n    .dataframe thead tr th {\n        text-align: left;\n    }\n\n    .dataframe thead tr:last-of-type th {\n        text-align: right;\n    }\n</style>\n<table border=\"1\" class=\"dataframe\">\n  <thead>\n    <tr>\n      <th></th>\n      <th colspan=\"5\" halign=\"left\">AFRM</th>\n      <th colspan=\"5\" halign=\"left\">MELI</th>\n      <th colspan=\"5\" halign=\"left\">PYPL</th>\n      <th colspan=\"5\" halign=\"left\">SQ</th>\n    </tr>\n    <tr>\n      <th></th>\n      <th>open</th>\n      <th>high</th>\n      <th>low</th>\n      <th>close</th>\n      <th>volume</th>\n      <th>open</th>\n      <th>high</th>\n      <th>low</th>\n      <th>close</th>\n      <th>volume</th>\n      <th>open</th>\n      <th>high</th>\n      <th>low</th>\n      <th>close</th>\n      <th>volume</th>\n      <th>open</th>\n      <th>high</th>\n      <th>low</th>\n      <th>close</th>\n      <th>volume</th>\n    </tr>\n    <tr>\n      <th>time</th>\n      <th></th>\n      <th></th>\n      <th></th>\n      <th></th>\n      <th></th>\n      <th></th>\n      <th></th>\n      <th></th>\n      <th></th>\n      <th></th>\n      <th></th>\n      <th></th>\n      <th></th>\n      <th></th>\n      <th></th>\n      <th></th>\n      <th></th>\n      <th></th>\n      <th></th>\n      <th></th>\n    </tr>\n  </thead>\n  <tbody>\n    <tr>\n      <th>2021-01-13 00:00:00-05:00</th>\n      <td>90.900</td>\n      <td>103.000</td>\n      <td>90.01</td>\n      <td>97.010</td>\n      <td>24984325.0</td>\n      <td>1823.00</td>\n      <td>1830.0000</td>\n      <td>1766.685</td>\n      <td>1797.165</td>\n      <td>453625.0</td>\n      <td>236.57</td>\n      <td>247.4400</td>\n      <td>236.5400</td>\n      <td>244.90</td>\n      <td>6419870</td>\n      <td>228.95</td>\n      <td>234.8213</td>\n      <td>226.80</td>\n      <td>230.94</td>\n      <td>14553101</td>\n    </tr>\n    <tr>\n      <th>2021-01-14 00:00:00-05:00</th>\n      <td>103.500</td>\n      <td>137.980</td>\n      <td>101.00</td>\n      <td>114.400</td>\n      <td>20358777.0</td>\n      <td>1814.00</td>\n      <td>1889.6200</td>\n      <td>1814.000</td>\n      <td>1852.520</td>\n      <td>491020.0</td>\n      <td>246.87</td>\n      <td>249.8500</td>\n      <td>241.5400</td>\n      <td>242.01</td>\n      <td>5757075</td>\n      <td>233.90</td>\n      <td>238.7600</td>\n      <td>229.59</td>\n      <td>232.71</td>\n      <td>6502923</td>\n    </tr>\n    <tr>\n      <th>2021-01-15 00:00:00-05:00</th>\n      <td>123.054</td>\n      <td>127.240</td>\n      <td>107.00</td>\n      <td>116.700</td>\n      <td>8033257.0</td>\n      <td>1860.01</td>\n      <td>1877.1091</td>\n      <td>1805.460</td>\n      <td>1856.340</td>\n      <td>478130.0</td>\n      <td>242.25</td>\n      <td>244.5632</td>\n      <td>235.0341</td>\n      <td>239.79</td>\n      <td>6600442</td>\n      <td>233.63</td>\n      <td>236.4300</td>\n      <td>225.58</td>\n      <td>227.65</td>\n      <td>6344926</td>\n    </tr>\n    <tr>\n      <th>2021-01-19 00:00:00-05:00</th>\n      <td>117.000</td>\n      <td>117.675</td>\n      <td>108.00</td>\n      <td>110.875</td>\n      <td>3116358.0</td>\n      <td>1888.17</td>\n      <td>1938.1699</td>\n      <td>1861.000</td>\n      <td>1915.700</td>\n      <td>590186.0</td>\n      <td>243.30</td>\n      <td>248.7400</td>\n      <td>241.0000</td>\n      <td>247.24</td>\n      <td>5690793</td>\n      <td>231.07</td>\n      <td>231.5900</td>\n      <td>223.25</td>\n      <td>227.25</td>\n      <td>6347656</td>\n    </tr>\n    <tr>\n      <th>2021-01-20 00:00:00-05:00</th>\n      <td>110.000</td>\n      <td>112.000</td>\n      <td>103.25</td>\n      <td>107.150</td>\n      <td>3504314.0</td>\n      <td>1960.00</td>\n      <td>1991.8800</td>\n      <td>1929.520</td>\n      <td>1986.000</td>\n      <td>574762.0</td>\n      <td>248.85</td>\n      <td>249.6500</td>\n      <td>244.1400</td>\n      <td>244.19</td>\n      <td>5068278</td>\n      <td>230.12</td>\n      <td>230.8800</td>\n      <td>225.50</td>\n      <td>226.65</td>\n      <td>5379761</td>\n    </tr>\n  </tbody>\n</table>\n</div>",
      "text/plain": "                              AFRM                                        \\\n                              open     high     low    close      volume   \ntime                                                                       \n2021-01-13 00:00:00-05:00   90.900  103.000   90.01   97.010  24984325.0   \n2021-01-14 00:00:00-05:00  103.500  137.980  101.00  114.400  20358777.0   \n2021-01-15 00:00:00-05:00  123.054  127.240  107.00  116.700   8033257.0   \n2021-01-19 00:00:00-05:00  117.000  117.675  108.00  110.875   3116358.0   \n2021-01-20 00:00:00-05:00  110.000  112.000  103.25  107.150   3504314.0   \n\n                              MELI                                           \\\n                              open       high       low     close    volume   \ntime                                                                          \n2021-01-13 00:00:00-05:00  1823.00  1830.0000  1766.685  1797.165  453625.0   \n2021-01-14 00:00:00-05:00  1814.00  1889.6200  1814.000  1852.520  491020.0   \n2021-01-15 00:00:00-05:00  1860.01  1877.1091  1805.460  1856.340  478130.0   \n2021-01-19 00:00:00-05:00  1888.17  1938.1699  1861.000  1915.700  590186.0   \n2021-01-20 00:00:00-05:00  1960.00  1991.8800  1929.520  1986.000  574762.0   \n\n                             PYPL                                       \\\n                             open      high       low   close   volume   \ntime                                                                     \n2021-01-13 00:00:00-05:00  236.57  247.4400  236.5400  244.90  6419870   \n2021-01-14 00:00:00-05:00  246.87  249.8500  241.5400  242.01  5757075   \n2021-01-15 00:00:00-05:00  242.25  244.5632  235.0341  239.79  6600442   \n2021-01-19 00:00:00-05:00  243.30  248.7400  241.0000  247.24  5690793   \n2021-01-20 00:00:00-05:00  248.85  249.6500  244.1400  244.19  5068278   \n\n                               SQ                                      \n                             open      high     low   close    volume  \ntime                                                                   \n2021-01-13 00:00:00-05:00  228.95  234.8213  226.80  230.94  14553101  \n2021-01-14 00:00:00-05:00  233.90  238.7600  229.59  232.71   6502923  \n2021-01-15 00:00:00-05:00  233.63  236.4300  225.58  227.65   6344926  \n2021-01-19 00:00:00-05:00  231.07  231.5900  223.25  227.25   6347656  \n2021-01-20 00:00:00-05:00  230.12  230.8800  225.50  226.65   5379761  "
     },
     "execution_count": 52,
     "metadata": {},
     "output_type": "execute_result"
    }
   ],
   "source": [
    "#15Min interval\n",
    "timeframe = \"1D\"\n",
    "start_date = pd.Timestamp(\"2019-01-01\", tz=\"America/New_York\").isoformat()\n",
    "end_date = pd.Timestamp(\"2021-12-31\", tz=\"America/New_York\").isoformat()\n",
    "#today = pd.Timestamp(\"2021-01-02\", tz=\"America/New_York\").isoformat()\n",
    "ticker = [\"PYPL\", \"SQ\", \"AFRM\", \"MELI\"]\n",
    "fintech_ticker = alpaca.get_barset(\n",
    "    ticker,\n",
    "    timeframe,\n",
    "    start=start_date,\n",
    "    end=end_date,\n",
    "    limit=1000,\n",
    ").df\n",
    "fintech_ticker.dropna(inplace=True)\n",
    "fintech_ticker.head(5)\n",
    "#apple_ticker.dropna(inplace=True)"
   ]
  },
  {
   "cell_type": "code",
   "execution_count": 53,
   "metadata": {},
   "outputs": [
    {
     "data": {
      "text/html": "<div>\n<style scoped>\n    .dataframe tbody tr th:only-of-type {\n        vertical-align: middle;\n    }\n\n    .dataframe tbody tr th {\n        vertical-align: top;\n    }\n\n    .dataframe thead th {\n        text-align: right;\n    }\n</style>\n<table border=\"1\" class=\"dataframe\">\n  <thead>\n    <tr style=\"text-align: right;\">\n      <th></th>\n      <th>PayPal</th>\n      <th>Square</th>\n      <th>Affirm</th>\n      <th>Mercalibre</th>\n    </tr>\n  </thead>\n  <tbody>\n    <tr>\n      <th>2021-01-13</th>\n      <td>244.90</td>\n      <td>230.94</td>\n      <td>97.010</td>\n      <td>1797.165</td>\n    </tr>\n    <tr>\n      <th>2021-01-14</th>\n      <td>242.01</td>\n      <td>232.71</td>\n      <td>114.400</td>\n      <td>1852.520</td>\n    </tr>\n    <tr>\n      <th>2021-01-15</th>\n      <td>239.79</td>\n      <td>227.65</td>\n      <td>116.700</td>\n      <td>1856.340</td>\n    </tr>\n    <tr>\n      <th>2021-01-19</th>\n      <td>247.24</td>\n      <td>227.25</td>\n      <td>110.875</td>\n      <td>1915.700</td>\n    </tr>\n    <tr>\n      <th>2021-01-20</th>\n      <td>244.19</td>\n      <td>226.65</td>\n      <td>107.150</td>\n      <td>1986.000</td>\n    </tr>\n  </tbody>\n</table>\n</div>",
      "text/plain": "            PayPal  Square   Affirm  Mercalibre\n2021-01-13  244.90  230.94   97.010    1797.165\n2021-01-14  242.01  232.71  114.400    1852.520\n2021-01-15  239.79  227.65  116.700    1856.340\n2021-01-19  247.24  227.25  110.875    1915.700\n2021-01-20  244.19  226.65  107.150    1986.000"
     },
     "execution_count": 53,
     "metadata": {},
     "output_type": "execute_result"
    }
   ],
   "source": [
    "fintech_df = pd.DataFrame()\n",
    "fintech_df[\"PayPal\"] = fintech_ticker[\"PYPL\"][\"close\"]\n",
    "fintech_df[\"Square\"] = fintech_ticker[\"SQ\"][\"close\"]\n",
    "fintech_df[\"Affirm\"] = fintech_ticker[\"AFRM\"][\"close\"]\n",
    "fintech_df[\"Mercalibre\"] = fintech_ticker[\"MELI\"][\"close\"]\n",
    "#fintech_df[\"Johnson&Johnson\"] = nasdaq_ticker[\"JNJ\"][\"close\"]\n",
    "#apple_df = apple_df.pct_change().dropna()\n",
    "fintech_df.index = fintech_df.index.date \n",
    "fintech_df.dropna(inplace=True)\n",
    "fintech_df.head()"
   ]
  },
  {
   "cell_type": "code",
   "execution_count": null,
   "metadata": {},
   "outputs": [],
   "source": []
  },
  {
   "cell_type": "code",
   "execution_count": 54,
   "metadata": {},
   "outputs": [],
   "source": [
    "#fintech_returns = fintech_df.pct_change().dropna()\n",
    "#fintech_returns.head()"
   ]
  },
  {
   "cell_type": "code",
   "execution_count": null,
   "metadata": {},
   "outputs": [],
   "source": []
  },
  {
   "cell_type": "code",
   "execution_count": 55,
   "metadata": {},
   "outputs": [],
   "source": [
    "def window_data(df, window, feature_col_number, target_col_number):\n",
    "    X = []\n",
    "    y = []\n",
    "    for i in range(len(df) - window):\n",
    "        features = df.iloc[i : (i + window), feature_col_number]\n",
    "        target = df.iloc[(i + window), target_col_number]\n",
    "        X.append(features)\n",
    "        y.append(target)\n",
    "    return np.array(X), np.array(y).reshape(-1, 1)"
   ]
  },
  {
   "cell_type": "code",
   "execution_count": 56,
   "metadata": {},
   "outputs": [
    {
     "name": "stdout",
     "output_type": "stream",
     "text": [
      "X sample values:\n",
      "[[230.94 232.71 227.65 227.25 226.65 219.62 222.88 216.63 209.49 202.3 ]\n",
      " [232.71 227.65 227.25 226.65 219.62 222.88 216.63 209.49 202.3  219.91]\n",
      " [227.65 227.25 226.65 219.62 222.88 216.63 209.49 202.3  219.91 215.92]\n",
      " [227.25 226.65 219.62 222.88 216.63 209.49 202.3  219.91 215.92 221.94]\n",
      " [226.65 219.62 222.88 216.63 209.49 202.3  219.91 215.92 221.94 227.63]] \n",
      "\n",
      "y sample values:\n",
      "[[219.91]\n",
      " [215.92]\n",
      " [221.94]\n",
      " [227.63]\n",
      " [227.76]]\n"
     ]
    }
   ],
   "source": [
    "window_size = 10\n",
    "feature_column = 1\n",
    "target_column = 1\n",
    "X, y = window_data(fintech_df, window_size, feature_column, target_column)\n",
    "print (f\"X sample values:\\n{X[:5]} \\n\")\n",
    "print (f\"y sample values:\\n{y[:5]}\")"
   ]
  },
  {
   "cell_type": "code",
   "execution_count": 57,
   "metadata": {},
   "outputs": [
    {
     "name": "stdout",
     "output_type": "stream",
     "text": [
      "[[230.94 232.71 227.65 ... 216.63 209.49 202.3 ]\n",
      " [232.71 227.65 227.25 ... 209.49 202.3  219.91]\n",
      " [227.65 227.25 226.65 ... 202.3  219.91 215.92]\n",
      " ...\n",
      " [247.12 272.4  269.5  ... 272.93 271.01 268.57]\n",
      " [272.4  269.5  266.45 ... 271.01 268.57 267.94]\n",
      " [269.5  266.45 281.8  ... 268.57 267.94 263.48]]\n"
     ]
    }
   ],
   "source": [
    "print(X)"
   ]
  },
  {
   "cell_type": "code",
   "execution_count": 58,
   "metadata": {},
   "outputs": [],
   "source": [
    "split = int(0.7 * len(X))\n",
    "X_train = X[: split]\n",
    "X_test = X[split :]\n",
    "y_train = y[: split]\n",
    "y_test = y[split :]"
   ]
  },
  {
   "cell_type": "code",
   "execution_count": 59,
   "metadata": {},
   "outputs": [],
   "source": [
    "from sklearn.preprocessing import MinMaxScaler\n",
    "\n",
    "scaler = MinMaxScaler()\n",
    "scaler.fit(X)\n",
    "X_train = scaler.transform(X_train)\n",
    "X_test = scaler.transform(X_test)\n",
    "scaler.fit(y)\n",
    "y_train = scaler.transform(y_train)\n",
    "y_test = scaler.transform(y_test)"
   ]
  },
  {
   "cell_type": "code",
   "execution_count": 60,
   "metadata": {},
   "outputs": [
    {
     "name": "stdout",
     "output_type": "stream",
     "text": [
      "X_train sample values:\n",
      "[[[0.42480777]\n",
      "  [0.44711963]\n",
      "  [0.3596263 ]\n",
      "  [0.35489593]\n",
      "  [0.34780038]\n",
      "  [0.26466414]\n",
      "  [0.30321665]\n",
      "  [0.22930464]\n",
      "  [0.14486755]\n",
      "  [0.05983917]]\n",
      "\n",
      " [[0.44711963]\n",
      "  [0.38333543]\n",
      "  [0.35489593]\n",
      "  [0.34780038]\n",
      "  [0.26466414]\n",
      "  [0.30321665]\n",
      "  [0.22930464]\n",
      "  [0.14486755]\n",
      "  [0.05983917]\n",
      "  [0.26809366]]\n",
      "\n",
      " [[0.38333543]\n",
      "  [0.37829321]\n",
      "  [0.34780038]\n",
      "  [0.26466414]\n",
      "  [0.30321665]\n",
      "  [0.22930464]\n",
      "  [0.14486755]\n",
      "  [0.05983917]\n",
      "  [0.26809366]\n",
      "  [0.22090823]]\n",
      "\n",
      " [[0.37829321]\n",
      "  [0.37072986]\n",
      "  [0.26466414]\n",
      "  [0.30321665]\n",
      "  [0.22930464]\n",
      "  [0.14486755]\n",
      "  [0.05983917]\n",
      "  [0.26809366]\n",
      "  [0.22090823]\n",
      "  [0.29210028]]\n",
      "\n",
      " [[0.37072986]\n",
      "  [0.28211269]\n",
      "  [0.30321665]\n",
      "  [0.22930464]\n",
      "  [0.14486755]\n",
      "  [0.05983917]\n",
      "  [0.26809366]\n",
      "  [0.22090823]\n",
      "  [0.29210028]\n",
      "  [0.35938978]]] \n",
      "\n",
      "X_test sample values:\n",
      "[[[0.20736165]\n",
      "  [0.24832976]\n",
      "  [0.20001774]\n",
      "  [0.15338221]\n",
      "  [0.23509934]\n",
      "  [0.26135289]\n",
      "  [0.39865184]\n",
      "  [0.36009934]\n",
      "  [0.33006149]\n",
      "  [0.46132923]]\n",
      "\n",
      " [[0.24832976]\n",
      "  [0.21320434]\n",
      "  [0.15338221]\n",
      "  [0.23509934]\n",
      "  [0.26135289]\n",
      "  [0.39865184]\n",
      "  [0.36009934]\n",
      "  [0.33006149]\n",
      "  [0.46132923]\n",
      "  [0.47220908]]\n",
      "\n",
      " [[0.21320434]\n",
      "  [0.16349426]\n",
      "  [0.23509934]\n",
      "  [0.26135289]\n",
      "  [0.39865184]\n",
      "  [0.36009934]\n",
      "  [0.33006149]\n",
      "  [0.46132923]\n",
      "  [0.47220908]\n",
      "  [0.43365658]]\n",
      "\n",
      " [[0.16349426]\n",
      "  [0.25059876]\n",
      "  [0.26135289]\n",
      "  [0.39865184]\n",
      "  [0.36009934]\n",
      "  [0.33006149]\n",
      "  [0.46132923]\n",
      "  [0.47220908]\n",
      "  [0.43365658]\n",
      "  [0.45813623]]\n",
      "\n",
      " [[0.25059876]\n",
      "  [0.27858313]\n",
      "  [0.39865184]\n",
      "  [0.36009934]\n",
      "  [0.33006149]\n",
      "  [0.46132923]\n",
      "  [0.47220908]\n",
      "  [0.43365658]\n",
      "  [0.45813623]\n",
      "  [0.49018448]]]\n"
     ]
    }
   ],
   "source": [
    "X_train = X_train.reshape((X_train.shape[0], X_train.shape[1], 1))\n",
    "X_test = X_test.reshape((X_test.shape[0], X_test.shape[1], 1))\n",
    "print (f\"X_train sample values:\\n{X_train[:5]} \\n\")\n",
    "print (f\"X_test sample values:\\n{X_test[:5]}\")"
   ]
  },
  {
   "cell_type": "code",
   "execution_count": 61,
   "metadata": {},
   "outputs": [],
   "source": [
    "from tensorflow.keras.models import Sequential\n",
    "from tensorflow.keras.layers import LSTM, Dense, Dropout"
   ]
  },
  {
   "cell_type": "code",
   "execution_count": 62,
   "metadata": {},
   "outputs": [],
   "source": [
    "model = Sequential()\n",
    "\n",
    "number_units = 5\n",
    "dropout_fraction = 0.2\n",
    "\n",
    "# Layer 1\n",
    "model.add(LSTM(units=number_units, return_sequences=True, input_shape=(X_train.shape[1], 1)))\n",
    "model.add(Dropout(dropout_fraction))\n",
    "# Layer 2\n",
    "model.add(LSTM(units=number_units, return_sequences=True))\n",
    "model.add(Dropout(dropout_fraction))\n",
    "# Layer 3\n",
    "model.add(LSTM(units=number_units))\n",
    "model.add(Dropout(dropout_fraction))\n",
    "# Output layer\n",
    "model.add(Dense(1))"
   ]
  },
  {
   "cell_type": "code",
   "execution_count": 63,
   "metadata": {},
   "outputs": [],
   "source": [
    "model.compile(optimizer=\"adam\", loss=\"mean_squared_error\")"
   ]
  },
  {
   "cell_type": "code",
   "execution_count": 64,
   "metadata": {},
   "outputs": [
    {
     "name": "stdout",
     "output_type": "stream",
     "text": [
      "Model: \"sequential_2\"\n",
      "_________________________________________________________________\n",
      "Layer (type)                 Output Shape              Param #   \n",
      "=================================================================\n",
      "lstm_6 (LSTM)                (None, 10, 5)             140       \n",
      "_________________________________________________________________\n",
      "dropout_6 (Dropout)          (None, 10, 5)             0         \n",
      "_________________________________________________________________\n",
      "lstm_7 (LSTM)                (None, 10, 5)             220       \n",
      "_________________________________________________________________\n",
      "dropout_7 (Dropout)          (None, 10, 5)             0         \n",
      "_________________________________________________________________\n",
      "lstm_8 (LSTM)                (None, 5)                 220       \n",
      "_________________________________________________________________\n",
      "dropout_8 (Dropout)          (None, 5)                 0         \n",
      "_________________________________________________________________\n",
      "dense_2 (Dense)              (None, 1)                 6         \n",
      "=================================================================\n",
      "Total params: 586\n",
      "Trainable params: 586\n",
      "Non-trainable params: 0\n",
      "_________________________________________________________________\n"
     ]
    }
   ],
   "source": [
    "model.summary()"
   ]
  },
  {
   "cell_type": "code",
   "execution_count": 65,
   "metadata": {},
   "outputs": [
    {
     "name": "stdout",
     "output_type": "stream",
     "text": [
      "Epoch 1/20\n",
      "98/98 [==============================] - 4s 5ms/step - loss: 0.1609\n",
      "Epoch 2/20\n",
      "98/98 [==============================] - 0s 5ms/step - loss: 0.0826\n",
      "Epoch 3/20\n",
      "98/98 [==============================] - 0s 5ms/step - loss: 0.0745\n",
      "Epoch 4/20\n",
      "98/98 [==============================] - 0s 5ms/step - loss: 0.0751\n",
      "Epoch 5/20\n",
      "98/98 [==============================] - 0s 5ms/step - loss: 0.0714\n",
      "Epoch 6/20\n",
      "98/98 [==============================] - 0s 5ms/step - loss: 0.0754\n",
      "Epoch 7/20\n",
      "98/98 [==============================] - 0s 5ms/step - loss: 0.0738\n",
      "Epoch 8/20\n",
      "98/98 [==============================] - 1s 6ms/step - loss: 0.0644\n",
      "Epoch 9/20\n",
      "98/98 [==============================] - 1s 5ms/step - loss: 0.0677\n",
      "Epoch 10/20\n",
      "98/98 [==============================] - 1s 5ms/step - loss: 0.0687\n",
      "Epoch 11/20\n",
      "98/98 [==============================] - 1s 5ms/step - loss: 0.0677\n",
      "Epoch 12/20\n",
      "98/98 [==============================] - 0s 5ms/step - loss: 0.0668\n",
      "Epoch 13/20\n",
      "98/98 [==============================] - 1s 6ms/step - loss: 0.0616\n",
      "Epoch 14/20\n",
      "98/98 [==============================] - 0s 5ms/step - loss: 0.0661\n",
      "Epoch 15/20\n",
      "98/98 [==============================] - 0s 5ms/step - loss: 0.0591\n",
      "Epoch 16/20\n",
      "98/98 [==============================] - 0s 5ms/step - loss: 0.0613\n",
      "Epoch 17/20\n",
      "98/98 [==============================] - 0s 5ms/step - loss: 0.0640\n",
      "Epoch 18/20\n",
      "98/98 [==============================] - 1s 5ms/step - loss: 0.0586\n",
      "Epoch 19/20\n",
      "98/98 [==============================] - 1s 6ms/step - loss: 0.0531\n",
      "Epoch 20/20\n",
      "98/98 [==============================] - 0s 5ms/step - loss: 0.0511\n"
     ]
    },
    {
     "data": {
      "text/plain": "<tensorflow.python.keras.callbacks.History at 0x7fbe6021cac0>"
     },
     "execution_count": 65,
     "metadata": {},
     "output_type": "execute_result"
    }
   ],
   "source": [
    "model.fit(X_train, y_train, epochs=20, shuffle=False, batch_size=1, verbose=1)"
   ]
  },
  {
   "cell_type": "code",
   "execution_count": 66,
   "metadata": {},
   "outputs": [
    {
     "name": "stdout",
     "output_type": "stream",
     "text": [
      "2/2 [==============================] - 1s 4ms/step - loss: 0.0763\n"
     ]
    },
    {
     "data": {
      "text/plain": "0.07625136524438858"
     },
     "execution_count": 66,
     "metadata": {},
     "output_type": "execute_result"
    }
   ],
   "source": [
    "model.evaluate(X_test, y_test)"
   ]
  },
  {
   "cell_type": "code",
   "execution_count": 67,
   "metadata": {},
   "outputs": [],
   "source": [
    "predicted = model.predict(X_test)"
   ]
  },
  {
   "cell_type": "code",
   "execution_count": 68,
   "metadata": {},
   "outputs": [],
   "source": [
    "predicted_prices = scaler.inverse_transform(predicted)\n",
    "real_prices = scaler.inverse_transform(y_test.reshape(-1, 1))"
   ]
  },
  {
   "cell_type": "code",
   "execution_count": 69,
   "metadata": {},
   "outputs": [
    {
     "data": {
      "text/html": "<div>\n<style scoped>\n    .dataframe tbody tr th:only-of-type {\n        vertical-align: middle;\n    }\n\n    .dataframe tbody tr th {\n        vertical-align: top;\n    }\n\n    .dataframe thead th {\n        text-align: right;\n    }\n</style>\n<table border=\"1\" class=\"dataframe\">\n  <thead>\n    <tr style=\"text-align: right;\">\n      <th></th>\n      <th>Real</th>\n      <th>Predicted</th>\n    </tr>\n  </thead>\n  <tbody>\n    <tr>\n      <th>2021-06-18</th>\n      <td>237.17</td>\n      <td>225.158798</td>\n    </tr>\n    <tr>\n      <th>2021-06-21</th>\n      <td>233.91</td>\n      <td>225.829361</td>\n    </tr>\n    <tr>\n      <th>2021-06-22</th>\n      <td>235.98</td>\n      <td>226.449219</td>\n    </tr>\n    <tr>\n      <th>2021-06-23</th>\n      <td>238.69</td>\n      <td>227.049118</td>\n    </tr>\n    <tr>\n      <th>2021-06-24</th>\n      <td>244.28</td>\n      <td>227.636642</td>\n    </tr>\n    <tr>\n      <th>2021-06-25</th>\n      <td>240.24</td>\n      <td>228.221970</td>\n    </tr>\n    <tr>\n      <th>2021-06-28</th>\n      <td>246.60</td>\n      <td>228.728561</td>\n    </tr>\n    <tr>\n      <th>2021-06-29</th>\n      <td>248.88</td>\n      <td>229.199677</td>\n    </tr>\n    <tr>\n      <th>2021-06-30</th>\n      <td>243.74</td>\n      <td>229.770248</td>\n    </tr>\n    <tr>\n      <th>2021-07-01</th>\n      <td>241.96</td>\n      <td>230.258942</td>\n    </tr>\n  </tbody>\n</table>\n</div>",
      "text/plain": "              Real   Predicted\n2021-06-18  237.17  225.158798\n2021-06-21  233.91  225.829361\n2021-06-22  235.98  226.449219\n2021-06-23  238.69  227.049118\n2021-06-24  244.28  227.636642\n2021-06-25  240.24  228.221970\n2021-06-28  246.60  228.728561\n2021-06-29  248.88  229.199677\n2021-06-30  243.74  229.770248\n2021-07-01  241.96  230.258942"
     },
     "execution_count": 69,
     "metadata": {},
     "output_type": "execute_result"
    }
   ],
   "source": [
    "stocks = pd.DataFrame({\n",
    "    \"Real\": real_prices.ravel(),\n",
    "    \"Predicted\": predicted_prices.ravel()\n",
    "    }, index = fintech_df.index[-len(real_prices): ])\n",
    "stocks.head(10)"
   ]
  },
  {
   "cell_type": "code",
   "execution_count": 70,
   "metadata": {},
   "outputs": [
    {
     "data": {},
     "metadata": {},
     "output_type": "display_data"
    },
    {
     "data": {
      "application/vnd.holoviews_exec.v0+json": "",
      "text/html": "<div id='2541'>\n\n\n\n\n\n  <div class=\"bk-root\" id=\"ffa58b5c-fbed-408d-9f00-b4d8f33d6653\" data-root-id=\"2541\"></div>\n</div>\n<script type=\"application/javascript\">(function(root) {\n  function embed_document(root) {\n  var docs_json = {\"0a721c67-3a7b-44aa-85cb-a13227e519e0\":{\"roots\":{\"references\":[{\"attributes\":{\"axis_label\":\"\",\"bounds\":\"auto\",\"formatter\":{\"id\":\"2579\"},\"major_label_orientation\":\"horizontal\",\"ticker\":{\"id\":\"2561\"}},\"id\":\"2560\",\"type\":\"LinearAxis\"},{\"attributes\":{},\"id\":\"2565\",\"type\":\"PanTool\"},{\"attributes\":{},\"id\":\"2554\",\"type\":\"LinearScale\"},{\"attributes\":{\"data\":{\"Variable\":[\"Predicted\",\"Predicted\",\"Predicted\",\"Predicted\",\"Predicted\",\"Predicted\",\"Predicted\",\"Predicted\",\"Predicted\",\"Predicted\",\"Predicted\",\"Predicted\",\"Predicted\",\"Predicted\",\"Predicted\",\"Predicted\",\"Predicted\",\"Predicted\",\"Predicted\",\"Predicted\",\"Predicted\",\"Predicted\",\"Predicted\",\"Predicted\",\"Predicted\",\"Predicted\",\"Predicted\",\"Predicted\",\"Predicted\",\"Predicted\",\"Predicted\",\"Predicted\",\"Predicted\",\"Predicted\",\"Predicted\",\"Predicted\",\"Predicted\",\"Predicted\",\"Predicted\",\"Predicted\",\"Predicted\",\"Predicted\"],\"index\":{\"__ndarray__\":\"AAAArcahd0IAAEDevaJ3QgAAAEQQo3dCAADAqWKjd0IAAIAPtaN3QgAAQHUHpHdCAACApv6kd0IAAEAMUaV3QgAAAHKjpXdCAADA1/Wld0IAAIA9SKZ3QgAAgNSRp3dCAABAOuSnd0IAAACgNqh3QgAAwAWJqHdCAAAAN4Cpd0IAAMCc0ql3QgAAgAIlqndCAABAaHeqd0IAAADOyap3QgAAQP/Aq3dCAAAAZROsd0IAAMDKZax3QgAAgDC4rHdCAABAlgqtd0IAAIDHAa53QgAAQC1UrndCAAAAk6aud0IAAMD4+K53QgAAgF5Lr3dCAADAj0Kwd0IAAID1lLB3QgAAQFvnsHdCAAAAwTmxd0IAAMAmjLF3QgAAAFiDsndCAADAvdWyd0IAAIAjKLN3QgAAQIl6s3dCAAAA78yzd0IAAEAgxLR3QgAAAIYWtXdC\",\"dtype\":\"float64\",\"shape\":[42]},\"value\":{\"__ndarray__\":\"pyhhQ1HUYUMAc2JDkwxjQ/uiY0PTOGRDg7pkQx4zZUMvxWVDSkJmQ8WFZkOjpmZDuc1mQ1zpZkNvzmZD66VmQ+iOZkMgcGZDyElmQ9kWZkOJ4mVDW55lQ7mDZUM11WVDrJBmQ72GZ0P+jWhDPlFpQwXwaUMiWWpDJ2VqQxq3akMvHmtDFohrQ9lCbEPFB21D095tQ8iPbkMn9m5DwiNvQ+sjb0PwzG5D\",\"dtype\":\"float32\",\"shape\":[42]}},\"selected\":{\"id\":\"2610\"},\"selection_policy\":{\"id\":\"2659\"}},\"id\":\"2609\",\"type\":\"ColumnDataSource\"},{\"attributes\":{\"below\":[{\"id\":\"2556\"}],\"center\":[{\"id\":\"2559\"},{\"id\":\"2563\"}],\"left\":[{\"id\":\"2560\"}],\"margin\":null,\"min_border_bottom\":10,\"min_border_left\":10,\"min_border_right\":10,\"min_border_top\":10,\"plot_height\":300,\"plot_width\":700,\"renderers\":[{\"id\":\"2587\"},{\"id\":\"2615\"}],\"right\":[{\"id\":\"2607\"}],\"sizing_mode\":\"fixed\",\"title\":{\"id\":\"2548\"},\"toolbar\":{\"id\":\"2570\"},\"x_range\":{\"id\":\"2543\"},\"x_scale\":{\"id\":\"2552\"},\"y_range\":{\"id\":\"2544\"},\"y_scale\":{\"id\":\"2554\"}},\"id\":\"2547\",\"subtype\":\"Figure\",\"type\":\"Plot\"},{\"attributes\":{},\"id\":\"2566\",\"type\":\"WheelZoomTool\"},{\"attributes\":{},\"id\":\"2552\",\"type\":\"LinearScale\"},{\"attributes\":{\"axis\":{\"id\":\"2556\"},\"grid_line_color\":null,\"ticker\":null},\"id\":\"2559\",\"type\":\"Grid\"},{\"attributes\":{},\"id\":\"2659\",\"type\":\"UnionRenderers\"},{\"attributes\":{\"axis\":{\"id\":\"2560\"},\"dimension\":1,\"grid_line_color\":null,\"ticker\":null},\"id\":\"2563\",\"type\":\"Grid\"},{\"attributes\":{},\"id\":\"2561\",\"type\":\"BasicTicker\"},{\"attributes\":{},\"id\":\"2564\",\"type\":\"SaveTool\"},{\"attributes\":{\"mantissas\":[1,2,5],\"max_interval\":500.0,\"num_minor_ticks\":0},\"id\":\"2594\",\"type\":\"AdaptiveTicker\"},{\"attributes\":{\"axis_label\":\"\",\"bounds\":\"auto\",\"formatter\":{\"id\":\"2577\"},\"major_label_orientation\":\"horizontal\",\"ticker\":{\"id\":\"2557\"}},\"id\":\"2556\",\"type\":\"DatetimeAxis\"},{\"attributes\":{\"base\":60,\"mantissas\":[1,2,5,10,15,20,30],\"max_interval\":1800000.0,\"min_interval\":1000.0,\"num_minor_ticks\":0},\"id\":\"2595\",\"type\":\"AdaptiveTicker\"},{\"attributes\":{\"days\":[1,2,3,4,5,6,7,8,9,10,11,12,13,14,15,16,17,18,19,20,21,22,23,24,25,26,27,28,29,30,31]},\"id\":\"2597\",\"type\":\"DaysTicker\"},{\"attributes\":{},\"id\":\"2577\",\"type\":\"DatetimeTickFormatter\"},{\"attributes\":{\"base\":24,\"mantissas\":[1,2,4,6,8,12],\"max_interval\":43200000.0,\"min_interval\":3600000.0,\"num_minor_ticks\":0},\"id\":\"2596\",\"type\":\"AdaptiveTicker\"},{\"attributes\":{\"overlay\":{\"id\":\"2569\"}},\"id\":\"2567\",\"type\":\"BoxZoomTool\"},{\"attributes\":{\"months\":[0,1,2,3,4,5,6,7,8,9,10,11]},\"id\":\"2601\",\"type\":\"MonthsTicker\"},{\"attributes\":{},\"id\":\"2568\",\"type\":\"ResetTool\"},{\"attributes\":{\"months\":[0,2,4,6,8,10]},\"id\":\"2602\",\"type\":\"MonthsTicker\"},{\"attributes\":{\"text\":\"\",\"text_color\":{\"value\":\"black\"},\"text_font_size\":{\"value\":\"12pt\"}},\"id\":\"2548\",\"type\":\"Title\"},{\"attributes\":{\"active_drag\":\"auto\",\"active_inspect\":\"auto\",\"active_multi\":null,\"active_scroll\":\"auto\",\"active_tap\":\"auto\",\"tools\":[{\"id\":\"2545\"},{\"id\":\"2564\"},{\"id\":\"2565\"},{\"id\":\"2566\"},{\"id\":\"2567\"},{\"id\":\"2568\"}]},\"id\":\"2570\",\"type\":\"Toolbar\"},{\"attributes\":{\"data_source\":{\"id\":\"2609\"},\"glyph\":{\"id\":\"2612\"},\"hover_glyph\":null,\"muted_glyph\":{\"id\":\"2614\"},\"nonselection_glyph\":{\"id\":\"2613\"},\"selection_glyph\":null,\"view\":{\"id\":\"2616\"}},\"id\":\"2615\",\"type\":\"GlyphRenderer\"},{\"attributes\":{\"line_alpha\":0.1,\"line_color\":\"#1f77b3\",\"line_width\":2,\"x\":{\"field\":\"index\"},\"y\":{\"field\":\"value\"}},\"id\":\"2585\",\"type\":\"Line\"},{\"attributes\":{\"days\":[1,4,7,10,13,16,19,22,25,28]},\"id\":\"2598\",\"type\":\"DaysTicker\"},{\"attributes\":{\"days\":[1,15]},\"id\":\"2600\",\"type\":\"DaysTicker\"},{\"attributes\":{\"line_color\":\"#ff7e0e\",\"line_width\":2,\"x\":{\"field\":\"index\"},\"y\":{\"field\":\"value\"}},\"id\":\"2612\",\"type\":\"Line\"},{\"attributes\":{\"months\":[0,6]},\"id\":\"2604\",\"type\":\"MonthsTicker\"},{\"attributes\":{\"children\":[{\"id\":\"2542\"},{\"id\":\"2547\"},{\"id\":\"2814\"}],\"margin\":[0,0,0,0],\"name\":\"Row03323\",\"tags\":[\"embedded\"]},\"id\":\"2541\",\"type\":\"Row\"},{\"attributes\":{\"line_alpha\":0.2,\"line_color\":\"#ff7e0e\",\"line_width\":2,\"x\":{\"field\":\"index\"},\"y\":{\"field\":\"value\"}},\"id\":\"2614\",\"type\":\"Line\"},{\"attributes\":{\"days\":[1,8,15,22]},\"id\":\"2599\",\"type\":\"DaysTicker\"},{\"attributes\":{\"data_source\":{\"id\":\"2581\"},\"glyph\":{\"id\":\"2584\"},\"hover_glyph\":null,\"muted_glyph\":{\"id\":\"2586\"},\"nonselection_glyph\":{\"id\":\"2585\"},\"selection_glyph\":null,\"view\":{\"id\":\"2588\"}},\"id\":\"2587\",\"type\":\"GlyphRenderer\"},{\"attributes\":{},\"id\":\"2605\",\"type\":\"YearsTicker\"},{\"attributes\":{\"label\":{\"value\":\"Real\"},\"renderers\":[{\"id\":\"2587\"}]},\"id\":\"2608\",\"type\":\"LegendItem\"},{\"attributes\":{\"months\":[0,4,8]},\"id\":\"2603\",\"type\":\"MonthsTicker\"},{\"attributes\":{},\"id\":\"2579\",\"type\":\"BasicTickFormatter\"},{\"attributes\":{\"line_alpha\":0.1,\"line_color\":\"#ff7e0e\",\"line_width\":2,\"x\":{\"field\":\"index\"},\"y\":{\"field\":\"value\"}},\"id\":\"2613\",\"type\":\"Line\"},{\"attributes\":{\"margin\":[5,5,5,5],\"name\":\"HSpacer03327\",\"sizing_mode\":\"stretch_width\"},\"id\":\"2542\",\"type\":\"Spacer\"},{\"attributes\":{\"end\":1629158400000.0,\"reset_end\":1629158400000.0,\"reset_start\":1623974400000.0,\"start\":1623974400000.0,\"tags\":[[[\"index\",\"index\",null]]]},\"id\":\"2543\",\"type\":\"Range1d\"},{\"attributes\":{\"line_color\":\"#1f77b3\",\"line_width\":2,\"x\":{\"field\":\"index\"},\"y\":{\"field\":\"value\"}},\"id\":\"2584\",\"type\":\"Line\"},{\"attributes\":{\"source\":{\"id\":\"2609\"}},\"id\":\"2616\",\"type\":\"CDSView\"},{\"attributes\":{\"label\":{\"value\":\"Predicted\"},\"renderers\":[{\"id\":\"2615\"}]},\"id\":\"2637\",\"type\":\"LegendItem\"},{\"attributes\":{\"callback\":null,\"formatters\":{\"@{index}\":\"datetime\"},\"renderers\":[{\"id\":\"2587\"},{\"id\":\"2615\"}],\"tags\":[\"hv_created\"],\"tooltips\":[[\"Variable\",\"@{Variable}\"],[\"index\",\"@{index}{%F %T}\"],[\"value\",\"@{value}\"]]},\"id\":\"2545\",\"type\":\"HoverTool\"},{\"attributes\":{\"line_alpha\":0.2,\"line_color\":\"#1f77b3\",\"line_width\":2,\"x\":{\"field\":\"index\"},\"y\":{\"field\":\"value\"}},\"id\":\"2586\",\"type\":\"Line\"},{\"attributes\":{},\"id\":\"2582\",\"type\":\"Selection\"},{\"attributes\":{},\"id\":\"2610\",\"type\":\"Selection\"},{\"attributes\":{\"source\":{\"id\":\"2581\"}},\"id\":\"2588\",\"type\":\"CDSView\"},{\"attributes\":{\"click_policy\":\"mute\",\"items\":[{\"id\":\"2608\"},{\"id\":\"2637\"}],\"location\":[0,0],\"title\":\"Variable\"},\"id\":\"2607\",\"type\":\"Legend\"},{\"attributes\":{},\"id\":\"2636\",\"type\":\"UnionRenderers\"},{\"attributes\":{\"bottom_units\":\"screen\",\"fill_alpha\":0.5,\"fill_color\":\"lightgrey\",\"left_units\":\"screen\",\"level\":\"overlay\",\"line_alpha\":1.0,\"line_color\":\"black\",\"line_dash\":[4,4],\"line_width\":2,\"render_mode\":\"css\",\"right_units\":\"screen\",\"top_units\":\"screen\"},\"id\":\"2569\",\"type\":\"BoxAnnotation\"},{\"attributes\":{\"num_minor_ticks\":5,\"tickers\":[{\"id\":\"2594\"},{\"id\":\"2595\"},{\"id\":\"2596\"},{\"id\":\"2597\"},{\"id\":\"2598\"},{\"id\":\"2599\"},{\"id\":\"2600\"},{\"id\":\"2601\"},{\"id\":\"2602\"},{\"id\":\"2603\"},{\"id\":\"2604\"},{\"id\":\"2605\"}]},\"id\":\"2557\",\"type\":\"DatetimeTicker\"},{\"attributes\":{\"margin\":[5,5,5,5],\"name\":\"HSpacer03328\",\"sizing_mode\":\"stretch_width\"},\"id\":\"2814\",\"type\":\"Spacer\"},{\"attributes\":{\"end\":287.4641201782227,\"reset_end\":287.4641201782227,\"reset_start\":219.4946780395508,\"start\":219.4946780395508,\"tags\":[[[\"value\",\"value\",null]]]},\"id\":\"2544\",\"type\":\"Range1d\"},{\"attributes\":{\"data\":{\"Variable\":[\"Real\",\"Real\",\"Real\",\"Real\",\"Real\",\"Real\",\"Real\",\"Real\",\"Real\",\"Real\",\"Real\",\"Real\",\"Real\",\"Real\",\"Real\",\"Real\",\"Real\",\"Real\",\"Real\",\"Real\",\"Real\",\"Real\",\"Real\",\"Real\",\"Real\",\"Real\",\"Real\",\"Real\",\"Real\",\"Real\",\"Real\",\"Real\",\"Real\",\"Real\",\"Real\",\"Real\",\"Real\",\"Real\",\"Real\",\"Real\",\"Real\",\"Real\"],\"index\":{\"__ndarray__\":\"AAAArcahd0IAAEDevaJ3QgAAAEQQo3dCAADAqWKjd0IAAIAPtaN3QgAAQHUHpHdCAACApv6kd0IAAEAMUaV3QgAAAHKjpXdCAADA1/Wld0IAAIA9SKZ3QgAAgNSRp3dCAABAOuSnd0IAAACgNqh3QgAAwAWJqHdCAAAAN4Cpd0IAAMCc0ql3QgAAgAIlqndCAABAaHeqd0IAAADOyap3QgAAQP/Aq3dCAAAAZROsd0IAAMDKZax3QgAAgDC4rHdCAABAlgqtd0IAAIDHAa53QgAAQC1UrndCAAAAk6aud0IAAMD4+K53QgAAgF5Lr3dCAADAj0Kwd0IAAID1lLB3QgAAQFvnsHdCAAAAwTmxd0IAAMAmjLF3QgAAAFiDsndCAADAvdWyd0IAAIAjKLN3QgAAQIl6s3dCAAAA78yzd0IAAEAgxLR3QgAAAIYWtXdC\",\"dtype\":\"float64\",\"shape\":[42]},\"value\":{\"__ndarray__\":\"PArXo3ClbUCF61G4Hj1tQJDC9Shcf21ArkfhehTWbUApXI/C9YhuQEjhehSuB25AMzMzMzPTbkBbj8L1KBxvQEjhehSud25AIIXrUbg+bkA0MzMzMyNuQOF6FK5H2W5AFK5H4XqUbkB7FK5H4XptQMzMzMzMPG5AKFyPwvVobkD2KFyPwi1uQNejcD0K321AhetRuB5lbUBSuB6F67FtQK5H4XoUNm1A4noUrkfRbkAAAAAAABRwQJqZmZmZSXBAhetRuB6BcEDNzMzMzGBwQI7C9Shcd29A7FG4HoUncEBxPQrXo+hvQKNwPQrX425AZmZmZmYGcUAAAAAAANhwQDMzMzMzp3BAzczMzMyccUDXo3A9CjFxQI/C9Shce3FAexSuR+EOcUBcj8L1KPBwQIXrUbgeyXBA16NwPQq/cEBI4XoUrndwQArXo3A9TnBA\",\"dtype\":\"float64\",\"shape\":[42]}},\"selected\":{\"id\":\"2582\"},\"selection_policy\":{\"id\":\"2636\"}},\"id\":\"2581\",\"type\":\"ColumnDataSource\"}],\"root_ids\":[\"2541\"]},\"title\":\"Bokeh Application\",\"version\":\"2.0.2\"}};\n  var render_items = [{\"docid\":\"0a721c67-3a7b-44aa-85cb-a13227e519e0\",\"root_ids\":[\"2541\"],\"roots\":{\"2541\":\"ffa58b5c-fbed-408d-9f00-b4d8f33d6653\"}}];\n  root.Bokeh.embed.embed_items_notebook(docs_json, render_items);\n  }\nif (root.Bokeh !== undefined) {\n    embed_document(root);\n  } else {\n    var attempts = 0;\n    var timer = setInterval(function(root) {\n      if (root.Bokeh !== undefined) {\n        clearInterval(timer);\n        embed_document(root);\n      } else if (document.readyState == \"complete\") {\n        attempts++;\n        if (attempts > 100) {\n          clearInterval(timer);\n          console.log(\"Bokeh: ERROR: Unable to run BokehJS code because BokehJS library is missing\");\n        }\n      }\n    }, 10, root)\n  }\n})(window);</script>",
      "text/plain": ":NdOverlay   [Variable]\n   :Curve   [index]   (value)"
     },
     "execution_count": 70,
     "metadata": {
      "application/vnd.holoviews_exec.v0+json": {
       "id": "2541"
      }
     },
     "output_type": "execute_result"
    }
   ],
   "source": [
    "stocks.hvplot.line()#(label = \"Predicting Apple's Close with the S&P500 Close - (6Day Window)\", xlabel=\"Date\", ylabel=\"Price\")"
   ]
  },
  {
   "cell_type": "code",
   "execution_count": null,
   "metadata": {},
   "outputs": [],
   "source": []
  }
 ],
 "metadata": {
  "kernelspec": {
   "display_name": "Python 3.8.5 64-bit ('base': conda)",
   "metadata": {
    "interpreter": {
     "hash": "11ef2bb442b8455a3e6b82f3202efe5c7a01a00a0939705f79f87b65f8f45715"
    }
   },
   "name": "python3"
  },
  "language_info": {
   "codemirror_mode": {
    "name": "ipython",
    "version": 3
   },
   "file_extension": ".py",
   "mimetype": "text/x-python",
   "name": "python",
   "nbconvert_exporter": "python",
   "pygments_lexer": "ipython3",
   "version": "3.8.5"
  },
  "orig_nbformat": 2
 },
 "nbformat": 4,
 "nbformat_minor": 2
}