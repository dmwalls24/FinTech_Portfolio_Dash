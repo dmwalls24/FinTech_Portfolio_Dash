{
 "cells": [
  {
   "cell_type": "markdown",
   "id": "34b50126-d68b-476c-a48a-a90a0addc37d",
   "metadata": {},
   "source": [
    "window = 100\n",
    "epoch = 20\n",
    "batch = 100\n",
    "dropout = .02"
   ]
  },
  {
   "cell_type": "code",
   "execution_count": 1,
   "id": "9bd3e200-7872-44f6-9253-2bf18300aea5",
   "metadata": {},
   "outputs": [],
   "source": [
    "import os\n",
    "import numpy as np\n",
    "import pandas as pd\n",
    "import matplotlib.pyplot as plt\n",
    "import alpaca_trade_api as tradeapi\n",
    "from pathlib import Path\n",
    "import requests\n",
    "\n",
    "%matplotlib inline"
   ]
  },
  {
   "cell_type": "code",
   "execution_count": 2,
   "id": "1b011e02-1faf-4f8e-b5a5-df3ad579cb03",
   "metadata": {},
   "outputs": [
    {
     "name": "stdout",
     "output_type": "stream",
     "text": [
      "/Users/josephbarry/Desktop/FinTech_Class/3rd_Project/FinTech_Portfolio_Dash/JGB_Notebook\n"
     ]
    }
   ],
   "source": [
    "!pwd"
   ]
  },
  {
   "cell_type": "code",
   "execution_count": 3,
   "id": "b4c95e9c-54f0-4fb0-aebd-557ded9b6c72",
   "metadata": {},
   "outputs": [
    {
     "data": {
      "text/html": [
       "<div>\n",
       "<style scoped>\n",
       "    .dataframe tbody tr th:only-of-type {\n",
       "        vertical-align: middle;\n",
       "    }\n",
       "\n",
       "    .dataframe tbody tr th {\n",
       "        vertical-align: top;\n",
       "    }\n",
       "\n",
       "    .dataframe thead th {\n",
       "        text-align: right;\n",
       "    }\n",
       "</style>\n",
       "<table border=\"1\" class=\"dataframe\">\n",
       "  <thead>\n",
       "    <tr style=\"text-align: right;\">\n",
       "      <th></th>\n",
       "      <th>Open</th>\n",
       "      <th>High</th>\n",
       "      <th>Low</th>\n",
       "      <th>Close</th>\n",
       "      <th>Adj Close</th>\n",
       "      <th>Volume</th>\n",
       "    </tr>\n",
       "    <tr>\n",
       "      <th>Date</th>\n",
       "      <th></th>\n",
       "      <th></th>\n",
       "      <th></th>\n",
       "      <th></th>\n",
       "      <th></th>\n",
       "      <th></th>\n",
       "    </tr>\n",
       "  </thead>\n",
       "  <tbody>\n",
       "    <tr>\n",
       "      <th>2011-08-16</th>\n",
       "      <td>3.3050</td>\n",
       "      <td>3.3500</td>\n",
       "      <td>3.1875</td>\n",
       "      <td>3.2475</td>\n",
       "      <td>2.984078</td>\n",
       "      <td>71686800</td>\n",
       "    </tr>\n",
       "    <tr>\n",
       "      <th>2011-08-17</th>\n",
       "      <td>3.2575</td>\n",
       "      <td>3.3125</td>\n",
       "      <td>3.1600</td>\n",
       "      <td>3.2025</td>\n",
       "      <td>2.942729</td>\n",
       "      <td>55332800</td>\n",
       "    </tr>\n",
       "    <tr>\n",
       "      <th>2011-08-18</th>\n",
       "      <td>3.0575</td>\n",
       "      <td>3.0875</td>\n",
       "      <td>2.9500</td>\n",
       "      <td>2.9850</td>\n",
       "      <td>2.742872</td>\n",
       "      <td>80256400</td>\n",
       "    </tr>\n",
       "    <tr>\n",
       "      <th>2011-08-19</th>\n",
       "      <td>2.9350</td>\n",
       "      <td>3.0975</td>\n",
       "      <td>2.9125</td>\n",
       "      <td>2.9325</td>\n",
       "      <td>2.694630</td>\n",
       "      <td>76133200</td>\n",
       "    </tr>\n",
       "    <tr>\n",
       "      <th>2011-08-22</th>\n",
       "      <td>3.0150</td>\n",
       "      <td>3.0500</td>\n",
       "      <td>2.9525</td>\n",
       "      <td>2.9850</td>\n",
       "      <td>2.742872</td>\n",
       "      <td>61187600</td>\n",
       "    </tr>\n",
       "  </tbody>\n",
       "</table>\n",
       "</div>"
      ],
      "text/plain": [
       "              Open    High     Low   Close  Adj Close    Volume\n",
       "Date                                                           \n",
       "2011-08-16  3.3050  3.3500  3.1875  3.2475   2.984078  71686800\n",
       "2011-08-17  3.2575  3.3125  3.1600  3.2025   2.942729  55332800\n",
       "2011-08-18  3.0575  3.0875  2.9500  2.9850   2.742872  80256400\n",
       "2011-08-19  2.9350  3.0975  2.9125  2.9325   2.694630  76133200\n",
       "2011-08-22  3.0150  3.0500  2.9525  2.9850   2.742872  61187600"
      ]
     },
     "execution_count": 3,
     "metadata": {},
     "output_type": "execute_result"
    }
   ],
   "source": [
    "csvpath = Path(\"NVDA.csv\")\n",
    "\n",
    "df = pd.read_csv(csvpath, index_col='Date', infer_datetime_format=True, parse_dates=True)\n",
    "df.head()"
   ]
  },
  {
   "cell_type": "code",
   "execution_count": 4,
   "id": "1e157221-4c40-49ed-b20b-8b837ea84679",
   "metadata": {},
   "outputs": [
    {
     "data": {
      "text/html": [
       "<div>\n",
       "<style scoped>\n",
       "    .dataframe tbody tr th:only-of-type {\n",
       "        vertical-align: middle;\n",
       "    }\n",
       "\n",
       "    .dataframe tbody tr th {\n",
       "        vertical-align: top;\n",
       "    }\n",
       "\n",
       "    .dataframe thead th {\n",
       "        text-align: right;\n",
       "    }\n",
       "</style>\n",
       "<table border=\"1\" class=\"dataframe\">\n",
       "  <thead>\n",
       "    <tr style=\"text-align: right;\">\n",
       "      <th></th>\n",
       "      <th>Close</th>\n",
       "    </tr>\n",
       "    <tr>\n",
       "      <th>Date</th>\n",
       "      <th></th>\n",
       "    </tr>\n",
       "  </thead>\n",
       "  <tbody>\n",
       "    <tr>\n",
       "      <th>2011-08-16</th>\n",
       "      <td>3.247500</td>\n",
       "    </tr>\n",
       "    <tr>\n",
       "      <th>2011-08-17</th>\n",
       "      <td>3.202500</td>\n",
       "    </tr>\n",
       "    <tr>\n",
       "      <th>2011-08-18</th>\n",
       "      <td>2.985000</td>\n",
       "    </tr>\n",
       "    <tr>\n",
       "      <th>2011-08-19</th>\n",
       "      <td>2.932500</td>\n",
       "    </tr>\n",
       "    <tr>\n",
       "      <th>2011-08-22</th>\n",
       "      <td>2.985000</td>\n",
       "    </tr>\n",
       "    <tr>\n",
       "      <th>...</th>\n",
       "      <td>...</td>\n",
       "    </tr>\n",
       "    <tr>\n",
       "      <th>2021-08-09</th>\n",
       "      <td>202.949997</td>\n",
       "    </tr>\n",
       "    <tr>\n",
       "      <th>2021-08-10</th>\n",
       "      <td>199.360001</td>\n",
       "    </tr>\n",
       "    <tr>\n",
       "      <th>2021-08-11</th>\n",
       "      <td>196.990005</td>\n",
       "    </tr>\n",
       "    <tr>\n",
       "      <th>2021-08-12</th>\n",
       "      <td>199.050003</td>\n",
       "    </tr>\n",
       "    <tr>\n",
       "      <th>2021-08-13</th>\n",
       "      <td>201.880005</td>\n",
       "    </tr>\n",
       "  </tbody>\n",
       "</table>\n",
       "<p>2516 rows × 1 columns</p>\n",
       "</div>"
      ],
      "text/plain": [
       "                 Close\n",
       "Date                  \n",
       "2011-08-16    3.247500\n",
       "2011-08-17    3.202500\n",
       "2011-08-18    2.985000\n",
       "2011-08-19    2.932500\n",
       "2011-08-22    2.985000\n",
       "...                ...\n",
       "2021-08-09  202.949997\n",
       "2021-08-10  199.360001\n",
       "2021-08-11  196.990005\n",
       "2021-08-12  199.050003\n",
       "2021-08-13  201.880005\n",
       "\n",
       "[2516 rows x 1 columns]"
      ]
     },
     "execution_count": 4,
     "metadata": {},
     "output_type": "execute_result"
    }
   ],
   "source": [
    "df = df[['Close']]\n",
    "df"
   ]
  },
  {
   "cell_type": "code",
   "execution_count": 5,
   "id": "ab040008-7f46-4dd5-9f3e-be5a1fb4ed78",
   "metadata": {},
   "outputs": [],
   "source": [
    "def window_data(df, window, feature_col_number, target_col_number):\n",
    "    X = []\n",
    "    y = []\n",
    "    for i in range(len(df) - window- 1):\n",
    "        features = df.iloc[i : (i + window), feature_col_number]\n",
    "        target = df.iloc[(i + window), target_col_number]\n",
    "        X.append(features)\n",
    "        y.append(target)\n",
    "    return np.array(X), np.array(y).reshape(-1, 1)"
   ]
  },
  {
   "cell_type": "code",
   "execution_count": 6,
   "id": "5ba0b2c2-ae73-43ea-864b-4836c6aa1e25",
   "metadata": {},
   "outputs": [
    {
     "name": "stdout",
     "output_type": "stream",
     "text": [
      "X sample values:\n",
      "[[3.2475 3.2025 2.985  2.9325 2.985  3.3075 3.26   3.12   3.2525 3.34\n",
      "  3.42   3.3275 3.32   3.23   3.295  3.5625 3.545  3.47   3.5525 3.6325\n",
      "  3.82   3.875  3.865  3.785  3.6875 3.6175 3.3775 3.4475 3.455  3.46\n",
      "  3.355  3.2725 3.1275 2.9525 3.225  3.34   3.4725 3.5375 3.695  3.655\n",
      "  3.6525 3.865  3.93   3.735  3.87   3.7925 3.6025 3.62   3.755  3.6125\n",
      "  3.655  3.8125 3.9    3.7    3.515  3.455  3.6625 3.705  3.685  3.77\n",
      "  3.58   3.6175 3.745  3.6725 3.72   3.645  3.515  3.4825 3.6575 3.77\n",
      "  3.61   3.51   3.7075 3.7275 3.9075 3.955  3.93   3.87   3.815  3.7925\n",
      "  3.6725 3.725  3.6325 3.5325 3.395  3.365  3.3775 3.29   3.475  3.43\n",
      "  3.5775 3.5425 3.515  3.4275 3.4925 3.465  3.51   3.55   3.6775 3.635 ]\n",
      " [3.2025 2.985  2.9325 2.985  3.3075 3.26   3.12   3.2525 3.34   3.42\n",
      "  3.3275 3.32   3.23   3.295  3.5625 3.545  3.47   3.5525 3.6325 3.82\n",
      "  3.875  3.865  3.785  3.6875 3.6175 3.3775 3.4475 3.455  3.46   3.355\n",
      "  3.2725 3.1275 2.9525 3.225  3.34   3.4725 3.5375 3.695  3.655  3.6525\n",
      "  3.865  3.93   3.735  3.87   3.7925 3.6025 3.62   3.755  3.6125 3.655\n",
      "  3.8125 3.9    3.7    3.515  3.455  3.6625 3.705  3.685  3.77   3.58\n",
      "  3.6175 3.745  3.6725 3.72   3.645  3.515  3.4825 3.6575 3.77   3.61\n",
      "  3.51   3.7075 3.7275 3.9075 3.955  3.93   3.87   3.815  3.7925 3.6725\n",
      "  3.725  3.6325 3.5325 3.395  3.365  3.3775 3.29   3.475  3.43   3.5775\n",
      "  3.5425 3.515  3.4275 3.4925 3.465  3.51   3.55   3.6775 3.635  3.635 ]\n",
      " [2.985  2.9325 2.985  3.3075 3.26   3.12   3.2525 3.34   3.42   3.3275\n",
      "  3.32   3.23   3.295  3.5625 3.545  3.47   3.5525 3.6325 3.82   3.875\n",
      "  3.865  3.785  3.6875 3.6175 3.3775 3.4475 3.455  3.46   3.355  3.2725\n",
      "  3.1275 2.9525 3.225  3.34   3.4725 3.5375 3.695  3.655  3.6525 3.865\n",
      "  3.93   3.735  3.87   3.7925 3.6025 3.62   3.755  3.6125 3.655  3.8125\n",
      "  3.9    3.7    3.515  3.455  3.6625 3.705  3.685  3.77   3.58   3.6175\n",
      "  3.745  3.6725 3.72   3.645  3.515  3.4825 3.6575 3.77   3.61   3.51\n",
      "  3.7075 3.7275 3.9075 3.955  3.93   3.87   3.815  3.7925 3.6725 3.725\n",
      "  3.6325 3.5325 3.395  3.365  3.3775 3.29   3.475  3.43   3.5775 3.5425\n",
      "  3.515  3.4275 3.4925 3.465  3.51   3.55   3.6775 3.635  3.635  3.62  ]] \n",
      "\n",
      "y sample values:\n",
      "[[3.635 ]\n",
      " [3.62  ]\n",
      " [3.5475]]\n"
     ]
    }
   ],
   "source": [
    "window_size = 100\n",
    "feature_column = 0 # why 0?\n",
    "target_column = 0 # Why 0?\n",
    "\n",
    "X, y = window_data(df, window_size, feature_column, target_column)\n",
    "\n",
    "print (f\"X sample values:\\n{X[:3]} \\n\")\n",
    "print (f\"y sample values:\\n{y[:3]}\")"
   ]
  },
  {
   "cell_type": "code",
   "execution_count": 7,
   "id": "436bb165-bc49-4601-bc70-9707571ee576",
   "metadata": {},
   "outputs": [],
   "source": [
    "split = int(0.6 * len(X))\n",
    "\n",
    "X_train = X[: split]\n",
    "X_test = X[split:]\n",
    "\n",
    "y_train = y[: split]\n",
    "y_test = y[split:]"
   ]
  },
  {
   "cell_type": "code",
   "execution_count": 8,
   "id": "53348636-b9fe-428d-a8ec-158ac0601c29",
   "metadata": {},
   "outputs": [],
   "source": [
    "# Importing the MinMaxScaler from sklearn\n",
    "from sklearn.preprocessing import MinMaxScaler\n",
    "\n",
    "x_train_scaler = MinMaxScaler()\n",
    "#x_test_scaler = MinMaxScaler()\n",
    "y_train_scaler = MinMaxScaler()\n",
    "#y_test_scaler = MinMaxScaler()\n",
    "\n",
    "# Fit the scaler for the training Data\n",
    "x_train_scaler.fit(X_train)\n",
    "y_train_scaler.fit(y_train)\n",
    "\n",
    "# Scale the training data\n",
    "X_train = x_train_scaler.transform(X_train)\n",
    "y_train = y_train_scaler.transform(y_train)\n",
    "\n",
    "# Fit the scaler for the testing Data\n",
    "#x_test_scaler.fit(X_test)\n",
    "#y_test_scaler.fit(y_test)\n",
    "\n",
    "# Scale the y_test data\n",
    "X_test = x_train_scaler.transform(X_test)\n",
    "y_test = y_train_scaler.transform(y_test)"
   ]
  },
  {
   "cell_type": "code",
   "execution_count": 9,
   "id": "b63375fa-983c-402c-915a-942f4319c1d9",
   "metadata": {},
   "outputs": [],
   "source": [
    "# Reshape the features data\n",
    "X_train = X_train.reshape((X_train.shape[0], X_train.shape[1], 1))\n",
    "X_test = X_test.reshape((X_test.shape[0], X_test.shape[1], 1))"
   ]
  },
  {
   "cell_type": "code",
   "execution_count": 10,
   "id": "ee1e6032-99d2-4b08-ac4e-27c3bbb6fe42",
   "metadata": {},
   "outputs": [],
   "source": [
    "# Importing required Keras modules\n",
    "from tensorflow.keras.models import Sequential\n",
    "from tensorflow.keras.layers import LSTM, Dense, Dropout"
   ]
  },
  {
   "cell_type": "code",
   "execution_count": 11,
   "id": "14c509a8-8c48-4672-8d0d-e31f2340496d",
   "metadata": {},
   "outputs": [],
   "source": [
    "# Define the LSTM RNN model.\n",
    "model = Sequential()\n",
    "\n",
    "# Initial model setup\n",
    "number_units = window_size\n",
    "# 20% of neurons to be dropped out\n",
    "dropout_fraction = 0.2\n",
    "\n",
    "# Layer 1\n",
    "model.add(LSTM(\n",
    "    units=number_units,\n",
    "    return_sequences=True,\n",
    "    input_shape=(X_train.shape[1], 1))\n",
    "    )\n",
    "model.add(Dropout(dropout_fraction))\n",
    "\n",
    "# Layer 2\n",
    "model.add(LSTM(units=number_units, return_sequences=True))\n",
    "model.add(Dropout(dropout_fraction))\n",
    "\n",
    "# Layer 3\n",
    "model.add(LSTM(units=number_units))\n",
    "model.add(Dropout(dropout_fraction))\n",
    "\n",
    "# Output layer\n",
    "model.add(Dense(1))"
   ]
  },
  {
   "cell_type": "code",
   "execution_count": 12,
   "id": "ca3ad31e-350c-4509-9079-ab40c7c47e1b",
   "metadata": {},
   "outputs": [
    {
     "name": "stdout",
     "output_type": "stream",
     "text": [
      "Model: \"sequential\"\n",
      "_________________________________________________________________\n",
      "Layer (type)                 Output Shape              Param #   \n",
      "=================================================================\n",
      "lstm (LSTM)                  (None, 100, 100)          40800     \n",
      "_________________________________________________________________\n",
      "dropout (Dropout)            (None, 100, 100)          0         \n",
      "_________________________________________________________________\n",
      "lstm_1 (LSTM)                (None, 100, 100)          80400     \n",
      "_________________________________________________________________\n",
      "dropout_1 (Dropout)          (None, 100, 100)          0         \n",
      "_________________________________________________________________\n",
      "lstm_2 (LSTM)                (None, 100)               80400     \n",
      "_________________________________________________________________\n",
      "dropout_2 (Dropout)          (None, 100)               0         \n",
      "_________________________________________________________________\n",
      "dense (Dense)                (None, 1)                 101       \n",
      "=================================================================\n",
      "Total params: 201,701\n",
      "Trainable params: 201,701\n",
      "Non-trainable params: 0\n",
      "_________________________________________________________________\n"
     ]
    }
   ],
   "source": [
    "model.compile(optimizer=\"adam\", loss=\"mean_squared_error\")\n",
    "model.summary()"
   ]
  },
  {
   "cell_type": "code",
   "execution_count": 13,
   "id": "98d4d8b6-5051-4f5c-a404-9411c3990ee5",
   "metadata": {},
   "outputs": [
    {
     "name": "stdout",
     "output_type": "stream",
     "text": [
      "Epoch 1/20\n",
      "15/15 [==============================] - 1s 66ms/step - loss: 0.0010\n",
      "Epoch 2/20\n",
      "15/15 [==============================] - 1s 65ms/step - loss: 0.0173\n",
      "Epoch 3/20\n",
      "15/15 [==============================] - 1s 65ms/step - loss: 0.0079\n",
      "Epoch 4/20\n",
      "15/15 [==============================] - 1s 64ms/step - loss: 0.0133\n",
      "Epoch 5/20\n",
      "15/15 [==============================] - 1s 65ms/step - loss: 0.0204\n",
      "Epoch 6/20\n",
      "15/15 [==============================] - 1s 64ms/step - loss: 0.0109\n",
      "Epoch 7/20\n",
      "15/15 [==============================] - 1s 64ms/step - loss: 0.0448\n",
      "Epoch 8/20\n",
      "15/15 [==============================] - 1s 64ms/step - loss: 0.0243\n",
      "Epoch 9/20\n",
      "15/15 [==============================] - 1s 65ms/step - loss: 0.0262\n",
      "Epoch 10/20\n",
      "15/15 [==============================] - 1s 65ms/step - loss: 0.0101\n",
      "Epoch 11/20\n",
      "15/15 [==============================] - 1s 65ms/step - loss: 0.0136\n",
      "Epoch 12/20\n",
      "15/15 [==============================] - 1s 66ms/step - loss: 0.0031\n",
      "Epoch 13/20\n",
      "15/15 [==============================] - 1s 64ms/step - loss: 0.0108\n",
      "Epoch 14/20\n",
      "15/15 [==============================] - 1s 65ms/step - loss: 0.0158\n",
      "Epoch 15/20\n",
      "15/15 [==============================] - 1s 64ms/step - loss: 0.0074\n",
      "Epoch 16/20\n",
      "15/15 [==============================] - 1s 64ms/step - loss: 0.0093\n",
      "Epoch 17/20\n",
      "15/15 [==============================] - 1s 64ms/step - loss: 0.0055\n",
      "Epoch 18/20\n",
      "15/15 [==============================] - 1s 66ms/step - loss: 0.0057\n",
      "Epoch 19/20\n",
      "15/15 [==============================] - 1s 70ms/step - loss: 0.0038\n",
      "Epoch 20/20\n",
      "15/15 [==============================] - 1s 73ms/step - loss: 0.0046\n"
     ]
    },
    {
     "data": {
      "text/plain": [
       "<tensorflow.python.keras.callbacks.History at 0x159dc4850>"
      ]
     },
     "execution_count": 13,
     "metadata": {},
     "output_type": "execute_result"
    }
   ],
   "source": [
    "model.fit(X_train, y_train, epochs=20, shuffle=False, batch_size=100, verbose=1)"
   ]
  },
  {
   "cell_type": "code",
   "execution_count": 14,
   "id": "77811ad8-d192-4377-806b-50c93b926e23",
   "metadata": {},
   "outputs": [
    {
     "data": {
      "text/plain": [
       "1.188315987586975"
      ]
     },
     "execution_count": 14,
     "metadata": {},
     "output_type": "execute_result"
    }
   ],
   "source": [
    "model.evaluate(X_test, y_test, verbose=0)"
   ]
  },
  {
   "cell_type": "code",
   "execution_count": 15,
   "id": "1e19dbdb-be46-4de7-9990-81817a2d20ec",
   "metadata": {},
   "outputs": [],
   "source": [
    "predicted = model.predict(X_test)"
   ]
  },
  {
   "cell_type": "code",
   "execution_count": 16,
   "id": "0352cee8-4b2e-472e-901a-4ccbe0dde4a1",
   "metadata": {},
   "outputs": [],
   "source": [
    "predicted_prices = y_train_scaler.inverse_transform(predicted)"
   ]
  },
  {
   "cell_type": "code",
   "execution_count": 17,
   "id": "0efe296d-4fdc-473e-9cfd-4009b7deb178",
   "metadata": {},
   "outputs": [],
   "source": [
    "real_prices = y_train_scaler.inverse_transform(y_test.reshape(-1,1))"
   ]
  },
  {
   "cell_type": "code",
   "execution_count": 18,
   "id": "ca32f9db-ed61-45f8-bb0c-060c825f762e",
   "metadata": {},
   "outputs": [
    {
     "data": {
      "text/html": [
       "<div>\n",
       "<style scoped>\n",
       "    .dataframe tbody tr th:only-of-type {\n",
       "        vertical-align: middle;\n",
       "    }\n",
       "\n",
       "    .dataframe tbody tr th {\n",
       "        vertical-align: top;\n",
       "    }\n",
       "\n",
       "    .dataframe thead th {\n",
       "        text-align: right;\n",
       "    }\n",
       "</style>\n",
       "<table border=\"1\" class=\"dataframe\">\n",
       "  <thead>\n",
       "    <tr style=\"text-align: right;\">\n",
       "      <th></th>\n",
       "      <th>Actual</th>\n",
       "      <th>Predicted</th>\n",
       "    </tr>\n",
       "    <tr>\n",
       "      <th>Date</th>\n",
       "      <th></th>\n",
       "      <th></th>\n",
       "    </tr>\n",
       "  </thead>\n",
       "  <tbody>\n",
       "    <tr>\n",
       "      <th>2017-10-12</th>\n",
       "      <td>47.735001</td>\n",
       "      <td>32.126762</td>\n",
       "    </tr>\n",
       "    <tr>\n",
       "      <th>2017-10-13</th>\n",
       "      <td>47.757500</td>\n",
       "      <td>32.236282</td>\n",
       "    </tr>\n",
       "    <tr>\n",
       "      <th>2017-10-16</th>\n",
       "      <td>48.647499</td>\n",
       "      <td>32.373203</td>\n",
       "    </tr>\n",
       "    <tr>\n",
       "      <th>2017-10-17</th>\n",
       "      <td>49.482498</td>\n",
       "      <td>32.537788</td>\n",
       "    </tr>\n",
       "    <tr>\n",
       "      <th>2017-10-18</th>\n",
       "      <td>49.437500</td>\n",
       "      <td>32.731289</td>\n",
       "    </tr>\n",
       "  </tbody>\n",
       "</table>\n",
       "</div>"
      ],
      "text/plain": [
       "               Actual  Predicted\n",
       "Date                            \n",
       "2017-10-12  47.735001  32.126762\n",
       "2017-10-13  47.757500  32.236282\n",
       "2017-10-16  48.647499  32.373203\n",
       "2017-10-17  49.482498  32.537788\n",
       "2017-10-18  49.437500  32.731289"
      ]
     },
     "execution_count": 18,
     "metadata": {},
     "output_type": "execute_result"
    }
   ],
   "source": [
    "actual_predicted = pd.DataFrame({\n",
    "    \"Actual\": real_prices.ravel(),\n",
    "    \"Predicted\": predicted_prices.ravel()\n",
    "}, index = df.index[-len(real_prices): ]) \n",
    "\n",
    "# Show the DataFrame's head\n",
    "actual_predicted.head()"
   ]
  },
  {
   "cell_type": "code",
   "execution_count": 19,
   "id": "6cd66749-d0bf-4790-b7ae-b96c207c3ecd",
   "metadata": {},
   "outputs": [
    {
     "data": {
      "text/html": [
       "<div>\n",
       "<style scoped>\n",
       "    .dataframe tbody tr th:only-of-type {\n",
       "        vertical-align: middle;\n",
       "    }\n",
       "\n",
       "    .dataframe tbody tr th {\n",
       "        vertical-align: top;\n",
       "    }\n",
       "\n",
       "    .dataframe thead th {\n",
       "        text-align: right;\n",
       "    }\n",
       "</style>\n",
       "<table border=\"1\" class=\"dataframe\">\n",
       "  <thead>\n",
       "    <tr style=\"text-align: right;\">\n",
       "      <th></th>\n",
       "      <th>Actual</th>\n",
       "      <th>Predicted</th>\n",
       "    </tr>\n",
       "    <tr>\n",
       "      <th>Date</th>\n",
       "      <th></th>\n",
       "      <th></th>\n",
       "    </tr>\n",
       "  </thead>\n",
       "  <tbody>\n",
       "    <tr>\n",
       "      <th>2021-08-09</th>\n",
       "      <td>203.660004</td>\n",
       "      <td>69.285728</td>\n",
       "    </tr>\n",
       "    <tr>\n",
       "      <th>2021-08-10</th>\n",
       "      <td>202.949997</td>\n",
       "      <td>69.363319</td>\n",
       "    </tr>\n",
       "    <tr>\n",
       "      <th>2021-08-11</th>\n",
       "      <td>199.360001</td>\n",
       "      <td>69.440613</td>\n",
       "    </tr>\n",
       "    <tr>\n",
       "      <th>2021-08-12</th>\n",
       "      <td>196.990005</td>\n",
       "      <td>69.504913</td>\n",
       "    </tr>\n",
       "    <tr>\n",
       "      <th>2021-08-13</th>\n",
       "      <td>199.050003</td>\n",
       "      <td>69.548546</td>\n",
       "    </tr>\n",
       "  </tbody>\n",
       "</table>\n",
       "</div>"
      ],
      "text/plain": [
       "                Actual  Predicted\n",
       "Date                             \n",
       "2021-08-09  203.660004  69.285728\n",
       "2021-08-10  202.949997  69.363319\n",
       "2021-08-11  199.360001  69.440613\n",
       "2021-08-12  196.990005  69.504913\n",
       "2021-08-13  199.050003  69.548546"
      ]
     },
     "execution_count": 19,
     "metadata": {},
     "output_type": "execute_result"
    }
   ],
   "source": [
    "actual_predicted.tail()"
   ]
  },
  {
   "cell_type": "code",
   "execution_count": 20,
   "id": "59043743-2a57-4c2c-aed1-2456d772d312",
   "metadata": {},
   "outputs": [
    {
     "data": {
      "image/png": "[encoded data removed]",
      "text/plain": [
       "<Figure size 1440x720 with 1 Axes>"
      ]
     },
     "metadata": {
      "needs_background": "light"
     },
     "output_type": "display_data"
    }
   ],
   "source": [
    "actual_predicted.plot(figsize=(20,10))\n",
    "plt.title('$(Stock) Stock Price Actual and Predicted (10/12/2017 - 08/13/2021)')\n",
    "plt.xlabel('Year')\n",
    "plt.ylabel('Stock Price per Share (in USD)')\n",
    "plt.legend(loc=\"best\")\n",
    "plt.show()"
   ]
  },
  {
   "cell_type": "code",
   "execution_count": null,
   "id": "c9f3b869-bc70-4bb1-a214-cca9a5aefaf9",
   "metadata": {},
   "outputs": [],
   "source": []
  }
 ],
 "metadata": {
  "kernelspec": {
   "display_name": "Python 3",
   "language": "python",
   "name": "python3"
  },
  "language_info": {
   "codemirror_mode": {
    "name": "ipython",
    "version": 3
   },
   "file_extension": ".py",
   "mimetype": "text/x-python",
   "name": "python",
   "nbconvert_exporter": "python",
   "pygments_lexer": "ipython3",
   "version": "3.8.10"
  }
 },
 "nbformat": 4,
 "nbformat_minor": 5
}
