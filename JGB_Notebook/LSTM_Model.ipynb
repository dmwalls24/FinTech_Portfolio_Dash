{
 "cells": [
  {
   "cell_type": "code",
   "execution_count": 1,
   "id": "9bd3e200-7872-44f6-9253-2bf18300aea5",
   "metadata": {},
   "outputs": [],
   "source": [
    "import os\n",
    "import numpy as np\n",
    "import pandas as pd\n",
    "import matplotlib.pyplot as plt\n",
    "import alpaca_trade_api as tradeapi\n",
    "from pathlib import Path\n",
    "import requests\n",
    "\n",
    "%matplotlib inline"
   ]
  },
  {
   "cell_type": "code",
   "execution_count": 2,
   "id": "1b011e02-1faf-4f8e-b5a5-df3ad579cb03",
   "metadata": {},
   "outputs": [
    {
     "name": "stdout",
     "output_type": "stream",
     "text": [
      "/Users/josephbarry/Desktop/FinTech_Class/3rd_Project/FinTech_Portfolio_Dash/JGB_Notebook\n"
     ]
    }
   ],
   "source": [
    "!pwd"
   ]
  },
  {
   "cell_type": "code",
   "execution_count": 3,
   "id": "b4c95e9c-54f0-4fb0-aebd-557ded9b6c72",
   "metadata": {},
   "outputs": [
    {
     "data": {
      "text/html": [
       "<div>\n",
       "<style scoped>\n",
       "    .dataframe tbody tr th:only-of-type {\n",
       "        vertical-align: middle;\n",
       "    }\n",
       "\n",
       "    .dataframe tbody tr th {\n",
       "        vertical-align: top;\n",
       "    }\n",
       "\n",
       "    .dataframe thead th {\n",
       "        text-align: right;\n",
       "    }\n",
       "</style>\n",
       "<table border=\"1\" class=\"dataframe\">\n",
       "  <thead>\n",
       "    <tr style=\"text-align: right;\">\n",
       "      <th></th>\n",
       "      <th>Open</th>\n",
       "      <th>High</th>\n",
       "      <th>Low</th>\n",
       "      <th>Close</th>\n",
       "      <th>Adj Close</th>\n",
       "      <th>Volume</th>\n",
       "    </tr>\n",
       "    <tr>\n",
       "      <th>Date</th>\n",
       "      <th></th>\n",
       "      <th></th>\n",
       "      <th></th>\n",
       "      <th></th>\n",
       "      <th></th>\n",
       "      <th></th>\n",
       "    </tr>\n",
       "  </thead>\n",
       "  <tbody>\n",
       "    <tr>\n",
       "      <th>2011-08-16</th>\n",
       "      <td>6.36</td>\n",
       "      <td>6.43</td>\n",
       "      <td>6.18</td>\n",
       "      <td>6.34</td>\n",
       "      <td>6.34</td>\n",
       "      <td>16355700</td>\n",
       "    </tr>\n",
       "    <tr>\n",
       "      <th>2011-08-17</th>\n",
       "      <td>6.41</td>\n",
       "      <td>6.47</td>\n",
       "      <td>6.08</td>\n",
       "      <td>6.14</td>\n",
       "      <td>6.14</td>\n",
       "      <td>15248500</td>\n",
       "    </tr>\n",
       "    <tr>\n",
       "      <th>2011-08-18</th>\n",
       "      <td>5.90</td>\n",
       "      <td>5.96</td>\n",
       "      <td>5.64</td>\n",
       "      <td>5.79</td>\n",
       "      <td>5.79</td>\n",
       "      <td>27200300</td>\n",
       "    </tr>\n",
       "    <tr>\n",
       "      <th>2011-08-19</th>\n",
       "      <td>5.72</td>\n",
       "      <td>6.09</td>\n",
       "      <td>5.71</td>\n",
       "      <td>5.98</td>\n",
       "      <td>5.98</td>\n",
       "      <td>37995200</td>\n",
       "    </tr>\n",
       "    <tr>\n",
       "      <th>2011-08-22</th>\n",
       "      <td>6.13</td>\n",
       "      <td>6.18</td>\n",
       "      <td>5.95</td>\n",
       "      <td>6.05</td>\n",
       "      <td>6.05</td>\n",
       "      <td>18433500</td>\n",
       "    </tr>\n",
       "  </tbody>\n",
       "</table>\n",
       "</div>"
      ],
      "text/plain": [
       "            Open  High   Low  Close  Adj Close    Volume\n",
       "Date                                                    \n",
       "2011-08-16  6.36  6.43  6.18   6.34       6.34  16355700\n",
       "2011-08-17  6.41  6.47  6.08   6.14       6.14  15248500\n",
       "2011-08-18  5.90  5.96  5.64   5.79       5.79  27200300\n",
       "2011-08-19  5.72  6.09  5.71   5.98       5.98  37995200\n",
       "2011-08-22  6.13  6.18  5.95   6.05       6.05  18433500"
      ]
     },
     "execution_count": 3,
     "metadata": {},
     "output_type": "execute_result"
    }
   ],
   "source": [
    "csvpath = Path(\"AMD.csv\")\n",
    "\n",
    "df = pd.read_csv(csvpath, index_col='Date', infer_datetime_format=True, parse_dates=True)\n",
    "df.head()"
   ]
  },
  {
   "cell_type": "code",
   "execution_count": 4,
   "id": "1e157221-4c40-49ed-b20b-8b837ea84679",
   "metadata": {},
   "outputs": [
    {
     "data": {
      "text/html": [
       "<div>\n",
       "<style scoped>\n",
       "    .dataframe tbody tr th:only-of-type {\n",
       "        vertical-align: middle;\n",
       "    }\n",
       "\n",
       "    .dataframe tbody tr th {\n",
       "        vertical-align: top;\n",
       "    }\n",
       "\n",
       "    .dataframe thead th {\n",
       "        text-align: right;\n",
       "    }\n",
       "</style>\n",
       "<table border=\"1\" class=\"dataframe\">\n",
       "  <thead>\n",
       "    <tr style=\"text-align: right;\">\n",
       "      <th></th>\n",
       "      <th>Close</th>\n",
       "    </tr>\n",
       "    <tr>\n",
       "      <th>Date</th>\n",
       "      <th></th>\n",
       "    </tr>\n",
       "  </thead>\n",
       "  <tbody>\n",
       "    <tr>\n",
       "      <th>2011-08-16</th>\n",
       "      <td>6.340000</td>\n",
       "    </tr>\n",
       "    <tr>\n",
       "      <th>2011-08-17</th>\n",
       "      <td>6.140000</td>\n",
       "    </tr>\n",
       "    <tr>\n",
       "      <th>2011-08-18</th>\n",
       "      <td>5.790000</td>\n",
       "    </tr>\n",
       "    <tr>\n",
       "      <th>2011-08-19</th>\n",
       "      <td>5.980000</td>\n",
       "    </tr>\n",
       "    <tr>\n",
       "      <th>2011-08-22</th>\n",
       "      <td>6.050000</td>\n",
       "    </tr>\n",
       "    <tr>\n",
       "      <th>...</th>\n",
       "      <td>...</td>\n",
       "    </tr>\n",
       "    <tr>\n",
       "      <th>2021-08-09</th>\n",
       "      <td>107.580002</td>\n",
       "    </tr>\n",
       "    <tr>\n",
       "      <th>2021-08-10</th>\n",
       "      <td>106.480003</td>\n",
       "    </tr>\n",
       "    <tr>\n",
       "      <th>2021-08-11</th>\n",
       "      <td>107.680000</td>\n",
       "    </tr>\n",
       "    <tr>\n",
       "      <th>2021-08-12</th>\n",
       "      <td>106.500000</td>\n",
       "    </tr>\n",
       "    <tr>\n",
       "      <th>2021-08-13</th>\n",
       "      <td>110.550003</td>\n",
       "    </tr>\n",
       "  </tbody>\n",
       "</table>\n",
       "<p>2516 rows × 1 columns</p>\n",
       "</div>"
      ],
      "text/plain": [
       "                 Close\n",
       "Date                  \n",
       "2011-08-16    6.340000\n",
       "2011-08-17    6.140000\n",
       "2011-08-18    5.790000\n",
       "2011-08-19    5.980000\n",
       "2011-08-22    6.050000\n",
       "...                ...\n",
       "2021-08-09  107.580002\n",
       "2021-08-10  106.480003\n",
       "2021-08-11  107.680000\n",
       "2021-08-12  106.500000\n",
       "2021-08-13  110.550003\n",
       "\n",
       "[2516 rows x 1 columns]"
      ]
     },
     "execution_count": 4,
     "metadata": {},
     "output_type": "execute_result"
    }
   ],
   "source": [
    "df = df[['Close']]\n",
    "df"
   ]
  },
  {
   "cell_type": "code",
   "execution_count": 5,
   "id": "ab040008-7f46-4dd5-9f3e-be5a1fb4ed78",
   "metadata": {},
   "outputs": [],
   "source": [
    "def window_data(df, window, feature_col_number, target_col_number):\n",
    "    X = []\n",
    "    y = []\n",
    "    for i in range(len(df) - window- 1):\n",
    "        features = df.iloc[i : (i + window), feature_col_number]\n",
    "        target = df.iloc[(i + window), target_col_number]\n",
    "        X.append(features)\n",
    "        y.append(target)\n",
    "    return np.array(X), np.array(y).reshape(-1, 1)"
   ]
  },
  {
   "cell_type": "code",
   "execution_count": 7,
   "id": "5ba0b2c2-ae73-43ea-864b-4836c6aa1e25",
   "metadata": {},
   "outputs": [
    {
     "name": "stdout",
     "output_type": "stream",
     "text": [
      "X sample values:\n",
      "[[6.34 6.14 5.79 5.98 6.05 6.5  6.34 6.37 6.49 6.83 6.84 6.83 6.68 6.32\n",
      "  6.27 6.76 6.81 6.52 6.71 6.96 7.21 7.34 7.2  6.92 6.74 6.48 6.12 6.17\n",
      "  6.4  6.49 6.15 5.31 5.08 4.53 4.72 4.83 4.85 4.73 4.84 4.86 4.93 4.97\n",
      "  4.92 4.67 4.83 4.73 4.54 4.72 5.06 4.91 5.1  5.54 5.94 5.83 5.3  5.46\n",
      "  5.73 5.67 5.68 5.75 5.38 5.66 5.95 5.79 5.76 5.68 5.44 5.47 5.42 5.3\n",
      "  5.05 4.99 5.3  5.32 5.69 5.7  5.65 5.76 5.66 5.72 5.47 5.54 5.3  5.18\n",
      "  5.07 5.04 5.13 4.86 5.19 5.08 5.45 5.41 5.38 5.28 5.34 5.4  5.48 5.46\n",
      "  5.46 5.43]\n",
      " [6.14 5.79 5.98 6.05 6.5  6.34 6.37 6.49 6.83 6.84 6.83 6.68 6.32 6.27\n",
      "  6.76 6.81 6.52 6.71 6.96 7.21 7.34 7.2  6.92 6.74 6.48 6.12 6.17 6.4\n",
      "  6.49 6.15 5.31 5.08 4.53 4.72 4.83 4.85 4.73 4.84 4.86 4.93 4.97 4.92\n",
      "  4.67 4.83 4.73 4.54 4.72 5.06 4.91 5.1  5.54 5.94 5.83 5.3  5.46 5.73\n",
      "  5.67 5.68 5.75 5.38 5.66 5.95 5.79 5.76 5.68 5.44 5.47 5.42 5.3  5.05\n",
      "  4.99 5.3  5.32 5.69 5.7  5.65 5.76 5.66 5.72 5.47 5.54 5.3  5.18 5.07\n",
      "  5.04 5.13 4.86 5.19 5.08 5.45 5.41 5.38 5.28 5.34 5.4  5.48 5.46 5.46\n",
      "  5.43 5.59]\n",
      " [5.79 5.98 6.05 6.5  6.34 6.37 6.49 6.83 6.84 6.83 6.68 6.32 6.27 6.76\n",
      "  6.81 6.52 6.71 6.96 7.21 7.34 7.2  6.92 6.74 6.48 6.12 6.17 6.4  6.49\n",
      "  6.15 5.31 5.08 4.53 4.72 4.83 4.85 4.73 4.84 4.86 4.93 4.97 4.92 4.67\n",
      "  4.83 4.73 4.54 4.72 5.06 4.91 5.1  5.54 5.94 5.83 5.3  5.46 5.73 5.67\n",
      "  5.68 5.75 5.38 5.66 5.95 5.79 5.76 5.68 5.44 5.47 5.42 5.3  5.05 4.99\n",
      "  5.3  5.32 5.69 5.7  5.65 5.76 5.66 5.72 5.47 5.54 5.3  5.18 5.07 5.04\n",
      "  5.13 4.86 5.19 5.08 5.45 5.41 5.38 5.28 5.34 5.4  5.48 5.46 5.46 5.43\n",
      "  5.59 5.71]] \n",
      "\n",
      "y sample values:\n",
      "[[5.59]\n",
      " [5.71]\n",
      " [5.81]]\n"
     ]
    }
   ],
   "source": [
    "window_size = 100\n",
    "feature_column = 0 # why 0?\n",
    "target_column = 0 # Why 0?\n",
    "\n",
    "X, y = window_data(df, window_size, feature_column, target_column)\n",
    "\n",
    "print (f\"X sample values:\\n{X[:3]} \\n\")\n",
    "print (f\"y sample values:\\n{y[:3]}\")"
   ]
  },
  {
   "cell_type": "code",
   "execution_count": 8,
   "id": "436bb165-bc49-4601-bc70-9707571ee576",
   "metadata": {},
   "outputs": [],
   "source": [
    "split = int(0.6 * len(X))\n",
    "\n",
    "X_train = X[: split]\n",
    "X_test = X[split:]\n",
    "\n",
    "y_train = y[: split]\n",
    "y_test = y[split:]"
   ]
  },
  {
   "cell_type": "code",
   "execution_count": 9,
   "id": "53348636-b9fe-428d-a8ec-158ac0601c29",
   "metadata": {},
   "outputs": [],
   "source": [
    "# Importing the MinMaxScaler from sklearn\n",
    "from sklearn.preprocessing import MinMaxScaler\n",
    "\n",
    "x_train_scaler = MinMaxScaler()\n",
    "#x_test_scaler = MinMaxScaler()\n",
    "y_train_scaler = MinMaxScaler()\n",
    "#y_test_scaler = MinMaxScaler()\n",
    "\n",
    "# Fit the scaler for the training Data\n",
    "x_train_scaler.fit(X_train)\n",
    "y_train_scaler.fit(y_train)\n",
    "\n",
    "# Scale the training data\n",
    "X_train = x_train_scaler.transform(X_train)\n",
    "y_train = y_train_scaler.transform(y_train)\n",
    "\n",
    "# Fit the scaler for the testing Data\n",
    "#x_test_scaler.fit(X_test)\n",
    "#y_test_scaler.fit(y_test)\n",
    "\n",
    "# Scale the y_test data\n",
    "X_test = x_train_scaler.transform(X_test)\n",
    "y_test = y_train_scaler.transform(y_test)"
   ]
  },
  {
   "cell_type": "code",
   "execution_count": 10,
   "id": "b63375fa-983c-402c-915a-942f4319c1d9",
   "metadata": {},
   "outputs": [],
   "source": [
    "# Reshape the features data\n",
    "X_train = X_train.reshape((X_train.shape[0], X_train.shape[1], 1))\n",
    "X_test = X_test.reshape((X_test.shape[0], X_test.shape[1], 1))"
   ]
  },
  {
   "cell_type": "code",
   "execution_count": 11,
   "id": "ee1e6032-99d2-4b08-ac4e-27c3bbb6fe42",
   "metadata": {},
   "outputs": [],
   "source": [
    "# Importing required Keras modules\n",
    "from tensorflow.keras.models import Sequential\n",
    "from tensorflow.keras.layers import LSTM, Dense, Dropout"
   ]
  },
  {
   "cell_type": "code",
   "execution_count": 12,
   "id": "14c509a8-8c48-4672-8d0d-e31f2340496d",
   "metadata": {},
   "outputs": [],
   "source": [
    "# Define the LSTM RNN model.\n",
    "model = Sequential()\n",
    "\n",
    "# Initial model setup\n",
    "number_units = window_size\n",
    "# 20% of neurons to be dropped out\n",
    "dropout_fraction = 0.2\n",
    "\n",
    "# Layer 1\n",
    "model.add(LSTM(\n",
    "    units=number_units,\n",
    "    return_sequences=True,\n",
    "    input_shape=(X_train.shape[1], 1))\n",
    "    )\n",
    "model.add(Dropout(dropout_fraction))\n",
    "\n",
    "# Layer 2\n",
    "model.add(LSTM(units=number_units, return_sequences=True))\n",
    "model.add(Dropout(dropout_fraction))\n",
    "\n",
    "# Layer 3\n",
    "model.add(LSTM(units=number_units))\n",
    "model.add(Dropout(dropout_fraction))\n",
    "\n",
    "# Output layer\n",
    "model.add(Dense(1))"
   ]
  },
  {
   "cell_type": "code",
   "execution_count": 13,
   "id": "ca3ad31e-350c-4509-9079-ab40c7c47e1b",
   "metadata": {},
   "outputs": [
    {
     "name": "stdout",
     "output_type": "stream",
     "text": [
      "Model: \"sequential\"\n",
      "_________________________________________________________________\n",
      "Layer (type)                 Output Shape              Param #   \n",
      "=================================================================\n",
      "lstm (LSTM)                  (None, 100, 100)          40800     \n",
      "_________________________________________________________________\n",
      "dropout (Dropout)            (None, 100, 100)          0         \n",
      "_________________________________________________________________\n",
      "lstm_1 (LSTM)                (None, 100, 100)          80400     \n",
      "_________________________________________________________________\n",
      "dropout_1 (Dropout)          (None, 100, 100)          0         \n",
      "_________________________________________________________________\n",
      "lstm_2 (LSTM)                (None, 100)               80400     \n",
      "_________________________________________________________________\n",
      "dropout_2 (Dropout)          (None, 100)               0         \n",
      "_________________________________________________________________\n",
      "dense (Dense)                (None, 1)                 101       \n",
      "=================================================================\n",
      "Total params: 201,701\n",
      "Trainable params: 201,701\n",
      "Non-trainable params: 0\n",
      "_________________________________________________________________\n"
     ]
    }
   ],
   "source": [
    "model.compile(optimizer=\"adam\", loss=\"mean_squared_error\")\n",
    "model.summary()"
   ]
  },
  {
   "cell_type": "code",
   "execution_count": null,
   "id": "98d4d8b6-5051-4f5c-a404-9411c3990ee5",
   "metadata": {},
   "outputs": [
    {
     "name": "stdout",
     "output_type": "stream",
     "text": [
      "Epoch 1/20\n",
      "15/15 [==============================] - 1s 67ms/step - loss: 0.0455\n",
      "Epoch 2/20\n",
      "15/15 [==============================] - 1s 67ms/step - loss: 0.0253\n",
      "Epoch 3/20\n",
      "15/15 [==============================] - 1s 68ms/step - loss: 0.0075\n",
      "Epoch 4/20\n",
      "15/15 [==============================] - 1s 66ms/step - loss: 0.0254\n",
      "Epoch 5/20\n",
      "15/15 [==============================] - 1s 67ms/step - loss: 0.0220\n",
      "Epoch 6/20\n",
      "15/15 [==============================] - 1s 72ms/step - loss: 0.0222\n",
      "Epoch 7/20\n",
      "15/15 [==============================] - 1s 70ms/step - loss: 0.0055\n",
      "Epoch 8/20\n",
      "15/15 [==============================] - 1s 68ms/step - loss: 0.0083\n",
      "Epoch 9/20\n",
      "15/15 [==============================] - 1s 68ms/step - loss: 0.0095\n",
      "Epoch 10/20\n",
      "15/15 [==============================] - 1s 67ms/step - loss: 0.0024\n",
      "Epoch 11/20\n",
      "15/15 [==============================] - 1s 69ms/step - loss: 0.0031\n",
      "Epoch 12/20\n",
      "15/15 [==============================] - 1s 68ms/step - loss: 0.0074\n",
      "Epoch 13/20\n",
      " 7/15 [=============>................] - ETA: 0s - loss: 0.0044"
     ]
    }
   ],
   "source": [
    "model.fit(X_train, y_train, epochs=20, shuffle=False, batch_size=100, verbose=1)"
   ]
  },
  {
   "cell_type": "code",
   "execution_count": null,
   "id": "77811ad8-d192-4377-806b-50c93b926e23",
   "metadata": {},
   "outputs": [],
   "source": [
    "model.evaluate(X_test, y_test, verbose=0)"
   ]
  },
  {
   "cell_type": "code",
   "execution_count": null,
   "id": "1e19dbdb-be46-4de7-9990-81817a2d20ec",
   "metadata": {},
   "outputs": [],
   "source": [
    "predicted = model.predict(X_test)"
   ]
  }
 ],
 "metadata": {
  "kernelspec": {
   "display_name": "Python 3",
   "language": "python",
   "name": "python3"
  },
  "language_info": {
   "codemirror_mode": {
    "name": "ipython",
    "version": 3
   },
   "file_extension": ".py",
   "mimetype": "text/x-python",
   "name": "python",
   "nbconvert_exporter": "python",
   "pygments_lexer": "ipython3",
   "version": "3.8.10"
  }
 },
 "nbformat": 4,
 "nbformat_minor": 5
}
