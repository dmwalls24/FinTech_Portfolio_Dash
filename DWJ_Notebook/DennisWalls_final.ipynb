{
 "cells": [
  {
   "cell_type": "code",
   "execution_count": 1,
   "source": [
    "import matplotlib.pyplot as plt\r\n",
    "import plotly.express as px\r\n",
    "import pandas as pd\r\n",
    "from pathlib import Path\r\n",
    "import os\r\n",
    "from pylab import MaxNLocator\r\n",
    "import requests\r\n",
    "import alpaca_trade_api as tradeapi\r\n",
    "import numpy as np\r\n",
    "import csv\r\n",
    "import hvplot.pandas\r\n",
    "import datetime as dt\r\n",
    "\r\n",
    "%matplotlib inline"
   ],
   "outputs": [
    {
     "output_type": "stream",
     "name": "stderr",
     "text": [
      "\n",
      "Bad key savefig.frameon in file C:\\Users\\dmwal\\anaconda3\\envs\\pyvizenv\\lib\\site-packages\\matplotlib\\mpl-data\\stylelib\\_classic_test.mplstyle, line 421 ('savefig.frameon : True')\n",
      "You probably need to get an updated matplotlibrc file from\n",
      "https://github.com/matplotlib/matplotlib/blob/v3.4.2/matplotlibrc.template\n",
      "or from the matplotlib source distribution\n",
      "\n",
      "Bad key verbose.level in file C:\\Users\\dmwal\\anaconda3\\envs\\pyvizenv\\lib\\site-packages\\matplotlib\\mpl-data\\stylelib\\_classic_test.mplstyle, line 472 ('verbose.level  : silent      # one of silent, helpful, debug, debug-annoying')\n",
      "You probably need to get an updated matplotlibrc file from\n",
      "https://github.com/matplotlib/matplotlib/blob/v3.4.2/matplotlibrc.template\n",
      "or from the matplotlib source distribution\n",
      "\n",
      "Bad key verbose.fileo in file C:\\Users\\dmwal\\anaconda3\\envs\\pyvizenv\\lib\\site-packages\\matplotlib\\mpl-data\\stylelib\\_classic_test.mplstyle, line 473 ('verbose.fileo  : sys.stdout  # a log filename, sys.stdout or sys.stderr')\n",
      "You probably need to get an updated matplotlibrc file from\n",
      "https://github.com/matplotlib/matplotlib/blob/v3.4.2/matplotlibrc.template\n",
      "or from the matplotlib source distribution\n",
      "In C:\\Users\\dmwal\\anaconda3\\envs\\pyvizenv\\lib\\site-packages\\matplotlib\\mpl-data\\stylelib\\_classic_test.mplstyle: \n",
      "The text.latex.preview rcparam was deprecated in Matplotlib 3.3 and will be removed two minor releases later.\n",
      "In C:\\Users\\dmwal\\anaconda3\\envs\\pyvizenv\\lib\\site-packages\\matplotlib\\mpl-data\\stylelib\\_classic_test.mplstyle: \n",
      "The mathtext.fallback_to_cm rcparam was deprecated in Matplotlib 3.3 and will be removed two minor releases later.\n",
      "In C:\\Users\\dmwal\\anaconda3\\envs\\pyvizenv\\lib\\site-packages\\matplotlib\\mpl-data\\stylelib\\_classic_test.mplstyle: Support for setting the 'mathtext.fallback_to_cm' rcParam is deprecated since 3.3 and will be removed two minor releases later; use 'mathtext.fallback : 'cm' instead.\n",
      "In C:\\Users\\dmwal\\anaconda3\\envs\\pyvizenv\\lib\\site-packages\\matplotlib\\mpl-data\\stylelib\\_classic_test.mplstyle: \n",
      "The validate_bool_maybe_none function was deprecated in Matplotlib 3.3 and will be removed two minor releases later.\n",
      "In C:\\Users\\dmwal\\anaconda3\\envs\\pyvizenv\\lib\\site-packages\\matplotlib\\mpl-data\\stylelib\\_classic_test.mplstyle: \n",
      "The savefig.jpeg_quality rcparam was deprecated in Matplotlib 3.3 and will be removed two minor releases later.\n",
      "In C:\\Users\\dmwal\\anaconda3\\envs\\pyvizenv\\lib\\site-packages\\matplotlib\\mpl-data\\stylelib\\_classic_test.mplstyle: \n",
      "The keymap.all_axes rcparam was deprecated in Matplotlib 3.3 and will be removed two minor releases later.\n",
      "In C:\\Users\\dmwal\\anaconda3\\envs\\pyvizenv\\lib\\site-packages\\matplotlib\\mpl-data\\stylelib\\_classic_test.mplstyle: \n",
      "The animation.avconv_path rcparam was deprecated in Matplotlib 3.3 and will be removed two minor releases later.\n",
      "In C:\\Users\\dmwal\\anaconda3\\envs\\pyvizenv\\lib\\site-packages\\matplotlib\\mpl-data\\stylelib\\_classic_test.mplstyle: \n",
      "The animation.avconv_args rcparam was deprecated in Matplotlib 3.3 and will be removed two minor releases later.\n"
     ]
    },
    {
     "output_type": "error",
     "ename": "ModuleNotFoundError",
     "evalue": "No module named 'alpaca_trade_api'",
     "traceback": [
      "\u001b[1;31m---------------------------------------------------------------------------\u001b[0m",
      "\u001b[1;31mModuleNotFoundError\u001b[0m                       Traceback (most recent call last)",
      "\u001b[1;32m<ipython-input-1-5d460b1ba418>\u001b[0m in \u001b[0;36m<module>\u001b[1;34m\u001b[0m\n\u001b[0;32m      6\u001b[0m \u001b[1;32mfrom\u001b[0m \u001b[0mpylab\u001b[0m \u001b[1;32mimport\u001b[0m \u001b[0mMaxNLocator\u001b[0m\u001b[1;33m\u001b[0m\u001b[1;33m\u001b[0m\u001b[0m\n\u001b[0;32m      7\u001b[0m \u001b[1;32mimport\u001b[0m \u001b[0mrequests\u001b[0m\u001b[1;33m\u001b[0m\u001b[1;33m\u001b[0m\u001b[0m\n\u001b[1;32m----> 8\u001b[1;33m \u001b[1;32mimport\u001b[0m \u001b[0malpaca_trade_api\u001b[0m \u001b[1;32mas\u001b[0m \u001b[0mtradeapi\u001b[0m\u001b[1;33m\u001b[0m\u001b[1;33m\u001b[0m\u001b[0m\n\u001b[0m\u001b[0;32m      9\u001b[0m \u001b[1;32mimport\u001b[0m \u001b[0mnumpy\u001b[0m \u001b[1;32mas\u001b[0m \u001b[0mnp\u001b[0m\u001b[1;33m\u001b[0m\u001b[1;33m\u001b[0m\u001b[0m\n\u001b[0;32m     10\u001b[0m \u001b[1;32mimport\u001b[0m \u001b[0mcsv\u001b[0m\u001b[1;33m\u001b[0m\u001b[1;33m\u001b[0m\u001b[0m\n",
      "\u001b[1;31mModuleNotFoundError\u001b[0m: No module named 'alpaca_trade_api'"
     ]
    }
   ],
   "metadata": {}
  },
  {
   "cell_type": "code",
   "execution_count": 4,
   "source": [
    "from dotenv import load_dotenv\r\n",
    "load_dotenv()"
   ],
   "outputs": [
    {
     "output_type": "execute_result",
     "data": {
      "text/plain": [
       "True"
      ]
     },
     "metadata": {},
     "execution_count": 4
    }
   ],
   "metadata": {}
  },
  {
   "cell_type": "code",
   "execution_count": 5,
   "source": [
    "alpaca_api_key = os.getenv(\"ALPACA_API_KEY\")\r\n",
    "alpaca_secret_key = os.getenv(\"ALPACA_SECRET_KEY\")\r\n",
    "\r\n",
    "api = tradeapi.REST(\r\n",
    "    alpaca_api_key,\r\n",
    "    alpaca_secret_key,\r\n",
    "    api_version = \"v2\"\r\n",
    ")"
   ],
   "outputs": [],
   "metadata": {}
  },
  {
   "cell_type": "code",
   "execution_count": 9,
   "source": [
    "timeframe = \"1D\"\r\n",
    "\r\n",
    "# Set start and end datetimes between now and 3 years ago.\r\n",
    "start_date = pd.Timestamp(\"2018-01-01\", tz=\"America/New_York\").isoformat()\r\n",
    "end_date = pd.Timestamp(\"2020-12-31\", tz=\"America/New_York\").isoformat()\r\n",
    "\r\n",
    "# Set the ticker information\r\n",
    "tickers = [\"CRM\",\"INTU\",\"WDAY\",\"ZEN\", \"IGV\", \"CLOU\", \"SPY\"]\r\n",
    "\r\n",
    "\r\n",
    "auto_threeyr_returns = api.get_barset(\r\n",
    "    tickers,\r\n",
    "    timeframe,\r\n",
    "    start=start_date,\r\n",
    "    end=end_date,\r\n",
    "    limit=1000,\r\n",
    ").df\r\n",
    "\r\n",
    "# Display sample data\r\n",
    "auto_threeyr_returns.head()"
   ],
   "outputs": [
    {
     "output_type": "execute_result",
     "data": {
      "text/plain": [
       "                               F                                    GM         \\\n",
       "                            open   high    low  close    volume   open   high   \n",
       "2018-01-02 00:00:00-05:00  12.52  12.66  12.50  12.65  16690873  41.24  41.87   \n",
       "2018-01-03 00:00:00-05:00  12.68  12.80  12.67  12.75  24832828  42.21  42.95   \n",
       "2018-01-04 00:00:00-05:00  12.78  13.04  12.77  12.98  33286107  43.09  44.25   \n",
       "2018-01-05 00:00:00-05:00  13.06  13.22  13.04  13.19  37620628  44.50  44.64   \n",
       "2018-01-08 00:00:00-05:00  13.21  13.22  13.11  13.14  21863372  44.04  44.59   \n",
       "\n",
       "                                                         SPY                  \\\n",
       "                               low   close    volume    open    high     low   \n",
       "2018-01-02 00:00:00-05:00  41.1500  41.810   5775050  267.84  268.81  267.40   \n",
       "2018-01-03 00:00:00-05:00  42.2000  42.815  10845178  268.95  270.64  268.95   \n",
       "2018-01-04 00:00:00-05:00  43.0500  44.140  14952993  271.21  272.16  271.10   \n",
       "2018-01-05 00:00:00-05:00  43.9600  44.004   8063566  272.50  273.56  271.95   \n",
       "2018-01-08 00:00:00-05:00  43.5201  44.220   9808090  273.31  274.10  272.98   \n",
       "\n",
       "                                               TSLA                            \\\n",
       "                            close    volume    open      high     low   close   \n",
       "2018-01-02 00:00:00-05:00  268.80  50844678  312.18  322.1099  311.00  320.29   \n",
       "2018-01-03 00:00:00-05:00  270.47  53141377  321.00  325.2500  315.55  317.01   \n",
       "2018-01-04 00:00:00-05:00  271.63  47841096  312.87  318.5500  305.68  314.62   \n",
       "2018-01-05 00:00:00-05:00  273.39  45782622  316.62  317.2400  312.00  316.55   \n",
       "2018-01-08 00:00:00-05:00  273.93  33627800  316.00  337.0199  315.50  336.41   \n",
       "\n",
       "                                    \n",
       "                            volume  \n",
       "2018-01-02 00:00:00-05:00  3322648  \n",
       "2018-01-03 00:00:00-05:00  3232166  \n",
       "2018-01-04 00:00:00-05:00  7428996  \n",
       "2018-01-05 00:00:00-05:00  3563882  \n",
       "2018-01-08 00:00:00-05:00  7721537  "
      ],
      "text/html": [
       "<div>\n",
       "<style scoped>\n",
       "    .dataframe tbody tr th:only-of-type {\n",
       "        vertical-align: middle;\n",
       "    }\n",
       "\n",
       "    .dataframe tbody tr th {\n",
       "        vertical-align: top;\n",
       "    }\n",
       "\n",
       "    .dataframe thead tr th {\n",
       "        text-align: left;\n",
       "    }\n",
       "</style>\n",
       "<table border=\"1\" class=\"dataframe\">\n",
       "  <thead>\n",
       "    <tr>\n",
       "      <th></th>\n",
       "      <th colspan=\"5\" halign=\"left\">F</th>\n",
       "      <th colspan=\"5\" halign=\"left\">GM</th>\n",
       "      <th colspan=\"5\" halign=\"left\">SPY</th>\n",
       "      <th colspan=\"5\" halign=\"left\">TSLA</th>\n",
       "    </tr>\n",
       "    <tr>\n",
       "      <th></th>\n",
       "      <th>open</th>\n",
       "      <th>high</th>\n",
       "      <th>low</th>\n",
       "      <th>close</th>\n",
       "      <th>volume</th>\n",
       "      <th>open</th>\n",
       "      <th>high</th>\n",
       "      <th>low</th>\n",
       "      <th>close</th>\n",
       "      <th>volume</th>\n",
       "      <th>open</th>\n",
       "      <th>high</th>\n",
       "      <th>low</th>\n",
       "      <th>close</th>\n",
       "      <th>volume</th>\n",
       "      <th>open</th>\n",
       "      <th>high</th>\n",
       "      <th>low</th>\n",
       "      <th>close</th>\n",
       "      <th>volume</th>\n",
       "    </tr>\n",
       "  </thead>\n",
       "  <tbody>\n",
       "    <tr>\n",
       "      <th>2018-01-02 00:00:00-05:00</th>\n",
       "      <td>12.52</td>\n",
       "      <td>12.66</td>\n",
       "      <td>12.50</td>\n",
       "      <td>12.65</td>\n",
       "      <td>16690873</td>\n",
       "      <td>41.24</td>\n",
       "      <td>41.87</td>\n",
       "      <td>41.1500</td>\n",
       "      <td>41.810</td>\n",
       "      <td>5775050</td>\n",
       "      <td>267.84</td>\n",
       "      <td>268.81</td>\n",
       "      <td>267.40</td>\n",
       "      <td>268.80</td>\n",
       "      <td>50844678</td>\n",
       "      <td>312.18</td>\n",
       "      <td>322.1099</td>\n",
       "      <td>311.00</td>\n",
       "      <td>320.29</td>\n",
       "      <td>3322648</td>\n",
       "    </tr>\n",
       "    <tr>\n",
       "      <th>2018-01-03 00:00:00-05:00</th>\n",
       "      <td>12.68</td>\n",
       "      <td>12.80</td>\n",
       "      <td>12.67</td>\n",
       "      <td>12.75</td>\n",
       "      <td>24832828</td>\n",
       "      <td>42.21</td>\n",
       "      <td>42.95</td>\n",
       "      <td>42.2000</td>\n",
       "      <td>42.815</td>\n",
       "      <td>10845178</td>\n",
       "      <td>268.95</td>\n",
       "      <td>270.64</td>\n",
       "      <td>268.95</td>\n",
       "      <td>270.47</td>\n",
       "      <td>53141377</td>\n",
       "      <td>321.00</td>\n",
       "      <td>325.2500</td>\n",
       "      <td>315.55</td>\n",
       "      <td>317.01</td>\n",
       "      <td>3232166</td>\n",
       "    </tr>\n",
       "    <tr>\n",
       "      <th>2018-01-04 00:00:00-05:00</th>\n",
       "      <td>12.78</td>\n",
       "      <td>13.04</td>\n",
       "      <td>12.77</td>\n",
       "      <td>12.98</td>\n",
       "      <td>33286107</td>\n",
       "      <td>43.09</td>\n",
       "      <td>44.25</td>\n",
       "      <td>43.0500</td>\n",
       "      <td>44.140</td>\n",
       "      <td>14952993</td>\n",
       "      <td>271.21</td>\n",
       "      <td>272.16</td>\n",
       "      <td>271.10</td>\n",
       "      <td>271.63</td>\n",
       "      <td>47841096</td>\n",
       "      <td>312.87</td>\n",
       "      <td>318.5500</td>\n",
       "      <td>305.68</td>\n",
       "      <td>314.62</td>\n",
       "      <td>7428996</td>\n",
       "    </tr>\n",
       "    <tr>\n",
       "      <th>2018-01-05 00:00:00-05:00</th>\n",
       "      <td>13.06</td>\n",
       "      <td>13.22</td>\n",
       "      <td>13.04</td>\n",
       "      <td>13.19</td>\n",
       "      <td>37620628</td>\n",
       "      <td>44.50</td>\n",
       "      <td>44.64</td>\n",
       "      <td>43.9600</td>\n",
       "      <td>44.004</td>\n",
       "      <td>8063566</td>\n",
       "      <td>272.50</td>\n",
       "      <td>273.56</td>\n",
       "      <td>271.95</td>\n",
       "      <td>273.39</td>\n",
       "      <td>45782622</td>\n",
       "      <td>316.62</td>\n",
       "      <td>317.2400</td>\n",
       "      <td>312.00</td>\n",
       "      <td>316.55</td>\n",
       "      <td>3563882</td>\n",
       "    </tr>\n",
       "    <tr>\n",
       "      <th>2018-01-08 00:00:00-05:00</th>\n",
       "      <td>13.21</td>\n",
       "      <td>13.22</td>\n",
       "      <td>13.11</td>\n",
       "      <td>13.14</td>\n",
       "      <td>21863372</td>\n",
       "      <td>44.04</td>\n",
       "      <td>44.59</td>\n",
       "      <td>43.5201</td>\n",
       "      <td>44.220</td>\n",
       "      <td>9808090</td>\n",
       "      <td>273.31</td>\n",
       "      <td>274.10</td>\n",
       "      <td>272.98</td>\n",
       "      <td>273.93</td>\n",
       "      <td>33627800</td>\n",
       "      <td>316.00</td>\n",
       "      <td>337.0199</td>\n",
       "      <td>315.50</td>\n",
       "      <td>336.41</td>\n",
       "      <td>7721537</td>\n",
       "    </tr>\n",
       "  </tbody>\n",
       "</table>\n",
       "</div>"
      ]
     },
     "metadata": {},
     "execution_count": 9
    }
   ],
   "metadata": {}
  },
  {
   "cell_type": "code",
   "execution_count": 12,
   "source": [
    "#Auto closing prices\r\n",
    "auto_closing_prices = pd.DataFrame()\r\n",
    "auto_closing_prices[\"F\"] = auto_threeyr_returns[\"F\"][\"close\"]\r\n",
    "auto_closing_prices[\"GM\"] = auto_threeyr_returns[\"GM\"][\"close\"]\r\n",
    "auto_closing_prices[\"TSLA\"] = auto_threeyr_returns[\"TSLA\"][\"close\"]\r\n",
    "auto_closing_prices[\"SPY\"] = auto_threeyr_returns[\"SPY\"][\"close\"]\r\n",
    "auto_closing_prices.index = auto_closing_prices.index.date\r\n",
    "\r\n",
    "#Auto daily returns\r\n",
    "auto_daily_returns = auto_closing_prices.pct_change().dropna()\r\n",
    "auto_daily_returns.head()"
   ],
   "outputs": [
    {
     "output_type": "execute_result",
     "data": {
      "text/plain": [
       "                   F        GM      TSLA       SPY\n",
       "2018-01-03  0.007905  0.024037 -0.010241  0.006213\n",
       "2018-01-04  0.018039  0.030947 -0.007539  0.004289\n",
       "2018-01-05  0.016179 -0.003081  0.006134  0.006479\n",
       "2018-01-08 -0.003791  0.004909  0.062739  0.001975\n",
       "2018-01-09 -0.003805 -0.003618 -0.008085  0.002190"
      ],
      "text/html": [
       "<div>\n",
       "<style scoped>\n",
       "    .dataframe tbody tr th:only-of-type {\n",
       "        vertical-align: middle;\n",
       "    }\n",
       "\n",
       "    .dataframe tbody tr th {\n",
       "        vertical-align: top;\n",
       "    }\n",
       "\n",
       "    .dataframe thead th {\n",
       "        text-align: right;\n",
       "    }\n",
       "</style>\n",
       "<table border=\"1\" class=\"dataframe\">\n",
       "  <thead>\n",
       "    <tr style=\"text-align: right;\">\n",
       "      <th></th>\n",
       "      <th>F</th>\n",
       "      <th>GM</th>\n",
       "      <th>TSLA</th>\n",
       "      <th>SPY</th>\n",
       "    </tr>\n",
       "  </thead>\n",
       "  <tbody>\n",
       "    <tr>\n",
       "      <th>2018-01-03</th>\n",
       "      <td>0.007905</td>\n",
       "      <td>0.024037</td>\n",
       "      <td>-0.010241</td>\n",
       "      <td>0.006213</td>\n",
       "    </tr>\n",
       "    <tr>\n",
       "      <th>2018-01-04</th>\n",
       "      <td>0.018039</td>\n",
       "      <td>0.030947</td>\n",
       "      <td>-0.007539</td>\n",
       "      <td>0.004289</td>\n",
       "    </tr>\n",
       "    <tr>\n",
       "      <th>2018-01-05</th>\n",
       "      <td>0.016179</td>\n",
       "      <td>-0.003081</td>\n",
       "      <td>0.006134</td>\n",
       "      <td>0.006479</td>\n",
       "    </tr>\n",
       "    <tr>\n",
       "      <th>2018-01-08</th>\n",
       "      <td>-0.003791</td>\n",
       "      <td>0.004909</td>\n",
       "      <td>0.062739</td>\n",
       "      <td>0.001975</td>\n",
       "    </tr>\n",
       "    <tr>\n",
       "      <th>2018-01-09</th>\n",
       "      <td>-0.003805</td>\n",
       "      <td>-0.003618</td>\n",
       "      <td>-0.008085</td>\n",
       "      <td>0.002190</td>\n",
       "    </tr>\n",
       "  </tbody>\n",
       "</table>\n",
       "</div>"
      ]
     },
     "metadata": {},
     "execution_count": 12
    }
   ],
   "metadata": {}
  },
  {
   "cell_type": "code",
   "execution_count": 15,
   "source": [
    "auto_daily_returns.describe()"
   ],
   "outputs": [
    {
     "output_type": "execute_result",
     "data": {
      "text/plain": [
       "                F          GM        TSLA         SPY\n",
       "count  755.000000  755.000000  755.000000  755.000000\n",
       "mean    -0.000176    0.000342    0.002903    0.000545\n",
       "std      0.024886    0.026417    0.051182    0.014642\n",
       "min     -0.111901   -0.156004   -0.774789   -0.115916\n",
       "25%     -0.011282   -0.011814   -0.017474   -0.004011\n",
       "50%     -0.000550    0.000579    0.002024    0.001027\n",
       "75%      0.011233    0.011015    0.022422    0.006874\n",
       "max      0.229927    0.198751    0.199545    0.094737"
      ],
      "text/html": [
       "<div>\n",
       "<style scoped>\n",
       "    .dataframe tbody tr th:only-of-type {\n",
       "        vertical-align: middle;\n",
       "    }\n",
       "\n",
       "    .dataframe tbody tr th {\n",
       "        vertical-align: top;\n",
       "    }\n",
       "\n",
       "    .dataframe thead th {\n",
       "        text-align: right;\n",
       "    }\n",
       "</style>\n",
       "<table border=\"1\" class=\"dataframe\">\n",
       "  <thead>\n",
       "    <tr style=\"text-align: right;\">\n",
       "      <th></th>\n",
       "      <th>F</th>\n",
       "      <th>GM</th>\n",
       "      <th>TSLA</th>\n",
       "      <th>SPY</th>\n",
       "    </tr>\n",
       "  </thead>\n",
       "  <tbody>\n",
       "    <tr>\n",
       "      <th>count</th>\n",
       "      <td>755.000000</td>\n",
       "      <td>755.000000</td>\n",
       "      <td>755.000000</td>\n",
       "      <td>755.000000</td>\n",
       "    </tr>\n",
       "    <tr>\n",
       "      <th>mean</th>\n",
       "      <td>-0.000176</td>\n",
       "      <td>0.000342</td>\n",
       "      <td>0.002903</td>\n",
       "      <td>0.000545</td>\n",
       "    </tr>\n",
       "    <tr>\n",
       "      <th>std</th>\n",
       "      <td>0.024886</td>\n",
       "      <td>0.026417</td>\n",
       "      <td>0.051182</td>\n",
       "      <td>0.014642</td>\n",
       "    </tr>\n",
       "    <tr>\n",
       "      <th>min</th>\n",
       "      <td>-0.111901</td>\n",
       "      <td>-0.156004</td>\n",
       "      <td>-0.774789</td>\n",
       "      <td>-0.115916</td>\n",
       "    </tr>\n",
       "    <tr>\n",
       "      <th>25%</th>\n",
       "      <td>-0.011282</td>\n",
       "      <td>-0.011814</td>\n",
       "      <td>-0.017474</td>\n",
       "      <td>-0.004011</td>\n",
       "    </tr>\n",
       "    <tr>\n",
       "      <th>50%</th>\n",
       "      <td>-0.000550</td>\n",
       "      <td>0.000579</td>\n",
       "      <td>0.002024</td>\n",
       "      <td>0.001027</td>\n",
       "    </tr>\n",
       "    <tr>\n",
       "      <th>75%</th>\n",
       "      <td>0.011233</td>\n",
       "      <td>0.011015</td>\n",
       "      <td>0.022422</td>\n",
       "      <td>0.006874</td>\n",
       "    </tr>\n",
       "    <tr>\n",
       "      <th>max</th>\n",
       "      <td>0.229927</td>\n",
       "      <td>0.198751</td>\n",
       "      <td>0.199545</td>\n",
       "      <td>0.094737</td>\n",
       "    </tr>\n",
       "  </tbody>\n",
       "</table>\n",
       "</div>"
      ]
     },
     "metadata": {},
     "execution_count": 15
    }
   ],
   "metadata": {}
  },
  {
   "cell_type": "code",
   "execution_count": 14,
   "source": [
    "# Rolling Standard deviation 2018-2020\r\n",
    "auto_std = auto_daily_returns.rolling(window=21).std()\r\n",
    "auto_std.plot(figsize=(20,8))"
   ],
   "outputs": [
    {
     "output_type": "execute_result",
     "data": {
      "text/plain": [
       "<matplotlib.axes._subplots.AxesSubplot at 0x2dba56f29a0>"
      ]
     },
     "metadata": {},
     "execution_count": 14
    },
    {
     "output_type": "display_data",
     "data": {
      "text/plain": [
       "<Figure size 1440x576 with 1 Axes>"
      ],
      "image/png": "[encoded data removed]"
     },
     "metadata": {
      "needs_background": "light"
     }
    }
   ],
   "metadata": {}
  },
  {
   "cell_type": "code",
   "execution_count": 16,
   "source": [
    "csv_path = Path(\"Auto_MW_data.csv\")\r\n",
    "MW_data = pd.read_csv(csv_path)\r\n",
    "auto_MW = pd.DataFrame(MW_data)\r\n",
    "auto_MW"
   ],
   "outputs": [
    {
     "output_type": "execute_result",
     "data": {
      "text/plain": [
       "  Ticker        Year  Revenue (in B)   EPS       Std\n",
       "0      F  2018-01-01          160.34  0.93  0.017421\n",
       "1     GM  2018-01-01          147.05  5.66  0.020181\n",
       "2   TSLA  2018-01-01           21.46 -2.37  0.036817\n",
       "3      F  2019-01-01          155.90  0.01  0.017286\n",
       "4     GM  2019-01-01          137.24  4.62  0.015486\n",
       "5   TSLA  2019-01-01           24.58 -1.14  0.030809\n",
       "6      F  2020-01-01          127.14 -0.32  0.035382\n",
       "7     GM  2020-01-01          122.49  4.36  0.038079\n",
       "8   TSLA  2020-01-01           31.54 -0.98  0.074440"
      ],
      "text/html": [
       "<div>\n",
       "<style scoped>\n",
       "    .dataframe tbody tr th:only-of-type {\n",
       "        vertical-align: middle;\n",
       "    }\n",
       "\n",
       "    .dataframe tbody tr th {\n",
       "        vertical-align: top;\n",
       "    }\n",
       "\n",
       "    .dataframe thead th {\n",
       "        text-align: right;\n",
       "    }\n",
       "</style>\n",
       "<table border=\"1\" class=\"dataframe\">\n",
       "  <thead>\n",
       "    <tr style=\"text-align: right;\">\n",
       "      <th></th>\n",
       "      <th>Ticker</th>\n",
       "      <th>Year</th>\n",
       "      <th>Revenue (in B)</th>\n",
       "      <th>EPS</th>\n",
       "      <th>Std</th>\n",
       "    </tr>\n",
       "  </thead>\n",
       "  <tbody>\n",
       "    <tr>\n",
       "      <th>0</th>\n",
       "      <td>F</td>\n",
       "      <td>2018-01-01</td>\n",
       "      <td>160.34</td>\n",
       "      <td>0.93</td>\n",
       "      <td>0.017421</td>\n",
       "    </tr>\n",
       "    <tr>\n",
       "      <th>1</th>\n",
       "      <td>GM</td>\n",
       "      <td>2018-01-01</td>\n",
       "      <td>147.05</td>\n",
       "      <td>5.66</td>\n",
       "      <td>0.020181</td>\n",
       "    </tr>\n",
       "    <tr>\n",
       "      <th>2</th>\n",
       "      <td>TSLA</td>\n",
       "      <td>2018-01-01</td>\n",
       "      <td>21.46</td>\n",
       "      <td>-2.37</td>\n",
       "      <td>0.036817</td>\n",
       "    </tr>\n",
       "    <tr>\n",
       "      <th>3</th>\n",
       "      <td>F</td>\n",
       "      <td>2019-01-01</td>\n",
       "      <td>155.90</td>\n",
       "      <td>0.01</td>\n",
       "      <td>0.017286</td>\n",
       "    </tr>\n",
       "    <tr>\n",
       "      <th>4</th>\n",
       "      <td>GM</td>\n",
       "      <td>2019-01-01</td>\n",
       "      <td>137.24</td>\n",
       "      <td>4.62</td>\n",
       "      <td>0.015486</td>\n",
       "    </tr>\n",
       "    <tr>\n",
       "      <th>5</th>\n",
       "      <td>TSLA</td>\n",
       "      <td>2019-01-01</td>\n",
       "      <td>24.58</td>\n",
       "      <td>-1.14</td>\n",
       "      <td>0.030809</td>\n",
       "    </tr>\n",
       "    <tr>\n",
       "      <th>6</th>\n",
       "      <td>F</td>\n",
       "      <td>2020-01-01</td>\n",
       "      <td>127.14</td>\n",
       "      <td>-0.32</td>\n",
       "      <td>0.035382</td>\n",
       "    </tr>\n",
       "    <tr>\n",
       "      <th>7</th>\n",
       "      <td>GM</td>\n",
       "      <td>2020-01-01</td>\n",
       "      <td>122.49</td>\n",
       "      <td>4.36</td>\n",
       "      <td>0.038079</td>\n",
       "    </tr>\n",
       "    <tr>\n",
       "      <th>8</th>\n",
       "      <td>TSLA</td>\n",
       "      <td>2020-01-01</td>\n",
       "      <td>31.54</td>\n",
       "      <td>-0.98</td>\n",
       "      <td>0.074440</td>\n",
       "    </tr>\n",
       "  </tbody>\n",
       "</table>\n",
       "</div>"
      ]
     },
     "metadata": {},
     "execution_count": 16
    }
   ],
   "metadata": {}
  },
  {
   "cell_type": "code",
   "execution_count": 55,
   "source": [
    "csv_path_2 = Path(\"Auto_Edgar_Unit_data.csv\")\r\n",
    "Edgar_data = pd.read_csv(csv_path_2)\r\n",
    "auto_Edgar = pd.DataFrame(Edgar_data.head(9))\r\n",
    "auto_Edgar"
   ],
   "outputs": [
    {
     "output_type": "execute_result",
     "data": {
      "text/plain": [
       "  Ticker     2018     2019     2020\n",
       "0      F  5982000  5386000  4187000\n",
       "1     GM  4707000  4209000  3370000\n",
       "2   TSLA   245240   367656   499647"
      ],
      "text/html": [
       "<div>\n",
       "<style scoped>\n",
       "    .dataframe tbody tr th:only-of-type {\n",
       "        vertical-align: middle;\n",
       "    }\n",
       "\n",
       "    .dataframe tbody tr th {\n",
       "        vertical-align: top;\n",
       "    }\n",
       "\n",
       "    .dataframe thead th {\n",
       "        text-align: right;\n",
       "    }\n",
       "</style>\n",
       "<table border=\"1\" class=\"dataframe\">\n",
       "  <thead>\n",
       "    <tr style=\"text-align: right;\">\n",
       "      <th></th>\n",
       "      <th>Ticker</th>\n",
       "      <th>2018</th>\n",
       "      <th>2019</th>\n",
       "      <th>2020</th>\n",
       "    </tr>\n",
       "  </thead>\n",
       "  <tbody>\n",
       "    <tr>\n",
       "      <th>0</th>\n",
       "      <td>F</td>\n",
       "      <td>5982000</td>\n",
       "      <td>5386000</td>\n",
       "      <td>4187000</td>\n",
       "    </tr>\n",
       "    <tr>\n",
       "      <th>1</th>\n",
       "      <td>GM</td>\n",
       "      <td>4707000</td>\n",
       "      <td>4209000</td>\n",
       "      <td>3370000</td>\n",
       "    </tr>\n",
       "    <tr>\n",
       "      <th>2</th>\n",
       "      <td>TSLA</td>\n",
       "      <td>245240</td>\n",
       "      <td>367656</td>\n",
       "      <td>499647</td>\n",
       "    </tr>\n",
       "  </tbody>\n",
       "</table>\n",
       "</div>"
      ]
     },
     "metadata": {},
     "execution_count": 55
    }
   ],
   "metadata": {}
  },
  {
   "cell_type": "code",
   "execution_count": 72,
   "source": [
    "auto_sales = auto_Edgar\r\n",
    "auto_sales = auto_sales.set_index(\"Ticker\")\r\n",
    "auto_sales.plot(kind=\"bar\", title=\"Total Number of Units Sold\", figsize=(20,6))"
   ],
   "outputs": [
    {
     "output_type": "execute_result",
     "data": {
      "text/plain": [
       "<matplotlib.axes._subplots.AxesSubplot at 0x2dba94d78b0>"
      ]
     },
     "metadata": {},
     "execution_count": 72
    },
    {
     "output_type": "display_data",
     "data": {
      "text/plain": [
       "<Figure size 1440x432 with 1 Axes>"
      ],
      "image/png": "[encoded data removed]"
     },
     "metadata": {
      "needs_background": "light"
     }
    }
   ],
   "metadata": {}
  },
  {
   "cell_type": "code",
   "execution_count": 46,
   "source": [
    "auto_Edgar.dtypes"
   ],
   "outputs": [
    {
     "output_type": "execute_result",
     "data": {
      "text/plain": [
       "Ticker     object\n",
       "2018      float64\n",
       "2019      float64\n",
       "2020      float64\n",
       "dtype: object"
      ]
     },
     "metadata": {},
     "execution_count": 46
    }
   ],
   "metadata": {}
  },
  {
   "cell_type": "code",
   "execution_count": 25,
   "source": [
    "auto_sales = auto_Edgar[[\"Ticker\", \"Year\", \"Total Vehicle Sales\"]]\r\n",
    "auto_sales2018 = auto_sales.loc[auto_sales[\"Ticker\"] == \"TSLA\"]\r\n",
    "auto_sales2018 = auto_sales2018.set_index(\"Year\")\r\n",
    "auto_sales2018.plot.bar()"
   ],
   "outputs": [
    {
     "output_type": "execute_result",
     "data": {
      "text/plain": [
       "<matplotlib.axes._subplots.AxesSubplot at 0x2dba5ed8550>"
      ]
     },
     "metadata": {},
     "execution_count": 25
    },
    {
     "output_type": "display_data",
     "data": {
      "text/plain": [
       "<Figure size 432x288 with 1 Axes>"
      ],
      "image/png": "[encoded data removed]"
     },
     "metadata": {
      "needs_background": "light"
     }
    }
   ],
   "metadata": {}
  },
  {
   "cell_type": "code",
   "execution_count": 26,
   "source": [
    "auto_sales = auto_Edgar[[\"Ticker\", \"Year\", \"Total Vehicle Sales (in Thousands)\"]]\r\n",
    "auto_sales2018 = auto_sales.loc[auto_sales[\"Ticker\"] == \"GM\"]\r\n",
    "auto_sales2018 = auto_sales2018.set_index(\"Year\")\r\n",
    "auto_sales2018.plot.bar()"
   ],
   "outputs": [
    {
     "output_type": "execute_result",
     "data": {
      "text/plain": [
       "<matplotlib.axes._subplots.AxesSubplot at 0x2dba5f2b310>"
      ]
     },
     "metadata": {},
     "execution_count": 26
    },
    {
     "output_type": "display_data",
     "data": {
      "text/plain": [
       "<Figure size 432x288 with 1 Axes>"
      ],
      "image/png": "[encoded data removed]"
     },
     "metadata": {
      "needs_background": "light"
     }
    }
   ],
   "metadata": {}
  },
  {
   "cell_type": "code",
   "execution_count": 31,
   "source": [
    "# Revenue, Basic EPS, & std from Marketwatch from excel file\r\n",
    "\r\n",
    "auto_rev = {\r\n",
    "    \"2018 Revenue (in B)\": [160.34, 147.05, 21.46],\r\n",
    "    \"2019 Revenue (in B)\": [155.90, 137.24, 24.58],\r\n",
    "    \"2020 Revenue (in B)\": [127.14, 122.49, 31.54]\r\n",
    "}\r\n",
    "\r\n",
    "auto_eps = {\r\n",
    "    \"2018 EPS\": [0.93, 5.66, -2.37],\r\n",
    "    \"2019 EPS\": [0.01, 4.62, -1.14],\r\n",
    "    \"2020 EPS\": [-0.32, 4.36, -0.98]\r\n",
    "}\r\n",
    "\r\n",
    "auto_Std = {\r\n",
    "    \"2018 Std\": [0.017421, 0.020181, 0.036817],\r\n",
    "    \"2019 Std\": [0.017286, 0.015486, 0.030809],\r\n",
    "    \"2020 Std\": [0.035382, 0.038079, 0.074440]\r\n",
    "}\r\n",
    "\r\n",
    "tickers = [\"F\", \"GM\", \"TSLA\"]"
   ],
   "outputs": [],
   "metadata": {}
  },
  {
   "cell_type": "code",
   "execution_count": 32,
   "source": [
    "auto_rev = pd.DataFrame(auto_rev, index=tickers)\n",
    "auto_eps = pd.DataFrame(auto_eps, index=tickers)\n",
    "auto_Std = pd.DataFrame(auto_Std, index=tickers)"
   ],
   "outputs": [],
   "metadata": {}
  },
  {
   "cell_type": "code",
   "execution_count": 43,
   "source": [
    "auto_rev.plot(title=\"Annual Revenue by Company (in Billions)\",kind=\"bar\", figsize=(20,6))"
   ],
   "outputs": [
    {
     "output_type": "execute_result",
     "data": {
      "text/plain": [
       "<matplotlib.axes._subplots.AxesSubplot at 0x2dba6713b20>"
      ]
     },
     "metadata": {},
     "execution_count": 43
    },
    {
     "output_type": "display_data",
     "data": {
      "text/plain": [
       "<Figure size 1440x432 with 1 Axes>"
      ],
      "image/png": "[encoded data removed]"
     },
     "metadata": {
      "needs_background": "light"
     }
    }
   ],
   "metadata": {}
  },
  {
   "cell_type": "markdown",
   "source": [
    "## "
   ],
   "metadata": {}
  },
  {
   "cell_type": "code",
   "execution_count": 74,
   "source": [
    "auto_rev[\"2020 Revenue (in B)\"].plot(title=\"Annual Revenue by Company (in Billions)\",kind=\"bar\", figsize=(10,6))"
   ],
   "outputs": [
    {
     "output_type": "execute_result",
     "data": {
      "text/plain": [
       "<matplotlib.axes._subplots.AxesSubplot at 0x2dba9966bb0>"
      ]
     },
     "metadata": {},
     "execution_count": 74
    },
    {
     "output_type": "display_data",
     "data": {
      "text/plain": [
       "<Figure size 720x432 with 1 Axes>"
      ],
      "image/png": "[encoded data removed]"
     },
     "metadata": {
      "needs_background": "light"
     }
    }
   ],
   "metadata": {}
  },
  {
   "cell_type": "code",
   "execution_count": null,
   "source": [],
   "outputs": [],
   "metadata": {}
  }
 ],
 "metadata": {
  "kernelspec": {
   "name": "python3",
   "display_name": "Python 3.7.11 64-bit ('pyvizenv': conda)"
  },
  "language_info": {
   "codemirror_mode": {
    "name": "ipython",
    "version": 3
   },
   "file_extension": ".py",
   "mimetype": "text/x-python",
   "name": "python",
   "nbconvert_exporter": "python",
   "pygments_lexer": "ipython3",
   "version": "3.7.11"
  },
  "interpreter": {
   "hash": "d48d5d5bff481a66848d5e3d52f0f57d825de3659598db50ffa938196187fdc9"
  }
 },
 "nbformat": 4,
 "nbformat_minor": 5
}