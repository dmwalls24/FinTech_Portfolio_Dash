{
 "cells": [
  {
   "cell_type": "code",
   "execution_count": 47,
   "metadata": {},
   "outputs": [],
   "source": [
    "import os\n",
    "import numpy as np\n",
    "import pandas as pd\n",
    "from pathlib import Path\n",
    "from dotenv import load_dotenv\n",
    "import alpaca_trade_api as tradeapi\n",
    "from newsapi import NewsApiClient\n",
    "from datetime import datetime, timedelta\n",
    "import numpy as np\n",
    "from numpy.random import seed\n",
    "seed(1)\n",
    "import requests\n",
    "from tensorflow import random\n",
    "random.set_seed(2)\n",
    "import hvplot.pandas\n",
    "%matplotlib inline"
   ]
  },
  {
   "cell_type": "code",
   "execution_count": 48,
   "metadata": {},
   "outputs": [
    {
     "data": {
      "text/plain": "True"
     },
     "execution_count": 48,
     "metadata": {},
     "output_type": "execute_result"
    }
   ],
   "source": [
    "load_dotenv()"
   ]
  },
  {
   "cell_type": "code",
   "execution_count": 49,
   "metadata": {},
   "outputs": [],
   "source": [
    "alpaca_api_key = os.getenv(\"ALPACA_API_KEY\")\n",
    "alpaca_secret_key = os.getenv(\"ALPACA_SECRET_KEY\")\n",
    "alpaca = tradeapi.REST(\n",
    "    alpaca_api_key,\n",
    "    alpaca_secret_key,\n",
    "    api_version=\"v2\")\n",
    "#print(alpaca_api_key)"
   ]
  },
  {
   "cell_type": "code",
   "execution_count": 50,
   "metadata": {},
   "outputs": [
    {
     "data": {
      "text/html": "<div>\n<style scoped>\n    .dataframe tbody tr th:only-of-type {\n        vertical-align: middle;\n    }\n\n    .dataframe tbody tr th {\n        vertical-align: top;\n    }\n\n    .dataframe thead tr th {\n        text-align: left;\n    }\n\n    .dataframe thead tr:last-of-type th {\n        text-align: right;\n    }\n</style>\n<table border=\"1\" class=\"dataframe\">\n  <thead>\n    <tr>\n      <th></th>\n      <th colspan=\"5\" halign=\"left\">FISV</th>\n      <th colspan=\"5\" halign=\"left\">MELI</th>\n      <th colspan=\"5\" halign=\"left\">PYPL</th>\n      <th colspan=\"5\" halign=\"left\">SQ</th>\n    </tr>\n    <tr>\n      <th></th>\n      <th>open</th>\n      <th>high</th>\n      <th>low</th>\n      <th>close</th>\n      <th>volume</th>\n      <th>open</th>\n      <th>high</th>\n      <th>low</th>\n      <th>close</th>\n      <th>volume</th>\n      <th>open</th>\n      <th>high</th>\n      <th>low</th>\n      <th>close</th>\n      <th>volume</th>\n      <th>open</th>\n      <th>high</th>\n      <th>low</th>\n      <th>close</th>\n      <th>volume</th>\n    </tr>\n    <tr>\n      <th>time</th>\n      <th></th>\n      <th></th>\n      <th></th>\n      <th></th>\n      <th></th>\n      <th></th>\n      <th></th>\n      <th></th>\n      <th></th>\n      <th></th>\n      <th></th>\n      <th></th>\n      <th></th>\n      <th></th>\n      <th></th>\n      <th></th>\n      <th></th>\n      <th></th>\n      <th></th>\n      <th></th>\n    </tr>\n  </thead>\n  <tbody>\n    <tr>\n      <th>2017-09-05 00:00:00-04:00</th>\n      <td>61.290</td>\n      <td>61.355</td>\n      <td>60.660</td>\n      <td>60.93</td>\n      <td>1071708.0</td>\n      <td>252.60</td>\n      <td>257.76</td>\n      <td>251.51</td>\n      <td>256.63</td>\n      <td>453957.0</td>\n      <td>61.26</td>\n      <td>61.75</td>\n      <td>60.58</td>\n      <td>61.27</td>\n      <td>4462105.0</td>\n      <td>25.75</td>\n      <td>25.82</td>\n      <td>25.24</td>\n      <td>25.77</td>\n      <td>4478368.0</td>\n    </tr>\n    <tr>\n      <th>2017-09-06 00:00:00-04:00</th>\n      <td>61.185</td>\n      <td>61.330</td>\n      <td>60.585</td>\n      <td>61.19</td>\n      <td>1610582.0</td>\n      <td>257.67</td>\n      <td>259.35</td>\n      <td>251.92</td>\n      <td>258.10</td>\n      <td>365307.0</td>\n      <td>61.74</td>\n      <td>61.99</td>\n      <td>60.90</td>\n      <td>61.25</td>\n      <td>4246915.0</td>\n      <td>25.90</td>\n      <td>26.17</td>\n      <td>25.72</td>\n      <td>26.07</td>\n      <td>4507494.0</td>\n    </tr>\n    <tr>\n      <th>2017-09-07 00:00:00-04:00</th>\n      <td>61.465</td>\n      <td>61.785</td>\n      <td>61.085</td>\n      <td>61.41</td>\n      <td>864020.0</td>\n      <td>258.92</td>\n      <td>260.95</td>\n      <td>256.16</td>\n      <td>258.68</td>\n      <td>328688.0</td>\n      <td>61.33</td>\n      <td>62.13</td>\n      <td>61.28</td>\n      <td>62.00</td>\n      <td>4141248.0</td>\n      <td>26.12</td>\n      <td>26.69</td>\n      <td>25.86</td>\n      <td>26.31</td>\n      <td>6699110.0</td>\n    </tr>\n    <tr>\n      <th>2017-09-08 00:00:00-04:00</th>\n      <td>61.335</td>\n      <td>61.730</td>\n      <td>61.015</td>\n      <td>61.33</td>\n      <td>851518.0</td>\n      <td>258.21</td>\n      <td>262.25</td>\n      <td>258.21</td>\n      <td>260.08</td>\n      <td>255764.0</td>\n      <td>61.94</td>\n      <td>62.00</td>\n      <td>61.10</td>\n      <td>61.13</td>\n      <td>3893906.0</td>\n      <td>26.50</td>\n      <td>26.99</td>\n      <td>26.40</td>\n      <td>26.53</td>\n      <td>5567927.0</td>\n    </tr>\n    <tr>\n      <th>2017-09-11 00:00:00-04:00</th>\n      <td>61.700</td>\n      <td>62.235</td>\n      <td>61.400</td>\n      <td>62.15</td>\n      <td>734684.0</td>\n      <td>265.08</td>\n      <td>286.66</td>\n      <td>265.07</td>\n      <td>285.22</td>\n      <td>973710.0</td>\n      <td>61.71</td>\n      <td>63.26</td>\n      <td>61.62</td>\n      <td>62.64</td>\n      <td>5970316.0</td>\n      <td>26.80</td>\n      <td>27.66</td>\n      <td>26.78</td>\n      <td>27.58</td>\n      <td>7416518.0</td>\n    </tr>\n  </tbody>\n</table>\n</div>",
      "text/plain": "                             FISV                                      MELI  \\\n                             open    high     low  close     volume    open   \ntime                                                                          \n2017-09-05 00:00:00-04:00  61.290  61.355  60.660  60.93  1071708.0  252.60   \n2017-09-06 00:00:00-04:00  61.185  61.330  60.585  61.19  1610582.0  257.67   \n2017-09-07 00:00:00-04:00  61.465  61.785  61.085  61.41   864020.0  258.92   \n2017-09-08 00:00:00-04:00  61.335  61.730  61.015  61.33   851518.0  258.21   \n2017-09-11 00:00:00-04:00  61.700  62.235  61.400  62.15   734684.0  265.08   \n\n                                                              PYPL         \\\n                             high     low   close    volume   open   high   \ntime                                                                        \n2017-09-05 00:00:00-04:00  257.76  251.51  256.63  453957.0  61.26  61.75   \n2017-09-06 00:00:00-04:00  259.35  251.92  258.10  365307.0  61.74  61.99   \n2017-09-07 00:00:00-04:00  260.95  256.16  258.68  328688.0  61.33  62.13   \n2017-09-08 00:00:00-04:00  262.25  258.21  260.08  255764.0  61.94  62.00   \n2017-09-11 00:00:00-04:00  286.66  265.07  285.22  973710.0  61.71  63.26   \n\n                                                       SQ                \\\n                             low  close     volume   open   high    low   \ntime                                                                      \n2017-09-05 00:00:00-04:00  60.58  61.27  4462105.0  25.75  25.82  25.24   \n2017-09-06 00:00:00-04:00  60.90  61.25  4246915.0  25.90  26.17  25.72   \n2017-09-07 00:00:00-04:00  61.28  62.00  4141248.0  26.12  26.69  25.86   \n2017-09-08 00:00:00-04:00  61.10  61.13  3893906.0  26.50  26.99  26.40   \n2017-09-11 00:00:00-04:00  61.62  62.64  5970316.0  26.80  27.66  26.78   \n\n                                             \n                           close     volume  \ntime                                         \n2017-09-05 00:00:00-04:00  25.77  4478368.0  \n2017-09-06 00:00:00-04:00  26.07  4507494.0  \n2017-09-07 00:00:00-04:00  26.31  6699110.0  \n2017-09-08 00:00:00-04:00  26.53  5567927.0  \n2017-09-11 00:00:00-04:00  27.58  7416518.0  "
     },
     "execution_count": 50,
     "metadata": {},
     "output_type": "execute_result"
    }
   ],
   "source": [
    "#15Min interval\n",
    "timeframe = \"1D\"\n",
    "start_date = pd.Timestamp(\"2017-01-01\", tz=\"America/New_York\").isoformat()\n",
    "end_date = pd.Timestamp(\"2021-12-31\", tz=\"America/New_York\").isoformat()\n",
    "#today = pd.Timestamp(\"2021-01-02\", tz=\"America/New_York\").isoformat()\n",
    "ticker = [\"PYPL\",\"SQ\",\"MELI\",\"FISV\"]\n",
    "fintech_ticker = alpaca.get_barset(\n",
    "    ticker,\n",
    "    timeframe,\n",
    "    start=start_date,\n",
    "    end=end_date,\n",
    "    limit=1000,\n",
    ").df\n",
    "fintech_ticker.dropna(inplace=True)\n",
    "fintech_ticker.head(5)\n",
    "#apple_ticker.dropna(inplace=True)"
   ]
  },
  {
   "cell_type": "code",
   "execution_count": 51,
   "metadata": {},
   "outputs": [
    {
     "data": {
      "text/html": "<div>\n<style scoped>\n    .dataframe tbody tr th:only-of-type {\n        vertical-align: middle;\n    }\n\n    .dataframe tbody tr th {\n        vertical-align: top;\n    }\n\n    .dataframe thead th {\n        text-align: right;\n    }\n</style>\n<table border=\"1\" class=\"dataframe\">\n  <thead>\n    <tr style=\"text-align: right;\">\n      <th></th>\n      <th>PayPal</th>\n      <th>Square</th>\n      <th>Mercadolibre</th>\n    </tr>\n  </thead>\n  <tbody>\n    <tr>\n      <th>2017-09-05</th>\n      <td>61.27</td>\n      <td>25.77</td>\n      <td>256.63</td>\n    </tr>\n    <tr>\n      <th>2017-09-06</th>\n      <td>61.25</td>\n      <td>26.07</td>\n      <td>258.10</td>\n    </tr>\n    <tr>\n      <th>2017-09-07</th>\n      <td>62.00</td>\n      <td>26.31</td>\n      <td>258.68</td>\n    </tr>\n    <tr>\n      <th>2017-09-08</th>\n      <td>61.13</td>\n      <td>26.53</td>\n      <td>260.08</td>\n    </tr>\n    <tr>\n      <th>2017-09-11</th>\n      <td>62.64</td>\n      <td>27.58</td>\n      <td>285.22</td>\n    </tr>\n  </tbody>\n</table>\n</div>",
      "text/plain": "            PayPal  Square  Mercadolibre\n2017-09-05   61.27   25.77        256.63\n2017-09-06   61.25   26.07        258.10\n2017-09-07   62.00   26.31        258.68\n2017-09-08   61.13   26.53        260.08\n2017-09-11   62.64   27.58        285.22"
     },
     "execution_count": 51,
     "metadata": {},
     "output_type": "execute_result"
    }
   ],
   "source": [
    "fintech_df = pd.DataFrame()\n",
    "fintech_df[\"PayPal\"] = fintech_ticker[\"PYPL\"][\"close\"]\n",
    "fintech_df[\"Square\"] = fintech_ticker[\"SQ\"][\"close\"]\n",
    "#fintech_df[\"Affirm\"] = fintech_ticker[\"AFRM\"][\"close\"]\n",
    "fintech_df[\"Mercadolibre\"] = fintech_ticker[\"MELI\"][\"close\"]\n",
    "#fintech_df[\"Johnson&Johnson\"] = nasdaq_ticker[\"JNJ\"][\"close\"]\n",
    "#apple_df = apple_df.pct_change().dropna()\n",
    "fintech_df.index = fintech_df.index.date \n",
    "fintech_df.dropna(inplace=True)\n",
    "fintech_df.head()"
   ]
  },
  {
   "cell_type": "code",
   "execution_count": 52,
   "metadata": {},
   "outputs": [
    {
     "data": {
      "text/html": "<div>\n<style scoped>\n    .dataframe tbody tr th:only-of-type {\n        vertical-align: middle;\n    }\n\n    .dataframe tbody tr th {\n        vertical-align: top;\n    }\n\n    .dataframe thead th {\n        text-align: right;\n    }\n</style>\n<table border=\"1\" class=\"dataframe\">\n  <thead>\n    <tr style=\"text-align: right;\">\n      <th></th>\n      <th>Open</th>\n      <th>High</th>\n      <th>Low</th>\n      <th>Close</th>\n      <th>Adj Close</th>\n      <th>Volume</th>\n    </tr>\n    <tr>\n      <th>Date</th>\n      <th></th>\n      <th></th>\n      <th></th>\n      <th></th>\n      <th></th>\n      <th></th>\n    </tr>\n  </thead>\n  <tbody>\n    <tr>\n      <th>2017-09-05</th>\n      <td>11.75</td>\n      <td>14.06</td>\n      <td>11.41</td>\n      <td>12.23</td>\n      <td>12.23</td>\n      <td>0.0</td>\n    </tr>\n    <tr>\n      <th>2017-09-06</th>\n      <td>12.27</td>\n      <td>12.59</td>\n      <td>11.35</td>\n      <td>11.63</td>\n      <td>11.63</td>\n      <td>0.0</td>\n    </tr>\n    <tr>\n      <th>2017-09-07</th>\n      <td>11.93</td>\n      <td>12.07</td>\n      <td>11.32</td>\n      <td>11.55</td>\n      <td>11.55</td>\n      <td>0.0</td>\n    </tr>\n    <tr>\n      <th>2017-09-08</th>\n      <td>11.87</td>\n      <td>12.60</td>\n      <td>11.84</td>\n      <td>12.12</td>\n      <td>12.12</td>\n      <td>0.0</td>\n    </tr>\n    <tr>\n      <th>2017-09-11</th>\n      <td>11.38</td>\n      <td>11.39</td>\n      <td>10.51</td>\n      <td>10.73</td>\n      <td>10.73</td>\n      <td>0.0</td>\n    </tr>\n  </tbody>\n</table>\n</div>",
      "text/plain": "             Open   High    Low  Close  Adj Close  Volume\nDate                                                     \n2017-09-05  11.75  14.06  11.41  12.23      12.23     0.0\n2017-09-06  12.27  12.59  11.35  11.63      11.63     0.0\n2017-09-07  11.93  12.07  11.32  11.55      11.55     0.0\n2017-09-08  11.87  12.60  11.84  12.12      12.12     0.0\n2017-09-11  11.38  11.39  10.51  10.73      10.73     0.0"
     },
     "execution_count": 52,
     "metadata": {},
     "output_type": "execute_result"
    }
   ],
   "source": [
    "csv_path = Path(\"./stock_data/vixe.csv/\")\n",
    "data = pd.read_csv(csv_path,index_col=\"Date\", parse_dates=True, infer_datetime_format=True)\n",
    "data.sort_index(ascending = True, inplace = True)\n",
    "data.dropna(inplace=True)\n",
    "data.head()"
   ]
  },
  {
   "cell_type": "code",
   "execution_count": 53,
   "metadata": {},
   "outputs": [
    {
     "data": {
      "text/html": "<div>\n<style scoped>\n    .dataframe tbody tr th:only-of-type {\n        vertical-align: middle;\n    }\n\n    .dataframe tbody tr th {\n        vertical-align: top;\n    }\n\n    .dataframe thead th {\n        text-align: right;\n    }\n</style>\n<table border=\"1\" class=\"dataframe\">\n  <thead>\n    <tr style=\"text-align: right;\">\n      <th></th>\n      <th>Vix</th>\n    </tr>\n    <tr>\n      <th>Date</th>\n      <th></th>\n    </tr>\n  </thead>\n  <tbody>\n    <tr>\n      <th>2021-08-17</th>\n      <td>17.910000</td>\n    </tr>\n    <tr>\n      <th>2021-08-18</th>\n      <td>21.570000</td>\n    </tr>\n    <tr>\n      <th>2021-08-19</th>\n      <td>21.670000</td>\n    </tr>\n    <tr>\n      <th>2021-08-20</th>\n      <td>18.559999</td>\n    </tr>\n    <tr>\n      <th>2021-08-23</th>\n      <td>17.150000</td>\n    </tr>\n  </tbody>\n</table>\n</div>",
      "text/plain": "                  Vix\nDate                 \n2021-08-17  17.910000\n2021-08-18  21.570000\n2021-08-19  21.670000\n2021-08-20  18.559999\n2021-08-23  17.150000"
     },
     "execution_count": 53,
     "metadata": {},
     "output_type": "execute_result"
    }
   ],
   "source": [
    "vix_df = pd.DataFrame()\n",
    "vix_df[\"Vix\"] = data[\"Close\"]\n",
    "#vix_df.index = fintech_df.index.date \n",
    "vix_df.dropna(inplace=True)\n",
    "vix_df.tail()"
   ]
  },
  {
   "cell_type": "code",
   "execution_count": 54,
   "metadata": {},
   "outputs": [
    {
     "data": {
      "text/html": "<div>\n<style scoped>\n    .dataframe tbody tr th:only-of-type {\n        vertical-align: middle;\n    }\n\n    .dataframe tbody tr th {\n        vertical-align: top;\n    }\n\n    .dataframe thead th {\n        text-align: right;\n    }\n</style>\n<table border=\"1\" class=\"dataframe\">\n  <thead>\n    <tr style=\"text-align: right;\">\n      <th></th>\n      <th>PayPal</th>\n      <th>Square</th>\n      <th>Mercadolibre</th>\n      <th>Vix</th>\n    </tr>\n  </thead>\n  <tbody>\n    <tr>\n      <th>2017-09-05</th>\n      <td>61.27</td>\n      <td>25.77</td>\n      <td>256.63</td>\n      <td>12.23</td>\n    </tr>\n    <tr>\n      <th>2017-09-06</th>\n      <td>61.25</td>\n      <td>26.07</td>\n      <td>258.10</td>\n      <td>11.63</td>\n    </tr>\n    <tr>\n      <th>2017-09-07</th>\n      <td>62.00</td>\n      <td>26.31</td>\n      <td>258.68</td>\n      <td>11.55</td>\n    </tr>\n    <tr>\n      <th>2017-09-08</th>\n      <td>61.13</td>\n      <td>26.53</td>\n      <td>260.08</td>\n      <td>12.12</td>\n    </tr>\n    <tr>\n      <th>2017-09-11</th>\n      <td>62.64</td>\n      <td>27.58</td>\n      <td>285.22</td>\n      <td>10.73</td>\n    </tr>\n  </tbody>\n</table>\n</div>",
      "text/plain": "            PayPal  Square  Mercadolibre    Vix\n2017-09-05   61.27   25.77        256.63  12.23\n2017-09-06   61.25   26.07        258.10  11.63\n2017-09-07   62.00   26.31        258.68  11.55\n2017-09-08   61.13   26.53        260.08  12.12\n2017-09-11   62.64   27.58        285.22  10.73"
     },
     "execution_count": 54,
     "metadata": {},
     "output_type": "execute_result"
    }
   ],
   "source": [
    "data = fintech_df.join(vix_df, how = \"inner\")\n",
    "data.sort_index(inplace=True)\n",
    "data.head()"
   ]
  },
  {
   "cell_type": "code",
   "execution_count": 55,
   "metadata": {},
   "outputs": [],
   "source": [
    "def window_data(df, window, feature_col_number, target_col_number):\n",
    "    X = []\n",
    "    y = []\n",
    "    for i in range(len(df) - window):\n",
    "        features = df.iloc[i : (i + window), feature_col_number]\n",
    "        target = df.iloc[(i + window), target_col_number]\n",
    "        X.append(features)\n",
    "        y.append(target)\n",
    "    return np.array(X), np.array(y).reshape(-1, 1)"
   ]
  },
  {
   "cell_type": "code",
   "execution_count": 56,
   "metadata": {},
   "outputs": [
    {
     "name": "stdout",
     "output_type": "stream",
     "text": [
      "X sample values:\n",
      "[[25.77   26.07   26.31   26.53   27.58   27.25   27.48   28.64   28.5\n",
      "  28.675  28.56   28.48   28.41   28.74   27.46   27.61   28.06   28.48\n",
      "  28.81   29.38   29.94   30.14   30.76   30.78   31.07   31.32   31.9965\n",
      "  32.82   32.81   33.22   32.69   32.52   32.1103 32.495  32.52   32.71\n",
      "  32.9    34.11   35.2    35.75   37.19   36.47   36.08   36.89   37.19\n",
      "  36.77   36.71   37.97   39.2    39.99   39.75   40.66   41.89   44.18\n",
      "  45.22   48.07   48.81   48.86   41.0001 42.55   39.12   39.2099 38.22\n",
      "  36.86   37.595  37.6148 38.7299 38.082  38.31   38.08   36.215  37.02\n",
      "  37.02   37.76   36.91   35.66   35.87   35.13   35.05   35.74   35.11\n",
      "  34.67   36.1786 37.31   38.1    41.14   40.77   40.8764 40.84   42.29\n",
      "  41.25   39.32   40.07   40.26   42.54   45.3    45.02   44.325  45.12\n",
      "  45.97  ]\n",
      " [26.07   26.31   26.53   27.58   27.25   27.48   28.64   28.5    28.675\n",
      "  28.56   28.48   28.41   28.74   27.46   27.61   28.06   28.48   28.81\n",
      "  29.38   29.94   30.14   30.76   30.78   31.07   31.32   31.9965 32.82\n",
      "  32.81   33.22   32.69   32.52   32.1103 32.495  32.52   32.71   32.9\n",
      "  34.11   35.2    35.75   37.19   36.47   36.08   36.89   37.19   36.77\n",
      "  36.71   37.97   39.2    39.99   39.75   40.66   41.89   44.18   45.22\n",
      "  48.07   48.81   48.86   41.0001 42.55   39.12   39.2099 38.22   36.86\n",
      "  37.595  37.6148 38.7299 38.082  38.31   38.08   36.215  37.02   37.02\n",
      "  37.76   36.91   35.66   35.87   35.13   35.05   35.74   35.11   34.67\n",
      "  36.1786 37.31   38.1    41.14   40.77   40.8764 40.84   42.29   41.25\n",
      "  39.32   40.07   40.26   42.54   45.3    45.02   44.325  45.12   45.97\n",
      "  45.43  ]\n",
      " [26.31   26.53   27.58   27.25   27.48   28.64   28.5    28.675  28.56\n",
      "  28.48   28.41   28.74   27.46   27.61   28.06   28.48   28.81   29.38\n",
      "  29.94   30.14   30.76   30.78   31.07   31.32   31.9965 32.82   32.81\n",
      "  33.22   32.69   32.52   32.1103 32.495  32.52   32.71   32.9    34.11\n",
      "  35.2    35.75   37.19   36.47   36.08   36.89   37.19   36.77   36.71\n",
      "  37.97   39.2    39.99   39.75   40.66   41.89   44.18   45.22   48.07\n",
      "  48.81   48.86   41.0001 42.55   39.12   39.2099 38.22   36.86   37.595\n",
      "  37.6148 38.7299 38.082  38.31   38.08   36.215  37.02   37.02   37.76\n",
      "  36.91   35.66   35.87   35.13   35.05   35.74   35.11   34.67   36.1786\n",
      "  37.31   38.1    41.14   40.77   40.8764 40.84   42.29   41.25   39.32\n",
      "  40.07   40.26   42.54   45.3    45.02   44.325  45.12   45.97   45.43\n",
      "  45.51  ]] \n",
      "\n",
      "y sample values:\n",
      "[[45.43]\n",
      " [45.51]\n",
      " [46.91]]\n"
     ]
    }
   ],
   "source": [
    "window_size = 100\n",
    "feature_column = 1\n",
    "target_column = 1\n",
    "X, y = window_data(fintech_df, window_size, feature_column, target_column)\n",
    "print (f\"X sample values:\\n{X[:3]} \\n\")\n",
    "print (f\"y sample values:\\n{y[:3]}\")"
   ]
  },
  {
   "cell_type": "code",
   "execution_count": 57,
   "metadata": {},
   "outputs": [
    {
     "name": "stdout",
     "output_type": "stream",
     "text": [
      "[[ 25.77    26.07    26.31   ...  44.325   45.12    45.97  ]\n",
      " [ 26.07    26.31    26.53   ...  45.12    45.97    45.43  ]\n",
      " [ 26.31    26.53    27.58   ...  45.97    45.43    45.51  ]\n",
      " ...\n",
      " [212.62   227.11   229.51   ... 260.89   259.66   257.41  ]\n",
      " [227.11   229.51   229.8601 ... 259.66   257.41   263.05  ]\n",
      " [229.51   229.8601 236.58   ... 257.41   263.05   270.44  ]]\n"
     ]
    }
   ],
   "source": [
    "print(X)"
   ]
  },
  {
   "cell_type": "code",
   "execution_count": 58,
   "metadata": {},
   "outputs": [],
   "source": [
    "split = int(0.6 * len(X))\n",
    "X_train = X[: split]\n",
    "X_test = X[split :]\n",
    "y_train = y[: split]\n",
    "y_test = y[split :]"
   ]
  },
  {
   "cell_type": "code",
   "execution_count": 59,
   "metadata": {},
   "outputs": [],
   "source": [
    "from sklearn.preprocessing import MinMaxScaler\n",
    "#x_train_scaler = MinMaxScaler()\n",
    "#y_train_scaler = MinMaxScaler()\n",
    "#x_train_scaler.fit(X_train)\n",
    "#y_train_scaler.fit(y_train)\n",
    "#X_train = x_train_scaler.transform(X_train)\n",
    "#y_train = y_train_scaler.transform(y_train)\n",
    "#X_test = x_train_scaler.transform(X_test)\n",
    "#y_test = y_train_scaler.transform(y_test)\n",
    "scaler = MinMaxScaler()\n",
    "scaler.fit(X)\n",
    "X_train = scaler.transform(X_train)\n",
    "X_test = scaler.transform(X_test)\n",
    "scaler.fit(y)\n",
    "y_train = scaler.transform(y_train)\n",
    "y_test = scaler.transform(y_test)"
   ]
  },
  {
   "cell_type": "code",
   "execution_count": 60,
   "metadata": {},
   "outputs": [],
   "source": [
    "X_train = X_train.reshape((X_train.shape[0], X_train.shape[1], 1))\n",
    "X_test = X_test.reshape((X_test.shape[0], X_test.shape[1], 1))\n",
    "#print (f\"X_train sample values:\\n{X_train[:5]} \\n\")\n",
    "#print (f\"X_test sample values:\\n{X_test[:5]}\")"
   ]
  },
  {
   "cell_type": "code",
   "execution_count": 61,
   "metadata": {},
   "outputs": [],
   "source": [
    "from tensorflow.keras.models import Sequential\n",
    "from tensorflow.keras.layers import LSTM, Dense, Dropout"
   ]
  },
  {
   "cell_type": "code",
   "execution_count": 62,
   "metadata": {},
   "outputs": [],
   "source": [
    "model = Sequential()\n",
    "\n",
    "#Adding number_units to the architecture enables the model to far more accurate that with a single digit number\n",
    "number_units = 100\n",
    "dropout_fraction = 0.2\n",
    "\n",
    "\n",
    "# Layer 1\n",
    "model.add(LSTM(units=number_units, return_sequences=True, input_shape=(X_train.shape[1], 1)))\n",
    "model.add(Dropout(dropout_fraction))\n",
    "# Layer 2\n",
    "model.add(LSTM(units=number_units, return_sequences=True))\n",
    "model.add(Dropout(dropout_fraction))\n",
    "# Layer 3\n",
    "model.add(LSTM(units=number_units))\n",
    "model.add(Dropout(dropout_fraction))\n",
    "# Output layer\n",
    "model.add(Dense(1))"
   ]
  },
  {
   "cell_type": "code",
   "execution_count": 63,
   "metadata": {},
   "outputs": [],
   "source": [
    "model.compile(optimizer=\"adam\", loss=\"mean_squared_error\")"
   ]
  },
  {
   "cell_type": "code",
   "execution_count": 64,
   "metadata": {},
   "outputs": [
    {
     "name": "stdout",
     "output_type": "stream",
     "text": [
      "Model: \"sequential_2\"\n",
      "_________________________________________________________________\n",
      "Layer (type)                 Output Shape              Param #   \n",
      "=================================================================\n",
      "lstm_6 (LSTM)                (None, 100, 100)          40800     \n",
      "_________________________________________________________________\n",
      "dropout_6 (Dropout)          (None, 100, 100)          0         \n",
      "_________________________________________________________________\n",
      "lstm_7 (LSTM)                (None, 100, 100)          80400     \n",
      "_________________________________________________________________\n",
      "dropout_7 (Dropout)          (None, 100, 100)          0         \n",
      "_________________________________________________________________\n",
      "lstm_8 (LSTM)                (None, 100)               80400     \n",
      "_________________________________________________________________\n",
      "dropout_8 (Dropout)          (None, 100)               0         \n",
      "_________________________________________________________________\n",
      "dense_2 (Dense)              (None, 1)                 101       \n",
      "=================================================================\n",
      "Total params: 201,701\n",
      "Trainable params: 201,701\n",
      "Non-trainable params: 0\n",
      "_________________________________________________________________\n"
     ]
    }
   ],
   "source": [
    "model.summary()"
   ]
  },
  {
   "cell_type": "code",
   "execution_count": 65,
   "metadata": {},
   "outputs": [
    {
     "name": "stdout",
     "output_type": "stream",
     "text": [
      "Epoch 1/20\n",
      "6/6 [==============================] - 5s 256ms/step - loss: 0.0051\n",
      "Epoch 2/20\n",
      "6/6 [==============================] - 2s 262ms/step - loss: 0.0023\n",
      "Epoch 3/20\n",
      "6/6 [==============================] - 2s 266ms/step - loss: 0.0014\n",
      "Epoch 4/20\n",
      "6/6 [==============================] - 1s 244ms/step - loss: 0.0014\n",
      "Epoch 5/20\n",
      "6/6 [==============================] - 2s 254ms/step - loss: 0.0012\n",
      "Epoch 6/20\n",
      "6/6 [==============================] - 2s 275ms/step - loss: 0.0010\n",
      "Epoch 7/20\n",
      "6/6 [==============================] - 2s 265ms/step - loss: 9.2494e-04\n",
      "Epoch 8/20\n",
      "6/6 [==============================] - 2s 293ms/step - loss: 7.3118e-04\n",
      "Epoch 9/20\n",
      "6/6 [==============================] - 2s 310ms/step - loss: 7.7450e-04\n",
      "Epoch 10/20\n",
      "6/6 [==============================] - 2s 285ms/step - loss: 6.8263e-04\n",
      "Epoch 11/20\n",
      "6/6 [==============================] - 2s 287ms/step - loss: 6.4787e-04\n",
      "Epoch 12/20\n",
      "6/6 [==============================] - 2s 302ms/step - loss: 6.1303e-04\n",
      "Epoch 13/20\n",
      "6/6 [==============================] - 2s 305ms/step - loss: 6.1935e-04\n",
      "Epoch 14/20\n",
      "6/6 [==============================] - 2s 267ms/step - loss: 6.1236e-04\n",
      "Epoch 15/20\n",
      "6/6 [==============================] - 2s 270ms/step - loss: 6.1376e-04\n",
      "Epoch 16/20\n",
      "6/6 [==============================] - 2s 260ms/step - loss: 6.0577e-04\n",
      "Epoch 17/20\n",
      "6/6 [==============================] - 2s 295ms/step - loss: 5.7034e-04\n",
      "Epoch 18/20\n",
      "6/6 [==============================] - 2s 296ms/step - loss: 5.3824e-04\n",
      "Epoch 19/20\n",
      "6/6 [==============================] - 2s 269ms/step - loss: 5.3318e-04\n",
      "Epoch 20/20\n",
      "6/6 [==============================] - 2s 268ms/step - loss: 4.9902e-04\n"
     ]
    },
    {
     "data": {
      "text/plain": "<tensorflow.python.keras.callbacks.History at 0x7fb4389c8370>"
     },
     "execution_count": 65,
     "metadata": {},
     "output_type": "execute_result"
    }
   ],
   "source": [
    "model.fit(X_train, y_train, epochs=20, shuffle=False, batch_size=100, verbose=1)"
   ]
  },
  {
   "cell_type": "code",
   "execution_count": 66,
   "metadata": {},
   "outputs": [
    {
     "name": "stdout",
     "output_type": "stream",
     "text": [
      "12/12 [==============================] - 1s 38ms/step - loss: 0.0139\n"
     ]
    },
    {
     "data": {
      "text/plain": "0.013886108994483948"
     },
     "execution_count": 66,
     "metadata": {},
     "output_type": "execute_result"
    }
   ],
   "source": [
    "model.evaluate(X_test, y_test)"
   ]
  },
  {
   "cell_type": "code",
   "execution_count": 67,
   "metadata": {},
   "outputs": [],
   "source": [
    "predicted = model.predict(X_test)"
   ]
  },
  {
   "cell_type": "code",
   "execution_count": 68,
   "metadata": {},
   "outputs": [],
   "source": [
    "predicted_prices = scaler.inverse_transform(predicted)\n",
    "real_prices = scaler.inverse_transform(y_test.reshape(-1, 1))"
   ]
  },
  {
   "cell_type": "code",
   "execution_count": 69,
   "metadata": {},
   "outputs": [
    {
     "data": {
      "text/html": "<div>\n<style scoped>\n    .dataframe tbody tr th:only-of-type {\n        vertical-align: middle;\n    }\n\n    .dataframe tbody tr th {\n        vertical-align: top;\n    }\n\n    .dataframe thead th {\n        text-align: right;\n    }\n</style>\n<table border=\"1\" class=\"dataframe\">\n  <thead>\n    <tr style=\"text-align: right;\">\n      <th></th>\n      <th>Real</th>\n      <th>Predicted</th>\n    </tr>\n  </thead>\n  <tbody>\n    <tr>\n      <th>2021-08-11</th>\n      <td>271.01</td>\n      <td>234.405029</td>\n    </tr>\n    <tr>\n      <th>2021-08-12</th>\n      <td>268.57</td>\n      <td>236.036255</td>\n    </tr>\n    <tr>\n      <th>2021-08-13</th>\n      <td>267.94</td>\n      <td>236.945038</td>\n    </tr>\n    <tr>\n      <th>2021-08-16</th>\n      <td>263.48</td>\n      <td>237.107422</td>\n    </tr>\n    <tr>\n      <th>2021-08-17</th>\n      <td>260.89</td>\n      <td>236.446976</td>\n    </tr>\n    <tr>\n      <th>2021-08-18</th>\n      <td>259.66</td>\n      <td>234.993179</td>\n    </tr>\n    <tr>\n      <th>2021-08-19</th>\n      <td>257.41</td>\n      <td>232.886398</td>\n    </tr>\n    <tr>\n      <th>2021-08-20</th>\n      <td>263.05</td>\n      <td>230.261368</td>\n    </tr>\n    <tr>\n      <th>2021-08-23</th>\n      <td>270.44</td>\n      <td>227.558029</td>\n    </tr>\n    <tr>\n      <th>2021-08-24</th>\n      <td>270.17</td>\n      <td>225.319061</td>\n    </tr>\n  </tbody>\n</table>\n</div>",
      "text/plain": "              Real   Predicted\n2021-08-11  271.01  234.405029\n2021-08-12  268.57  236.036255\n2021-08-13  267.94  236.945038\n2021-08-16  263.48  237.107422\n2021-08-17  260.89  236.446976\n2021-08-18  259.66  234.993179\n2021-08-19  257.41  232.886398\n2021-08-20  263.05  230.261368\n2021-08-23  270.44  227.558029\n2021-08-24  270.17  225.319061"
     },
     "execution_count": 69,
     "metadata": {},
     "output_type": "execute_result"
    }
   ],
   "source": [
    "stocks = pd.DataFrame({\n",
    "    \"Real\": real_prices.ravel(),\n",
    "    \"Predicted\": predicted_prices.ravel()\n",
    "    }, index = fintech_df.index[-len(real_prices): ])\n",
    "stocks.tail(10)"
   ]
  },
  {
   "cell_type": "code",
   "execution_count": 70,
   "metadata": {},
   "outputs": [
    {
     "data": {},
     "metadata": {},
     "output_type": "display_data"
    },
    {
     "data": {
      "application/vnd.holoviews_exec.v0+json": "",
      "text/html": "<div id='1386'>\n\n\n\n\n\n  <div class=\"bk-root\" id=\"c8d585d3-4b61-4a0a-94b0-b328f3d99f9e\" data-root-id=\"1386\"></div>\n</div>\n<script type=\"application/javascript\">(function(root) {\n  function embed_document(root) {\n  var docs_json = {\"1f9f0ab2-34cd-43b3-91b6-66931be5980f\":{\"roots\":{\"references\":[{\"attributes\":{\"base\":24,\"mantissas\":[1,2,4,6,8,12],\"max_interval\":43200000.0,\"min_interval\":3600000.0,\"num_minor_ticks\":0},\"id\":\"1441\",\"type\":\"AdaptiveTicker\"},{\"attributes\":{},\"id\":\"1406\",\"type\":\"BasicTicker\"},{\"attributes\":{\"line_alpha\":0.1,\"line_color\":\"#1f77b3\",\"line_width\":2,\"x\":{\"field\":\"index\"},\"y\":{\"field\":\"value\"}},\"id\":\"1430\",\"type\":\"Line\"},{\"attributes\":{\"line_color\":\"#ff7e0e\",\"line_width\":2,\"x\":{\"field\":\"index\"},\"y\":{\"field\":\"value\"}},\"id\":\"1457\",\"type\":\"Line\"},{\"attributes\":{\"line_color\":\"#1f77b3\",\"line_width\":2,\"x\":{\"field\":\"index\"},\"y\":{\"field\":\"value\"}},\"id\":\"1429\",\"type\":\"Line\"},{\"attributes\":{\"line_alpha\":0.1,\"line_color\":\"#ff7e0e\",\"line_width\":2,\"x\":{\"field\":\"index\"},\"y\":{\"field\":\"value\"}},\"id\":\"1458\",\"type\":\"Line\"},{\"attributes\":{\"months\":[0,1,2,3,4,5,6,7,8,9,10,11]},\"id\":\"1446\",\"type\":\"MonthsTicker\"},{\"attributes\":{\"line_alpha\":0.2,\"line_color\":\"#ff7e0e\",\"line_width\":2,\"x\":{\"field\":\"index\"},\"y\":{\"field\":\"value\"}},\"id\":\"1459\",\"type\":\"Line\"},{\"attributes\":{},\"id\":\"1397\",\"type\":\"LinearScale\"},{\"attributes\":{\"months\":[0,2,4,6,8,10]},\"id\":\"1447\",\"type\":\"MonthsTicker\"},{\"attributes\":{\"source\":{\"id\":\"1454\"}},\"id\":\"1461\",\"type\":\"CDSView\"},{\"attributes\":{\"margin\":[5,5,5,5],\"name\":\"HSpacer01992\",\"sizing_mode\":\"stretch_width\"},\"id\":\"1387\",\"type\":\"Spacer\"},{\"attributes\":{\"days\":[1,4,7,10,13,16,19,22,25,28]},\"id\":\"1443\",\"type\":\"DaysTicker\"},{\"attributes\":{\"bottom_units\":\"screen\",\"fill_alpha\":0.5,\"fill_color\":\"lightgrey\",\"left_units\":\"screen\",\"level\":\"overlay\",\"line_alpha\":1.0,\"line_color\":\"black\",\"line_dash\":[4,4],\"line_width\":2,\"render_mode\":\"css\",\"right_units\":\"screen\",\"top_units\":\"screen\"},\"id\":\"1414\",\"type\":\"BoxAnnotation\"},{\"attributes\":{\"days\":[1,15]},\"id\":\"1445\",\"type\":\"DaysTicker\"},{\"attributes\":{\"line_alpha\":0.2,\"line_color\":\"#1f77b3\",\"line_width\":2,\"x\":{\"field\":\"index\"},\"y\":{\"field\":\"value\"}},\"id\":\"1431\",\"type\":\"Line\"},{\"attributes\":{},\"id\":\"1455\",\"type\":\"Selection\"},{\"attributes\":{\"months\":[0,6]},\"id\":\"1449\",\"type\":\"MonthsTicker\"},{\"attributes\":{\"axis_label\":\"Price\",\"bounds\":\"auto\",\"formatter\":{\"id\":\"1425\"},\"major_label_orientation\":\"horizontal\",\"ticker\":{\"id\":\"1406\"}},\"id\":\"1405\",\"type\":\"LinearAxis\"},{\"attributes\":{\"days\":[1,8,15,22]},\"id\":\"1444\",\"type\":\"DaysTicker\"},{\"attributes\":{\"text\":\"PayPal LSTM Model\",\"text_color\":{\"value\":\"black\"},\"text_font_size\":{\"value\":\"12pt\"}},\"id\":\"1393\",\"type\":\"Title\"},{\"attributes\":{\"source\":{\"id\":\"1426\"}},\"id\":\"1433\",\"type\":\"CDSView\"},{\"attributes\":{},\"id\":\"1490\",\"type\":\"UnionRenderers\"},{\"attributes\":{\"axis\":{\"id\":\"1401\"},\"grid_line_color\":null,\"ticker\":null},\"id\":\"1404\",\"type\":\"Grid\"},{\"attributes\":{},\"id\":\"1450\",\"type\":\"YearsTicker\"},{\"attributes\":{\"axis_label\":\"Date\",\"bounds\":\"auto\",\"formatter\":{\"id\":\"1423\"},\"major_label_orientation\":\"horizontal\",\"ticker\":{\"id\":\"1402\"}},\"id\":\"1401\",\"type\":\"DatetimeAxis\"},{\"attributes\":{\"label\":{\"value\":\"Predicted\"},\"renderers\":[{\"id\":\"1460\"}]},\"id\":\"1482\",\"type\":\"LegendItem\"},{\"attributes\":{\"months\":[0,4,8]},\"id\":\"1448\",\"type\":\"MonthsTicker\"},{\"attributes\":{\"click_policy\":\"mute\",\"items\":[{\"id\":\"1453\"},{\"id\":\"1482\"}],\"location\":[0,0],\"title\":\"Variable\"},\"id\":\"1452\",\"type\":\"Legend\"},{\"attributes\":{\"num_minor_ticks\":5,\"tickers\":[{\"id\":\"1439\"},{\"id\":\"1440\"},{\"id\":\"1441\"},{\"id\":\"1442\"},{\"id\":\"1443\"},{\"id\":\"1444\"},{\"id\":\"1445\"},{\"id\":\"1446\"},{\"id\":\"1447\"},{\"id\":\"1448\"},{\"id\":\"1449\"},{\"id\":\"1450\"}]},\"id\":\"1402\",\"type\":\"DatetimeTicker\"},{\"attributes\":{\"callback\":null,\"formatters\":{\"@{index}\":\"datetime\"},\"renderers\":[{\"id\":\"1432\"},{\"id\":\"1460\"}],\"tags\":[\"hv_created\"],\"tooltips\":[[\"Variable\",\"@{Variable}\"],[\"index\",\"@{index}{%F %T}\"],[\"value\",\"@{value}\"]]},\"id\":\"1390\",\"type\":\"HoverTool\"},{\"attributes\":{},\"id\":\"1467\",\"type\":\"UnionRenderers\"},{\"attributes\":{\"data\":{\"Variable\":[\"Predicted\",\"Predicted\",\"Predicted\",\"Predicted\",\"Predicted\",\"Predicted\",\"Predicted\",\"Predicted\",\"Predicted\",\"Predicted\",\"Predicted\",\"Predicted\",\"Predicted\",\"Predicted\",\"Predicted\",\"Predicted\",\"Predicted\",\"Predicted\",\"Predicted\",\"Predicted\",\"Predicted\",\"Predicted\",\"Predicted\",\"Predicted\",\"Predicted\",\"Predicted\",\"Predicted\",\"Predicted\",\"Predicted\",\"Predicted\",\"Predicted\",\"Predicted\",\"Predicted\",\"Predicted\",\"Predicted\",\"Predicted\",\"Predicted\",\"Predicted\",\"Predicted\",\"Predicted\",\"Predicted\",\"Predicted\",\"Predicted\",\"Predicted\",\"Predicted\",\"Predicted\",\"Predicted\",\"Predicted\",\"Predicted\",\"Predicted\",\"Predicted\",\"Predicted\",\"Predicted\",\"Predicted\",\"Predicted\",\"Predicted\",\"Predicted\",\"Predicted\",\"Predicted\",\"Predicted\",\"Predicted\",\"Predicted\",\"Predicted\",\"Predicted\",\"Predicted\",\"Predicted\",\"Predicted\",\"Predicted\",\"Predicted\",\"Predicted\",\"Predicted\",\"Predicted\",\"Predicted\",\"Predicted\",\"Predicted\",\"Predicted\",\"Predicted\",\"Predicted\",\"Predicted\",\"Predicted\",\"Predicted\",\"Predicted\",\"Predicted\",\"Predicted\",\"Predicted\",\"Predicted\",\"Predicted\",\"Predicted\",\"Predicted\",\"Predicted\",\"Predicted\",\"Predicted\",\"Predicted\",\"Predicted\",\"Predicted\",\"Predicted\",\"Predicted\",\"Predicted\",\"Predicted\",\"Predicted\",\"Predicted\",\"Predicted\",\"Predicted\",\"Predicted\",\"Predicted\",\"Predicted\",\"Predicted\",\"Predicted\",\"Predicted\",\"Predicted\",\"Predicted\",\"Predicted\",\"Predicted\",\"Predicted\",\"Predicted\",\"Predicted\",\"Predicted\",\"Predicted\",\"Predicted\",\"Predicted\",\"Predicted\",\"Predicted\",\"Predicted\",\"Predicted\",\"Predicted\",\"Predicted\",\"Predicted\",\"Predicted\",\"Predicted\",\"Predicted\",\"Predicted\",\"Predicted\",\"Predicted\",\"Predicted\",\"Predicted\",\"Predicted\",\"Predicted\",\"Predicted\",\"Predicted\",\"Predicted\",\"Predicted\",\"Predicted\",\"Predicted\",\"Predicted\",\"Predicted\",\"Predicted\",\"Predicted\",\"Predicted\",\"Predicted\",\"Predicted\",\"Predicted\",\"Predicted\",\"Predicted\",\"Predicted\",\"Predicted\",\"Predicted\",\"Predicted\",\"Predicted\",\"Predicted\",\"Predicted\",\"Predicted\",\"Predicted\",\"Predicted\",\"Predicted\",\"Predicted\",\"Predicted\",\"Predicted\",\"Predicted\",\"Predicted\",\"Predicted\",\"Predicted\",\"Predicted\",\"Predicted\",\"Predicted\",\"Predicted\",\"Predicted\",\"Predicted\",\"Predicted\",\"Predicted\",\"Predicted\",\"Predicted\",\"Predicted\",\"Predicted\",\"Predicted\",\"Predicted\",\"Predicted\",\"Predicted\",\"Predicted\",\"Predicted\",\"Predicted\",\"Predicted\",\"Predicted\",\"Predicted\",\"Predicted\",\"Predicted\",\"Predicted\",\"Predicted\",\"Predicted\",\"Predicted\",\"Predicted\",\"Predicted\",\"Predicted\",\"Predicted\",\"Predicted\",\"Predicted\",\"Predicted\",\"Predicted\",\"Predicted\",\"Predicted\",\"Predicted\",\"Predicted\",\"Predicted\",\"Predicted\",\"Predicted\",\"Predicted\",\"Predicted\",\"Predicted\",\"Predicted\",\"Predicted\",\"Predicted\",\"Predicted\",\"Predicted\",\"Predicted\",\"Predicted\",\"Predicted\",\"Predicted\",\"Predicted\",\"Predicted\",\"Predicted\",\"Predicted\",\"Predicted\",\"Predicted\",\"Predicted\",\"Predicted\",\"Predicted\",\"Predicted\",\"Predicted\",\"Predicted\",\"Predicted\",\"Predicted\",\"Predicted\",\"Predicted\",\"Predicted\",\"Predicted\",\"Predicted\",\"Predicted\",\"Predicted\",\"Predicted\",\"Predicted\",\"Predicted\",\"Predicted\",\"Predicted\",\"Predicted\",\"Predicted\",\"Predicted\",\"Predicted\",\"Predicted\",\"Predicted\",\"Predicted\",\"Predicted\",\"Predicted\",\"Predicted\",\"Predicted\",\"Predicted\",\"Predicted\",\"Predicted\",\"Predicted\",\"Predicted\",\"Predicted\",\"Predicted\",\"Predicted\",\"Predicted\",\"Predicted\",\"Predicted\",\"Predicted\",\"Predicted\",\"Predicted\",\"Predicted\",\"Predicted\",\"Predicted\",\"Predicted\",\"Predicted\",\"Predicted\",\"Predicted\",\"Predicted\",\"Predicted\",\"Predicted\",\"Predicted\",\"Predicted\",\"Predicted\",\"Predicted\",\"Predicted\",\"Predicted\",\"Predicted\",\"Predicted\",\"Predicted\",\"Predicted\",\"Predicted\",\"Predicted\",\"Predicted\",\"Predicted\",\"Predicted\",\"Predicted\",\"Predicted\",\"Predicted\",\"Predicted\",\"Predicted\",\"Predicted\",\"Predicted\",\"Predicted\",\"Predicted\",\"Predicted\",\"Predicted\",\"Predicted\",\"Predicted\",\"Predicted\",\"Predicted\",\"Predicted\",\"Predicted\",\"Predicted\",\"Predicted\",\"Predicted\",\"Predicted\",\"Predicted\",\"Predicted\",\"Predicted\",\"Predicted\",\"Predicted\",\"Predicted\",\"Predicted\",\"Predicted\",\"Predicted\",\"Predicted\",\"Predicted\",\"Predicted\",\"Predicted\",\"Predicted\",\"Predicted\",\"Predicted\",\"Predicted\",\"Predicted\",\"Predicted\",\"Predicted\",\"Predicted\",\"Predicted\",\"Predicted\",\"Predicted\",\"Predicted\",\"Predicted\",\"Predicted\",\"Predicted\",\"Predicted\",\"Predicted\",\"Predicted\",\"Predicted\",\"Predicted\",\"Predicted\",\"Predicted\",\"Predicted\",\"Predicted\"],\"index\":{\"__ndarray__\":\"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\",\"dtype\":\"float64\",\"shape\":[360]},\"value\":{\"__ndarray__\":\"p3I/QkDGMEInYCVC9Z0eQlUjHUJELSBC3dkmQhC3L0I81DhCz+lAQr8QR0I83ktCyK9PQvueU0LFVFhCHOhdQgtyZEKZf2tCeQhyQhXrd0JC/3xCblaAQoKdgUJne4JCUgqDQgx2g0KPsYNCs/uDQkBfhEKgs4RCy+2EQvI6hULwwIVC0OyGQprkiEK7dItCU1uOQiA7kUIgGpRC5QeXQmawmUI8C5xCdTqeQqQ3oEKC86FC/lOjQvJNpEIoy6RCEuekQk7UpEKWCKVCk+ylQhNCp0Ld9KhCu9OqQhSvrEKEiK5CjuuvQtOhsEK+ALFCI3exQvJTskKXt7NCE4i1Qs4BuEJpGLtC5U6+QveOwUKopMRCBlfHQrCXyUK9G8xCAOfOQkQ10kJrYNZCws7bQmEE4kKWV+hCV5btQgpc8ULjn/NCS1/0Qu7T80KB0PJC6q3xQk/E8EKhw+9CZ3PuQmUX7ULZsOtC36HqQrYa6kJHKepCPBHrQuzm7EICJ/BC7jf1QvBb+0KEpgBDsB0DQzzpBENDJQZD2N0GQ46DB0MCNghDXvQIQ7LlCUPf/gpDOQoMQzUCDUNU0g1DJ38OQ2UJD0M+kA9DbloQQ+dQEUNW/RFDl/YRQ8HmEENpBw9DC4UMQ56DCUMJfQZDBR0EQx6LAkOhlQFDqxABQ2EQAUMysgFD1bICQ5T2A0OyjQVDW34HQ+PSCUOQWAxDrxEPQz7nEUNtGRVDR2QYQ060G0OS/R5DMT0iQ01BJUM+DyhDHngqQxdoLEMTvi1DnHkuQ2GbLkPj7y1DzG8sQ+9LKkNogidD+U0kQz3OIEOyUx1DQZQZQ52hFUNlxxFDl7sOQwrvDEM0Pw1DZTcPQ1XoEUNoGxVDt1wYQ/RQG0Mi1x1DIS0gQxNPIkOxZyRDFaAmQ/VYKUNVYixD6dUvQ+GKM0O0MTdDQTo6Q2tZPEO2mj1D6Sw+Q9JfPkOFYz5DOhY+Q6zTPUOEtT1DErk9Q4D2PUNzqD5DOe0/Q5/XQUOGKkRD4O1GQ+KPSUPep0tD2dtMQ4TITENxtktDyNVJQziLR0Ngc0VDTr9DQ/j1QkMMPkNDq+ZDQ3OgREO4XkVDFyJGQ3C1RkNoAkdD3wBHQ2R6RkPYkEVDGjBEQ9UwQkPdaz9DQ6w8Q1k8OkMSfjhD3sI3Q9UMOEOAjTlDWDE8Q5JdQEMfxkVDiN9LQ1lmUkNdK1lDTuxfQx0bZkPaV2tDrJ1vQzmZckOg1HNDC6dyQ/zVbkOF8WhDph5iQyubW0OCb1VDpjtPQ/T8SEPVY0JDcG48Q5SxN0My9DRDylk0QxX6NUPVMDlD8Hk9Q06AQUMJpkRDO8JGQ5fFR0P0e0dDSeBFQw1jQ0N6N0BDdOA8Q5pCOkO/zThDA5g4Q+C0OUOzPDxDjF5AQ3fkRUOLakxDQalTQ8GUWkO9tWBDC31lQ/lSaEOjMGlDr1hoQycvZkMEL2NDUxpgQxVJXUP77VpDOOBYQ9T3VkMRIFVDZuhSQ4tMUEPPKk1DHvtJQ2d2RkPK2UJD3OI+Q0hYOkNHyTVDh3ExQ7qTLUMZRipD7MsnQ8gPJkNhYyVDTfolQxLuJ0Pf/ipDF9suQ5MdM0PSWTdD+uo6Q0qfPUPviz9DnrBAQ6MAQUNC10BDsn9AQymPQEMnEkFDbt9BQyg0Q0OfDEVDCiBHQ2pESUMWZUtDdpZNQ9ChT0PWm1FD44xTQ2k2VUNhZVZD4AJXQ21HV0NPPVdDS6NWQ4GwVUOMmVRDQHFTQ98zUkPZyVBDqFBPQ7W/TUN+m0xDn3NMQ/p6TUPBq09DaatSQ763VUOSnVhDyxJbQ7upXEP/MV5DUtZfQ1F6YUPCjWNDYdNlQ9M9aEOwZ2pDSAlsQ+7xbEOAG21DbXJsQ0H+akPr4mhD6UJmQ9uOY0OuUWFD\",\"dtype\":\"float32\",\"shape\":[360]}},\"selected\":{\"id\":\"1455\"},\"selection_policy\":{\"id\":\"1490\"}},\"id\":\"1454\",\"type\":\"ColumnDataSource\"},{\"attributes\":{\"below\":[{\"id\":\"1401\"}],\"center\":[{\"id\":\"1404\"},{\"id\":\"1408\"}],\"left\":[{\"id\":\"1405\"}],\"margin\":null,\"min_border_bottom\":10,\"min_border_left\":10,\"min_border_right\":10,\"min_border_top\":10,\"plot_height\":300,\"plot_width\":1000,\"renderers\":[{\"id\":\"1432\"},{\"id\":\"1460\"}],\"right\":[{\"id\":\"1452\"}],\"sizing_mode\":\"fixed\",\"title\":{\"id\":\"1393\"},\"toolbar\":{\"id\":\"1415\"},\"x_range\":{\"id\":\"1388\"},\"x_scale\":{\"id\":\"1397\"},\"y_range\":{\"id\":\"1389\"},\"y_scale\":{\"id\":\"1399\"}},\"id\":\"1392\",\"subtype\":\"Figure\",\"type\":\"Plot\"},{\"attributes\":{\"label\":{\"value\":\"Real\"},\"renderers\":[{\"id\":\"1432\"}]},\"id\":\"1453\",\"type\":\"LegendItem\"},{\"attributes\":{},\"id\":\"1399\",\"type\":\"LinearScale\"},{\"attributes\":{\"children\":[{\"id\":\"1387\"},{\"id\":\"1392\"},{\"id\":\"1659\"}],\"margin\":[0,0,0,0],\"name\":\"Row01988\",\"tags\":[\"embedded\"]},\"id\":\"1386\",\"type\":\"Row\"},{\"attributes\":{},\"id\":\"1410\",\"type\":\"PanTool\"},{\"attributes\":{\"axis\":{\"id\":\"1405\"},\"dimension\":1,\"grid_line_color\":null,\"ticker\":null},\"id\":\"1408\",\"type\":\"Grid\"},{\"attributes\":{\"end\":306.05154960632325,\"reset_end\":306.05154960632325,\"reset_start\":15.032954330444333,\"start\":15.032954330444333,\"tags\":[[[\"value\",\"value\",null]]]},\"id\":\"1389\",\"type\":\"Range1d\"},{\"attributes\":{},\"id\":\"1411\",\"type\":\"WheelZoomTool\"},{\"attributes\":{\"active_drag\":\"auto\",\"active_inspect\":\"auto\",\"active_multi\":null,\"active_scroll\":\"auto\",\"active_tap\":\"auto\",\"tools\":[{\"id\":\"1390\"},{\"id\":\"1409\"},{\"id\":\"1410\"},{\"id\":\"1411\"},{\"id\":\"1412\"},{\"id\":\"1413\"}]},\"id\":\"1415\",\"type\":\"Toolbar\"},{\"attributes\":{},\"id\":\"1409\",\"type\":\"SaveTool\"},{\"attributes\":{\"overlay\":{\"id\":\"1414\"}},\"id\":\"1412\",\"type\":\"BoxZoomTool\"},{\"attributes\":{},\"id\":\"1413\",\"type\":\"ResetTool\"},{\"attributes\":{\"data_source\":{\"id\":\"1426\"},\"glyph\":{\"id\":\"1429\"},\"hover_glyph\":null,\"muted_glyph\":{\"id\":\"1431\"},\"nonselection_glyph\":{\"id\":\"1430\"},\"selection_glyph\":null,\"view\":{\"id\":\"1433\"}},\"id\":\"1432\",\"type\":\"GlyphRenderer\"},{\"attributes\":{\"data\":{\"Variable\":[\"Real\",\"Real\",\"Real\",\"Real\",\"Real\",\"Real\",\"Real\",\"Real\",\"Real\",\"Real\",\"Real\",\"Real\",\"Real\",\"Real\",\"Real\",\"Real\",\"Real\",\"Real\",\"Real\",\"Real\",\"Real\",\"Real\",\"Real\",\"Real\",\"Real\",\"Real\",\"Real\",\"Real\",\"Real\",\"Real\",\"Real\",\"Real\",\"Real\",\"Real\",\"Real\",\"Real\",\"Real\",\"Real\",\"Real\",\"Real\",\"Real\",\"Real\",\"Real\",\"Real\",\"Real\",\"Real\",\"Real\",\"Real\",\"Real\",\"Real\",\"Real\",\"Real\",\"Real\",\"Real\",\"Real\",\"Real\",\"Real\",\"Real\",\"Real\",\"Real\",\"Real\",\"Real\",\"Real\",\"Real\",\"Real\",\"Real\",\"Real\",\"Real\",\"Real\",\"Real\",\"Real\",\"Real\",\"Real\",\"Real\",\"Real\",\"Real\",\"Real\",\"Real\",\"Real\",\"Real\",\"Real\",\"Real\",\"Real\",\"Real\",\"Real\",\"Real\",\"Real\",\"Real\",\"Real\",\"Real\",\"Real\",\"Real\",\"Real\",\"Real\",\"Real\",\"Real\",\"Real\",\"Real\",\"Real\",\"Real\",\"Real\",\"Real\",\"Real\",\"Real\",\"Real\",\"Real\",\"Real\",\"Real\",\"Real\",\"Real\",\"Real\",\"Real\",\"Real\",\"Real\",\"Real\",\"Real\",\"Real\",\"Real\",\"Real\",\"Real\",\"Real\",\"Real\",\"Real\",\"Real\",\"Real\",\"Real\",\"Real\",\"Real\",\"Real\",\"Real\",\"Real\",\"Real\",\"Real\",\"Real\",\"Real\",\"Real\",\"Real\",\"Real\",\"Real\",\"Real\",\"Real\",\"Real\",\"Real\",\"Real\",\"Real\",\"Real\",\"Real\",\"Real\",\"Real\",\"Real\",\"Real\",\"Real\",\"Real\",\"Real\",\"Real\",\"Real\",\"Real\",\"Real\",\"Real\",\"Real\",\"Real\",\"Real\",\"Real\",\"Real\",\"Real\",\"Real\",\"Real\",\"Real\",\"Real\",\"Real\",\"Real\",\"Real\",\"Real\",\"Real\",\"Real\",\"Real\",\"Real\",\"Real\",\"Real\",\"Real\",\"Real\",\"Real\",\"Real\",\"Real\",\"Real\",\"Real\",\"Real\",\"Real\",\"Real\",\"Real\",\"Real\",\"Real\",\"Real\",\"Real\",\"Real\",\"Real\",\"Real\",\"Real\",\"Real\",\"Real\",\"Real\",\"Real\",\"Real\",\"Real\",\"Real\",\"Real\",\"Real\",\"Real\",\"Real\",\"Real\",\"Real\",\"Real\",\"Real\",\"Real\",\"Real\",\"Real\",\"Real\",\"Real\",\"Real\",\"Real\",\"Real\",\"Real\",\"Real\",\"Real\",\"Real\",\"Real\",\"Real\",\"Real\",\"Real\",\"Real\",\"Real\",\"Real\",\"Real\",\"Real\",\"Real\",\"Real\",\"Real\",\"Real\",\"Real\",\"Real\",\"Real\",\"Real\",\"Real\",\"Real\",\"Real\",\"Real\",\"Real\",\"Real\",\"Real\",\"Real\",\"Real\",\"Real\",\"Real\",\"Real\",\"Real\",\"Real\",\"Real\",\"Real\",\"Real\",\"Real\",\"Real\",\"Real\",\"Real\",\"Real\",\"Real\",\"Real\",\"Real\",\"Real\",\"Real\",\"Real\",\"Real\",\"Real\",\"Real\",\"Real\",\"Real\",\"Real\",\"Real\",\"Real\",\"Real\",\"Real\",\"Real\",\"Real\",\"Real\",\"Real\",\"Real\",\"Real\",\"Real\",\"Real\",\"Real\",\"Real\",\"Real\",\"Real\",\"Real\",\"Real\",\"Real\",\"Real\",\"Real\",\"Real\",\"Real\",\"Real\",\"Real\",\"Real\",\"Real\",\"Real\",\"Real\",\"Real\",\"Real\",\"Real\",\"Real\",\"Real\",\"Real\",\"Real\",\"Real\",\"Real\",\"Real\",\"Real\",\"Real\",\"Real\",\"Real\",\"Real\",\"Real\",\"Real\",\"Real\",\"Real\",\"Real\",\"Real\",\"Real\",\"Real\",\"Real\",\"Real\",\"Real\",\"Real\",\"Real\",\"Real\",\"Real\",\"Real\",\"Real\",\"Real\",\"Real\",\"Real\",\"Real\",\"Real\",\"Real\",\"Real\",\"Real\",\"Real\",\"Real\",\"Real\",\"Real\",\"Real\",\"Real\",\"Real\",\"Real\",\"Real\",\"Real\",\"Real\",\"Real\",\"Real\",\"Real\",\"Real\"],\"index\":{\"__ndarray__\":\"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\",\"dtype\":\"float64\",\"shape\":[360]},\"value\":{\"__ndarray__\":\"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\",\"dtype\":\"float64\",\"shape\":[360]}},\"selected\":{\"id\":\"1427\"},\"selection_policy\":{\"id\":\"1467\"}},\"id\":\"1426\",\"type\":\"ColumnDataSource\"},{\"attributes\":{},\"id\":\"1423\",\"type\":\"DatetimeTickFormatter\"},{\"attributes\":{},\"id\":\"1427\",\"type\":\"Selection\"},{\"attributes\":{\"margin\":[5,5,5,5],\"name\":\"HSpacer01993\",\"sizing_mode\":\"stretch_width\"},\"id\":\"1659\",\"type\":\"Spacer\"},{\"attributes\":{\"end\":1629763200000.0,\"reset_end\":1629763200000.0,\"reset_start\":1584921600000.0,\"start\":1584921600000.0,\"tags\":[[[\"index\",\"index\",null]]]},\"id\":\"1388\",\"type\":\"Range1d\"},{\"attributes\":{\"mantissas\":[1,2,5],\"max_interval\":500.0,\"num_minor_ticks\":0},\"id\":\"1439\",\"type\":\"AdaptiveTicker\"},{\"attributes\":{},\"id\":\"1425\",\"type\":\"BasicTickFormatter\"},{\"attributes\":{\"base\":60,\"mantissas\":[1,2,5,10,15,20,30],\"max_interval\":1800000.0,\"min_interval\":1000.0,\"num_minor_ticks\":0},\"id\":\"1440\",\"type\":\"AdaptiveTicker\"},{\"attributes\":{\"data_source\":{\"id\":\"1454\"},\"glyph\":{\"id\":\"1457\"},\"hover_glyph\":null,\"muted_glyph\":{\"id\":\"1459\"},\"nonselection_glyph\":{\"id\":\"1458\"},\"selection_glyph\":null,\"view\":{\"id\":\"1461\"}},\"id\":\"1460\",\"type\":\"GlyphRenderer\"},{\"attributes\":{\"days\":[1,2,3,4,5,6,7,8,9,10,11,12,13,14,15,16,17,18,19,20,21,22,23,24,25,26,27,28,29,30,31]},\"id\":\"1442\",\"type\":\"DaysTicker\"}],\"root_ids\":[\"1386\"]},\"title\":\"Bokeh Application\",\"version\":\"2.0.2\"}};\n  var render_items = [{\"docid\":\"1f9f0ab2-34cd-43b3-91b6-66931be5980f\",\"root_ids\":[\"1386\"],\"roots\":{\"1386\":\"c8d585d3-4b61-4a0a-94b0-b328f3d99f9e\"}}];\n  root.Bokeh.embed.embed_items_notebook(docs_json, render_items);\n  }\nif (root.Bokeh !== undefined) {\n    embed_document(root);\n  } else {\n    var attempts = 0;\n    var timer = setInterval(function(root) {\n      if (root.Bokeh !== undefined) {\n        clearInterval(timer);\n        embed_document(root);\n      } else if (document.readyState == \"complete\") {\n        attempts++;\n        if (attempts > 100) {\n          clearInterval(timer);\n          console.log(\"Bokeh: ERROR: Unable to run BokehJS code because BokehJS library is missing\");\n        }\n      }\n    }, 10, root)\n  }\n})(window);</script>",
      "text/plain": ":NdOverlay   [Variable]\n   :Curve   [index]   (value)"
     },
     "execution_count": 70,
     "metadata": {
      "application/vnd.holoviews_exec.v0+json": {
       "id": "1386"
      }
     },
     "output_type": "execute_result"
    }
   ],
   "source": [
    "stocks.hvplot.line(label = \"PayPal LSTM Model\", width = 1000, xlabel=\"Date\", ylabel=\"Price\")\n",
    "#(label = \"Predicting Apple's Close with the S&P500 Close - (6Day Window)\", xlabel=\"Date\", ylabel=\"Price\")"
   ]
  }
 ],
 "metadata": {
  "kernelspec": {
   "display_name": "Python 3.8.5 64-bit ('base': conda)",
   "metadata": {
    "interpreter": {
     "hash": "11ef2bb442b8455a3e6b82f3202efe5c7a01a00a0939705f79f87b65f8f45715"
    }
   },
   "name": "python3"
  },
  "language_info": {
   "codemirror_mode": {
    "name": "ipython",
    "version": 3
   },
   "file_extension": ".py",
   "mimetype": "text/x-python",
   "name": "python",
   "nbconvert_exporter": "python",
   "pygments_lexer": "ipython3",
   "version": "3.8.5"
  },
  "orig_nbformat": 2
 },
 "nbformat": 4,
 "nbformat_minor": 2
}