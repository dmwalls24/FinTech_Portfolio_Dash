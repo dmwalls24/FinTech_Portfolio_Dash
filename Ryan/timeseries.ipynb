{
 "cells": [
  {
   "cell_type": "code",
   "execution_count": 4,
   "id": "f34cea5a-f64f-4906-9f3b-862e7236d3ab",
   "metadata": {},
   "outputs": [
    {
     "name": "stderr",
     "output_type": "stream",
     "text": [
      "\n",
      "Bad key savefig.frameon in file C:\\Users\\likem\\anaconda3\\envs\\pyvizenv\\lib\\site-packages\\matplotlib\\mpl-data\\stylelib\\_classic_test.mplstyle, line 421 ('savefig.frameon : True')\n",
      "You probably need to get an updated matplotlibrc file from\n",
      "https://github.com/matplotlib/matplotlib/blob/v3.4.2/matplotlibrc.template\n",
      "or from the matplotlib source distribution\n",
      "\n",
      "Bad key verbose.level in file C:\\Users\\likem\\anaconda3\\envs\\pyvizenv\\lib\\site-packages\\matplotlib\\mpl-data\\stylelib\\_classic_test.mplstyle, line 472 ('verbose.level  : silent      # one of silent, helpful, debug, debug-annoying')\n",
      "You probably need to get an updated matplotlibrc file from\n",
      "https://github.com/matplotlib/matplotlib/blob/v3.4.2/matplotlibrc.template\n",
      "or from the matplotlib source distribution\n",
      "\n",
      "Bad key verbose.fileo in file C:\\Users\\likem\\anaconda3\\envs\\pyvizenv\\lib\\site-packages\\matplotlib\\mpl-data\\stylelib\\_classic_test.mplstyle, line 473 ('verbose.fileo  : sys.stdout  # a log filename, sys.stdout or sys.stderr')\n",
      "You probably need to get an updated matplotlibrc file from\n",
      "https://github.com/matplotlib/matplotlib/blob/v3.4.2/matplotlibrc.template\n",
      "or from the matplotlib source distribution\n",
      "In C:\\Users\\likem\\anaconda3\\envs\\pyvizenv\\lib\\site-packages\\matplotlib\\mpl-data\\stylelib\\_classic_test.mplstyle: \n",
      "The text.latex.preview rcparam was deprecated in Matplotlib 3.3 and will be removed two minor releases later.\n",
      "In C:\\Users\\likem\\anaconda3\\envs\\pyvizenv\\lib\\site-packages\\matplotlib\\mpl-data\\stylelib\\_classic_test.mplstyle: \n",
      "The mathtext.fallback_to_cm rcparam was deprecated in Matplotlib 3.3 and will be removed two minor releases later.\n",
      "In C:\\Users\\likem\\anaconda3\\envs\\pyvizenv\\lib\\site-packages\\matplotlib\\mpl-data\\stylelib\\_classic_test.mplstyle: Support for setting the 'mathtext.fallback_to_cm' rcParam is deprecated since 3.3 and will be removed two minor releases later; use 'mathtext.fallback : 'cm' instead.\n",
      "In C:\\Users\\likem\\anaconda3\\envs\\pyvizenv\\lib\\site-packages\\matplotlib\\mpl-data\\stylelib\\_classic_test.mplstyle: \n",
      "The validate_bool_maybe_none function was deprecated in Matplotlib 3.3 and will be removed two minor releases later.\n",
      "In C:\\Users\\likem\\anaconda3\\envs\\pyvizenv\\lib\\site-packages\\matplotlib\\mpl-data\\stylelib\\_classic_test.mplstyle: \n",
      "The savefig.jpeg_quality rcparam was deprecated in Matplotlib 3.3 and will be removed two minor releases later.\n",
      "In C:\\Users\\likem\\anaconda3\\envs\\pyvizenv\\lib\\site-packages\\matplotlib\\mpl-data\\stylelib\\_classic_test.mplstyle: \n",
      "The keymap.all_axes rcparam was deprecated in Matplotlib 3.3 and will be removed two minor releases later.\n",
      "In C:\\Users\\likem\\anaconda3\\envs\\pyvizenv\\lib\\site-packages\\matplotlib\\mpl-data\\stylelib\\_classic_test.mplstyle: \n",
      "The animation.avconv_path rcparam was deprecated in Matplotlib 3.3 and will be removed two minor releases later.\n",
      "In C:\\Users\\likem\\anaconda3\\envs\\pyvizenv\\lib\\site-packages\\matplotlib\\mpl-data\\stylelib\\_classic_test.mplstyle: \n",
      "The animation.avconv_args rcparam was deprecated in Matplotlib 3.3 and will be removed two minor releases later.\n"
     ]
    }
   ],
   "source": [
    "import arch as arch\n",
    "import pandas as pd\n",
    "import numpy as np\n",
    "%matplotlib inline\n",
    "import warnings\n",
    "warnings.filterwarnings('ignore')"
   ]
  },
  {
   "cell_type": "code",
   "execution_count": 6,
   "id": "3dd5f363-9ca1-4ac7-8417-20055b39e2cd",
   "metadata": {},
   "outputs": [
    {
     "data": {
      "text/html": [
       "<div>\n",
       "<style scoped>\n",
       "    .dataframe tbody tr th:only-of-type {\n",
       "        vertical-align: middle;\n",
       "    }\n",
       "\n",
       "    .dataframe tbody tr th {\n",
       "        vertical-align: top;\n",
       "    }\n",
       "\n",
       "    .dataframe thead th {\n",
       "        text-align: right;\n",
       "    }\n",
       "</style>\n",
       "<table border=\"1\" class=\"dataframe\">\n",
       "  <thead>\n",
       "    <tr style=\"text-align: right;\">\n",
       "      <th></th>\n",
       "      <th>Open</th>\n",
       "      <th>High</th>\n",
       "      <th>Low</th>\n",
       "      <th>Close</th>\n",
       "      <th>Adj Close</th>\n",
       "      <th>Volume</th>\n",
       "    </tr>\n",
       "    <tr>\n",
       "      <th>Date</th>\n",
       "      <th></th>\n",
       "      <th></th>\n",
       "      <th></th>\n",
       "      <th></th>\n",
       "      <th></th>\n",
       "      <th></th>\n",
       "    </tr>\n",
       "  </thead>\n",
       "  <tbody>\n",
       "    <tr>\n",
       "      <th>2020-08-26</th>\n",
       "      <td>11366.894531</td>\n",
       "      <td>11530.052734</td>\n",
       "      <td>11296.993164</td>\n",
       "      <td>11488.363281</td>\n",
       "      <td>11488.363281</td>\n",
       "      <td>2.246666e+10</td>\n",
       "    </tr>\n",
       "    <tr>\n",
       "      <th>2020-08-27</th>\n",
       "      <td>11485.608398</td>\n",
       "      <td>11570.786133</td>\n",
       "      <td>11185.941406</td>\n",
       "      <td>11323.397461</td>\n",
       "      <td>11323.397461</td>\n",
       "      <td>2.324042e+10</td>\n",
       "    </tr>\n",
       "    <tr>\n",
       "      <th>2020-08-28</th>\n",
       "      <td>11325.295898</td>\n",
       "      <td>11545.615234</td>\n",
       "      <td>11316.422852</td>\n",
       "      <td>11542.500000</td>\n",
       "      <td>11542.500000</td>\n",
       "      <td>1.980713e+10</td>\n",
       "    </tr>\n",
       "    <tr>\n",
       "      <th>2020-08-29</th>\n",
       "      <td>11541.054688</td>\n",
       "      <td>11585.640625</td>\n",
       "      <td>11466.292969</td>\n",
       "      <td>11506.865234</td>\n",
       "      <td>11506.865234</td>\n",
       "      <td>1.748560e+10</td>\n",
       "    </tr>\n",
       "    <tr>\n",
       "      <th>2020-08-30</th>\n",
       "      <td>11508.713867</td>\n",
       "      <td>11715.264648</td>\n",
       "      <td>11492.381836</td>\n",
       "      <td>11711.505859</td>\n",
       "      <td>11711.505859</td>\n",
       "      <td>1.976013e+10</td>\n",
       "    </tr>\n",
       "  </tbody>\n",
       "</table>\n",
       "</div>"
      ],
      "text/plain": [
       "                    Open          High           Low         Close  \\\n",
       "Date                                                                 \n",
       "2020-08-26  11366.894531  11530.052734  11296.993164  11488.363281   \n",
       "2020-08-27  11485.608398  11570.786133  11185.941406  11323.397461   \n",
       "2020-08-28  11325.295898  11545.615234  11316.422852  11542.500000   \n",
       "2020-08-29  11541.054688  11585.640625  11466.292969  11506.865234   \n",
       "2020-08-30  11508.713867  11715.264648  11492.381836  11711.505859   \n",
       "\n",
       "               Adj Close        Volume  \n",
       "Date                                    \n",
       "2020-08-26  11488.363281  2.246666e+10  \n",
       "2020-08-27  11323.397461  2.324042e+10  \n",
       "2020-08-28  11542.500000  1.980713e+10  \n",
       "2020-08-29  11506.865234  1.748560e+10  \n",
       "2020-08-30  11711.505859  1.976013e+10  "
      ]
     },
     "execution_count": 6,
     "metadata": {},
     "output_type": "execute_result"
    }
   ],
   "source": [
    "from pathlib import Path\n",
    "csvpath = Path('BTCUSD.csv')\n",
    "btc_df = pd.read_csv(csvpath, parse_dates=True, index_col='Date')\n",
    "btc_df.head()"
   ]
  },
  {
   "cell_type": "code",
   "execution_count": 8,
   "id": "eab2fb09-884c-4a37-bbf9-d60b8e914def",
   "metadata": {},
   "outputs": [
    {
     "data": {
      "text/plain": [
       "<AxesSubplot:xlabel='Date'>"
      ]
     },
     "execution_count": 8,
     "metadata": {},
     "output_type": "execute_result"
    },
    {
     "data": {
      "image/png": "[encoded data removed]",
      "text/plain": [
       "<Figure size 432x288 with 1 Axes>"
      ]
     },
     "metadata": {
      "needs_background": "light"
     },
     "output_type": "display_data"
    }
   ],
   "source": [
    "btc_df.Close.plot()"
   ]
  },
  {
   "cell_type": "code",
   "execution_count": 9,
   "id": "1e35dcf1-2940-4b4f-9237-00601493157b",
   "metadata": {},
   "outputs": [
    {
     "data": {
      "text/html": [
       "<div>\n",
       "<style scoped>\n",
       "    .dataframe tbody tr th:only-of-type {\n",
       "        vertical-align: middle;\n",
       "    }\n",
       "\n",
       "    .dataframe tbody tr th {\n",
       "        vertical-align: top;\n",
       "    }\n",
       "\n",
       "    .dataframe thead th {\n",
       "        text-align: right;\n",
       "    }\n",
       "</style>\n",
       "<table border=\"1\" class=\"dataframe\">\n",
       "  <thead>\n",
       "    <tr style=\"text-align: right;\">\n",
       "      <th></th>\n",
       "      <th>Open</th>\n",
       "      <th>High</th>\n",
       "      <th>Low</th>\n",
       "      <th>Close</th>\n",
       "      <th>Adj Close</th>\n",
       "      <th>Volume</th>\n",
       "      <th>Return</th>\n",
       "      <th>Lagged_Return</th>\n",
       "    </tr>\n",
       "    <tr>\n",
       "      <th>Date</th>\n",
       "      <th></th>\n",
       "      <th></th>\n",
       "      <th></th>\n",
       "      <th></th>\n",
       "      <th></th>\n",
       "      <th></th>\n",
       "      <th></th>\n",
       "      <th></th>\n",
       "    </tr>\n",
       "  </thead>\n",
       "  <tbody>\n",
       "    <tr>\n",
       "      <th>2021-08-22</th>\n",
       "      <td>48869.105469</td>\n",
       "      <td>49471.609375</td>\n",
       "      <td>48199.941406</td>\n",
       "      <td>49321.652344</td>\n",
       "      <td>49321.652344</td>\n",
       "      <td>2.537098e+10</td>\n",
       "      <td>0.850948</td>\n",
       "      <td>-0.878984</td>\n",
       "    </tr>\n",
       "    <tr>\n",
       "      <th>2021-08-23</th>\n",
       "      <td>49291.675781</td>\n",
       "      <td>50482.078125</td>\n",
       "      <td>49074.605469</td>\n",
       "      <td>49546.148438</td>\n",
       "      <td>49546.148438</td>\n",
       "      <td>3.430505e+10</td>\n",
       "      <td>0.455167</td>\n",
       "      <td>0.850948</td>\n",
       "    </tr>\n",
       "    <tr>\n",
       "      <th>2021-08-24</th>\n",
       "      <td>49562.347656</td>\n",
       "      <td>49878.769531</td>\n",
       "      <td>47687.117188</td>\n",
       "      <td>47706.117188</td>\n",
       "      <td>47706.117188</td>\n",
       "      <td>3.536117e+10</td>\n",
       "      <td>-3.713773</td>\n",
       "      <td>0.455167</td>\n",
       "    </tr>\n",
       "    <tr>\n",
       "      <th>2021-08-25</th>\n",
       "      <td>47727.257813</td>\n",
       "      <td>49202.878906</td>\n",
       "      <td>47163.613281</td>\n",
       "      <td>48960.789063</td>\n",
       "      <td>48960.789063</td>\n",
       "      <td>3.264635e+10</td>\n",
       "      <td>2.630002</td>\n",
       "      <td>-3.713773</td>\n",
       "    </tr>\n",
       "    <tr>\n",
       "      <th>2021-08-26</th>\n",
       "      <td>49076.324219</td>\n",
       "      <td>49334.746094</td>\n",
       "      <td>46460.628906</td>\n",
       "      <td>47321.683594</td>\n",
       "      <td>47321.683594</td>\n",
       "      <td>3.341791e+10</td>\n",
       "      <td>-3.347792</td>\n",
       "      <td>2.630002</td>\n",
       "    </tr>\n",
       "  </tbody>\n",
       "</table>\n",
       "</div>"
      ],
      "text/plain": [
       "                    Open          High           Low         Close  \\\n",
       "Date                                                                 \n",
       "2021-08-22  48869.105469  49471.609375  48199.941406  49321.652344   \n",
       "2021-08-23  49291.675781  50482.078125  49074.605469  49546.148438   \n",
       "2021-08-24  49562.347656  49878.769531  47687.117188  47706.117188   \n",
       "2021-08-25  47727.257813  49202.878906  47163.613281  48960.789063   \n",
       "2021-08-26  49076.324219  49334.746094  46460.628906  47321.683594   \n",
       "\n",
       "               Adj Close        Volume    Return  Lagged_Return  \n",
       "Date                                                             \n",
       "2021-08-22  49321.652344  2.537098e+10  0.850948      -0.878984  \n",
       "2021-08-23  49546.148438  3.430505e+10  0.455167       0.850948  \n",
       "2021-08-24  47706.117188  3.536117e+10 -3.713773       0.455167  \n",
       "2021-08-25  48960.789063  3.264635e+10  2.630002      -3.713773  \n",
       "2021-08-26  47321.683594  3.341791e+10 -3.347792       2.630002  "
      ]
     },
     "execution_count": 9,
     "metadata": {},
     "output_type": "execute_result"
    }
   ],
   "source": [
    "# (Make sure to multiply the pct_change() results by *100)\n",
    "btc_df['Return'] = btc_df.Close.pct_change() * 100\n",
    "btc_df['Lagged_Return'] = btc_df['Return'].shift()\n",
    "btc_df = btc_df.dropna()\n",
    "btc_df.tail()"
   ]
  },
  {
   "cell_type": "code",
   "execution_count": 10,
   "id": "45e7d1dc-b26c-4c0c-a661-b9b1ece5e87e",
   "metadata": {},
   "outputs": [
    {
     "data": {
      "text/plain": [
       "<AxesSubplot:xlabel='Date'>"
      ]
     },
     "execution_count": 10,
     "metadata": {},
     "output_type": "execute_result"
    },
    {
     "data": {
      "image/png": "[encoded data removed]",
      "text/plain": [
       "<Figure size 432x288 with 1 Axes>"
      ]
     },
     "metadata": {
      "needs_background": "light"
     },
     "output_type": "display_data"
    }
   ],
   "source": [
    "btc_df['Return'].plot()"
   ]
  },
  {
   "cell_type": "code",
   "execution_count": 17,
   "id": "bfb73c49-bb56-4e45-bb23-70c46f9f5d64",
   "metadata": {},
   "outputs": [],
   "source": [
    "# Create a train/test split for the data using 2017-2018 for training and 2019 for testing\n",
    "train = btc_df['2020':'2021']\n",
    "test = btc_df['2020':'2021']"
   ]
  },
  {
   "cell_type": "code",
   "execution_count": 18,
   "id": "6e54b3da-2c5e-4201-894b-4b7283f2d728",
   "metadata": {},
   "outputs": [],
   "source": [
    "# Create four DataFrames:\n",
    "# X_train (training set using just the independent variables), X_test (test set of of just the independent variables)\n",
    "# Y_train (training set using just the \"y\" variable, i.e., \"Futures Return\"), Y_test (test set of just the \"y\" variable):\n",
    "X_train = train[\"Lagged_Return\"].to_frame()\n",
    "y_train = train[\"Return\"]\n",
    "X_test = test[\"Lagged_Return\"].to_frame()\n",
    "y_test = test[\"Return\"]"
   ]
  },
  {
   "cell_type": "code",
   "execution_count": 19,
   "id": "23fafddb-cbc6-4736-afdb-5f625c279f8b",
   "metadata": {},
   "outputs": [
    {
     "data": {
      "text/plain": [
       "LinearRegression()"
      ]
     },
     "execution_count": 19,
     "metadata": {},
     "output_type": "execute_result"
    }
   ],
   "source": [
    "from sklearn.linear_model import LinearRegression\n",
    "\n",
    "# Fit a SKLearn linear regression using just the training set (X_train, Y_train):\n",
    "model = LinearRegression()\n",
    "model.fit(X_train, y_train)"
   ]
  },
  {
   "cell_type": "code",
   "execution_count": 20,
   "id": "b9d9adf8-f04c-4e0c-a6d5-15cc91d538e9",
   "metadata": {},
   "outputs": [
    {
     "data": {
      "text/plain": [
       "LinearRegression()"
      ]
     },
     "execution_count": 20,
     "metadata": {},
     "output_type": "execute_result"
    }
   ],
   "source": [
    " LinearRegression(copy_X=True, fit_intercept=True, n_jobs=None, normalize=False)"
   ]
  },
  {
   "cell_type": "code",
   "execution_count": 21,
   "id": "7e69cd28-3c98-4de6-afe9-3e5c0c379fae",
   "metadata": {},
   "outputs": [],
   "source": [
    "# Make a prediction of \"y\" values using just the test dataset\n",
    "predictions = model.predict(X_test)"
   ]
  },
  {
   "cell_type": "code",
   "execution_count": 22,
   "id": "abb7113f-ad4d-498a-ae6f-7aa278f5ec2d",
   "metadata": {},
   "outputs": [],
   "source": [
    "# Assemble actual y data (Y_test) with predicted y data (from just above) into two columns in a DataFrame:\n",
    "Results = y_test.to_frame()\n",
    "Results[\"Predicted Return\"] = predictions\n"
   ]
  },
  {
   "cell_type": "code",
   "execution_count": 24,
   "id": "cba848e7-62d0-4f2a-a256-2c9096953e92",
   "metadata": {},
   "outputs": [
    {
     "data": {
      "image/png": "[encoded data removed]",
      "text/plain": [
       "<Figure size 432x288 with 2 Axes>"
      ]
     },
     "metadata": {
      "needs_background": "light"
     },
     "output_type": "display_data"
    }
   ],
   "source": [
    "# Plot the first 20 predictions vs the true values\n",
    "Results[:20].plot(subplots=True)\n",
    "xlable= 'Date'\n",
    "ylable='Price'"
   ]
  },
  {
   "cell_type": "code",
   "execution_count": null,
   "id": "50b7a1c1-1eb2-439d-9799-ff88559ea7ea",
   "metadata": {},
   "outputs": [],
   "source": []
  }
 ],
 "metadata": {
  "kernelspec": {
   "display_name": "Python [conda env:pyvizenv] *",
   "language": "python",
   "name": "conda-env-pyvizenv-py"
  },
  "language_info": {
   "codemirror_mode": {
    "name": "ipython",
    "version": 3
   },
   "file_extension": ".py",
   "mimetype": "text/x-python",
   "name": "python",
   "nbconvert_exporter": "python",
   "pygments_lexer": "ipython3",
   "version": "3.7.11"
  }
 },
 "nbformat": 4,
 "nbformat_minor": 5
}
