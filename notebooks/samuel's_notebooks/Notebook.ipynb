{
 "cells": [
  {
   "cell_type": "code",
   "execution_count": 20,
   "metadata": {},
   "outputs": [],
   "source": [
    "import os\n",
    "import numpy as np\n",
    "import pandas as pd\n",
    "from pathlib import Path\n",
    "from dotenv import load_dotenv\n",
    "import alpaca_trade_api as tradeapi\n",
    "from newsapi import NewsApiClient\n",
    "from datetime import datetime, timedelta\n",
    "import numpy as np\n",
    "from numpy.random import seed\n",
    "seed(1)\n",
    "import requests\n",
    "from tensorflow import random\n",
    "random.set_seed(2)\n",
    "import hvplot.pandas\n",
    "%matplotlib inline"
   ]
  },
  {
   "cell_type": "code",
   "execution_count": 21,
   "metadata": {},
   "outputs": [
    {
     "data": {
      "text/plain": "True"
     },
     "execution_count": 21,
     "metadata": {},
     "output_type": "execute_result"
    }
   ],
   "source": [
    "load_dotenv()"
   ]
  },
  {
   "cell_type": "code",
   "execution_count": 22,
   "metadata": {},
   "outputs": [],
   "source": [
    "alpaca_api_key = os.getenv(\"ALPACA_API_KEY\")\n",
    "alpaca_secret_key = os.getenv(\"ALPACA_SECRET_KEY\")\n",
    "alpaca = tradeapi.REST(\n",
    "    alpaca_api_key,\n",
    "    alpaca_secret_key,\n",
    "    api_version=\"v2\")\n",
    "#print(alpaca_api_key)"
   ]
  },
  {
   "cell_type": "code",
   "execution_count": 23,
   "metadata": {},
   "outputs": [
    {
     "data": {
      "text/html": "<div>\n<style scoped>\n    .dataframe tbody tr th:only-of-type {\n        vertical-align: middle;\n    }\n\n    .dataframe tbody tr th {\n        vertical-align: top;\n    }\n\n    .dataframe thead tr th {\n        text-align: left;\n    }\n\n    .dataframe thead tr:last-of-type th {\n        text-align: right;\n    }\n</style>\n<table border=\"1\" class=\"dataframe\">\n  <thead>\n    <tr>\n      <th></th>\n      <th colspan=\"5\" halign=\"left\">FISV</th>\n      <th colspan=\"5\" halign=\"left\">MELI</th>\n      <th colspan=\"5\" halign=\"left\">PYPL</th>\n      <th colspan=\"5\" halign=\"left\">SQ</th>\n    </tr>\n    <tr>\n      <th></th>\n      <th>open</th>\n      <th>high</th>\n      <th>low</th>\n      <th>close</th>\n      <th>volume</th>\n      <th>open</th>\n      <th>high</th>\n      <th>low</th>\n      <th>close</th>\n      <th>volume</th>\n      <th>open</th>\n      <th>high</th>\n      <th>low</th>\n      <th>close</th>\n      <th>volume</th>\n      <th>open</th>\n      <th>high</th>\n      <th>low</th>\n      <th>close</th>\n      <th>volume</th>\n    </tr>\n    <tr>\n      <th>time</th>\n      <th></th>\n      <th></th>\n      <th></th>\n      <th></th>\n      <th></th>\n      <th></th>\n      <th></th>\n      <th></th>\n      <th></th>\n      <th></th>\n      <th></th>\n      <th></th>\n      <th></th>\n      <th></th>\n      <th></th>\n      <th></th>\n      <th></th>\n      <th></th>\n      <th></th>\n      <th></th>\n    </tr>\n  </thead>\n  <tbody>\n    <tr>\n      <th>2017-09-05 00:00:00-04:00</th>\n      <td>61.290</td>\n      <td>61.355</td>\n      <td>60.660</td>\n      <td>60.93</td>\n      <td>1071708.0</td>\n      <td>252.60</td>\n      <td>257.76</td>\n      <td>251.51</td>\n      <td>256.63</td>\n      <td>453957.0</td>\n      <td>61.26</td>\n      <td>61.75</td>\n      <td>60.58</td>\n      <td>61.27</td>\n      <td>4462105.0</td>\n      <td>25.75</td>\n      <td>25.82</td>\n      <td>25.24</td>\n      <td>25.77</td>\n      <td>4478368.0</td>\n    </tr>\n    <tr>\n      <th>2017-09-06 00:00:00-04:00</th>\n      <td>61.185</td>\n      <td>61.330</td>\n      <td>60.585</td>\n      <td>61.19</td>\n      <td>1610582.0</td>\n      <td>257.67</td>\n      <td>259.35</td>\n      <td>251.92</td>\n      <td>258.10</td>\n      <td>365307.0</td>\n      <td>61.74</td>\n      <td>61.99</td>\n      <td>60.90</td>\n      <td>61.25</td>\n      <td>4246915.0</td>\n      <td>25.90</td>\n      <td>26.17</td>\n      <td>25.72</td>\n      <td>26.07</td>\n      <td>4507494.0</td>\n    </tr>\n    <tr>\n      <th>2017-09-07 00:00:00-04:00</th>\n      <td>61.465</td>\n      <td>61.785</td>\n      <td>61.085</td>\n      <td>61.41</td>\n      <td>864020.0</td>\n      <td>258.92</td>\n      <td>260.95</td>\n      <td>256.16</td>\n      <td>258.68</td>\n      <td>328688.0</td>\n      <td>61.33</td>\n      <td>62.13</td>\n      <td>61.28</td>\n      <td>62.00</td>\n      <td>4141248.0</td>\n      <td>26.12</td>\n      <td>26.69</td>\n      <td>25.86</td>\n      <td>26.31</td>\n      <td>6699110.0</td>\n    </tr>\n    <tr>\n      <th>2017-09-08 00:00:00-04:00</th>\n      <td>61.335</td>\n      <td>61.730</td>\n      <td>61.015</td>\n      <td>61.33</td>\n      <td>851518.0</td>\n      <td>258.21</td>\n      <td>262.25</td>\n      <td>258.21</td>\n      <td>260.08</td>\n      <td>255764.0</td>\n      <td>61.94</td>\n      <td>62.00</td>\n      <td>61.10</td>\n      <td>61.13</td>\n      <td>3893906.0</td>\n      <td>26.50</td>\n      <td>26.99</td>\n      <td>26.40</td>\n      <td>26.53</td>\n      <td>5567927.0</td>\n    </tr>\n    <tr>\n      <th>2017-09-11 00:00:00-04:00</th>\n      <td>61.700</td>\n      <td>62.235</td>\n      <td>61.400</td>\n      <td>62.15</td>\n      <td>734684.0</td>\n      <td>265.08</td>\n      <td>286.66</td>\n      <td>265.07</td>\n      <td>285.22</td>\n      <td>973710.0</td>\n      <td>61.71</td>\n      <td>63.26</td>\n      <td>61.62</td>\n      <td>62.64</td>\n      <td>5970316.0</td>\n      <td>26.80</td>\n      <td>27.66</td>\n      <td>26.78</td>\n      <td>27.58</td>\n      <td>7416518.0</td>\n    </tr>\n  </tbody>\n</table>\n</div>",
      "text/plain": "                             FISV                                      MELI  \\\n                             open    high     low  close     volume    open   \ntime                                                                          \n2017-09-05 00:00:00-04:00  61.290  61.355  60.660  60.93  1071708.0  252.60   \n2017-09-06 00:00:00-04:00  61.185  61.330  60.585  61.19  1610582.0  257.67   \n2017-09-07 00:00:00-04:00  61.465  61.785  61.085  61.41   864020.0  258.92   \n2017-09-08 00:00:00-04:00  61.335  61.730  61.015  61.33   851518.0  258.21   \n2017-09-11 00:00:00-04:00  61.700  62.235  61.400  62.15   734684.0  265.08   \n\n                                                              PYPL         \\\n                             high     low   close    volume   open   high   \ntime                                                                        \n2017-09-05 00:00:00-04:00  257.76  251.51  256.63  453957.0  61.26  61.75   \n2017-09-06 00:00:00-04:00  259.35  251.92  258.10  365307.0  61.74  61.99   \n2017-09-07 00:00:00-04:00  260.95  256.16  258.68  328688.0  61.33  62.13   \n2017-09-08 00:00:00-04:00  262.25  258.21  260.08  255764.0  61.94  62.00   \n2017-09-11 00:00:00-04:00  286.66  265.07  285.22  973710.0  61.71  63.26   \n\n                                                       SQ                \\\n                             low  close     volume   open   high    low   \ntime                                                                      \n2017-09-05 00:00:00-04:00  60.58  61.27  4462105.0  25.75  25.82  25.24   \n2017-09-06 00:00:00-04:00  60.90  61.25  4246915.0  25.90  26.17  25.72   \n2017-09-07 00:00:00-04:00  61.28  62.00  4141248.0  26.12  26.69  25.86   \n2017-09-08 00:00:00-04:00  61.10  61.13  3893906.0  26.50  26.99  26.40   \n2017-09-11 00:00:00-04:00  61.62  62.64  5970316.0  26.80  27.66  26.78   \n\n                                             \n                           close     volume  \ntime                                         \n2017-09-05 00:00:00-04:00  25.77  4478368.0  \n2017-09-06 00:00:00-04:00  26.07  4507494.0  \n2017-09-07 00:00:00-04:00  26.31  6699110.0  \n2017-09-08 00:00:00-04:00  26.53  5567927.0  \n2017-09-11 00:00:00-04:00  27.58  7416518.0  "
     },
     "execution_count": 23,
     "metadata": {},
     "output_type": "execute_result"
    }
   ],
   "source": [
    "#15Min interval\n",
    "timeframe = \"1D\"\n",
    "start_date = pd.Timestamp(\"2017-01-01\", tz=\"America/New_York\").isoformat()\n",
    "end_date = pd.Timestamp(\"2021-12-31\", tz=\"America/New_York\").isoformat()\n",
    "#today = pd.Timestamp(\"2021-01-02\", tz=\"America/New_York\").isoformat()\n",
    "ticker = [\"PYPL\",\"SQ\",\"MELI\",\"FISV\"]\n",
    "fintech_ticker = alpaca.get_barset(\n",
    "    ticker,\n",
    "    timeframe,\n",
    "    start=start_date,\n",
    "    end=end_date,\n",
    "    limit=1000,\n",
    ").df\n",
    "fintech_ticker.dropna(inplace=True)\n",
    "fintech_ticker.head(5)\n",
    "#apple_ticker.dropna(inplace=True)"
   ]
  },
  {
   "cell_type": "code",
   "execution_count": 24,
   "metadata": {},
   "outputs": [
    {
     "data": {
      "text/html": "<div>\n<style scoped>\n    .dataframe tbody tr th:only-of-type {\n        vertical-align: middle;\n    }\n\n    .dataframe tbody tr th {\n        vertical-align: top;\n    }\n\n    .dataframe thead th {\n        text-align: right;\n    }\n</style>\n<table border=\"1\" class=\"dataframe\">\n  <thead>\n    <tr style=\"text-align: right;\">\n      <th></th>\n      <th>PayPal</th>\n      <th>Square</th>\n      <th>Mercadolibre</th>\n    </tr>\n  </thead>\n  <tbody>\n    <tr>\n      <th>2017-09-05</th>\n      <td>61.27</td>\n      <td>25.77</td>\n      <td>256.63</td>\n    </tr>\n    <tr>\n      <th>2017-09-06</th>\n      <td>61.25</td>\n      <td>26.07</td>\n      <td>258.10</td>\n    </tr>\n    <tr>\n      <th>2017-09-07</th>\n      <td>62.00</td>\n      <td>26.31</td>\n      <td>258.68</td>\n    </tr>\n    <tr>\n      <th>2017-09-08</th>\n      <td>61.13</td>\n      <td>26.53</td>\n      <td>260.08</td>\n    </tr>\n    <tr>\n      <th>2017-09-11</th>\n      <td>62.64</td>\n      <td>27.58</td>\n      <td>285.22</td>\n    </tr>\n  </tbody>\n</table>\n</div>",
      "text/plain": "            PayPal  Square  Mercadolibre\n2017-09-05   61.27   25.77        256.63\n2017-09-06   61.25   26.07        258.10\n2017-09-07   62.00   26.31        258.68\n2017-09-08   61.13   26.53        260.08\n2017-09-11   62.64   27.58        285.22"
     },
     "execution_count": 24,
     "metadata": {},
     "output_type": "execute_result"
    }
   ],
   "source": [
    "fintech_df = pd.DataFrame()\n",
    "fintech_df[\"PayPal\"] = fintech_ticker[\"PYPL\"][\"close\"]\n",
    "fintech_df[\"Square\"] = fintech_ticker[\"SQ\"][\"close\"]\n",
    "#fintech_df[\"Affirm\"] = fintech_ticker[\"AFRM\"][\"close\"]\n",
    "fintech_df[\"Mercadolibre\"] = fintech_ticker[\"MELI\"][\"close\"]\n",
    "#fintech_df[\"Johnson&Johnson\"] = nasdaq_ticker[\"JNJ\"][\"close\"]\n",
    "#apple_df = apple_df.pct_change().dropna()\n",
    "fintech_df.index = fintech_df.index.date \n",
    "fintech_df.dropna(inplace=True)\n",
    "fintech_df.head()"
   ]
  },
  {
   "cell_type": "code",
   "execution_count": 25,
   "metadata": {},
   "outputs": [
    {
     "data": {
      "text/html": "<div>\n<style scoped>\n    .dataframe tbody tr th:only-of-type {\n        vertical-align: middle;\n    }\n\n    .dataframe tbody tr th {\n        vertical-align: top;\n    }\n\n    .dataframe thead th {\n        text-align: right;\n    }\n</style>\n<table border=\"1\" class=\"dataframe\">\n  <thead>\n    <tr style=\"text-align: right;\">\n      <th></th>\n      <th>Open</th>\n      <th>High</th>\n      <th>Low</th>\n      <th>Close</th>\n      <th>Adj Close</th>\n      <th>Volume</th>\n    </tr>\n    <tr>\n      <th>Date</th>\n      <th></th>\n      <th></th>\n      <th></th>\n      <th></th>\n      <th></th>\n      <th></th>\n    </tr>\n  </thead>\n  <tbody>\n    <tr>\n      <th>2017-09-05</th>\n      <td>11.75</td>\n      <td>14.06</td>\n      <td>11.41</td>\n      <td>12.23</td>\n      <td>12.23</td>\n      <td>0.0</td>\n    </tr>\n    <tr>\n      <th>2017-09-06</th>\n      <td>12.27</td>\n      <td>12.59</td>\n      <td>11.35</td>\n      <td>11.63</td>\n      <td>11.63</td>\n      <td>0.0</td>\n    </tr>\n    <tr>\n      <th>2017-09-07</th>\n      <td>11.93</td>\n      <td>12.07</td>\n      <td>11.32</td>\n      <td>11.55</td>\n      <td>11.55</td>\n      <td>0.0</td>\n    </tr>\n    <tr>\n      <th>2017-09-08</th>\n      <td>11.87</td>\n      <td>12.60</td>\n      <td>11.84</td>\n      <td>12.12</td>\n      <td>12.12</td>\n      <td>0.0</td>\n    </tr>\n    <tr>\n      <th>2017-09-11</th>\n      <td>11.38</td>\n      <td>11.39</td>\n      <td>10.51</td>\n      <td>10.73</td>\n      <td>10.73</td>\n      <td>0.0</td>\n    </tr>\n  </tbody>\n</table>\n</div>",
      "text/plain": "             Open   High    Low  Close  Adj Close  Volume\nDate                                                     \n2017-09-05  11.75  14.06  11.41  12.23      12.23     0.0\n2017-09-06  12.27  12.59  11.35  11.63      11.63     0.0\n2017-09-07  11.93  12.07  11.32  11.55      11.55     0.0\n2017-09-08  11.87  12.60  11.84  12.12      12.12     0.0\n2017-09-11  11.38  11.39  10.51  10.73      10.73     0.0"
     },
     "execution_count": 25,
     "metadata": {},
     "output_type": "execute_result"
    }
   ],
   "source": [
    "csv_path = Path(\"./stock_data/vixe.csv/\")\n",
    "data = pd.read_csv(csv_path,index_col=\"Date\", parse_dates=True, infer_datetime_format=True)\n",
    "data.sort_index(ascending = True, inplace = True)\n",
    "data.dropna(inplace=True)\n",
    "data.head()"
   ]
  },
  {
   "cell_type": "code",
   "execution_count": 26,
   "metadata": {},
   "outputs": [
    {
     "data": {
      "text/html": "<div>\n<style scoped>\n    .dataframe tbody tr th:only-of-type {\n        vertical-align: middle;\n    }\n\n    .dataframe tbody tr th {\n        vertical-align: top;\n    }\n\n    .dataframe thead th {\n        text-align: right;\n    }\n</style>\n<table border=\"1\" class=\"dataframe\">\n  <thead>\n    <tr style=\"text-align: right;\">\n      <th></th>\n      <th>Vix</th>\n    </tr>\n    <tr>\n      <th>Date</th>\n      <th></th>\n    </tr>\n  </thead>\n  <tbody>\n    <tr>\n      <th>2021-08-17</th>\n      <td>17.910000</td>\n    </tr>\n    <tr>\n      <th>2021-08-18</th>\n      <td>21.570000</td>\n    </tr>\n    <tr>\n      <th>2021-08-19</th>\n      <td>21.670000</td>\n    </tr>\n    <tr>\n      <th>2021-08-20</th>\n      <td>18.559999</td>\n    </tr>\n    <tr>\n      <th>2021-08-23</th>\n      <td>17.150000</td>\n    </tr>\n  </tbody>\n</table>\n</div>",
      "text/plain": "                  Vix\nDate                 \n2021-08-17  17.910000\n2021-08-18  21.570000\n2021-08-19  21.670000\n2021-08-20  18.559999\n2021-08-23  17.150000"
     },
     "execution_count": 26,
     "metadata": {},
     "output_type": "execute_result"
    }
   ],
   "source": [
    "vix_df = pd.DataFrame()\n",
    "vix_df[\"Vix\"] = data[\"Close\"]\n",
    "#vix_df.index = fintech_df.index.date \n",
    "vix_df.dropna(inplace=True)\n",
    "vix_df.tail()"
   ]
  },
  {
   "cell_type": "code",
   "execution_count": 27,
   "metadata": {},
   "outputs": [
    {
     "data": {
      "text/html": "<div>\n<style scoped>\n    .dataframe tbody tr th:only-of-type {\n        vertical-align: middle;\n    }\n\n    .dataframe tbody tr th {\n        vertical-align: top;\n    }\n\n    .dataframe thead th {\n        text-align: right;\n    }\n</style>\n<table border=\"1\" class=\"dataframe\">\n  <thead>\n    <tr style=\"text-align: right;\">\n      <th></th>\n      <th>PayPal</th>\n      <th>Square</th>\n      <th>Mercadolibre</th>\n      <th>Vix</th>\n    </tr>\n  </thead>\n  <tbody>\n    <tr>\n      <th>2017-09-05</th>\n      <td>61.27</td>\n      <td>25.77</td>\n      <td>256.63</td>\n      <td>12.23</td>\n    </tr>\n    <tr>\n      <th>2017-09-06</th>\n      <td>61.25</td>\n      <td>26.07</td>\n      <td>258.10</td>\n      <td>11.63</td>\n    </tr>\n    <tr>\n      <th>2017-09-07</th>\n      <td>62.00</td>\n      <td>26.31</td>\n      <td>258.68</td>\n      <td>11.55</td>\n    </tr>\n    <tr>\n      <th>2017-09-08</th>\n      <td>61.13</td>\n      <td>26.53</td>\n      <td>260.08</td>\n      <td>12.12</td>\n    </tr>\n    <tr>\n      <th>2017-09-11</th>\n      <td>62.64</td>\n      <td>27.58</td>\n      <td>285.22</td>\n      <td>10.73</td>\n    </tr>\n  </tbody>\n</table>\n</div>",
      "text/plain": "            PayPal  Square  Mercadolibre    Vix\n2017-09-05   61.27   25.77        256.63  12.23\n2017-09-06   61.25   26.07        258.10  11.63\n2017-09-07   62.00   26.31        258.68  11.55\n2017-09-08   61.13   26.53        260.08  12.12\n2017-09-11   62.64   27.58        285.22  10.73"
     },
     "execution_count": 27,
     "metadata": {},
     "output_type": "execute_result"
    }
   ],
   "source": [
    "data = fintech_df.join(vix_df, how = \"inner\")\n",
    "data.sort_index(inplace=True)\n",
    "data.head()"
   ]
  },
  {
   "cell_type": "code",
   "execution_count": 28,
   "metadata": {},
   "outputs": [],
   "source": [
    "def window_data(df, window, feature_col_number, target_col_number):\n",
    "    X = []\n",
    "    y = []\n",
    "    for i in range(len(df) - window):\n",
    "        features = df.iloc[i : (i + window), feature_col_number]\n",
    "        target = df.iloc[(i + window), target_col_number]\n",
    "        X.append(features)\n",
    "        y.append(target)\n",
    "    return np.array(X), np.array(y).reshape(-1, 1)"
   ]
  },
  {
   "cell_type": "code",
   "execution_count": 29,
   "metadata": {},
   "outputs": [
    {
     "name": "stdout",
     "output_type": "stream",
     "text": [
      "X sample values:\n",
      "[[25.77   26.07   26.31   26.53   27.58   27.25   27.48   28.64   28.5\n",
      "  28.675  28.56   28.48   28.41   28.74   27.46   27.61   28.06   28.48\n",
      "  28.81   29.38   29.94   30.14   30.76   30.78   31.07   31.32   31.9965\n",
      "  32.82   32.81   33.22   32.69   32.52   32.1103 32.495  32.52   32.71\n",
      "  32.9    34.11   35.2    35.75   37.19   36.47   36.08   36.89   37.19\n",
      "  36.77   36.71   37.97   39.2    39.99   39.75   40.66   41.89   44.18\n",
      "  45.22   48.07   48.81   48.86   41.0001 42.55   39.12   39.2099 38.22\n",
      "  36.86   37.595  37.6148 38.7299 38.082  38.31   38.08   36.215  37.02\n",
      "  37.02   37.76   36.91   35.66   35.87   35.13   35.05   35.74   35.11\n",
      "  34.67   36.1786 37.31   38.1    41.14   40.77   40.8764 40.84   42.29\n",
      "  41.25   39.32   40.07   40.26   42.54   45.3    45.02   44.325  45.12\n",
      "  45.97  ]\n",
      " [26.07   26.31   26.53   27.58   27.25   27.48   28.64   28.5    28.675\n",
      "  28.56   28.48   28.41   28.74   27.46   27.61   28.06   28.48   28.81\n",
      "  29.38   29.94   30.14   30.76   30.78   31.07   31.32   31.9965 32.82\n",
      "  32.81   33.22   32.69   32.52   32.1103 32.495  32.52   32.71   32.9\n",
      "  34.11   35.2    35.75   37.19   36.47   36.08   36.89   37.19   36.77\n",
      "  36.71   37.97   39.2    39.99   39.75   40.66   41.89   44.18   45.22\n",
      "  48.07   48.81   48.86   41.0001 42.55   39.12   39.2099 38.22   36.86\n",
      "  37.595  37.6148 38.7299 38.082  38.31   38.08   36.215  37.02   37.02\n",
      "  37.76   36.91   35.66   35.87   35.13   35.05   35.74   35.11   34.67\n",
      "  36.1786 37.31   38.1    41.14   40.77   40.8764 40.84   42.29   41.25\n",
      "  39.32   40.07   40.26   42.54   45.3    45.02   44.325  45.12   45.97\n",
      "  45.43  ]\n",
      " [26.31   26.53   27.58   27.25   27.48   28.64   28.5    28.675  28.56\n",
      "  28.48   28.41   28.74   27.46   27.61   28.06   28.48   28.81   29.38\n",
      "  29.94   30.14   30.76   30.78   31.07   31.32   31.9965 32.82   32.81\n",
      "  33.22   32.69   32.52   32.1103 32.495  32.52   32.71   32.9    34.11\n",
      "  35.2    35.75   37.19   36.47   36.08   36.89   37.19   36.77   36.71\n",
      "  37.97   39.2    39.99   39.75   40.66   41.89   44.18   45.22   48.07\n",
      "  48.81   48.86   41.0001 42.55   39.12   39.2099 38.22   36.86   37.595\n",
      "  37.6148 38.7299 38.082  38.31   38.08   36.215  37.02   37.02   37.76\n",
      "  36.91   35.66   35.87   35.13   35.05   35.74   35.11   34.67   36.1786\n",
      "  37.31   38.1    41.14   40.77   40.8764 40.84   42.29   41.25   39.32\n",
      "  40.07   40.26   42.54   45.3    45.02   44.325  45.12   45.97   45.43\n",
      "  45.51  ]] \n",
      "\n",
      "y sample values:\n",
      "[[45.43]\n",
      " [45.51]\n",
      " [46.91]]\n"
     ]
    }
   ],
   "source": [
    "window_size = 100\n",
    "feature_column = 1\n",
    "target_column = 1\n",
    "X, y = window_data(fintech_df, window_size, feature_column, target_column)\n",
    "print (f\"X sample values:\\n{X[:3]} \\n\")\n",
    "print (f\"y sample values:\\n{y[:3]}\")"
   ]
  },
  {
   "cell_type": "code",
   "execution_count": 30,
   "metadata": {},
   "outputs": [
    {
     "name": "stdout",
     "output_type": "stream",
     "text": [
      "[[ 25.77    26.07    26.31   ...  44.325   45.12    45.97  ]\n",
      " [ 26.07    26.31    26.53   ...  45.12    45.97    45.43  ]\n",
      " [ 26.31    26.53    27.58   ...  45.97    45.43    45.51  ]\n",
      " ...\n",
      " [212.62   227.11   229.51   ... 260.89   259.66   257.41  ]\n",
      " [227.11   229.51   229.8601 ... 259.66   257.41   263.05  ]\n",
      " [229.51   229.8601 236.58   ... 257.41   263.05   270.44  ]]\n"
     ]
    }
   ],
   "source": [
    "print(X)"
   ]
  },
  {
   "cell_type": "code",
   "execution_count": 31,
   "metadata": {},
   "outputs": [],
   "source": [
    "split = int(0.6 * len(X))\n",
    "X_train = X[: split]\n",
    "X_test = X[split :]\n",
    "y_train = y[: split]\n",
    "y_test = y[split :]"
   ]
  },
  {
   "cell_type": "code",
   "execution_count": 32,
   "metadata": {},
   "outputs": [],
   "source": [
    "from sklearn.preprocessing import MinMaxScaler\n",
    "x_train_scaler = MinMaxScaler()\n",
    "y_train_scaler = MinMaxScaler()\n",
    "x_train_scaler.fit(X_train)\n",
    "y_train_scaler.fit(y_train)\n",
    "X_train = x_train_scaler.transform(X_train)\n",
    "y_train = y_train_scaler.transform(y_train)\n",
    "X_test = x_train_scaler.transform(X_test)\n",
    "y_test = y_train_scaler.transform(y_test)\n",
    "#scaler = MinMaxScaler()\n",
    "#scaler.fit(X)\n",
    "#X_train = scaler.transform(X_train)\n",
    "#X_test = scaler.transform(X_test)\n",
    "#scaler.fit(y)\n",
    "#y_train = scaler.transform(y_train)\n",
    "#y_test = scaler.transform(y_test)"
   ]
  },
  {
   "cell_type": "code",
   "execution_count": 33,
   "metadata": {},
   "outputs": [],
   "source": [
    "X_train = X_train.reshape((X_train.shape[0], X_train.shape[1], 1))\n",
    "X_test = X_test.reshape((X_test.shape[0], X_test.shape[1], 1))\n",
    "#print (f\"X_train sample values:\\n{X_train[:5]} \\n\")\n",
    "#print (f\"X_test sample values:\\n{X_test[:5]}\")"
   ]
  },
  {
   "cell_type": "code",
   "execution_count": 34,
   "metadata": {},
   "outputs": [],
   "source": [
    "from tensorflow.keras.models import Sequential\n",
    "from tensorflow.keras.layers import LSTM, Dense, Dropout"
   ]
  },
  {
   "cell_type": "code",
   "execution_count": 35,
   "metadata": {},
   "outputs": [],
   "source": [
    "model = Sequential()\n",
    "\n",
    "#Adding number_units to the architecture enables the model to far more accurate that with a single digit number\n",
    "number_units = 100\n",
    "dropout_fraction = 0.2\n",
    "\n",
    "\n",
    "# Layer 1\n",
    "model.add(LSTM(units=number_units, return_sequences=True, input_shape=(X_train.shape[1], 1)))\n",
    "model.add(Dropout(dropout_fraction))\n",
    "# Layer 2\n",
    "model.add(LSTM(units=number_units, return_sequences=True))\n",
    "model.add(Dropout(dropout_fraction))\n",
    "# Layer 3\n",
    "model.add(LSTM(units=number_units))\n",
    "model.add(Dropout(dropout_fraction))\n",
    "# Output layer\n",
    "model.add(Dense(1))"
   ]
  },
  {
   "cell_type": "code",
   "execution_count": 36,
   "metadata": {},
   "outputs": [],
   "source": [
    "model.compile(optimizer=\"adam\", loss=\"mean_squared_error\")"
   ]
  },
  {
   "cell_type": "code",
   "execution_count": 37,
   "metadata": {},
   "outputs": [
    {
     "name": "stdout",
     "output_type": "stream",
     "text": [
      "Model: \"sequential_1\"\n",
      "_________________________________________________________________\n",
      "Layer (type)                 Output Shape              Param #   \n",
      "=================================================================\n",
      "lstm_3 (LSTM)                (None, 100, 100)          40800     \n",
      "_________________________________________________________________\n",
      "dropout_3 (Dropout)          (None, 100, 100)          0         \n",
      "_________________________________________________________________\n",
      "lstm_4 (LSTM)                (None, 100, 100)          80400     \n",
      "_________________________________________________________________\n",
      "dropout_4 (Dropout)          (None, 100, 100)          0         \n",
      "_________________________________________________________________\n",
      "lstm_5 (LSTM)                (None, 100)               80400     \n",
      "_________________________________________________________________\n",
      "dropout_5 (Dropout)          (None, 100)               0         \n",
      "_________________________________________________________________\n",
      "dense_1 (Dense)              (None, 1)                 101       \n",
      "=================================================================\n",
      "Total params: 201,701\n",
      "Trainable params: 201,701\n",
      "Non-trainable params: 0\n",
      "_________________________________________________________________\n"
     ]
    }
   ],
   "source": [
    "model.summary()"
   ]
  },
  {
   "cell_type": "code",
   "execution_count": 38,
   "metadata": {},
   "outputs": [
    {
     "name": "stdout",
     "output_type": "stream",
     "text": [
      "Epoch 1/20\n",
      "6/6 [==============================] - 6s 316ms/step - loss: 0.0988\n",
      "Epoch 2/20\n",
      "6/6 [==============================] - 2s 317ms/step - loss: 0.0260\n",
      "Epoch 3/20\n",
      "6/6 [==============================] - 2s 325ms/step - loss: 0.0187\n",
      "Epoch 4/20\n",
      "6/6 [==============================] - 2s 331ms/step - loss: 0.0137\n",
      "Epoch 5/20\n",
      "6/6 [==============================] - 2s 321ms/step - loss: 0.0159\n",
      "Epoch 6/20\n",
      "6/6 [==============================] - 2s 319ms/step - loss: 0.0135\n",
      "Epoch 7/20\n",
      "6/6 [==============================] - 2s 343ms/step - loss: 0.0118\n",
      "Epoch 8/20\n",
      "6/6 [==============================] - 2s 387ms/step - loss: 0.0117\n",
      "Epoch 9/20\n",
      "6/6 [==============================] - 2s 377ms/step - loss: 0.0112\n",
      "Epoch 10/20\n",
      "6/6 [==============================] - 2s 346ms/step - loss: 0.0114\n",
      "Epoch 11/20\n",
      "6/6 [==============================] - 2s 339ms/step - loss: 0.0102\n",
      "Epoch 12/20\n",
      "6/6 [==============================] - 3s 458ms/step - loss: 0.0097\n",
      "Epoch 13/20\n",
      "6/6 [==============================] - 3s 429ms/step - loss: 0.0092\n",
      "Epoch 14/20\n",
      "6/6 [==============================] - 3s 443ms/step - loss: 0.0098\n",
      "Epoch 15/20\n",
      "6/6 [==============================] - 3s 444ms/step - loss: 0.0094\n",
      "Epoch 16/20\n",
      "6/6 [==============================] - 3s 494ms/step - loss: 0.0091\n",
      "Epoch 17/20\n",
      "6/6 [==============================] - 3s 478ms/step - loss: 0.0088\n",
      "Epoch 18/20\n",
      "6/6 [==============================] - 3s 488ms/step - loss: 0.0082\n",
      "Epoch 19/20\n",
      "6/6 [==============================] - 3s 524ms/step - loss: 0.0079\n",
      "Epoch 20/20\n",
      "6/6 [==============================] - 3s 501ms/step - loss: 0.0080\n"
     ]
    },
    {
     "data": {
      "text/plain": "<tensorflow.python.keras.callbacks.History at 0x7f8cc40a3220>"
     },
     "execution_count": 38,
     "metadata": {},
     "output_type": "execute_result"
    }
   ],
   "source": [
    "model.fit(X_train, y_train, epochs=20, shuffle=False, batch_size=100, verbose=1)"
   ]
  },
  {
   "cell_type": "code",
   "execution_count": 39,
   "metadata": {},
   "outputs": [
    {
     "name": "stdout",
     "output_type": "stream",
     "text": [
      "12/12 [==============================] - 2s 60ms/step - loss: 0.3251\n"
     ]
    },
    {
     "data": {
      "text/plain": "0.3250727653503418"
     },
     "execution_count": 39,
     "metadata": {},
     "output_type": "execute_result"
    }
   ],
   "source": [
    "model.evaluate(X_test, y_test)"
   ]
  },
  {
   "cell_type": "code",
   "execution_count": 40,
   "metadata": {},
   "outputs": [],
   "source": [
    "predicted = model.predict(X_test)"
   ]
  },
  {
   "cell_type": "code",
   "execution_count": 41,
   "metadata": {},
   "outputs": [
    {
     "ename": "NameError",
     "evalue": "name 'scaler' is not defined",
     "output_type": "error",
     "traceback": [
      "\u001b[0;31m---------------------------------------------------------------------------\u001b[0m",
      "\u001b[0;31mNameError\u001b[0m                                 Traceback (most recent call last)",
      "\u001b[0;32m<ipython-input-41-bff31c52b588>\u001b[0m in \u001b[0;36m<module>\u001b[0;34m\u001b[0m\n\u001b[0;32m----> 1\u001b[0;31m \u001b[0mpredicted_prices\u001b[0m \u001b[0;34m=\u001b[0m \u001b[0mscaler\u001b[0m\u001b[0;34m.\u001b[0m\u001b[0minverse_transform\u001b[0m\u001b[0;34m(\u001b[0m\u001b[0mpredicted\u001b[0m\u001b[0;34m)\u001b[0m\u001b[0;34m\u001b[0m\u001b[0;34m\u001b[0m\u001b[0m\n\u001b[0m\u001b[1;32m      2\u001b[0m \u001b[0mreal_prices\u001b[0m \u001b[0;34m=\u001b[0m \u001b[0mscaler\u001b[0m\u001b[0;34m.\u001b[0m\u001b[0minverse_transform\u001b[0m\u001b[0;34m(\u001b[0m\u001b[0my_test\u001b[0m\u001b[0;34m.\u001b[0m\u001b[0mreshape\u001b[0m\u001b[0;34m(\u001b[0m\u001b[0;34m-\u001b[0m\u001b[0;36m1\u001b[0m\u001b[0;34m,\u001b[0m \u001b[0;36m1\u001b[0m\u001b[0;34m)\u001b[0m\u001b[0;34m)\u001b[0m\u001b[0;34m\u001b[0m\u001b[0;34m\u001b[0m\u001b[0m\n",
      "\u001b[0;31mNameError\u001b[0m: name 'scaler' is not defined"
     ]
    }
   ],
   "source": [
    "predicted_prices = scaler.inverse_transform(predicted)\n",
    "real_prices = scaler.inverse_transform(y_test.reshape(-1, 1))"
   ]
  },
  {
   "cell_type": "code",
   "execution_count": 621,
   "metadata": {},
   "outputs": [
    {
     "data": {
      "text/html": "<div>\n<style scoped>\n    .dataframe tbody tr th:only-of-type {\n        vertical-align: middle;\n    }\n\n    .dataframe tbody tr th {\n        vertical-align: top;\n    }\n\n    .dataframe thead th {\n        text-align: right;\n    }\n</style>\n<table border=\"1\" class=\"dataframe\">\n  <thead>\n    <tr style=\"text-align: right;\">\n      <th></th>\n      <th>Real</th>\n      <th>Predicted</th>\n    </tr>\n  </thead>\n  <tbody>\n    <tr>\n      <th>2021-08-10</th>\n      <td>938.195309</td>\n      <td>768.752930</td>\n    </tr>\n    <tr>\n      <th>2021-08-11</th>\n      <td>929.262516</td>\n      <td>773.904785</td>\n    </tr>\n    <tr>\n      <th>2021-08-12</th>\n      <td>926.956098</td>\n      <td>776.909302</td>\n    </tr>\n    <tr>\n      <th>2021-08-13</th>\n      <td>910.628124</td>\n      <td>778.000977</td>\n    </tr>\n    <tr>\n      <th>2021-08-16</th>\n      <td>901.146183</td>\n      <td>776.918396</td>\n    </tr>\n    <tr>\n      <th>2021-08-17</th>\n      <td>896.643177</td>\n      <td>773.775757</td>\n    </tr>\n    <tr>\n      <th>2021-08-18</th>\n      <td>888.405970</td>\n      <td>769.018188</td>\n    </tr>\n    <tr>\n      <th>2021-08-19</th>\n      <td>909.053902</td>\n      <td>762.912109</td>\n    </tr>\n    <tr>\n      <th>2021-08-20</th>\n      <td>936.108550</td>\n      <td>756.931274</td>\n    </tr>\n    <tr>\n      <th>2021-08-23</th>\n      <td>935.120085</td>\n      <td>752.642029</td>\n    </tr>\n  </tbody>\n</table>\n</div>",
      "text/plain": "                  Real   Predicted\n2021-08-10  938.195309  768.752930\n2021-08-11  929.262516  773.904785\n2021-08-12  926.956098  776.909302\n2021-08-13  910.628124  778.000977\n2021-08-16  901.146183  776.918396\n2021-08-17  896.643177  773.775757\n2021-08-18  888.405970  769.018188\n2021-08-19  909.053902  762.912109\n2021-08-20  936.108550  756.931274\n2021-08-23  935.120085  752.642029"
     },
     "execution_count": 621,
     "metadata": {},
     "output_type": "execute_result"
    }
   ],
   "source": [
    "stocks = pd.DataFrame({\n",
    "    \"Real\": real_prices.ravel(),\n",
    "    \"Predicted\": predicted_prices.ravel()\n",
    "    }, index = fintech_df.index[-len(real_prices): ])\n",
    "stocks.tail(10)"
   ]
  },
  {
   "cell_type": "code",
   "execution_count": 622,
   "metadata": {},
   "outputs": [
    {
     "data": {},
     "metadata": {},
     "output_type": "display_data"
    },
    {
     "data": {
      "application/vnd.holoviews_exec.v0+json": "",
      "text/html": "<div id='10241'>\n\n\n\n\n\n  <div class=\"bk-root\" id=\"b5b516a7-f22f-402f-9ff2-646eda58381d\" data-root-id=\"10241\"></div>\n</div>\n<script type=\"application/javascript\">(function(root) {\n  function embed_document(root) {\n  var docs_json = {\"b30e9257-f7b6-49ee-bad4-fe46517676de\":{\"roots\":{\"references\":[{\"attributes\":{},\"id\":\"10252\",\"type\":\"LinearScale\"},{\"attributes\":{},\"id\":\"10261\",\"type\":\"BasicTicker\"},{\"attributes\":{\"num_minor_ticks\":5,\"tickers\":[{\"id\":\"10295\"},{\"id\":\"10296\"},{\"id\":\"10297\"},{\"id\":\"10298\"},{\"id\":\"10299\"},{\"id\":\"10300\"},{\"id\":\"10301\"},{\"id\":\"10302\"},{\"id\":\"10303\"},{\"id\":\"10304\"},{\"id\":\"10305\"},{\"id\":\"10306\"}]},\"id\":\"10257\",\"type\":\"DatetimeTicker\"},{\"attributes\":{\"data_source\":{\"id\":\"10281\"},\"glyph\":{\"id\":\"10284\"},\"hover_glyph\":null,\"muted_glyph\":{\"id\":\"10286\"},\"nonselection_glyph\":{\"id\":\"10285\"},\"selection_glyph\":null,\"view\":{\"id\":\"10288\"}},\"id\":\"10287\",\"type\":\"GlyphRenderer\"},{\"attributes\":{\"children\":[{\"id\":\"10242\"},{\"id\":\"10247\"},{\"id\":\"10514\"}],\"margin\":[0,0,0,0],\"name\":\"Row12223\",\"tags\":[\"embedded\"]},\"id\":\"10241\",\"type\":\"Row\"},{\"attributes\":{\"mantissas\":[1,2,5],\"max_interval\":500.0,\"num_minor_ticks\":0},\"id\":\"10295\",\"type\":\"AdaptiveTicker\"},{\"attributes\":{},\"id\":\"10278\",\"type\":\"DatetimeTickFormatter\"},{\"attributes\":{\"base\":60,\"mantissas\":[1,2,5,10,15,20,30],\"max_interval\":1800000.0,\"min_interval\":1000.0,\"num_minor_ticks\":0},\"id\":\"10296\",\"type\":\"AdaptiveTicker\"},{\"attributes\":{},\"id\":\"10282\",\"type\":\"Selection\"},{\"attributes\":{\"days\":[1,2,3,4,5,6,7,8,9,10,11,12,13,14,15,16,17,18,19,20,21,22,23,24,25,26,27,28,29,30,31]},\"id\":\"10298\",\"type\":\"DaysTicker\"},{\"attributes\":{\"base\":24,\"mantissas\":[1,2,4,6,8,12],\"max_interval\":43200000.0,\"min_interval\":3600000.0,\"num_minor_ticks\":0},\"id\":\"10297\",\"type\":\"AdaptiveTicker\"},{\"attributes\":{},\"id\":\"10310\",\"type\":\"Selection\"},{\"attributes\":{\"text\":\"PayPal LSTM Model\",\"text_color\":{\"value\":\"black\"},\"text_font_size\":{\"value\":\"12pt\"}},\"id\":\"10248\",\"type\":\"Title\"},{\"attributes\":{},\"id\":\"10254\",\"type\":\"LinearScale\"},{\"attributes\":{},\"id\":\"10280\",\"type\":\"BasicTickFormatter\"},{\"attributes\":{\"source\":{\"id\":\"10309\"}},\"id\":\"10316\",\"type\":\"CDSView\"},{\"attributes\":{\"months\":[0,1,2,3,4,5,6,7,8,9,10,11]},\"id\":\"10302\",\"type\":\"MonthsTicker\"},{\"attributes\":{\"months\":[0,2,4,6,8,10]},\"id\":\"10303\",\"type\":\"MonthsTicker\"},{\"attributes\":{\"days\":[1,4,7,10,13,16,19,22,25,28]},\"id\":\"10299\",\"type\":\"DaysTicker\"},{\"attributes\":{\"days\":[1,15]},\"id\":\"10301\",\"type\":\"DaysTicker\"},{\"attributes\":{\"line_color\":\"#1f77b3\",\"line_width\":2,\"x\":{\"field\":\"index\"},\"y\":{\"field\":\"value\"}},\"id\":\"10284\",\"type\":\"Line\"},{\"attributes\":{\"line_color\":\"#ff7e0e\",\"line_width\":2,\"x\":{\"field\":\"index\"},\"y\":{\"field\":\"value\"}},\"id\":\"10312\",\"type\":\"Line\"},{\"attributes\":{\"months\":[0,6]},\"id\":\"10305\",\"type\":\"MonthsTicker\"},{\"attributes\":{\"axis\":{\"id\":\"10260\"},\"dimension\":1,\"grid_line_color\":null,\"ticker\":null},\"id\":\"10263\",\"type\":\"Grid\"},{\"attributes\":{\"data\":{\"Variable\":[\"Predicted\",\"Predicted\",\"Predicted\",\"Predicted\",\"Predicted\",\"Predicted\",\"Predicted\",\"Predicted\",\"Predicted\",\"Predicted\",\"Predicted\",\"Predicted\",\"Predicted\",\"Predicted\",\"Predicted\",\"Predicted\",\"Predicted\",\"Predicted\",\"Predicted\",\"Predicted\",\"Predicted\",\"Predicted\",\"Predicted\",\"Predicted\",\"Predicted\",\"Predicted\",\"Predicted\",\"Predicted\",\"Predicted\",\"Predicted\",\"Predicted\",\"Predicted\",\"Predicted\",\"Predicted\",\"Predicted\",\"Predicted\",\"Predicted\",\"Predicted\",\"Predicted\",\"Predicted\",\"Predicted\",\"Predicted\",\"Predicted\",\"Predicted\",\"Predicted\",\"Predicted\",\"Predicted\",\"Predicted\",\"Predicted\",\"Predicted\",\"Predicted\",\"Predicted\",\"Predicted\",\"Predicted\",\"Predicted\",\"Predicted\",\"Predicted\",\"Predicted\",\"Predicted\",\"Predicted\",\"Predicted\",\"Predicted\",\"Predicted\",\"Predicted\",\"Predicted\",\"Predicted\",\"Predicted\",\"Predicted\",\"Predicted\",\"Predicted\",\"Predicted\",\"Predicted\",\"Predicted\",\"Predicted\",\"Predicted\",\"Predicted\",\"Predicted\",\"Predicted\",\"Predicted\",\"Predicted\",\"Predicted\",\"Predicted\",\"Predicted\",\"Predicted\",\"Predicted\",\"Predicted\",\"Predicted\",\"Predicted\",\"Predicted\",\"Predicted\",\"Predicted\",\"Predicted\",\"Predicted\",\"Predicted\",\"Predicted\",\"Predicted\",\"Predicted\",\"Predicted\",\"Predicted\",\"Predicted\",\"Predicted\",\"Predicted\",\"Predicted\",\"Predicted\",\"Predicted\",\"Predicted\",\"Predicted\",\"Predicted\",\"Predicted\",\"Predicted\",\"Predicted\",\"Predicted\",\"Predicted\",\"Predicted\",\"Predicted\",\"Predicted\",\"Predicted\",\"Predicted\",\"Predicted\",\"Predicted\",\"Predicted\",\"Predicted\",\"Predicted\",\"Predicted\",\"Predicted\",\"Predicted\",\"Predicted\",\"Predicted\",\"Predicted\",\"Predicted\",\"Predicted\",\"Predicted\",\"Predicted\",\"Predicted\",\"Predicted\",\"Predicted\",\"Predicted\",\"Predicted\",\"Predicted\",\"Predicted\",\"Predicted\",\"Predicted\",\"Predicted\",\"Predicted\",\"Predicted\",\"Predicted\",\"Predicted\",\"Predicted\",\"Predicted\",\"Predicted\",\"Predicted\",\"Predicted\",\"Predicted\",\"Predicted\",\"Predicted\",\"Predicted\",\"Predicted\",\"Predicted\",\"Predicted\",\"Predicted\",\"Predicted\",\"Predicted\",\"Predicted\",\"Predicted\",\"Predicted\",\"Predicted\",\"Predicted\",\"Predicted\",\"Predicted\",\"Predicted\",\"Predicted\",\"Predicted\",\"Predicted\",\"Predicted\",\"Predicted\",\"Predicted\",\"Predicted\",\"Predicted\",\"Predicted\",\"Predicted\",\"Predicted\",\"Predicted\",\"Predicted\",\"Predicted\",\"Predicted\",\"Predicted\",\"Predicted\",\"Predicted\",\"Predicted\",\"Predicted\",\"Predicted\",\"Predicted\",\"Predicted\",\"Predicted\",\"Predicted\",\"Predicted\",\"Predicted\",\"Predicted\",\"Predicted\",\"Predicted\",\"Predicted\",\"Predicted\",\"Predicted\",\"Predicted\",\"Predicted\",\"Predicted\",\"Predicted\",\"Predicted\",\"Predicted\",\"Predicted\",\"Predicted\",\"Predicted\",\"Predicted\",\"Predicted\",\"Predicted\",\"Predicted\",\"Predicted\",\"Predicted\",\"Predicted\",\"Predicted\",\"Predicted\",\"Predicted\",\"Predicted\",\"Predicted\",\"Predicted\",\"Predicted\",\"Predicted\",\"Predicted\",\"Predicted\",\"Predicted\",\"Predicted\",\"Predicted\",\"Predicted\",\"Predicted\",\"Predicted\",\"Predicted\",\"Predicted\",\"Predicted\",\"Predicted\",\"Predicted\",\"Predicted\",\"Predicted\",\"Predicted\",\"Predicted\",\"Predicted\",\"Predicted\",\"Predicted\",\"Predicted\",\"Predicted\",\"Predicted\",\"Predicted\",\"Predicted\",\"Predicted\",\"Predicted\",\"Predicted\",\"Predicted\",\"Predicted\",\"Predicted\",\"Predicted\",\"Predicted\",\"Predicted\",\"Predicted\",\"Predicted\",\"Predicted\",\"Predicted\",\"Predicted\",\"Predicted\",\"Predicted\",\"Predicted\",\"Predicted\",\"Predicted\",\"Predicted\",\"Predicted\",\"Predicted\",\"Predicted\",\"Predicted\",\"Predicted\",\"Predicted\",\"Predicted\",\"Predicted\",\"Predicted\",\"Predicted\",\"Predicted\",\"Predicted\",\"Predicted\",\"Predicted\",\"Predicted\",\"Predicted\",\"Predicted\",\"Predicted\",\"Predicted\",\"Predicted\",\"Predicted\",\"Predicted\",\"Predicted\",\"Predicted\",\"Predicted\",\"Predicted\",\"Predicted\",\"Predicted\",\"Predicted\",\"Predicted\",\"Predicted\",\"Predicted\",\"Predicted\",\"Predicted\",\"Predicted\",\"Predicted\",\"Predicted\",\"Predicted\",\"Predicted\",\"Predicted\",\"Predicted\",\"Predicted\",\"Predicted\",\"Predicted\",\"Predicted\",\"Predicted\",\"Predicted\",\"Predicted\",\"Predicted\",\"Predicted\",\"Predicted\",\"Predicted\",\"Predicted\",\"Predicted\",\"Predicted\",\"Predicted\",\"Predicted\",\"Predicted\",\"Predicted\",\"Predicted\",\"Predicted\",\"Predicted\",\"Predicted\",\"Predicted\",\"Predicted\",\"Predicted\",\"Predicted\",\"Predicted\",\"Predicted\",\"Predicted\",\"Predicted\",\"Predicted\",\"Predicted\",\"Predicted\",\"Predicted\",\"Predicted\",\"Predicted\",\"Predicted\",\"Predicted\",\"Predicted\",\"Predicted\",\"Predicted\",\"Predicted\",\"Predicted\",\"Predicted\",\"Predicted\",\"Predicted\",\"Predicted\"],\"index\":{\"__ndarray__\":\"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\",\"dtype\":\"float64\",\"shape\":[360]},\"value\":{\"__ndarray__\":\"d2zsQpSQ1UKTqsRCuoS7QpzkukJiZsFCRJ7NQp0w3UIQ1exC8lj6QgQhAkMa1gVDCqwIQ3+uC0OoeA9D9ikUQ1riGUNENyBD3CMmQ0ONK0MJRzBDWaozQ5kBNkO7kTdD44w4Q5VJOUMjqzlDxjc6Q00DO0NztjtDhzc8QzDrPENeGT5Dt6hAQ0TkREMKUkpD22RQQ2FVVkP0PFxD4T1iQ7WQZ0MpKmxDhGJwQ2sidEMCRHdD5Y15QwfsekNSLntDBKx6Q63eeUPc4HlDYaF7Q8ZgfkND/IBDp/WCQxvhhENxx4ZDOQ2IQ3J5iEMDiYhDNsSIQ/CDiUOH6IpD5MuMQ3uCj0P88pJDTXGWQ8TomUMGFJ1Df6efQ0mWoUO06qNDXoemQ5PFqUM7H65DSRS0QxvVukNJc8FDNTnGQ9rZyEPmcslDOxfIQ7I9xUMPJcJD4TC/Q/3TvEMSirpDDQq4Q9TLtUOsvrNDeWqyQyrwsUMVUbJDCNizQ+mJtkMIELtDitjBQyOeyUPMjNBDS6rVQ1i72EMrPtpD5V3aQ6uD2kMC2tpDq1vbQ8B/3ENXCt5DhGPfQySV4ENcauFDSv7hQ2pM4kMpsOJDkOfjQ8x75UPoHOZDJNnkQ9IJ4UOSodtD0hHVQ2a1zUPe18ZDmSTCQzGpv0M1pr5DmKi+Qx/7v0OY4sJDH37GQ4uKykNCOM9DAYvUQ5yK2kPDlOBD28fmQ2nf7EMnrvNDAED6Q+g+AETILANEeu0FRGY+CESkQQpEbLwLREyuDEQ/+wxEO7UMRNzoC0SWTwpEWvYHREUiBURiwgFElkX8Q4Sy9ENwjO1Dab7lQ3id3UPM9tVDrZvQQ1lezkMYatFDX+XXQ91E30OgZedDoBLvQ0WL9UM6rPpDjFf/Q8CuAUSgpQNESLsFRIlsCESLUgtE9J4ORPoJEkRKOBVEU4MXRFq/GEQNLBlEdgoZRAi/GESUbRhE1NUXRF53F0TwVBdER1kXRFyjF0RPcRhEtNMZROHPG0TzDB5EqaUgRNvjIkRKfSRE2jAlRIarJERGcyNEpKchRMivH0SAIh5ERf0cRIzOHETSkR1EcVceRHn8HkTDlB9Eoi8gRMCMIEShpSBEwnsgRAnMH0Qq1x5EfHUdRJN2G0QItRhEJkAWRAktFESk2hJEp4oSRKohE0S32hREv4oXRNqvG0RlviBEyRsmRMmcK0QIITFE+Gw2RCcEO0S7uz5EAsRBRCPWQ0SYn0RE451DRK7CQEQ+rTxEOkw4RCR5NET4qDBEGk8sRNCBJ0S23SFEl78cRFWUGESQKxZElH4VROauFkRb+xhEXAccRIxvHkQu9h9EOrEgROelIETolh9EU4MdRCT2GkQZ8hdExAMVRPYTE0RYXBJEbcYSRAZfFEQxNRdE+3YbRN/DIERrpSZE4tosRMhJMkQv1TZEmR46RNvJO0TCFjxEU1k7RNHiOUT5BzhExWU2RNIHNURi9zNEJO0yRPnIMURVgzBEG6kuRNteLESFgClEeqsmRANbI0QE7x9E5fwbRNBPF0QutBJE40cORLJMCkSmzAZEhCEERJQdAkQpQAFEULkBRJCgA0QKlQZEaUAKREwwDkRU+BFEhucURLn2FkReYRhE/CAZROcnGUQO7xhEsrcYRHsfGURf/BlEoQgbRPObHESomh5EFKcgRPmjIkQmjCREnYImRLpBKEQP9ylEM6grRIgJLURH+S1EKW8uRMO5LkTC0S5E0WEuRAC/LUR1ES1E+lcsRKmDK0QRdSpEzFcpRHwWKESrUidE0YcnRPK6KET2zipE8FktROGfL0TItDFEjGIzRM5ONER3jDVE/AA3RIh1OEQrZDpE9GI8RGhyPkQwMEBE6HlBRDI6QkQQgEJExzpCRKZxQUQqQUBEYLo+RJo7PUQXKTxE\",\"dtype\":\"float32\",\"shape\":[360]}},\"selected\":{\"id\":\"10310\"},\"selection_policy\":{\"id\":\"10358\"}},\"id\":\"10309\",\"type\":\"ColumnDataSource\"},{\"attributes\":{\"days\":[1,8,15,22]},\"id\":\"10300\",\"type\":\"DaysTicker\"},{\"attributes\":{\"data_source\":{\"id\":\"10309\"},\"glyph\":{\"id\":\"10312\"},\"hover_glyph\":null,\"muted_glyph\":{\"id\":\"10314\"},\"nonselection_glyph\":{\"id\":\"10313\"},\"selection_glyph\":null,\"view\":{\"id\":\"10316\"}},\"id\":\"10315\",\"type\":\"GlyphRenderer\"},{\"attributes\":{\"bottom_units\":\"screen\",\"fill_alpha\":0.5,\"fill_color\":\"lightgrey\",\"left_units\":\"screen\",\"level\":\"overlay\",\"line_alpha\":1.0,\"line_color\":\"black\",\"line_dash\":[4,4],\"line_width\":2,\"render_mode\":\"css\",\"right_units\":\"screen\",\"top_units\":\"screen\"},\"id\":\"10269\",\"type\":\"BoxAnnotation\"},{\"attributes\":{},\"id\":\"10306\",\"type\":\"YearsTicker\"},{\"attributes\":{\"line_alpha\":0.1,\"line_color\":\"#ff7e0e\",\"line_width\":2,\"x\":{\"field\":\"index\"},\"y\":{\"field\":\"value\"}},\"id\":\"10313\",\"type\":\"Line\"},{\"attributes\":{},\"id\":\"10358\",\"type\":\"UnionRenderers\"},{\"attributes\":{\"margin\":[5,5,5,5],\"name\":\"HSpacer12227\",\"sizing_mode\":\"stretch_width\"},\"id\":\"10242\",\"type\":\"Spacer\"},{\"attributes\":{\"months\":[0,4,8]},\"id\":\"10304\",\"type\":\"MonthsTicker\"},{\"attributes\":{\"axis_label\":\"Date\",\"bounds\":\"auto\",\"formatter\":{\"id\":\"10278\"},\"major_label_orientation\":\"horizontal\",\"ticker\":{\"id\":\"10257\"}},\"id\":\"10256\",\"type\":\"DatetimeAxis\"},{\"attributes\":{\"axis\":{\"id\":\"10256\"},\"grid_line_color\":null,\"ticker\":null},\"id\":\"10259\",\"type\":\"Grid\"},{\"attributes\":{\"source\":{\"id\":\"10281\"}},\"id\":\"10288\",\"type\":\"CDSView\"},{\"attributes\":{\"line_alpha\":0.1,\"line_color\":\"#1f77b3\",\"line_width\":2,\"x\":{\"field\":\"index\"},\"y\":{\"field\":\"value\"}},\"id\":\"10285\",\"type\":\"Line\"},{\"attributes\":{\"line_alpha\":0.2,\"line_color\":\"#1f77b3\",\"line_width\":2,\"x\":{\"field\":\"index\"},\"y\":{\"field\":\"value\"}},\"id\":\"10286\",\"type\":\"Line\"},{\"attributes\":{\"line_alpha\":0.2,\"line_color\":\"#ff7e0e\",\"line_width\":2,\"x\":{\"field\":\"index\"},\"y\":{\"field\":\"value\"}},\"id\":\"10314\",\"type\":\"Line\"},{\"attributes\":{\"callback\":null,\"formatters\":{\"@{index}\":\"datetime\"},\"renderers\":[{\"id\":\"10287\"},{\"id\":\"10315\"}],\"tags\":[\"hv_created\"],\"tooltips\":[[\"Variable\",\"@{Variable}\"],[\"index\",\"@{index}{%F %T}\"],[\"value\",\"@{value}\"]]},\"id\":\"10245\",\"type\":\"HoverTool\"},{\"attributes\":{},\"id\":\"10264\",\"type\":\"SaveTool\"},{\"attributes\":{\"label\":{\"value\":\"Real\"},\"renderers\":[{\"id\":\"10287\"}]},\"id\":\"10308\",\"type\":\"LegendItem\"},{\"attributes\":{\"end\":1066.2161471215352,\"reset_end\":1066.2161471215352,\"reset_start\":3.989886993603406,\"start\":3.989886993603406,\"tags\":[[[\"value\",\"value\",null]]]},\"id\":\"10244\",\"type\":\"Range1d\"},{\"attributes\":{\"click_policy\":\"mute\",\"items\":[{\"id\":\"10308\"},{\"id\":\"10337\"}],\"location\":[0,0],\"title\":\"Variable\"},\"id\":\"10307\",\"type\":\"Legend\"},{\"attributes\":{\"label\":{\"value\":\"Predicted\"},\"renderers\":[{\"id\":\"10315\"}]},\"id\":\"10337\",\"type\":\"LegendItem\"},{\"attributes\":{},\"id\":\"10266\",\"type\":\"WheelZoomTool\"},{\"attributes\":{\"data\":{\"Variable\":[\"Real\",\"Real\",\"Real\",\"Real\",\"Real\",\"Real\",\"Real\",\"Real\",\"Real\",\"Real\",\"Real\",\"Real\",\"Real\",\"Real\",\"Real\",\"Real\",\"Real\",\"Real\",\"Real\",\"Real\",\"Real\",\"Real\",\"Real\",\"Real\",\"Real\",\"Real\",\"Real\",\"Real\",\"Real\",\"Real\",\"Real\",\"Real\",\"Real\",\"Real\",\"Real\",\"Real\",\"Real\",\"Real\",\"Real\",\"Real\",\"Real\",\"Real\",\"Real\",\"Real\",\"Real\",\"Real\",\"Real\",\"Real\",\"Real\",\"Real\",\"Real\",\"Real\",\"Real\",\"Real\",\"Real\",\"Real\",\"Real\",\"Real\",\"Real\",\"Real\",\"Real\",\"Real\",\"Real\",\"Real\",\"Real\",\"Real\",\"Real\",\"Real\",\"Real\",\"Real\",\"Real\",\"Real\",\"Real\",\"Real\",\"Real\",\"Real\",\"Real\",\"Real\",\"Real\",\"Real\",\"Real\",\"Real\",\"Real\",\"Real\",\"Real\",\"Real\",\"Real\",\"Real\",\"Real\",\"Real\",\"Real\",\"Real\",\"Real\",\"Real\",\"Real\",\"Real\",\"Real\",\"Real\",\"Real\",\"Real\",\"Real\",\"Real\",\"Real\",\"Real\",\"Real\",\"Real\",\"Real\",\"Real\",\"Real\",\"Real\",\"Real\",\"Real\",\"Real\",\"Real\",\"Real\",\"Real\",\"Real\",\"Real\",\"Real\",\"Real\",\"Real\",\"Real\",\"Real\",\"Real\",\"Real\",\"Real\",\"Real\",\"Real\",\"Real\",\"Real\",\"Real\",\"Real\",\"Real\",\"Real\",\"Real\",\"Real\",\"Real\",\"Real\",\"Real\",\"Real\",\"Real\",\"Real\",\"Real\",\"Real\",\"Real\",\"Real\",\"Real\",\"Real\",\"Real\",\"Real\",\"Real\",\"Real\",\"Real\",\"Real\",\"Real\",\"Real\",\"Real\",\"Real\",\"Real\",\"Real\",\"Real\",\"Real\",\"Real\",\"Real\",\"Real\",\"Real\",\"Real\",\"Real\",\"Real\",\"Real\",\"Real\",\"Real\",\"Real\",\"Real\",\"Real\",\"Real\",\"Real\",\"Real\",\"Real\",\"Real\",\"Real\",\"Real\",\"Real\",\"Real\",\"Real\",\"Real\",\"Real\",\"Real\",\"Real\",\"Real\",\"Real\",\"Real\",\"Real\",\"Real\",\"Real\",\"Real\",\"Real\",\"Real\",\"Real\",\"Real\",\"Real\",\"Real\",\"Real\",\"Real\",\"Real\",\"Real\",\"Real\",\"Real\",\"Real\",\"Real\",\"Real\",\"Real\",\"Real\",\"Real\",\"Real\",\"Real\",\"Real\",\"Real\",\"Real\",\"Real\",\"Real\",\"Real\",\"Real\",\"Real\",\"Real\",\"Real\",\"Real\",\"Real\",\"Real\",\"Real\",\"Real\",\"Real\",\"Real\",\"Real\",\"Real\",\"Real\",\"Real\",\"Real\",\"Real\",\"Real\",\"Real\",\"Real\",\"Real\",\"Real\",\"Real\",\"Real\",\"Real\",\"Real\",\"Real\",\"Real\",\"Real\",\"Real\",\"Real\",\"Real\",\"Real\",\"Real\",\"Real\",\"Real\",\"Real\",\"Real\",\"Real\",\"Real\",\"Real\",\"Real\",\"Real\",\"Real\",\"Real\",\"Real\",\"Real\",\"Real\",\"Real\",\"Real\",\"Real\",\"Real\",\"Real\",\"Real\",\"Real\",\"Real\",\"Real\",\"Real\",\"Real\",\"Real\",\"Real\",\"Real\",\"Real\",\"Real\",\"Real\",\"Real\",\"Real\",\"Real\",\"Real\",\"Real\",\"Real\",\"Real\",\"Real\",\"Real\",\"Real\",\"Real\",\"Real\",\"Real\",\"Real\",\"Real\",\"Real\",\"Real\",\"Real\",\"Real\",\"Real\",\"Real\",\"Real\",\"Real\",\"Real\",\"Real\",\"Real\",\"Real\",\"Real\",\"Real\",\"Real\",\"Real\",\"Real\",\"Real\",\"Real\",\"Real\",\"Real\",\"Real\",\"Real\",\"Real\",\"Real\",\"Real\",\"Real\",\"Real\",\"Real\",\"Real\",\"Real\",\"Real\",\"Real\",\"Real\",\"Real\",\"Real\",\"Real\",\"Real\",\"Real\",\"Real\",\"Real\",\"Real\",\"Real\",\"Real\",\"Real\",\"Real\",\"Real\",\"Real\",\"Real\",\"Real\",\"Real\",\"Real\",\"Real\",\"Real\",\"Real\",\"Real\",\"Real\",\"Real\"],\"index\":{\"__ndarray__\":\"AAAAbwEPd0IAAMDUUw93QgAAAAZLEHdCAADAa50Qd0IAAIDR7xB3QgAAQDdCEXdCAAAAnZQRd0IAAEDOixJ3QgAAADTeEndCAADAmTATd0IAAID/ghN3QgAAQGXVE3dCAACAlswUd0IAAED8HhV3QgAAAGJxFXdCAADAx8MVd0IAAMBeDRd3QgAAgMRfF3dCAABAKrIXd0IAAACQBBh3QgAAwPVWGHdCAAAAJ04Zd0IAAMCMoBl3QgAAgPLyGXdCAABAWEUad0IAAAC+lxp3QgAAQO+OG3dCAAAAVeEbd0IAAMC6Mxx3QgAAgCCGHHdCAABAhtgcd0IAAIC3zx13QgAAQB0iHndCAAAAg3Qed0IAAMDoxh53QgAAgE4ZH3dCAADAfxAgd0IAAIDlYiB3QgAAQEu1IHdCAAAAsQchd0IAAMAWWiF3QgAAAEhRIndCAADAraMid0IAAIAT9iJ3QgAAQHlII3dCAAAA35ojd0IAAAB25CR3QgAAwNs2JXdCAACAQYkld0IAAECn2yV3QgAAgNjSJndCAABAPiUnd0IAAACkdyd3QgAAwAnKJ3dCAACAbxwod0IAAMCgEyl3QgAAgAZmKXdCAABAbLgpd0IAAADSCip3QgAAwDddKndCAAAAaVQrd0IAAMDOpit3QgAAgDT5K3dCAABAmkssd0IAAAAAnix3QgAAQDGVLXdCAAAAl+ctd0IAAMD8OS53QgAAgGKMLndCAABAyN4ud0IAAID51S93QgAAQF8oMHdCAAAAxXowd0IAAMAqzTB3QgAAwMEWMndCAACAJ2kyd0IAAECNuzJ3QgAAAPMNM3dCAADAWGAzd0IAAACKVzR3QgAAwO+pNHdCAACAVfw0d0IAAEC7TjV3QgAAACGhNXdCAABAUpg2d0IAAAC46jZ3QgAAwB09N3dCAACAg483d0IAAEDp4Td3QgAAgBrZOHdCAABAgCs5d0IAAADmfTl3QgAAwEvQOXdCAACAsSI6d0IAAMDiGTt3QgAAgEhsO3dCAABArr47d0IAAAAUETx3QgAAwHljPHdCAAAAq1o9d0IAAMAQrT13QgAAgHb/PXdCAABA3FE+d0IAAABCpD53QgAAQHObP3dCAAAA2e0/d0IAAMA+QEB3QgAAgKSSQHdCAABACuVAd0IAAIA73EF3QgAAQKEuQndCAAAAB4FCd0IAAMBs00J3QgAAgNIlQ3dCAADAAx1Ed0IAAIBpb0R3QgAAQM/BRHdCAAAANRRFd0IAAMCaZkV3QgAAwDGwRndCAACAlwJHd0IAAED9VEd3QgAAAGOnR3dCAABAlJ5Id0IAAAD68Eh3QgAAwF9DSXdCAACAxZVJd0IAAEAr6El3QgAAgFzfSndCAABAwjFLd0IAAAAohEt3QgAAwI3WS3dCAACA8yhMd0IAAMAkIE13QgAAgIpyTXdCAABA8MRNd0IAAABWF053QgAAwLtpTndCAAAA7WBPd0IAAMBSs093QgAAgLgFUHdCAABAHlhQd0IAAACEqlB3QgAAQLWhUXdCAAAAG/RRd0IAAMCARlJ3QgAAgOaYUndCAABATOtSd0IAAIB94lN3QgAAQOM0VHdCAAAASYdUd0IAAMCu2VR3QgAAgBQsVXdCAADARSNWd0IAAICrdVZ3QgAAQBHIVndCAAAAdxpXd0IAAMDcbFd3QgAAAA5kWHdCAADAc7ZYd0IAAIDZCFl3QgAAQD9bWXdCAAAApa1Zd0IAAEDWpFp3QgAAADz3WndCAADAoUlbd0IAAIAHnFt3QgAAQG3uW3dCAACAnuVcd0IAAEAEOF13QgAAAGqKXXdCAADAz9xdd0IAAIA1L153QgAAwGYmX3dCAACAzHhfd0IAAEAyy193QgAAwP1vYHdCAAAAL2dhd0IAAMCUuWF3QgAAgPoLYndCAABAYF5id0IAAADGsGJ3QgAAQPenY3dCAAAAXfpjd0IAAMDCTGR3QgAAgCifZHdCAABAjvFkd0IAAIC/6GV3QgAAQCU7ZndCAAAAi41md0IAAMDw32Z3QgAAgFYyZ3dCAADAhylod0IAAIDte2h3QgAAQFPOaHdCAAAAuSBpd0IAAABQamp3QgAAwLW8andCAACAGw9rd0IAAECBYWt3QgAAQBirbHdCAAAAfv1sd0IAAMDjT213QgAAgEmibXdCAABAr/Rtd0IAAIDg6253QgAAQEY+b3dCAAAArJBvd0IAAMAR4293QgAAgHc1cHdCAACADn9xd0IAAEB00XF3QgAAANojcndCAADAP3Zyd0IAAABxbXN3QgAAwNa/c3dCAACAPBJ0d0IAAECiZHR3QgAAAAi3dHdCAABAOa51d0IAAACfAHZ3QgAAwARTdndCAACAaqV2d0IAAEDQ93Z3QgAAgAHvd3dCAABAZ0F4d0IAAADNk3h3QgAAwDLmeHdCAACAmDh5d0IAAIAvgnp3QgAAQJXUendCAAAA+yZ7d0IAAMBgeXt3QgAAAJJwfHdCAADA98J8d0IAAIBdFX13QgAAQMNnfXdCAAAAKbp9d0IAAEBasX53QgAAAMADf3dCAADAJVZ/d0IAAICLqH93QgAAQPH6f3dCAACAIvKAd0IAAECIRIF3QgAAAO6WgXdCAADAU+mBd0IAAIC5O4J3QgAAwOoyg3dCAACAUIWDd0IAAEC214N3QgAAABwqhHdCAADAgXyEd0IAAACzc4V3QgAAwBjGhXdCAACAfhiGd0IAAEDkaoZ3QgAAAEq9hndCAABAe7SHd0IAAADhBoh3QgAAwEZZiHdCAACArKuId0IAAIBD9Yl3QgAAQKlHindCAAAAD5qKd0IAAMB07Ip3QgAAgNo+i3dCAADACzaMd0IAAIBxiIx3QgAAQNfajHdCAAAAPS2Nd0IAAMCif413QgAAANR2jndCAADAOcmOd0IAAICfG493QgAAQAVuj3dCAAAAa8CPd0IAAECct5B3QgAAAAIKkXdCAADAZ1yRd0IAAIDNrpF3QgAAQDMBkndCAACAZPiSd0IAAEDKSpN3QgAAADCdk3dCAADAle+Td0IAAID7QZR3QgAAwCw5lXdCAACAkouVd0IAAED43ZV3QgAAAF4wlndCAADAw4KWd0IAAAD1eZd3QgAAwFrMl3dCAACAwB6Yd0IAAEAmcZh3QgAAAIzDmHdCAABAvbqZd0IAAAAjDZp3QgAAwIhfmndCAACA7rGad0IAAEBUBJt3QgAAQOtNnHdCAAAAUaCcd0IAAMC28px3QgAAgBxFnXdCAADATTyed0IAAICzjp53QgAAQBnhnndCAAAAfzOfd0IAAMDkhZ93QgAAABZ9oHdCAADAe8+gd0IAAIDhIaF3QgAAQEd0oXdCAAAArcahd0IAAEDevaJ3QgAAAEQQo3dCAADAqWKjd0IAAIAPtaN3QgAAQHUHpHdCAACApv6kd0IAAEAMUaV3QgAAAHKjpXdCAADA1/Wld0IAAIA9SKZ3QgAAgNSRp3dCAABAOuSnd0IAAACgNqh3QgAAwAWJqHdCAAAAN4Cpd0IAAMCc0ql3QgAAgAIlqndCAABAaHeqd0IAAADOyap3QgAAQP/Aq3dCAAAAZROsd0IAAMDKZax3QgAAgDC4rHdCAABAlgqtd0IAAIDHAa53QgAAQC1UrndCAAAAk6aud0IAAMD4+K53QgAAgF5Lr3dCAADAj0Kwd0IAAID1lLB3QgAAQFvnsHdCAAAAwTmxd0IAAMAmjLF3QgAAwL3VsndCAACAIyizd0IAAECJerN3QgAAAO/Ms3dCAABAIMS0d0IAAACGFrV3QgAAwOtotXdCAACAUbu1d0IAAEC3DbZ3QgAAgOgEt3dC\",\"dtype\":\"float64\",\"shape\":[360]},\"value\":{\"__ndarray__\":\"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\",\"dtype\":\"float64\",\"shape\":[360]}},\"selected\":{\"id\":\"10282\"},\"selection_policy\":{\"id\":\"10335\"}},\"id\":\"10281\",\"type\":\"ColumnDataSource\"},{\"attributes\":{},\"id\":\"10268\",\"type\":\"ResetTool\"},{\"attributes\":{\"end\":1629676800000.0,\"reset_end\":1629676800000.0,\"reset_start\":1584576000000.0,\"start\":1584576000000.0,\"tags\":[[[\"index\",\"index\",null]]]},\"id\":\"10243\",\"type\":\"Range1d\"},{\"attributes\":{\"margin\":[5,5,5,5],\"name\":\"HSpacer12228\",\"sizing_mode\":\"stretch_width\"},\"id\":\"10514\",\"type\":\"Spacer\"},{\"attributes\":{},\"id\":\"10335\",\"type\":\"UnionRenderers\"},{\"attributes\":{},\"id\":\"10265\",\"type\":\"PanTool\"},{\"attributes\":{\"below\":[{\"id\":\"10256\"}],\"center\":[{\"id\":\"10259\"},{\"id\":\"10263\"}],\"left\":[{\"id\":\"10260\"}],\"margin\":null,\"min_border_bottom\":10,\"min_border_left\":10,\"min_border_right\":10,\"min_border_top\":10,\"plot_height\":300,\"plot_width\":1000,\"renderers\":[{\"id\":\"10287\"},{\"id\":\"10315\"}],\"right\":[{\"id\":\"10307\"}],\"sizing_mode\":\"fixed\",\"title\":{\"id\":\"10248\"},\"toolbar\":{\"id\":\"10270\"},\"x_range\":{\"id\":\"10243\"},\"x_scale\":{\"id\":\"10252\"},\"y_range\":{\"id\":\"10244\"},\"y_scale\":{\"id\":\"10254\"}},\"id\":\"10247\",\"subtype\":\"Figure\",\"type\":\"Plot\"},{\"attributes\":{\"active_drag\":\"auto\",\"active_inspect\":\"auto\",\"active_multi\":null,\"active_scroll\":\"auto\",\"active_tap\":\"auto\",\"tools\":[{\"id\":\"10245\"},{\"id\":\"10264\"},{\"id\":\"10265\"},{\"id\":\"10266\"},{\"id\":\"10267\"},{\"id\":\"10268\"}]},\"id\":\"10270\",\"type\":\"Toolbar\"},{\"attributes\":{\"axis_label\":\"Price\",\"bounds\":\"auto\",\"formatter\":{\"id\":\"10280\"},\"major_label_orientation\":\"horizontal\",\"ticker\":{\"id\":\"10261\"}},\"id\":\"10260\",\"type\":\"LinearAxis\"},{\"attributes\":{\"overlay\":{\"id\":\"10269\"}},\"id\":\"10267\",\"type\":\"BoxZoomTool\"}],\"root_ids\":[\"10241\"]},\"title\":\"Bokeh Application\",\"version\":\"2.0.2\"}};\n  var render_items = [{\"docid\":\"b30e9257-f7b6-49ee-bad4-fe46517676de\",\"root_ids\":[\"10241\"],\"roots\":{\"10241\":\"b5b516a7-f22f-402f-9ff2-646eda58381d\"}}];\n  root.Bokeh.embed.embed_items_notebook(docs_json, render_items);\n  }\nif (root.Bokeh !== undefined) {\n    embed_document(root);\n  } else {\n    var attempts = 0;\n    var timer = setInterval(function(root) {\n      if (root.Bokeh !== undefined) {\n        clearInterval(timer);\n        embed_document(root);\n      } else if (document.readyState == \"complete\") {\n        attempts++;\n        if (attempts > 100) {\n          clearInterval(timer);\n          console.log(\"Bokeh: ERROR: Unable to run BokehJS code because BokehJS library is missing\");\n        }\n      }\n    }, 10, root)\n  }\n})(window);</script>",
      "text/plain": ":NdOverlay   [Variable]\n   :Curve   [index]   (value)"
     },
     "execution_count": 622,
     "metadata": {
      "application/vnd.holoviews_exec.v0+json": {
       "id": "10241"
      }
     },
     "output_type": "execute_result"
    }
   ],
   "source": [
    "stocks.hvplot.line(label = \"PayPal LSTM Model\", width = 1000, xlabel=\"Date\", ylabel=\"Price\")\n",
    "#(label = \"Predicting Apple's Close with the S&P500 Close - (6Day Window)\", xlabel=\"Date\", ylabel=\"Price\")"
   ]
  }
 ],
 "metadata": {
  "kernelspec": {
   "display_name": "Python 3.8.5 64-bit ('base': conda)",
   "metadata": {
    "interpreter": {
     "hash": "11ef2bb442b8455a3e6b82f3202efe5c7a01a00a0939705f79f87b65f8f45715"
    }
   },
   "name": "python3"
  },
  "language_info": {
   "codemirror_mode": {
    "name": "ipython",
    "version": 3
   },
   "file_extension": ".py",
   "mimetype": "text/x-python",
   "name": "python",
   "nbconvert_exporter": "python",
   "pygments_lexer": "ipython3",
   "version": "3.8.5"
  },
  "orig_nbformat": 2
 },
 "nbformat": 4,
 "nbformat_minor": 2
}