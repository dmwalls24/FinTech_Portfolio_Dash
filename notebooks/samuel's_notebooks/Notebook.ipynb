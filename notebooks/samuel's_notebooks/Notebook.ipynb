{
 "cells": [
  {
   "cell_type": "code",
   "execution_count": 240,
   "metadata": {},
   "outputs": [],
   "source": [
    "import os\n",
    "import numpy as np\n",
    "import pandas as pd\n",
    "from pathlib import Path\n",
    "from dotenv import load_dotenv\n",
    "import alpaca_trade_api as tradeapi\n",
    "from newsapi import NewsApiClient\n",
    "from datetime import datetime, timedelta\n",
    "import numpy as np\n",
    "from numpy.random import seed\n",
    "seed(1)\n",
    "import requests\n",
    "from tensorflow import random\n",
    "random.set_seed(2)\n",
    "import hvplot.pandas\n",
    "%matplotlib inline"
   ]
  },
  {
   "cell_type": "code",
   "execution_count": 241,
   "metadata": {},
   "outputs": [
    {
     "data": {
      "text/plain": "True"
     },
     "execution_count": 241,
     "metadata": {},
     "output_type": "execute_result"
    }
   ],
   "source": [
    "load_dotenv()"
   ]
  },
  {
   "cell_type": "code",
   "execution_count": 242,
   "metadata": {},
   "outputs": [],
   "source": [
    "alpaca_api_key = os.getenv(\"ALPACA_API_KEY\")\n",
    "alpaca_secret_key = os.getenv(\"ALPACA_SECRET_KEY\")\n",
    "alpaca = tradeapi.REST(\n",
    "    alpaca_api_key,\n",
    "    alpaca_secret_key,\n",
    "    api_version=\"v2\")\n",
    "#print(alpaca_api_key)"
   ]
  },
  {
   "cell_type": "code",
   "execution_count": 296,
   "metadata": {},
   "outputs": [
    {
     "data": {
      "text/html": "<div>\n<style scoped>\n    .dataframe tbody tr th:only-of-type {\n        vertical-align: middle;\n    }\n\n    .dataframe tbody tr th {\n        vertical-align: top;\n    }\n\n    .dataframe thead tr th {\n        text-align: left;\n    }\n\n    .dataframe thead tr:last-of-type th {\n        text-align: right;\n    }\n</style>\n<table border=\"1\" class=\"dataframe\">\n  <thead>\n    <tr>\n      <th></th>\n      <th colspan=\"5\" halign=\"left\">PYPL</th>\n    </tr>\n    <tr>\n      <th></th>\n      <th>open</th>\n      <th>high</th>\n      <th>low</th>\n      <th>close</th>\n      <th>volume</th>\n    </tr>\n    <tr>\n      <th>time</th>\n      <th></th>\n      <th></th>\n      <th></th>\n      <th></th>\n      <th></th>\n    </tr>\n  </thead>\n  <tbody>\n    <tr>\n      <th>2018-01-02 00:00:00-05:00</th>\n      <td>74.235</td>\n      <td>74.5000</td>\n      <td>73.4300</td>\n      <td>73.83</td>\n      <td>6009642</td>\n    </tr>\n    <tr>\n      <th>2018-01-03 00:00:00-05:00</th>\n      <td>74.300</td>\n      <td>76.8499</td>\n      <td>74.0500</td>\n      <td>76.77</td>\n      <td>8012610</td>\n    </tr>\n    <tr>\n      <th>2018-01-04 00:00:00-05:00</th>\n      <td>77.330</td>\n      <td>77.9287</td>\n      <td>76.2599</td>\n      <td>76.72</td>\n      <td>7246995</td>\n    </tr>\n    <tr>\n      <th>2018-01-05 00:00:00-05:00</th>\n      <td>77.110</td>\n      <td>78.9300</td>\n      <td>77.0100</td>\n      <td>78.64</td>\n      <td>9758882</td>\n    </tr>\n    <tr>\n      <th>2018-01-08 00:00:00-05:00</th>\n      <td>78.700</td>\n      <td>79.1800</td>\n      <td>77.7730</td>\n      <td>79.04</td>\n      <td>5761316</td>\n    </tr>\n  </tbody>\n</table>\n</div>",
      "text/plain": "                             PYPL                                  \n                             open     high      low  close   volume\ntime                                                               \n2018-01-02 00:00:00-05:00  74.235  74.5000  73.4300  73.83  6009642\n2018-01-03 00:00:00-05:00  74.300  76.8499  74.0500  76.77  8012610\n2018-01-04 00:00:00-05:00  77.330  77.9287  76.2599  76.72  7246995\n2018-01-05 00:00:00-05:00  77.110  78.9300  77.0100  78.64  9758882\n2018-01-08 00:00:00-05:00  78.700  79.1800  77.7730  79.04  5761316"
     },
     "execution_count": 296,
     "metadata": {},
     "output_type": "execute_result"
    }
   ],
   "source": [
    "#15Min interval\n",
    "timeframe = \"1D\"\n",
    "start_date = pd.Timestamp(\"2018-01-01\", tz=\"America/New_York\").isoformat()\n",
    "end_date = pd.Timestamp(\"2021-12-31\", tz=\"America/New_York\").isoformat()\n",
    "#today = pd.Timestamp(\"2021-01-02\", tz=\"America/New_York\").isoformat()\n",
    "ticker = [\"PYPL\"]#, \"SQ\"]#,# \"MELI\"]\n",
    "fintech_ticker = alpaca.get_barset(\n",
    "    ticker,\n",
    "    timeframe,\n",
    "    start=start_date,\n",
    "    end=end_date,\n",
    "    limit=1000,\n",
    ").df\n",
    "fintech_ticker.dropna(inplace=True)\n",
    "fintech_ticker.head(5)\n",
    "#apple_ticker.dropna(inplace=True)"
   ]
  },
  {
   "cell_type": "code",
   "execution_count": 317,
   "metadata": {},
   "outputs": [
    {
     "data": {
      "text/html": "<div>\n<style scoped>\n    .dataframe tbody tr th:only-of-type {\n        vertical-align: middle;\n    }\n\n    .dataframe tbody tr th {\n        vertical-align: top;\n    }\n\n    .dataframe thead tr th {\n        text-align: left;\n    }\n\n    .dataframe thead tr:last-of-type th {\n        text-align: right;\n    }\n</style>\n<table border=\"1\" class=\"dataframe\">\n  <thead>\n    <tr>\n      <th></th>\n      <th colspan=\"5\" halign=\"left\">PYPL</th>\n    </tr>\n    <tr>\n      <th></th>\n      <th>open</th>\n      <th>high</th>\n      <th>low</th>\n      <th>close</th>\n      <th>volume</th>\n    </tr>\n    <tr>\n      <th>time</th>\n      <th></th>\n      <th></th>\n      <th></th>\n      <th></th>\n      <th></th>\n    </tr>\n  </thead>\n  <tbody>\n    <tr>\n      <th>2017-12-15 00:00:00-05:00</th>\n      <td>74.51</td>\n      <td>75.87</td>\n      <td>73.51</td>\n      <td>75.53</td>\n      <td>7647741</td>\n    </tr>\n    <tr>\n      <th>2017-12-18 00:00:00-05:00</th>\n      <td>76.29</td>\n      <td>76.34</td>\n      <td>75.20</td>\n      <td>75.32</td>\n      <td>6112955</td>\n    </tr>\n    <tr>\n      <th>2017-12-19 00:00:00-05:00</th>\n      <td>75.39</td>\n      <td>75.39</td>\n      <td>73.91</td>\n      <td>74.49</td>\n      <td>6206748</td>\n    </tr>\n    <tr>\n      <th>2017-12-20 00:00:00-05:00</th>\n      <td>74.64</td>\n      <td>74.90</td>\n      <td>73.76</td>\n      <td>73.97</td>\n      <td>4819059</td>\n    </tr>\n    <tr>\n      <th>2017-12-21 00:00:00-05:00</th>\n      <td>74.19</td>\n      <td>74.47</td>\n      <td>73.80</td>\n      <td>74.02</td>\n      <td>3751690</td>\n    </tr>\n    <tr>\n      <th>2017-12-22 00:00:00-05:00</th>\n      <td>73.80</td>\n      <td>74.04</td>\n      <td>72.90</td>\n      <td>73.89</td>\n      <td>2781920</td>\n    </tr>\n    <tr>\n      <th>2017-12-26 00:00:00-05:00</th>\n      <td>73.29</td>\n      <td>74.34</td>\n      <td>72.63</td>\n      <td>74.28</td>\n      <td>3840751</td>\n    </tr>\n    <tr>\n      <th>2017-12-27 00:00:00-05:00</th>\n      <td>74.25</td>\n      <td>74.93</td>\n      <td>74.00</td>\n      <td>74.58</td>\n      <td>3362284</td>\n    </tr>\n    <tr>\n      <th>2017-12-28 00:00:00-05:00</th>\n      <td>74.96</td>\n      <td>75.00</td>\n      <td>73.86</td>\n      <td>74.17</td>\n      <td>2779892</td>\n    </tr>\n    <tr>\n      <th>2017-12-29 00:00:00-05:00</th>\n      <td>73.92</td>\n      <td>74.53</td>\n      <td>73.58</td>\n      <td>73.63</td>\n      <td>3099939</td>\n    </tr>\n  </tbody>\n</table>\n</div>",
      "text/plain": "                            PYPL                              \n                            open   high    low  close   volume\ntime                                                          \n2017-12-15 00:00:00-05:00  74.51  75.87  73.51  75.53  7647741\n2017-12-18 00:00:00-05:00  76.29  76.34  75.20  75.32  6112955\n2017-12-19 00:00:00-05:00  75.39  75.39  73.91  74.49  6206748\n2017-12-20 00:00:00-05:00  74.64  74.90  73.76  73.97  4819059\n2017-12-21 00:00:00-05:00  74.19  74.47  73.80  74.02  3751690\n2017-12-22 00:00:00-05:00  73.80  74.04  72.90  73.89  2781920\n2017-12-26 00:00:00-05:00  73.29  74.34  72.63  74.28  3840751\n2017-12-27 00:00:00-05:00  74.25  74.93  74.00  74.58  3362284\n2017-12-28 00:00:00-05:00  74.96  75.00  73.86  74.17  2779892\n2017-12-29 00:00:00-05:00  73.92  74.53  73.58  73.63  3099939"
     },
     "execution_count": 317,
     "metadata": {},
     "output_type": "execute_result"
    }
   ],
   "source": [
    "#15Min interval\n",
    "timeframe = \"1D\"\n",
    "start_date = pd.Timestamp(\"2014-01-01\", tz=\"America/New_York\").isoformat()\n",
    "end_date = pd.Timestamp(\"2017-12-31\", tz=\"America/New_York\").isoformat()\n",
    "#today = pd.Timestamp(\"2021-01-02\", tz=\"America/New_York\").isoformat()\n",
    "ticker = [\"PYPL\"]#, \"LINK\"]\n",
    "fintech_ticker2 = alpaca.get_barset(\n",
    "    ticker,\n",
    "    timeframe,\n",
    "    start=start_date,\n",
    "    end=end_date,\n",
    "    limit=1000,\n",
    ").df\n",
    "fintech_ticker2.dropna(inplace=True)\n",
    "fintech_ticker2.tail(10)\n",
    "#apple_ticker.dropna(inplace=True)"
   ]
  },
  {
   "cell_type": "code",
   "execution_count": 320,
   "metadata": {},
   "outputs": [
    {
     "data": {
      "text/html": "<div>\n<style scoped>\n    .dataframe tbody tr th:only-of-type {\n        vertical-align: middle;\n    }\n\n    .dataframe tbody tr th {\n        vertical-align: top;\n    }\n\n    .dataframe thead tr th {\n        text-align: left;\n    }\n\n    .dataframe thead tr:last-of-type th {\n        text-align: right;\n    }\n</style>\n<table border=\"1\" class=\"dataframe\">\n  <thead>\n    <tr>\n      <th></th>\n      <th colspan=\"5\" halign=\"left\">PYPL</th>\n    </tr>\n    <tr>\n      <th></th>\n      <th>open</th>\n      <th>high</th>\n      <th>low</th>\n      <th>close</th>\n      <th>volume</th>\n    </tr>\n    <tr>\n      <th>time</th>\n      <th></th>\n      <th></th>\n      <th></th>\n      <th></th>\n      <th></th>\n    </tr>\n  </thead>\n  <tbody>\n    <tr>\n      <th>2018-01-02 00:00:00-05:00</th>\n      <td>74.235</td>\n      <td>74.5000</td>\n      <td>73.4300</td>\n      <td>73.83</td>\n      <td>6009642</td>\n    </tr>\n    <tr>\n      <th>2018-01-03 00:00:00-05:00</th>\n      <td>74.300</td>\n      <td>76.8499</td>\n      <td>74.0500</td>\n      <td>76.77</td>\n      <td>8012610</td>\n    </tr>\n    <tr>\n      <th>2018-01-04 00:00:00-05:00</th>\n      <td>77.330</td>\n      <td>77.9287</td>\n      <td>76.2599</td>\n      <td>76.72</td>\n      <td>7246995</td>\n    </tr>\n    <tr>\n      <th>2018-01-05 00:00:00-05:00</th>\n      <td>77.110</td>\n      <td>78.9300</td>\n      <td>77.0100</td>\n      <td>78.64</td>\n      <td>9758882</td>\n    </tr>\n    <tr>\n      <th>2018-01-08 00:00:00-05:00</th>\n      <td>78.700</td>\n      <td>79.1800</td>\n      <td>77.7730</td>\n      <td>79.04</td>\n      <td>5761316</td>\n    </tr>\n  </tbody>\n</table>\n</div>",
      "text/plain": "                             PYPL                                  \n                             open     high      low  close   volume\ntime                                                               \n2018-01-02 00:00:00-05:00  74.235  74.5000  73.4300  73.83  6009642\n2018-01-03 00:00:00-05:00  74.300  76.8499  74.0500  76.77  8012610\n2018-01-04 00:00:00-05:00  77.330  77.9287  76.2599  76.72  7246995\n2018-01-05 00:00:00-05:00  77.110  78.9300  77.0100  78.64  9758882\n2018-01-08 00:00:00-05:00  78.700  79.1800  77.7730  79.04  5761316"
     },
     "execution_count": 320,
     "metadata": {},
     "output_type": "execute_result"
    }
   ],
   "source": [
    "fintech_ticker.append(fintech_ticker2)\n",
    "fintech_ticker.head()"
   ]
  },
  {
   "cell_type": "code",
   "execution_count": 308,
   "metadata": {},
   "outputs": [
    {
     "data": {
      "text/html": "<div>\n<style scoped>\n    .dataframe tbody tr th:only-of-type {\n        vertical-align: middle;\n    }\n\n    .dataframe tbody tr th {\n        vertical-align: top;\n    }\n\n    .dataframe thead th {\n        text-align: right;\n    }\n</style>\n<table border=\"1\" class=\"dataframe\">\n  <thead>\n    <tr style=\"text-align: right;\">\n      <th></th>\n      <th>PayPal</th>\n    </tr>\n  </thead>\n  <tbody>\n    <tr>\n      <th>2018-01-02</th>\n      <td>73.83</td>\n    </tr>\n    <tr>\n      <th>2018-01-03</th>\n      <td>76.77</td>\n    </tr>\n    <tr>\n      <th>2018-01-04</th>\n      <td>76.72</td>\n    </tr>\n    <tr>\n      <th>2018-01-05</th>\n      <td>78.64</td>\n    </tr>\n    <tr>\n      <th>2018-01-08</th>\n      <td>79.04</td>\n    </tr>\n  </tbody>\n</table>\n</div>",
      "text/plain": "            PayPal\n2018-01-02   73.83\n2018-01-03   76.77\n2018-01-04   76.72\n2018-01-05   78.64\n2018-01-08   79.04"
     },
     "execution_count": 308,
     "metadata": {},
     "output_type": "execute_result"
    }
   ],
   "source": [
    "fintech_df = pd.DataFrame()\n",
    "fintech_df[\"PayPal\"] = fintech_ticker[\"PYPL\"][\"close\"]\n",
    "#fintech_df[\"Square\"] = fintech_ticker[\"SQ\"][\"close\"]\n",
    "#fintech_df[\"Affirm\"] = fintech_ticker[\"AFRM\"][\"close\"]\n",
    "#fintech_df[\"Mercalibre\"] = fintech_ticker[\"MELI\"][\"close\"]\n",
    "#fintech_df[\"Johnson&Johnson\"] = nasdaq_ticker[\"JNJ\"][\"close\"]\n",
    "#apple_df = apple_df.pct_change().dropna()\n",
    "fintech_df.index = fintech_df.index.date \n",
    "fintech_df.dropna(inplace=True)\n",
    "fintech_df.head()"
   ]
  },
  {
   "cell_type": "code",
   "execution_count": 325,
   "metadata": {},
   "outputs": [],
   "source": [
    "fintech_df.to_csv(\"second_half.csv\")"
   ]
  },
  {
   "cell_type": "code",
   "execution_count": 321,
   "metadata": {},
   "outputs": [
    {
     "data": {
      "text/html": "<div>\n<style scoped>\n    .dataframe tbody tr th:only-of-type {\n        vertical-align: middle;\n    }\n\n    .dataframe tbody tr th {\n        vertical-align: top;\n    }\n\n    .dataframe thead th {\n        text-align: right;\n    }\n</style>\n<table border=\"1\" class=\"dataframe\">\n  <thead>\n    <tr style=\"text-align: right;\">\n      <th></th>\n      <th>PayPal</th>\n    </tr>\n  </thead>\n  <tbody>\n    <tr>\n      <th>2015-07-06</th>\n      <td>36.71</td>\n    </tr>\n    <tr>\n      <th>2015-07-07</th>\n      <td>36.55</td>\n    </tr>\n    <tr>\n      <th>2015-07-08</th>\n      <td>34.68</td>\n    </tr>\n    <tr>\n      <th>2015-07-09</th>\n      <td>34.49</td>\n    </tr>\n    <tr>\n      <th>2015-07-10</th>\n      <td>34.89</td>\n    </tr>\n  </tbody>\n</table>\n</div>",
      "text/plain": "            PayPal\n2015-07-06   36.71\n2015-07-07   36.55\n2015-07-08   34.68\n2015-07-09   34.49\n2015-07-10   34.89"
     },
     "execution_count": 321,
     "metadata": {},
     "output_type": "execute_result"
    }
   ],
   "source": [
    "fintech_df2 = pd.DataFrame()\n",
    "fintech_df2[\"PayPal\"] = fintech_ticker2[\"PYPL\"][\"close\"]\n",
    "#fintech_df[\"Square\"] = fintech_ticker[\"SQ\"][\"close\"]\n",
    "#fintech_df[\"Affirm\"] = fintech_ticker[\"AFRM\"][\"close\"]\n",
    "#fintech_df[\"Mercalibre\"] = fintech_ticker[\"MELI\"][\"close\"]\n",
    "#fintech_df[\"Johnson&Johnson\"] = nasdaq_ticker[\"JNJ\"][\"close\"]\n",
    "#apple_df = apple_df.pct_change().dropna()\n",
    "fintech_df2.index = fintech_df2.index.date \n",
    "fintech_df2.dropna(inplace=True)\n",
    "fintech_df2.head()"
   ]
  },
  {
   "cell_type": "code",
   "execution_count": 326,
   "metadata": {},
   "outputs": [],
   "source": [
    "fintech_df2.to_csv(\"first_half.csv\")"
   ]
  },
  {
   "cell_type": "code",
   "execution_count": 246,
   "metadata": {},
   "outputs": [],
   "source": [
    "def window_data(df, window, feature_col_number, target_col_number):\n",
    "    X = []\n",
    "    y = []\n",
    "    for i in range(len(df) - window):\n",
    "        features = df.iloc[i : (i + window), feature_col_number]\n",
    "        target = df.iloc[(i + window), target_col_number]\n",
    "        X.append(features)\n",
    "        y.append(target)\n",
    "    return np.array(X), np.array(y).reshape(-1, 1)"
   ]
  },
  {
   "cell_type": "code",
   "execution_count": 247,
   "metadata": {},
   "outputs": [
    {
     "name": "stdout",
     "output_type": "stream",
     "text": [
      "X sample values:\n",
      "[[61.45 61.27 61.25 62.   61.13 62.64 62.56 62.01 62.24 62.51 62.91 63.82\n",
      "  64.75 64.62 65.09 63.52 62.94 63.33 63.93 64.03]\n",
      " [61.27 61.25 62.   61.13 62.64 62.56 62.01 62.24 62.51 62.91 63.82 64.75\n",
      "  64.62 65.09 63.52 62.94 63.33 63.93 64.03 64.17]\n",
      " [61.25 62.   61.13 62.64 62.56 62.01 62.24 62.51 62.91 63.82 64.75 64.62\n",
      "  65.09 63.52 62.94 63.33 63.93 64.03 64.17 64.23]\n",
      " [62.   61.13 62.64 62.56 62.01 62.24 62.51 62.91 63.82 64.75 64.62 65.09\n",
      "  63.52 62.94 63.33 63.93 64.03 64.17 64.23 64.01]\n",
      " [61.13 62.64 62.56 62.01 62.24 62.51 62.91 63.82 64.75 64.62 65.09 63.52\n",
      "  62.94 63.33 63.93 64.03 64.17 64.23 64.01 65.83]] \n",
      "\n",
      "y sample values:\n",
      "[[64.17]\n",
      " [64.23]\n",
      " [64.01]\n",
      " [65.83]\n",
      " [66.04]]\n"
     ]
    }
   ],
   "source": [
    "window_size = 20\n",
    "feature_column = 0\n",
    "target_column = 0\n",
    "X, y = window_data(fintech_df, window_size, feature_column, target_column)\n",
    "print (f\"X sample values:\\n{X[:5]} \\n\")\n",
    "print (f\"y sample values:\\n{y[:5]}\")"
   ]
  },
  {
   "cell_type": "code",
   "execution_count": 248,
   "metadata": {},
   "outputs": [
    {
     "name": "stdout",
     "output_type": "stream",
     "text": [
      "[[ 61.45  61.27  61.25 ...  63.33  63.93  64.03]\n",
      " [ 61.27  61.25  62.   ...  63.93  64.03  64.17]\n",
      " [ 61.25  62.    61.13 ...  64.03  64.17  64.23]\n",
      " ...\n",
      " [303.69 308.47 306.82 ... 278.28 271.1  268.84]\n",
      " [308.47 306.82 300.48 ... 271.1  268.84 270.53]\n",
      " [306.82 300.48 301.98 ... 268.84 270.53 272.93]]\n"
     ]
    }
   ],
   "source": [
    "print(X)"
   ]
  },
  {
   "cell_type": "code",
   "execution_count": 249,
   "metadata": {},
   "outputs": [],
   "source": [
    "split = int(0.7 * len(X))\n",
    "X_train = X[: split]\n",
    "X_test = X[split :]\n",
    "y_train = y[: split]\n",
    "y_test = y[split :]"
   ]
  },
  {
   "cell_type": "code",
   "execution_count": 250,
   "metadata": {},
   "outputs": [],
   "source": [
    "from sklearn.preprocessing import MinMaxScaler\n",
    "\n",
    "scaler = MinMaxScaler()\n",
    "scaler.fit(X)\n",
    "X_train = scaler.transform(X_train)\n",
    "X_test = scaler.transform(X_test)\n",
    "scaler.fit(y)\n",
    "y_train = scaler.transform(y_train)\n",
    "y_test = scaler.transform(y_test)"
   ]
  },
  {
   "cell_type": "code",
   "execution_count": 251,
   "metadata": {},
   "outputs": [
    {
     "name": "stdout",
     "output_type": "stream",
     "text": [
      "X_train sample values:\n",
      "[[[1.29376567e-03]\n",
      "  [5.66022479e-04]\n",
      "  [4.85162125e-04]\n",
      "  [3.51742541e-03]\n",
      "  [0.00000000e+00]\n",
      "  [2.55619573e-03]\n",
      "  [2.23159945e-03]\n",
      "  [0.00000000e+00]\n",
      "  [0.00000000e+00]\n",
      "  [0.00000000e+00]\n",
      "  [0.00000000e+00]\n",
      "  [3.58408341e-03]\n",
      "  [7.37180793e-03]\n",
      "  [6.84234106e-03]\n",
      "  [8.75656743e-03]\n",
      "  [2.36223679e-03]\n",
      "  [0.00000000e+00]\n",
      "  [0.00000000e+00]\n",
      "  [0.00000000e+00]\n",
      "  [8.18129755e-05]]\n",
      "\n",
      " [[5.66022479e-04]\n",
      "  [4.85162125e-04]\n",
      "  [3.51742541e-03]\n",
      "  [0.00000000e+00]\n",
      "  [6.10495674e-03]\n",
      "  [2.23159945e-03]\n",
      "  [0.00000000e+00]\n",
      "  [9.33214315e-04]\n",
      "  [1.09653576e-03]\n",
      "  [1.62628070e-03]\n",
      "  [3.70581528e-03]\n",
      "  [7.37180793e-03]\n",
      "  [6.84234106e-03]\n",
      "  [8.75656743e-03]\n",
      "  [2.36223679e-03]\n",
      "  [0.00000000e+00]\n",
      "  [1.58840060e-03]\n",
      "  [2.44758097e-03]\n",
      "  [4.08931054e-04]\n",
      "  [6.54503804e-04]]\n",
      "\n",
      " [[4.85162125e-04]\n",
      "  [3.51742541e-03]\n",
      "  [0.00000000e+00]\n",
      "  [6.10495674e-03]\n",
      "  [5.78151532e-03]\n",
      "  [0.00000000e+00]\n",
      "  [9.33214315e-04]\n",
      "  [2.02872677e-03]\n",
      "  [2.72103318e-03]\n",
      "  [5.32606928e-03]\n",
      "  [7.49307705e-03]\n",
      "  [6.84234106e-03]\n",
      "  [8.75656743e-03]\n",
      "  [2.36223679e-03]\n",
      "  [0.00000000e+00]\n",
      "  [1.58840060e-03]\n",
      "  [4.03209384e-03]\n",
      "  [2.85551114e-03]\n",
      "  [9.81434530e-04]\n",
      "  [8.99942731e-04]]\n",
      "\n",
      " [[3.51742541e-03]\n",
      "  [0.00000000e+00]\n",
      "  [6.10495674e-03]\n",
      "  [5.78151532e-03]\n",
      "  [3.55785558e-03]\n",
      "  [9.33214315e-04]\n",
      "  [2.02872677e-03]\n",
      "  [3.65170819e-03]\n",
      "  [6.41676481e-03]\n",
      "  [9.10717190e-03]\n",
      "  [6.96367487e-03]\n",
      "  [8.75656743e-03]\n",
      "  [2.36223679e-03]\n",
      "  [0.00000000e+00]\n",
      "  [1.58840060e-03]\n",
      "  [4.03209384e-03]\n",
      "  [4.43937604e-03]\n",
      "  [3.42661336e-03]\n",
      "  [1.22679316e-03]\n",
      "  [0.00000000e+00]]\n",
      "\n",
      " [[0.00000000e+00]\n",
      "  [6.10495674e-03]\n",
      "  [5.78151532e-03]\n",
      "  [3.55785558e-03]\n",
      "  [4.48774966e-03]\n",
      "  [2.02872677e-03]\n",
      "  [3.65170819e-03]\n",
      "  [7.34399091e-03]\n",
      "  [1.01937213e-02]\n",
      "  [8.57863067e-03]\n",
      "  [8.87766737e-03]\n",
      "  [2.36223679e-03]\n",
      "  [0.00000000e+00]\n",
      "  [1.58840060e-03]\n",
      "  [4.03209384e-03]\n",
      "  [4.43937604e-03]\n",
      "  [5.00957113e-03]\n",
      "  [3.67137146e-03]\n",
      "  [3.27144843e-04]\n",
      "  [7.44498077e-03]]] \n",
      "\n",
      "X_test sample values:\n",
      "[[[0.3428479 ]\n",
      "  [0.3539662 ]\n",
      "  [0.3804884 ]\n",
      "  [0.37761785]\n",
      "  [0.38966605]\n",
      "  [0.38452487]\n",
      "  [0.37559847]\n",
      "  [0.38184695]\n",
      "  [0.38098526]\n",
      "  [0.38420881]\n",
      "  [0.39488923]\n",
      "  [0.36712418]\n",
      "  [0.37213375]\n",
      "  [0.38561479]\n",
      "  [0.40056205]\n",
      "  [0.41070338]\n",
      "  [0.42829797]\n",
      "  [0.41242147]\n",
      "  [0.43506175]\n",
      "  [0.44465352]]\n",
      "\n",
      " [[0.3539662 ]\n",
      "  [0.3804884 ]\n",
      "  [0.37761785]\n",
      "  [0.38966605]\n",
      "  [0.38671464]\n",
      "  [0.37559847]\n",
      "  [0.38184695]\n",
      "  [0.38156293]\n",
      "  [0.38488405]\n",
      "  [0.39587331]\n",
      "  [0.3672015 ]\n",
      "  [0.37213375]\n",
      "  [0.38561479]\n",
      "  [0.40056205]\n",
      "  [0.41070338]\n",
      "  [0.42829797]\n",
      "  [0.41335478]\n",
      "  [0.43644448]\n",
      "  [0.4448352 ]\n",
      "  [0.42571382]]\n",
      "\n",
      " [[0.3804884 ]\n",
      "  [0.37761785]\n",
      "  [0.38966605]\n",
      "  [0.38671464]\n",
      "  [0.37782   ]\n",
      "  [0.38184695]\n",
      "  [0.38156293]\n",
      "  [0.38545809]\n",
      "  [0.39653576]\n",
      "  [0.36823061]\n",
      "  [0.37221046]\n",
      "  [0.38561479]\n",
      "  [0.40056205]\n",
      "  [0.41070338]\n",
      "  [0.42829797]\n",
      "  [0.41335478]\n",
      "  [0.43733963]\n",
      "  [0.44619401]\n",
      "  [0.42590169]\n",
      "  [0.44383539]]\n",
      "\n",
      " [[0.37761785]\n",
      "  [0.38966605]\n",
      "  [0.38671464]\n",
      "  [0.37782   ]\n",
      "  [0.38404625]\n",
      "  [0.38156293]\n",
      "  [0.38545809]\n",
      "  [0.39709892]\n",
      "  [0.36892336]\n",
      "  [0.37323142]\n",
      "  [0.38568985]\n",
      "  [0.40056205]\n",
      "  [0.41070338]\n",
      "  [0.42829797]\n",
      "  [0.41335478]\n",
      "  [0.43733963]\n",
      "  [0.44707368]\n",
      "  [0.42730685]\n",
      "  [0.44401734]\n",
      "  [0.43712673]]\n",
      "\n",
      " [[0.38966605]\n",
      "  [0.38671464]\n",
      "  [0.37782   ]\n",
      "  [0.38404625]\n",
      "  [0.38376324]\n",
      "  [0.38545809]\n",
      "  [0.39709892]\n",
      "  [0.36951229]\n",
      "  [0.37391869]\n",
      "  [0.38668889]\n",
      "  [0.40063528]\n",
      "  [0.41070338]\n",
      "  [0.42829797]\n",
      "  [0.41335478]\n",
      "  [0.43733963]\n",
      "  [0.44707368]\n",
      "  [0.42821651]\n",
      "  [0.44537815]\n",
      "  [0.43731087]\n",
      "  [0.42722736]]]\n"
     ]
    }
   ],
   "source": [
    "X_train = X_train.reshape((X_train.shape[0], X_train.shape[1], 1))\n",
    "X_test = X_test.reshape((X_test.shape[0], X_test.shape[1], 1))\n",
    "print (f\"X_train sample values:\\n{X_train[:5]} \\n\")\n",
    "print (f\"X_test sample values:\\n{X_test[:5]}\")"
   ]
  },
  {
   "cell_type": "code",
   "execution_count": 252,
   "metadata": {},
   "outputs": [],
   "source": [
    "from tensorflow.keras.models import Sequential\n",
    "from tensorflow.keras.layers import LSTM, Dense, Dropout"
   ]
  },
  {
   "cell_type": "code",
   "execution_count": 253,
   "metadata": {},
   "outputs": [],
   "source": [
    "model = Sequential()\n",
    "\n",
    "#Adding number_units to the architecture enables the model to far more accurate that with a single digit number\n",
    "number_units = 30\n",
    "dropout_fraction = 0.2\n",
    "\n",
    "\n",
    "# Layer 1\n",
    "model.add(LSTM(units=number_units, return_sequences=True, input_shape=(X_train.shape[1], 1)))\n",
    "model.add(Dropout(dropout_fraction))\n",
    "# Layer 2\n",
    "model.add(LSTM(units=number_units, return_sequences=True))\n",
    "model.add(Dropout(dropout_fraction))\n",
    "# Layer 3\n",
    "model.add(LSTM(units=number_units))\n",
    "model.add(Dropout(dropout_fraction))\n",
    "# Output layer\n",
    "model.add(Dense(1))"
   ]
  },
  {
   "cell_type": "code",
   "execution_count": 254,
   "metadata": {},
   "outputs": [],
   "source": [
    "model.compile(optimizer=\"adam\", loss=\"mean_squared_error\")"
   ]
  },
  {
   "cell_type": "code",
   "execution_count": 255,
   "metadata": {},
   "outputs": [
    {
     "name": "stdout",
     "output_type": "stream",
     "text": [
      "Model: \"sequential_9\"\n",
      "_________________________________________________________________\n",
      "Layer (type)                 Output Shape              Param #   \n",
      "=================================================================\n",
      "lstm_27 (LSTM)               (None, 20, 30)            3840      \n",
      "_________________________________________________________________\n",
      "dropout_27 (Dropout)         (None, 20, 30)            0         \n",
      "_________________________________________________________________\n",
      "lstm_28 (LSTM)               (None, 20, 30)            7320      \n",
      "_________________________________________________________________\n",
      "dropout_28 (Dropout)         (None, 20, 30)            0         \n",
      "_________________________________________________________________\n",
      "lstm_29 (LSTM)               (None, 30)                7320      \n",
      "_________________________________________________________________\n",
      "dropout_29 (Dropout)         (None, 30)                0         \n",
      "_________________________________________________________________\n",
      "dense_9 (Dense)              (None, 1)                 31        \n",
      "=================================================================\n",
      "Total params: 18,511\n",
      "Trainable params: 18,511\n",
      "Non-trainable params: 0\n",
      "_________________________________________________________________\n"
     ]
    }
   ],
   "source": [
    "model.summary()"
   ]
  },
  {
   "cell_type": "code",
   "execution_count": 256,
   "metadata": {},
   "outputs": [
    {
     "name": "stdout",
     "output_type": "stream",
     "text": [
      "Epoch 1/20\n",
      "686/686 [==============================] - 8s 8ms/step - loss: 5.0941e-04\n",
      "Epoch 2/20\n",
      "686/686 [==============================] - 6s 8ms/step - loss: 0.0019\n",
      "Epoch 3/20\n",
      "686/686 [==============================] - 6s 8ms/step - loss: 0.0022\n",
      "Epoch 4/20\n",
      "686/686 [==============================] - 6s 8ms/step - loss: 0.0021\n",
      "Epoch 5/20\n",
      "686/686 [==============================] - 6s 8ms/step - loss: 0.0017\n",
      "Epoch 6/20\n",
      "686/686 [==============================] - 6s 8ms/step - loss: 0.0011\n",
      "Epoch 7/20\n",
      "686/686 [==============================] - 6s 8ms/step - loss: 0.0011\n",
      "Epoch 8/20\n",
      "686/686 [==============================] - 6s 8ms/step - loss: 0.0010\n",
      "Epoch 9/20\n",
      "686/686 [==============================] - 6s 8ms/step - loss: 0.0010\n",
      "Epoch 10/20\n",
      "686/686 [==============================] - 6s 8ms/step - loss: 8.6827e-04\n",
      "Epoch 11/20\n",
      "686/686 [==============================] - 6s 9ms/step - loss: 7.9534e-04\n",
      "Epoch 12/20\n",
      "686/686 [==============================] - 6s 8ms/step - loss: 8.3517e-04\n",
      "Epoch 13/20\n",
      "686/686 [==============================] - 6s 8ms/step - loss: 8.9562e-04\n",
      "Epoch 14/20\n",
      "686/686 [==============================] - 6s 8ms/step - loss: 9.6246e-04\n",
      "Epoch 15/20\n",
      "686/686 [==============================] - 6s 8ms/step - loss: 8.6578e-04\n",
      "Epoch 16/20\n",
      "686/686 [==============================] - 6s 8ms/step - loss: 7.9041e-04\n",
      "Epoch 17/20\n",
      "686/686 [==============================] - 6s 8ms/step - loss: 7.7427e-04\n",
      "Epoch 18/20\n",
      "686/686 [==============================] - 6s 8ms/step - loss: 7.5545e-04\n",
      "Epoch 19/20\n",
      "686/686 [==============================] - 6s 9ms/step - loss: 6.9983e-04\n",
      "Epoch 20/20\n",
      "686/686 [==============================] - 6s 8ms/step - loss: 6.6918e-04\n"
     ]
    },
    {
     "data": {
      "text/plain": "<tensorflow.python.keras.callbacks.History at 0x7f8bb11e7160>"
     },
     "execution_count": 256,
     "metadata": {},
     "output_type": "execute_result"
    }
   ],
   "source": [
    "model.fit(X_train, y_train, epochs=20, shuffle=False, batch_size=1, verbose=1)"
   ]
  },
  {
   "cell_type": "code",
   "execution_count": 257,
   "metadata": {},
   "outputs": [
    {
     "name": "stdout",
     "output_type": "stream",
     "text": [
      "10/10 [==============================] - 1s 4ms/step - loss: 0.0510\n"
     ]
    },
    {
     "data": {
      "text/plain": "0.051020920276641846"
     },
     "execution_count": 257,
     "metadata": {},
     "output_type": "execute_result"
    }
   ],
   "source": [
    "model.evaluate(X_test, y_test)"
   ]
  },
  {
   "cell_type": "code",
   "execution_count": 258,
   "metadata": {},
   "outputs": [],
   "source": [
    "predicted = model.predict(X_test)"
   ]
  },
  {
   "cell_type": "code",
   "execution_count": 259,
   "metadata": {},
   "outputs": [],
   "source": [
    "predicted_prices = scaler.inverse_transform(predicted)\n",
    "real_prices = scaler.inverse_transform(y_test.reshape(-1, 1))"
   ]
  },
  {
   "cell_type": "code",
   "execution_count": 260,
   "metadata": {},
   "outputs": [
    {
     "data": {
      "text/html": "<div>\n<style scoped>\n    .dataframe tbody tr th:only-of-type {\n        vertical-align: middle;\n    }\n\n    .dataframe tbody tr th {\n        vertical-align: top;\n    }\n\n    .dataframe thead th {\n        text-align: right;\n    }\n</style>\n<table border=\"1\" class=\"dataframe\">\n  <thead>\n    <tr style=\"text-align: right;\">\n      <th></th>\n      <th>Real</th>\n      <th>Predicted</th>\n    </tr>\n  </thead>\n  <tbody>\n    <tr>\n      <th>2020-06-24</th>\n      <td>168.08</td>\n      <td>165.633667</td>\n    </tr>\n    <tr>\n      <th>2020-06-25</th>\n      <td>172.51</td>\n      <td>165.190826</td>\n    </tr>\n    <tr>\n      <th>2020-06-26</th>\n      <td>170.87</td>\n      <td>165.323547</td>\n    </tr>\n    <tr>\n      <th>2020-06-29</th>\n      <td>168.45</td>\n      <td>165.256393</td>\n    </tr>\n    <tr>\n      <th>2020-06-30</th>\n      <td>174.20</td>\n      <td>164.415741</td>\n    </tr>\n    <tr>\n      <th>2020-07-01</th>\n      <td>177.46</td>\n      <td>165.174393</td>\n    </tr>\n    <tr>\n      <th>2020-07-02</th>\n      <td>177.23</td>\n      <td>167.071350</td>\n    </tr>\n    <tr>\n      <th>2020-07-06</th>\n      <td>176.20</td>\n      <td>168.322159</td>\n    </tr>\n    <tr>\n      <th>2020-07-07</th>\n      <td>177.16</td>\n      <td>168.364685</td>\n    </tr>\n    <tr>\n      <th>2020-07-08</th>\n      <td>181.60</td>\n      <td>168.180649</td>\n    </tr>\n  </tbody>\n</table>\n</div>",
      "text/plain": "              Real   Predicted\n2020-06-24  168.08  165.633667\n2020-06-25  172.51  165.190826\n2020-06-26  170.87  165.323547\n2020-06-29  168.45  165.256393\n2020-06-30  174.20  164.415741\n2020-07-01  177.46  165.174393\n2020-07-02  177.23  167.071350\n2020-07-06  176.20  168.322159\n2020-07-07  177.16  168.364685\n2020-07-08  181.60  168.180649"
     },
     "execution_count": 260,
     "metadata": {},
     "output_type": "execute_result"
    }
   ],
   "source": [
    "stocks = pd.DataFrame({\n",
    "    \"Real\": real_prices.ravel(),\n",
    "    \"Predicted\": predicted_prices.ravel()\n",
    "    }, index = fintech_df.index[-len(real_prices): ])\n",
    "stocks.head(10)"
   ]
  },
  {
   "cell_type": "code",
   "execution_count": 261,
   "metadata": {},
   "outputs": [
    {
     "data": {},
     "metadata": {},
     "output_type": "display_data"
    },
    {
     "data": {
      "application/vnd.holoviews_exec.v0+json": "",
      "text/html": "<div id='4851'>\n\n\n\n\n\n  <div class=\"bk-root\" id=\"1eef0673-7b04-42e8-bacf-0185ffb7a9a1\" data-root-id=\"4851\"></div>\n</div>\n<script type=\"application/javascript\">(function(root) {\n  function embed_document(root) {\n  var docs_json = {\"27ab7376-4194-4b13-a11f-341e1395287b\":{\"roots\":{\"references\":[{\"attributes\":{\"days\":[1,8,15,22]},\"id\":\"4910\",\"type\":\"DaysTicker\"},{\"attributes\":{\"line_alpha\":0.1,\"line_color\":\"#1f77b3\",\"line_width\":2,\"x\":{\"field\":\"index\"},\"y\":{\"field\":\"value\"}},\"id\":\"4895\",\"type\":\"Line\"},{\"attributes\":{\"line_alpha\":0.1,\"line_color\":\"#ff7e0e\",\"line_width\":2,\"x\":{\"field\":\"index\"},\"y\":{\"field\":\"value\"}},\"id\":\"4923\",\"type\":\"Line\"},{\"attributes\":{},\"id\":\"4916\",\"type\":\"YearsTicker\"},{\"attributes\":{\"line_color\":\"#1f77b3\",\"line_width\":2,\"x\":{\"field\":\"index\"},\"y\":{\"field\":\"value\"}},\"id\":\"4894\",\"type\":\"Line\"},{\"attributes\":{\"data_source\":{\"id\":\"4891\"},\"glyph\":{\"id\":\"4894\"},\"hover_glyph\":null,\"muted_glyph\":{\"id\":\"4896\"},\"nonselection_glyph\":{\"id\":\"4895\"},\"selection_glyph\":null,\"view\":{\"id\":\"4898\"}},\"id\":\"4897\",\"type\":\"GlyphRenderer\"},{\"attributes\":{\"line_color\":\"#ff7e0e\",\"line_width\":2,\"x\":{\"field\":\"index\"},\"y\":{\"field\":\"value\"}},\"id\":\"4922\",\"type\":\"Line\"},{\"attributes\":{\"months\":[0,4,8]},\"id\":\"4914\",\"type\":\"MonthsTicker\"},{\"attributes\":{\"line_alpha\":0.2,\"line_color\":\"#1f77b3\",\"line_width\":2,\"x\":{\"field\":\"index\"},\"y\":{\"field\":\"value\"}},\"id\":\"4896\",\"type\":\"Line\"},{\"attributes\":{\"line_alpha\":0.2,\"line_color\":\"#ff7e0e\",\"line_width\":2,\"x\":{\"field\":\"index\"},\"y\":{\"field\":\"value\"}},\"id\":\"4924\",\"type\":\"Line\"},{\"attributes\":{\"source\":{\"id\":\"4891\"}},\"id\":\"4898\",\"type\":\"CDSView\"},{\"attributes\":{\"callback\":null,\"formatters\":{\"@{index}\":\"datetime\"},\"renderers\":[{\"id\":\"4897\"},{\"id\":\"4925\"}],\"tags\":[\"hv_created\"],\"tooltips\":[[\"Variable\",\"@{Variable}\"],[\"index\",\"@{index}{%F %T}\"],[\"value\",\"@{value}\"]]},\"id\":\"4855\",\"type\":\"HoverTool\"},{\"attributes\":{\"label\":{\"value\":\"Predicted\"},\"renderers\":[{\"id\":\"4925\"}]},\"id\":\"4947\",\"type\":\"LegendItem\"},{\"attributes\":{},\"id\":\"4864\",\"type\":\"LinearScale\"},{\"attributes\":{\"source\":{\"id\":\"4919\"}},\"id\":\"4926\",\"type\":\"CDSView\"},{\"attributes\":{},\"id\":\"4892\",\"type\":\"Selection\"},{\"attributes\":{\"click_policy\":\"mute\",\"items\":[{\"id\":\"4918\"},{\"id\":\"4947\"}],\"location\":[0,0],\"title\":\"Variable\"},\"id\":\"4917\",\"type\":\"Legend\"},{\"attributes\":{\"data_source\":{\"id\":\"4919\"},\"glyph\":{\"id\":\"4922\"},\"hover_glyph\":null,\"muted_glyph\":{\"id\":\"4924\"},\"nonselection_glyph\":{\"id\":\"4923\"},\"selection_glyph\":null,\"view\":{\"id\":\"4926\"}},\"id\":\"4925\",\"type\":\"GlyphRenderer\"},{\"attributes\":{\"end\":1629676800000.0,\"reset_end\":1629676800000.0,\"reset_start\":1592956800000.0,\"start\":1592956800000.0,\"tags\":[[[\"index\",\"index\",null]]]},\"id\":\"4853\",\"type\":\"Range1d\"},{\"attributes\":{\"children\":[{\"id\":\"4852\"},{\"id\":\"4857\"},{\"id\":\"5124\"}],\"margin\":[0,0,0,0],\"name\":\"Row05993\",\"tags\":[\"embedded\"]},\"id\":\"4851\",\"type\":\"Row\"},{\"attributes\":{},\"id\":\"4932\",\"type\":\"UnionRenderers\"},{\"attributes\":{\"num_minor_ticks\":5,\"tickers\":[{\"id\":\"4905\"},{\"id\":\"4906\"},{\"id\":\"4907\"},{\"id\":\"4908\"},{\"id\":\"4909\"},{\"id\":\"4910\"},{\"id\":\"4911\"},{\"id\":\"4912\"},{\"id\":\"4913\"},{\"id\":\"4914\"},{\"id\":\"4915\"},{\"id\":\"4916\"}]},\"id\":\"4867\",\"type\":\"DatetimeTicker\"},{\"attributes\":{\"bottom_units\":\"screen\",\"fill_alpha\":0.5,\"fill_color\":\"lightgrey\",\"left_units\":\"screen\",\"level\":\"overlay\",\"line_alpha\":1.0,\"line_color\":\"black\",\"line_dash\":[4,4],\"line_width\":2,\"render_mode\":\"css\",\"right_units\":\"screen\",\"top_units\":\"screen\"},\"id\":\"4879\",\"type\":\"BoxAnnotation\"},{\"attributes\":{\"text\":\"LSTM Model\",\"text_color\":{\"value\":\"black\"},\"text_font_size\":{\"value\":\"12pt\"}},\"id\":\"4858\",\"type\":\"Title\"},{\"attributes\":{\"margin\":[5,5,5,5],\"name\":\"HSpacer05998\",\"sizing_mode\":\"stretch_width\"},\"id\":\"5124\",\"type\":\"Spacer\"},{\"attributes\":{\"data\":{\"Variable\":[\"Real\",\"Real\",\"Real\",\"Real\",\"Real\",\"Real\",\"Real\",\"Real\",\"Real\",\"Real\",\"Real\",\"Real\",\"Real\",\"Real\",\"Real\",\"Real\",\"Real\",\"Real\",\"Real\",\"Real\",\"Real\",\"Real\",\"Real\",\"Real\",\"Real\",\"Real\",\"Real\",\"Real\",\"Real\",\"Real\",\"Real\",\"Real\",\"Real\",\"Real\",\"Real\",\"Real\",\"Real\",\"Real\",\"Real\",\"Real\",\"Real\",\"Real\",\"Real\",\"Real\",\"Real\",\"Real\",\"Real\",\"Real\",\"Real\",\"Real\",\"Real\",\"Real\",\"Real\",\"Real\",\"Real\",\"Real\",\"Real\",\"Real\",\"Real\",\"Real\",\"Real\",\"Real\",\"Real\",\"Real\",\"Real\",\"Real\",\"Real\",\"Real\",\"Real\",\"Real\",\"Real\",\"Real\",\"Real\",\"Real\",\"Real\",\"Real\",\"Real\",\"Real\",\"Real\",\"Real\",\"Real\",\"Real\",\"Real\",\"Real\",\"Real\",\"Real\",\"Real\",\"Real\",\"Real\",\"Real\",\"Real\",\"Real\",\"Real\",\"Real\",\"Real\",\"Real\",\"Real\",\"Real\",\"Real\",\"Real\",\"Real\",\"Real\",\"Real\",\"Real\",\"Real\",\"Real\",\"Real\",\"Real\",\"Real\",\"Real\",\"Real\",\"Real\",\"Real\",\"Real\",\"Real\",\"Real\",\"Real\",\"Real\",\"Real\",\"Real\",\"Real\",\"Real\",\"Real\",\"Real\",\"Real\",\"Real\",\"Real\",\"Real\",\"Real\",\"Real\",\"Real\",\"Real\",\"Real\",\"Real\",\"Real\",\"Real\",\"Real\",\"Real\",\"Real\",\"Real\",\"Real\",\"Real\",\"Real\",\"Real\",\"Real\",\"Real\",\"Real\",\"Real\",\"Real\",\"Real\",\"Real\",\"Real\",\"Real\",\"Real\",\"Real\",\"Real\",\"Real\",\"Real\",\"Real\",\"Real\",\"Real\",\"Real\",\"Real\",\"Real\",\"Real\",\"Real\",\"Real\",\"Real\",\"Real\",\"Real\",\"Real\",\"Real\",\"Real\",\"Real\",\"Real\",\"Real\",\"Real\",\"Real\",\"Real\",\"Real\",\"Real\",\"Real\",\"Real\",\"Real\",\"Real\",\"Real\",\"Real\",\"Real\",\"Real\",\"Real\",\"Real\",\"Real\",\"Real\",\"Real\",\"Real\",\"Real\",\"Real\",\"Real\",\"Real\",\"Real\",\"Real\",\"Real\",\"Real\",\"Real\",\"Real\",\"Real\",\"Real\",\"Real\",\"Real\",\"Real\",\"Real\",\"Real\",\"Real\",\"Real\",\"Real\",\"Real\",\"Real\",\"Real\",\"Real\",\"Real\",\"Real\",\"Real\",\"Real\",\"Real\",\"Real\",\"Real\",\"Real\",\"Real\",\"Real\",\"Real\",\"Real\",\"Real\",\"Real\",\"Real\",\"Real\",\"Real\",\"Real\",\"Real\",\"Real\",\"Real\",\"Real\",\"Real\",\"Real\",\"Real\",\"Real\",\"Real\",\"Real\",\"Real\",\"Real\",\"Real\",\"Real\",\"Real\",\"Real\",\"Real\",\"Real\",\"Real\",\"Real\",\"Real\",\"Real\",\"Real\",\"Real\",\"Real\",\"Real\",\"Real\",\"Real\",\"Real\",\"Real\",\"Real\",\"Real\",\"Real\",\"Real\",\"Real\",\"Real\",\"Real\",\"Real\",\"Real\",\"Real\",\"Real\",\"Real\",\"Real\",\"Real\",\"Real\",\"Real\",\"Real\",\"Real\",\"Real\",\"Real\",\"Real\",\"Real\",\"Real\",\"Real\",\"Real\",\"Real\",\"Real\"],\"index\":{\"__ndarray__\":\"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\",\"dtype\":\"float64\",\"shape\":[294]},\"value\":{\"__ndarray__\":\"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\",\"dtype\":\"float64\",\"shape\":[294]}},\"selected\":{\"id\":\"4892\"},\"selection_policy\":{\"id\":\"4932\"}},\"id\":\"4891\",\"type\":\"ColumnDataSource\"},{\"attributes\":{\"days\":[1,4,7,10,13,16,19,22,25,28]},\"id\":\"4909\",\"type\":\"DaysTicker\"},{\"attributes\":{\"axis_label\":\"\",\"bounds\":\"auto\",\"formatter\":{\"id\":\"4890\"},\"major_label_orientation\":\"horizontal\",\"ticker\":{\"id\":\"4871\"}},\"id\":\"4870\",\"type\":\"LinearAxis\"},{\"attributes\":{},\"id\":\"4875\",\"type\":\"PanTool\"},{\"attributes\":{},\"id\":\"4955\",\"type\":\"UnionRenderers\"},{\"attributes\":{\"below\":[{\"id\":\"4866\"}],\"center\":[{\"id\":\"4869\"},{\"id\":\"4873\"}],\"left\":[{\"id\":\"4870\"}],\"margin\":null,\"min_border_bottom\":10,\"min_border_left\":10,\"min_border_right\":10,\"min_border_top\":10,\"plot_height\":300,\"plot_width\":1000,\"renderers\":[{\"id\":\"4897\"},{\"id\":\"4925\"}],\"right\":[{\"id\":\"4917\"}],\"sizing_mode\":\"fixed\",\"title\":{\"id\":\"4858\"},\"toolbar\":{\"id\":\"4880\"},\"x_range\":{\"id\":\"4853\"},\"x_scale\":{\"id\":\"4862\"},\"y_range\":{\"id\":\"4854\"},\"y_scale\":{\"id\":\"4864\"}},\"id\":\"4857\",\"subtype\":\"Figure\",\"type\":\"Plot\"},{\"attributes\":{\"margin\":[5,5,5,5],\"name\":\"HSpacer05997\",\"sizing_mode\":\"stretch_width\"},\"id\":\"4852\",\"type\":\"Spacer\"},{\"attributes\":{},\"id\":\"4876\",\"type\":\"WheelZoomTool\"},{\"attributes\":{},\"id\":\"4920\",\"type\":\"Selection\"},{\"attributes\":{},\"id\":\"4862\",\"type\":\"LinearScale\"},{\"attributes\":{\"axis\":{\"id\":\"4866\"},\"grid_line_color\":null,\"ticker\":null},\"id\":\"4869\",\"type\":\"Grid\"},{\"attributes\":{\"end\":322.91846789550783,\"reset_end\":322.91846789550783,\"reset_start\":149.53685314941407,\"start\":149.53685314941407,\"tags\":[[[\"value\",\"value\",null]]]},\"id\":\"4854\",\"type\":\"Range1d\"},{\"attributes\":{\"axis\":{\"id\":\"4870\"},\"dimension\":1,\"grid_line_color\":null,\"ticker\":null},\"id\":\"4873\",\"type\":\"Grid\"},{\"attributes\":{},\"id\":\"4871\",\"type\":\"BasicTicker\"},{\"attributes\":{\"mantissas\":[1,2,5],\"max_interval\":500.0,\"num_minor_ticks\":0},\"id\":\"4905\",\"type\":\"AdaptiveTicker\"},{\"attributes\":{},\"id\":\"4874\",\"type\":\"SaveTool\"},{\"attributes\":{\"base\":60,\"mantissas\":[1,2,5,10,15,20,30],\"max_interval\":1800000.0,\"min_interval\":1000.0,\"num_minor_ticks\":0},\"id\":\"4906\",\"type\":\"AdaptiveTicker\"},{\"attributes\":{\"axis_label\":\"\",\"bounds\":\"auto\",\"formatter\":{\"id\":\"4888\"},\"major_label_orientation\":\"horizontal\",\"ticker\":{\"id\":\"4867\"}},\"id\":\"4866\",\"type\":\"DatetimeAxis\"},{\"attributes\":{\"days\":[1,2,3,4,5,6,7,8,9,10,11,12,13,14,15,16,17,18,19,20,21,22,23,24,25,26,27,28,29,30,31]},\"id\":\"4908\",\"type\":\"DaysTicker\"},{\"attributes\":{\"base\":24,\"mantissas\":[1,2,4,6,8,12],\"max_interval\":43200000.0,\"min_interval\":3600000.0,\"num_minor_ticks\":0},\"id\":\"4907\",\"type\":\"AdaptiveTicker\"},{\"attributes\":{},\"id\":\"4890\",\"type\":\"BasicTickFormatter\"},{\"attributes\":{\"active_drag\":\"auto\",\"active_inspect\":\"auto\",\"active_multi\":null,\"active_scroll\":\"auto\",\"active_tap\":\"auto\",\"tools\":[{\"id\":\"4855\"},{\"id\":\"4874\"},{\"id\":\"4875\"},{\"id\":\"4876\"},{\"id\":\"4877\"},{\"id\":\"4878\"}]},\"id\":\"4880\",\"type\":\"Toolbar\"},{\"attributes\":{\"label\":{\"value\":\"Real\"},\"renderers\":[{\"id\":\"4897\"}]},\"id\":\"4918\",\"type\":\"LegendItem\"},{\"attributes\":{\"months\":[0,1,2,3,4,5,6,7,8,9,10,11]},\"id\":\"4912\",\"type\":\"MonthsTicker\"},{\"attributes\":{\"data\":{\"Variable\":[\"Predicted\",\"Predicted\",\"Predicted\",\"Predicted\",\"Predicted\",\"Predicted\",\"Predicted\",\"Predicted\",\"Predicted\",\"Predicted\",\"Predicted\",\"Predicted\",\"Predicted\",\"Predicted\",\"Predicted\",\"Predicted\",\"Predicted\",\"Predicted\",\"Predicted\",\"Predicted\",\"Predicted\",\"Predicted\",\"Predicted\",\"Predicted\",\"Predicted\",\"Predicted\",\"Predicted\",\"Predicted\",\"Predicted\",\"Predicted\",\"Predicted\",\"Predicted\",\"Predicted\",\"Predicted\",\"Predicted\",\"Predicted\",\"Predicted\",\"Predicted\",\"Predicted\",\"Predicted\",\"Predicted\",\"Predicted\",\"Predicted\",\"Predicted\",\"Predicted\",\"Predicted\",\"Predicted\",\"Predicted\",\"Predicted\",\"Predicted\",\"Predicted\",\"Predicted\",\"Predicted\",\"Predicted\",\"Predicted\",\"Predicted\",\"Predicted\",\"Predicted\",\"Predicted\",\"Predicted\",\"Predicted\",\"Predicted\",\"Predicted\",\"Predicted\",\"Predicted\",\"Predicted\",\"Predicted\",\"Predicted\",\"Predicted\",\"Predicted\",\"Predicted\",\"Predicted\",\"Predicted\",\"Predicted\",\"Predicted\",\"Predicted\",\"Predicted\",\"Predicted\",\"Predicted\",\"Predicted\",\"Predicted\",\"Predicted\",\"Predicted\",\"Predicted\",\"Predicted\",\"Predicted\",\"Predicted\",\"Predicted\",\"Predicted\",\"Predicted\",\"Predicted\",\"Predicted\",\"Predicted\",\"Predicted\",\"Predicted\",\"Predicted\",\"Predicted\",\"Predicted\",\"Predicted\",\"Predicted\",\"Predicted\",\"Predicted\",\"Predicted\",\"Predicted\",\"Predicted\",\"Predicted\",\"Predicted\",\"Predicted\",\"Predicted\",\"Predicted\",\"Predicted\",\"Predicted\",\"Predicted\",\"Predicted\",\"Predicted\",\"Predicted\",\"Predicted\",\"Predicted\",\"Predicted\",\"Predicted\",\"Predicted\",\"Predicted\",\"Predicted\",\"Predicted\",\"Predicted\",\"Predicted\",\"Predicted\",\"Predicted\",\"Predicted\",\"Predicted\",\"Predicted\",\"Predicted\",\"Predicted\",\"Predicted\",\"Predicted\",\"Predicted\",\"Predicted\",\"Predicted\",\"Predicted\",\"Predicted\",\"Predicted\",\"Predicted\",\"Predicted\",\"Predicted\",\"Predicted\",\"Predicted\",\"Predicted\",\"Predicted\",\"Predicted\",\"Predicted\",\"Predicted\",\"Predicted\",\"Predicted\",\"Predicted\",\"Predicted\",\"Predicted\",\"Predicted\",\"Predicted\",\"Predicted\",\"Predicted\",\"Predicted\",\"Predicted\",\"Predicted\",\"Predicted\",\"Predicted\",\"Predicted\",\"Predicted\",\"Predicted\",\"Predicted\",\"Predicted\",\"Predicted\",\"Predicted\",\"Predicted\",\"Predicted\",\"Predicted\",\"Predicted\",\"Predicted\",\"Predicted\",\"Predicted\",\"Predicted\",\"Predicted\",\"Predicted\",\"Predicted\",\"Predicted\",\"Predicted\",\"Predicted\",\"Predicted\",\"Predicted\",\"Predicted\",\"Predicted\",\"Predicted\",\"Predicted\",\"Predicted\",\"Predicted\",\"Predicted\",\"Predicted\",\"Predicted\",\"Predicted\",\"Predicted\",\"Predicted\",\"Predicted\",\"Predicted\",\"Predicted\",\"Predicted\",\"Predicted\",\"Predicted\",\"Predicted\",\"Predicted\",\"Predicted\",\"Predicted\",\"Predicted\",\"Predicted\",\"Predicted\",\"Predicted\",\"Predicted\",\"Predicted\",\"Predicted\",\"Predicted\",\"Predicted\",\"Predicted\",\"Predicted\",\"Predicted\",\"Predicted\",\"Predicted\",\"Predicted\",\"Predicted\",\"Predicted\",\"Predicted\",\"Predicted\",\"Predicted\",\"Predicted\",\"Predicted\",\"Predicted\",\"Predicted\",\"Predicted\",\"Predicted\",\"Predicted\",\"Predicted\",\"Predicted\",\"Predicted\",\"Predicted\",\"Predicted\",\"Predicted\",\"Predicted\",\"Predicted\",\"Predicted\",\"Predicted\",\"Predicted\",\"Predicted\",\"Predicted\",\"Predicted\",\"Predicted\",\"Predicted\",\"Predicted\",\"Predicted\",\"Predicted\",\"Predicted\",\"Predicted\",\"Predicted\",\"Predicted\",\"Predicted\",\"Predicted\",\"Predicted\",\"Predicted\",\"Predicted\",\"Predicted\",\"Predicted\",\"Predicted\",\"Predicted\",\"Predicted\",\"Predicted\",\"Predicted\",\"Predicted\",\"Predicted\",\"Predicted\",\"Predicted\",\"Predicted\",\"Predicted\",\"Predicted\",\"Predicted\",\"Predicted\",\"Predicted\",\"Predicted\",\"Predicted\",\"Predicted\",\"Predicted\",\"Predicted\",\"Predicted\",\"Predicted\",\"Predicted\",\"Predicted\",\"Predicted\",\"Predicted\",\"Predicted\"],\"index\":{\"__ndarray__\":\"AADA/Dkud0IAAIBijC53QgAAQMjeLndCAACA+dUvd0IAAEBfKDB3QgAAAMV6MHdCAADAKs0wd0IAAMDBFjJ3QgAAgCdpMndCAABAjbsyd0IAAADzDTN3QgAAwFhgM3dCAAAAilc0d0IAAMDvqTR3QgAAgFX8NHdCAABAu041d0IAAAAhoTV3QgAAQFKYNndCAAAAuOo2d0IAAMAdPTd3QgAAgIOPN3dCAABA6eE3d0IAAIAa2Th3QgAAQIArOXdCAAAA5n05d0IAAMBL0Dl3QgAAgLEiOndCAADA4hk7d0IAAIBIbDt3QgAAQK6+O3dCAAAAFBE8d0IAAMB5Yzx3QgAAAKtaPXdCAADAEK09d0IAAIB2/z13QgAAQNxRPndCAAAAQqQ+d0IAAEBzmz93QgAAANntP3dCAADAPkBAd0IAAICkkkB3QgAAQArlQHdCAACAO9xBd0IAAEChLkJ3QgAAAAeBQndCAADAbNNCd0IAAIDSJUN3QgAAwAMdRHdCAACAaW9Ed0IAAEDPwUR3QgAAADUURXdCAADAmmZFd0IAAMAxsEZ3QgAAgJcCR3dCAABA/VRHd0IAAABjp0d3QgAAQJSeSHdCAAAA+vBId0IAAMBfQ0l3QgAAgMWVSXdCAABAK+hJd0IAAIBc30p3QgAAQMIxS3dCAAAAKIRLd0IAAMCN1kt3QgAAgPMoTHdCAADAJCBNd0IAAICKck13QgAAQPDETXdCAAAAVhdOd0IAAMC7aU53QgAAAO1gT3dCAADAUrNPd0IAAIC4BVB3QgAAQB5YUHdCAAAAhKpQd0IAAEC1oVF3QgAAABv0UXdCAADAgEZSd0IAAIDmmFJ3QgAAQEzrUndCAACAfeJTd0IAAEDjNFR3QgAAAEmHVHdCAADArtlUd0IAAIAULFV3QgAAwEUjVndCAACAq3VWd0IAAEARyFZ3QgAAAHcaV3dCAADA3GxXd0IAAAAOZFh3QgAAwHO2WHdCAACA2QhZd0IAAEA/W1l3QgAAAKWtWXdCAABA1qRad0IAAAA891p3QgAAwKFJW3dCAACAB5xbd0IAAEBt7lt3QgAAgJ7lXHdCAABABDhdd0IAAABqil13QgAAwM/cXXdCAACANS9ed0IAAMBmJl93QgAAgMx4X3dCAABAMstfd0IAAMD9b2B3QgAAAC9nYXdCAADAlLlhd0IAAID6C2J3QgAAQGBeYndCAAAAxrBid0IAAED3p2N3QgAAAF36Y3dCAADAwkxkd0IAAIAon2R3QgAAQI7xZHdCAACAv+hld0IAAEAlO2Z3QgAAAIuNZndCAADA8N9md0IAAIBWMmd3QgAAwIcpaHdCAACA7Xtod0IAAEBTzmh3QgAAALkgaXdCAAAAUGpqd0IAAMC1vGp3QgAAgBsPa3dCAABAgWFrd0IAAEAYq2x3QgAAAH79bHdCAADA409td0IAAIBJom13QgAAQK/0bXdCAACA4Otud0IAAEBGPm93QgAAAKyQb3dCAADAEeNvd0IAAIB3NXB3QgAAgA5/cXdCAABAdNFxd0IAAADaI3J3QgAAwD92cndCAAAAcW1zd0IAAMDWv3N3QgAAgDwSdHdCAABAomR0d0IAAAAIt3R3QgAAQDmudXdCAAAAnwB2d0IAAMAEU3Z3QgAAgGqldndCAABA0Pd2d0IAAIAB73d3QgAAQGdBeHdCAAAAzZN4d0IAAMAy5nh3QgAAgJg4eXdCAACAL4J6d0IAAECV1Hp3QgAAAPsme3dCAADAYHl7d0IAAACScHx3QgAAwPfCfHdCAACAXRV9d0IAAEDDZ313QgAAACm6fXdCAABAWrF+d0IAAADAA393QgAAwCVWf3dCAACAi6h/d0IAAEDx+n93QgAAgCLygHdCAABAiESBd0IAAADuloF3QgAAwFPpgXdCAACAuTuCd0IAAMDqMoN3QgAAgFCFg3dCAABAtteDd0IAAAAcKoR3QgAAwIF8hHdCAAAAs3OFd0IAAMAYxoV3QgAAgH4YhndCAABA5GqGd0IAAABKvYZ3QgAAQHu0h3dCAAAA4QaId0IAAMBGWYh3QgAAgKyriHdCAACAQ/WJd0IAAECpR4p3QgAAAA+aindCAADAdOyKd0IAAIDaPot3QgAAwAs2jHdCAACAcYiMd0IAAEDX2ox3QgAAAD0tjXdCAADAon+Nd0IAAADUdo53QgAAwDnJjndCAACAnxuPd0IAAEAFbo93QgAAAGvAj3dCAABAnLeQd0IAAAACCpF3QgAAwGdckXdCAACAza6Rd0IAAEAzAZJ3QgAAgGT4kndCAABAykqTd0IAAAAwnZN3QgAAwJXvk3dCAACA+0GUd0IAAMAsOZV3QgAAgJKLlXdCAABA+N2Vd0IAAABeMJZ3QgAAwMOClndCAAAA9XmXd0IAAMBazJd3QgAAgMAemHdCAABAJnGYd0IAAACMw5h3QgAAQL26mXdCAAAAIw2ad0IAAMCIX5p3QgAAgO6xmndCAABAVASbd0IAAEDrTZx3QgAAAFGgnHdCAADAtvKcd0IAAIAcRZ13QgAAwE08nndCAACAs46ed0IAAEAZ4Z53QgAAAH8zn3dCAADA5IWfd0IAAAAWfaB3QgAAwHvPoHdCAACA4SGhd0IAAEBHdKF3QgAAAK3GoXdCAABA3r2id0IAAABEEKN3QgAAwKlio3dCAACAD7Wjd0IAAEB1B6R3QgAAgKb+pHdCAABADFGld0IAAAByo6V3QgAAwNf1pXdCAACAPUimd0IAAIDUkad3QgAAQDrkp3dCAAAAoDaod0IAAMAFiah3QgAAADeAqXdCAADAnNKpd0IAAIACJap3QgAAQGh3qndCAAAAzsmqd0IAAED/wKt3QgAAAGUTrHdCAADAymWsd0IAAIAwuKx3QgAAQJYKrXdCAACAxwGud0IAAEAtVK53QgAAAJOmrndCAADA+Piud0IAAIBeS693QgAAwI9CsHdCAACA9ZSwd0IAAEBb57B3QgAAAME5sXdCAADAJoyxd0IAAABYg7J3QgAAwL3VsndCAACAIyizd0IAAECJerN3QgAAAO/Ms3dCAABAIMS0d0IAAACGFrV3QgAAwOtotXdCAACAUbu1d0IAAEC3DbZ3QgAAgOgEt3dC\",\"dtype\":\"float64\",\"shape\":[294]},\"value\":{\"__ndarray__\":\"OKIlQ9owJUPUUiVDo0ElQ25qJEOlLCVDRBInQ3lSKENcXShDPy4oQwwpKUMkfCpDt+8pQ0UeJ0OWHSVDHXUkQz78I0OI6CRDSj0nQ6goKEPQsyhDm8EnQ1NTJkPF3SZD6HYnQ4HCKUMpli1DftUwQ2soMkNAADJDxZcyQ7BZM0MbSjJDmb8vQ0MELUOHSixDdzQtQ+zfLUMdQy9D2OcvQzhaL0OrDjBDgpEwQ30dMUMkBzJDEPkyQxyIM0MHnDNDv0wzQzoZNEMfTzVDqJ40Qzl8MEOl5CtDTM8rQ6KMLEOTnytDB1MrQ/JtK0NUYSpDtSYoQ6/BJkPERyhD2U8rQ8rDK0MIDitDg6orQ5WmLUMSmi9Dxv0wQ7BSMUPK0y9DFYkvQyOuLkPvny5Dl5wuQ/2TL0MCdDFD5BA0Q/KONEOGsjNDiyczQ+P+MUPvjjFDIzA0QxOKNENRWzNDlxIxQ9FhMEPG3y5DQ2MuQ46lLEOjqitDXqkpQ37YK0O8MzFDIF80Q712MEM7kStDhmwrQ4ZaLEP42SxD7MItQ6mKLkMDUS5D9v0tQ1lDLkPSjDBDUZIzQxj3NkOg1TdDUaY3QxerN0MyzjZDNlo2Q5T8NkMyqzdDp7A3QyEXNkMpzDVDGBE2Q6+5N0ODOjlDZXQ7Q7S9PUPNuj5DubI+Q1xNP0M47T5DEwo+Q4LvPEP7dztDBss6Q/B4O0PK4TtDS3s8Q5hiO0OEyDtDfSM+Q0bbPkMmTz5DWAQ/Q8VOP0OwpD5DXVQ/Q/qqP0PQR0BDFk1BQ5oKQUMPID9DLKg7Q9MgO0ODrDtDN489Q3JaQEOlUEJD3MNFQ8N7R0Pp9UhD25dJQwMGSUPKXEhDIMZJQ+HYS0N6q0tD9KtJQ96+R0OfTEVD/r1CQz36QUN3tkBDYvxAQw5AREMQM0ZDZvxDQ7u/PkO8mTtDTvY4Q2/fOkNc7j1DaKRBQyXsQkPHQkJDxilBQ6DhQEOuqz5Da0k9Q4HePUORxz5DzHo9QwQQPEPx9zxDgFk9Q99GPUOnWj5DqSlAQ5GxQUOmdEJD9chCQwIoRENfXEVDUN5FQxClRkO9xUVDO5BFQ2Y5RUPVmURDLrJDQ6lRQ0NsDkND1ZdDQx8ZRUMEn0VDAbZFQ0QhRUPBu0ND6E9CQ/5TQENE2T5Dm2I/Q4/HQEMDAkBDfKw/Q9B4PkPErT1DEKI+Q+JxP0PlaD9DpVs/QzicQENafkFDrqFCQ7ZxQ0Mz8kNDjq1DQ3k1Q0PT0EJDwRZDQ+69QkPhH0ND7UZDQ6eRQ0N62kNDQ9lEQ+3WRUN8okZDUVxGQ3BDRUMA4EVDRJ9HQ6uKSEO76khDAQpJQ5CWSUO6b0lDMXdJQ911SUN/L0lDWp9IQ8lzSEO96UhDYehJQ7o4SkO2oUpDJjlLQ7A8S0Pc2EpDhQRKQ2g8SUP2BElD3JlJQ5+gSkN/aktDryZMQwg2TEObG0tDDFlKQ0rpR0NXC0VDIFFDQ62iQ0NODUVDP+NGQ/21R0NlaUdD41hGQ9ntRUM6zEVDE9RFQ6BoRkPQ10VDFLtEQ5VyREM2G0VD\",\"dtype\":\"float32\",\"shape\":[294]}},\"selected\":{\"id\":\"4920\"},\"selection_policy\":{\"id\":\"4955\"}},\"id\":\"4919\",\"type\":\"ColumnDataSource\"},{\"attributes\":{\"overlay\":{\"id\":\"4879\"}},\"id\":\"4877\",\"type\":\"BoxZoomTool\"},{\"attributes\":{\"months\":[0,2,4,6,8,10]},\"id\":\"4913\",\"type\":\"MonthsTicker\"},{\"attributes\":{},\"id\":\"4878\",\"type\":\"ResetTool\"},{\"attributes\":{\"days\":[1,15]},\"id\":\"4911\",\"type\":\"DaysTicker\"},{\"attributes\":{},\"id\":\"4888\",\"type\":\"DatetimeTickFormatter\"},{\"attributes\":{\"months\":[0,6]},\"id\":\"4915\",\"type\":\"MonthsTicker\"}],\"root_ids\":[\"4851\"]},\"title\":\"Bokeh Application\",\"version\":\"2.0.2\"}};\n  var render_items = [{\"docid\":\"27ab7376-4194-4b13-a11f-341e1395287b\",\"root_ids\":[\"4851\"],\"roots\":{\"4851\":\"1eef0673-7b04-42e8-bacf-0185ffb7a9a1\"}}];\n  root.Bokeh.embed.embed_items_notebook(docs_json, render_items);\n  }\nif (root.Bokeh !== undefined) {\n    embed_document(root);\n  } else {\n    var attempts = 0;\n    var timer = setInterval(function(root) {\n      if (root.Bokeh !== undefined) {\n        clearInterval(timer);\n        embed_document(root);\n      } else if (document.readyState == \"complete\") {\n        attempts++;\n        if (attempts > 100) {\n          clearInterval(timer);\n          console.log(\"Bokeh: ERROR: Unable to run BokehJS code because BokehJS library is missing\");\n        }\n      }\n    }, 10, root)\n  }\n})(window);</script>",
      "text/plain": ":NdOverlay   [Variable]\n   :Curve   [index]   (value)"
     },
     "execution_count": 261,
     "metadata": {
      "application/vnd.holoviews_exec.v0+json": {
       "id": "4851"
      }
     },
     "output_type": "execute_result"
    }
   ],
   "source": [
    "stocks.hvplot.line(label = \"LSTM Model\", width = 1000)\n",
    "#(label = \"Predicting Apple's Close with the S&P500 Close - (6Day Window)\", xlabel=\"Date\", ylabel=\"Price\")"
   ]
  },
  {
   "cell_type": "code",
   "execution_count": null,
   "metadata": {},
   "outputs": [],
   "source": []
  }
 ],
 "metadata": {
  "kernelspec": {
   "display_name": "Python 3.8.5 64-bit ('base': conda)",
   "metadata": {
    "interpreter": {
     "hash": "11ef2bb442b8455a3e6b82f3202efe5c7a01a00a0939705f79f87b65f8f45715"
    }
   },
   "name": "python3"
  },
  "language_info": {
   "codemirror_mode": {
    "name": "ipython",
    "version": 3
   },
   "file_extension": ".py",
   "mimetype": "text/x-python",
   "name": "python",
   "nbconvert_exporter": "python",
   "pygments_lexer": "ipython3",
   "version": "3.8.5"
  },
  "orig_nbformat": 2
 },
 "nbformat": 4,
 "nbformat_minor": 2
}