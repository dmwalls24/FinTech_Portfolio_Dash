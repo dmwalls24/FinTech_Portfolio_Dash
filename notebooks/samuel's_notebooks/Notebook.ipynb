{
 "cells": [
  {
   "cell_type": "code",
   "execution_count": 225,
   "metadata": {},
   "outputs": [],
   "source": [
    "import os\n",
    "import numpy as np\n",
    "import pandas as pd\n",
    "from pathlib import Path\n",
    "from dotenv import load_dotenv\n",
    "import alpaca_trade_api as tradeapi\n",
    "from newsapi import NewsApiClient\n",
    "from datetime import datetime, timedelta\n",
    "import numpy as np\n",
    "from numpy.random import seed\n",
    "seed(1)\n",
    "import requests\n",
    "from tensorflow import random\n",
    "random.set_seed(2)\n",
    "import hvplot.pandas\n",
    "%matplotlib inline"
   ]
  },
  {
   "cell_type": "code",
   "execution_count": 226,
   "metadata": {},
   "outputs": [
    {
     "data": {
      "text/plain": "True"
     },
     "execution_count": 226,
     "metadata": {},
     "output_type": "execute_result"
    }
   ],
   "source": [
    "load_dotenv()"
   ]
  },
  {
   "cell_type": "code",
   "execution_count": 227,
   "metadata": {},
   "outputs": [],
   "source": [
    "alpaca_api_key = os.getenv(\"ALPACA_API_KEY\")\n",
    "alpaca_secret_key = os.getenv(\"ALPACA_SECRET_KEY\")\n",
    "alpaca = tradeapi.REST(\n",
    "    alpaca_api_key,\n",
    "    alpaca_secret_key,\n",
    "    api_version=\"v2\")\n",
    "#print(alpaca_api_key)"
   ]
  },
  {
   "cell_type": "code",
   "execution_count": 228,
   "metadata": {},
   "outputs": [
    {
     "data": {
      "text/html": "<div>\n<style scoped>\n    .dataframe tbody tr th:only-of-type {\n        vertical-align: middle;\n    }\n\n    .dataframe tbody tr th {\n        vertical-align: top;\n    }\n\n    .dataframe thead tr th {\n        text-align: left;\n    }\n\n    .dataframe thead tr:last-of-type th {\n        text-align: right;\n    }\n</style>\n<table border=\"1\" class=\"dataframe\">\n  <thead>\n    <tr>\n      <th></th>\n      <th colspan=\"5\" halign=\"left\">AFRM</th>\n      <th colspan=\"5\" halign=\"left\">MELI</th>\n      <th colspan=\"5\" halign=\"left\">PYPL</th>\n      <th colspan=\"5\" halign=\"left\">SQ</th>\n    </tr>\n    <tr>\n      <th></th>\n      <th>open</th>\n      <th>high</th>\n      <th>low</th>\n      <th>close</th>\n      <th>volume</th>\n      <th>open</th>\n      <th>high</th>\n      <th>low</th>\n      <th>close</th>\n      <th>volume</th>\n      <th>open</th>\n      <th>high</th>\n      <th>low</th>\n      <th>close</th>\n      <th>volume</th>\n      <th>open</th>\n      <th>high</th>\n      <th>low</th>\n      <th>close</th>\n      <th>volume</th>\n    </tr>\n    <tr>\n      <th>time</th>\n      <th></th>\n      <th></th>\n      <th></th>\n      <th></th>\n      <th></th>\n      <th></th>\n      <th></th>\n      <th></th>\n      <th></th>\n      <th></th>\n      <th></th>\n      <th></th>\n      <th></th>\n      <th></th>\n      <th></th>\n      <th></th>\n      <th></th>\n      <th></th>\n      <th></th>\n      <th></th>\n    </tr>\n  </thead>\n  <tbody>\n    <tr>\n      <th>2021-01-13 00:00:00-05:00</th>\n      <td>90.900</td>\n      <td>103.000</td>\n      <td>90.01</td>\n      <td>97.010</td>\n      <td>24984325.0</td>\n      <td>1823.00</td>\n      <td>1830.0000</td>\n      <td>1766.685</td>\n      <td>1797.165</td>\n      <td>453625.0</td>\n      <td>236.57</td>\n      <td>247.4400</td>\n      <td>236.5400</td>\n      <td>244.90</td>\n      <td>6419870.0</td>\n      <td>228.95</td>\n      <td>234.8213</td>\n      <td>226.80</td>\n      <td>230.94</td>\n      <td>14553101.0</td>\n    </tr>\n    <tr>\n      <th>2021-01-14 00:00:00-05:00</th>\n      <td>103.500</td>\n      <td>137.980</td>\n      <td>101.00</td>\n      <td>114.400</td>\n      <td>20358777.0</td>\n      <td>1814.00</td>\n      <td>1889.6200</td>\n      <td>1814.000</td>\n      <td>1852.520</td>\n      <td>491020.0</td>\n      <td>246.87</td>\n      <td>249.8500</td>\n      <td>241.5400</td>\n      <td>242.01</td>\n      <td>5757075.0</td>\n      <td>233.90</td>\n      <td>238.7600</td>\n      <td>229.59</td>\n      <td>232.71</td>\n      <td>6502923.0</td>\n    </tr>\n    <tr>\n      <th>2021-01-15 00:00:00-05:00</th>\n      <td>123.054</td>\n      <td>127.240</td>\n      <td>107.00</td>\n      <td>116.700</td>\n      <td>8033257.0</td>\n      <td>1860.01</td>\n      <td>1877.1091</td>\n      <td>1805.460</td>\n      <td>1856.340</td>\n      <td>478130.0</td>\n      <td>242.25</td>\n      <td>244.5632</td>\n      <td>235.0341</td>\n      <td>239.79</td>\n      <td>6600442.0</td>\n      <td>233.63</td>\n      <td>236.4300</td>\n      <td>225.58</td>\n      <td>227.65</td>\n      <td>6344926.0</td>\n    </tr>\n    <tr>\n      <th>2021-01-19 00:00:00-05:00</th>\n      <td>117.000</td>\n      <td>117.675</td>\n      <td>108.00</td>\n      <td>110.875</td>\n      <td>3116358.0</td>\n      <td>1888.17</td>\n      <td>1938.1699</td>\n      <td>1861.000</td>\n      <td>1915.700</td>\n      <td>590186.0</td>\n      <td>243.30</td>\n      <td>248.7400</td>\n      <td>241.0000</td>\n      <td>247.24</td>\n      <td>5690793.0</td>\n      <td>231.07</td>\n      <td>231.5900</td>\n      <td>223.25</td>\n      <td>227.25</td>\n      <td>6347656.0</td>\n    </tr>\n    <tr>\n      <th>2021-01-20 00:00:00-05:00</th>\n      <td>110.000</td>\n      <td>112.000</td>\n      <td>103.25</td>\n      <td>107.150</td>\n      <td>3504314.0</td>\n      <td>1960.00</td>\n      <td>1991.8800</td>\n      <td>1929.520</td>\n      <td>1986.000</td>\n      <td>574762.0</td>\n      <td>248.85</td>\n      <td>249.6500</td>\n      <td>244.1400</td>\n      <td>244.19</td>\n      <td>5068278.0</td>\n      <td>230.12</td>\n      <td>230.8800</td>\n      <td>225.50</td>\n      <td>226.65</td>\n      <td>5379761.0</td>\n    </tr>\n  </tbody>\n</table>\n</div>",
      "text/plain": "                              AFRM                                        \\\n                              open     high     low    close      volume   \ntime                                                                       \n2021-01-13 00:00:00-05:00   90.900  103.000   90.01   97.010  24984325.0   \n2021-01-14 00:00:00-05:00  103.500  137.980  101.00  114.400  20358777.0   \n2021-01-15 00:00:00-05:00  123.054  127.240  107.00  116.700   8033257.0   \n2021-01-19 00:00:00-05:00  117.000  117.675  108.00  110.875   3116358.0   \n2021-01-20 00:00:00-05:00  110.000  112.000  103.25  107.150   3504314.0   \n\n                              MELI                                           \\\n                              open       high       low     close    volume   \ntime                                                                          \n2021-01-13 00:00:00-05:00  1823.00  1830.0000  1766.685  1797.165  453625.0   \n2021-01-14 00:00:00-05:00  1814.00  1889.6200  1814.000  1852.520  491020.0   \n2021-01-15 00:00:00-05:00  1860.01  1877.1091  1805.460  1856.340  478130.0   \n2021-01-19 00:00:00-05:00  1888.17  1938.1699  1861.000  1915.700  590186.0   \n2021-01-20 00:00:00-05:00  1960.00  1991.8800  1929.520  1986.000  574762.0   \n\n                             PYPL                                         \\\n                             open      high       low   close     volume   \ntime                                                                       \n2021-01-13 00:00:00-05:00  236.57  247.4400  236.5400  244.90  6419870.0   \n2021-01-14 00:00:00-05:00  246.87  249.8500  241.5400  242.01  5757075.0   \n2021-01-15 00:00:00-05:00  242.25  244.5632  235.0341  239.79  6600442.0   \n2021-01-19 00:00:00-05:00  243.30  248.7400  241.0000  247.24  5690793.0   \n2021-01-20 00:00:00-05:00  248.85  249.6500  244.1400  244.19  5068278.0   \n\n                               SQ                                        \n                             open      high     low   close      volume  \ntime                                                                     \n2021-01-13 00:00:00-05:00  228.95  234.8213  226.80  230.94  14553101.0  \n2021-01-14 00:00:00-05:00  233.90  238.7600  229.59  232.71   6502923.0  \n2021-01-15 00:00:00-05:00  233.63  236.4300  225.58  227.65   6344926.0  \n2021-01-19 00:00:00-05:00  231.07  231.5900  223.25  227.25   6347656.0  \n2021-01-20 00:00:00-05:00  230.12  230.8800  225.50  226.65   5379761.0  "
     },
     "execution_count": 228,
     "metadata": {},
     "output_type": "execute_result"
    }
   ],
   "source": [
    "#15Min interval\n",
    "timeframe = \"1D\"\n",
    "start_date = pd.Timestamp(\"2017-01-01\", tz=\"America/New_York\").isoformat()\n",
    "end_date = pd.Timestamp(\"2021-12-31\", tz=\"America/New_York\").isoformat()\n",
    "#today = pd.Timestamp(\"2021-01-02\", tz=\"America/New_York\").isoformat()\n",
    "ticker = [\"PYPL\", \"SQ\", \"AFRM\", \"MELI\"]\n",
    "fintech_ticker = alpaca.get_barset(\n",
    "    ticker,\n",
    "    timeframe,\n",
    "    start=start_date,\n",
    "    end=end_date,\n",
    "    limit=1000,\n",
    ").df\n",
    "fintech_ticker.dropna(inplace=True)\n",
    "fintech_ticker.head(5)\n",
    "#apple_ticker.dropna(inplace=True)"
   ]
  },
  {
   "cell_type": "code",
   "execution_count": 229,
   "metadata": {},
   "outputs": [
    {
     "data": {
      "text/html": "<div>\n<style scoped>\n    .dataframe tbody tr th:only-of-type {\n        vertical-align: middle;\n    }\n\n    .dataframe tbody tr th {\n        vertical-align: top;\n    }\n\n    .dataframe thead th {\n        text-align: right;\n    }\n</style>\n<table border=\"1\" class=\"dataframe\">\n  <thead>\n    <tr style=\"text-align: right;\">\n      <th></th>\n      <th>PayPal</th>\n      <th>Square</th>\n      <th>Affirm</th>\n      <th>Mercalibre</th>\n    </tr>\n  </thead>\n  <tbody>\n    <tr>\n      <th>2021-01-13</th>\n      <td>244.90</td>\n      <td>230.94</td>\n      <td>97.010</td>\n      <td>1797.165</td>\n    </tr>\n    <tr>\n      <th>2021-01-14</th>\n      <td>242.01</td>\n      <td>232.71</td>\n      <td>114.400</td>\n      <td>1852.520</td>\n    </tr>\n    <tr>\n      <th>2021-01-15</th>\n      <td>239.79</td>\n      <td>227.65</td>\n      <td>116.700</td>\n      <td>1856.340</td>\n    </tr>\n    <tr>\n      <th>2021-01-19</th>\n      <td>247.24</td>\n      <td>227.25</td>\n      <td>110.875</td>\n      <td>1915.700</td>\n    </tr>\n    <tr>\n      <th>2021-01-20</th>\n      <td>244.19</td>\n      <td>226.65</td>\n      <td>107.150</td>\n      <td>1986.000</td>\n    </tr>\n  </tbody>\n</table>\n</div>",
      "text/plain": "            PayPal  Square   Affirm  Mercalibre\n2021-01-13  244.90  230.94   97.010    1797.165\n2021-01-14  242.01  232.71  114.400    1852.520\n2021-01-15  239.79  227.65  116.700    1856.340\n2021-01-19  247.24  227.25  110.875    1915.700\n2021-01-20  244.19  226.65  107.150    1986.000"
     },
     "execution_count": 229,
     "metadata": {},
     "output_type": "execute_result"
    }
   ],
   "source": [
    "fintech_df = pd.DataFrame()\n",
    "fintech_df[\"PayPal\"] = fintech_ticker[\"PYPL\"][\"close\"]\n",
    "fintech_df[\"Square\"] = fintech_ticker[\"SQ\"][\"close\"]\n",
    "fintech_df[\"Affirm\"] = fintech_ticker[\"AFRM\"][\"close\"]\n",
    "fintech_df[\"Mercalibre\"] = fintech_ticker[\"MELI\"][\"close\"]\n",
    "#fintech_df[\"Johnson&Johnson\"] = nasdaq_ticker[\"JNJ\"][\"close\"]\n",
    "#apple_df = apple_df.pct_change().dropna()\n",
    "fintech_df.index = fintech_df.index.date \n",
    "fintech_df.dropna(inplace=True)\n",
    "fintech_df.head()"
   ]
  },
  {
   "cell_type": "code",
   "execution_count": null,
   "metadata": {},
   "outputs": [],
   "source": []
  },
  {
   "cell_type": "code",
   "execution_count": 230,
   "metadata": {},
   "outputs": [],
   "source": [
    "#fintech_returns = fintech_df.pct_change().dropna()\n",
    "#fintech_returns.head()"
   ]
  },
  {
   "cell_type": "code",
   "execution_count": null,
   "metadata": {},
   "outputs": [],
   "source": []
  },
  {
   "cell_type": "code",
   "execution_count": 231,
   "metadata": {},
   "outputs": [],
   "source": [
    "def window_data(df, window, feature_col_number, target_col_number):\n",
    "    X = []\n",
    "    y = []\n",
    "    for i in range(len(df) - window):\n",
    "        features = df.iloc[i : (i + window), feature_col_number]\n",
    "        target = df.iloc[(i + window), target_col_number]\n",
    "        X.append(features)\n",
    "        y.append(target)\n",
    "    return np.array(X), np.array(y).reshape(-1, 1)"
   ]
  },
  {
   "cell_type": "code",
   "execution_count": 232,
   "metadata": {},
   "outputs": [
    {
     "name": "stdout",
     "output_type": "stream",
     "text": [
      "X sample values:\n",
      "[[ 97.01  114.4   116.7   110.875 107.15  108.99  120.86  112.6   110.\n",
      "  105.29 ]\n",
      " [114.4   116.7   110.875 107.15  108.99  120.86  112.6   110.    105.29\n",
      "   99.44 ]\n",
      " [116.7   110.875 107.15  108.99  120.86  112.6   110.    105.29   99.44\n",
      "   99.59 ]\n",
      " [110.875 107.15  108.99  120.86  112.6   110.    105.29   99.44   99.59\n",
      "  107.6  ]\n",
      " [107.15  108.99  120.86  112.6   110.    105.29   99.44   99.59  107.6\n",
      "  112.95 ]] \n",
      "\n",
      "y sample values:\n",
      "[[ 99.44]\n",
      " [ 99.59]\n",
      " [107.6 ]\n",
      " [112.95]\n",
      " [110.88]]\n"
     ]
    }
   ],
   "source": [
    "window_size = 10\n",
    "feature_column = 2\n",
    "target_column = 2\n",
    "X, y = window_data(fintech_df, window_size, feature_column, target_column)\n",
    "print (f\"X sample values:\\n{X[:5]} \\n\")\n",
    "print (f\"y sample values:\\n{y[:5]}\")"
   ]
  },
  {
   "cell_type": "code",
   "execution_count": 233,
   "metadata": {},
   "outputs": [
    {
     "name": "stdout",
     "output_type": "stream",
     "text": [
      "[[ 97.01  114.4   116.7   ... 112.6   110.    105.29 ]\n",
      " [114.4   116.7   110.875 ... 110.    105.29   99.44 ]\n",
      " [116.7   110.875 107.15  ... 105.29   99.44   99.59 ]\n",
      " ...\n",
      " [ 56.31   64.68   66.75  ...  65.56   68.5    67.505]\n",
      " [ 64.68   66.75   68.18  ...  68.5    67.505  65.95 ]\n",
      " [ 66.75   68.18   67.12  ...  67.505  65.95   63.58 ]]\n"
     ]
    }
   ],
   "source": [
    "print(X)"
   ]
  },
  {
   "cell_type": "code",
   "execution_count": 234,
   "metadata": {},
   "outputs": [],
   "source": [
    "split = int(0.7 * len(X))\n",
    "X_train = X[: split]\n",
    "X_test = X[split :]\n",
    "y_train = y[: split]\n",
    "y_test = y[split :]"
   ]
  },
  {
   "cell_type": "code",
   "execution_count": 235,
   "metadata": {},
   "outputs": [],
   "source": [
    "from sklearn.preprocessing import MinMaxScaler\n",
    "\n",
    "scaler = MinMaxScaler()\n",
    "scaler.fit(X)\n",
    "X_train = scaler.transform(X_train)\n",
    "X_test = scaler.transform(X_test)\n",
    "scaler.fit(y)\n",
    "y_train = scaler.transform(y_train)\n",
    "y_test = scaler.transform(y_test)"
   ]
  },
  {
   "cell_type": "code",
   "execution_count": 236,
   "metadata": {},
   "outputs": [
    {
     "name": "stdout",
     "output_type": "stream",
     "text": [
      "X_train sample values:\n",
      "[[[0.5321663 ]\n",
      "  [0.72242888]\n",
      "  [0.747593  ]\n",
      "  [0.68386214]\n",
      "  [0.64310722]\n",
      "  [0.66323851]\n",
      "  [0.79310722]\n",
      "  [0.70273523]\n",
      "  [0.67428884]\n",
      "  [0.62275711]]\n",
      "\n",
      " [[0.72242888]\n",
      "  [0.747593  ]\n",
      "  [0.68386214]\n",
      "  [0.64310722]\n",
      "  [0.66323851]\n",
      "  [0.79310722]\n",
      "  [0.70273523]\n",
      "  [0.67428884]\n",
      "  [0.62275711]\n",
      "  [0.55875274]]\n",
      "\n",
      " [[0.747593  ]\n",
      "  [0.68386214]\n",
      "  [0.64310722]\n",
      "  [0.66323851]\n",
      "  [0.79310722]\n",
      "  [0.70273523]\n",
      "  [0.67428884]\n",
      "  [0.62275711]\n",
      "  [0.55875274]\n",
      "  [0.56039387]]\n",
      "\n",
      " [[0.68386214]\n",
      "  [0.64310722]\n",
      "  [0.66323851]\n",
      "  [0.79310722]\n",
      "  [0.70273523]\n",
      "  [0.67428884]\n",
      "  [0.62275711]\n",
      "  [0.55875274]\n",
      "  [0.56039387]\n",
      "  [0.64803063]]\n",
      "\n",
      " [[0.64310722]\n",
      "  [0.66323851]\n",
      "  [0.79310722]\n",
      "  [0.70273523]\n",
      "  [0.67428884]\n",
      "  [0.62275711]\n",
      "  [0.55875274]\n",
      "  [0.56039387]\n",
      "  [0.64803063]\n",
      "  [0.70656455]]] \n",
      "\n",
      "X_test sample values:\n",
      "[[[0.12275711]\n",
      "  [0.12188184]\n",
      "  [0.15459519]\n",
      "  [0.13034902]\n",
      "  [0.1663151 ]\n",
      "  [0.21455142]\n",
      "  [0.22571116]\n",
      "  [0.20667396]\n",
      "  [0.2083151 ]\n",
      "  [0.22954048]]\n",
      "\n",
      " [[0.12188184]\n",
      "  [0.15459519]\n",
      "  [0.13034902]\n",
      "  [0.1663151 ]\n",
      "  [0.21455142]\n",
      "  [0.22571116]\n",
      "  [0.20667396]\n",
      "  [0.2083151 ]\n",
      "  [0.22954048]\n",
      "  [0.21673961]]\n",
      "\n",
      " [[0.15459519]\n",
      "  [0.13034902]\n",
      "  [0.1663151 ]\n",
      "  [0.21455142]\n",
      "  [0.22571116]\n",
      "  [0.20667396]\n",
      "  [0.2083151 ]\n",
      "  [0.22954048]\n",
      "  [0.21673961]\n",
      "  [0.16859956]]\n",
      "\n",
      " [[0.13034902]\n",
      "  [0.1663151 ]\n",
      "  [0.21455142]\n",
      "  [0.22571116]\n",
      "  [0.20667396]\n",
      "  [0.2083151 ]\n",
      "  [0.22954048]\n",
      "  [0.21673961]\n",
      "  [0.16859956]\n",
      "  [0.16487965]]\n",
      "\n",
      " [[0.1663151 ]\n",
      "  [0.21455142]\n",
      "  [0.22571116]\n",
      "  [0.20667396]\n",
      "  [0.2083151 ]\n",
      "  [0.22954048]\n",
      "  [0.21673961]\n",
      "  [0.16859956]\n",
      "  [0.16487965]\n",
      "  [0.18369803]]]\n"
     ]
    }
   ],
   "source": [
    "X_train = X_train.reshape((X_train.shape[0], X_train.shape[1], 1))\n",
    "X_test = X_test.reshape((X_test.shape[0], X_test.shape[1], 1))\n",
    "print (f\"X_train sample values:\\n{X_train[:5]} \\n\")\n",
    "print (f\"X_test sample values:\\n{X_test[:5]}\")"
   ]
  },
  {
   "cell_type": "code",
   "execution_count": 237,
   "metadata": {},
   "outputs": [],
   "source": [
    "from tensorflow.keras.models import Sequential\n",
    "from tensorflow.keras.layers import LSTM, Dense, Dropout"
   ]
  },
  {
   "cell_type": "code",
   "execution_count": 238,
   "metadata": {},
   "outputs": [],
   "source": [
    "model = Sequential()\n",
    "\n",
    "#Adding number_units to the architecture enables the model to far more accurate that with a single digit number\n",
    "number_units = 20\n",
    "dropout_fraction = 0.2\n",
    "\n",
    "\n",
    "# Layer 1\n",
    "model.add(LSTM(units=number_units, return_sequences=True, input_shape=(X_train.shape[1], 1)))\n",
    "model.add(Dropout(dropout_fraction))\n",
    "# Layer 2\n",
    "model.add(LSTM(units=number_units, return_sequences=True))\n",
    "model.add(Dropout(dropout_fraction))\n",
    "# Layer 3\n",
    "model.add(LSTM(units=number_units))\n",
    "model.add(Dropout(dropout_fraction))\n",
    "# Output layer\n",
    "model.add(Dense(1))"
   ]
  },
  {
   "cell_type": "code",
   "execution_count": 239,
   "metadata": {},
   "outputs": [],
   "source": [
    "model.compile(optimizer=\"adam\", loss=\"mean_squared_error\")"
   ]
  },
  {
   "cell_type": "code",
   "execution_count": 240,
   "metadata": {},
   "outputs": [
    {
     "name": "stdout",
     "output_type": "stream",
     "text": [
      "Model: \"sequential_10\"\n",
      "_________________________________________________________________\n",
      "Layer (type)                 Output Shape              Param #   \n",
      "=================================================================\n",
      "lstm_30 (LSTM)               (None, 10, 20)            1760      \n",
      "_________________________________________________________________\n",
      "dropout_30 (Dropout)         (None, 10, 20)            0         \n",
      "_________________________________________________________________\n",
      "lstm_31 (LSTM)               (None, 10, 20)            3280      \n",
      "_________________________________________________________________\n",
      "dropout_31 (Dropout)         (None, 10, 20)            0         \n",
      "_________________________________________________________________\n",
      "lstm_32 (LSTM)               (None, 20)                3280      \n",
      "_________________________________________________________________\n",
      "dropout_32 (Dropout)         (None, 20)                0         \n",
      "_________________________________________________________________\n",
      "dense_10 (Dense)             (None, 1)                 21        \n",
      "=================================================================\n",
      "Total params: 8,341\n",
      "Trainable params: 8,341\n",
      "Non-trainable params: 0\n",
      "_________________________________________________________________\n"
     ]
    }
   ],
   "source": [
    "model.summary()"
   ]
  },
  {
   "cell_type": "code",
   "execution_count": 241,
   "metadata": {},
   "outputs": [
    {
     "name": "stdout",
     "output_type": "stream",
     "text": [
      "Epoch 1/20\n",
      "98/98 [==============================] - 5s 5ms/step - loss: 0.0737\n",
      "Epoch 2/20\n",
      "98/98 [==============================] - 0s 5ms/step - loss: 0.0344\n",
      "Epoch 3/20\n",
      "98/98 [==============================] - 0s 5ms/step - loss: 0.0385\n",
      "Epoch 4/20\n",
      "98/98 [==============================] - 0s 5ms/step - loss: 0.0299\n",
      "Epoch 5/20\n",
      "98/98 [==============================] - 1s 5ms/step - loss: 0.0332\n",
      "Epoch 6/20\n",
      "98/98 [==============================] - 0s 5ms/step - loss: 0.0343\n",
      "Epoch 7/20\n",
      "98/98 [==============================] - 0s 5ms/step - loss: 0.0294\n",
      "Epoch 8/20\n",
      "98/98 [==============================] - 0s 5ms/step - loss: 0.0288\n",
      "Epoch 9/20\n",
      "98/98 [==============================] - 0s 5ms/step - loss: 0.0294\n",
      "Epoch 10/20\n",
      "98/98 [==============================] - 0s 5ms/step - loss: 0.0310\n",
      "Epoch 11/20\n",
      "98/98 [==============================] - 0s 5ms/step - loss: 0.0285\n",
      "Epoch 12/20\n",
      "98/98 [==============================] - 0s 5ms/step - loss: 0.0285\n",
      "Epoch 13/20\n",
      "98/98 [==============================] - 0s 5ms/step - loss: 0.0269\n",
      "Epoch 14/20\n",
      "98/98 [==============================] - 0s 5ms/step - loss: 0.0282\n",
      "Epoch 15/20\n",
      "98/98 [==============================] - 0s 5ms/step - loss: 0.0247\n",
      "Epoch 16/20\n",
      "98/98 [==============================] - 0s 5ms/step - loss: 0.0212\n",
      "Epoch 17/20\n",
      "98/98 [==============================] - 0s 5ms/step - loss: 0.0185\n",
      "Epoch 18/20\n",
      "98/98 [==============================] - 0s 5ms/step - loss: 0.0224\n",
      "Epoch 19/20\n",
      "98/98 [==============================] - 1s 5ms/step - loss: 0.0223\n",
      "Epoch 20/20\n",
      "98/98 [==============================] - 0s 5ms/step - loss: 0.0202\n"
     ]
    },
    {
     "data": {
      "text/plain": "<tensorflow.python.keras.callbacks.History at 0x7fbe2d553e80>"
     },
     "execution_count": 241,
     "metadata": {},
     "output_type": "execute_result"
    }
   ],
   "source": [
    "model.fit(X_train, y_train, epochs=20, shuffle=False, batch_size=1, verbose=1)"
   ]
  },
  {
   "cell_type": "code",
   "execution_count": 242,
   "metadata": {},
   "outputs": [
    {
     "name": "stdout",
     "output_type": "stream",
     "text": [
      "2/2 [==============================] - 1s 4ms/step - loss: 0.0016\n"
     ]
    },
    {
     "data": {
      "text/plain": "0.0016050798585638404"
     },
     "execution_count": 242,
     "metadata": {},
     "output_type": "execute_result"
    }
   ],
   "source": [
    "model.evaluate(X_test, y_test)"
   ]
  },
  {
   "cell_type": "code",
   "execution_count": 243,
   "metadata": {},
   "outputs": [],
   "source": [
    "predicted = model.predict(X_test)"
   ]
  },
  {
   "cell_type": "code",
   "execution_count": 244,
   "metadata": {},
   "outputs": [],
   "source": [
    "predicted_prices = scaler.inverse_transform(predicted)\n",
    "real_prices = scaler.inverse_transform(y_test.reshape(-1, 1))"
   ]
  },
  {
   "cell_type": "code",
   "execution_count": 245,
   "metadata": {},
   "outputs": [
    {
     "data": {
      "text/html": "<div>\n<style scoped>\n    .dataframe tbody tr th:only-of-type {\n        vertical-align: middle;\n    }\n\n    .dataframe tbody tr th {\n        vertical-align: top;\n    }\n\n    .dataframe thead th {\n        text-align: right;\n    }\n</style>\n<table border=\"1\" class=\"dataframe\">\n  <thead>\n    <tr style=\"text-align: right;\">\n      <th></th>\n      <th>Real</th>\n      <th>Predicted</th>\n    </tr>\n  </thead>\n  <tbody>\n    <tr>\n      <th>2021-06-18</th>\n      <td>68.18</td>\n      <td>63.688782</td>\n    </tr>\n    <tr>\n      <th>2021-06-21</th>\n      <td>63.78</td>\n      <td>64.204895</td>\n    </tr>\n    <tr>\n      <th>2021-06-22</th>\n      <td>63.44</td>\n      <td>64.452530</td>\n    </tr>\n    <tr>\n      <th>2021-06-23</th>\n      <td>65.16</td>\n      <td>64.401649</td>\n    </tr>\n    <tr>\n      <th>2021-06-24</th>\n      <td>66.26</td>\n      <td>64.279388</td>\n    </tr>\n    <tr>\n      <th>2021-06-25</th>\n      <td>64.25</td>\n      <td>64.115387</td>\n    </tr>\n    <tr>\n      <th>2021-06-28</th>\n      <td>64.40</td>\n      <td>63.878204</td>\n    </tr>\n    <tr>\n      <th>2021-06-29</th>\n      <td>66.46</td>\n      <td>63.645298</td>\n    </tr>\n    <tr>\n      <th>2021-06-30</th>\n      <td>67.35</td>\n      <td>63.538994</td>\n    </tr>\n    <tr>\n      <th>2021-07-01</th>\n      <td>68.29</td>\n      <td>63.553806</td>\n    </tr>\n  </tbody>\n</table>\n</div>",
      "text/plain": "             Real  Predicted\n2021-06-18  68.18  63.688782\n2021-06-21  63.78  64.204895\n2021-06-22  63.44  64.452530\n2021-06-23  65.16  64.401649\n2021-06-24  66.26  64.279388\n2021-06-25  64.25  64.115387\n2021-06-28  64.40  63.878204\n2021-06-29  66.46  63.645298\n2021-06-30  67.35  63.538994\n2021-07-01  68.29  63.553806"
     },
     "execution_count": 245,
     "metadata": {},
     "output_type": "execute_result"
    }
   ],
   "source": [
    "stocks = pd.DataFrame({\n",
    "    \"Real\": real_prices.ravel(),\n",
    "    \"Predicted\": predicted_prices.ravel()\n",
    "    }, index = fintech_df.index[-len(real_prices): ])\n",
    "stocks.head(10)"
   ]
  },
  {
   "cell_type": "code",
   "execution_count": 246,
   "metadata": {},
   "outputs": [
    {
     "data": {
      "text/plain": "<matplotlib.axes._subplots.AxesSubplot at 0x7fbe31d06910>"
     },
     "execution_count": 246,
     "metadata": {},
     "output_type": "execute_result"
    },
    {
     "data": {
      "image/png": "[encoded data removed]",
      "text/plain": "<Figure size 432x288 with 1 Axes>"
     },
     "metadata": {
      "needs_background": "light"
     },
     "output_type": "display_data"
    }
   ],
   "source": [
    "stocks.plot()#(label = \"Predicting Apple's Close with the S&P500 Close - (6Day Window)\", xlabel=\"Date\", ylabel=\"Price\")"
   ]
  },
  {
   "cell_type": "code",
   "execution_count": null,
   "metadata": {},
   "outputs": [],
   "source": []
  }
 ],
 "metadata": {
  "kernelspec": {
   "display_name": "Python 3.8.5 64-bit ('base': conda)",
   "metadata": {
    "interpreter": {
     "hash": "11ef2bb442b8455a3e6b82f3202efe5c7a01a00a0939705f79f87b65f8f45715"
    }
   },
   "name": "python3"
  },
  "language_info": {
   "codemirror_mode": {
    "name": "ipython",
    "version": 3
   },
   "file_extension": ".py",
   "mimetype": "text/x-python",
   "name": "python",
   "nbconvert_exporter": "python",
   "pygments_lexer": "ipython3",
   "version": "3.8.5"
  },
  "orig_nbformat": 2
 },
 "nbformat": 4,
 "nbformat_minor": 2
}