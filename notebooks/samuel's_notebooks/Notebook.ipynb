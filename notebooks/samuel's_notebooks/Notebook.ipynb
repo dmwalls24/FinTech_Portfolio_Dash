{
 "cells": [
  {
   "cell_type": "code",
   "execution_count": 28,
   "metadata": {},
   "outputs": [],
   "source": [
    "import os\n",
    "import numpy as np\n",
    "import pandas as pd\n",
    "from pathlib import Path\n",
    "from dotenv import load_dotenv\n",
    "import alpaca_trade_api as tradeapi\n",
    "from newsapi import NewsApiClient\n",
    "from datetime import datetime, timedelta\n",
    "import numpy as np\n",
    "from numpy.random import seed\n",
    "seed(1)\n",
    "import requests\n",
    "from tensorflow import random\n",
    "random.set_seed(2)\n",
    "import hvplot.pandas\n",
    "%matplotlib inline"
   ]
  },
  {
   "cell_type": "code",
   "execution_count": 29,
   "metadata": {},
   "outputs": [
    {
     "data": {
      "text/plain": "True"
     },
     "execution_count": 29,
     "metadata": {},
     "output_type": "execute_result"
    }
   ],
   "source": [
    "load_dotenv()"
   ]
  },
  {
   "cell_type": "code",
   "execution_count": 30,
   "metadata": {},
   "outputs": [],
   "source": [
    "alpaca_api_key = os.getenv(\"ALPACA_API_KEY\")\n",
    "alpaca_secret_key = os.getenv(\"ALPACA_SECRET_KEY\")\n",
    "alpaca = tradeapi.REST(\n",
    "    alpaca_api_key,\n",
    "    alpaca_secret_key,\n",
    "    api_version=\"v2\")\n",
    "#print(alpaca_api_key)"
   ]
  },
  {
   "cell_type": "code",
   "execution_count": 31,
   "metadata": {},
   "outputs": [
    {
     "data": {
      "text/html": "<div>\n<style scoped>\n    .dataframe tbody tr th:only-of-type {\n        vertical-align: middle;\n    }\n\n    .dataframe tbody tr th {\n        vertical-align: top;\n    }\n\n    .dataframe thead tr th {\n        text-align: left;\n    }\n\n    .dataframe thead tr:last-of-type th {\n        text-align: right;\n    }\n</style>\n<table border=\"1\" class=\"dataframe\">\n  <thead>\n    <tr>\n      <th></th>\n      <th colspan=\"5\" halign=\"left\">FISV</th>\n      <th colspan=\"5\" halign=\"left\">MELI</th>\n      <th colspan=\"5\" halign=\"left\">PYPL</th>\n      <th colspan=\"5\" halign=\"left\">SQ</th>\n    </tr>\n    <tr>\n      <th></th>\n      <th>open</th>\n      <th>high</th>\n      <th>low</th>\n      <th>close</th>\n      <th>volume</th>\n      <th>open</th>\n      <th>high</th>\n      <th>low</th>\n      <th>close</th>\n      <th>volume</th>\n      <th>open</th>\n      <th>high</th>\n      <th>low</th>\n      <th>close</th>\n      <th>volume</th>\n      <th>open</th>\n      <th>high</th>\n      <th>low</th>\n      <th>close</th>\n      <th>volume</th>\n    </tr>\n    <tr>\n      <th>time</th>\n      <th></th>\n      <th></th>\n      <th></th>\n      <th></th>\n      <th></th>\n      <th></th>\n      <th></th>\n      <th></th>\n      <th></th>\n      <th></th>\n      <th></th>\n      <th></th>\n      <th></th>\n      <th></th>\n      <th></th>\n      <th></th>\n      <th></th>\n      <th></th>\n      <th></th>\n      <th></th>\n    </tr>\n  </thead>\n  <tbody>\n    <tr>\n      <th>2017-09-05 00:00:00-04:00</th>\n      <td>61.290</td>\n      <td>61.355</td>\n      <td>60.660</td>\n      <td>60.93</td>\n      <td>1071708.0</td>\n      <td>252.60</td>\n      <td>257.76</td>\n      <td>251.51</td>\n      <td>256.63</td>\n      <td>453957.0</td>\n      <td>61.26</td>\n      <td>61.75</td>\n      <td>60.58</td>\n      <td>61.27</td>\n      <td>4462105.0</td>\n      <td>25.75</td>\n      <td>25.82</td>\n      <td>25.24</td>\n      <td>25.77</td>\n      <td>4478368.0</td>\n    </tr>\n    <tr>\n      <th>2017-09-06 00:00:00-04:00</th>\n      <td>61.185</td>\n      <td>61.330</td>\n      <td>60.585</td>\n      <td>61.19</td>\n      <td>1610582.0</td>\n      <td>257.67</td>\n      <td>259.35</td>\n      <td>251.92</td>\n      <td>258.10</td>\n      <td>365307.0</td>\n      <td>61.74</td>\n      <td>61.99</td>\n      <td>60.90</td>\n      <td>61.25</td>\n      <td>4246915.0</td>\n      <td>25.90</td>\n      <td>26.17</td>\n      <td>25.72</td>\n      <td>26.07</td>\n      <td>4507494.0</td>\n    </tr>\n    <tr>\n      <th>2017-09-07 00:00:00-04:00</th>\n      <td>61.465</td>\n      <td>61.785</td>\n      <td>61.085</td>\n      <td>61.41</td>\n      <td>864020.0</td>\n      <td>258.92</td>\n      <td>260.95</td>\n      <td>256.16</td>\n      <td>258.68</td>\n      <td>328688.0</td>\n      <td>61.33</td>\n      <td>62.13</td>\n      <td>61.28</td>\n      <td>62.00</td>\n      <td>4141248.0</td>\n      <td>26.12</td>\n      <td>26.69</td>\n      <td>25.86</td>\n      <td>26.31</td>\n      <td>6699110.0</td>\n    </tr>\n    <tr>\n      <th>2017-09-08 00:00:00-04:00</th>\n      <td>61.335</td>\n      <td>61.730</td>\n      <td>61.015</td>\n      <td>61.33</td>\n      <td>851518.0</td>\n      <td>258.21</td>\n      <td>262.25</td>\n      <td>258.21</td>\n      <td>260.08</td>\n      <td>255764.0</td>\n      <td>61.94</td>\n      <td>62.00</td>\n      <td>61.10</td>\n      <td>61.13</td>\n      <td>3893906.0</td>\n      <td>26.50</td>\n      <td>26.99</td>\n      <td>26.40</td>\n      <td>26.53</td>\n      <td>5567927.0</td>\n    </tr>\n    <tr>\n      <th>2017-09-11 00:00:00-04:00</th>\n      <td>61.700</td>\n      <td>62.235</td>\n      <td>61.400</td>\n      <td>62.15</td>\n      <td>734684.0</td>\n      <td>265.08</td>\n      <td>286.66</td>\n      <td>265.07</td>\n      <td>285.22</td>\n      <td>973710.0</td>\n      <td>61.71</td>\n      <td>63.26</td>\n      <td>61.62</td>\n      <td>62.64</td>\n      <td>5970316.0</td>\n      <td>26.80</td>\n      <td>27.66</td>\n      <td>26.78</td>\n      <td>27.58</td>\n      <td>7416518.0</td>\n    </tr>\n  </tbody>\n</table>\n</div>",
      "text/plain": "                             FISV                                      MELI  \\\n                             open    high     low  close     volume    open   \ntime                                                                          \n2017-09-05 00:00:00-04:00  61.290  61.355  60.660  60.93  1071708.0  252.60   \n2017-09-06 00:00:00-04:00  61.185  61.330  60.585  61.19  1610582.0  257.67   \n2017-09-07 00:00:00-04:00  61.465  61.785  61.085  61.41   864020.0  258.92   \n2017-09-08 00:00:00-04:00  61.335  61.730  61.015  61.33   851518.0  258.21   \n2017-09-11 00:00:00-04:00  61.700  62.235  61.400  62.15   734684.0  265.08   \n\n                                                              PYPL         \\\n                             high     low   close    volume   open   high   \ntime                                                                        \n2017-09-05 00:00:00-04:00  257.76  251.51  256.63  453957.0  61.26  61.75   \n2017-09-06 00:00:00-04:00  259.35  251.92  258.10  365307.0  61.74  61.99   \n2017-09-07 00:00:00-04:00  260.95  256.16  258.68  328688.0  61.33  62.13   \n2017-09-08 00:00:00-04:00  262.25  258.21  260.08  255764.0  61.94  62.00   \n2017-09-11 00:00:00-04:00  286.66  265.07  285.22  973710.0  61.71  63.26   \n\n                                                       SQ                \\\n                             low  close     volume   open   high    low   \ntime                                                                      \n2017-09-05 00:00:00-04:00  60.58  61.27  4462105.0  25.75  25.82  25.24   \n2017-09-06 00:00:00-04:00  60.90  61.25  4246915.0  25.90  26.17  25.72   \n2017-09-07 00:00:00-04:00  61.28  62.00  4141248.0  26.12  26.69  25.86   \n2017-09-08 00:00:00-04:00  61.10  61.13  3893906.0  26.50  26.99  26.40   \n2017-09-11 00:00:00-04:00  61.62  62.64  5970316.0  26.80  27.66  26.78   \n\n                                             \n                           close     volume  \ntime                                         \n2017-09-05 00:00:00-04:00  25.77  4478368.0  \n2017-09-06 00:00:00-04:00  26.07  4507494.0  \n2017-09-07 00:00:00-04:00  26.31  6699110.0  \n2017-09-08 00:00:00-04:00  26.53  5567927.0  \n2017-09-11 00:00:00-04:00  27.58  7416518.0  "
     },
     "execution_count": 31,
     "metadata": {},
     "output_type": "execute_result"
    }
   ],
   "source": [
    "#15Min interval\n",
    "timeframe = \"1D\"\n",
    "start_date = pd.Timestamp(\"2017-01-01\", tz=\"America/New_York\").isoformat()\n",
    "end_date = pd.Timestamp(\"2021-12-31\", tz=\"America/New_York\").isoformat()\n",
    "#today = pd.Timestamp(\"2021-01-02\", tz=\"America/New_York\").isoformat()\n",
    "ticker = [\"PYPL\",\"SQ\",\"MELI\",\"FISV\"]\n",
    "fintech_ticker = alpaca.get_barset(\n",
    "    ticker,\n",
    "    timeframe,\n",
    "    start=start_date,\n",
    "    end=end_date,\n",
    "    limit=1000,\n",
    ").df\n",
    "fintech_ticker.dropna(inplace=True)\n",
    "fintech_ticker.head(5)\n",
    "#apple_ticker.dropna(inplace=True)"
   ]
  },
  {
   "cell_type": "code",
   "execution_count": 32,
   "metadata": {},
   "outputs": [
    {
     "data": {
      "text/html": "<div>\n<style scoped>\n    .dataframe tbody tr th:only-of-type {\n        vertical-align: middle;\n    }\n\n    .dataframe tbody tr th {\n        vertical-align: top;\n    }\n\n    .dataframe thead th {\n        text-align: right;\n    }\n</style>\n<table border=\"1\" class=\"dataframe\">\n  <thead>\n    <tr style=\"text-align: right;\">\n      <th></th>\n      <th>PayPal</th>\n      <th>Square</th>\n      <th>Mercadolibre</th>\n    </tr>\n  </thead>\n  <tbody>\n    <tr>\n      <th>2017-09-05</th>\n      <td>61.27</td>\n      <td>25.77</td>\n      <td>256.63</td>\n    </tr>\n    <tr>\n      <th>2017-09-06</th>\n      <td>61.25</td>\n      <td>26.07</td>\n      <td>258.10</td>\n    </tr>\n    <tr>\n      <th>2017-09-07</th>\n      <td>62.00</td>\n      <td>26.31</td>\n      <td>258.68</td>\n    </tr>\n    <tr>\n      <th>2017-09-08</th>\n      <td>61.13</td>\n      <td>26.53</td>\n      <td>260.08</td>\n    </tr>\n    <tr>\n      <th>2017-09-11</th>\n      <td>62.64</td>\n      <td>27.58</td>\n      <td>285.22</td>\n    </tr>\n  </tbody>\n</table>\n</div>",
      "text/plain": "            PayPal  Square  Mercadolibre\n2017-09-05   61.27   25.77        256.63\n2017-09-06   61.25   26.07        258.10\n2017-09-07   62.00   26.31        258.68\n2017-09-08   61.13   26.53        260.08\n2017-09-11   62.64   27.58        285.22"
     },
     "execution_count": 32,
     "metadata": {},
     "output_type": "execute_result"
    }
   ],
   "source": [
    "fintech_df = pd.DataFrame()\n",
    "fintech_df[\"PayPal\"] = fintech_ticker[\"PYPL\"][\"close\"]\n",
    "fintech_df[\"Square\"] = fintech_ticker[\"SQ\"][\"close\"]\n",
    "#fintech_df[\"Affirm\"] = fintech_ticker[\"AFRM\"][\"close\"]\n",
    "fintech_df[\"Mercadolibre\"] = fintech_ticker[\"MELI\"][\"close\"]\n",
    "#fintech_df[\"Johnson&Johnson\"] = nasdaq_ticker[\"JNJ\"][\"close\"]\n",
    "#apple_df = apple_df.pct_change().dropna()\n",
    "fintech_df.index = fintech_df.index.date \n",
    "fintech_df.dropna(inplace=True)\n",
    "fintech_df.head()"
   ]
  },
  {
   "cell_type": "code",
   "execution_count": 33,
   "metadata": {},
   "outputs": [
    {
     "data": {
      "text/html": "<div>\n<style scoped>\n    .dataframe tbody tr th:only-of-type {\n        vertical-align: middle;\n    }\n\n    .dataframe tbody tr th {\n        vertical-align: top;\n    }\n\n    .dataframe thead th {\n        text-align: right;\n    }\n</style>\n<table border=\"1\" class=\"dataframe\">\n  <thead>\n    <tr style=\"text-align: right;\">\n      <th></th>\n      <th>Open</th>\n      <th>High</th>\n      <th>Low</th>\n      <th>Close</th>\n      <th>Adj Close</th>\n      <th>Volume</th>\n    </tr>\n    <tr>\n      <th>Date</th>\n      <th></th>\n      <th></th>\n      <th></th>\n      <th></th>\n      <th></th>\n      <th></th>\n    </tr>\n  </thead>\n  <tbody>\n    <tr>\n      <th>2017-09-05</th>\n      <td>11.75</td>\n      <td>14.06</td>\n      <td>11.41</td>\n      <td>12.23</td>\n      <td>12.23</td>\n      <td>0.0</td>\n    </tr>\n    <tr>\n      <th>2017-09-06</th>\n      <td>12.27</td>\n      <td>12.59</td>\n      <td>11.35</td>\n      <td>11.63</td>\n      <td>11.63</td>\n      <td>0.0</td>\n    </tr>\n    <tr>\n      <th>2017-09-07</th>\n      <td>11.93</td>\n      <td>12.07</td>\n      <td>11.32</td>\n      <td>11.55</td>\n      <td>11.55</td>\n      <td>0.0</td>\n    </tr>\n    <tr>\n      <th>2017-09-08</th>\n      <td>11.87</td>\n      <td>12.60</td>\n      <td>11.84</td>\n      <td>12.12</td>\n      <td>12.12</td>\n      <td>0.0</td>\n    </tr>\n    <tr>\n      <th>2017-09-11</th>\n      <td>11.38</td>\n      <td>11.39</td>\n      <td>10.51</td>\n      <td>10.73</td>\n      <td>10.73</td>\n      <td>0.0</td>\n    </tr>\n  </tbody>\n</table>\n</div>",
      "text/plain": "             Open   High    Low  Close  Adj Close  Volume\nDate                                                     \n2017-09-05  11.75  14.06  11.41  12.23      12.23     0.0\n2017-09-06  12.27  12.59  11.35  11.63      11.63     0.0\n2017-09-07  11.93  12.07  11.32  11.55      11.55     0.0\n2017-09-08  11.87  12.60  11.84  12.12      12.12     0.0\n2017-09-11  11.38  11.39  10.51  10.73      10.73     0.0"
     },
     "execution_count": 33,
     "metadata": {},
     "output_type": "execute_result"
    }
   ],
   "source": [
    "csv_path = Path(\"./stock_data/vixe.csv/\")\n",
    "data = pd.read_csv(csv_path,index_col=\"Date\", parse_dates=True, infer_datetime_format=True)\n",
    "data.sort_index(ascending = True, inplace = True)\n",
    "data.dropna(inplace=True)\n",
    "data.head()"
   ]
  },
  {
   "cell_type": "code",
   "execution_count": 34,
   "metadata": {},
   "outputs": [
    {
     "data": {
      "text/html": "<div>\n<style scoped>\n    .dataframe tbody tr th:only-of-type {\n        vertical-align: middle;\n    }\n\n    .dataframe tbody tr th {\n        vertical-align: top;\n    }\n\n    .dataframe thead th {\n        text-align: right;\n    }\n</style>\n<table border=\"1\" class=\"dataframe\">\n  <thead>\n    <tr style=\"text-align: right;\">\n      <th></th>\n      <th>Vix</th>\n    </tr>\n    <tr>\n      <th>Date</th>\n      <th></th>\n    </tr>\n  </thead>\n  <tbody>\n    <tr>\n      <th>2021-08-17</th>\n      <td>17.910000</td>\n    </tr>\n    <tr>\n      <th>2021-08-18</th>\n      <td>21.570000</td>\n    </tr>\n    <tr>\n      <th>2021-08-19</th>\n      <td>21.670000</td>\n    </tr>\n    <tr>\n      <th>2021-08-20</th>\n      <td>18.559999</td>\n    </tr>\n    <tr>\n      <th>2021-08-23</th>\n      <td>17.150000</td>\n    </tr>\n  </tbody>\n</table>\n</div>",
      "text/plain": "                  Vix\nDate                 \n2021-08-17  17.910000\n2021-08-18  21.570000\n2021-08-19  21.670000\n2021-08-20  18.559999\n2021-08-23  17.150000"
     },
     "execution_count": 34,
     "metadata": {},
     "output_type": "execute_result"
    }
   ],
   "source": [
    "vix_df = pd.DataFrame()\n",
    "vix_df[\"Vix\"] = data[\"Close\"]\n",
    "#vix_df.index = fintech_df.index.date \n",
    "vix_df.dropna(inplace=True)\n",
    "vix_df.tail()"
   ]
  },
  {
   "cell_type": "code",
   "execution_count": 35,
   "metadata": {},
   "outputs": [
    {
     "data": {
      "text/html": "<div>\n<style scoped>\n    .dataframe tbody tr th:only-of-type {\n        vertical-align: middle;\n    }\n\n    .dataframe tbody tr th {\n        vertical-align: top;\n    }\n\n    .dataframe thead th {\n        text-align: right;\n    }\n</style>\n<table border=\"1\" class=\"dataframe\">\n  <thead>\n    <tr style=\"text-align: right;\">\n      <th></th>\n      <th>PayPal</th>\n      <th>Square</th>\n      <th>Mercadolibre</th>\n      <th>Vix</th>\n    </tr>\n  </thead>\n  <tbody>\n    <tr>\n      <th>2017-09-05</th>\n      <td>61.27</td>\n      <td>25.77</td>\n      <td>256.63</td>\n      <td>12.23</td>\n    </tr>\n    <tr>\n      <th>2017-09-06</th>\n      <td>61.25</td>\n      <td>26.07</td>\n      <td>258.10</td>\n      <td>11.63</td>\n    </tr>\n    <tr>\n      <th>2017-09-07</th>\n      <td>62.00</td>\n      <td>26.31</td>\n      <td>258.68</td>\n      <td>11.55</td>\n    </tr>\n    <tr>\n      <th>2017-09-08</th>\n      <td>61.13</td>\n      <td>26.53</td>\n      <td>260.08</td>\n      <td>12.12</td>\n    </tr>\n    <tr>\n      <th>2017-09-11</th>\n      <td>62.64</td>\n      <td>27.58</td>\n      <td>285.22</td>\n      <td>10.73</td>\n    </tr>\n  </tbody>\n</table>\n</div>",
      "text/plain": "            PayPal  Square  Mercadolibre    Vix\n2017-09-05   61.27   25.77        256.63  12.23\n2017-09-06   61.25   26.07        258.10  11.63\n2017-09-07   62.00   26.31        258.68  11.55\n2017-09-08   61.13   26.53        260.08  12.12\n2017-09-11   62.64   27.58        285.22  10.73"
     },
     "execution_count": 35,
     "metadata": {},
     "output_type": "execute_result"
    }
   ],
   "source": [
    "data = fintech_df.join(vix_df, how = \"inner\")\n",
    "data.sort_index(inplace=True)\n",
    "data.head()"
   ]
  },
  {
   "cell_type": "code",
   "execution_count": 36,
   "metadata": {},
   "outputs": [],
   "source": [
    "def window_data(df, window, feature_col_number, target_col_number):\n",
    "    X = []\n",
    "    y = []\n",
    "    for i in range(len(df) - window):\n",
    "        features = df.iloc[i : (i + window), feature_col_number]\n",
    "        target = df.iloc[(i + window), target_col_number]\n",
    "        X.append(features)\n",
    "        y.append(target)\n",
    "    return np.array(X), np.array(y).reshape(-1, 1)"
   ]
  },
  {
   "cell_type": "code",
   "execution_count": 37,
   "metadata": {},
   "outputs": [
    {
     "name": "stdout",
     "output_type": "stream",
     "text": [
      "X sample values:\n",
      "[[256.63  258.1   258.68  260.08  285.22  290.79  292.22  287.94  282.56\n",
      "  289.83  289.96  290.17  281.84  279.46  270.2   269.27  267.18  261.99\n",
      "  258.93  263.56  264.36  263.8   270.29  268.7   269.87  273.65  274.49\n",
      "  246.25  244.86  233.02  234.79  242.41  236.    235.72  226.56  225.45\n",
      "  221.57  228.99  235.96  234.76  240.38  239.02  236.41  267.33  268.795\n",
      "  265.63  260.09  266.46  271.    267.02  262.58  263.56  262.44  269.58\n",
      "  265.79  268.759 265.85  271.18  272.61  269.84  267.93  275.32  272.97\n",
      "  271.76  270.81  272.26  272.68  276.49  288.81  295.06  318.99  321.08\n",
      "  318.99  326.05  329.27  314.94  318.49  314.58  318.49  318.985 315.61\n",
      "  314.7   322.58  329.24  325.88  330.64  340.5   337.38  339.59  342.01\n",
      "  342.47  339.82  340.45  341.88  345.32  352.27  355.31  355.6   359.93\n",
      "  381.31 ]\n",
      " [258.1   258.68  260.08  285.22  290.79  292.22  287.94  282.56  289.83\n",
      "  289.96  290.17  281.84  279.46  270.2   269.27  267.18  261.99  258.93\n",
      "  263.56  264.36  263.8   270.29  268.7   269.87  273.65  274.49  246.25\n",
      "  244.86  233.02  234.79  242.41  236.    235.72  226.56  225.45  221.57\n",
      "  228.99  235.96  234.76  240.38  239.02  236.41  267.33  268.795 265.63\n",
      "  260.09  266.46  271.    267.02  262.58  263.56  262.44  269.58  265.79\n",
      "  268.759 265.85  271.18  272.61  269.84  267.93  275.32  272.97  271.76\n",
      "  270.81  272.26  272.68  276.49  288.81  295.06  318.99  321.08  318.99\n",
      "  326.05  329.27  314.94  318.49  314.58  318.49  318.985 315.61  314.7\n",
      "  322.58  329.24  325.88  330.64  340.5   337.38  339.59  342.01  342.47\n",
      "  339.82  340.45  341.88  345.32  352.27  355.31  355.6   359.93  381.31\n",
      "  390.37 ]\n",
      " [258.68  260.08  285.22  290.79  292.22  287.94  282.56  289.83  289.96\n",
      "  290.17  281.84  279.46  270.2   269.27  267.18  261.99  258.93  263.56\n",
      "  264.36  263.8   270.29  268.7   269.87  273.65  274.49  246.25  244.86\n",
      "  233.02  234.79  242.41  236.    235.72  226.56  225.45  221.57  228.99\n",
      "  235.96  234.76  240.38  239.02  236.41  267.33  268.795 265.63  260.09\n",
      "  266.46  271.    267.02  262.58  263.56  262.44  269.58  265.79  268.759\n",
      "  265.85  271.18  272.61  269.84  267.93  275.32  272.97  271.76  270.81\n",
      "  272.26  272.68  276.49  288.81  295.06  318.99  321.08  318.99  326.05\n",
      "  329.27  314.94  318.49  314.58  318.49  318.985 315.61  314.7   322.58\n",
      "  329.24  325.88  330.64  340.5   337.38  339.59  342.01  342.47  339.82\n",
      "  340.45  341.88  345.32  352.27  355.31  355.6   359.93  381.31  390.37\n",
      "  386.5  ]] \n",
      "\n",
      "y sample values:\n",
      "[[390.37 ]\n",
      " [386.5  ]\n",
      " [387.099]]\n"
     ]
    }
   ],
   "source": [
    "window_size = 100\n",
    "feature_column = 2\n",
    "target_column = 2\n",
    "X, y = window_data(fintech_df, window_size, feature_column, target_column)\n",
    "print (f\"X sample values:\\n{X[:3]} \\n\")\n",
    "print (f\"y sample values:\\n{y[:3]}\")"
   ]
  },
  {
   "cell_type": "code",
   "execution_count": 38,
   "metadata": {},
   "outputs": [
    {
     "name": "stdout",
     "output_type": "stream",
     "text": [
      "[[ 256.63  258.1   258.68 ...  355.6   359.93  381.31]\n",
      " [ 258.1   258.68  260.08 ...  359.93  381.31  390.37]\n",
      " [ 258.68  260.08  285.22 ...  381.31  390.37  386.5 ]\n",
      " ...\n",
      " [1433.14 1472.13 1509.68 ... 1767.12 1787.66 1757.9 ]\n",
      " [1472.13 1509.68 1501.76 ... 1787.66 1757.9  1786.3 ]\n",
      " [1509.68 1501.76 1547.78 ... 1757.9  1786.3  1810.23]]\n"
     ]
    }
   ],
   "source": [
    "print(X)"
   ]
  },
  {
   "cell_type": "code",
   "execution_count": 39,
   "metadata": {},
   "outputs": [],
   "source": [
    "split = int(0.6 * len(X))\n",
    "X_train = X[: split]\n",
    "X_test = X[split :]\n",
    "y_train = y[: split]\n",
    "y_test = y[split :]"
   ]
  },
  {
   "cell_type": "code",
   "execution_count": 40,
   "metadata": {},
   "outputs": [],
   "source": [
    "from sklearn.preprocessing import MinMaxScaler\n",
    "scaler = MinMaxScaler()\n",
    "scaler.fit(X)\n",
    "X_train = scaler.transform(X_train)\n",
    "X_test = scaler.transform(X_test)\n",
    "scaler.fit(y)\n",
    "y_train = scaler.transform(y_train)\n",
    "y_test = scaler.transform(y_test)"
   ]
  },
  {
   "cell_type": "code",
   "execution_count": 41,
   "metadata": {},
   "outputs": [],
   "source": [
    "X_train = X_train.reshape((X_train.shape[0], X_train.shape[1], 1))\n",
    "X_test = X_test.reshape((X_test.shape[0], X_test.shape[1], 1))\n",
    "#print (f\"X_train sample values:\\n{X_train[:5]} \\n\")\n",
    "#print (f\"X_test sample values:\\n{X_test[:5]}\")"
   ]
  },
  {
   "cell_type": "code",
   "execution_count": 42,
   "metadata": {},
   "outputs": [],
   "source": [
    "from tensorflow.keras.models import Sequential\n",
    "from tensorflow.keras.layers import LSTM, Dense, Dropout"
   ]
  },
  {
   "cell_type": "code",
   "execution_count": 43,
   "metadata": {},
   "outputs": [],
   "source": [
    "model = Sequential()\n",
    "\n",
    "#Adding number_units to the architecture enables the model to far more accurate that with a single digit number\n",
    "number_units = 100\n",
    "dropout_fraction = 0.2\n",
    "\n",
    "\n",
    "# Layer 1\n",
    "model.add(LSTM(units=number_units, return_sequences=True, input_shape=(X_train.shape[1], 1)))\n",
    "model.add(Dropout(dropout_fraction))\n",
    "# Layer 2\n",
    "model.add(LSTM(units=number_units, return_sequences=True))\n",
    "model.add(Dropout(dropout_fraction))\n",
    "# Layer 3\n",
    "model.add(LSTM(units=number_units))\n",
    "model.add(Dropout(dropout_fraction))\n",
    "# Output layer\n",
    "model.add(Dense(1))"
   ]
  },
  {
   "cell_type": "code",
   "execution_count": 44,
   "metadata": {},
   "outputs": [],
   "source": [
    "model.compile(optimizer=\"adam\", loss=\"mean_squared_error\")"
   ]
  },
  {
   "cell_type": "code",
   "execution_count": 45,
   "metadata": {},
   "outputs": [
    {
     "name": "stdout",
     "output_type": "stream",
     "text": [
      "Model: \"sequential_1\"\n",
      "_________________________________________________________________\n",
      "Layer (type)                 Output Shape              Param #   \n",
      "=================================================================\n",
      "lstm_3 (LSTM)                (None, 100, 100)          40800     \n",
      "_________________________________________________________________\n",
      "dropout_3 (Dropout)          (None, 100, 100)          0         \n",
      "_________________________________________________________________\n",
      "lstm_4 (LSTM)                (None, 100, 100)          80400     \n",
      "_________________________________________________________________\n",
      "dropout_4 (Dropout)          (None, 100, 100)          0         \n",
      "_________________________________________________________________\n",
      "lstm_5 (LSTM)                (None, 100)               80400     \n",
      "_________________________________________________________________\n",
      "dropout_5 (Dropout)          (None, 100)               0         \n",
      "_________________________________________________________________\n",
      "dense_1 (Dense)              (None, 1)                 101       \n",
      "=================================================================\n",
      "Total params: 201,701\n",
      "Trainable params: 201,701\n",
      "Non-trainable params: 0\n",
      "_________________________________________________________________\n"
     ]
    }
   ],
   "source": [
    "model.summary()"
   ]
  },
  {
   "cell_type": "code",
   "execution_count": 46,
   "metadata": {},
   "outputs": [
    {
     "name": "stdout",
     "output_type": "stream",
     "text": [
      "Epoch 1/20\n",
      "6/6 [==============================] - 5s 262ms/step - loss: 0.0031\n",
      "Epoch 2/20\n",
      "6/6 [==============================] - 2s 289ms/step - loss: 0.0084\n",
      "Epoch 3/20\n",
      "6/6 [==============================] - 2s 296ms/step - loss: 0.0014\n",
      "Epoch 4/20\n",
      "6/6 [==============================] - 2s 239ms/step - loss: 0.0043\n",
      "Epoch 5/20\n",
      "6/6 [==============================] - 2s 256ms/step - loss: 0.0016\n",
      "Epoch 6/20\n",
      "6/6 [==============================] - 2s 285ms/step - loss: 0.0011\n",
      "Epoch 7/20\n",
      "6/6 [==============================] - 2s 271ms/step - loss: 0.0022\n",
      "Epoch 8/20\n",
      "6/6 [==============================] - 2s 265ms/step - loss: 6.5713e-04\n",
      "Epoch 9/20\n",
      "6/6 [==============================] - 2s 264ms/step - loss: 9.7328e-04\n",
      "Epoch 10/20\n",
      "6/6 [==============================] - 2s 271ms/step - loss: 6.3675e-04\n",
      "Epoch 11/20\n",
      "6/6 [==============================] - 2s 271ms/step - loss: 5.6253e-04\n",
      "Epoch 12/20\n",
      "6/6 [==============================] - 2s 268ms/step - loss: 7.0741e-04\n",
      "Epoch 13/20\n",
      "6/6 [==============================] - 2s 257ms/step - loss: 4.9896e-04\n",
      "Epoch 14/20\n",
      "6/6 [==============================] - 2s 261ms/step - loss: 5.5549e-04\n",
      "Epoch 15/20\n",
      "6/6 [==============================] - 2s 258ms/step - loss: 4.7738e-04\n",
      "Epoch 16/20\n",
      "6/6 [==============================] - 2s 252ms/step - loss: 5.1270e-04\n",
      "Epoch 17/20\n",
      "6/6 [==============================] - 2s 266ms/step - loss: 4.9392e-04\n",
      "Epoch 18/20\n",
      "6/6 [==============================] - 2s 282ms/step - loss: 4.4859e-04\n",
      "Epoch 19/20\n",
      "6/6 [==============================] - 2s 276ms/step - loss: 4.5314e-04\n",
      "Epoch 20/20\n",
      "6/6 [==============================] - 2s 265ms/step - loss: 4.8433e-04\n"
     ]
    },
    {
     "data": {
      "text/plain": "<tensorflow.python.keras.callbacks.History at 0x7fdf8da15550>"
     },
     "execution_count": 46,
     "metadata": {},
     "output_type": "execute_result"
    }
   ],
   "source": [
    "model.fit(X_train, y_train, epochs=20, shuffle=False, batch_size=100, verbose=1)"
   ]
  },
  {
   "cell_type": "code",
   "execution_count": 47,
   "metadata": {},
   "outputs": [
    {
     "name": "stdout",
     "output_type": "stream",
     "text": [
      "12/12 [==============================] - 1s 30ms/step - loss: 0.0097\n"
     ]
    },
    {
     "data": {
      "text/plain": "0.009653737768530846"
     },
     "execution_count": 47,
     "metadata": {},
     "output_type": "execute_result"
    }
   ],
   "source": [
    "model.evaluate(X_test, y_test)"
   ]
  },
  {
   "cell_type": "code",
   "execution_count": 48,
   "metadata": {},
   "outputs": [],
   "source": [
    "predicted = model.predict(X_test)"
   ]
  },
  {
   "cell_type": "code",
   "execution_count": 49,
   "metadata": {},
   "outputs": [],
   "source": [
    "predicted_prices = scaler.inverse_transform(predicted)\n",
    "real_prices = scaler.inverse_transform(y_test.reshape(-1, 1))"
   ]
  },
  {
   "cell_type": "code",
   "execution_count": 50,
   "metadata": {},
   "outputs": [
    {
     "data": {
      "text/html": "<div>\n<style scoped>\n    .dataframe tbody tr th:only-of-type {\n        vertical-align: middle;\n    }\n\n    .dataframe tbody tr th {\n        vertical-align: top;\n    }\n\n    .dataframe thead th {\n        text-align: right;\n    }\n</style>\n<table border=\"1\" class=\"dataframe\">\n  <thead>\n    <tr style=\"text-align: right;\">\n      <th></th>\n      <th>Real</th>\n      <th>Predicted</th>\n    </tr>\n  </thead>\n  <tbody>\n    <tr>\n      <th>2021-08-11</th>\n      <td>1887.57</td>\n      <td>1458.003906</td>\n    </tr>\n    <tr>\n      <th>2021-08-12</th>\n      <td>1842.11</td>\n      <td>1475.964233</td>\n    </tr>\n    <tr>\n      <th>2021-08-13</th>\n      <td>1853.47</td>\n      <td>1495.678955</td>\n    </tr>\n    <tr>\n      <th>2021-08-16</th>\n      <td>1795.00</td>\n      <td>1515.818359</td>\n    </tr>\n    <tr>\n      <th>2021-08-17</th>\n      <td>1767.12</td>\n      <td>1534.317749</td>\n    </tr>\n    <tr>\n      <th>2021-08-18</th>\n      <td>1787.66</td>\n      <td>1549.679321</td>\n    </tr>\n    <tr>\n      <th>2021-08-19</th>\n      <td>1757.90</td>\n      <td>1561.740234</td>\n    </tr>\n    <tr>\n      <th>2021-08-20</th>\n      <td>1786.30</td>\n      <td>1570.189209</td>\n    </tr>\n    <tr>\n      <th>2021-08-23</th>\n      <td>1810.23</td>\n      <td>1575.743896</td>\n    </tr>\n    <tr>\n      <th>2021-08-24</th>\n      <td>1857.01</td>\n      <td>1579.430420</td>\n    </tr>\n  </tbody>\n</table>\n</div>",
      "text/plain": "               Real    Predicted\n2021-08-11  1887.57  1458.003906\n2021-08-12  1842.11  1475.964233\n2021-08-13  1853.47  1495.678955\n2021-08-16  1795.00  1515.818359\n2021-08-17  1767.12  1534.317749\n2021-08-18  1787.66  1549.679321\n2021-08-19  1757.90  1561.740234\n2021-08-20  1786.30  1570.189209\n2021-08-23  1810.23  1575.743896\n2021-08-24  1857.01  1579.430420"
     },
     "execution_count": 50,
     "metadata": {},
     "output_type": "execute_result"
    }
   ],
   "source": [
    "stocks = pd.DataFrame({\n",
    "    \"Real\": real_prices.ravel(),\n",
    "    \"Predicted\": predicted_prices.ravel()\n",
    "    }, index = fintech_df.index[-len(real_prices): ])\n",
    "stocks.tail(10)"
   ]
  },
  {
   "cell_type": "code",
   "execution_count": 51,
   "metadata": {},
   "outputs": [
    {
     "data": {},
     "metadata": {},
     "output_type": "display_data"
    },
    {
     "data": {
      "application/vnd.holoviews_exec.v0+json": "",
      "text/html": "<div id='2541'>\n\n\n\n\n\n  <div class=\"bk-root\" id=\"02037364-3d3b-4ade-89bc-4765f35eaf8b\" data-root-id=\"2541\"></div>\n</div>\n<script type=\"application/javascript\">(function(root) {\n  function embed_document(root) {\n  var docs_json = {\"78751492-dada-4fc2-993e-3155c063d6c6\":{\"roots\":{\"references\":[{\"attributes\":{},\"id\":\"2561\",\"type\":\"BasicTicker\"},{\"attributes\":{},\"id\":\"2564\",\"type\":\"SaveTool\"},{\"attributes\":{\"axis_label\":\"Date\",\"bounds\":\"auto\",\"formatter\":{\"id\":\"2577\"},\"major_label_orientation\":\"horizontal\",\"ticker\":{\"id\":\"2557\"}},\"id\":\"2556\",\"type\":\"DatetimeAxis\"},{\"attributes\":{\"data\":{\"Variable\":[\"Real\",\"Real\",\"Real\",\"Real\",\"Real\",\"Real\",\"Real\",\"Real\",\"Real\",\"Real\",\"Real\",\"Real\",\"Real\",\"Real\",\"Real\",\"Real\",\"Real\",\"Real\",\"Real\",\"Real\",\"Real\",\"Real\",\"Real\",\"Real\",\"Real\",\"Real\",\"Real\",\"Real\",\"Real\",\"Real\",\"Real\",\"Real\",\"Real\",\"Real\",\"Real\",\"Real\",\"Real\",\"Real\",\"Real\",\"Real\",\"Real\",\"Real\",\"Real\",\"Real\",\"Real\",\"Real\",\"Real\",\"Real\",\"Real\",\"Real\",\"Real\",\"Real\",\"Real\",\"Real\",\"Real\",\"Real\",\"Real\",\"Real\",\"Real\",\"Real\",\"Real\",\"Real\",\"Real\",\"Real\",\"Real\",\"Real\",\"Real\",\"Real\",\"Real\",\"Real\",\"Real\",\"Real\",\"Real\",\"Real\",\"Real\",\"Real\",\"Real\",\"Real\",\"Real\",\"Real\",\"Real\",\"Real\",\"Real\",\"Real\",\"Real\",\"Real\",\"Real\",\"Real\",\"Real\",\"Real\",\"Real\",\"Real\",\"Real\",\"Real\",\"Real\",\"Real\",\"Real\",\"Real\",\"Real\",\"Real\",\"Real\",\"Real\",\"Real\",\"Real\",\"Real\",\"Real\",\"Real\",\"Real\",\"Real\",\"Real\",\"Real\",\"Real\",\"Real\",\"Real\",\"Real\",\"Real\",\"Real\",\"Real\",\"Real\",\"Real\",\"Real\",\"Real\",\"Real\",\"Real\",\"Real\",\"Real\",\"Real\",\"Real\",\"Real\",\"Real\",\"Real\",\"Real\",\"Real\",\"Real\",\"Real\",\"Real\",\"Real\",\"Real\",\"Real\",\"Real\",\"Real\",\"Real\",\"Real\",\"Real\",\"Real\",\"Real\",\"Real\",\"Real\",\"Real\",\"Real\",\"Real\",\"Real\",\"Real\",\"Real\",\"Real\",\"Real\",\"Real\",\"Real\",\"Real\",\"Real\",\"Real\",\"Real\",\"Real\",\"Real\",\"Real\",\"Real\",\"Real\",\"Real\",\"Real\",\"Real\",\"Real\",\"Real\",\"Real\",\"Real\",\"Real\",\"Real\",\"Real\",\"Real\",\"Real\",\"Real\",\"Real\",\"Real\",\"Real\",\"Real\",\"Real\",\"Real\",\"Real\",\"Real\",\"Real\",\"Real\",\"Real\",\"Real\",\"Real\",\"Real\",\"Real\",\"Real\",\"Real\",\"Real\",\"Real\",\"Real\",\"Real\",\"Real\",\"Real\",\"Real\",\"Real\",\"Real\",\"Real\",\"Real\",\"Real\",\"Real\",\"Real\",\"Real\",\"Real\",\"Real\",\"Real\",\"Real\",\"Real\",\"Real\",\"Real\",\"Real\",\"Real\",\"Real\",\"Real\",\"Real\",\"Real\",\"Real\",\"Real\",\"Real\",\"Real\",\"Real\",\"Real\",\"Real\",\"Real\",\"Real\",\"Real\",\"Real\",\"Real\",\"Real\",\"Real\",\"Real\",\"Real\",\"Real\",\"Real\",\"Real\",\"Real\",\"Real\",\"Real\",\"Real\",\"Real\",\"Real\",\"Real\",\"Real\",\"Real\",\"Real\",\"Real\",\"Real\",\"Real\",\"Real\",\"Real\",\"Real\",\"Real\",\"Real\",\"Real\",\"Real\",\"Real\",\"Real\",\"Real\",\"Real\",\"Real\",\"Real\",\"Real\",\"Real\",\"Real\",\"Real\",\"Real\",\"Real\",\"Real\",\"Real\",\"Real\",\"Real\",\"Real\",\"Real\",\"Real\",\"Real\",\"Real\",\"Real\",\"Real\",\"Real\",\"Real\",\"Real\",\"Real\",\"Real\",\"Real\",\"Real\",\"Real\",\"Real\",\"Real\",\"Real\",\"Real\",\"Real\",\"Real\",\"Real\",\"Real\",\"Real\",\"Real\",\"Real\",\"Real\",\"Real\",\"Real\",\"Real\",\"Real\",\"Real\",\"Real\",\"Real\",\"Real\",\"Real\",\"Real\",\"Real\",\"Real\",\"Real\",\"Real\",\"Real\",\"Real\",\"Real\",\"Real\",\"Real\",\"Real\",\"Real\",\"Real\",\"Real\",\"Real\",\"Real\",\"Real\",\"Real\",\"Real\",\"Real\",\"Real\",\"Real\",\"Real\",\"Real\",\"Real\",\"Real\",\"Real\",\"Real\",\"Real\",\"Real\",\"Real\",\"Real\",\"Real\",\"Real\",\"Real\",\"Real\",\"Real\",\"Real\",\"Real\",\"Real\",\"Real\",\"Real\",\"Real\",\"Real\"],\"index\":{\"__ndarray__\":\"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\",\"dtype\":\"float64\",\"shape\":[360]},\"value\":{\"__ndarray__\":\"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\",\"dtype\":\"float64\",\"shape\":[360]}},\"selected\":{\"id\":\"2582\"},\"selection_policy\":{\"id\":\"2635\"}},\"id\":\"2581\",\"type\":\"ColumnDataSource\"},{\"attributes\":{\"overlay\":{\"id\":\"2569\"}},\"id\":\"2567\",\"type\":\"BoxZoomTool\"},{\"attributes\":{\"axis_label\":\"Price\",\"bounds\":\"auto\",\"formatter\":{\"id\":\"2579\"},\"major_label_orientation\":\"horizontal\",\"ticker\":{\"id\":\"2561\"}},\"id\":\"2560\",\"type\":\"LinearAxis\"},{\"attributes\":{},\"id\":\"2568\",\"type\":\"ResetTool\"},{\"attributes\":{},\"id\":\"2577\",\"type\":\"DatetimeTickFormatter\"},{\"attributes\":{\"active_drag\":\"auto\",\"active_inspect\":\"auto\",\"active_multi\":null,\"active_scroll\":\"auto\",\"active_tap\":\"auto\",\"tools\":[{\"id\":\"2545\"},{\"id\":\"2564\"},{\"id\":\"2565\"},{\"id\":\"2566\"},{\"id\":\"2567\"},{\"id\":\"2568\"}]},\"id\":\"2570\",\"type\":\"Toolbar\"},{\"attributes\":{},\"id\":\"2635\",\"type\":\"UnionRenderers\"},{\"attributes\":{},\"id\":\"2579\",\"type\":\"BasicTickFormatter\"},{\"attributes\":{},\"id\":\"2658\",\"type\":\"UnionRenderers\"},{\"attributes\":{\"children\":[{\"id\":\"2542\"},{\"id\":\"2547\"},{\"id\":\"2814\"}],\"margin\":[0,0,0,0],\"name\":\"Row03323\",\"tags\":[\"embedded\"]},\"id\":\"2541\",\"type\":\"Row\"},{\"attributes\":{\"end\":2139.951,\"reset_end\":2139.951,\"reset_start\":292.539,\"start\":292.539,\"tags\":[[[\"value\",\"value\",null]]]},\"id\":\"2544\",\"type\":\"Range1d\"},{\"attributes\":{\"mantissas\":[1,2,5],\"max_interval\":500.0,\"num_minor_ticks\":0},\"id\":\"2594\",\"type\":\"AdaptiveTicker\"},{\"attributes\":{\"line_color\":\"#1f77b3\",\"line_width\":2,\"x\":{\"field\":\"index\"},\"y\":{\"field\":\"value\"}},\"id\":\"2584\",\"type\":\"Line\"},{\"attributes\":{\"label\":{\"value\":\"Predicted\"},\"renderers\":[{\"id\":\"2615\"}]},\"id\":\"2637\",\"type\":\"LegendItem\"},{\"attributes\":{\"base\":60,\"mantissas\":[1,2,5,10,15,20,30],\"max_interval\":1800000.0,\"min_interval\":1000.0,\"num_minor_ticks\":0},\"id\":\"2595\",\"type\":\"AdaptiveTicker\"},{\"attributes\":{\"callback\":null,\"formatters\":{\"@{index}\":\"datetime\"},\"renderers\":[{\"id\":\"2587\"},{\"id\":\"2615\"}],\"tags\":[\"hv_created\"],\"tooltips\":[[\"Variable\",\"@{Variable}\"],[\"index\",\"@{index}{%F %T}\"],[\"value\",\"@{value}\"]]},\"id\":\"2545\",\"type\":\"HoverTool\"},{\"attributes\":{\"days\":[1,2,3,4,5,6,7,8,9,10,11,12,13,14,15,16,17,18,19,20,21,22,23,24,25,26,27,28,29,30,31]},\"id\":\"2597\",\"type\":\"DaysTicker\"},{\"attributes\":{\"data\":{\"Variable\":[\"Predicted\",\"Predicted\",\"Predicted\",\"Predicted\",\"Predicted\",\"Predicted\",\"Predicted\",\"Predicted\",\"Predicted\",\"Predicted\",\"Predicted\",\"Predicted\",\"Predicted\",\"Predicted\",\"Predicted\",\"Predicted\",\"Predicted\",\"Predicted\",\"Predicted\",\"Predicted\",\"Predicted\",\"Predicted\",\"Predicted\",\"Predicted\",\"Predicted\",\"Predicted\",\"Predicted\",\"Predicted\",\"Predicted\",\"Predicted\",\"Predicted\",\"Predicted\",\"Predicted\",\"Predicted\",\"Predicted\",\"Predicted\",\"Predicted\",\"Predicted\",\"Predicted\",\"Predicted\",\"Predicted\",\"Predicted\",\"Predicted\",\"Predicted\",\"Predicted\",\"Predicted\",\"Predicted\",\"Predicted\",\"Predicted\",\"Predicted\",\"Predicted\",\"Predicted\",\"Predicted\",\"Predicted\",\"Predicted\",\"Predicted\",\"Predicted\",\"Predicted\",\"Predicted\",\"Predicted\",\"Predicted\",\"Predicted\",\"Predicted\",\"Predicted\",\"Predicted\",\"Predicted\",\"Predicted\",\"Predicted\",\"Predicted\",\"Predicted\",\"Predicted\",\"Predicted\",\"Predicted\",\"Predicted\",\"Predicted\",\"Predicted\",\"Predicted\",\"Predicted\",\"Predicted\",\"Predicted\",\"Predicted\",\"Predicted\",\"Predicted\",\"Predicted\",\"Predicted\",\"Predicted\",\"Predicted\",\"Predicted\",\"Predicted\",\"Predicted\",\"Predicted\",\"Predicted\",\"Predicted\",\"Predicted\",\"Predicted\",\"Predicted\",\"Predicted\",\"Predicted\",\"Predicted\",\"Predicted\",\"Predicted\",\"Predicted\",\"Predicted\",\"Predicted\",\"Predicted\",\"Predicted\",\"Predicted\",\"Predicted\",\"Predicted\",\"Predicted\",\"Predicted\",\"Predicted\",\"Predicted\",\"Predicted\",\"Predicted\",\"Predicted\",\"Predicted\",\"Predicted\",\"Predicted\",\"Predicted\",\"Predicted\",\"Predicted\",\"Predicted\",\"Predicted\",\"Predicted\",\"Predicted\",\"Predicted\",\"Predicted\",\"Predicted\",\"Predicted\",\"Predicted\",\"Predicted\",\"Predicted\",\"Predicted\",\"Predicted\",\"Predicted\",\"Predicted\",\"Predicted\",\"Predicted\",\"Predicted\",\"Predicted\",\"Predicted\",\"Predicted\",\"Predicted\",\"Predicted\",\"Predicted\",\"Predicted\",\"Predicted\",\"Predicted\",\"Predicted\",\"Predicted\",\"Predicted\",\"Predicted\",\"Predicted\",\"Predicted\",\"Predicted\",\"Predicted\",\"Predicted\",\"Predicted\",\"Predicted\",\"Predicted\",\"Predicted\",\"Predicted\",\"Predicted\",\"Predicted\",\"Predicted\",\"Predicted\",\"Predicted\",\"Predicted\",\"Predicted\",\"Predicted\",\"Predicted\",\"Predicted\",\"Predicted\",\"Predicted\",\"Predicted\",\"Predicted\",\"Predicted\",\"Predicted\",\"Predicted\",\"Predicted\",\"Predicted\",\"Predicted\",\"Predicted\",\"Predicted\",\"Predicted\",\"Predicted\",\"Predicted\",\"Predicted\",\"Predicted\",\"Predicted\",\"Predicted\",\"Predicted\",\"Predicted\",\"Predicted\",\"Predicted\",\"Predicted\",\"Predicted\",\"Predicted\",\"Predicted\",\"Predicted\",\"Predicted\",\"Predicted\",\"Predicted\",\"Predicted\",\"Predicted\",\"Predicted\",\"Predicted\",\"Predicted\",\"Predicted\",\"Predicted\",\"Predicted\",\"Predicted\",\"Predicted\",\"Predicted\",\"Predicted\",\"Predicted\",\"Predicted\",\"Predicted\",\"Predicted\",\"Predicted\",\"Predicted\",\"Predicted\",\"Predicted\",\"Predicted\",\"Predicted\",\"Predicted\",\"Predicted\",\"Predicted\",\"Predicted\",\"Predicted\",\"Predicted\",\"Predicted\",\"Predicted\",\"Predicted\",\"Predicted\",\"Predicted\",\"Predicted\",\"Predicted\",\"Predicted\",\"Predicted\",\"Predicted\",\"Predicted\",\"Predicted\",\"Predicted\",\"Predicted\",\"Predicted\",\"Predicted\",\"Predicted\",\"Predicted\",\"Predicted\",\"Predicted\",\"Predicted\",\"Predicted\",\"Predicted\",\"Predicted\",\"Predicted\",\"Predicted\",\"Predicted\",\"Predicted\",\"Predicted\",\"Predicted\",\"Predicted\",\"Predicted\",\"Predicted\",\"Predicted\",\"Predicted\",\"Predicted\",\"Predicted\",\"Predicted\",\"Predicted\",\"Predicted\",\"Predicted\",\"Predicted\",\"Predicted\",\"Predicted\",\"Predicted\",\"Predicted\",\"Predicted\",\"Predicted\",\"Predicted\",\"Predicted\",\"Predicted\",\"Predicted\",\"Predicted\",\"Predicted\",\"Predicted\",\"Predicted\",\"Predicted\",\"Predicted\",\"Predicted\",\"Predicted\",\"Predicted\",\"Predicted\",\"Predicted\",\"Predicted\",\"Predicted\",\"Predicted\",\"Predicted\",\"Predicted\",\"Predicted\",\"Predicted\",\"Predicted\",\"Predicted\",\"Predicted\",\"Predicted\",\"Predicted\",\"Predicted\",\"Predicted\",\"Predicted\",\"Predicted\",\"Predicted\",\"Predicted\",\"Predicted\",\"Predicted\",\"Predicted\",\"Predicted\",\"Predicted\",\"Predicted\",\"Predicted\",\"Predicted\",\"Predicted\",\"Predicted\",\"Predicted\",\"Predicted\",\"Predicted\",\"Predicted\",\"Predicted\",\"Predicted\",\"Predicted\",\"Predicted\",\"Predicted\",\"Predicted\",\"Predicted\",\"Predicted\",\"Predicted\",\"Predicted\",\"Predicted\",\"Predicted\",\"Predicted\",\"Predicted\",\"Predicted\",\"Predicted\",\"Predicted\",\"Predicted\",\"Predicted\",\"Predicted\",\"Predicted\",\"Predicted\",\"Predicted\",\"Predicted\",\"Predicted\",\"Predicted\",\"Predicted\",\"Predicted\",\"Predicted\",\"Predicted\",\"Predicted\",\"Predicted\",\"Predicted\"],\"index\":{\"__ndarray__\":\"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\",\"dtype\":\"float64\",\"shape\":[360]},\"value\":{\"__ndarray__\":\"Hq4GRGxcA0RBbABEUeD7Q0zu90Mp1PRDPnHyQ4vK8EPFcO9Dc0/uQylH7UPTwOxDrQXtQwdK7kOKZPBDBC/zQ4+d9kNaw/pDIKz/Q06EAkTFRwVEceAHRAVICkTjZwxEFSMORK6HD0SqrBBEeKQRRC1kEkRnBBNEmJITRD8lFERATRVERVUXRK5CGkSF4x1E8N8hRPr0JUQf9SlE97ctRC42MUSFcjREgn83RNdQOkT99zxEvG8/RKOdQUREfENEwShFRBmlRkQXBEhEmERJREBVSkQvS0tE5ydMREv0TEQ0yU1EWohORJA9T0QoH1BEhlhRRIDZUkTOfFREtURWRLRHWEQuc1pESJNcRIGXXkQyeGBEkTNiRNzKY0SYMmVE13FmRPaTZ0SlqGhEZrppRI/OakT69GtEoPBsRNmbbUTg621E+ddtRJlybUSxFW1E1eVsRM/sbETw/WxEtwttRJBobUQmC25EaBVvRJyZcER3mHJEDyt1ROY6eET503tEqc1/ROzpgUTJpoNEmfaERDvXhUShbYZE69OGREEqh0SZi4dEkwKIROOPiEQUJolEOb+JRFJcikRB9IpEWXmLRFLYi0Q9B4xEHx+MRMMljES95ItEnk2LRMZGikSM7YhEs1mHRFKihUQa44NECS+CRAaHgETQyn1EFrJ6RBzpd0Q5u3VETxJ0RHXpckS1TnJEVFxyRFH3ckR5+nNEJWV1RDH4dkSulnhEVSl6RNvae0STwX1EfQGARMdTgUR06YJE4KaERNZ6hkQ4WIhEVDOKRHoYjETz7o1ESaGPRMgrkUTseZJE9YSTRGJHlEQ92JREPRWVRG37lEQsoZREKkiURGNSlER39pREAt6VRDWZlkTKI5dEd3qXRMinl0QqqpdEJZCXROhul0REbpdE7bSXRBhZmEQKTJlE+YyaRPcbnERs+p1ET/+fRJkHokR2DaRErQCmRC3cp0Tnq6lEAEOrRD6prERO661EXBOvREU+sERwcbFEMayyRMX+s0RxVrVEB7a2RPDyt0TPA7lEmNa5RA1wukQD6rpEej67RHtcu0SLSbtEh+S6RFs+ukTaq7lEGGm5RPueuURSQ7pE2lm7RFjNvERdnL5EQ9HARP48w0SXv8VE7Q7IRAHfyUST6spEC27LRPV0y0RUU8tEpTvLRJMuy0SkOMtENWfLRASwy0Ty+stEtUjMRG2rzESrJc1Ejq/NRFElzkTLes5EYbnORFKnzkQSM85E3kbNRDm9y0RTtMlEV4DHRD8zxUQnqcJELMS/RI2cvEQuI7lEyZm1RLkrskR0Q69ExwGtRLt3q0QCiKpEuQuqRLCtqUTTSqlEreaoROB2qETn2qdEPRSnRLtBpkS5ZqVER5ukRCcBpERwt6NE/7yjRC4epERIzaREz82lRGQMp0T5c6hEBvCpRHlRq0Rnm6xEtcetRDnHrkQ/gK9EYQWwRAFdsEQRo7BE0/CwRJJEsUTLpLFEpP2xRHg8skR9WrJEOUOyRPLzsURvTLFEbmGwRJ4Yr0Rtea1EEXOrRKAVqUQ7kaZEGhakRGXKoUSktZ9EZPydRO6mnERnsJtEvwubRIq1mkS2kJpECI2aRJiimkRGxppEGtyaROrZmkRcv5pEyIiaRFw9mkQkBJpEWfaZRLkvmkTBoJpEyEWbRH8jnERHMp1Ee2WeRC+7n0R2NKFEicmiRHJopEQbEKZEELunRJ9OqUSosqpEcOCrRM3XrET3lK1EghKuRCBlrkTKiq5ERJauRN58rkS4Qa5EsO2tROKBrUQOHa1EwdGsRPS7rEQ47axEnVCtRKfPrUT+d65EUUevRGwMsESMs7BEyzOxRMyHsUSvJrJE+iOzREh0tEQgQLZE2364RLr1ukQwer1EK8q/RL21wUSwN8NEDkbERM73xETGbcVE\",\"dtype\":\"float32\",\"shape\":[360]}},\"selected\":{\"id\":\"2610\"},\"selection_policy\":{\"id\":\"2658\"}},\"id\":\"2609\",\"type\":\"ColumnDataSource\"},{\"attributes\":{\"line_alpha\":0.2,\"line_color\":\"#ff7e0e\",\"line_width\":2,\"x\":{\"field\":\"index\"},\"y\":{\"field\":\"value\"}},\"id\":\"2614\",\"type\":\"Line\"},{\"attributes\":{\"base\":24,\"mantissas\":[1,2,4,6,8,12],\"max_interval\":43200000.0,\"min_interval\":3600000.0,\"num_minor_ticks\":0},\"id\":\"2596\",\"type\":\"AdaptiveTicker\"},{\"attributes\":{\"line_alpha\":0.1,\"line_color\":\"#1f77b3\",\"line_width\":2,\"x\":{\"field\":\"index\"},\"y\":{\"field\":\"value\"}},\"id\":\"2585\",\"type\":\"Line\"},{\"attributes\":{\"months\":[0,1,2,3,4,5,6,7,8,9,10,11]},\"id\":\"2601\",\"type\":\"MonthsTicker\"},{\"attributes\":{\"line_color\":\"#ff7e0e\",\"line_width\":2,\"x\":{\"field\":\"index\"},\"y\":{\"field\":\"value\"}},\"id\":\"2612\",\"type\":\"Line\"},{\"attributes\":{\"margin\":[5,5,5,5],\"name\":\"HSpacer03328\",\"sizing_mode\":\"stretch_width\"},\"id\":\"2814\",\"type\":\"Spacer\"},{\"attributes\":{\"months\":[0,2,4,6,8,10]},\"id\":\"2602\",\"type\":\"MonthsTicker\"},{\"attributes\":{\"end\":1629763200000.0,\"reset_end\":1629763200000.0,\"reset_start\":1584921600000.0,\"start\":1584921600000.0,\"tags\":[[[\"index\",\"index\",null]]]},\"id\":\"2543\",\"type\":\"Range1d\"},{\"attributes\":{\"days\":[1,4,7,10,13,16,19,22,25,28]},\"id\":\"2598\",\"type\":\"DaysTicker\"},{\"attributes\":{\"days\":[1,15]},\"id\":\"2600\",\"type\":\"DaysTicker\"},{\"attributes\":{\"data_source\":{\"id\":\"2581\"},\"glyph\":{\"id\":\"2584\"},\"hover_glyph\":null,\"muted_glyph\":{\"id\":\"2586\"},\"nonselection_glyph\":{\"id\":\"2585\"},\"selection_glyph\":null,\"view\":{\"id\":\"2588\"}},\"id\":\"2587\",\"type\":\"GlyphRenderer\"},{\"attributes\":{\"months\":[0,6]},\"id\":\"2604\",\"type\":\"MonthsTicker\"},{\"attributes\":{\"bottom_units\":\"screen\",\"fill_alpha\":0.5,\"fill_color\":\"lightgrey\",\"left_units\":\"screen\",\"level\":\"overlay\",\"line_alpha\":1.0,\"line_color\":\"black\",\"line_dash\":[4,4],\"line_width\":2,\"render_mode\":\"css\",\"right_units\":\"screen\",\"top_units\":\"screen\"},\"id\":\"2569\",\"type\":\"BoxAnnotation\"},{\"attributes\":{\"source\":{\"id\":\"2581\"}},\"id\":\"2588\",\"type\":\"CDSView\"},{\"attributes\":{\"days\":[1,8,15,22]},\"id\":\"2599\",\"type\":\"DaysTicker\"},{\"attributes\":{\"margin\":[5,5,5,5],\"name\":\"HSpacer03327\",\"sizing_mode\":\"stretch_width\"},\"id\":\"2542\",\"type\":\"Spacer\"},{\"attributes\":{},\"id\":\"2554\",\"type\":\"LinearScale\"},{\"attributes\":{},\"id\":\"2605\",\"type\":\"YearsTicker\"},{\"attributes\":{\"line_alpha\":0.2,\"line_color\":\"#1f77b3\",\"line_width\":2,\"x\":{\"field\":\"index\"},\"y\":{\"field\":\"value\"}},\"id\":\"2586\",\"type\":\"Line\"},{\"attributes\":{\"line_alpha\":0.1,\"line_color\":\"#ff7e0e\",\"line_width\":2,\"x\":{\"field\":\"index\"},\"y\":{\"field\":\"value\"}},\"id\":\"2613\",\"type\":\"Line\"},{\"attributes\":{\"source\":{\"id\":\"2609\"}},\"id\":\"2616\",\"type\":\"CDSView\"},{\"attributes\":{\"months\":[0,4,8]},\"id\":\"2603\",\"type\":\"MonthsTicker\"},{\"attributes\":{},\"id\":\"2566\",\"type\":\"WheelZoomTool\"},{\"attributes\":{\"data_source\":{\"id\":\"2609\"},\"glyph\":{\"id\":\"2612\"},\"hover_glyph\":null,\"muted_glyph\":{\"id\":\"2614\"},\"nonselection_glyph\":{\"id\":\"2613\"},\"selection_glyph\":null,\"view\":{\"id\":\"2616\"}},\"id\":\"2615\",\"type\":\"GlyphRenderer\"},{\"attributes\":{\"axis\":{\"id\":\"2556\"},\"grid_line_color\":null,\"ticker\":null},\"id\":\"2559\",\"type\":\"Grid\"},{\"attributes\":{\"label\":{\"value\":\"Real\"},\"renderers\":[{\"id\":\"2587\"}]},\"id\":\"2608\",\"type\":\"LegendItem\"},{\"attributes\":{\"click_policy\":\"mute\",\"items\":[{\"id\":\"2608\"},{\"id\":\"2637\"}],\"location\":[0,0],\"title\":\"Variable\"},\"id\":\"2607\",\"type\":\"Legend\"},{\"attributes\":{\"text\":\"LSTM Model for MercadoLibre\",\"text_color\":{\"value\":\"black\"},\"text_font_size\":{\"value\":\"12pt\"}},\"id\":\"2548\",\"type\":\"Title\"},{\"attributes\":{},\"id\":\"2610\",\"type\":\"Selection\"},{\"attributes\":{\"below\":[{\"id\":\"2556\"}],\"center\":[{\"id\":\"2559\"},{\"id\":\"2563\"}],\"left\":[{\"id\":\"2560\"}],\"margin\":null,\"min_border_bottom\":10,\"min_border_left\":10,\"min_border_right\":10,\"min_border_top\":10,\"plot_height\":300,\"plot_width\":1000,\"renderers\":[{\"id\":\"2587\"},{\"id\":\"2615\"}],\"right\":[{\"id\":\"2607\"}],\"sizing_mode\":\"fixed\",\"title\":{\"id\":\"2548\"},\"toolbar\":{\"id\":\"2570\"},\"x_range\":{\"id\":\"2543\"},\"x_scale\":{\"id\":\"2552\"},\"y_range\":{\"id\":\"2544\"},\"y_scale\":{\"id\":\"2554\"}},\"id\":\"2547\",\"subtype\":\"Figure\",\"type\":\"Plot\"},{\"attributes\":{},\"id\":\"2582\",\"type\":\"Selection\"},{\"attributes\":{\"num_minor_ticks\":5,\"tickers\":[{\"id\":\"2594\"},{\"id\":\"2595\"},{\"id\":\"2596\"},{\"id\":\"2597\"},{\"id\":\"2598\"},{\"id\":\"2599\"},{\"id\":\"2600\"},{\"id\":\"2601\"},{\"id\":\"2602\"},{\"id\":\"2603\"},{\"id\":\"2604\"},{\"id\":\"2605\"}]},\"id\":\"2557\",\"type\":\"DatetimeTicker\"},{\"attributes\":{},\"id\":\"2552\",\"type\":\"LinearScale\"},{\"attributes\":{},\"id\":\"2565\",\"type\":\"PanTool\"},{\"attributes\":{\"axis\":{\"id\":\"2560\"},\"dimension\":1,\"grid_line_color\":null,\"ticker\":null},\"id\":\"2563\",\"type\":\"Grid\"}],\"root_ids\":[\"2541\"]},\"title\":\"Bokeh Application\",\"version\":\"2.0.2\"}};\n  var render_items = [{\"docid\":\"78751492-dada-4fc2-993e-3155c063d6c6\",\"root_ids\":[\"2541\"],\"roots\":{\"2541\":\"02037364-3d3b-4ade-89bc-4765f35eaf8b\"}}];\n  root.Bokeh.embed.embed_items_notebook(docs_json, render_items);\n  }\nif (root.Bokeh !== undefined) {\n    embed_document(root);\n  } else {\n    var attempts = 0;\n    var timer = setInterval(function(root) {\n      if (root.Bokeh !== undefined) {\n        clearInterval(timer);\n        embed_document(root);\n      } else if (document.readyState == \"complete\") {\n        attempts++;\n        if (attempts > 100) {\n          clearInterval(timer);\n          console.log(\"Bokeh: ERROR: Unable to run BokehJS code because BokehJS library is missing\");\n        }\n      }\n    }, 10, root)\n  }\n})(window);</script>",
      "text/plain": ":NdOverlay   [Variable]\n   :Curve   [index]   (value)"
     },
     "execution_count": 51,
     "metadata": {
      "application/vnd.holoviews_exec.v0+json": {
       "id": "2541"
      }
     },
     "output_type": "execute_result"
    }
   ],
   "source": [
    "stocks.hvplot.line(label = \"LSTM Model for MercadoLibre\", width = 1000, xlabel=\"Date\", ylabel=\"Price\")\n",
    "#(label = \"Predicting Apple's Close with the S&P500 Close - (6Day Window)\", xlabel=\"Date\", ylabel=\"Price\")"
   ]
  }
 ],
 "metadata": {
  "kernelspec": {
   "display_name": "Python 3.8.5 64-bit ('base': conda)",
   "metadata": {
    "interpreter": {
     "hash": "11ef2bb442b8455a3e6b82f3202efe5c7a01a00a0939705f79f87b65f8f45715"
    }
   },
   "name": "python3"
  },
  "language_info": {
   "codemirror_mode": {
    "name": "ipython",
    "version": 3
   },
   "file_extension": ".py",
   "mimetype": "text/x-python",
   "name": "python",
   "nbconvert_exporter": "python",
   "pygments_lexer": "ipython3",
   "version": "3.8.5"
  },
  "orig_nbformat": 2
 },
 "nbformat": 4,
 "nbformat_minor": 2
}