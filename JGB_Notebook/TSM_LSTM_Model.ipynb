{
 "cells": [
  {
   "cell_type": "code",
   "execution_count": 1,
   "id": "9bd3e200-7872-44f6-9253-2bf18300aea5",
   "metadata": {},
   "outputs": [],
   "source": [
    "import os\n",
    "import numpy as np\n",
    "import pandas as pd\n",
    "import matplotlib.pyplot as plt\n",
    "import alpaca_trade_api as tradeapi\n",
    "from pathlib import Path\n",
    "import requests\n",
    "\n",
    "%matplotlib inline"
   ]
  },
  {
   "cell_type": "code",
   "execution_count": 2,
   "id": "1b011e02-1faf-4f8e-b5a5-df3ad579cb03",
   "metadata": {},
   "outputs": [
    {
     "name": "stdout",
     "output_type": "stream",
     "text": [
      "/Users/josephbarry/Desktop/FinTech_Class/3rd_Project/FinTech_Portfolio_Dash/JGB_Notebook\n"
     ]
    }
   ],
   "source": [
    "!pwd"
   ]
  },
  {
   "cell_type": "code",
   "execution_count": 3,
   "id": "b4c95e9c-54f0-4fb0-aebd-557ded9b6c72",
   "metadata": {},
   "outputs": [
    {
     "data": {
      "text/html": [
       "<div>\n",
       "<style scoped>\n",
       "    .dataframe tbody tr th:only-of-type {\n",
       "        vertical-align: middle;\n",
       "    }\n",
       "\n",
       "    .dataframe tbody tr th {\n",
       "        vertical-align: top;\n",
       "    }\n",
       "\n",
       "    .dataframe thead th {\n",
       "        text-align: right;\n",
       "    }\n",
       "</style>\n",
       "<table border=\"1\" class=\"dataframe\">\n",
       "  <thead>\n",
       "    <tr style=\"text-align: right;\">\n",
       "      <th></th>\n",
       "      <th>Open</th>\n",
       "      <th>High</th>\n",
       "      <th>Low</th>\n",
       "      <th>Close</th>\n",
       "      <th>Adj Close</th>\n",
       "      <th>Volume</th>\n",
       "    </tr>\n",
       "    <tr>\n",
       "      <th>Date</th>\n",
       "      <th></th>\n",
       "      <th></th>\n",
       "      <th></th>\n",
       "      <th></th>\n",
       "      <th></th>\n",
       "      <th></th>\n",
       "    </tr>\n",
       "  </thead>\n",
       "  <tbody>\n",
       "    <tr>\n",
       "      <th>2011-08-16</th>\n",
       "      <td>11.49</td>\n",
       "      <td>11.68</td>\n",
       "      <td>11.40</td>\n",
       "      <td>11.52</td>\n",
       "      <td>8.523615</td>\n",
       "      <td>11531700</td>\n",
       "    </tr>\n",
       "    <tr>\n",
       "      <th>2011-08-17</th>\n",
       "      <td>11.54</td>\n",
       "      <td>11.59</td>\n",
       "      <td>11.35</td>\n",
       "      <td>11.51</td>\n",
       "      <td>8.516215</td>\n",
       "      <td>10491600</td>\n",
       "    </tr>\n",
       "    <tr>\n",
       "      <th>2011-08-18</th>\n",
       "      <td>11.15</td>\n",
       "      <td>11.21</td>\n",
       "      <td>10.75</td>\n",
       "      <td>11.05</td>\n",
       "      <td>8.175861</td>\n",
       "      <td>21118100</td>\n",
       "    </tr>\n",
       "    <tr>\n",
       "      <th>2011-08-19</th>\n",
       "      <td>10.94</td>\n",
       "      <td>11.22</td>\n",
       "      <td>10.90</td>\n",
       "      <td>10.94</td>\n",
       "      <td>8.094472</td>\n",
       "      <td>11898100</td>\n",
       "    </tr>\n",
       "    <tr>\n",
       "      <th>2011-08-22</th>\n",
       "      <td>11.21</td>\n",
       "      <td>11.31</td>\n",
       "      <td>11.04</td>\n",
       "      <td>11.24</td>\n",
       "      <td>8.316442</td>\n",
       "      <td>17618100</td>\n",
       "    </tr>\n",
       "  </tbody>\n",
       "</table>\n",
       "</div>"
      ],
      "text/plain": [
       "             Open   High    Low  Close  Adj Close    Volume\n",
       "Date                                                       \n",
       "2011-08-16  11.49  11.68  11.40  11.52   8.523615  11531700\n",
       "2011-08-17  11.54  11.59  11.35  11.51   8.516215  10491600\n",
       "2011-08-18  11.15  11.21  10.75  11.05   8.175861  21118100\n",
       "2011-08-19  10.94  11.22  10.90  10.94   8.094472  11898100\n",
       "2011-08-22  11.21  11.31  11.04  11.24   8.316442  17618100"
      ]
     },
     "execution_count": 3,
     "metadata": {},
     "output_type": "execute_result"
    }
   ],
   "source": [
    "csvpath = Path(\"TSM.csv\")\n",
    "\n",
    "df = pd.read_csv(csvpath, index_col='Date', infer_datetime_format=True, parse_dates=True)\n",
    "df.head()"
   ]
  },
  {
   "cell_type": "code",
   "execution_count": 4,
   "id": "1e157221-4c40-49ed-b20b-8b837ea84679",
   "metadata": {},
   "outputs": [
    {
     "data": {
      "text/html": [
       "<div>\n",
       "<style scoped>\n",
       "    .dataframe tbody tr th:only-of-type {\n",
       "        vertical-align: middle;\n",
       "    }\n",
       "\n",
       "    .dataframe tbody tr th {\n",
       "        vertical-align: top;\n",
       "    }\n",
       "\n",
       "    .dataframe thead th {\n",
       "        text-align: right;\n",
       "    }\n",
       "</style>\n",
       "<table border=\"1\" class=\"dataframe\">\n",
       "  <thead>\n",
       "    <tr style=\"text-align: right;\">\n",
       "      <th></th>\n",
       "      <th>Close</th>\n",
       "    </tr>\n",
       "    <tr>\n",
       "      <th>Date</th>\n",
       "      <th></th>\n",
       "    </tr>\n",
       "  </thead>\n",
       "  <tbody>\n",
       "    <tr>\n",
       "      <th>2011-08-16</th>\n",
       "      <td>11.520000</td>\n",
       "    </tr>\n",
       "    <tr>\n",
       "      <th>2011-08-17</th>\n",
       "      <td>11.510000</td>\n",
       "    </tr>\n",
       "    <tr>\n",
       "      <th>2011-08-18</th>\n",
       "      <td>11.050000</td>\n",
       "    </tr>\n",
       "    <tr>\n",
       "      <th>2011-08-19</th>\n",
       "      <td>10.940000</td>\n",
       "    </tr>\n",
       "    <tr>\n",
       "      <th>2011-08-22</th>\n",
       "      <td>11.240000</td>\n",
       "    </tr>\n",
       "    <tr>\n",
       "      <th>...</th>\n",
       "      <td>...</td>\n",
       "    </tr>\n",
       "    <tr>\n",
       "      <th>2021-08-09</th>\n",
       "      <td>118.220001</td>\n",
       "    </tr>\n",
       "    <tr>\n",
       "      <th>2021-08-10</th>\n",
       "      <td>116.360001</td>\n",
       "    </tr>\n",
       "    <tr>\n",
       "      <th>2021-08-11</th>\n",
       "      <td>115.989998</td>\n",
       "    </tr>\n",
       "    <tr>\n",
       "      <th>2021-08-12</th>\n",
       "      <td>115.699997</td>\n",
       "    </tr>\n",
       "    <tr>\n",
       "      <th>2021-08-13</th>\n",
       "      <td>115.500000</td>\n",
       "    </tr>\n",
       "  </tbody>\n",
       "</table>\n",
       "<p>2516 rows × 1 columns</p>\n",
       "</div>"
      ],
      "text/plain": [
       "                 Close\n",
       "Date                  \n",
       "2011-08-16   11.520000\n",
       "2011-08-17   11.510000\n",
       "2011-08-18   11.050000\n",
       "2011-08-19   10.940000\n",
       "2011-08-22   11.240000\n",
       "...                ...\n",
       "2021-08-09  118.220001\n",
       "2021-08-10  116.360001\n",
       "2021-08-11  115.989998\n",
       "2021-08-12  115.699997\n",
       "2021-08-13  115.500000\n",
       "\n",
       "[2516 rows x 1 columns]"
      ]
     },
     "execution_count": 4,
     "metadata": {},
     "output_type": "execute_result"
    }
   ],
   "source": [
    "df = df[['Close']]\n",
    "df"
   ]
  },
  {
   "cell_type": "code",
   "execution_count": 5,
   "id": "ab040008-7f46-4dd5-9f3e-be5a1fb4ed78",
   "metadata": {},
   "outputs": [],
   "source": [
    "def window_data(df, window, feature_col_number, target_col_number):\n",
    "    X = []\n",
    "    y = []\n",
    "    for i in range(len(df) - window- 1):\n",
    "        features = df.iloc[i : (i + window), feature_col_number]\n",
    "        target = df.iloc[(i + window), target_col_number]\n",
    "        X.append(features)\n",
    "        y.append(target)\n",
    "    return np.array(X), np.array(y).reshape(-1, 1)"
   ]
  },
  {
   "cell_type": "code",
   "execution_count": 6,
   "id": "5ba0b2c2-ae73-43ea-864b-4836c6aa1e25",
   "metadata": {},
   "outputs": [
    {
     "name": "stdout",
     "output_type": "stream",
     "text": [
      "X sample values:\n",
      "[[11.52 11.51 11.05 10.94 11.24 11.84 11.74 11.35 11.81 12.13 11.97 11.97\n",
      "  11.89 11.66 11.52 12.05 12.   11.88 11.94 11.96 11.82 12.11 12.41 12.22\n",
      "  12.12 11.92 11.52 11.71 11.56 12.02 11.77 11.81 11.43 11.31 11.74 11.82\n",
      "  11.83 11.8  12.02 11.86 12.16 12.17 12.3  12.01 12.21 12.11 11.81 12.18\n",
      "  12.48 12.19 12.25 12.95 12.74 12.62 12.45 12.72 12.9  12.98 13.   12.93\n",
      "  12.48 12.67 12.95 12.98 13.08 12.74 12.71 12.66 12.56 12.56 12.2  12.07\n",
      "  12.55 12.4  12.92 13.21 13.12 13.22 12.94 13.22 12.94 13.08 12.93 12.72\n",
      "  12.55 12.5  12.76 12.32 12.66 12.71 12.91 12.92 13.02 12.92 13.02 12.91\n",
      "  13.26 13.14 13.26 13.15]\n",
      " [11.51 11.05 10.94 11.24 11.84 11.74 11.35 11.81 12.13 11.97 11.97 11.89\n",
      "  11.66 11.52 12.05 12.   11.88 11.94 11.96 11.82 12.11 12.41 12.22 12.12\n",
      "  11.92 11.52 11.71 11.56 12.02 11.77 11.81 11.43 11.31 11.74 11.82 11.83\n",
      "  11.8  12.02 11.86 12.16 12.17 12.3  12.01 12.21 12.11 11.81 12.18 12.48\n",
      "  12.19 12.25 12.95 12.74 12.62 12.45 12.72 12.9  12.98 13.   12.93 12.48\n",
      "  12.67 12.95 12.98 13.08 12.74 12.71 12.66 12.56 12.56 12.2  12.07 12.55\n",
      "  12.4  12.92 13.21 13.12 13.22 12.94 13.22 12.94 13.08 12.93 12.72 12.55\n",
      "  12.5  12.76 12.32 12.66 12.71 12.91 12.92 13.02 12.92 13.02 12.91 13.26\n",
      "  13.14 13.26 13.15 13.38]\n",
      " [11.05 10.94 11.24 11.84 11.74 11.35 11.81 12.13 11.97 11.97 11.89 11.66\n",
      "  11.52 12.05 12.   11.88 11.94 11.96 11.82 12.11 12.41 12.22 12.12 11.92\n",
      "  11.52 11.71 11.56 12.02 11.77 11.81 11.43 11.31 11.74 11.82 11.83 11.8\n",
      "  12.02 11.86 12.16 12.17 12.3  12.01 12.21 12.11 11.81 12.18 12.48 12.19\n",
      "  12.25 12.95 12.74 12.62 12.45 12.72 12.9  12.98 13.   12.93 12.48 12.67\n",
      "  12.95 12.98 13.08 12.74 12.71 12.66 12.56 12.56 12.2  12.07 12.55 12.4\n",
      "  12.92 13.21 13.12 13.22 12.94 13.22 12.94 13.08 12.93 12.72 12.55 12.5\n",
      "  12.76 12.32 12.66 12.71 12.91 12.92 13.02 12.92 13.02 12.91 13.26 13.14\n",
      "  13.26 13.15 13.38 13.77]] \n",
      "\n",
      "y sample values:\n",
      "[[13.38]\n",
      " [13.77]\n",
      " [13.66]]\n"
     ]
    }
   ],
   "source": [
    "window_size = 100\n",
    "feature_column = 0 # why 0?\n",
    "target_column = 0 # Why 0?\n",
    "\n",
    "X, y = window_data(df, window_size, feature_column, target_column)\n",
    "\n",
    "print (f\"X sample values:\\n{X[:3]} \\n\")\n",
    "print (f\"y sample values:\\n{y[:3]}\")"
   ]
  },
  {
   "cell_type": "code",
   "execution_count": 7,
   "id": "436bb165-bc49-4601-bc70-9707571ee576",
   "metadata": {},
   "outputs": [],
   "source": [
    "split = int(0.6 * len(X))\n",
    "\n",
    "X_train = X[: split]\n",
    "X_test = X[split:]\n",
    "\n",
    "y_train = y[: split]\n",
    "y_test = y[split:]"
   ]
  },
  {
   "cell_type": "code",
   "execution_count": 8,
   "id": "53348636-b9fe-428d-a8ec-158ac0601c29",
   "metadata": {},
   "outputs": [],
   "source": [
    "# Importing the MinMaxScaler from sklearn\n",
    "from sklearn.preprocessing import MinMaxScaler\n",
    "\n",
    "x_train_scaler = MinMaxScaler()\n",
    "#x_test_scaler = MinMaxScaler()\n",
    "y_train_scaler = MinMaxScaler()\n",
    "#y_test_scaler = MinMaxScaler()\n",
    "\n",
    "# Fit the scaler for the training Data\n",
    "x_train_scaler.fit(X_train)\n",
    "y_train_scaler.fit(y_train)\n",
    "\n",
    "# Scale the training data\n",
    "X_train = x_train_scaler.transform(X_train)\n",
    "y_train = y_train_scaler.transform(y_train)\n",
    "\n",
    "# Fit the scaler for the testing Data\n",
    "#x_test_scaler.fit(X_test)\n",
    "#y_test_scaler.fit(y_test)\n",
    "\n",
    "# Scale the y_test data\n",
    "X_test = x_train_scaler.transform(X_test)\n",
    "y_test = y_train_scaler.transform(y_test)"
   ]
  },
  {
   "cell_type": "code",
   "execution_count": 9,
   "id": "b63375fa-983c-402c-915a-942f4319c1d9",
   "metadata": {},
   "outputs": [],
   "source": [
    "# Reshape the features data\n",
    "X_train = X_train.reshape((X_train.shape[0], X_train.shape[1], 1))\n",
    "X_test = X_test.reshape((X_test.shape[0], X_test.shape[1], 1))"
   ]
  },
  {
   "cell_type": "code",
   "execution_count": 10,
   "id": "ee1e6032-99d2-4b08-ac4e-27c3bbb6fe42",
   "metadata": {},
   "outputs": [],
   "source": [
    "# Importing required Keras modules\n",
    "from tensorflow.keras.models import Sequential\n",
    "from tensorflow.keras.layers import LSTM, Dense, Dropout"
   ]
  },
  {
   "cell_type": "code",
   "execution_count": 11,
   "id": "14c509a8-8c48-4672-8d0d-e31f2340496d",
   "metadata": {},
   "outputs": [],
   "source": [
    "# Define the LSTM RNN model.\n",
    "model = Sequential()\n",
    "\n",
    "# Initial model setup\n",
    "number_units = window_size\n",
    "# 20% of neurons to be dropped out\n",
    "dropout_fraction = 0.2\n",
    "\n",
    "# Layer 1\n",
    "model.add(LSTM(\n",
    "    units=number_units,\n",
    "    return_sequences=True,\n",
    "    input_shape=(X_train.shape[1], 1))\n",
    "    )\n",
    "model.add(Dropout(dropout_fraction))\n",
    "\n",
    "# Layer 2\n",
    "model.add(LSTM(units=number_units, return_sequences=True))\n",
    "model.add(Dropout(dropout_fraction))\n",
    "\n",
    "# Layer 3\n",
    "model.add(LSTM(units=number_units))\n",
    "model.add(Dropout(dropout_fraction))\n",
    "\n",
    "# Output layer\n",
    "model.add(Dense(1))"
   ]
  },
  {
   "cell_type": "code",
   "execution_count": 12,
   "id": "ca3ad31e-350c-4509-9079-ab40c7c47e1b",
   "metadata": {},
   "outputs": [
    {
     "name": "stdout",
     "output_type": "stream",
     "text": [
      "Model: \"sequential\"\n",
      "_________________________________________________________________\n",
      "Layer (type)                 Output Shape              Param #   \n",
      "=================================================================\n",
      "lstm (LSTM)                  (None, 100, 100)          40800     \n",
      "_________________________________________________________________\n",
      "dropout (Dropout)            (None, 100, 100)          0         \n",
      "_________________________________________________________________\n",
      "lstm_1 (LSTM)                (None, 100, 100)          80400     \n",
      "_________________________________________________________________\n",
      "dropout_1 (Dropout)          (None, 100, 100)          0         \n",
      "_________________________________________________________________\n",
      "lstm_2 (LSTM)                (None, 100)               80400     \n",
      "_________________________________________________________________\n",
      "dropout_2 (Dropout)          (None, 100)               0         \n",
      "_________________________________________________________________\n",
      "dense (Dense)                (None, 1)                 101       \n",
      "=================================================================\n",
      "Total params: 201,701\n",
      "Trainable params: 201,701\n",
      "Non-trainable params: 0\n",
      "_________________________________________________________________\n"
     ]
    }
   ],
   "source": [
    "model.compile(optimizer=\"adam\", loss=\"mean_squared_error\")\n",
    "model.summary()"
   ]
  },
  {
   "cell_type": "code",
   "execution_count": 13,
   "id": "98d4d8b6-5051-4f5c-a404-9411c3990ee5",
   "metadata": {},
   "outputs": [
    {
     "name": "stdout",
     "output_type": "stream",
     "text": [
      "Epoch 1/20\n",
      "15/15 [==============================] - 1s 77ms/step - loss: 0.0052\n",
      "Epoch 2/20\n",
      "15/15 [==============================] - 1s 77ms/step - loss: 0.0131\n",
      "Epoch 3/20\n",
      "15/15 [==============================] - 1s 75ms/step - loss: 0.0150\n",
      "Epoch 4/20\n",
      "15/15 [==============================] - 1s 78ms/step - loss: 0.0175\n",
      "Epoch 5/20\n",
      "15/15 [==============================] - 1s 87ms/step - loss: 0.0143\n",
      "Epoch 6/20\n",
      "15/15 [==============================] - 1s 77ms/step - loss: 0.0213\n",
      "Epoch 7/20\n",
      "15/15 [==============================] - 1s 75ms/step - loss: 0.0114\n",
      "Epoch 8/20\n",
      "15/15 [==============================] - 1s 72ms/step - loss: 0.0079\n",
      "Epoch 9/20\n",
      "15/15 [==============================] - 1s 72ms/step - loss: 0.0065\n",
      "Epoch 10/20\n",
      "15/15 [==============================] - 1s 71ms/step - loss: 0.0219\n",
      "Epoch 11/20\n",
      "15/15 [==============================] - 1s 72ms/step - loss: 0.0094\n",
      "Epoch 12/20\n",
      "15/15 [==============================] - 1s 71ms/step - loss: 0.0064\n",
      "Epoch 13/20\n",
      "15/15 [==============================] - 1s 72ms/step - loss: 0.0181\n",
      "Epoch 14/20\n",
      "15/15 [==============================] - 1s 71ms/step - loss: 0.0126\n",
      "Epoch 15/20\n",
      "15/15 [==============================] - 1s 72ms/step - loss: 0.0079\n",
      "Epoch 16/20\n",
      "15/15 [==============================] - 1s 71ms/step - loss: 0.0053\n",
      "Epoch 17/20\n",
      "15/15 [==============================] - 1s 71ms/step - loss: 0.0126\n",
      "Epoch 18/20\n",
      "15/15 [==============================] - 1s 72ms/step - loss: 0.0100\n",
      "Epoch 19/20\n",
      "15/15 [==============================] - 1s 72ms/step - loss: 0.0061\n",
      "Epoch 20/20\n",
      "15/15 [==============================] - 1s 78ms/step - loss: 0.0027\n"
     ]
    },
    {
     "data": {
      "text/plain": [
       "<tensorflow.python.keras.callbacks.History at 0x1478c5850>"
      ]
     },
     "execution_count": 13,
     "metadata": {},
     "output_type": "execute_result"
    }
   ],
   "source": [
    "model.fit(X_train, y_train, epochs=20, shuffle=False, batch_size=100, verbose=1)"
   ]
  },
  {
   "cell_type": "code",
   "execution_count": 14,
   "id": "77811ad8-d192-4377-806b-50c93b926e23",
   "metadata": {},
   "outputs": [
    {
     "data": {
      "text/plain": [
       "0.6233460307121277"
      ]
     },
     "execution_count": 14,
     "metadata": {},
     "output_type": "execute_result"
    }
   ],
   "source": [
    "model.evaluate(X_test, y_test, verbose=0)"
   ]
  },
  {
   "cell_type": "code",
   "execution_count": 15,
   "id": "1e19dbdb-be46-4de7-9990-81817a2d20ec",
   "metadata": {},
   "outputs": [],
   "source": [
    "predicted = model.predict(X_test)"
   ]
  },
  {
   "cell_type": "code",
   "execution_count": 16,
   "id": "0352cee8-4b2e-472e-901a-4ccbe0dde4a1",
   "metadata": {},
   "outputs": [],
   "source": [
    "predicted_prices = y_train_scaler.inverse_transform(predicted)"
   ]
  },
  {
   "cell_type": "code",
   "execution_count": 17,
   "id": "0efe296d-4fdc-473e-9cfd-4009b7deb178",
   "metadata": {},
   "outputs": [],
   "source": [
    "real_prices = y_train_scaler.inverse_transform(y_test.reshape(-1,1))"
   ]
  },
  {
   "cell_type": "code",
   "execution_count": 18,
   "id": "ca32f9db-ed61-45f8-bb0c-060c825f762e",
   "metadata": {},
   "outputs": [
    {
     "data": {
      "text/html": [
       "<div>\n",
       "<style scoped>\n",
       "    .dataframe tbody tr th:only-of-type {\n",
       "        vertical-align: middle;\n",
       "    }\n",
       "\n",
       "    .dataframe tbody tr th {\n",
       "        vertical-align: top;\n",
       "    }\n",
       "\n",
       "    .dataframe thead th {\n",
       "        text-align: right;\n",
       "    }\n",
       "</style>\n",
       "<table border=\"1\" class=\"dataframe\">\n",
       "  <thead>\n",
       "    <tr style=\"text-align: right;\">\n",
       "      <th></th>\n",
       "      <th>Actual</th>\n",
       "      <th>Predicted</th>\n",
       "    </tr>\n",
       "    <tr>\n",
       "      <th>Date</th>\n",
       "      <th></th>\n",
       "      <th></th>\n",
       "    </tr>\n",
       "  </thead>\n",
       "  <tbody>\n",
       "    <tr>\n",
       "      <th>2017-10-12</th>\n",
       "      <td>40.349998</td>\n",
       "      <td>37.119484</td>\n",
       "    </tr>\n",
       "    <tr>\n",
       "      <th>2017-10-13</th>\n",
       "      <td>40.439999</td>\n",
       "      <td>37.288998</td>\n",
       "    </tr>\n",
       "    <tr>\n",
       "      <th>2017-10-16</th>\n",
       "      <td>40.820000</td>\n",
       "      <td>37.506630</td>\n",
       "    </tr>\n",
       "    <tr>\n",
       "      <th>2017-10-17</th>\n",
       "      <td>40.889999</td>\n",
       "      <td>37.767639</td>\n",
       "    </tr>\n",
       "    <tr>\n",
       "      <th>2017-10-18</th>\n",
       "      <td>41.250000</td>\n",
       "      <td>38.057526</td>\n",
       "    </tr>\n",
       "  </tbody>\n",
       "</table>\n",
       "</div>"
      ],
      "text/plain": [
       "               Actual  Predicted\n",
       "Date                            \n",
       "2017-10-12  40.349998  37.119484\n",
       "2017-10-13  40.439999  37.288998\n",
       "2017-10-16  40.820000  37.506630\n",
       "2017-10-17  40.889999  37.767639\n",
       "2017-10-18  41.250000  38.057526"
      ]
     },
     "execution_count": 18,
     "metadata": {},
     "output_type": "execute_result"
    }
   ],
   "source": [
    "actual_predicted = pd.DataFrame({\n",
    "    \"Actual\": real_prices.ravel(),\n",
    "    \"Predicted\": predicted_prices.ravel()\n",
    "}, index = df.index[-len(real_prices): ]) \n",
    "\n",
    "# Show the DataFrame's head\n",
    "actual_predicted.head()"
   ]
  },
  {
   "cell_type": "code",
   "execution_count": 19,
   "id": "6cd66749-d0bf-4790-b7ae-b96c207c3ecd",
   "metadata": {},
   "outputs": [
    {
     "data": {
      "text/html": [
       "<div>\n",
       "<style scoped>\n",
       "    .dataframe tbody tr th:only-of-type {\n",
       "        vertical-align: middle;\n",
       "    }\n",
       "\n",
       "    .dataframe tbody tr th {\n",
       "        vertical-align: top;\n",
       "    }\n",
       "\n",
       "    .dataframe thead th {\n",
       "        text-align: right;\n",
       "    }\n",
       "</style>\n",
       "<table border=\"1\" class=\"dataframe\">\n",
       "  <thead>\n",
       "    <tr style=\"text-align: right;\">\n",
       "      <th></th>\n",
       "      <th>Actual</th>\n",
       "      <th>Predicted</th>\n",
       "    </tr>\n",
       "    <tr>\n",
       "      <th>Date</th>\n",
       "      <th></th>\n",
       "      <th></th>\n",
       "    </tr>\n",
       "  </thead>\n",
       "  <tbody>\n",
       "    <tr>\n",
       "      <th>2021-08-09</th>\n",
       "      <td>118.209999</td>\n",
       "      <td>72.348686</td>\n",
       "    </tr>\n",
       "    <tr>\n",
       "      <th>2021-08-10</th>\n",
       "      <td>118.220001</td>\n",
       "      <td>72.374352</td>\n",
       "    </tr>\n",
       "    <tr>\n",
       "      <th>2021-08-11</th>\n",
       "      <td>116.360001</td>\n",
       "      <td>72.398895</td>\n",
       "    </tr>\n",
       "    <tr>\n",
       "      <th>2021-08-12</th>\n",
       "      <td>115.989998</td>\n",
       "      <td>72.410446</td>\n",
       "    </tr>\n",
       "    <tr>\n",
       "      <th>2021-08-13</th>\n",
       "      <td>115.699997</td>\n",
       "      <td>72.409721</td>\n",
       "    </tr>\n",
       "  </tbody>\n",
       "</table>\n",
       "</div>"
      ],
      "text/plain": [
       "                Actual  Predicted\n",
       "Date                             \n",
       "2021-08-09  118.209999  72.348686\n",
       "2021-08-10  118.220001  72.374352\n",
       "2021-08-11  116.360001  72.398895\n",
       "2021-08-12  115.989998  72.410446\n",
       "2021-08-13  115.699997  72.409721"
      ]
     },
     "execution_count": 19,
     "metadata": {},
     "output_type": "execute_result"
    }
   ],
   "source": [
    "actual_predicted.tail()"
   ]
  },
  {
   "cell_type": "code",
   "execution_count": 20,
   "id": "59043743-2a57-4c2c-aed1-2456d772d312",
   "metadata": {},
   "outputs": [
    {
     "data": {
      "image/png": "[encoded data removed]",
      "text/plain": [
       "<Figure size 1440x720 with 1 Axes>"
      ]
     },
     "metadata": {
      "needs_background": "light"
     },
     "output_type": "display_data"
    }
   ],
   "source": [
    "actual_predicted.plot(figsize=(20,10))\n",
    "plt.title('$(Stock) Stock Price Actual and Predicted (10/12/2017 - 08/13/2021)')\n",
    "plt.xlabel('Year')\n",
    "plt.ylabel('Stock Price per Share (in USD)')\n",
    "plt.legend(loc=\"best\")\n",
    "plt.show()"
   ]
  },
  {
   "cell_type": "code",
   "execution_count": null,
   "id": "c9f3b869-bc70-4bb1-a214-cca9a5aefaf9",
   "metadata": {},
   "outputs": [],
   "source": []
  }
 ],
 "metadata": {
  "kernelspec": {
   "display_name": "Python 3",
   "language": "python",
   "name": "python3"
  },
  "language_info": {
   "codemirror_mode": {
    "name": "ipython",
    "version": 3
   },
   "file_extension": ".py",
   "mimetype": "text/x-python",
   "name": "python",
   "nbconvert_exporter": "python",
   "pygments_lexer": "ipython3",
   "version": "3.8.10"
  }
 },
 "nbformat": 4,
 "nbformat_minor": 5
}
