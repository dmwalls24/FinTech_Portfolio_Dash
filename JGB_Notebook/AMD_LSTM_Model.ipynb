{
 "cells": [
  {
   "cell_type": "code",
   "execution_count": 1,
   "id": "0d7cf3b1-fa87-4fab-8f72-7ce6eb27001c",
   "metadata": {},
   "outputs": [],
   "source": [
    "import os\n",
    "import numpy as np\n",
    "import pandas as pd\n",
    "import matplotlib.pyplot as plt\n",
    "import alpaca_trade_api as tradeapi\n",
    "from pathlib import Path\n",
    "import requests\n",
    "\n",
    "%matplotlib inline"
   ]
  },
  {
   "cell_type": "code",
   "execution_count": 2,
   "id": "09a5fc4d-e02f-4ec1-9ddb-49613b9a9da3",
   "metadata": {},
   "outputs": [
    {
     "name": "stdout",
     "output_type": "stream",
     "text": [
      "/Users/josephbarry/Desktop/FinTech_Class/3rd_Project/FinTech_Portfolio_Dash/JGB_Notebook\n"
     ]
    }
   ],
   "source": [
    "!pwd"
   ]
  },
  {
   "cell_type": "code",
   "execution_count": 3,
   "id": "55b541bb-a865-482f-8627-417f75419718",
   "metadata": {},
   "outputs": [
    {
     "data": {
      "text/html": [
       "<div>\n",
       "<style scoped>\n",
       "    .dataframe tbody tr th:only-of-type {\n",
       "        vertical-align: middle;\n",
       "    }\n",
       "\n",
       "    .dataframe tbody tr th {\n",
       "        vertical-align: top;\n",
       "    }\n",
       "\n",
       "    .dataframe thead th {\n",
       "        text-align: right;\n",
       "    }\n",
       "</style>\n",
       "<table border=\"1\" class=\"dataframe\">\n",
       "  <thead>\n",
       "    <tr style=\"text-align: right;\">\n",
       "      <th></th>\n",
       "      <th>Open</th>\n",
       "      <th>High</th>\n",
       "      <th>Low</th>\n",
       "      <th>Close</th>\n",
       "      <th>Adj Close</th>\n",
       "      <th>Volume</th>\n",
       "    </tr>\n",
       "    <tr>\n",
       "      <th>Date</th>\n",
       "      <th></th>\n",
       "      <th></th>\n",
       "      <th></th>\n",
       "      <th></th>\n",
       "      <th></th>\n",
       "      <th></th>\n",
       "    </tr>\n",
       "  </thead>\n",
       "  <tbody>\n",
       "    <tr>\n",
       "      <th>2011-08-16</th>\n",
       "      <td>6.36</td>\n",
       "      <td>6.43</td>\n",
       "      <td>6.18</td>\n",
       "      <td>6.34</td>\n",
       "      <td>6.34</td>\n",
       "      <td>16355700</td>\n",
       "    </tr>\n",
       "    <tr>\n",
       "      <th>2011-08-17</th>\n",
       "      <td>6.41</td>\n",
       "      <td>6.47</td>\n",
       "      <td>6.08</td>\n",
       "      <td>6.14</td>\n",
       "      <td>6.14</td>\n",
       "      <td>15248500</td>\n",
       "    </tr>\n",
       "    <tr>\n",
       "      <th>2011-08-18</th>\n",
       "      <td>5.90</td>\n",
       "      <td>5.96</td>\n",
       "      <td>5.64</td>\n",
       "      <td>5.79</td>\n",
       "      <td>5.79</td>\n",
       "      <td>27200300</td>\n",
       "    </tr>\n",
       "    <tr>\n",
       "      <th>2011-08-19</th>\n",
       "      <td>5.72</td>\n",
       "      <td>6.09</td>\n",
       "      <td>5.71</td>\n",
       "      <td>5.98</td>\n",
       "      <td>5.98</td>\n",
       "      <td>37995200</td>\n",
       "    </tr>\n",
       "    <tr>\n",
       "      <th>2011-08-22</th>\n",
       "      <td>6.13</td>\n",
       "      <td>6.18</td>\n",
       "      <td>5.95</td>\n",
       "      <td>6.05</td>\n",
       "      <td>6.05</td>\n",
       "      <td>18433500</td>\n",
       "    </tr>\n",
       "  </tbody>\n",
       "</table>\n",
       "</div>"
      ],
      "text/plain": [
       "            Open  High   Low  Close  Adj Close    Volume\n",
       "Date                                                    \n",
       "2011-08-16  6.36  6.43  6.18   6.34       6.34  16355700\n",
       "2011-08-17  6.41  6.47  6.08   6.14       6.14  15248500\n",
       "2011-08-18  5.90  5.96  5.64   5.79       5.79  27200300\n",
       "2011-08-19  5.72  6.09  5.71   5.98       5.98  37995200\n",
       "2011-08-22  6.13  6.18  5.95   6.05       6.05  18433500"
      ]
     },
     "execution_count": 3,
     "metadata": {},
     "output_type": "execute_result"
    }
   ],
   "source": [
    "csvpath = Path(\"AMD.csv\")\n",
    "\n",
    "amd_df = pd.read_csv(csvpath, index_col='Date', infer_datetime_format=True, parse_dates=True)\n",
    "amd_df.head()"
   ]
  },
  {
   "cell_type": "code",
   "execution_count": 4,
   "id": "3127ce6d-c27a-4f23-aa28-8451874b908f",
   "metadata": {},
   "outputs": [
    {
     "data": {
      "text/html": [
       "<div>\n",
       "<style scoped>\n",
       "    .dataframe tbody tr th:only-of-type {\n",
       "        vertical-align: middle;\n",
       "    }\n",
       "\n",
       "    .dataframe tbody tr th {\n",
       "        vertical-align: top;\n",
       "    }\n",
       "\n",
       "    .dataframe thead th {\n",
       "        text-align: right;\n",
       "    }\n",
       "</style>\n",
       "<table border=\"1\" class=\"dataframe\">\n",
       "  <thead>\n",
       "    <tr style=\"text-align: right;\">\n",
       "      <th></th>\n",
       "      <th>Close</th>\n",
       "    </tr>\n",
       "    <tr>\n",
       "      <th>Date</th>\n",
       "      <th></th>\n",
       "    </tr>\n",
       "  </thead>\n",
       "  <tbody>\n",
       "    <tr>\n",
       "      <th>2011-08-16</th>\n",
       "      <td>6.340000</td>\n",
       "    </tr>\n",
       "    <tr>\n",
       "      <th>2011-08-17</th>\n",
       "      <td>6.140000</td>\n",
       "    </tr>\n",
       "    <tr>\n",
       "      <th>2011-08-18</th>\n",
       "      <td>5.790000</td>\n",
       "    </tr>\n",
       "    <tr>\n",
       "      <th>2011-08-19</th>\n",
       "      <td>5.980000</td>\n",
       "    </tr>\n",
       "    <tr>\n",
       "      <th>2011-08-22</th>\n",
       "      <td>6.050000</td>\n",
       "    </tr>\n",
       "    <tr>\n",
       "      <th>...</th>\n",
       "      <td>...</td>\n",
       "    </tr>\n",
       "    <tr>\n",
       "      <th>2021-08-09</th>\n",
       "      <td>107.580002</td>\n",
       "    </tr>\n",
       "    <tr>\n",
       "      <th>2021-08-10</th>\n",
       "      <td>106.480003</td>\n",
       "    </tr>\n",
       "    <tr>\n",
       "      <th>2021-08-11</th>\n",
       "      <td>107.680000</td>\n",
       "    </tr>\n",
       "    <tr>\n",
       "      <th>2021-08-12</th>\n",
       "      <td>106.500000</td>\n",
       "    </tr>\n",
       "    <tr>\n",
       "      <th>2021-08-13</th>\n",
       "      <td>110.550003</td>\n",
       "    </tr>\n",
       "  </tbody>\n",
       "</table>\n",
       "<p>2516 rows × 1 columns</p>\n",
       "</div>"
      ],
      "text/plain": [
       "                 Close\n",
       "Date                  \n",
       "2011-08-16    6.340000\n",
       "2011-08-17    6.140000\n",
       "2011-08-18    5.790000\n",
       "2011-08-19    5.980000\n",
       "2011-08-22    6.050000\n",
       "...                ...\n",
       "2021-08-09  107.580002\n",
       "2021-08-10  106.480003\n",
       "2021-08-11  107.680000\n",
       "2021-08-12  106.500000\n",
       "2021-08-13  110.550003\n",
       "\n",
       "[2516 rows x 1 columns]"
      ]
     },
     "execution_count": 4,
     "metadata": {},
     "output_type": "execute_result"
    }
   ],
   "source": [
    "amd_df = amd_df[['Close']]\n",
    "amd_df"
   ]
  },
  {
   "cell_type": "code",
   "execution_count": 5,
   "id": "1ec6bd4e-db1f-47ba-ae91-f2a8771bc4be",
   "metadata": {},
   "outputs": [],
   "source": [
    "def window_data(df, window, feature_col_number, target_col_number):\n",
    "    X = []\n",
    "    y = []\n",
    "    for i in range(len(df) - window- 1):\n",
    "        features = df.iloc[i : (i + window), feature_col_number]\n",
    "        target = df.iloc[(i + window), target_col_number]\n",
    "        X.append(features)\n",
    "        y.append(target)\n",
    "    return np.array(X), np.array(y).reshape(-1, 1)"
   ]
  },
  {
   "cell_type": "code",
   "execution_count": 6,
   "id": "9f647973-d333-498a-a651-6120c5fadf52",
   "metadata": {},
   "outputs": [
    {
     "name": "stdout",
     "output_type": "stream",
     "text": [
      "X sample values:\n",
      "[[6.34 6.14 5.79 5.98 6.05 6.5  6.34 6.37 6.49 6.83 6.84 6.83 6.68 6.32\n",
      "  6.27 6.76 6.81 6.52 6.71 6.96 7.21 7.34 7.2  6.92 6.74 6.48 6.12 6.17\n",
      "  6.4  6.49 6.15 5.31 5.08 4.53 4.72 4.83 4.85 4.73 4.84 4.86 4.93 4.97\n",
      "  4.92 4.67 4.83 4.73 4.54 4.72 5.06 4.91 5.1  5.54 5.94 5.83 5.3  5.46\n",
      "  5.73 5.67 5.68 5.75 5.38 5.66 5.95 5.79 5.76 5.68 5.44 5.47 5.42 5.3\n",
      "  5.05 4.99 5.3  5.32 5.69 5.7  5.65 5.76 5.66 5.72 5.47 5.54 5.3  5.18\n",
      "  5.07 5.04 5.13 4.86 5.19 5.08 5.45 5.41 5.38 5.28 5.34 5.4  5.48 5.46\n",
      "  5.46 5.43]\n",
      " [6.14 5.79 5.98 6.05 6.5  6.34 6.37 6.49 6.83 6.84 6.83 6.68 6.32 6.27\n",
      "  6.76 6.81 6.52 6.71 6.96 7.21 7.34 7.2  6.92 6.74 6.48 6.12 6.17 6.4\n",
      "  6.49 6.15 5.31 5.08 4.53 4.72 4.83 4.85 4.73 4.84 4.86 4.93 4.97 4.92\n",
      "  4.67 4.83 4.73 4.54 4.72 5.06 4.91 5.1  5.54 5.94 5.83 5.3  5.46 5.73\n",
      "  5.67 5.68 5.75 5.38 5.66 5.95 5.79 5.76 5.68 5.44 5.47 5.42 5.3  5.05\n",
      "  4.99 5.3  5.32 5.69 5.7  5.65 5.76 5.66 5.72 5.47 5.54 5.3  5.18 5.07\n",
      "  5.04 5.13 4.86 5.19 5.08 5.45 5.41 5.38 5.28 5.34 5.4  5.48 5.46 5.46\n",
      "  5.43 5.59]\n",
      " [5.79 5.98 6.05 6.5  6.34 6.37 6.49 6.83 6.84 6.83 6.68 6.32 6.27 6.76\n",
      "  6.81 6.52 6.71 6.96 7.21 7.34 7.2  6.92 6.74 6.48 6.12 6.17 6.4  6.49\n",
      "  6.15 5.31 5.08 4.53 4.72 4.83 4.85 4.73 4.84 4.86 4.93 4.97 4.92 4.67\n",
      "  4.83 4.73 4.54 4.72 5.06 4.91 5.1  5.54 5.94 5.83 5.3  5.46 5.73 5.67\n",
      "  5.68 5.75 5.38 5.66 5.95 5.79 5.76 5.68 5.44 5.47 5.42 5.3  5.05 4.99\n",
      "  5.3  5.32 5.69 5.7  5.65 5.76 5.66 5.72 5.47 5.54 5.3  5.18 5.07 5.04\n",
      "  5.13 4.86 5.19 5.08 5.45 5.41 5.38 5.28 5.34 5.4  5.48 5.46 5.46 5.43\n",
      "  5.59 5.71]] \n",
      "\n",
      "y sample values:\n",
      "[[5.59]\n",
      " [5.71]\n",
      " [5.81]]\n"
     ]
    }
   ],
   "source": [
    "window_size = 100\n",
    "feature_column = 0 # why 0?\n",
    "target_column = 0 # Why 0?\n",
    "\n",
    "X, y = window_data(amd_df, window_size, feature_column, target_column)\n",
    "\n",
    "print (f\"X sample values:\\n{X[:3]} \\n\")\n",
    "print (f\"y sample values:\\n{y[:3]}\")"
   ]
  },
  {
   "cell_type": "code",
   "execution_count": 7,
   "id": "edd09334-5b5d-4bd5-bd19-4768dda661d6",
   "metadata": {},
   "outputs": [],
   "source": [
    "split = int(0.6 * len(X))\n",
    "\n",
    "X_train = X[: split]\n",
    "X_test = X[split:]\n",
    "\n",
    "y_train = y[: split]\n",
    "y_test = y[split:]"
   ]
  },
  {
   "cell_type": "code",
   "execution_count": 8,
   "id": "f008d22e-1188-4999-942b-624ca93525e9",
   "metadata": {},
   "outputs": [],
   "source": [
    "# Importing the MinMaxScaler from sklearn\n",
    "from sklearn.preprocessing import MinMaxScaler\n",
    "\n",
    "x_train_scaler = MinMaxScaler()\n",
    "#x_test_scaler = MinMaxScaler()\n",
    "y_train_scaler = MinMaxScaler()\n",
    "#y_test_scaler = MinMaxScaler()\n",
    "\n",
    "# Fit the scaler for the training Data\n",
    "x_train_scaler.fit(X_train)\n",
    "y_train_scaler.fit(y_train)\n",
    "\n",
    "# Scale the training data\n",
    "X_train = x_train_scaler.transform(X_train)\n",
    "y_train = y_train_scaler.transform(y_train)\n",
    "\n",
    "# Fit the scaler for the testing Data\n",
    "#x_test_scaler.fit(X_test)\n",
    "#y_test_scaler.fit(y_test)\n",
    "\n",
    "# Scale the y_test data\n",
    "X_test = x_train_scaler.transform(X_test)\n",
    "y_test = y_train_scaler.transform(y_test)"
   ]
  },
  {
   "cell_type": "code",
   "execution_count": 9,
   "id": "43dfebe7-b64b-419c-8661-6aa024568bec",
   "metadata": {},
   "outputs": [],
   "source": [
    "# Reshape the features data\n",
    "X_train = X_train.reshape((X_train.shape[0], X_train.shape[1], 1))\n",
    "X_test = X_test.reshape((X_test.shape[0], X_test.shape[1], 1))"
   ]
  },
  {
   "cell_type": "code",
   "execution_count": 10,
   "id": "ff997e88-854c-4d72-941d-04da553f9fec",
   "metadata": {},
   "outputs": [],
   "source": [
    "# Importing required Keras modules\n",
    "from tensorflow.keras.models import Sequential\n",
    "from tensorflow.keras.layers import LSTM, Dense, Dropout"
   ]
  },
  {
   "cell_type": "code",
   "execution_count": 11,
   "id": "8953e91a-6037-4a59-bab2-99237471dcbc",
   "metadata": {},
   "outputs": [],
   "source": [
    "# Define the LSTM RNN model.\n",
    "model = Sequential()\n",
    "\n",
    "# Initial model setup\n",
    "number_units = window_size\n",
    "# 20% of neurons to be dropped out\n",
    "dropout_fraction = 0.2\n",
    "\n",
    "# Layer 1\n",
    "model.add(LSTM(\n",
    "    units=number_units,\n",
    "    return_sequences=True,\n",
    "    input_shape=(X_train.shape[1], 1))\n",
    "    )\n",
    "model.add(Dropout(dropout_fraction))\n",
    "\n",
    "# Layer 2\n",
    "model.add(LSTM(units=number_units, return_sequences=True))\n",
    "model.add(Dropout(dropout_fraction))\n",
    "\n",
    "# Layer 3\n",
    "model.add(LSTM(units=number_units))\n",
    "model.add(Dropout(dropout_fraction))\n",
    "\n",
    "# Output layer\n",
    "model.add(Dense(1))"
   ]
  },
  {
   "cell_type": "code",
   "execution_count": 12,
   "id": "e4579727-a456-47b7-9658-508f368c4e0c",
   "metadata": {},
   "outputs": [
    {
     "name": "stdout",
     "output_type": "stream",
     "text": [
      "Model: \"sequential\"\n",
      "_________________________________________________________________\n",
      "Layer (type)                 Output Shape              Param #   \n",
      "=================================================================\n",
      "lstm (LSTM)                  (None, 100, 100)          40800     \n",
      "_________________________________________________________________\n",
      "dropout (Dropout)            (None, 100, 100)          0         \n",
      "_________________________________________________________________\n",
      "lstm_1 (LSTM)                (None, 100, 100)          80400     \n",
      "_________________________________________________________________\n",
      "dropout_1 (Dropout)          (None, 100, 100)          0         \n",
      "_________________________________________________________________\n",
      "lstm_2 (LSTM)                (None, 100)               80400     \n",
      "_________________________________________________________________\n",
      "dropout_2 (Dropout)          (None, 100)               0         \n",
      "_________________________________________________________________\n",
      "dense (Dense)                (None, 1)                 101       \n",
      "=================================================================\n",
      "Total params: 201,701\n",
      "Trainable params: 201,701\n",
      "Non-trainable params: 0\n",
      "_________________________________________________________________\n"
     ]
    }
   ],
   "source": [
    "model.compile(optimizer=\"adam\", loss=\"mean_squared_error\")\n",
    "model.summary()"
   ]
  },
  {
   "cell_type": "code",
   "execution_count": 13,
   "id": "c6857fe5-88c9-47e2-abd5-af8228464bcc",
   "metadata": {},
   "outputs": [
    {
     "name": "stdout",
     "output_type": "stream",
     "text": [
      "Epoch 1/20\n",
      "15/15 [==============================] - 1s 76ms/step - loss: 0.0479\n",
      "Epoch 2/20\n",
      "15/15 [==============================] - 1s 74ms/step - loss: 0.0290\n",
      "Epoch 3/20\n",
      "15/15 [==============================] - 1s 74ms/step - loss: 0.0210\n",
      "Epoch 4/20\n",
      "15/15 [==============================] - 1s 77ms/step - loss: 0.0368\n",
      "Epoch 5/20\n",
      "15/15 [==============================] - 1s 72ms/step - loss: 0.0274\n",
      "Epoch 6/20\n",
      "15/15 [==============================] - 1s 74ms/step - loss: 0.0273\n",
      "Epoch 7/20\n",
      "15/15 [==============================] - 1s 73ms/step - loss: 0.0171\n",
      "Epoch 8/20\n",
      "15/15 [==============================] - 1s 72ms/step - loss: 0.0247\n",
      "Epoch 9/20\n",
      "15/15 [==============================] - 1s 75ms/step - loss: 0.0277\n",
      "Epoch 10/20\n",
      "15/15 [==============================] - 1s 72ms/step - loss: 0.0314\n",
      "Epoch 11/20\n",
      "15/15 [==============================] - 1s 72ms/step - loss: 0.0071\n",
      "Epoch 12/20\n",
      "15/15 [==============================] - 1s 71ms/step - loss: 0.0119\n",
      "Epoch 13/20\n",
      "15/15 [==============================] - 1s 75ms/step - loss: 0.0112\n",
      "Epoch 14/20\n",
      "15/15 [==============================] - 1s 73ms/step - loss: 0.0080\n",
      "Epoch 15/20\n",
      "15/15 [==============================] - 1s 71ms/step - loss: 0.0041\n",
      "Epoch 16/20\n",
      "15/15 [==============================] - 1s 72ms/step - loss: 0.0024\n",
      "Epoch 17/20\n",
      "15/15 [==============================] - 1s 74ms/step - loss: 0.0030\n",
      "Epoch 18/20\n",
      "15/15 [==============================] - 1s 75ms/step - loss: 0.0025\n",
      "Epoch 19/20\n",
      "15/15 [==============================] - 1s 73ms/step - loss: 0.0033\n",
      "Epoch 20/20\n",
      "15/15 [==============================] - 1s 75ms/step - loss: 0.0022\n"
     ]
    },
    {
     "data": {
      "text/plain": [
       "<tensorflow.python.keras.callbacks.History at 0x17be719a0>"
      ]
     },
     "execution_count": 13,
     "metadata": {},
     "output_type": "execute_result"
    }
   ],
   "source": [
    "model.fit(X_train, y_train, epochs=20, shuffle=False, batch_size=100, verbose=1)"
   ]
  },
  {
   "cell_type": "code",
   "execution_count": 14,
   "id": "382402cd-0cf2-4612-9117-1acf5fa59714",
   "metadata": {},
   "outputs": [
    {
     "data": {
      "text/plain": [
       "5.557770729064941"
      ]
     },
     "execution_count": 14,
     "metadata": {},
     "output_type": "execute_result"
    }
   ],
   "source": [
    "model.evaluate(X_test, y_test, verbose=0)"
   ]
  },
  {
   "cell_type": "code",
   "execution_count": 15,
   "id": "6e133a3f-3b65-41b0-abee-9971717be5a0",
   "metadata": {},
   "outputs": [],
   "source": [
    "predicted = model.predict(X_test)"
   ]
  },
  {
   "cell_type": "code",
   "execution_count": 16,
   "id": "6b15c3c2-86b3-45db-9d1e-60cdaaf645c6",
   "metadata": {},
   "outputs": [],
   "source": [
    "predicted_prices = y_train_scaler.inverse_transform(predicted)"
   ]
  },
  {
   "cell_type": "code",
   "execution_count": 17,
   "id": "a10f4566-2365-4d06-85e4-50f5b2ca0dfc",
   "metadata": {},
   "outputs": [],
   "source": [
    "real_prices = y_train_scaler.inverse_transform(y_test.reshape(-1,1))"
   ]
  },
  {
   "cell_type": "code",
   "execution_count": 18,
   "id": "7537f8f8-d2ab-48f8-b3bd-9886a429f1f2",
   "metadata": {},
   "outputs": [
    {
     "data": {
      "text/html": [
       "<div>\n",
       "<style scoped>\n",
       "    .dataframe tbody tr th:only-of-type {\n",
       "        vertical-align: middle;\n",
       "    }\n",
       "\n",
       "    .dataframe tbody tr th {\n",
       "        vertical-align: top;\n",
       "    }\n",
       "\n",
       "    .dataframe thead th {\n",
       "        text-align: right;\n",
       "    }\n",
       "</style>\n",
       "<table border=\"1\" class=\"dataframe\">\n",
       "  <thead>\n",
       "    <tr style=\"text-align: right;\">\n",
       "      <th></th>\n",
       "      <th>Actual</th>\n",
       "      <th>Predicted</th>\n",
       "    </tr>\n",
       "    <tr>\n",
       "      <th>Date</th>\n",
       "      <th></th>\n",
       "      <th></th>\n",
       "    </tr>\n",
       "  </thead>\n",
       "  <tbody>\n",
       "    <tr>\n",
       "      <th>2017-10-12</th>\n",
       "      <td>13.88</td>\n",
       "      <td>13.656724</td>\n",
       "    </tr>\n",
       "    <tr>\n",
       "      <th>2017-10-13</th>\n",
       "      <td>14.20</td>\n",
       "      <td>13.707510</td>\n",
       "    </tr>\n",
       "    <tr>\n",
       "      <th>2017-10-16</th>\n",
       "      <td>14.22</td>\n",
       "      <td>13.771003</td>\n",
       "    </tr>\n",
       "    <tr>\n",
       "      <th>2017-10-17</th>\n",
       "      <td>14.26</td>\n",
       "      <td>13.845561</td>\n",
       "    </tr>\n",
       "    <tr>\n",
       "      <th>2017-10-18</th>\n",
       "      <td>14.16</td>\n",
       "      <td>13.928072</td>\n",
       "    </tr>\n",
       "  </tbody>\n",
       "</table>\n",
       "</div>"
      ],
      "text/plain": [
       "            Actual  Predicted\n",
       "Date                         \n",
       "2017-10-12   13.88  13.656724\n",
       "2017-10-13   14.20  13.707510\n",
       "2017-10-16   14.22  13.771003\n",
       "2017-10-17   14.26  13.845561\n",
       "2017-10-18   14.16  13.928072"
      ]
     },
     "execution_count": 18,
     "metadata": {},
     "output_type": "execute_result"
    }
   ],
   "source": [
    "amd_actual_predicted = pd.DataFrame({\n",
    "    \"Actual\": real_prices.ravel(),\n",
    "    \"Predicted\": predicted_prices.ravel()\n",
    "}, index =amd_df.index[-len(real_prices): ]) \n",
    "\n",
    "# Show the DataFrame's head\n",
    "amd_actual_predicted.head()"
   ]
  },
  {
   "cell_type": "code",
   "execution_count": 19,
   "id": "94d0647f-6760-4b81-b704-da8c458a3495",
   "metadata": {},
   "outputs": [
    {
     "data": {
      "text/html": [
       "<div>\n",
       "<style scoped>\n",
       "    .dataframe tbody tr th:only-of-type {\n",
       "        vertical-align: middle;\n",
       "    }\n",
       "\n",
       "    .dataframe tbody tr th {\n",
       "        vertical-align: top;\n",
       "    }\n",
       "\n",
       "    .dataframe thead th {\n",
       "        text-align: right;\n",
       "    }\n",
       "</style>\n",
       "<table border=\"1\" class=\"dataframe\">\n",
       "  <thead>\n",
       "    <tr style=\"text-align: right;\">\n",
       "      <th></th>\n",
       "      <th>Actual</th>\n",
       "      <th>Predicted</th>\n",
       "    </tr>\n",
       "    <tr>\n",
       "      <th>Date</th>\n",
       "      <th></th>\n",
       "      <th></th>\n",
       "    </tr>\n",
       "  </thead>\n",
       "  <tbody>\n",
       "    <tr>\n",
       "      <th>2021-08-09</th>\n",
       "      <td>110.110001</td>\n",
       "      <td>28.555149</td>\n",
       "    </tr>\n",
       "    <tr>\n",
       "      <th>2021-08-10</th>\n",
       "      <td>107.580002</td>\n",
       "      <td>28.585344</td>\n",
       "    </tr>\n",
       "    <tr>\n",
       "      <th>2021-08-11</th>\n",
       "      <td>106.480003</td>\n",
       "      <td>28.609726</td>\n",
       "    </tr>\n",
       "    <tr>\n",
       "      <th>2021-08-12</th>\n",
       "      <td>107.680000</td>\n",
       "      <td>28.628660</td>\n",
       "    </tr>\n",
       "    <tr>\n",
       "      <th>2021-08-13</th>\n",
       "      <td>106.500000</td>\n",
       "      <td>28.644104</td>\n",
       "    </tr>\n",
       "  </tbody>\n",
       "</table>\n",
       "</div>"
      ],
      "text/plain": [
       "                Actual  Predicted\n",
       "Date                             \n",
       "2021-08-09  110.110001  28.555149\n",
       "2021-08-10  107.580002  28.585344\n",
       "2021-08-11  106.480003  28.609726\n",
       "2021-08-12  107.680000  28.628660\n",
       "2021-08-13  106.500000  28.644104"
      ]
     },
     "execution_count": 19,
     "metadata": {},
     "output_type": "execute_result"
    }
   ],
   "source": [
    "amd_actual_predicted.tail()"
   ]
  },
  {
   "cell_type": "code",
   "execution_count": 20,
   "id": "a6fa08a5-1322-4c2a-9ea9-d66122e0345e",
   "metadata": {},
   "outputs": [
    {
     "data": {
      "image/png": "[encoded data removed]",
      "text/plain": [
       "<Figure size 1440x720 with 1 Axes>"
      ]
     },
     "metadata": {
      "needs_background": "light"
     },
     "output_type": "display_data"
    }
   ],
   "source": [
    "amd_actual_predicted.plot(figsize=(20,10))\n",
    "plt.title('$AMD Stock Price Actual and Predicted (10/12/2017 - 08/13/2021)')\n",
    "plt.xlabel('Year')\n",
    "plt.ylabel('Stock Price per Share (in USD)')\n",
    "plt.legend(loc=\"best\")\n",
    "plt.show()"
   ]
  },
  {
   "cell_type": "code",
   "execution_count": null,
   "id": "c169490d-b04b-45e3-8034-5f249860d63a",
   "metadata": {},
   "outputs": [],
   "source": []
  }
 ],
 "metadata": {
  "kernelspec": {
   "display_name": "Python 3",
   "language": "python",
   "name": "python3"
  },
  "language_info": {
   "codemirror_mode": {
    "name": "ipython",
    "version": 3
   },
   "file_extension": ".py",
   "mimetype": "text/x-python",
   "name": "python",
   "nbconvert_exporter": "python",
   "pygments_lexer": "ipython3",
   "version": "3.8.10"
  }
 },
 "nbformat": 4,
 "nbformat_minor": 5
}
