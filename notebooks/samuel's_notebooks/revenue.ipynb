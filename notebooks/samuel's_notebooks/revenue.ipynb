{
 "cells": [
  {
   "cell_type": "code",
   "execution_count": 30,
   "metadata": {},
   "outputs": [],
   "source": [
    "import requests\n",
    "import pandas as pd\n",
    "from dotenv import load_dotenv\n",
    "import plotly.express as px\n",
    "import panel as pn\n",
    "import alpaca_trade_api as tradeapi\n",
    "import numpy as np\n",
    "import datetime as dt\n",
    "from pathlib import Path\n",
    "import os\n",
    "import csv\n",
    "import hvplot.pandas\n",
    "import datetime as dt\n",
    "import matplotlib.pyplot as plt\n",
    "%matplotlib inline"
   ]
  },
  {
   "cell_type": "code",
   "execution_count": 31,
   "metadata": {},
   "outputs": [],
   "source": [
    "pn.extension('plotly')"
   ]
  },
  {
   "cell_type": "code",
   "execution_count": 22,
   "metadata": {},
   "outputs": [],
   "source": [
    "revenue_2017 = {\"2017 (in B)\": [13.094,2.214,1.217]}\n",
    "revenue_2018 = {\"2018 (in B) \": [15.451,3.298,1.440]}\n",
    "revenue_2019 = {\"2019 (in B) \": [17.772,4.714,2.296]}\n",
    "revenue_2020 = {\"2020 (in B) \": [21.454,9.498,3.973]}\n",
    "companies = [\"PayPal\", \"Square\", \"Mercadolibre\"]"
   ]
  },
  {
   "cell_type": "code",
   "execution_count": 23,
   "metadata": {},
   "outputs": [],
   "source": [
    "net_income_2017 = {\"2017 (in B)\": [1.795,-0.063,-0.004]}\n",
    "net_income_2018 = {\"2018 (in B)\": [2.057,-0.038,-0.181]}\n",
    "net_income_2019 = {\"2019 (in B)\": [2.459,0.375, -0.037]}\n",
    "net_income_2020 = {\"2020 (in B)\": [4.202,0.213, 0.014]}"
   ]
  },
  {
   "cell_type": "code",
   "execution_count": 29,
   "metadata": {},
   "outputs": [
    {
     "data": {
      "text/html": "<div>\n<style scoped>\n    .dataframe tbody tr th:only-of-type {\n        vertical-align: middle;\n    }\n\n    .dataframe tbody tr th {\n        vertical-align: top;\n    }\n\n    .dataframe thead th {\n        text-align: right;\n    }\n</style>\n<table border=\"1\" class=\"dataframe\">\n  <thead>\n    <tr style=\"text-align: right;\">\n      <th></th>\n      <th>2017 (in B)</th>\n    </tr>\n  </thead>\n  <tbody>\n    <tr>\n      <th>PayPal</th>\n      <td>13.094</td>\n    </tr>\n    <tr>\n      <th>Square</th>\n      <td>2.214</td>\n    </tr>\n    <tr>\n      <th>Mercadolibre</th>\n      <td>1.217</td>\n    </tr>\n  </tbody>\n</table>\n</div>",
      "text/plain": "              2017 (in B)\nPayPal             13.094\nSquare              2.214\nMercadolibre        1.217"
     },
     "execution_count": 29,
     "metadata": {},
     "output_type": "execute_result"
    }
   ],
   "source": [
    "Revenue_2017 = pd.DataFrame(revenue_2017, index = companies)\n",
    "Revenue_2017"
   ]
  },
  {
   "cell_type": "code",
   "execution_count": 25,
   "metadata": {},
   "outputs": [
    {
     "data": {
      "text/html": "<div>\n<style scoped>\n    .dataframe tbody tr th:only-of-type {\n        vertical-align: middle;\n    }\n\n    .dataframe tbody tr th {\n        vertical-align: top;\n    }\n\n    .dataframe thead th {\n        text-align: right;\n    }\n</style>\n<table border=\"1\" class=\"dataframe\">\n  <thead>\n    <tr style=\"text-align: right;\">\n      <th></th>\n      <th>2018 (in B)</th>\n    </tr>\n  </thead>\n  <tbody>\n    <tr>\n      <th>PayPal</th>\n      <td>15.451</td>\n    </tr>\n    <tr>\n      <th>Square</th>\n      <td>3.298</td>\n    </tr>\n    <tr>\n      <th>Mercadolibre</th>\n      <td>1.440</td>\n    </tr>\n  </tbody>\n</table>\n</div>",
      "text/plain": "              2018 (in B) \nPayPal              15.451\nSquare               3.298\nMercadolibre         1.440"
     },
     "execution_count": 25,
     "metadata": {},
     "output_type": "execute_result"
    }
   ],
   "source": [
    "Revenue_2018 = pd.DataFrame(revenue_2018, index = companies)\n",
    "Revenue_2018"
   ]
  },
  {
   "cell_type": "code",
   "execution_count": 26,
   "metadata": {},
   "outputs": [
    {
     "data": {
      "text/html": "<div>\n<style scoped>\n    .dataframe tbody tr th:only-of-type {\n        vertical-align: middle;\n    }\n\n    .dataframe tbody tr th {\n        vertical-align: top;\n    }\n\n    .dataframe thead th {\n        text-align: right;\n    }\n</style>\n<table border=\"1\" class=\"dataframe\">\n  <thead>\n    <tr style=\"text-align: right;\">\n      <th></th>\n      <th>2019 (in B)</th>\n    </tr>\n  </thead>\n  <tbody>\n    <tr>\n      <th>PayPal</th>\n      <td>17.772</td>\n    </tr>\n    <tr>\n      <th>Square</th>\n      <td>4.714</td>\n    </tr>\n    <tr>\n      <th>Mercadolibre</th>\n      <td>2.296</td>\n    </tr>\n  </tbody>\n</table>\n</div>",
      "text/plain": "              2019 (in B) \nPayPal              17.772\nSquare               4.714\nMercadolibre         2.296"
     },
     "execution_count": 26,
     "metadata": {},
     "output_type": "execute_result"
    }
   ],
   "source": [
    "Revenue_2019 = pd.DataFrame(revenue_2019, index = companies)\n",
    "Revenue_2019"
   ]
  },
  {
   "cell_type": "code",
   "execution_count": 27,
   "metadata": {},
   "outputs": [
    {
     "data": {
      "text/html": "<div>\n<style scoped>\n    .dataframe tbody tr th:only-of-type {\n        vertical-align: middle;\n    }\n\n    .dataframe tbody tr th {\n        vertical-align: top;\n    }\n\n    .dataframe thead th {\n        text-align: right;\n    }\n</style>\n<table border=\"1\" class=\"dataframe\">\n  <thead>\n    <tr style=\"text-align: right;\">\n      <th></th>\n      <th>2020 (in B)</th>\n    </tr>\n  </thead>\n  <tbody>\n    <tr>\n      <th>PayPal</th>\n      <td>21.454</td>\n    </tr>\n    <tr>\n      <th>Square</th>\n      <td>9.498</td>\n    </tr>\n    <tr>\n      <th>Mercadolibre</th>\n      <td>3.973</td>\n    </tr>\n  </tbody>\n</table>\n</div>",
      "text/plain": "              2020 (in B) \nPayPal              21.454\nSquare               9.498\nMercadolibre         3.973"
     },
     "execution_count": 27,
     "metadata": {},
     "output_type": "execute_result"
    }
   ],
   "source": [
    "Revenue_2020 = pd.DataFrame(revenue_2020, index = companies)\n",
    "Revenue_2020"
   ]
  },
  {
   "cell_type": "code",
   "execution_count": 28,
   "metadata": {},
   "outputs": [
    {
     "data": {},
     "metadata": {},
     "output_type": "display_data"
    },
    {
     "data": {
      "application/vnd.holoviews_exec.v0+json": "",
      "text/html": "<div id='1195'>\n\n\n\n\n\n  <div class=\"bk-root\" id=\"070b1cf1-f0ee-4055-a041-856fe77fdbb4\" data-root-id=\"1195\"></div>\n</div>\n<script type=\"application/javascript\">(function(root) {\n  function embed_document(root) {\n  var docs_json = {\"04556bca-3a06-4138-be20-e33113fce723\":{\"roots\":{\"references\":[{\"attributes\":{\"overlay\":{\"id\":\"1221\"}},\"id\":\"1219\",\"type\":\"BoxZoomTool\"},{\"attributes\":{},\"id\":\"1220\",\"type\":\"ResetTool\"},{\"attributes\":{\"fill_alpha\":{\"value\":0.1},\"fill_color\":{\"field\":\"Variable\",\"transform\":{\"id\":\"1229\"}},\"line_alpha\":{\"value\":0.1},\"top\":{\"field\":\"value\"},\"width\":{\"value\":0.8},\"x\":{\"field\":\"xoffsets\"}},\"id\":\"1234\",\"type\":\"VBar\"},{\"attributes\":{\"fill_color\":{\"field\":\"Variable\",\"transform\":{\"id\":\"1229\"}},\"top\":{\"field\":\"value\"},\"width\":{\"value\":0.8},\"x\":{\"field\":\"xoffsets\"}},\"id\":\"1233\",\"type\":\"VBar\"},{\"attributes\":{\"fill_alpha\":{\"value\":0.2},\"fill_color\":{\"field\":\"Variable\",\"transform\":{\"id\":\"1229\"}},\"line_alpha\":{\"value\":0.2},\"top\":{\"field\":\"value\"},\"width\":{\"value\":0.8},\"x\":{\"field\":\"xoffsets\"}},\"id\":\"1235\",\"type\":\"VBar\"},{\"attributes\":{},\"id\":\"1231\",\"type\":\"Selection\"},{\"attributes\":{\"end\":23.477700000000002,\"reset_end\":23.477700000000002,\"reset_start\":0.0,\"tags\":[[[\"value\",\"value\",null]]]},\"id\":\"1198\",\"type\":\"Range1d\"},{\"attributes\":{\"data_source\":{\"id\":\"1230\"},\"glyph\":{\"id\":\"1233\"},\"hover_glyph\":null,\"muted_glyph\":{\"id\":\"1235\"},\"nonselection_glyph\":{\"id\":\"1234\"},\"selection_glyph\":null,\"view\":{\"id\":\"1237\"}},\"id\":\"1236\",\"type\":\"GlyphRenderer\"},{\"attributes\":{\"text\":\"Revenue 2017 - 2020\",\"text_color\":{\"value\":\"black\"},\"text_font_size\":{\"value\":\"12pt\"}},\"id\":\"1201\",\"type\":\"Title\"},{\"attributes\":{\"below\":[{\"id\":\"1209\"}],\"center\":[{\"id\":\"1211\"},{\"id\":\"1215\"}],\"left\":[{\"id\":\"1212\"}],\"margin\":null,\"min_border_bottom\":10,\"min_border_left\":10,\"min_border_right\":10,\"min_border_top\":10,\"plot_height\":300,\"plot_width\":1000,\"renderers\":[{\"id\":\"1236\"}],\"sizing_mode\":\"fixed\",\"title\":{\"id\":\"1201\"},\"toolbar\":{\"id\":\"1222\"},\"x_range\":{\"id\":\"1197\"},\"x_scale\":{\"id\":\"1205\"},\"y_range\":{\"id\":\"1198\"},\"y_scale\":{\"id\":\"1207\"}},\"id\":\"1200\",\"subtype\":\"Figure\",\"type\":\"Plot\"},{\"attributes\":{\"margin\":[5,5,5,5],\"name\":\"HSpacer01955\",\"sizing_mode\":\"stretch_width\"},\"id\":\"1250\",\"type\":\"Spacer\"},{\"attributes\":{\"source\":{\"id\":\"1230\"}},\"id\":\"1237\",\"type\":\"CDSView\"},{\"attributes\":{\"children\":[{\"id\":\"1196\"},{\"id\":\"1200\"},{\"id\":\"1250\"}],\"margin\":[0,0,0,0],\"name\":\"Row01950\",\"tags\":[\"embedded\"]},\"id\":\"1195\",\"type\":\"Row\"},{\"attributes\":{\"axis_label\":\"\",\"bounds\":\"auto\",\"formatter\":{\"id\":\"1240\"},\"major_label_orientation\":\"horizontal\",\"ticker\":{\"id\":\"1213\"}},\"id\":\"1212\",\"type\":\"LinearAxis\"},{\"attributes\":{},\"id\":\"1248\",\"type\":\"UnionRenderers\"},{\"attributes\":{\"bottom_units\":\"screen\",\"fill_alpha\":0.5,\"fill_color\":\"lightgrey\",\"left_units\":\"screen\",\"level\":\"overlay\",\"line_alpha\":1.0,\"line_color\":\"black\",\"line_dash\":[4,4],\"line_width\":2,\"render_mode\":\"css\",\"right_units\":\"screen\",\"top_units\":\"screen\"},\"id\":\"1221\",\"type\":\"BoxAnnotation\"},{\"attributes\":{\"callback\":null,\"renderers\":[{\"id\":\"1236\"}],\"tags\":[\"hv_created\"],\"tooltips\":[[\"index\",\"@{index}\"],[\"Variable\",\"@{Variable}\"],[\"value\",\"@{value}\"]]},\"id\":\"1199\",\"type\":\"HoverTool\"},{\"attributes\":{\"margin\":[5,5,5,5],\"name\":\"HSpacer01954\",\"sizing_mode\":\"stretch_width\"},\"id\":\"1196\",\"type\":\"Spacer\"},{\"attributes\":{\"factors\":[[\"PayPal\",\"2017 (in B)\"],[\"PayPal\",\"2018 (in B) \"],[\"PayPal\",\"2019 (in B) \"],[\"PayPal\",\"2020 (in B) \"],[\"Square\",\"2017 (in B)\"],[\"Square\",\"2018 (in B) \"],[\"Square\",\"2019 (in B) \"],[\"Square\",\"2020 (in B) \"],[\"Mercadolibre\",\"2017 (in B)\"],[\"Mercadolibre\",\"2018 (in B) \"],[\"Mercadolibre\",\"2019 (in B) \"],[\"Mercadolibre\",\"2020 (in B) \"]],\"tags\":[[[\"index\",\"index\",null],[\"Variable\",\"Variable\",null]]]},\"id\":\"1197\",\"type\":\"FactorRange\"},{\"attributes\":{},\"id\":\"1213\",\"type\":\"BasicTicker\"},{\"attributes\":{},\"id\":\"1205\",\"type\":\"CategoricalScale\"},{\"attributes\":{},\"id\":\"1210\",\"type\":\"CategoricalTicker\"},{\"attributes\":{\"axis_label\":\"\",\"bounds\":\"auto\",\"formatter\":{\"id\":\"1238\"},\"major_label_orientation\":\"horizontal\",\"ticker\":{\"id\":\"1210\"}},\"id\":\"1209\",\"type\":\"CategoricalAxis\"},{\"attributes\":{\"factors\":[\"2017 (in B)\",\"2018 (in B) \",\"2019 (in B) \",\"2020 (in B) \"],\"palette\":[\"#1f77b3\",\"#ff7e0e\",\"#2ba02b\",\"#d62628\"]},\"id\":\"1229\",\"type\":\"CategoricalColorMapper\"},{\"attributes\":{\"axis\":{\"id\":\"1209\"},\"grid_line_color\":null,\"ticker\":null},\"id\":\"1211\",\"type\":\"Grid\"},{\"attributes\":{\"axis\":{\"id\":\"1212\"},\"dimension\":1,\"grid_line_color\":null,\"ticker\":null},\"id\":\"1215\",\"type\":\"Grid\"},{\"attributes\":{},\"id\":\"1207\",\"type\":\"LinearScale\"},{\"attributes\":{},\"id\":\"1216\",\"type\":\"SaveTool\"},{\"attributes\":{\"active_drag\":\"auto\",\"active_inspect\":\"auto\",\"active_multi\":null,\"active_scroll\":\"auto\",\"active_tap\":\"auto\",\"tools\":[{\"id\":\"1199\"},{\"id\":\"1216\"},{\"id\":\"1217\"},{\"id\":\"1218\"},{\"id\":\"1219\"},{\"id\":\"1220\"}]},\"id\":\"1222\",\"type\":\"Toolbar\"},{\"attributes\":{},\"id\":\"1240\",\"type\":\"BasicTickFormatter\"},{\"attributes\":{},\"id\":\"1238\",\"type\":\"CategoricalTickFormatter\"},{\"attributes\":{},\"id\":\"1217\",\"type\":\"PanTool\"},{\"attributes\":{\"data\":{\"Variable\":[\"2017 (in B)\",\"2017 (in B)\",\"2017 (in B)\",\"2018 (in B) \",\"2018 (in B) \",\"2018 (in B) \",\"2019 (in B) \",\"2019 (in B) \",\"2019 (in B) \",\"2020 (in B) \",\"2020 (in B) \",\"2020 (in B) \"],\"index\":[\"PayPal\",\"Square\",\"Mercadolibre\",\"PayPal\",\"Square\",\"Mercadolibre\",\"PayPal\",\"Square\",\"Mercadolibre\",\"PayPal\",\"Square\",\"Mercadolibre\"],\"value\":{\"__ndarray__\":\"46WbxCAwKkCDwMqhRbYBQEa28/3UePM/9P3UeOnmLkD8qfHSTWIKQArXo3A9Cvc/EoPAyqHFMUBCYOXQItsSQJHtfD81XgJATmIQWDl0NUDl0CLb+f4iQGIQWDm0yA9A\",\"dtype\":\"float64\",\"shape\":[12]},\"xoffsets\":[[\"PayPal\",\"2017 (in B)\"],[\"Square\",\"2017 (in B)\"],[\"Mercadolibre\",\"2017 (in B)\"],[\"PayPal\",\"2018 (in B) \"],[\"Square\",\"2018 (in B) \"],[\"Mercadolibre\",\"2018 (in B) \"],[\"PayPal\",\"2019 (in B) \"],[\"Square\",\"2019 (in B) \"],[\"Mercadolibre\",\"2019 (in B) \"],[\"PayPal\",\"2020 (in B) \"],[\"Square\",\"2020 (in B) \"],[\"Mercadolibre\",\"2020 (in B) \"]]},\"selected\":{\"id\":\"1231\"},\"selection_policy\":{\"id\":\"1248\"}},\"id\":\"1230\",\"type\":\"ColumnDataSource\"},{\"attributes\":{},\"id\":\"1218\",\"type\":\"WheelZoomTool\"}],\"root_ids\":[\"1195\"]},\"title\":\"Bokeh Application\",\"version\":\"2.0.2\"}};\n  var render_items = [{\"docid\":\"04556bca-3a06-4138-be20-e33113fce723\",\"root_ids\":[\"1195\"],\"roots\":{\"1195\":\"070b1cf1-f0ee-4055-a041-856fe77fdbb4\"}}];\n  root.Bokeh.embed.embed_items_notebook(docs_json, render_items);\n  }\nif (root.Bokeh !== undefined) {\n    embed_document(root);\n  } else {\n    var attempts = 0;\n    var timer = setInterval(function(root) {\n      if (root.Bokeh !== undefined) {\n        clearInterval(timer);\n        embed_document(root);\n      } else if (document.readyState == \"complete\") {\n        attempts++;\n        if (attempts > 100) {\n          clearInterval(timer);\n          console.log(\"Bokeh: ERROR: Unable to run BokehJS code because BokehJS library is missing\");\n        }\n      }\n    }, 10, root)\n  }\n})(window);</script>",
      "text/plain": ":Bars   [index,Variable]   (value)"
     },
     "execution_count": 28,
     "metadata": {
      "application/vnd.holoviews_exec.v0+json": {
       "id": "1195"
      }
     },
     "output_type": "execute_result"
    }
   ],
   "source": [
    "revenue = pd.concat([Revenue_2017, Revenue_2018, Revenue_2019, Revenue_2020], axis = \"columns\", join=\"inner\")\n",
    "revenue.hvplot.bar(label = \"Revenue 2017 - 2020\", width = 1000)"
   ]
  },
  {
   "cell_type": "code",
   "execution_count": null,
   "metadata": {},
   "outputs": [],
   "source": []
  }
 ],
 "metadata": {
  "kernelspec": {
   "display_name": "Python 3.8.5 64-bit ('base': conda)",
   "metadata": {
    "interpreter": {
     "hash": "11ef2bb442b8455a3e6b82f3202efe5c7a01a00a0939705f79f87b65f8f45715"
    }
   },
   "name": "python3"
  },
  "language_info": {
   "codemirror_mode": {
    "name": "ipython",
    "version": 3
   },
   "file_extension": ".py",
   "mimetype": "text/x-python",
   "name": "python",
   "nbconvert_exporter": "python",
   "pygments_lexer": "ipython3",
   "version": "3.8.5"
  },
  "orig_nbformat": 2
 },
 "nbformat": 4,
 "nbformat_minor": 2
}